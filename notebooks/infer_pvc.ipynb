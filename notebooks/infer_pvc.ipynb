{
 "cells": [
  {
   "cell_type": "code",
   "execution_count": 187,
   "metadata": {},
   "outputs": [],
   "source": [
    "import argparse\n",
    "import os\n",
    "import time\n",
    "import subprocess\n",
    "\n",
    "import numpy\n",
    "import torch\n",
    "import torch.nn.functional as F\n",
    "from torch import sigmoid, softmax, argmax\n",
    "from torchaudio import load as ta_load\n",
    "\n",
    "from SSL.util.utils import DotDict\n",
    "from SSL.util.checkpoint import CheckPoint\n",
    "from SSL.util.model_loader import load_model\n",
    "from SSL.util.loaders import load_optimizer, load_preprocesser, load_dataset"
   ]
  },
  {
   "cell_type": "markdown",
   "metadata": {},
   "source": [
    "# list all model"
   ]
  },
  {
   "cell_type": "code",
   "execution_count": 188,
   "metadata": {},
   "outputs": [
    {
     "name": "stdout",
     "output_type": "stream",
     "text": [
      "../model_save/ComParE2021-PRS/supervised/MobileNetV2/MobileNetV2__0.001-lr_0.1-sr_64-bs_1234-seed_True-aug__.last\n",
      "../model_save/ComParE2021-PRS/supervised/MobileNetV2/MobileNetV2__0.001-lr_1.0-sr_64-bs_1234-seed_True-aug__.last\n",
      "../model_save/ComParE2021-PRS/supervised/MobileNetV2/MobileNetV2__0.001-lr_1.0-sr_64-bs_1234-seed_train-aug_mixup-max-label-1.0-a_specAugment-12-tdw-1-tsn-4-fdw-1-fsn__.last\n",
      "../model_save/ComParE2021-PRS/supervised/MobileNetV2/MobileNetV2__0.001-lr_0.1-sr_64-bs_1234-seed_True-aug_mixup-max-label-1.0-a_specAugment-12-tdw-1-tsn-4-fdw-1-fsn__.best\n",
      "../model_save/ComParE2021-PRS/supervised/MobileNetV2/MobileNetV2__0.001-lr_0.1-sr_64-bs_1234-seed_True-aug__.best\n",
      "../model_save/ComParE2021-PRS/supervised/MobileNetV2/MobileNetV2__0.001-lr_0.1-sr_64-bs_1234-seed_True-aug_mixup-max-label-1.0-a_specAugment-12-tdw-1-tsn-4-fdw-1-fsn__.last\n",
      "../model_save/ComParE2021-PRS/supervised/MobileNetV2/MobileNetV2__0.001-lr_1.0-sr_64-bs_1234-seed_train-aug_mixup-max-label-1.0-a_specAugment-12-tdw-1-tsn-4-fdw-1-fsn__.best\n",
      "../model_save/ComParE2021-PRS/supervised/MobileNetV2/MobileNetV2__0.001-lr_1.0-sr_64-bs_1234-seed_True-aug__.best\n"
     ]
    }
   ],
   "source": [
    "root = '../model_save/ComParE2021-PRS/supervised/MobileNetV2'\n",
    "for f in os.listdir(root):\n",
    "    if 'aug' in f:\n",
    "        print(os.path.join(root, f))"
   ]
  },
  {
   "cell_type": "code",
   "execution_count": 200,
   "metadata": {},
   "outputs": [],
   "source": [
    "selected_path = '../model_save/ComParE2021-PRS/supervised/MobileNetV2/MobileNetV2__0.001-lr_1.0-sr_64-bs_1234-seed_True-aug__.best'"
   ]
  },
  {
   "cell_type": "markdown",
   "metadata": {},
   "source": [
    "# minimum required"
   ]
  },
  {
   "cell_type": "code",
   "execution_count": 201,
   "metadata": {},
   "outputs": [],
   "source": [
    "args = DotDict(\n",
    "    dataset='ComParE2021-prs',\n",
    "    method='supervised',\n",
    "    model='MobileNetV2',  # Must be compatible with weight file\n",
    "    nb_class=5\n",
    ")"
   ]
  },
  {
   "cell_type": "code",
   "execution_count": 202,
   "metadata": {},
   "outputs": [],
   "source": [
    "nb_class = {\n",
    "    'ubs8k': 10,\n",
    "    'esc10': 10,\n",
    "    'esc50': 50,\n",
    "    'speechcommand': 35,\n",
    "    'compare2021-prs': 5,\n",
    "    'audioset-unbalanced': 527,\n",
    "    'audioset-balanced': 527,\n",
    "}"
   ]
  },
  {
   "cell_type": "code",
   "execution_count": 203,
   "metadata": {},
   "outputs": [
    {
     "name": "stdout",
     "output_type": "stream",
     "text": [
      "Loading preprocesser ...\n",
      "loading dataset: supervised | compare2021-prs\n",
      "Loading model ...\n",
      "Loading weights ...\n",
      "loading dataset: supervised | compare2021-prs\n",
      "checkpoint initialise at:  /home/lcances/sync/Documents_sync/Projet/semi-supervised/notebooks/.tmp\n",
      "name:  .tmp\n",
      "mode:  max\n",
      "['state_dict', 'optimizer', 'epoch', 'best_metric']\n",
      "['state_dict', 'optimizer', 'epoch', 'best_metric']\n",
      "Loading the dataset ...\n",
      "loading dataset: supervised | compare2021-prs\n",
      "cache path:  .ComParE2021_PRS/.cache_batch_size=32_seed=1234\n",
      "split ready, loading cache file\n",
      "Sort the classes\n"
     ]
    }
   ],
   "source": [
    "print('Loading preprocesser ...')\n",
    "t_transform, v_transform = load_preprocesser(args.dataset, args.method)\n",
    "\n",
    "print('Loading model ...')\n",
    "model_func = load_model(args.dataset, args.model)\n",
    "model = model_func(num_classes=nb_class[args.dataset.lower()])\n",
    "\n",
    "print('Loading weights ...')\n",
    "optimizer = load_optimizer(args.dataset, args.method, model=model, learning_rate=0.003)\n",
    "checkpoint = CheckPoint(model, optimizer, mode=\"max\", name='./.tmp')\n",
    "checkpoint.load(selected_path)\n",
    "\n",
    "print('Loading the dataset ...')\n",
    "_, train_loader, val_loader = load_dataset(\n",
    "        args.dataset,\n",
    "        \"supervised\",\n",
    "\n",
    "        dataset_root='../datasets',\n",
    "        supervised_ratio=1.0,\n",
    "        batch_size=32,\n",
    "        train_folds=None,\n",
    "        val_folds=None,\n",
    "\n",
    "        train_transform=t_transform,\n",
    "        val_transform=v_transform,\n",
    "\n",
    "        num_workers=4,  # With the cache enable, it is faster to have only one worker\n",
    "        pin_memory=False,\n",
    "\n",
    "        verbose=1\n",
    "    )"
   ]
  },
  {
   "cell_type": "markdown",
   "metadata": {},
   "source": [
    "# inference"
   ]
  },
  {
   "cell_type": "code",
   "execution_count": 204,
   "metadata": {},
   "outputs": [
    {
     "name": "stdout",
     "output_type": "stream",
     "text": [
      "\n"
     ]
    },
    {
     "name": "stderr",
     "output_type": "stream",
     "text": [
      "/home/lcances/.miniconda3/envs/ssl/lib/python3.8/site-packages/torch/functional.py:515: UserWarning: stft will require the return_complex parameter be explicitly  specified in a future PyTorch release. Use return_complex=False  to preserve the current behavior or return_complex=True to return  a complex output. (Triggered internally at  /opt/conda/conda-bld/pytorch_1607369981906/work/aten/src/ATen/native/SpectralOps.cpp:653.)\n",
      "  return _VF.stft(input, n_fft, hop_length, win_length, window,  # type: ignore\n",
      "/home/lcances/.miniconda3/envs/ssl/lib/python3.8/site-packages/torch/functional.py:515: UserWarning: stft will require the return_complex parameter be explicitly  specified in a future PyTorch release. Use return_complex=False  to preserve the current behavior or return_complex=True to return  a complex output. (Triggered internally at  /opt/conda/conda-bld/pytorch_1607369981906/work/aten/src/ATen/native/SpectralOps.cpp:653.)\n",
      "  return _VF.stft(input, n_fft, hop_length, win_length, window,  # type: ignore\n",
      "/home/lcances/.miniconda3/envs/ssl/lib/python3.8/site-packages/torch/functional.py:515: UserWarning: stft will require the return_complex parameter be explicitly  specified in a future PyTorch release. Use return_complex=False  to preserve the current behavior or return_complex=True to return  a complex output. (Triggered internally at  /opt/conda/conda-bld/pytorch_1607369981906/work/aten/src/ATen/native/SpectralOps.cpp:653.)\n",
      "  return _VF.stft(input, n_fft, hop_length, win_length, window,  # type: ignore\n",
      "/home/lcances/.miniconda3/envs/ssl/lib/python3.8/site-packages/torch/functional.py:515: UserWarning: stft will require the return_complex parameter be explicitly  specified in a future PyTorch release. Use return_complex=False  to preserve the current behavior or return_complex=True to return  a complex output. (Triggered internally at  /opt/conda/conda-bld/pytorch_1607369981906/work/aten/src/ATen/native/SpectralOps.cpp:653.)\n",
      "  return _VF.stft(input, n_fft, hop_length, win_length, window,  # type: ignore\n",
      "/home/lcances/.miniconda3/envs/ssl/lib/python3.8/site-packages/torch/functional.py:515: UserWarning: The function torch.rfft is deprecated and will be removed in a future PyTorch release. Use the new torch.fft module functions, instead, by importing torch.fft and calling torch.fft.fft or torch.fft.rfft. (Triggered internally at  /opt/conda/conda-bld/pytorch_1607369981906/work/aten/src/ATen/native/SpectralOps.cpp:590.)\n",
      "  return _VF.stft(input, n_fft, hop_length, win_length, window,  # type: ignore\n",
      "/home/lcances/.miniconda3/envs/ssl/lib/python3.8/site-packages/torch/functional.py:515: UserWarning: The function torch.rfft is deprecated and will be removed in a future PyTorch release. Use the new torch.fft module functions, instead, by importing torch.fft and calling torch.fft.fft or torch.fft.rfft. (Triggered internally at  /opt/conda/conda-bld/pytorch_1607369981906/work/aten/src/ATen/native/SpectralOps.cpp:590.)\n",
      "  return _VF.stft(input, n_fft, hop_length, win_length, window,  # type: ignore\n",
      "/home/lcances/.miniconda3/envs/ssl/lib/python3.8/site-packages/torch/functional.py:515: UserWarning: The function torch.rfft is deprecated and will be removed in a future PyTorch release. Use the new torch.fft module functions, instead, by importing torch.fft and calling torch.fft.fft or torch.fft.rfft. (Triggered internally at  /opt/conda/conda-bld/pytorch_1607369981906/work/aten/src/ATen/native/SpectralOps.cpp:590.)\n",
      "  return _VF.stft(input, n_fft, hop_length, win_length, window,  # type: ignore\n",
      "/home/lcances/.miniconda3/envs/ssl/lib/python3.8/site-packages/torch/functional.py:515: UserWarning: The function torch.rfft is deprecated and will be removed in a future PyTorch release. Use the new torch.fft module functions, instead, by importing torch.fft and calling torch.fft.fft or torch.fft.rfft. (Triggered internally at  /opt/conda/conda-bld/pytorch_1607369981906/work/aten/src/ATen/native/SpectralOps.cpp:590.)\n",
      "  return _VF.stft(input, n_fft, hop_length, win_length, window,  # type: ignore\n"
     ]
    },
    {
     "name": "stdout",
     "output_type": "stream",
     "text": [
      "216 / 217\r"
     ]
    }
   ],
   "source": [
    "a_logits, a_y = [], []\n",
    "\n",
    "nb_batch = len(val_loader)\n",
    "\n",
    "start_time = time.time()\n",
    "print(\"\")\n",
    "\n",
    "model.eval()\n",
    "\n",
    "with torch.set_grad_enabled(False):\n",
    "    for i, (X, y) in enumerate(val_loader):\n",
    "        X = X.float()\n",
    "        y = F.one_hot(y, num_classes=nb_class[args.dataset.lower()]).float()\n",
    "\n",
    "        a_logits.append(model(X))\n",
    "        a_y.append(y)\n",
    "\n",
    "        # logs\n",
    "        print(f'{i} / {nb_batch}', end='\\r')"
   ]
  },
  {
   "cell_type": "code",
   "execution_count": 205,
   "metadata": {},
   "outputs": [],
   "source": [
    "a_logits_ = torch.vstack(a_logits)\n",
    "a_y_ = torch.vstack(a_y)"
   ]
  },
  {
   "cell_type": "markdown",
   "metadata": {},
   "source": [
    "# Calc the metrics"
   ]
  },
  {
   "cell_type": "code",
   "execution_count": 206,
   "metadata": {},
   "outputs": [],
   "source": [
    "from typing import Dict, Tuple\n",
    "from mlu.metrics import Metric, CategoricalAccuracy, UAR, AveragePrecision\n",
    "\n",
    "metrics = DotDict(\n",
    "    acc = CategoricalAccuracy(),\n",
    "    mAP = AveragePrecision(),\n",
    "    uar = UAR(),\n",
    ")"
   ]
  },
  {
   "cell_type": "code",
   "execution_count": 207,
   "metadata": {},
   "outputs": [],
   "source": [
    "# A = lambda x: torch.sigmoid(x)\n",
    "# A = lambda x: torch.softmax(x, dim=1)\n",
    "A = lambda x: x"
   ]
  },
  {
   "cell_type": "code",
   "execution_count": 208,
   "metadata": {},
   "outputs": [
    {
     "name": "stdout",
     "output_type": "stream",
     "text": [
      "acc:  tensor(0.7626)\n",
      "mAP:  tensor(0.6548, dtype=torch.float64)\n",
      "UAR:  tensor(0.6008, dtype=torch.float64)\n"
     ]
    }
   ],
   "source": [
    "print('acc: ', metrics.acc(A(a_logits_), a_y_))\n",
    "print('mAP: ', metrics.mAP(A(a_logits_), a_y_))\n",
    "print('UAR: ', metrics.uar(A(a_logits_), a_y_))"
   ]
  },
  {
   "cell_type": "code",
   "execution_count": null,
   "metadata": {},
   "outputs": [],
   "source": []
  },
  {
   "cell_type": "code",
   "execution_count": null,
   "metadata": {},
   "outputs": [],
   "source": []
  }
 ],
 "metadata": {
  "kernelspec": {
   "display_name": "Python (ssl)",
   "language": "python",
   "name": "ssl"
  },
  "language_info": {
   "codemirror_mode": {
    "name": "ipython",
    "version": 3
   },
   "file_extension": ".py",
   "mimetype": "text/x-python",
   "name": "python",
   "nbconvert_exporter": "python",
   "pygments_lexer": "ipython3",
   "version": "3.8.5"
  }
 },
 "nbformat": 4,
 "nbformat_minor": 4
}
