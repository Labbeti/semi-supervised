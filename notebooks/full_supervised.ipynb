{
 "cells": [
  {
   "cell_type": "markdown",
   "metadata": {
    "jupyter": {
     "outputs_hidden": true
    }
   },
   "source": [
    "# import"
   ]
  },
  {
   "cell_type": "code",
   "execution_count": 1,
   "metadata": {},
   "outputs": [],
   "source": [
    "%load_ext autoreload\n",
    "%autoreload 2"
   ]
  },
  {
   "cell_type": "code",
   "execution_count": 2,
   "metadata": {},
   "outputs": [
    {
     "output_type": "execute_result",
     "data": {
      "text/plain": [
       "'/home/lcances/.miniconda3/envs/dct/bin/python'"
      ]
     },
     "metadata": {},
     "execution_count": 2
    }
   ],
   "source": [
    "import sys\n",
    "sys.executable"
   ]
  },
  {
   "cell_type": "code",
   "execution_count": 3,
   "metadata": {},
   "outputs": [],
   "source": [
    "import os\n",
    "os.environ[\"MKL_NUM_THREADS\"] = \"2\"\n",
    "os.environ[\"NUMEXPR_NU M_THREADS\"] = \"2\"\n",
    "os.environ[\"OMP_NUM_THREADS\"] = \"2\"\n",
    "import time\n",
    "\n",
    "import numpy\n",
    "import torch\n",
    "import torch.nn as nn\n",
    "import torch.utils.data as data\n",
    "import torch.nn.functional as F\n",
    "import torchvision.transforms as transforms\n",
    "from torch.cuda.amp import autocast\n",
    "\n",
    "from torch.optim.lr_scheduler import LambdaLR\n",
    "from torch.utils.tensorboard import SummaryWriter\n",
    "from torch.utils.data import DataLoader"
   ]
  },
  {
   "cell_type": "code",
   "execution_count": 4,
   "metadata": {
    "tags": []
   },
   "outputs": [],
   "source": [
    "from SSL.util.model_loader import load_model\n",
    "from SSL.util.loaders import load_dataset, load_optimizer, load_callbacks, load_preprocesser\n",
    "from SSL.util.checkpoint import CheckPoint, mSummaryWriter\n",
    "from SSL.util.utils import reset_seed, get_datetime, track_maximum, DotDict\n",
    "\n",
    "from metric_utils.metrics import CategoricalAccuracy, FScore, ContinueAverage"
   ]
  },
  {
   "cell_type": "markdown",
   "metadata": {
    "pycharm": {
     "name": "#%% md\n"
    }
   },
   "source": [
    "# Arguments"
   ]
  },
  {
   "cell_type": "code",
   "execution_count": 36,
   "metadata": {},
   "outputs": [],
   "source": [
    "import argparse\n",
    "parser = argparse.ArgumentParser()\n",
    "parser.add_argument(\"--from_config\", default=\"\", type=str)\n",
    "parser.add_argument(\"-d\", \"--dataset_root\", default=\"../datasets\", type=str)\n",
    "parser.add_argument(\"-D\", \"--dataset\", default=\"esc10\", type=str, help=\"available [ubs8k | cifar10]\")\n",
    "\n",
    "group_t = parser.add_argument_group(\"Commun parameters\")\n",
    "group_t.add_argument(\"-m\", \"--model\", default=\"cnn03\", type=str)\n",
    "group_t.add_argument(\"--supervised_ratio\", default=1.0, type=float)\n",
    "group_t.add_argument(\"--batch_size\", default=64, type=int)\n",
    "group_t.add_argument(\"--nb_epoch\", default=100, type=int)\n",
    "group_t.add_argument(\"--learning_rate\", default=0.003, type=float)\n",
    "group_t.add_argument(\"--resume\", action=\"store_true\", default=False)\n",
    "group_t.add_argument(\"--preload_dataset\", action=\"store_true\", default=False)\n",
    "group_t.add_argument(\"--seed\", default=1234, type=int)\n",
    "\n",
    "group_m = parser.add_argument_group(\"Model parameters\")\n",
    "group_m.add_argument(\"--num_classes\", default=10, type=int)\n",
    "\n",
    "group_u = parser.add_argument_group(\"Datasets parameters\")\n",
    "group_u.add_argument(\"-t\", \"--train_folds\", nargs=\"+\", default=[1, 2, 3, 4], type=int)\n",
    "group_u.add_argument(\"-v\", \"--val_folds\", nargs=\"+\", default=[5], type=int)\n",
    "\n",
    "group_l = parser.add_argument_group(\"Logs\")\n",
    "group_l.add_argument(\"--checkpoint_root\", default=\"../model_save/\", type=str)\n",
    "group_l.add_argument(\"--tensorboard_root\", default=\"../tensorboard/\", type=str)\n",
    "group_l.add_argument(\"--checkpoint_path\", default=\"supervised\", type=str)\n",
    "group_l.add_argument(\"--tensorboard_path\", default=\"supervised\", type=str)\n",
    "group_l.add_argument(\"--tensorboard_sufix\", default=\"\", type=str)\n",
    "\n",
    "args = parser.parse_args(\"\")\n",
    "\n",
    "args.tensorboard_path = os.path.join(args.tensorboard_root, args.dataset, args.tensorboard_path)\n",
    "args.checkpoint_path = os.path.join(args.checkpoint_root, args.dataset, args.checkpoint_path)"
   ]
  },
  {
   "cell_type": "code",
   "execution_count": null,
   "metadata": {},
   "outputs": [],
   "source": [
    "vars(args)"
   ]
  },
  {
   "cell_type": "markdown",
   "metadata": {
    "pycharm": {
     "name": "#%% md\n"
    }
   },
   "source": [
    "# initialisation"
   ]
  },
  {
   "cell_type": "code",
   "execution_count": 7,
   "metadata": {},
   "outputs": [],
   "source": [
    "reset_seed(args.seed)"
   ]
  },
  {
   "source": [
    "\n",
    "trainer = SupervisedTrainer(\"cnn03\", \"esc10\")\n",
    "trainer.init_trainer(\n",
    "    parameters=vars(args),\n",
    "    seed = args.seed,\n",
    "    num_workers=0,\n",
    "    pin_memory=True,\n",
    "    verbose = 2\n",
    ")"
   ],
   "cell_type": "markdown",
   "metadata": {}
  },
  {
   "cell_type": "code",
   "execution_count": 8,
   "metadata": {
    "collapsed": false,
    "jupyter": {
     "outputs_hidden": false
    },
    "pycharm": {
     "name": "#%%\n"
    },
    "tags": [
     "re_run"
    ]
   },
   "outputs": [],
   "source": [
    "# from SSL.trainers.esc import SupervisedTrainer\n",
    "from SSL.trainers.trainers import Trainer\n",
    "\n",
    "class SupervisedTrainer(Trainer):\n",
    "    def __init__(self, model: str, dataset: str):\n",
    "        super().__init__(model, \"supervised\", dataset)\n",
    "\n",
    "trainer = SupervisedTrainer(args.model, args.dataset)"
   ]
  },
  {
   "cell_type": "markdown",
   "metadata": {
    "pycharm": {
     "name": "#%% md\n"
    }
   },
   "source": [
    "# Prepare the dataset"
   ]
  },
  {
   "cell_type": "code",
   "execution_count": 9,
   "metadata": {},
   "outputs": [
    {
     "output_type": "stream",
     "name": "stdout",
     "text": [
      "Load the transformation\n",
      "################################################################################\n",
      "### WARNING, path does not exist: KALDI_ROOT=/mnt/matylda5/iveselyk/Tools/kaldi-trunk\n",
      "###          (please add 'export KALDI_ROOT=<your_path>' in your $HOME/.profile)\n",
      "###          (or run as: KALDI_ROOT=<your_path> python <your_script>.py)\n",
      "################################################################################\n",
      "\n"
     ]
    }
   ],
   "source": [
    "trainer.load_transforms()"
   ]
  },
  {
   "cell_type": "code",
   "execution_count": 10,
   "metadata": {
    "collapsed": false,
    "jupyter": {
     "outputs_hidden": false
    },
    "pycharm": {
     "name": "#%%\n"
    },
    "tags": []
   },
   "outputs": [
    {
     "output_type": "stream",
     "name": "stdout",
     "text": [
      "Load the dataset\n",
      "Dataset already downloaded and verified.\n",
      "Dataset already downloaded and verified.\n"
     ]
    }
   ],
   "source": [
    "parameters = dict(\n",
    "    dataset=args.dataset,\n",
    "\n",
    "    dataset_root = args.dataset_root,\n",
    "    supervised_ratio = args.supervised_ratio,\n",
    "    batch_size = args.batch_size,\n",
    "    train_folds = args.train_folds,\n",
    "    val_folds = args.val_folds,\n",
    "    \n",
    "    num_workers=0,\n",
    "    pin_memory=True,\n",
    "\n",
    "    verbose = 2,\n",
    ")\n",
    "\n",
    "trainer.load_dataset(parameters)"
   ]
  },
  {
   "cell_type": "markdown",
   "metadata": {},
   "source": [
    "# Prep model"
   ]
  },
  {
   "cell_type": "code",
   "execution_count": 11,
   "metadata": {
    "tags": []
   },
   "outputs": [
    {
     "output_type": "stream",
     "name": "stdout",
     "text": [
      "Create the model\n",
      "1872 10\n",
      "----------------------------------------------------------------\n",
      "        Layer (type)               Output Shape         Param #\n",
      "================================================================\n",
      "            Conv2d-1          [-1, 24, 64, 431]             240\n",
      "         MaxPool2d-2          [-1, 24, 16, 215]               0\n",
      "       BatchNorm2d-3          [-1, 24, 16, 215]              48\n",
      "             ReLU6-4          [-1, 24, 16, 215]               0\n",
      "            Conv2d-5          [-1, 48, 16, 215]          10,416\n",
      "         MaxPool2d-6           [-1, 48, 4, 107]               0\n",
      "       BatchNorm2d-7           [-1, 48, 4, 107]              96\n",
      "             ReLU6-8           [-1, 48, 4, 107]               0\n",
      "            Conv2d-9           [-1, 72, 4, 107]          31,176\n",
      "        MaxPool2d-10            [-1, 72, 2, 53]               0\n",
      "      BatchNorm2d-11            [-1, 72, 2, 53]             144\n",
      "            ReLU6-12            [-1, 72, 2, 53]               0\n",
      "           Conv2d-13            [-1, 72, 2, 53]          46,728\n",
      "        MaxPool2d-14            [-1, 72, 1, 26]               0\n",
      "      BatchNorm2d-15            [-1, 72, 1, 26]             144\n",
      "            ReLU6-16            [-1, 72, 1, 26]               0\n",
      "           Conv2d-17            [-1, 72, 1, 26]          46,728\n",
      "            ReLU6-18            [-1, 72, 1, 26]               0\n",
      "          Flatten-19                 [-1, 1872]               0\n",
      "          Dropout-20                 [-1, 1872]               0\n",
      "           Linear-21                   [-1, 10]          18,730\n",
      "================================================================\n",
      "Total params: 154,450\n",
      "Trainable params: 154,450\n",
      "Non-trainable params: 0\n",
      "----------------------------------------------------------------\n",
      "Input size (MB): 0.11\n",
      "Forward/backward pass size (MB): 9.24\n",
      "Params size (MB): 0.59\n",
      "Estimated Total Size (MB): 9.93\n",
      "----------------------------------------------------------------\n"
     ]
    }
   ],
   "source": [
    "trainer.create_model()\n"
   ]
  },
  {
   "cell_type": "code",
   "execution_count": 9,
   "metadata": {
    "scrolled": true,
    "tags": []
   },
   "outputs": [
    {
     "output_type": "stream",
     "name": "stdout",
     "text": [
      "----------------------------------------------------------------\n        Layer (type)               Output Shape         Param #\n================================================================\n            Conv2d-1          [-1, 24, 64, 431]             240\n         MaxPool2d-2          [-1, 24, 16, 215]               0\n       BatchNorm2d-3          [-1, 24, 16, 215]              48\n             ReLU6-4          [-1, 24, 16, 215]               0\n            Conv2d-5          [-1, 48, 16, 215]          10,416\n         MaxPool2d-6           [-1, 48, 4, 107]               0\n       BatchNorm2d-7           [-1, 48, 4, 107]              96\n             ReLU6-8           [-1, 48, 4, 107]               0\n            Conv2d-9           [-1, 72, 4, 107]          31,176\n        MaxPool2d-10            [-1, 72, 2, 53]               0\n      BatchNorm2d-11            [-1, 72, 2, 53]             144\n            ReLU6-12            [-1, 72, 2, 53]               0\n           Conv2d-13            [-1, 72, 2, 53]          46,728\n        MaxPool2d-14            [-1, 72, 1, 26]               0\n      BatchNorm2d-15            [-1, 72, 1, 26]             144\n            ReLU6-16            [-1, 72, 1, 26]               0\n           Conv2d-17            [-1, 72, 1, 26]          46,728\n            ReLU6-18            [-1, 72, 1, 26]               0\n          Flatten-19                 [-1, 1872]               0\n          Dropout-20                 [-1, 1872]               0\n           Linear-21                   [-1, 10]          18,730\n================================================================\nTotal params: 154,450\nTrainable params: 154,450\nNon-trainable params: 0\n----------------------------------------------------------------\nInput size (MB): 0.11\nForward/backward pass size (MB): 9.24\nParams size (MB): 0.59\nEstimated Total Size (MB): 9.93\n----------------------------------------------------------------\n"
     ]
    }
   ],
   "source": [
    "from torchsummary import summary\n",
    "\n",
    "s = summary(trainer.model, trainer.input_shape)"
   ]
  },
  {
   "cell_type": "markdown",
   "metadata": {
    "pycharm": {
     "name": "#%% md\n"
    }
   },
   "source": [
    "# Training initialization"
   ]
  },
  {
   "source": [
    "## Losses"
   ],
   "cell_type": "markdown",
   "metadata": {}
  },
  {
   "cell_type": "code",
   "execution_count": 12,
   "metadata": {
    "collapsed": false,
    "jupyter": {
     "outputs_hidden": false
    },
    "pycharm": {
     "name": "#%%\n"
    },
    "tags": []
   },
   "outputs": [],
   "source": [
    "from types import MethodType\n",
    "\n",
    "def init_loss(self):\n",
    "    self.loss_ce = nn.CrossEntropyLoss(reduction=\"mean\")\n",
    "\n",
    "trainer.init_loss = MethodType(init_loss, trainer)"
   ]
  },
  {
   "source": [
    "trainer.init_loss()"
   ],
   "cell_type": "code",
   "metadata": {},
   "execution_count": 13,
   "outputs": []
  },
  {
   "cell_type": "markdown",
   "metadata": {},
   "source": [
    "## optimizer & callbacks"
   ]
  },
  {
   "cell_type": "code",
   "execution_count": 14,
   "metadata": {},
   "outputs": [
    {
     "output_type": "stream",
     "name": "stdout",
     "text": [
      "Initialize optimizer\n"
     ]
    }
   ],
   "source": [
    "parameters=DotDict(\n",
    "    learning_rate=args.learning_rate,\n",
    ")\n",
    "trainer.init_optimizer(parameters)\n"
   ]
  },
  {
   "cell_type": "code",
   "execution_count": 15,
   "metadata": {},
   "outputs": [
    {
     "output_type": "stream",
     "name": "stdout",
     "text": [
      "Initialize callbacks\n"
     ]
    }
   ],
   "source": [
    "parameters=DotDict(\n",
    "    nb_epoch=args.nb_epoch,\n",
    "    optimizer=trainer.optimizer,\n",
    ")\n",
    "trainer.init_callbacks(parameters)"
   ]
  },
  {
   "source": [
    "# Logs and checkpoint"
   ],
   "cell_type": "markdown",
   "metadata": {}
  },
  {
   "cell_type": "code",
   "execution_count": 16,
   "metadata": {
    "collapsed": false,
    "jupyter": {
     "outputs_hidden": false
    },
    "pycharm": {
     "name": "#%%\n"
    },
    "tags": [
     "re_run"
    ]
   },
   "outputs": [
    {
     "output_type": "stream",
     "name": "stdout",
     "text": [
      "Prepare the log system\n"
     ]
    }
   ],
   "source": [
    "# Logs\n",
    "parameters=DotDict(\n",
    "    supervised_ratio=args.supervised_ratio\n",
    ")\n",
    "trainer.init_logs(parameters)\n",
    "\n",
    "# Save all the parameters\n",
    "tensorboard_params = {}\n",
    "for key, value in args.__dict__.items():\n",
    "    tensorboard_params[key] = str(value)\n",
    "trainer.tensorboard.add_hparams(tensorboard_params, {})\n"
   ]
  },
  {
   "cell_type": "code",
   "execution_count": 17,
   "metadata": {},
   "outputs": [
    {
     "output_type": "stream",
     "name": "stdout",
     "text": [
      "Prepare the checkpoint system\n"
     ]
    }
   ],
   "source": [
    "# Checkpoint\n",
    "parameters=DotDict(\n",
    "    supervised_ratio=args.supervised_ratio\n",
    ")\n",
    "trainer.init_checkpoint(parameters)"
   ]
  },
  {
   "source": [
    "## Metrics"
   ],
   "cell_type": "markdown",
   "metadata": {}
  },
  {
   "cell_type": "code",
   "execution_count": 18,
   "metadata": {},
   "outputs": [],
   "source": [
    "# Metrics\n",
    "def init_metrics(self):\n",
    "    self.metrics = DotDict(\n",
    "        fscore_fn=FScore(),\n",
    "        acc_fn=CategoricalAccuracy(),\n",
    "        avg_fn=ContinueAverage(),\n",
    "    )\n",
    "    self.maximum_tracker = track_maximum()\n",
    "\n",
    "trainer.init_metrics = MethodType(init_metrics, trainer)\n",
    "trainer.init_metrics()"
   ]
  },
  {
   "cell_type": "markdown",
   "metadata": {
    "pycharm": {
     "name": "#%% md\n"
    }
   },
   "source": [
    "## training function"
   ]
  },
  {
   "cell_type": "code",
   "execution_count": 19,
   "metadata": {
    "collapsed": false,
    "jupyter": {
     "outputs_hidden": false
    },
    "pycharm": {
     "name": "#%%\n"
    },
    "tags": []
   },
   "outputs": [],
   "source": [
    "def set_printing_form(self):\n",
    "    UNDERLINE_SEQ = \"\\033[1;4m\"\n",
    "    RESET_SEQ = \"\\033[0m\"\n",
    "\n",
    "    header_form = \"{:<8.8} {:<6.6} - {:<6.6} - {:<8.8} {:<6.6} - {:<9.9} {:<12.12}| {:<9.9}- {:<6.6}\"\n",
    "    value_form  = \"{:<8.8} {:<6} - {:<6} - {:<8.8} {:<6.4f} - {:<9.9} {:<10.4f}| {:<9.4f}- {:<6.4f}\"\n",
    "\n",
    "    self.header = header_form.format(\n",
    "        \".               \", \"Epoch\", \"%\", \"Losses:\", \"ce\", \"metrics: \", \"acc\", \"F1 \",\"Time\"\n",
    "    )\n",
    "\n",
    "    self.train_form = value_form\n",
    "    self.val_form = UNDERLINE_SEQ + value_form + RESET_SEQ"
   ]
  },
  {
   "cell_type": "code",
   "execution_count": 20,
   "metadata": {
    "tags": [
     "re_run"
    ]
   },
   "outputs": [],
   "source": [
    "def train_fn(self, epoch: int):\n",
    "    # aliases\n",
    "    M = self.metrics\n",
    "    T = self.tensorboard.add_scalar\n",
    "    nb_batch = len(self.train_loader)\n",
    "\n",
    "    start_time = time.time()\n",
    "    print(\"\")\n",
    "\n",
    "    self.reset_metrics()\n",
    "    self.model.train()\n",
    "\n",
    "    for i, (X, y) in enumerate(self.train_loader):\n",
    "        X = X.cuda()\n",
    "        y = y.cuda()\n",
    "\n",
    "        logits = self.model(X)\n",
    "        loss = self.loss_ce(logits, y)\n",
    "\n",
    "        self.optimizer.zero_grad()\n",
    "        loss.backward()\n",
    "        self.optimizer.step()\n",
    "\n",
    "        with torch.set_grad_enabled(False):\n",
    "            pred = torch.softmax(logits, dim=1)\n",
    "            pred_arg = torch.argmax(logits, dim=1)\n",
    "            y_one_hot = F.one_hot(y, num_classes=self.num_classes)\n",
    "\n",
    "            acc = M.acc_fn(pred_arg, y).mean\n",
    "            fscore = M.fscore_fn(pred, y_one_hot).mean\n",
    "            avg_ce = M.avg_fn(loss.item()).mean\n",
    "\n",
    "            # logs\n",
    "            print(self.train_form.format(\n",
    "                \"Training: \",\n",
    "                epoch + 1,\n",
    "                int(100 * (i + 1) / nb_batch),\n",
    "                \"\", avg_ce,\n",
    "                \"\", acc, fscore,\n",
    "                time.time() - start_time\n",
    "            ), end=\"\\r\")\n",
    "\n",
    "    T(\"train/Lce\", avg_ce, epoch)\n",
    "    T(\"train/f1\", fscore, epoch)\n",
    "    T(\"train/acc\", acc, epoch)"
   ]
  },
  {
   "cell_type": "code",
   "execution_count": 21,
   "metadata": {
    "collapsed": false,
    "jupyter": {
     "outputs_hidden": false
    },
    "pycharm": {
     "name": "#%%\n"
    },
    "tags": [
     "re_run"
    ]
   },
   "outputs": [],
   "source": [
    "def val_fn(self, epoch: int):\n",
    "    # aliases\n",
    "    M = self.metrics\n",
    "    T = self.tensorboard.add_scalar\n",
    "    nb_batch = len(self.val_loader)\n",
    "\n",
    "    start_time = time.time()\n",
    "    print(\"\")\n",
    "\n",
    "    self.reset_metrics()\n",
    "    self.model.eval()\n",
    "\n",
    "    with torch.set_grad_enabled(False):\n",
    "        for i, (X, y) in enumerate(self.val_loader):\n",
    "            X = X.cuda()\n",
    "            y = y.cuda()\n",
    "\n",
    "            logits = self.model(X)\n",
    "            loss = self.loss_ce(logits, y)\n",
    "\n",
    "            # metrics\n",
    "            pred = torch.softmax(logits, dim=1)\n",
    "            pred_arg = torch.argmax(logits, dim=1)\n",
    "            y_one_hot = F.one_hot(y, num_classes=self.num_classes)\n",
    "\n",
    "            acc = M.acc_fn(pred_arg, y).mean\n",
    "            fscore = M.fscore_fn(pred, y_one_hot).mean\n",
    "            avg_ce = M.avg_fn(loss.item()).mean\n",
    "\n",
    "            # logs\n",
    "            print(self.val_form.format(\n",
    "                \"Validation: \",\n",
    "                epoch + 1,\n",
    "                int(100 * (i + 1) / nb_batch),\n",
    "                \"\", avg_ce,\n",
    "                \"\", acc, fscore,\n",
    "                time.time() - start_time\n",
    "            ), end=\"\\r\")\n",
    "\n",
    "    T(\"val/Lce\", avg_ce, epoch)\n",
    "    T(\"val/f1\", fscore, epoch)\n",
    "    T(\"val/acc\", acc, epoch)\n",
    "\n",
    "    T(\"hyperparameters/learning_rate\", self._get_lr(), epoch)\n",
    "\n",
    "    T(\"max/acc\", self.maximum_tracker(\"acc\", acc), epoch)\n",
    "    T(\"max/f1\", self.maximum_tracker(\"f1\", fscore), epoch)\n",
    "\n",
    "    self.checkpoint.step(acc)\n",
    "    for c in self.callbacks:\n",
    "        c.step()\n",
    "        pass"
   ]
  },
  {
   "cell_type": "code",
   "execution_count": 22,
   "metadata": {},
   "outputs": [],
   "source": [
    "def test_fn(self):\n",
    "    # aliases\n",
    "    M = self.metrics\n",
    "    T = self.tensorboard.add_scalar\n",
    "    nb_batch = len(self.val_loader)\n",
    "\n",
    "    # Load best epoch\n",
    "    self.checkpoint.load_best()\n",
    "\n",
    "    start_time = time.time()\n",
    "    print(\"\")\n",
    "\n",
    "    self.reset_metrics()\n",
    "    self.model.eval()\n",
    "\n",
    "    with torch.set_grad_enabled(False):\n",
    "        for i, (X, y) in enumerate(self.test_loader):\n",
    "            X = X.cuda()\n",
    "            y = y.cuda()\n",
    "\n",
    "            logits = self.model(X)\n",
    "            loss = self.loss_ce(logits, y)\n",
    "\n",
    "            # metrics\n",
    "            pred = torch.softmax(logits, dim=1)\n",
    "            pred_arg = torch.argmax(logits, dim=1)\n",
    "            y_one_hot = F.one_hot(y, num_classes=self.num_classes)\n",
    "\n",
    "            acc = M.acc_fn(pred_arg, y).mean\n",
    "            fscore = M.fscore_fn(pred, y_one_hot).mean\n",
    "            avg_ce = M.avg_fn(loss.item()).mean\n",
    "\n",
    "            # logs\n",
    "            print(self.val_form.format(\n",
    "                \"Testing: \",\n",
    "                1,\n",
    "                int(100 * (i + 1) / nb_batch),\n",
    "                \"\", avg_ce,\n",
    "                \"\", acc, fscore,\n",
    "                time.time() - start_time\n",
    "            ), end=\"\\r\")"
   ]
  },
  {
   "cell_type": "code",
   "execution_count": 23,
   "metadata": {},
   "outputs": [],
   "source": [
    "trainer.set_printing_form = MethodType(set_printing_form, trainer)\n",
    "trainer.train_fn = MethodType(train_fn, trainer)\n",
    "trainer.val_fn = MethodType(val_fn, trainer)\n",
    "trainer.test_fn = MethodType(test_fn, trainer)"
   ]
  },
  {
   "source": [
    "# Training"
   ],
   "cell_type": "markdown",
   "metadata": {}
  },
  {
   "cell_type": "code",
   "execution_count": 24,
   "metadata": {
    "collapsed": false,
    "jupyter": {
     "outputs_hidden": false
    },
    "pycharm": {
     "name": "#%%\n"
    },
    "scrolled": true,
    "tags": []
   },
   "outputs": [
    {
     "output_type": "stream",
     "name": "stdout",
     "text": [
      ".        Epoch  - %      - Losses:  ce     - metrics:  acc         | F1       - Time  \n",
      "\n",
      "Training 1      - 100    -          2.0345 -           0.2656    | 0.0965   - 1.8694\n",
      "\u001b[1;4mValidati 1      - 100    -          2.6831 -           0.1953    | 0.2777   - 0.3721\u001b[0m\n",
      "Training 2      - 100    -          1.2135 -           0.5469    | 0.4048   - 0.1758\n",
      "\u001b[1;4mValidati 2      - 100    -          2.9214 -           0.3047    | 0.2911   - 0.0132\u001b[0m\n",
      "Training 3      - 100    -          0.8702 -           0.6656    | 0.6131   - 0.1616\n",
      "\u001b[1;4mValidati 3      - 100    -          2.5288 -           0.2422    | 0.2589   - 0.0124\u001b[0m\n",
      "Training 4      - 100    -          0.7645 -           0.6656    | 0.6485   - 0.1618\n",
      "\u001b[1;4mValidati 4      - 100    -          1.7741 -           0.4922    | 0.5164   - 0.0126\u001b[0m\n",
      "Training 5      - 100    -          0.5648 -           0.7781    | 0.7831   - 0.1715\n",
      "\u001b[1;4mValidati 5      - 100    -          1.2882 -           0.6953    | 0.6906   - 0.0137\u001b[0m\n",
      "Training 6      - 100    -          0.4015 -           0.8469    | 0.8583   - 0.1675\n",
      "\n",
      "Training 7      - 100    -          0.3375 -           0.8625    | 0.8601   - 0.1677\n",
      "\u001b[1;4mValidati 7      - 100    -          1.4139 -           0.6250    | 0.6270   - 0.0125\u001b[0m\n",
      "Training 8      - 100    -          0.3002 -           0.8906    | 0.8882   - 0.1615\n",
      "\u001b[1;4mValidati 8      - 100    -          1.6447 -           0.6484    | 0.6583   - 0.0124\u001b[0m\n",
      "Training 9      - 100    -          0.2320 -           0.9250    | 0.9137   - 0.1617\n",
      "\u001b[1;4mValidati 9      - 100    -          0.7055 -           0.7891    | 0.7891   - 0.0127\u001b[0m\n",
      "Training 10     - 100    -          0.2220 -           0.9406    | 0.9403   - 0.1790\n",
      "\u001b[1;4mValidati 10     - 100    -          1.2592 -           0.7656    | 0.7358   - 0.0172\u001b[0m\n",
      "Training 11     - 100    -          0.1467 -           0.9625    | 0.9638   - 0.1724\n",
      "\u001b[1;4mValidati 11     - 100    -          1.0127 -           0.7812    | 0.7611   - 0.0120\u001b[0m\n",
      "Training 12     - 100    -          0.1416 -           0.9438    | 0.9450   - 0.1687\n",
      "\u001b[1;4mValidati 12     - 100    -          0.8490 -           0.8359    | 0.8375   - 0.0125\u001b[0m\n",
      "Training 13     - 100    -          0.1577 -           0.9594    | 0.9639   - 0.1639\n",
      "\u001b[1;4mValidati 13     - 100    -          1.5235 -           0.6484    | 0.6575   - 0.0122\u001b[0m\n",
      "Training 14     - 100    -          0.2252 -           0.9250    | 0.9234   - 0.1673\n",
      "\u001b[1;4mValidati 14     - 100    -          0.7317 -           0.8047    | 0.8002   - 0.0137\u001b[0m\n",
      "Training 15     - 100    -          0.2259 -           0.9250    | 0.9287   - 0.1715\n",
      "\u001b[1;4mValidati 15     - 100    -          0.6366 -           0.9141    | 0.8916   - 0.0165\u001b[0m\n",
      "Training 16     - 100    -          0.1327 -           0.9500    | 0.9465   - 0.1829\n",
      "\u001b[1;4mValidati 16     - 100    -          1.0778 -           0.8203    | 0.8344   - 0.0147\u001b[0m\n",
      "Training 17     - 100    -          0.1261 -           0.9656    | 0.9670   - 0.1760\n",
      "\u001b[1;4mValidati 17     - 100    -          1.2098 -           0.7656    | 0.7713   - 0.0147\u001b[0m\n",
      "Training 18     - 100    -          0.1285 -           0.9625    | 0.9623   - 0.1649\n",
      "\n",
      "Training 19     - 100    -          0.1069 -           0.9750    | 0.9750   - 0.1931\n",
      "\u001b[1;4mValidati 19     - 100    -          1.0303 -           0.8281    | 0.8269   - 0.0473\u001b[0m\n",
      "Training 20     - 100    -          0.1005 -           0.9594    | 0.9624   - 0.1987\n",
      "\u001b[1;4mValidati 20     - 100    -          1.5312 -           0.7734    | 0.7644   - 0.0133\u001b[0m\n",
      "Training 21     - 100    -          0.1574 -           0.9625    | 0.9655   - 0.1686\n",
      "\u001b[1;4mValidati 21     - 100    -          1.3431 -           0.7734    | 0.7734   - 0.0140\u001b[0m\n",
      "Training 22     - 100    -          0.0545 -           0.9781    | 0.9812   - 0.1628\n",
      "\u001b[1;4mValidati 22     - 100    -          1.3085 -           0.7812    | 0.7903   - 0.0127\u001b[0m\n",
      "Training 23     - 100    -          0.0567 -           0.9844    | 0.9828   - 0.1702\n",
      "\u001b[1;4mValidati 23     - 100    -          1.4051 -           0.8203    | 0.8203   - 0.0137\u001b[0m\n",
      "Training 24     - 100    -          0.0897 -           0.9719    | 0.9719   - 0.1678\n",
      "\u001b[1;4mValidati 24     - 100    -          0.6498 -           0.8984    | 0.9018   - 0.0140\u001b[0m\n",
      "Training 25     - 100    -          0.0486 -           0.9844    | 0.9843   - 0.1708\n",
      "\u001b[1;4mValidati 25     - 100    -          0.7304 -           0.8125    | 0.8036   - 0.0138\u001b[0m\n",
      "Training 26     - 100    -          0.0393 -           0.9906    | 0.9922   - 0.1733\n",
      "\u001b[1;4mValidati 26     - 100    -          1.0169 -           0.8203    | 0.8324   - 0.0153\u001b[0m\n",
      "Training 27     - 100    -          0.0281 -           0.9969    | 0.9953   - 0.1964\n",
      "\u001b[1;4mValidati 27     - 100    -          0.7993 -           0.7891    | 0.7891   - 0.0133\u001b[0m\n",
      "Training 28     - 100    -          0.0135 -           1.0000    | 0.9984   - 0.1809\n",
      "\u001b[1;4mValidati 28     - 100    -          0.6832 -           0.8672    | 0.8703   - 0.0187\u001b[0m\n",
      "Training 29     - 100    -          0.0102 -           1.0000    | 1.0000   - 0.1690\n",
      "\u001b[1;4mValidati 29     - 100    -          1.0422 -           0.8750    | 0.8750   - 0.0135\u001b[0m\n",
      "Training 30     - 100    -          0.0160 -           0.9938    | 0.9938   - 0.1692\n",
      "\u001b[1;4mValidati 30     - 100    -          1.3404 -           0.7891    | 0.8012   - 0.0142\u001b[0m\n",
      "Training 31     - 100    -          0.0220 -           0.9938    | 0.9938   - 0.1677\n",
      "\u001b[1;4mValidati 31     - 100    -          0.8964 -           0.8672    | 0.8672   - 0.0131\u001b[0m\n",
      "Training 32     - 100    -          0.0251 -           0.9875    | 0.9859   - 0.1676\n",
      "\n",
      "Training 33     - 100    -          0.0066 -           1.0000    | 1.0000   - 0.1649\n",
      "\u001b[1;4mValidati 33     - 100    -          0.6057 -           0.8984    | 0.9016   - 0.0135\u001b[0m\n",
      "Training 34     - 100    -          0.0470 -           0.9875    | 0.9875   - 0.1687\n",
      "\u001b[1;4mValidati 34     - 100    -          1.5975 -           0.7734    | 0.7734   - 0.0147\u001b[0m\n",
      "Training 35     - 100    -          0.0163 -           0.9969    | 0.9969   - 0.1706\n",
      "\u001b[1;4mValidati 35     - 100    -          0.9191 -           0.8125    | 0.8125   - 0.0136\u001b[0m\n",
      "Training 36     - 100    -          0.0250 -           0.9938    | 0.9938   - 0.1689\n",
      "\u001b[1;4mValidati 36     - 100    -          0.9065 -           0.8047    | 0.8078   - 0.0132\u001b[0m\n",
      "Training 37     - 100    -          0.0099 -           1.0000    | 1.0000   - 0.1693\n",
      "\u001b[1;4mValidati 37     - 100    -          1.0024 -           0.8203    | 0.8236   - 0.0138\u001b[0m\n",
      "Training 38     - 100    -          0.0054 -           1.0000    | 1.0000   - 0.1677\n",
      "\u001b[1;4mValidati 38     - 100    -          0.9261 -           0.8516    | 0.8548   - 0.0136\u001b[0m\n",
      "Training 39     - 100    -          0.0037 -           1.0000    | 1.0000   - 0.1650\n",
      "\u001b[1;4mValidati 39     - 100    -          0.9722 -           0.8359    | 0.8359   - 0.0140\u001b[0m\n",
      "Training 40     - 100    -          0.0029 -           1.0000    | 1.0000   - 0.1730\n",
      "\n",
      "Training 41     - 100    -          0.0080 -           1.0000    | 1.0000   - 0.1672\n",
      "\u001b[1;4mValidati 41     - 100    -          1.3444 -           0.8047    | 0.8002   - 0.0134\u001b[0m\n",
      "Training 42     - 100    -          0.0023 -           1.0000    | 1.0000   - 0.1667\n",
      "\u001b[1;4mValidati 42     - 100    -          0.8021 -           0.8438    | 0.8391   - 0.0128\u001b[0m\n",
      "Training 43     - 100    -          0.0042 -           1.0000    | 1.0000   - 0.1692\n",
      "\u001b[1;4mValidati 43     - 100    -          1.4877 -           0.7812    | 0.7812   - 0.0140\u001b[0m\n",
      "Training 44     - 100    -          0.0021 -           1.0000    | 1.0000   - 0.1633\n",
      "\u001b[1;4mValidati 44     - 100    -          0.8956 -           0.8594    | 0.8594   - 0.0132\u001b[0m\n",
      "Training 45     - 100    -          0.0072 -           1.0000    | 1.0000   - 0.1924\n",
      "\u001b[1;4mValidati 45     - 100    -          0.8697 -           0.8594    | 0.8594   - 0.0218\u001b[0m\n",
      "Training 46     - 100    -          0.0032 -           1.0000    | 1.0000   - 0.1794\n",
      "\u001b[1;4mValidati 46     - 100    -          1.0209 -           0.8359    | 0.8359   - 0.0148\u001b[0m\n",
      "Training 47     - 100    -          0.0014 -           1.0000    | 1.0000   - 0.1755\n",
      "\u001b[1;4mValidati 47     - 100    -          0.6443 -           0.9141    | 0.9141   - 0.0159\u001b[0m\n",
      "Training 48     - 100    -          0.0016 -           1.0000    | 1.0000   - 0.1686\n",
      "\u001b[1;4mValidati 48     - 100    -          1.1430 -           0.8672    | 0.8672   - 0.0139\u001b[0m\n",
      "Training 49     - 100    -          0.0028 -           1.0000    | 1.0000   - 0.1692\n",
      "\u001b[1;4mValidati 49     - 100    -          1.0584 -           0.8672    | 0.8672   - 0.0146\u001b[0m\n",
      "Training 50     - 100    -          0.0015 -           1.0000    | 1.0000   - 0.1686\n",
      "\u001b[1;4mValidati 50     - 100    -          1.3093 -           0.8438    | 0.8438   - 0.0158\u001b[0m\n",
      "Training 51     - 100    -          0.0020 -           1.0000    | 1.0000   - 0.1741\n",
      "\u001b[1;4mValidati 51     - 100    -          0.9584 -           0.8672    | 0.8672   - 0.0153\u001b[0m\n",
      "Training 52     - 100    -          0.0032 -           1.0000    | 1.0000   - 0.1742\n",
      "\u001b[1;4mValidati 52     - 100    -          0.9169 -           0.8672    | 0.8672   - 0.0162\u001b[0m\n",
      "Training 53     - 100    -          0.0018 -           1.0000    | 1.0000   - 0.1931\n",
      "\u001b[1;4mValidati 53     - 100    -          0.9487 -           0.8594    | 0.8594   - 0.0182\u001b[0m\n",
      "Training 54     - 100    -          0.0017 -           1.0000    | 1.0000   - 0.1771\n",
      "\u001b[1;4mValidati 54     - 100    -          0.8931 -           0.8594    | 0.8594   - 0.0143\u001b[0m\n",
      "\n",
      "\u001b[1;4mValidati 55     - 100    -          0.9252 -           0.8516    | 0.8516   - 0.0162\u001b[0m\n",
      "Training 56     - 100    -          0.0283 -           0.9969    | 0.9969   - 0.1809\n",
      "\u001b[1;4mValidati 56     - 100    -          1.0983 -           0.8359    | 0.8359   - 0.0142\u001b[0m\n",
      "Training 57     - 100    -          0.0212 -           0.9938    | 0.9938   - 0.1794\n",
      "\u001b[1;4mValidati 57     - 100    -          0.7282 -           0.8906    | 0.8937   - 0.0173\u001b[0m\n",
      "Training 58     - 100    -          0.0013 -           1.0000    | 1.0000   - 0.1792\n",
      "\u001b[1;4mValidati 58     - 100    -          1.6725 -           0.7578    | 0.7578   - 0.0138\u001b[0m\n",
      "\n",
      "\u001b[1;4mValidati 59     - 100    -          1.0377 -           0.8750    | 0.8750   - 0.0158\u001b[0m\n",
      "Training 60     - 100    -          0.0050 -           0.9969    | 0.9984   - 0.1669\n",
      "\u001b[1;4mValidati 60     - 100    -          0.7494 -           0.8906    | 0.8968   - 0.0143\u001b[0m\n",
      "Training 61     - 100    -          0.0049 -           1.0000    | 1.0000   - 0.1932\n",
      "\u001b[1;4mValidati 61     - 100    -          0.9321 -           0.8438    | 0.8469   - 0.0139\u001b[0m\n",
      "Training 62     - 100    -          0.0016 -           1.0000    | 1.0000   - 0.1868\n",
      "\u001b[1;4mValidati 62     - 100    -          0.8420 -           0.8438    | 0.8469   - 0.0166\u001b[0m\n",
      "Training 63     - 100    -          0.0047 -           1.0000    | 1.0000   - 0.1683\n",
      "\u001b[1;4mValidati 63     - 100    -          0.8593 -           0.8438    | 0.8438   - 0.0150\u001b[0m\n",
      "Training 64     - 100    -          0.0024 -           1.0000    | 1.0000   - 0.1702\n",
      "\u001b[1;4mValidati 64     - 100    -          1.0342 -           0.8516    | 0.8548   - 0.0150\u001b[0m\n",
      "Training 65     - 100    -          0.0016 -           1.0000    | 1.0000   - 0.1732\n",
      "\n",
      "Training 66     - 100    -          0.0024 -           1.0000    | 1.0000   - 0.1765\n",
      "\n",
      "Training 67     - 100    -          0.0028 -           1.0000    | 1.0000   - 0.1737\n",
      "\n",
      "Training 68     - 100    -          0.0010 -           1.0000    | 1.0000   - 0.1642\n",
      "\u001b[1;4mValidati 68     - 100    -          1.1661 -           0.8359    | 0.8423   - 0.0129\u001b[0m\n",
      "Training 69     - 100    -          0.0019 -           1.0000    | 1.0000   - 0.1638\n",
      "\u001b[1;4mValidati 69     - 100    -          0.9614 -           0.8125    | 0.8110   - 0.0173\u001b[0m\n",
      "Training 70     - 100    -          0.0021 -           1.0000    | 1.0000   - 0.1598\n",
      "\u001b[1;4mValidati 70     - 100    -          1.0139 -           0.8125    | 0.7965   - 0.0125\u001b[0m\n",
      "Training 71     - 100    -          0.0012 -           1.0000    | 1.0000   - 0.1582\n",
      "\u001b[1;4mValidati 71     - 100    -          0.8392 -           0.8359    | 0.8343   - 0.0125\u001b[0m\n",
      "Training 72     - 100    -          0.0008 -           1.0000    | 1.0000   - 0.1573\n",
      "\u001b[1;4mValidati 72     - 100    -          0.8002 -           0.8203    | 0.8110   - 0.0136\u001b[0m\n",
      "Training 73     - 100    -          0.0014 -           1.0000    | 1.0000   - 0.1566\n",
      "\u001b[1;4mValidati 73     - 100    -          0.9091 -           0.8672    | 0.8576   - 0.0122\u001b[0m\n",
      "Training 74     - 100    -          0.0017 -           1.0000    | 1.0000   - 0.1565\n",
      "\n",
      "Training 75     - 100    -          0.0031 -           1.0000    | 1.0000   - 0.1570\n",
      "\u001b[1;4mValidati 75     - 100    -          0.9651 -           0.8438    | 0.8579   - 0.0124\u001b[0m\n",
      "Training 76     - 100    -          0.0011 -           1.0000    | 1.0000   - 0.1572\n",
      "\u001b[1;4mValidati 76     - 100    -          1.4329 -           0.8047    | 0.8081   - 0.0123\u001b[0m\n",
      "Training 77     - 100    -          0.0023 -           1.0000    | 1.0000   - 0.1607\n",
      "\u001b[1;4mValidati 77     - 100    -          0.8294 -           0.8594    | 0.8548   - 0.0134\u001b[0m\n",
      "Training 78     - 100    -          0.0019 -           1.0000    | 1.0000   - 0.1604\n",
      "\u001b[1;4mValidati 78     - 100    -          0.7884 -           0.8594    | 0.8548   - 0.0126\u001b[0m\n",
      "Training 79     - 100    -          0.0008 -           1.0000    | 1.0000   - 0.1590\n",
      "\u001b[1;4mValidati 79     - 100    -          0.7015 -           0.9062    | 0.9016   - 0.0137\u001b[0m\n",
      "Training 80     - 100    -          0.0010 -           1.0000    | 1.0000   - 0.1583\n",
      "\u001b[1;4mValidati 80     - 100    -          1.5795 -           0.8359    | 0.8314   - 0.0137\u001b[0m\n",
      "Training 81     - 100    -          0.0017 -           1.0000    | 1.0000   - 0.1583\n",
      "\n",
      "Training 82     - 100    -          0.0011 -           1.0000    | 1.0000   - 0.1671\n",
      "\u001b[1;4mValidati 82     - 100    -          0.7596 -           0.8750    | 0.8579   - 0.0134\u001b[0m\n",
      "Training 83     - 100    -          0.0022 -           1.0000    | 1.0000   - 0.1636\n",
      "\u001b[1;4mValidati 83     - 100    -          1.2627 -           0.8359    | 0.8359   - 0.0168\u001b[0m\n",
      "Training 84     - 100    -          0.0007 -           1.0000    | 1.0000   - 0.1632\n",
      "\u001b[1;4mValidati 84     - 100    -          1.3267 -           0.8281    | 0.8281   - 0.0129\u001b[0m\n",
      "Training 85     - 100    -          0.0009 -           1.0000    | 1.0000   - 0.1566\n",
      "\u001b[1;4mValidati 85     - 100    -          1.2731 -           0.8516    | 0.8516   - 0.0126\u001b[0m\n",
      "Training 86     - 100    -          0.0009 -           1.0000    | 1.0000   - 0.1613\n",
      "\u001b[1;4mValidati 86     - 100    -          0.7867 -           0.8750    | 0.8703   - 0.0137\u001b[0m\n",
      "Training 87     - 100    -          0.0014 -           1.0000    | 1.0000   - 0.1571\n",
      "\u001b[1;4mValidati 87     - 100    -          1.4840 -           0.7812    | 0.7768   - 0.0126\u001b[0m\n",
      "Training 88     - 100    -          0.0006 -           1.0000    | 1.0000   - 0.1574\n",
      "\n",
      "Training 89     - 100    -          0.0009 -           1.0000    | 1.0000   - 0.1570\n",
      "\u001b[1;4mValidati 89     - 100    -          1.3743 -           0.8281    | 0.8281   - 0.0127\u001b[0m\n",
      "Training 90     - 100    -          0.0005 -           1.0000    | 1.0000   - 0.1563\n",
      "\u001b[1;4mValidati 90     - 100    -          1.1435 -           0.8516    | 0.8516   - 0.0124\u001b[0m\n",
      "Training 91     - 100    -          0.0008 -           1.0000    | 1.0000   - 0.1616\n",
      "\u001b[1;4mValidati 91     - 100    -          0.8455 -           0.8516    | 0.8516   - 0.0134\u001b[0m\n",
      "Training 92     - 100    -          0.0011 -           1.0000    | 1.0000   - 0.1579\n",
      "\u001b[1;4mValidati 92     - 100    -          1.2161 -           0.8516    | 0.8516   - 0.0125\u001b[0m\n",
      "Training 93     - 100    -          0.0005 -           1.0000    | 1.0000   - 0.1579\n",
      "\u001b[1;4mValidati 93     - 100    -          0.8038 -           0.8516    | 0.8516   - 0.0129\u001b[0m\n",
      "Training 94     - 100    -          0.0009 -           1.0000    | 1.0000   - 0.1591\n",
      "\u001b[1;4mValidati 94     - 100    -          1.0847 -           0.8516    | 0.8516   - 0.0129\u001b[0m\n",
      "Training 95     - 100    -          0.0004 -           1.0000    | 1.0000   - 0.1574\n",
      "\u001b[1;4mValidati 95     - 100    -          0.7288 -           0.8984    | 0.8984   - 0.0147\u001b[0m\n",
      "Training 96     - 100    -          0.0003 -           1.0000    | 1.0000   - 0.1607\n",
      "\u001b[1;4mValidati 96     - 100    -          1.1549 -           0.8516    | 0.8516   - 0.0146\u001b[0m\n",
      "Training 97     - 100    -          0.0007 -           1.0000    | 1.0000   - 0.1567\n",
      "\u001b[1;4mValidati 97     - 100    -          0.7950 -           0.8750    | 0.8750   - 0.0122\u001b[0m\n",
      "Training 98     - 100    -          0.0008 -           1.0000    | 1.0000   - 0.1568\n",
      "\u001b[1;4mValidati 98     - 100    -          1.0830 -           0.8750    | 0.8750   - 0.0131\u001b[0m\n",
      "Training 99     - 100    -          0.0004 -           1.0000    | 1.0000   - 0.1581\n",
      "\u001b[1;4mValidati 99     - 100    -          1.1487 -           0.8516    | 0.8516   - 0.0121\u001b[0m\n",
      "Training 100    - 100    -          0.0006 -           1.0000    | 1.0000   - 0.1569\n"
     ]
    }
   ],
   "source": [
    "# Fit function\n",
    "trainer.set_printing_form()\n",
    "print(trainer.header)\n",
    "\n",
    "start_epoch = trainer.checkpoint.epoch_counter\n",
    "end_epoch = args.nb_epoch\n",
    "\n",
    "for e in range(start_epoch, args.nb_epoch):\n",
    "    trainer.train_fn(e)\n",
    "    trainer.val_fn(e)\n",
    "    \n",
    "    trainer.tensorboard.flush()"
   ]
  },
  {
   "cell_type": "code",
   "execution_count": 25,
   "metadata": {},
   "outputs": [],
   "source": [
    "if args.dataset.lower() == \"speechcommand\":\n",
    "    trainer.test_fn()"
   ]
  },
  {
   "cell_type": "markdown",
   "metadata": {},
   "source": [
    "## display"
   ]
  },
  {
   "cell_type": "code",
   "execution_count": 32,
   "metadata": {},
   "outputs": [
    {
     "output_type": "display_data",
     "data": {
      "text/plain": "<Figure size 2160x1008 with 3 Axes>",
      "image/svg+xml": "<?xml version=\"1.0\" encoding=\"utf-8\" standalone=\"no\"?>\n<!DOCTYPE svg PUBLIC \"-//W3C//DTD SVG 1.1//EN\"\n  \"http://www.w3.org/Graphics/SVG/1.1/DTD/svg11.dtd\">\n<!-- Created with matplotlib (https://matplotlib.org/) -->\n<svg height=\"377.005398pt\" version=\"1.1\" viewBox=\"0 0 1711.303125 377.005398\" width=\"1711.303125pt\" xmlns=\"http://www.w3.org/2000/svg\" xmlns:xlink=\"http://www.w3.org/1999/xlink\">\n <defs>\n  <style type=\"text/css\">\n*{stroke-linecap:butt;stroke-linejoin:round;}\n  </style>\n </defs>\n <g id=\"figure_1\">\n  <g id=\"patch_1\">\n   <path d=\"M 0 377.005398 \nL 1711.303125 377.005398 \nL 1711.303125 -0 \nL 0 -0 \nz\n\" style=\"fill:none;\"/>\n  </g>\n  <g id=\"axes_1\">\n   <g id=\"patch_2\">\n    <path d=\"M 30.103125 353.127273 \nL 522.456066 353.127273 \nL 522.456066 7.2 \nL 30.103125 7.2 \nz\n\" style=\"fill:#ffffff;\"/>\n   </g>\n   <g id=\"matplotlib.axis_1\">\n    <g id=\"xtick_1\">\n     <g id=\"line2d_1\">\n      <defs>\n       <path d=\"M 0 0 \nL 0 3.5 \n\" id=\"m983591aa4a\" style=\"stroke:#000000;stroke-width:0.8;\"/>\n      </defs>\n      <g>\n       <use style=\"stroke:#000000;stroke-width:0.8;\" x=\"52.482804\" xlink:href=\"#m983591aa4a\" y=\"353.127273\"/>\n      </g>\n     </g>\n     <g id=\"text_1\">\n      <!-- 0 -->\n      <defs>\n       <path d=\"M 31.78125 66.40625 \nQ 24.171875 66.40625 20.328125 58.90625 \nQ 16.5 51.421875 16.5 36.375 \nQ 16.5 21.390625 20.328125 13.890625 \nQ 24.171875 6.390625 31.78125 6.390625 \nQ 39.453125 6.390625 43.28125 13.890625 \nQ 47.125 21.390625 47.125 36.375 \nQ 47.125 51.421875 43.28125 58.90625 \nQ 39.453125 66.40625 31.78125 66.40625 \nz\nM 31.78125 74.21875 \nQ 44.046875 74.21875 50.515625 64.515625 \nQ 56.984375 54.828125 56.984375 36.375 \nQ 56.984375 17.96875 50.515625 8.265625 \nQ 44.046875 -1.421875 31.78125 -1.421875 \nQ 19.53125 -1.421875 13.0625 8.265625 \nQ 6.59375 17.96875 6.59375 36.375 \nQ 6.59375 54.828125 13.0625 64.515625 \nQ 19.53125 74.21875 31.78125 74.21875 \nz\n\" id=\"DejaVuSans-48\"/>\n      </defs>\n      <g transform=\"translate(49.301554 367.72571)scale(0.1 -0.1)\">\n       <use xlink:href=\"#DejaVuSans-48\"/>\n      </g>\n     </g>\n    </g>\n    <g id=\"xtick_2\">\n     <g id=\"line2d_2\">\n      <g>\n       <use style=\"stroke:#000000;stroke-width:0.8;\" x=\"142.90575\" xlink:href=\"#m983591aa4a\" y=\"353.127273\"/>\n      </g>\n     </g>\n     <g id=\"text_2\">\n      <!-- 20 -->\n      <defs>\n       <path d=\"M 19.1875 8.296875 \nL 53.609375 8.296875 \nL 53.609375 0 \nL 7.328125 0 \nL 7.328125 8.296875 \nQ 12.9375 14.109375 22.625 23.890625 \nQ 32.328125 33.6875 34.8125 36.53125 \nQ 39.546875 41.84375 41.421875 45.53125 \nQ 43.3125 49.21875 43.3125 52.78125 \nQ 43.3125 58.59375 39.234375 62.25 \nQ 35.15625 65.921875 28.609375 65.921875 \nQ 23.96875 65.921875 18.8125 64.3125 \nQ 13.671875 62.703125 7.8125 59.421875 \nL 7.8125 69.390625 \nQ 13.765625 71.78125 18.9375 73 \nQ 24.125 74.21875 28.421875 74.21875 \nQ 39.75 74.21875 46.484375 68.546875 \nQ 53.21875 62.890625 53.21875 53.421875 \nQ 53.21875 48.921875 51.53125 44.890625 \nQ 49.859375 40.875 45.40625 35.40625 \nQ 44.1875 33.984375 37.640625 27.21875 \nQ 31.109375 20.453125 19.1875 8.296875 \nz\n\" id=\"DejaVuSans-50\"/>\n      </defs>\n      <g transform=\"translate(136.54325 367.72571)scale(0.1 -0.1)\">\n       <use xlink:href=\"#DejaVuSans-50\"/>\n       <use x=\"63.623047\" xlink:href=\"#DejaVuSans-48\"/>\n      </g>\n     </g>\n    </g>\n    <g id=\"xtick_3\">\n     <g id=\"line2d_3\">\n      <g>\n       <use style=\"stroke:#000000;stroke-width:0.8;\" x=\"233.328696\" xlink:href=\"#m983591aa4a\" y=\"353.127273\"/>\n      </g>\n     </g>\n     <g id=\"text_3\">\n      <!-- 40 -->\n      <defs>\n       <path d=\"M 37.796875 64.3125 \nL 12.890625 25.390625 \nL 37.796875 25.390625 \nz\nM 35.203125 72.90625 \nL 47.609375 72.90625 \nL 47.609375 25.390625 \nL 58.015625 25.390625 \nL 58.015625 17.1875 \nL 47.609375 17.1875 \nL 47.609375 0 \nL 37.796875 0 \nL 37.796875 17.1875 \nL 4.890625 17.1875 \nL 4.890625 26.703125 \nz\n\" id=\"DejaVuSans-52\"/>\n      </defs>\n      <g transform=\"translate(226.966196 367.72571)scale(0.1 -0.1)\">\n       <use xlink:href=\"#DejaVuSans-52\"/>\n       <use x=\"63.623047\" xlink:href=\"#DejaVuSans-48\"/>\n      </g>\n     </g>\n    </g>\n    <g id=\"xtick_4\">\n     <g id=\"line2d_4\">\n      <g>\n       <use style=\"stroke:#000000;stroke-width:0.8;\" x=\"323.751642\" xlink:href=\"#m983591aa4a\" y=\"353.127273\"/>\n      </g>\n     </g>\n     <g id=\"text_4\">\n      <!-- 60 -->\n      <defs>\n       <path d=\"M 33.015625 40.375 \nQ 26.375 40.375 22.484375 35.828125 \nQ 18.609375 31.296875 18.609375 23.390625 \nQ 18.609375 15.53125 22.484375 10.953125 \nQ 26.375 6.390625 33.015625 6.390625 \nQ 39.65625 6.390625 43.53125 10.953125 \nQ 47.40625 15.53125 47.40625 23.390625 \nQ 47.40625 31.296875 43.53125 35.828125 \nQ 39.65625 40.375 33.015625 40.375 \nz\nM 52.59375 71.296875 \nL 52.59375 62.3125 \nQ 48.875 64.0625 45.09375 64.984375 \nQ 41.3125 65.921875 37.59375 65.921875 \nQ 27.828125 65.921875 22.671875 59.328125 \nQ 17.53125 52.734375 16.796875 39.40625 \nQ 19.671875 43.65625 24.015625 45.921875 \nQ 28.375 48.1875 33.59375 48.1875 \nQ 44.578125 48.1875 50.953125 41.515625 \nQ 57.328125 34.859375 57.328125 23.390625 \nQ 57.328125 12.15625 50.6875 5.359375 \nQ 44.046875 -1.421875 33.015625 -1.421875 \nQ 20.359375 -1.421875 13.671875 8.265625 \nQ 6.984375 17.96875 6.984375 36.375 \nQ 6.984375 53.65625 15.1875 63.9375 \nQ 23.390625 74.21875 37.203125 74.21875 \nQ 40.921875 74.21875 44.703125 73.484375 \nQ 48.484375 72.75 52.59375 71.296875 \nz\n\" id=\"DejaVuSans-54\"/>\n      </defs>\n      <g transform=\"translate(317.389142 367.72571)scale(0.1 -0.1)\">\n       <use xlink:href=\"#DejaVuSans-54\"/>\n       <use x=\"63.623047\" xlink:href=\"#DejaVuSans-48\"/>\n      </g>\n     </g>\n    </g>\n    <g id=\"xtick_5\">\n     <g id=\"line2d_5\">\n      <g>\n       <use style=\"stroke:#000000;stroke-width:0.8;\" x=\"414.174588\" xlink:href=\"#m983591aa4a\" y=\"353.127273\"/>\n      </g>\n     </g>\n     <g id=\"text_5\">\n      <!-- 80 -->\n      <defs>\n       <path d=\"M 31.78125 34.625 \nQ 24.75 34.625 20.71875 30.859375 \nQ 16.703125 27.09375 16.703125 20.515625 \nQ 16.703125 13.921875 20.71875 10.15625 \nQ 24.75 6.390625 31.78125 6.390625 \nQ 38.8125 6.390625 42.859375 10.171875 \nQ 46.921875 13.96875 46.921875 20.515625 \nQ 46.921875 27.09375 42.890625 30.859375 \nQ 38.875 34.625 31.78125 34.625 \nz\nM 21.921875 38.8125 \nQ 15.578125 40.375 12.03125 44.71875 \nQ 8.5 49.078125 8.5 55.328125 \nQ 8.5 64.0625 14.71875 69.140625 \nQ 20.953125 74.21875 31.78125 74.21875 \nQ 42.671875 74.21875 48.875 69.140625 \nQ 55.078125 64.0625 55.078125 55.328125 \nQ 55.078125 49.078125 51.53125 44.71875 \nQ 48 40.375 41.703125 38.8125 \nQ 48.828125 37.15625 52.796875 32.3125 \nQ 56.78125 27.484375 56.78125 20.515625 \nQ 56.78125 9.90625 50.3125 4.234375 \nQ 43.84375 -1.421875 31.78125 -1.421875 \nQ 19.734375 -1.421875 13.25 4.234375 \nQ 6.78125 9.90625 6.78125 20.515625 \nQ 6.78125 27.484375 10.78125 32.3125 \nQ 14.796875 37.15625 21.921875 38.8125 \nz\nM 18.3125 54.390625 \nQ 18.3125 48.734375 21.84375 45.5625 \nQ 25.390625 42.390625 31.78125 42.390625 \nQ 38.140625 42.390625 41.71875 45.5625 \nQ 45.3125 48.734375 45.3125 54.390625 \nQ 45.3125 60.0625 41.71875 63.234375 \nQ 38.140625 66.40625 31.78125 66.40625 \nQ 25.390625 66.40625 21.84375 63.234375 \nQ 18.3125 60.0625 18.3125 54.390625 \nz\n\" id=\"DejaVuSans-56\"/>\n      </defs>\n      <g transform=\"translate(407.812088 367.72571)scale(0.1 -0.1)\">\n       <use xlink:href=\"#DejaVuSans-56\"/>\n       <use x=\"63.623047\" xlink:href=\"#DejaVuSans-48\"/>\n      </g>\n     </g>\n    </g>\n    <g id=\"xtick_6\">\n     <g id=\"line2d_6\">\n      <g>\n       <use style=\"stroke:#000000;stroke-width:0.8;\" x=\"504.597534\" xlink:href=\"#m983591aa4a\" y=\"353.127273\"/>\n      </g>\n     </g>\n     <g id=\"text_6\">\n      <!-- 100 -->\n      <defs>\n       <path d=\"M 12.40625 8.296875 \nL 28.515625 8.296875 \nL 28.515625 63.921875 \nL 10.984375 60.40625 \nL 10.984375 69.390625 \nL 28.421875 72.90625 \nL 38.28125 72.90625 \nL 38.28125 8.296875 \nL 54.390625 8.296875 \nL 54.390625 0 \nL 12.40625 0 \nz\n\" id=\"DejaVuSans-49\"/>\n      </defs>\n      <g transform=\"translate(495.053784 367.72571)scale(0.1 -0.1)\">\n       <use xlink:href=\"#DejaVuSans-49\"/>\n       <use x=\"63.623047\" xlink:href=\"#DejaVuSans-48\"/>\n       <use x=\"127.246094\" xlink:href=\"#DejaVuSans-48\"/>\n      </g>\n     </g>\n    </g>\n   </g>\n   <g id=\"matplotlib.axis_2\">\n    <g id=\"ytick_1\">\n     <g id=\"line2d_7\">\n      <defs>\n       <path d=\"M 0 0 \nL -3.5 0 \n\" id=\"m172f9f6bb7\" style=\"stroke:#000000;stroke-width:0.8;\"/>\n      </defs>\n      <g>\n       <use style=\"stroke:#000000;stroke-width:0.8;\" x=\"30.103125\" xlink:href=\"#m172f9f6bb7\" y=\"285.460581\"/>\n      </g>\n     </g>\n     <g id=\"text_7\">\n      <!-- 0.2 -->\n      <defs>\n       <path d=\"M 10.6875 12.40625 \nL 21 12.40625 \nL 21 0 \nL 10.6875 0 \nz\n\" id=\"DejaVuSans-46\"/>\n      </defs>\n      <g transform=\"translate(7.2 289.2598)scale(0.1 -0.1)\">\n       <use xlink:href=\"#DejaVuSans-48\"/>\n       <use x=\"63.623047\" xlink:href=\"#DejaVuSans-46\"/>\n       <use x=\"95.410156\" xlink:href=\"#DejaVuSans-50\"/>\n      </g>\n     </g>\n    </g>\n    <g id=\"ytick_2\">\n     <g id=\"line2d_8\">\n      <g>\n       <use style=\"stroke:#000000;stroke-width:0.8;\" x=\"30.103125\" xlink:href=\"#m172f9f6bb7\" y=\"213.192442\"/>\n      </g>\n     </g>\n     <g id=\"text_8\">\n      <!-- 0.4 -->\n      <g transform=\"translate(7.2 216.991661)scale(0.1 -0.1)\">\n       <use xlink:href=\"#DejaVuSans-48\"/>\n       <use x=\"63.623047\" xlink:href=\"#DejaVuSans-46\"/>\n       <use x=\"95.410156\" xlink:href=\"#DejaVuSans-52\"/>\n      </g>\n     </g>\n    </g>\n    <g id=\"ytick_3\">\n     <g id=\"line2d_9\">\n      <g>\n       <use style=\"stroke:#000000;stroke-width:0.8;\" x=\"30.103125\" xlink:href=\"#m172f9f6bb7\" y=\"140.924304\"/>\n      </g>\n     </g>\n     <g id=\"text_9\">\n      <!-- 0.6 -->\n      <g transform=\"translate(7.2 144.723523)scale(0.1 -0.1)\">\n       <use xlink:href=\"#DejaVuSans-48\"/>\n       <use x=\"63.623047\" xlink:href=\"#DejaVuSans-46\"/>\n       <use x=\"95.410156\" xlink:href=\"#DejaVuSans-54\"/>\n      </g>\n     </g>\n    </g>\n    <g id=\"ytick_4\">\n     <g id=\"line2d_10\">\n      <g>\n       <use style=\"stroke:#000000;stroke-width:0.8;\" x=\"30.103125\" xlink:href=\"#m172f9f6bb7\" y=\"68.656166\"/>\n      </g>\n     </g>\n     <g id=\"text_10\">\n      <!-- 0.8 -->\n      <g transform=\"translate(7.2 72.455384)scale(0.1 -0.1)\">\n       <use xlink:href=\"#DejaVuSans-48\"/>\n       <use x=\"63.623047\" xlink:href=\"#DejaVuSans-46\"/>\n       <use x=\"95.410156\" xlink:href=\"#DejaVuSans-56\"/>\n      </g>\n     </g>\n    </g>\n   </g>\n   <g id=\"line2d_11\">\n    <path clip-path=\"url(#p58922d55dc)\" d=\"M 52.482804 337.403306 \nL 57.003951 323.853029 \nL 61.525099 304.656807 \nL 66.046246 278.120846 \nL 70.567393 242.551376 \nL 75.088541 192.302438 \nL 79.609688 157.297554 \nL 84.130835 133.584588 \nL 88.651983 117.775916 \nL 93.17313 104.225631 \nL 97.694277 110.436166 \nL 102.215424 124.551058 \nL 106.736572 122.29267 \nL 111.257719 118.340524 \nL 115.778866 124.551058 \nL 120.300014 127.374011 \nL 124.821161 116.646722 \nL 129.342308 124.551058 \nL 133.863456 117.775916 \nL 138.384603 113.823726 \nL 142.90575 107.048605 \nL 147.426897 96.321295 \nL 151.948045 68.65614 \nL 156.469192 76.560476 \nL 160.990339 83.335618 \nL 165.511487 81.641838 \nL 170.032634 86.7232 \nL 174.553781 104.225631 \nL 179.074929 101.402657 \nL 183.596076 91.239933 \nL 188.117223 131.3262 \nL 192.638371 148.264045 \nL 197.159518 146.005657 \nL 201.680665 140.359709 \nL 206.201812 146.005657 \nL 210.72296 101.967243 \nL 215.244107 79.38345 \nL 219.765254 70.914549 \nL 224.286402 78.254278 \nL 228.807549 67.526967 \nL 233.328696 69.785355 \nL 237.849844 63.010213 \nL 242.370991 72.043722 \nL 246.892138 71.479114 \nL 251.413285 70.914528 \nL 255.934433 70.349941 \nL 260.45558 75.99589 \nL 264.976727 68.091553 \nL 269.497875 61.316433 \nL 274.019022 59.058045 \nL 278.540169 55.670484 \nL 283.061317 50.024515 \nL 287.582464 45.50776 \nL 292.103611 41.555614 \nL 296.624758 40.991027 \nL 301.145906 38.732639 \nL 305.667053 38.732618 \nL 310.1882 39.861812 \nL 314.709348 38.732639 \nL 319.230495 37.603445 \nL 323.751642 40.426398 \nL 328.27279 44.378588 \nL 332.793937 40.426398 \nL 337.315084 41.555614 \nL 341.836231 46.072368 \nL 346.357379 42.1202 \nL 350.878526 36.474252 \nL 355.399673 35.909665 \nL 359.920821 30.828303 \nL 364.441968 27.440743 \nL 368.963115 28.005329 \nL 373.484263 28.569915 \nL 378.00541 30.263695 \nL 382.526557 32.522083 \nL 387.047704 31.392911 \nL 391.568852 33.08667 \nL 396.089999 31.392889 \nL 400.611146 29.699109 \nL 405.132294 31.957497 \nL 409.653441 30.263717 \nL 414.174588 29.134501 \nL 418.695736 31.392911 \nL 423.216883 29.699131 \nL 427.73803 29.699109 \nL 432.259178 31.392889 \nL 436.780325 30.263717 \nL 441.301472 28.569915 \nL 445.822619 28.005329 \nL 450.343767 25.746963 \nL 454.864914 28.005329 \nL 459.386061 27.440743 \nL 463.907209 27.440743 \nL 468.428356 27.440743 \nL 472.949503 26.876114 \nL 477.470651 23.488553 \nL 481.991798 25.746941 \nL 486.512945 22.923967 \nL 491.034092 24.617769 \nL 495.55524 91.804562 \nL 500.076387 158.991334 \n\" style=\"fill:none;stroke:#1f77b4;stroke-linecap:square;stroke-width:1.5;\"/>\n   </g>\n   <g id=\"line2d_12\">\n    <path clip-path=\"url(#p58922d55dc)\" d=\"M 52.482804 337.376631 \nL 57.003951 324.554864 \nL 61.525099 304.676379 \nL 66.046246 278.024837 \nL 70.567393 241.651568 \nL 75.088541 192.487521 \nL 79.609688 157.545882 \nL 84.130835 131.307549 \nL 88.651983 115.555111 \nL 93.17313 104.100239 \nL 97.694277 109.991479 \nL 102.215424 124.890254 \nL 106.736572 126.674815 \nL 111.257719 122.253838 \nL 115.778866 127.866963 \nL 120.300014 131.47957 \nL 124.821161 118.220516 \nL 129.342308 125.012544 \nL 133.863456 119.674777 \nL 138.384603 114.27356 \nL 142.90575 107.828912 \nL 147.426897 100.24512 \nL 151.948045 73.850897 \nL 156.469192 80.460674 \nL 160.990339 88.744588 \nL 165.511487 84.943722 \nL 170.032634 88.202229 \nL 174.553781 102.836888 \nL 179.074929 101.259583 \nL 183.596076 89.692565 \nL 188.117223 130.401721 \nL 192.638371 147.261794 \nL 197.159518 147.792243 \nL 201.680665 142.396798 \nL 206.201812 149.093845 \nL 210.72296 104.241418 \nL 215.244107 80.948328 \nL 219.765254 70.801089 \nL 224.286402 76.590887 \nL 228.807549 65.322876 \nL 233.328696 68.366438 \nL 237.849844 63.021111 \nL 242.370991 71.631191 \nL 246.892138 71.265655 \nL 251.413285 70.392995 \nL 255.934433 70.793702 \nL 260.45558 75.911118 \nL 264.976727 68.083671 \nL 269.497875 60.361478 \nL 274.019022 58.461691 \nL 278.540169 52.742881 \nL 283.061317 46.437495 \nL 287.582464 43.346205 \nL 292.103611 40.327778 \nL 296.624758 39.084434 \nL 301.145906 36.251338 \nL 305.667053 35.484966 \nL 310.1882 36.379163 \nL 314.709348 36.157584 \nL 319.230495 35.285808 \nL 323.751642 39.441118 \nL 328.27279 44.086904 \nL 332.793937 40.717285 \nL 337.315084 42.529306 \nL 341.836231 47.556867 \nL 346.357379 43.347217 \nL 350.878526 36.934768 \nL 355.399673 34.687106 \nL 359.920821 28.010843 \nL 364.441968 24.360998 \nL 368.963115 25.191961 \nL 373.484263 26.518633 \nL 378.00541 29.534605 \nL 382.526557 32.362038 \nL 387.047704 31.810762 \nL 391.568852 34.069171 \nL 396.089999 33.871693 \nL 400.611146 32.182371 \nL 405.132294 34.18332 \nL 409.653441 31.672038 \nL 414.174588 30.841053 \nL 418.695736 33.542986 \nL 423.216883 31.596247 \nL 427.73803 32.15476 \nL 432.259178 34.666042 \nL 436.780325 33.554789 \nL 441.301472 30.48129 \nL 445.822619 29.907722 \nL 450.343767 25.68642 \nL 454.864914 26.979968 \nL 459.386061 25.002042 \nL 463.907209 24.735579 \nL 468.428356 25.929235 \nL 472.949503 27.69144 \nL 477.470651 25.259804 \nL 481.991798 28.0419 \nL 486.512945 24.929676 \nL 491.034092 25.687325 \nL 495.55524 91.897906 \nL 500.076387 158.77794 \n\" style=\"fill:none;stroke:#ff7f0e;stroke-linecap:square;stroke-width:1.5;\"/>\n   </g>\n   <g id=\"patch_3\">\n    <path d=\"M 30.103125 353.127273 \nL 30.103125 7.2 \n\" style=\"fill:none;stroke:#000000;stroke-linecap:square;stroke-linejoin:miter;stroke-width:0.8;\"/>\n   </g>\n   <g id=\"patch_4\">\n    <path d=\"M 522.456066 353.127273 \nL 522.456066 7.2 \n\" style=\"fill:none;stroke:#000000;stroke-linecap:square;stroke-linejoin:miter;stroke-width:0.8;\"/>\n   </g>\n   <g id=\"patch_5\">\n    <path d=\"M 30.103125 353.127273 \nL 522.456066 353.127273 \n\" style=\"fill:none;stroke:#000000;stroke-linecap:square;stroke-linejoin:miter;stroke-width:0.8;\"/>\n   </g>\n   <g id=\"patch_6\">\n    <path d=\"M 30.103125 7.2 \nL 522.456066 7.2 \n\" style=\"fill:none;stroke:#000000;stroke-linecap:square;stroke-linejoin:miter;stroke-width:0.8;\"/>\n   </g>\n   <g id=\"legend_1\">\n    <g id=\"patch_7\">\n     <path d=\"M 37.103125 44.55625 \nL 223.25625 44.55625 \nQ 225.25625 44.55625 225.25625 42.55625 \nL 225.25625 14.2 \nQ 225.25625 12.2 223.25625 12.2 \nL 37.103125 12.2 \nQ 35.103125 12.2 35.103125 14.2 \nL 35.103125 42.55625 \nQ 35.103125 44.55625 37.103125 44.55625 \nz\n\" style=\"fill:#ffffff;opacity:0.8;stroke:#cccccc;stroke-linejoin:miter;\"/>\n    </g>\n    <g id=\"line2d_13\">\n     <path d=\"M 39.103125 20.298437 \nL 59.103125 20.298437 \n\" style=\"fill:none;stroke:#1f77b4;stroke-linecap:square;stroke-width:1.5;\"/>\n    </g>\n    <g id=\"line2d_14\"/>\n    <g id=\"text_11\">\n     <!-- val/acc = 0.953125 -->\n     <defs>\n      <path d=\"M 2.984375 54.6875 \nL 12.5 54.6875 \nL 29.59375 8.796875 \nL 46.6875 54.6875 \nL 56.203125 54.6875 \nL 35.6875 0 \nL 23.484375 0 \nz\n\" id=\"DejaVuSans-118\"/>\n      <path d=\"M 34.28125 27.484375 \nQ 23.390625 27.484375 19.1875 25 \nQ 14.984375 22.515625 14.984375 16.5 \nQ 14.984375 11.71875 18.140625 8.90625 \nQ 21.296875 6.109375 26.703125 6.109375 \nQ 34.1875 6.109375 38.703125 11.40625 \nQ 43.21875 16.703125 43.21875 25.484375 \nL 43.21875 27.484375 \nz\nM 52.203125 31.203125 \nL 52.203125 0 \nL 43.21875 0 \nL 43.21875 8.296875 \nQ 40.140625 3.328125 35.546875 0.953125 \nQ 30.953125 -1.421875 24.3125 -1.421875 \nQ 15.921875 -1.421875 10.953125 3.296875 \nQ 6 8.015625 6 15.921875 \nQ 6 25.140625 12.171875 29.828125 \nQ 18.359375 34.515625 30.609375 34.515625 \nL 43.21875 34.515625 \nL 43.21875 35.40625 \nQ 43.21875 41.609375 39.140625 45 \nQ 35.0625 48.390625 27.6875 48.390625 \nQ 23 48.390625 18.546875 47.265625 \nQ 14.109375 46.140625 10.015625 43.890625 \nL 10.015625 52.203125 \nQ 14.9375 54.109375 19.578125 55.046875 \nQ 24.21875 56 28.609375 56 \nQ 40.484375 56 46.34375 49.84375 \nQ 52.203125 43.703125 52.203125 31.203125 \nz\n\" id=\"DejaVuSans-97\"/>\n      <path d=\"M 9.421875 75.984375 \nL 18.40625 75.984375 \nL 18.40625 0 \nL 9.421875 0 \nz\n\" id=\"DejaVuSans-108\"/>\n      <path d=\"M 25.390625 72.90625 \nL 33.6875 72.90625 \nL 8.296875 -9.28125 \nL 0 -9.28125 \nz\n\" id=\"DejaVuSans-47\"/>\n      <path d=\"M 48.78125 52.59375 \nL 48.78125 44.1875 \nQ 44.96875 46.296875 41.140625 47.34375 \nQ 37.3125 48.390625 33.40625 48.390625 \nQ 24.65625 48.390625 19.8125 42.84375 \nQ 14.984375 37.3125 14.984375 27.296875 \nQ 14.984375 17.28125 19.8125 11.734375 \nQ 24.65625 6.203125 33.40625 6.203125 \nQ 37.3125 6.203125 41.140625 7.25 \nQ 44.96875 8.296875 48.78125 10.40625 \nL 48.78125 2.09375 \nQ 45.015625 0.34375 40.984375 -0.53125 \nQ 36.96875 -1.421875 32.421875 -1.421875 \nQ 20.0625 -1.421875 12.78125 6.34375 \nQ 5.515625 14.109375 5.515625 27.296875 \nQ 5.515625 40.671875 12.859375 48.328125 \nQ 20.21875 56 33.015625 56 \nQ 37.15625 56 41.109375 55.140625 \nQ 45.0625 54.296875 48.78125 52.59375 \nz\n\" id=\"DejaVuSans-99\"/>\n      <path id=\"DejaVuSans-32\"/>\n      <path d=\"M 10.59375 45.40625 \nL 73.1875 45.40625 \nL 73.1875 37.203125 \nL 10.59375 37.203125 \nz\nM 10.59375 25.484375 \nL 73.1875 25.484375 \nL 73.1875 17.1875 \nL 10.59375 17.1875 \nz\n\" id=\"DejaVuSans-61\"/>\n      <path d=\"M 10.984375 1.515625 \nL 10.984375 10.5 \nQ 14.703125 8.734375 18.5 7.8125 \nQ 22.3125 6.890625 25.984375 6.890625 \nQ 35.75 6.890625 40.890625 13.453125 \nQ 46.046875 20.015625 46.78125 33.40625 \nQ 43.953125 29.203125 39.59375 26.953125 \nQ 35.25 24.703125 29.984375 24.703125 \nQ 19.046875 24.703125 12.671875 31.3125 \nQ 6.296875 37.9375 6.296875 49.421875 \nQ 6.296875 60.640625 12.9375 67.421875 \nQ 19.578125 74.21875 30.609375 74.21875 \nQ 43.265625 74.21875 49.921875 64.515625 \nQ 56.59375 54.828125 56.59375 36.375 \nQ 56.59375 19.140625 48.40625 8.859375 \nQ 40.234375 -1.421875 26.421875 -1.421875 \nQ 22.703125 -1.421875 18.890625 -0.6875 \nQ 15.09375 0.046875 10.984375 1.515625 \nz\nM 30.609375 32.421875 \nQ 37.25 32.421875 41.125 36.953125 \nQ 45.015625 41.5 45.015625 49.421875 \nQ 45.015625 57.28125 41.125 61.84375 \nQ 37.25 66.40625 30.609375 66.40625 \nQ 23.96875 66.40625 20.09375 61.84375 \nQ 16.21875 57.28125 16.21875 49.421875 \nQ 16.21875 41.5 20.09375 36.953125 \nQ 23.96875 32.421875 30.609375 32.421875 \nz\n\" id=\"DejaVuSans-57\"/>\n      <path d=\"M 10.796875 72.90625 \nL 49.515625 72.90625 \nL 49.515625 64.59375 \nL 19.828125 64.59375 \nL 19.828125 46.734375 \nQ 21.96875 47.46875 24.109375 47.828125 \nQ 26.265625 48.1875 28.421875 48.1875 \nQ 40.625 48.1875 47.75 41.5 \nQ 54.890625 34.8125 54.890625 23.390625 \nQ 54.890625 11.625 47.5625 5.09375 \nQ 40.234375 -1.421875 26.90625 -1.421875 \nQ 22.3125 -1.421875 17.546875 -0.640625 \nQ 12.796875 0.140625 7.71875 1.703125 \nL 7.71875 11.625 \nQ 12.109375 9.234375 16.796875 8.0625 \nQ 21.484375 6.890625 26.703125 6.890625 \nQ 35.15625 6.890625 40.078125 11.328125 \nQ 45.015625 15.765625 45.015625 23.390625 \nQ 45.015625 31 40.078125 35.4375 \nQ 35.15625 39.890625 26.703125 39.890625 \nQ 22.75 39.890625 18.8125 39.015625 \nQ 14.890625 38.140625 10.796875 36.28125 \nz\n\" id=\"DejaVuSans-53\"/>\n      <path d=\"M 40.578125 39.3125 \nQ 47.65625 37.796875 51.625 33 \nQ 55.609375 28.21875 55.609375 21.1875 \nQ 55.609375 10.40625 48.1875 4.484375 \nQ 40.765625 -1.421875 27.09375 -1.421875 \nQ 22.515625 -1.421875 17.65625 -0.515625 \nQ 12.796875 0.390625 7.625 2.203125 \nL 7.625 11.71875 \nQ 11.71875 9.328125 16.59375 8.109375 \nQ 21.484375 6.890625 26.8125 6.890625 \nQ 36.078125 6.890625 40.9375 10.546875 \nQ 45.796875 14.203125 45.796875 21.1875 \nQ 45.796875 27.640625 41.28125 31.265625 \nQ 36.765625 34.90625 28.71875 34.90625 \nL 20.21875 34.90625 \nL 20.21875 43.015625 \nL 29.109375 43.015625 \nQ 36.375 43.015625 40.234375 45.921875 \nQ 44.09375 48.828125 44.09375 54.296875 \nQ 44.09375 59.90625 40.109375 62.90625 \nQ 36.140625 65.921875 28.71875 65.921875 \nQ 24.65625 65.921875 20.015625 65.03125 \nQ 15.375 64.15625 9.8125 62.3125 \nL 9.8125 71.09375 \nQ 15.4375 72.65625 20.34375 73.4375 \nQ 25.25 74.21875 29.59375 74.21875 \nQ 40.828125 74.21875 47.359375 69.109375 \nQ 53.90625 64.015625 53.90625 55.328125 \nQ 53.90625 49.265625 50.4375 45.09375 \nQ 46.96875 40.921875 40.578125 39.3125 \nz\n\" id=\"DejaVuSans-51\"/>\n     </defs>\n     <g transform=\"translate(67.103125 23.798437)scale(0.1 -0.1)\">\n      <use xlink:href=\"#DejaVuSans-118\"/>\n      <use x=\"59.179688\" xlink:href=\"#DejaVuSans-97\"/>\n      <use x=\"120.458984\" xlink:href=\"#DejaVuSans-108\"/>\n      <use x=\"148.242188\" xlink:href=\"#DejaVuSans-47\"/>\n      <use x=\"181.933594\" xlink:href=\"#DejaVuSans-97\"/>\n      <use x=\"243.212891\" xlink:href=\"#DejaVuSans-99\"/>\n      <use x=\"298.193359\" xlink:href=\"#DejaVuSans-99\"/>\n      <use x=\"353.173828\" xlink:href=\"#DejaVuSans-32\"/>\n      <use x=\"384.960938\" xlink:href=\"#DejaVuSans-61\"/>\n      <use x=\"468.75\" xlink:href=\"#DejaVuSans-32\"/>\n      <use x=\"500.537109\" xlink:href=\"#DejaVuSans-48\"/>\n      <use x=\"564.160156\" xlink:href=\"#DejaVuSans-46\"/>\n      <use x=\"595.947266\" xlink:href=\"#DejaVuSans-57\"/>\n      <use x=\"659.570312\" xlink:href=\"#DejaVuSans-53\"/>\n      <use x=\"723.193359\" xlink:href=\"#DejaVuSans-51\"/>\n      <use x=\"786.816406\" xlink:href=\"#DejaVuSans-49\"/>\n      <use x=\"850.439453\" xlink:href=\"#DejaVuSans-50\"/>\n      <use x=\"914.0625\" xlink:href=\"#DejaVuSans-53\"/>\n     </g>\n    </g>\n    <g id=\"line2d_15\">\n     <path d=\"M 39.103125 34.976562 \nL 59.103125 34.976562 \n\" style=\"fill:none;stroke:#ff7f0e;stroke-linecap:square;stroke-width:1.5;\"/>\n    </g>\n    <g id=\"line2d_16\"/>\n    <g id=\"text_12\">\n     <!-- val/f1 = 0.9566928744316101 -->\n     <defs>\n      <path d=\"M 37.109375 75.984375 \nL 37.109375 68.5 \nL 28.515625 68.5 \nQ 23.6875 68.5 21.796875 66.546875 \nQ 19.921875 64.59375 19.921875 59.515625 \nL 19.921875 54.6875 \nL 34.71875 54.6875 \nL 34.71875 47.703125 \nL 19.921875 47.703125 \nL 19.921875 0 \nL 10.890625 0 \nL 10.890625 47.703125 \nL 2.296875 47.703125 \nL 2.296875 54.6875 \nL 10.890625 54.6875 \nL 10.890625 58.5 \nQ 10.890625 67.625 15.140625 71.796875 \nQ 19.390625 75.984375 28.609375 75.984375 \nz\n\" id=\"DejaVuSans-102\"/>\n      <path d=\"M 8.203125 72.90625 \nL 55.078125 72.90625 \nL 55.078125 68.703125 \nL 28.609375 0 \nL 18.3125 0 \nL 43.21875 64.59375 \nL 8.203125 64.59375 \nz\n\" id=\"DejaVuSans-55\"/>\n     </defs>\n     <g transform=\"translate(67.103125 38.476562)scale(0.1 -0.1)\">\n      <use xlink:href=\"#DejaVuSans-118\"/>\n      <use x=\"59.179688\" xlink:href=\"#DejaVuSans-97\"/>\n      <use x=\"120.458984\" xlink:href=\"#DejaVuSans-108\"/>\n      <use x=\"148.242188\" xlink:href=\"#DejaVuSans-47\"/>\n      <use x=\"181.933594\" xlink:href=\"#DejaVuSans-102\"/>\n      <use x=\"217.138672\" xlink:href=\"#DejaVuSans-49\"/>\n      <use x=\"280.761719\" xlink:href=\"#DejaVuSans-32\"/>\n      <use x=\"312.548828\" xlink:href=\"#DejaVuSans-61\"/>\n      <use x=\"396.337891\" xlink:href=\"#DejaVuSans-32\"/>\n      <use x=\"428.125\" xlink:href=\"#DejaVuSans-48\"/>\n      <use x=\"491.748047\" xlink:href=\"#DejaVuSans-46\"/>\n      <use x=\"523.535156\" xlink:href=\"#DejaVuSans-57\"/>\n      <use x=\"587.158203\" xlink:href=\"#DejaVuSans-53\"/>\n      <use x=\"650.78125\" xlink:href=\"#DejaVuSans-54\"/>\n      <use x=\"714.404297\" xlink:href=\"#DejaVuSans-54\"/>\n      <use x=\"778.027344\" xlink:href=\"#DejaVuSans-57\"/>\n      <use x=\"841.650391\" xlink:href=\"#DejaVuSans-50\"/>\n      <use x=\"905.273438\" xlink:href=\"#DejaVuSans-56\"/>\n      <use x=\"968.896484\" xlink:href=\"#DejaVuSans-55\"/>\n      <use x=\"1032.519531\" xlink:href=\"#DejaVuSans-52\"/>\n      <use x=\"1096.142578\" xlink:href=\"#DejaVuSans-52\"/>\n      <use x=\"1159.765625\" xlink:href=\"#DejaVuSans-51\"/>\n      <use x=\"1223.388672\" xlink:href=\"#DejaVuSans-49\"/>\n      <use x=\"1287.011719\" xlink:href=\"#DejaVuSans-54\"/>\n      <use x=\"1350.634766\" xlink:href=\"#DejaVuSans-49\"/>\n      <use x=\"1414.257812\" xlink:href=\"#DejaVuSans-48\"/>\n      <use x=\"1477.880859\" xlink:href=\"#DejaVuSans-49\"/>\n     </g>\n    </g>\n   </g>\n  </g>\n  <g id=\"axes_2\">\n   <g id=\"patch_8\">\n    <path d=\"M 620.926654 353.127273 \nL 1113.279596 353.127273 \nL 1113.279596 7.2 \nL 620.926654 7.2 \nz\n\" style=\"fill:#ffffff;\"/>\n   </g>\n   <g id=\"matplotlib.axis_3\">\n    <g id=\"xtick_7\">\n     <g id=\"line2d_17\">\n      <g>\n       <use style=\"stroke:#000000;stroke-width:0.8;\" x=\"643.306334\" xlink:href=\"#m983591aa4a\" y=\"353.127273\"/>\n      </g>\n     </g>\n     <g id=\"text_13\">\n      <!-- 0 -->\n      <g transform=\"translate(640.125084 367.72571)scale(0.1 -0.1)\">\n       <use xlink:href=\"#DejaVuSans-48\"/>\n      </g>\n     </g>\n    </g>\n    <g id=\"xtick_8\">\n     <g id=\"line2d_18\">\n      <g>\n       <use style=\"stroke:#000000;stroke-width:0.8;\" x=\"733.72928\" xlink:href=\"#m983591aa4a\" y=\"353.127273\"/>\n      </g>\n     </g>\n     <g id=\"text_14\">\n      <!-- 20 -->\n      <g transform=\"translate(727.36678 367.72571)scale(0.1 -0.1)\">\n       <use xlink:href=\"#DejaVuSans-50\"/>\n       <use x=\"63.623047\" xlink:href=\"#DejaVuSans-48\"/>\n      </g>\n     </g>\n    </g>\n    <g id=\"xtick_9\">\n     <g id=\"line2d_19\">\n      <g>\n       <use style=\"stroke:#000000;stroke-width:0.8;\" x=\"824.152226\" xlink:href=\"#m983591aa4a\" y=\"353.127273\"/>\n      </g>\n     </g>\n     <g id=\"text_15\">\n      <!-- 40 -->\n      <g transform=\"translate(817.789726 367.72571)scale(0.1 -0.1)\">\n       <use xlink:href=\"#DejaVuSans-52\"/>\n       <use x=\"63.623047\" xlink:href=\"#DejaVuSans-48\"/>\n      </g>\n     </g>\n    </g>\n    <g id=\"xtick_10\">\n     <g id=\"line2d_20\">\n      <g>\n       <use style=\"stroke:#000000;stroke-width:0.8;\" x=\"914.575172\" xlink:href=\"#m983591aa4a\" y=\"353.127273\"/>\n      </g>\n     </g>\n     <g id=\"text_16\">\n      <!-- 60 -->\n      <g transform=\"translate(908.212672 367.72571)scale(0.1 -0.1)\">\n       <use xlink:href=\"#DejaVuSans-54\"/>\n       <use x=\"63.623047\" xlink:href=\"#DejaVuSans-48\"/>\n      </g>\n     </g>\n    </g>\n    <g id=\"xtick_11\">\n     <g id=\"line2d_21\">\n      <g>\n       <use style=\"stroke:#000000;stroke-width:0.8;\" x=\"1004.998118\" xlink:href=\"#m983591aa4a\" y=\"353.127273\"/>\n      </g>\n     </g>\n     <g id=\"text_17\">\n      <!-- 80 -->\n      <g transform=\"translate(998.635618 367.72571)scale(0.1 -0.1)\">\n       <use xlink:href=\"#DejaVuSans-56\"/>\n       <use x=\"63.623047\" xlink:href=\"#DejaVuSans-48\"/>\n      </g>\n     </g>\n    </g>\n    <g id=\"xtick_12\">\n     <g id=\"line2d_22\">\n      <g>\n       <use style=\"stroke:#000000;stroke-width:0.8;\" x=\"1095.421064\" xlink:href=\"#m983591aa4a\" y=\"353.127273\"/>\n      </g>\n     </g>\n     <g id=\"text_18\">\n      <!-- 100 -->\n      <g transform=\"translate(1085.877314 367.72571)scale(0.1 -0.1)\">\n       <use xlink:href=\"#DejaVuSans-49\"/>\n       <use x=\"63.623047\" xlink:href=\"#DejaVuSans-48\"/>\n       <use x=\"127.246094\" xlink:href=\"#DejaVuSans-48\"/>\n      </g>\n     </g>\n    </g>\n   </g>\n   <g id=\"matplotlib.axis_4\">\n    <g id=\"ytick_5\">\n     <g id=\"line2d_23\">\n      <g>\n       <use style=\"stroke:#000000;stroke-width:0.8;\" x=\"620.926654\" xlink:href=\"#m172f9f6bb7\" y=\"337.713889\"/>\n      </g>\n     </g>\n     <g id=\"text_19\">\n      <!-- 0.0000 -->\n      <g transform=\"translate(578.936029 341.513108)scale(0.1 -0.1)\">\n       <use xlink:href=\"#DejaVuSans-48\"/>\n       <use x=\"63.623047\" xlink:href=\"#DejaVuSans-46\"/>\n       <use x=\"95.410156\" xlink:href=\"#DejaVuSans-48\"/>\n       <use x=\"159.033203\" xlink:href=\"#DejaVuSans-48\"/>\n       <use x=\"222.65625\" xlink:href=\"#DejaVuSans-48\"/>\n       <use x=\"286.279297\" xlink:href=\"#DejaVuSans-48\"/>\n      </g>\n     </g>\n    </g>\n    <g id=\"ytick_6\">\n     <g id=\"line2d_24\">\n      <g>\n       <use style=\"stroke:#000000;stroke-width:0.8;\" x=\"620.926654\" xlink:href=\"#m172f9f6bb7\" y=\"285.248902\"/>\n      </g>\n     </g>\n     <g id=\"text_20\">\n      <!-- 0.0005 -->\n      <g transform=\"translate(578.936029 289.048121)scale(0.1 -0.1)\">\n       <use xlink:href=\"#DejaVuSans-48\"/>\n       <use x=\"63.623047\" xlink:href=\"#DejaVuSans-46\"/>\n       <use x=\"95.410156\" xlink:href=\"#DejaVuSans-48\"/>\n       <use x=\"159.033203\" xlink:href=\"#DejaVuSans-48\"/>\n       <use x=\"222.65625\" xlink:href=\"#DejaVuSans-48\"/>\n       <use x=\"286.279297\" xlink:href=\"#DejaVuSans-53\"/>\n      </g>\n     </g>\n    </g>\n    <g id=\"ytick_7\">\n     <g id=\"line2d_25\">\n      <g>\n       <use style=\"stroke:#000000;stroke-width:0.8;\" x=\"620.926654\" xlink:href=\"#m172f9f6bb7\" y=\"232.783915\"/>\n      </g>\n     </g>\n     <g id=\"text_21\">\n      <!-- 0.0010 -->\n      <g transform=\"translate(578.936029 236.583134)scale(0.1 -0.1)\">\n       <use xlink:href=\"#DejaVuSans-48\"/>\n       <use x=\"63.623047\" xlink:href=\"#DejaVuSans-46\"/>\n       <use x=\"95.410156\" xlink:href=\"#DejaVuSans-48\"/>\n       <use x=\"159.033203\" xlink:href=\"#DejaVuSans-48\"/>\n       <use x=\"222.65625\" xlink:href=\"#DejaVuSans-49\"/>\n       <use x=\"286.279297\" xlink:href=\"#DejaVuSans-48\"/>\n      </g>\n     </g>\n    </g>\n    <g id=\"ytick_8\">\n     <g id=\"line2d_26\">\n      <g>\n       <use style=\"stroke:#000000;stroke-width:0.8;\" x=\"620.926654\" xlink:href=\"#m172f9f6bb7\" y=\"180.318928\"/>\n      </g>\n     </g>\n     <g id=\"text_22\">\n      <!-- 0.0015 -->\n      <g transform=\"translate(578.936029 184.118147)scale(0.1 -0.1)\">\n       <use xlink:href=\"#DejaVuSans-48\"/>\n       <use x=\"63.623047\" xlink:href=\"#DejaVuSans-46\"/>\n       <use x=\"95.410156\" xlink:href=\"#DejaVuSans-48\"/>\n       <use x=\"159.033203\" xlink:href=\"#DejaVuSans-48\"/>\n       <use x=\"222.65625\" xlink:href=\"#DejaVuSans-49\"/>\n       <use x=\"286.279297\" xlink:href=\"#DejaVuSans-53\"/>\n      </g>\n     </g>\n    </g>\n    <g id=\"ytick_9\">\n     <g id=\"line2d_27\">\n      <g>\n       <use style=\"stroke:#000000;stroke-width:0.8;\" x=\"620.926654\" xlink:href=\"#m172f9f6bb7\" y=\"127.853941\"/>\n      </g>\n     </g>\n     <g id=\"text_23\">\n      <!-- 0.0020 -->\n      <g transform=\"translate(578.936029 131.65316)scale(0.1 -0.1)\">\n       <use xlink:href=\"#DejaVuSans-48\"/>\n       <use x=\"63.623047\" xlink:href=\"#DejaVuSans-46\"/>\n       <use x=\"95.410156\" xlink:href=\"#DejaVuSans-48\"/>\n       <use x=\"159.033203\" xlink:href=\"#DejaVuSans-48\"/>\n       <use x=\"222.65625\" xlink:href=\"#DejaVuSans-50\"/>\n       <use x=\"286.279297\" xlink:href=\"#DejaVuSans-48\"/>\n      </g>\n     </g>\n    </g>\n    <g id=\"ytick_10\">\n     <g id=\"line2d_28\">\n      <g>\n       <use style=\"stroke:#000000;stroke-width:0.8;\" x=\"620.926654\" xlink:href=\"#m172f9f6bb7\" y=\"75.388954\"/>\n      </g>\n     </g>\n     <g id=\"text_24\">\n      <!-- 0.0025 -->\n      <g transform=\"translate(578.936029 79.188173)scale(0.1 -0.1)\">\n       <use xlink:href=\"#DejaVuSans-48\"/>\n       <use x=\"63.623047\" xlink:href=\"#DejaVuSans-46\"/>\n       <use x=\"95.410156\" xlink:href=\"#DejaVuSans-48\"/>\n       <use x=\"159.033203\" xlink:href=\"#DejaVuSans-48\"/>\n       <use x=\"222.65625\" xlink:href=\"#DejaVuSans-50\"/>\n       <use x=\"286.279297\" xlink:href=\"#DejaVuSans-53\"/>\n      </g>\n     </g>\n    </g>\n    <g id=\"ytick_11\">\n     <g id=\"line2d_29\">\n      <g>\n       <use style=\"stroke:#000000;stroke-width:0.8;\" x=\"620.926654\" xlink:href=\"#m172f9f6bb7\" y=\"22.923967\"/>\n      </g>\n     </g>\n     <g id=\"text_25\">\n      <!-- 0.0030 -->\n      <g transform=\"translate(578.936029 26.723186)scale(0.1 -0.1)\">\n       <use xlink:href=\"#DejaVuSans-48\"/>\n       <use x=\"63.623047\" xlink:href=\"#DejaVuSans-46\"/>\n       <use x=\"95.410156\" xlink:href=\"#DejaVuSans-48\"/>\n       <use x=\"159.033203\" xlink:href=\"#DejaVuSans-48\"/>\n       <use x=\"222.65625\" xlink:href=\"#DejaVuSans-51\"/>\n       <use x=\"286.279297\" xlink:href=\"#DejaVuSans-48\"/>\n      </g>\n     </g>\n    </g>\n   </g>\n   <g id=\"line2d_30\">\n    <path clip-path=\"url(#pb4da2a67dd)\" d=\"M 643.306334 23.001632 \nL 647.827481 22.923967 \nL 652.348628 23.001632 \nL 656.869775 23.23455 \nL 661.390923 23.622491 \nL 665.91207 24.165073 \nL 670.433217 24.86176 \nL 674.954365 25.711864 \nL 679.475512 26.714547 \nL 683.996659 27.868819 \nL 688.517807 29.173541 \nL 693.038954 30.627425 \nL 697.560101 32.229036 \nL 702.081248 33.976794 \nL 706.602396 35.868974 \nL 711.123543 37.903709 \nL 715.64469 40.078991 \nL 720.165838 42.392672 \nL 724.686985 44.84247 \nL 729.208132 47.425967 \nL 733.72928 50.140613 \nL 738.250427 52.98373 \nL 742.771574 55.952511 \nL 747.292721 59.044026 \nL 751.813869 62.255225 \nL 756.335016 65.582939 \nL 760.856163 69.023884 \nL 765.377311 72.574663 \nL 769.898458 76.231773 \nL 774.419605 79.991604 \nL 778.940753 83.850446 \nL 783.4619 87.804491 \nL 787.983047 91.849837 \nL 792.504195 95.98249 \nL 797.025342 100.198374 \nL 801.546489 104.493327 \nL 806.067636 108.863111 \nL 810.588784 113.303413 \nL 815.109931 117.809851 \nL 819.631078 122.377978 \nL 824.152226 127.003286 \nL 828.673373 131.68121 \nL 833.19452 136.407134 \nL 837.715668 141.176393 \nL 842.236815 145.984281 \nL 846.757962 150.826053 \nL 851.279109 155.696931 \nL 855.800257 160.592108 \nL 860.321404 165.506754 \nL 864.842551 170.436016 \nL 869.363699 175.375033 \nL 873.884846 180.318928 \nL 878.405993 185.262823 \nL 882.927141 190.201839 \nL 887.448288 195.131102 \nL 891.969435 200.045747 \nL 896.490582 204.940924 \nL 901.01173 209.811803 \nL 905.532877 214.653575 \nL 910.054024 219.461463 \nL 914.575172 224.230722 \nL 919.096319 228.956646 \nL 923.617466 233.63457 \nL 928.138614 238.259877 \nL 932.659761 242.828005 \nL 937.180908 247.334443 \nL 941.702055 251.774745 \nL 946.223203 256.144529 \nL 950.74435 260.439482 \nL 955.265497 264.655365 \nL 959.786645 268.788019 \nL 964.307792 272.833365 \nL 968.828939 276.78741 \nL 973.350087 280.646252 \nL 977.871234 284.406083 \nL 982.392381 288.063193 \nL 986.913529 291.613972 \nL 991.434676 295.054916 \nL 995.955823 298.38263 \nL 1000.47697 301.59383 \nL 1004.998118 304.685345 \nL 1009.519265 307.654126 \nL 1014.040412 310.497243 \nL 1018.56156 313.211889 \nL 1023.082707 315.795386 \nL 1027.603854 318.245184 \nL 1032.125002 320.558865 \nL 1036.646149 322.734146 \nL 1041.167296 324.768881 \nL 1045.688443 326.661062 \nL 1050.209591 328.40882 \nL 1054.730738 330.010431 \nL 1059.251885 331.464315 \nL 1063.773033 332.769037 \nL 1068.29418 333.923308 \nL 1072.815327 334.925991 \nL 1077.336475 335.776096 \nL 1081.857622 336.472783 \nL 1086.378769 337.015364 \nL 1090.899916 337.403306 \n\" style=\"fill:none;stroke:#1f77b4;stroke-linecap:square;stroke-width:1.5;\"/>\n   </g>\n   <g id=\"patch_9\">\n    <path d=\"M 620.926654 353.127273 \nL 620.926654 7.2 \n\" style=\"fill:none;stroke:#000000;stroke-linecap:square;stroke-linejoin:miter;stroke-width:0.8;\"/>\n   </g>\n   <g id=\"patch_10\">\n    <path d=\"M 1113.279596 353.127273 \nL 1113.279596 7.2 \n\" style=\"fill:none;stroke:#000000;stroke-linecap:square;stroke-linejoin:miter;stroke-width:0.8;\"/>\n   </g>\n   <g id=\"patch_11\">\n    <path d=\"M 620.926654 353.127273 \nL 1113.279596 353.127273 \n\" style=\"fill:none;stroke:#000000;stroke-linecap:square;stroke-linejoin:miter;stroke-width:0.8;\"/>\n   </g>\n   <g id=\"patch_12\">\n    <path d=\"M 620.926654 7.2 \nL 1113.279596 7.2 \n\" style=\"fill:none;stroke:#000000;stroke-linecap:square;stroke-linejoin:miter;stroke-width:0.8;\"/>\n   </g>\n   <g id=\"legend_2\">\n    <g id=\"patch_13\">\n     <path d=\"M 874.392096 30.15625 \nL 1106.279596 30.15625 \nQ 1108.279596 30.15625 1108.279596 28.15625 \nL 1108.279596 14.2 \nQ 1108.279596 12.2 1106.279596 12.2 \nL 874.392096 12.2 \nQ 872.392096 12.2 872.392096 14.2 \nL 872.392096 28.15625 \nQ 872.392096 30.15625 874.392096 30.15625 \nz\n\" style=\"fill:#ffffff;opacity:0.8;stroke:#cccccc;stroke-linejoin:miter;\"/>\n    </g>\n    <g id=\"line2d_31\">\n     <path d=\"M 876.392096 20.298437 \nL 896.392096 20.298437 \n\" style=\"fill:none;stroke:#1f77b4;stroke-linecap:square;stroke-width:1.5;\"/>\n    </g>\n    <g id=\"line2d_32\"/>\n    <g id=\"text_26\">\n     <!-- hyperparameters/learning_rate = 0.003 -->\n     <defs>\n      <path d=\"M 54.890625 33.015625 \nL 54.890625 0 \nL 45.90625 0 \nL 45.90625 32.71875 \nQ 45.90625 40.484375 42.875 44.328125 \nQ 39.84375 48.1875 33.796875 48.1875 \nQ 26.515625 48.1875 22.3125 43.546875 \nQ 18.109375 38.921875 18.109375 30.90625 \nL 18.109375 0 \nL 9.078125 0 \nL 9.078125 75.984375 \nL 18.109375 75.984375 \nL 18.109375 46.1875 \nQ 21.34375 51.125 25.703125 53.5625 \nQ 30.078125 56 35.796875 56 \nQ 45.21875 56 50.046875 50.171875 \nQ 54.890625 44.34375 54.890625 33.015625 \nz\n\" id=\"DejaVuSans-104\"/>\n      <path d=\"M 32.171875 -5.078125 \nQ 28.375 -14.84375 24.75 -17.8125 \nQ 21.140625 -20.796875 15.09375 -20.796875 \nL 7.90625 -20.796875 \nL 7.90625 -13.28125 \nL 13.1875 -13.28125 \nQ 16.890625 -13.28125 18.9375 -11.515625 \nQ 21 -9.765625 23.484375 -3.21875 \nL 25.09375 0.875 \nL 2.984375 54.6875 \nL 12.5 54.6875 \nL 29.59375 11.921875 \nL 46.6875 54.6875 \nL 56.203125 54.6875 \nz\n\" id=\"DejaVuSans-121\"/>\n      <path d=\"M 18.109375 8.203125 \nL 18.109375 -20.796875 \nL 9.078125 -20.796875 \nL 9.078125 54.6875 \nL 18.109375 54.6875 \nL 18.109375 46.390625 \nQ 20.953125 51.265625 25.265625 53.625 \nQ 29.59375 56 35.59375 56 \nQ 45.5625 56 51.78125 48.09375 \nQ 58.015625 40.1875 58.015625 27.296875 \nQ 58.015625 14.40625 51.78125 6.484375 \nQ 45.5625 -1.421875 35.59375 -1.421875 \nQ 29.59375 -1.421875 25.265625 0.953125 \nQ 20.953125 3.328125 18.109375 8.203125 \nz\nM 48.6875 27.296875 \nQ 48.6875 37.203125 44.609375 42.84375 \nQ 40.53125 48.484375 33.40625 48.484375 \nQ 26.265625 48.484375 22.1875 42.84375 \nQ 18.109375 37.203125 18.109375 27.296875 \nQ 18.109375 17.390625 22.1875 11.75 \nQ 26.265625 6.109375 33.40625 6.109375 \nQ 40.53125 6.109375 44.609375 11.75 \nQ 48.6875 17.390625 48.6875 27.296875 \nz\n\" id=\"DejaVuSans-112\"/>\n      <path d=\"M 56.203125 29.59375 \nL 56.203125 25.203125 \nL 14.890625 25.203125 \nQ 15.484375 15.921875 20.484375 11.0625 \nQ 25.484375 6.203125 34.421875 6.203125 \nQ 39.59375 6.203125 44.453125 7.46875 \nQ 49.3125 8.734375 54.109375 11.28125 \nL 54.109375 2.78125 \nQ 49.265625 0.734375 44.1875 -0.34375 \nQ 39.109375 -1.421875 33.890625 -1.421875 \nQ 20.796875 -1.421875 13.15625 6.1875 \nQ 5.515625 13.8125 5.515625 26.8125 \nQ 5.515625 40.234375 12.765625 48.109375 \nQ 20.015625 56 32.328125 56 \nQ 43.359375 56 49.78125 48.890625 \nQ 56.203125 41.796875 56.203125 29.59375 \nz\nM 47.21875 32.234375 \nQ 47.125 39.59375 43.09375 43.984375 \nQ 39.0625 48.390625 32.421875 48.390625 \nQ 24.90625 48.390625 20.390625 44.140625 \nQ 15.875 39.890625 15.1875 32.171875 \nz\n\" id=\"DejaVuSans-101\"/>\n      <path d=\"M 41.109375 46.296875 \nQ 39.59375 47.171875 37.8125 47.578125 \nQ 36.03125 48 33.890625 48 \nQ 26.265625 48 22.1875 43.046875 \nQ 18.109375 38.09375 18.109375 28.8125 \nL 18.109375 0 \nL 9.078125 0 \nL 9.078125 54.6875 \nL 18.109375 54.6875 \nL 18.109375 46.1875 \nQ 20.953125 51.171875 25.484375 53.578125 \nQ 30.03125 56 36.53125 56 \nQ 37.453125 56 38.578125 55.875 \nQ 39.703125 55.765625 41.0625 55.515625 \nz\n\" id=\"DejaVuSans-114\"/>\n      <path d=\"M 52 44.1875 \nQ 55.375 50.25 60.0625 53.125 \nQ 64.75 56 71.09375 56 \nQ 79.640625 56 84.28125 50.015625 \nQ 88.921875 44.046875 88.921875 33.015625 \nL 88.921875 0 \nL 79.890625 0 \nL 79.890625 32.71875 \nQ 79.890625 40.578125 77.09375 44.375 \nQ 74.3125 48.1875 68.609375 48.1875 \nQ 61.625 48.1875 57.5625 43.546875 \nQ 53.515625 38.921875 53.515625 30.90625 \nL 53.515625 0 \nL 44.484375 0 \nL 44.484375 32.71875 \nQ 44.484375 40.625 41.703125 44.40625 \nQ 38.921875 48.1875 33.109375 48.1875 \nQ 26.21875 48.1875 22.15625 43.53125 \nQ 18.109375 38.875 18.109375 30.90625 \nL 18.109375 0 \nL 9.078125 0 \nL 9.078125 54.6875 \nL 18.109375 54.6875 \nL 18.109375 46.1875 \nQ 21.1875 51.21875 25.484375 53.609375 \nQ 29.78125 56 35.6875 56 \nQ 41.65625 56 45.828125 52.96875 \nQ 50 49.953125 52 44.1875 \nz\n\" id=\"DejaVuSans-109\"/>\n      <path d=\"M 18.3125 70.21875 \nL 18.3125 54.6875 \nL 36.8125 54.6875 \nL 36.8125 47.703125 \nL 18.3125 47.703125 \nL 18.3125 18.015625 \nQ 18.3125 11.328125 20.140625 9.421875 \nQ 21.96875 7.515625 27.59375 7.515625 \nL 36.8125 7.515625 \nL 36.8125 0 \nL 27.59375 0 \nQ 17.1875 0 13.234375 3.875 \nQ 9.28125 7.765625 9.28125 18.015625 \nL 9.28125 47.703125 \nL 2.6875 47.703125 \nL 2.6875 54.6875 \nL 9.28125 54.6875 \nL 9.28125 70.21875 \nz\n\" id=\"DejaVuSans-116\"/>\n      <path d=\"M 44.28125 53.078125 \nL 44.28125 44.578125 \nQ 40.484375 46.53125 36.375 47.5 \nQ 32.28125 48.484375 27.875 48.484375 \nQ 21.1875 48.484375 17.84375 46.4375 \nQ 14.5 44.390625 14.5 40.28125 \nQ 14.5 37.15625 16.890625 35.375 \nQ 19.28125 33.59375 26.515625 31.984375 \nL 29.59375 31.296875 \nQ 39.15625 29.25 43.1875 25.515625 \nQ 47.21875 21.78125 47.21875 15.09375 \nQ 47.21875 7.46875 41.1875 3.015625 \nQ 35.15625 -1.421875 24.609375 -1.421875 \nQ 20.21875 -1.421875 15.453125 -0.5625 \nQ 10.6875 0.296875 5.421875 2 \nL 5.421875 11.28125 \nQ 10.40625 8.6875 15.234375 7.390625 \nQ 20.0625 6.109375 24.8125 6.109375 \nQ 31.15625 6.109375 34.5625 8.28125 \nQ 37.984375 10.453125 37.984375 14.40625 \nQ 37.984375 18.0625 35.515625 20.015625 \nQ 33.0625 21.96875 24.703125 23.78125 \nL 21.578125 24.515625 \nQ 13.234375 26.265625 9.515625 29.90625 \nQ 5.8125 33.546875 5.8125 39.890625 \nQ 5.8125 47.609375 11.28125 51.796875 \nQ 16.75 56 26.8125 56 \nQ 31.78125 56 36.171875 55.265625 \nQ 40.578125 54.546875 44.28125 53.078125 \nz\n\" id=\"DejaVuSans-115\"/>\n      <path d=\"M 54.890625 33.015625 \nL 54.890625 0 \nL 45.90625 0 \nL 45.90625 32.71875 \nQ 45.90625 40.484375 42.875 44.328125 \nQ 39.84375 48.1875 33.796875 48.1875 \nQ 26.515625 48.1875 22.3125 43.546875 \nQ 18.109375 38.921875 18.109375 30.90625 \nL 18.109375 0 \nL 9.078125 0 \nL 9.078125 54.6875 \nL 18.109375 54.6875 \nL 18.109375 46.1875 \nQ 21.34375 51.125 25.703125 53.5625 \nQ 30.078125 56 35.796875 56 \nQ 45.21875 56 50.046875 50.171875 \nQ 54.890625 44.34375 54.890625 33.015625 \nz\n\" id=\"DejaVuSans-110\"/>\n      <path d=\"M 9.421875 54.6875 \nL 18.40625 54.6875 \nL 18.40625 0 \nL 9.421875 0 \nz\nM 9.421875 75.984375 \nL 18.40625 75.984375 \nL 18.40625 64.59375 \nL 9.421875 64.59375 \nz\n\" id=\"DejaVuSans-105\"/>\n      <path d=\"M 45.40625 27.984375 \nQ 45.40625 37.75 41.375 43.109375 \nQ 37.359375 48.484375 30.078125 48.484375 \nQ 22.859375 48.484375 18.828125 43.109375 \nQ 14.796875 37.75 14.796875 27.984375 \nQ 14.796875 18.265625 18.828125 12.890625 \nQ 22.859375 7.515625 30.078125 7.515625 \nQ 37.359375 7.515625 41.375 12.890625 \nQ 45.40625 18.265625 45.40625 27.984375 \nz\nM 54.390625 6.78125 \nQ 54.390625 -7.171875 48.1875 -13.984375 \nQ 42 -20.796875 29.203125 -20.796875 \nQ 24.46875 -20.796875 20.265625 -20.09375 \nQ 16.0625 -19.390625 12.109375 -17.921875 \nL 12.109375 -9.1875 \nQ 16.0625 -11.328125 19.921875 -12.34375 \nQ 23.78125 -13.375 27.78125 -13.375 \nQ 36.625 -13.375 41.015625 -8.765625 \nQ 45.40625 -4.15625 45.40625 5.171875 \nL 45.40625 9.625 \nQ 42.625 4.78125 38.28125 2.390625 \nQ 33.9375 0 27.875 0 \nQ 17.828125 0 11.671875 7.65625 \nQ 5.515625 15.328125 5.515625 27.984375 \nQ 5.515625 40.671875 11.671875 48.328125 \nQ 17.828125 56 27.875 56 \nQ 33.9375 56 38.28125 53.609375 \nQ 42.625 51.21875 45.40625 46.390625 \nL 45.40625 54.6875 \nL 54.390625 54.6875 \nz\n\" id=\"DejaVuSans-103\"/>\n      <path d=\"M 50.984375 -16.609375 \nL 50.984375 -23.578125 \nL -0.984375 -23.578125 \nL -0.984375 -16.609375 \nz\n\" id=\"DejaVuSans-95\"/>\n     </defs>\n     <g transform=\"translate(904.392096 23.798437)scale(0.1 -0.1)\">\n      <use xlink:href=\"#DejaVuSans-104\"/>\n      <use x=\"63.378906\" xlink:href=\"#DejaVuSans-121\"/>\n      <use x=\"122.558594\" xlink:href=\"#DejaVuSans-112\"/>\n      <use x=\"186.035156\" xlink:href=\"#DejaVuSans-101\"/>\n      <use x=\"247.558594\" xlink:href=\"#DejaVuSans-114\"/>\n      <use x=\"288.671875\" xlink:href=\"#DejaVuSans-112\"/>\n      <use x=\"352.148438\" xlink:href=\"#DejaVuSans-97\"/>\n      <use x=\"413.427734\" xlink:href=\"#DejaVuSans-114\"/>\n      <use x=\"454.541016\" xlink:href=\"#DejaVuSans-97\"/>\n      <use x=\"515.820312\" xlink:href=\"#DejaVuSans-109\"/>\n      <use x=\"613.232422\" xlink:href=\"#DejaVuSans-101\"/>\n      <use x=\"674.755859\" xlink:href=\"#DejaVuSans-116\"/>\n      <use x=\"713.964844\" xlink:href=\"#DejaVuSans-101\"/>\n      <use x=\"775.488281\" xlink:href=\"#DejaVuSans-114\"/>\n      <use x=\"816.601562\" xlink:href=\"#DejaVuSans-115\"/>\n      <use x=\"868.701172\" xlink:href=\"#DejaVuSans-47\"/>\n      <use x=\"902.392578\" xlink:href=\"#DejaVuSans-108\"/>\n      <use x=\"930.175781\" xlink:href=\"#DejaVuSans-101\"/>\n      <use x=\"991.699219\" xlink:href=\"#DejaVuSans-97\"/>\n      <use x=\"1052.978516\" xlink:href=\"#DejaVuSans-114\"/>\n      <use x=\"1094.076172\" xlink:href=\"#DejaVuSans-110\"/>\n      <use x=\"1157.455078\" xlink:href=\"#DejaVuSans-105\"/>\n      <use x=\"1185.238281\" xlink:href=\"#DejaVuSans-110\"/>\n      <use x=\"1248.617188\" xlink:href=\"#DejaVuSans-103\"/>\n      <use x=\"1312.09375\" xlink:href=\"#DejaVuSans-95\"/>\n      <use x=\"1362.09375\" xlink:href=\"#DejaVuSans-114\"/>\n      <use x=\"1403.207031\" xlink:href=\"#DejaVuSans-97\"/>\n      <use x=\"1464.486328\" xlink:href=\"#DejaVuSans-116\"/>\n      <use x=\"1503.695312\" xlink:href=\"#DejaVuSans-101\"/>\n      <use x=\"1565.21875\" xlink:href=\"#DejaVuSans-32\"/>\n      <use x=\"1597.005859\" xlink:href=\"#DejaVuSans-61\"/>\n      <use x=\"1680.794922\" xlink:href=\"#DejaVuSans-32\"/>\n      <use x=\"1712.582031\" xlink:href=\"#DejaVuSans-48\"/>\n      <use x=\"1776.205078\" xlink:href=\"#DejaVuSans-46\"/>\n      <use x=\"1807.992188\" xlink:href=\"#DejaVuSans-48\"/>\n      <use x=\"1871.615234\" xlink:href=\"#DejaVuSans-48\"/>\n      <use x=\"1935.238281\" xlink:href=\"#DejaVuSans-51\"/>\n     </g>\n    </g>\n   </g>\n  </g>\n  <g id=\"axes_3\">\n   <g id=\"patch_14\">\n    <path d=\"M 1211.750184 353.127273 \nL 1704.103125 353.127273 \nL 1704.103125 7.2 \nL 1211.750184 7.2 \nz\n\" style=\"fill:#ffffff;\"/>\n   </g>\n   <g id=\"matplotlib.axis_5\">\n    <g id=\"xtick_13\">\n     <g id=\"line2d_33\">\n      <g>\n       <use style=\"stroke:#000000;stroke-width:0.8;\" x=\"1234.129863\" xlink:href=\"#m983591aa4a\" y=\"353.127273\"/>\n      </g>\n     </g>\n     <g id=\"text_27\">\n      <!-- 0 -->\n      <g transform=\"translate(1230.948613 367.72571)scale(0.1 -0.1)\">\n       <use xlink:href=\"#DejaVuSans-48\"/>\n      </g>\n     </g>\n    </g>\n    <g id=\"xtick_14\">\n     <g id=\"line2d_34\">\n      <g>\n       <use style=\"stroke:#000000;stroke-width:0.8;\" x=\"1324.552809\" xlink:href=\"#m983591aa4a\" y=\"353.127273\"/>\n      </g>\n     </g>\n     <g id=\"text_28\">\n      <!-- 20 -->\n      <g transform=\"translate(1318.190309 367.72571)scale(0.1 -0.1)\">\n       <use xlink:href=\"#DejaVuSans-50\"/>\n       <use x=\"63.623047\" xlink:href=\"#DejaVuSans-48\"/>\n      </g>\n     </g>\n    </g>\n    <g id=\"xtick_15\">\n     <g id=\"line2d_35\">\n      <g>\n       <use style=\"stroke:#000000;stroke-width:0.8;\" x=\"1414.975755\" xlink:href=\"#m983591aa4a\" y=\"353.127273\"/>\n      </g>\n     </g>\n     <g id=\"text_29\">\n      <!-- 40 -->\n      <g transform=\"translate(1408.613255 367.72571)scale(0.1 -0.1)\">\n       <use xlink:href=\"#DejaVuSans-52\"/>\n       <use x=\"63.623047\" xlink:href=\"#DejaVuSans-48\"/>\n      </g>\n     </g>\n    </g>\n    <g id=\"xtick_16\">\n     <g id=\"line2d_36\">\n      <g>\n       <use style=\"stroke:#000000;stroke-width:0.8;\" x=\"1505.398701\" xlink:href=\"#m983591aa4a\" y=\"353.127273\"/>\n      </g>\n     </g>\n     <g id=\"text_30\">\n      <!-- 60 -->\n      <g transform=\"translate(1499.036201 367.72571)scale(0.1 -0.1)\">\n       <use xlink:href=\"#DejaVuSans-54\"/>\n       <use x=\"63.623047\" xlink:href=\"#DejaVuSans-48\"/>\n      </g>\n     </g>\n    </g>\n    <g id=\"xtick_17\">\n     <g id=\"line2d_37\">\n      <g>\n       <use style=\"stroke:#000000;stroke-width:0.8;\" x=\"1595.821647\" xlink:href=\"#m983591aa4a\" y=\"353.127273\"/>\n      </g>\n     </g>\n     <g id=\"text_31\">\n      <!-- 80 -->\n      <g transform=\"translate(1589.459147 367.72571)scale(0.1 -0.1)\">\n       <use xlink:href=\"#DejaVuSans-56\"/>\n       <use x=\"63.623047\" xlink:href=\"#DejaVuSans-48\"/>\n      </g>\n     </g>\n    </g>\n    <g id=\"xtick_18\">\n     <g id=\"line2d_38\">\n      <g>\n       <use style=\"stroke:#000000;stroke-width:0.8;\" x=\"1686.244593\" xlink:href=\"#m983591aa4a\" y=\"353.127273\"/>\n      </g>\n     </g>\n     <g id=\"text_32\">\n      <!-- 100 -->\n      <g transform=\"translate(1676.700843 367.72571)scale(0.1 -0.1)\">\n       <use xlink:href=\"#DejaVuSans-49\"/>\n       <use x=\"63.623047\" xlink:href=\"#DejaVuSans-48\"/>\n       <use x=\"127.246094\" xlink:href=\"#DejaVuSans-48\"/>\n      </g>\n     </g>\n    </g>\n   </g>\n   <g id=\"matplotlib.axis_6\">\n    <g id=\"ytick_12\">\n     <g id=\"line2d_39\">\n      <g>\n       <use style=\"stroke:#000000;stroke-width:0.8;\" x=\"1211.750184\" xlink:href=\"#m172f9f6bb7\" y=\"296.039357\"/>\n      </g>\n     </g>\n     <g id=\"text_33\">\n      <!-- 0.2 -->\n      <g transform=\"translate(1188.847059 299.838575)scale(0.1 -0.1)\">\n       <use xlink:href=\"#DejaVuSans-48\"/>\n       <use x=\"63.623047\" xlink:href=\"#DejaVuSans-46\"/>\n       <use x=\"95.410156\" xlink:href=\"#DejaVuSans-50\"/>\n      </g>\n     </g>\n    </g>\n    <g id=\"ytick_13\">\n     <g id=\"line2d_40\">\n      <g>\n       <use style=\"stroke:#000000;stroke-width:0.8;\" x=\"1211.750184\" xlink:href=\"#m172f9f6bb7\" y=\"223.510788\"/>\n      </g>\n     </g>\n     <g id=\"text_34\">\n      <!-- 0.4 -->\n      <g transform=\"translate(1188.847059 227.310007)scale(0.1 -0.1)\">\n       <use xlink:href=\"#DejaVuSans-48\"/>\n       <use x=\"63.623047\" xlink:href=\"#DejaVuSans-46\"/>\n       <use x=\"95.410156\" xlink:href=\"#DejaVuSans-52\"/>\n      </g>\n     </g>\n    </g>\n    <g id=\"ytick_14\">\n     <g id=\"line2d_41\">\n      <g>\n       <use style=\"stroke:#000000;stroke-width:0.8;\" x=\"1211.750184\" xlink:href=\"#m172f9f6bb7\" y=\"150.98222\"/>\n      </g>\n     </g>\n     <g id=\"text_35\">\n      <!-- 0.6 -->\n      <g transform=\"translate(1188.847059 154.781439)scale(0.1 -0.1)\">\n       <use xlink:href=\"#DejaVuSans-48\"/>\n       <use x=\"63.623047\" xlink:href=\"#DejaVuSans-46\"/>\n       <use x=\"95.410156\" xlink:href=\"#DejaVuSans-54\"/>\n      </g>\n     </g>\n    </g>\n    <g id=\"ytick_15\">\n     <g id=\"line2d_42\">\n      <g>\n       <use style=\"stroke:#000000;stroke-width:0.8;\" x=\"1211.750184\" xlink:href=\"#m172f9f6bb7\" y=\"78.453652\"/>\n      </g>\n     </g>\n     <g id=\"text_36\">\n      <!-- 0.8 -->\n      <g transform=\"translate(1188.847059 82.252871)scale(0.1 -0.1)\">\n       <use xlink:href=\"#DejaVuSans-48\"/>\n       <use x=\"63.623047\" xlink:href=\"#DejaVuSans-46\"/>\n       <use x=\"95.410156\" xlink:href=\"#DejaVuSans-56\"/>\n      </g>\n     </g>\n    </g>\n   </g>\n   <g id=\"line2d_43\">\n    <path clip-path=\"url(#pfee4641074)\" d=\"M 1234.129863 337.403306 \nL 1238.65101 337.403306 \nL 1243.172158 328.903864 \nL 1247.693305 300.572392 \nL 1252.214452 272.24092 \nL 1256.735599 204.245388 \nL 1261.256747 158.915032 \nL 1265.777894 76.753764 \nL 1270.299041 76.753764 \nL 1274.820189 76.753764 \nL 1279.341336 76.753764 \nL 1283.862483 76.753764 \nL 1288.383631 76.753764 \nL 1292.904778 76.753764 \nL 1297.425925 76.753764 \nL 1301.947072 76.753764 \nL 1306.46822 76.753764 \nL 1310.989367 76.753764 \nL 1315.510514 76.753764 \nL 1320.031662 76.753764 \nL 1324.552809 71.087469 \nL 1329.073956 71.087469 \nL 1333.595104 71.087469 \nL 1338.116251 71.087469 \nL 1342.637398 42.755997 \nL 1347.158546 42.755997 \nL 1351.679693 42.755997 \nL 1356.20084 42.755997 \nL 1360.721987 42.755997 \nL 1365.243135 42.755997 \nL 1369.764282 42.755997 \nL 1374.285429 42.755997 \nL 1378.806577 42.755997 \nL 1383.327724 42.755997 \nL 1387.848871 42.755997 \nL 1392.370019 42.755997 \nL 1396.891166 42.755997 \nL 1401.412313 42.755997 \nL 1405.93346 42.755997 \nL 1410.454608 42.755997 \nL 1414.975755 42.755997 \nL 1419.496902 42.755997 \nL 1424.01805 42.755997 \nL 1428.539197 42.755997 \nL 1433.060344 42.755997 \nL 1437.581492 42.755997 \nL 1442.102639 42.755997 \nL 1446.623786 42.755997 \nL 1451.144933 42.755997 \nL 1455.666081 42.755997 \nL 1460.187228 42.755997 \nL 1464.708375 42.755997 \nL 1469.229523 42.755997 \nL 1473.75067 42.755997 \nL 1478.271817 42.755997 \nL 1482.792965 42.755997 \nL 1487.314112 42.755997 \nL 1491.835259 39.92285 \nL 1496.356406 39.92285 \nL 1500.877554 39.92285 \nL 1505.398701 39.92285 \nL 1509.919848 37.089703 \nL 1514.440996 37.089703 \nL 1518.962143 37.089703 \nL 1523.48329 37.089703 \nL 1528.004438 37.089703 \nL 1532.525585 37.089703 \nL 1537.046732 34.256556 \nL 1541.567879 34.256556 \nL 1546.089027 34.256556 \nL 1550.610174 22.923967 \nL 1555.131321 22.923967 \nL 1559.652469 22.923967 \nL 1564.173616 22.923967 \nL 1568.694763 22.923967 \nL 1573.215911 22.923967 \nL 1577.737058 22.923967 \nL 1582.258205 22.923967 \nL 1586.779353 22.923967 \nL 1591.3005 22.923967 \nL 1595.821647 22.923967 \nL 1600.342794 22.923967 \nL 1604.863942 22.923967 \nL 1609.385089 22.923967 \nL 1613.906236 22.923967 \nL 1618.427384 22.923967 \nL 1622.948531 22.923967 \nL 1627.469678 22.923967 \nL 1631.990826 22.923967 \nL 1636.511973 22.923967 \nL 1641.03312 22.923967 \nL 1645.554267 22.923967 \nL 1650.075415 22.923967 \nL 1654.596562 22.923967 \nL 1659.117709 22.923967 \nL 1663.638857 22.923967 \nL 1668.160004 22.923967 \nL 1672.681151 22.923967 \nL 1677.202299 22.923967 \nL 1681.723446 22.923967 \n\" style=\"fill:none;stroke:#1f77b4;stroke-linecap:square;stroke-width:1.5;\"/>\n   </g>\n   <g id=\"patch_15\">\n    <path d=\"M 1211.750184 353.127273 \nL 1211.750184 7.2 \n\" style=\"fill:none;stroke:#000000;stroke-linecap:square;stroke-linejoin:miter;stroke-width:0.8;\"/>\n   </g>\n   <g id=\"patch_16\">\n    <path d=\"M 1704.103125 353.127273 \nL 1704.103125 7.2 \n\" style=\"fill:none;stroke:#000000;stroke-linecap:square;stroke-linejoin:miter;stroke-width:0.8;\"/>\n   </g>\n   <g id=\"patch_17\">\n    <path d=\"M 1211.750184 353.127273 \nL 1704.103125 353.127273 \n\" style=\"fill:none;stroke:#000000;stroke-linecap:square;stroke-linejoin:miter;stroke-width:0.8;\"/>\n   </g>\n   <g id=\"patch_18\">\n    <path d=\"M 1211.750184 7.2 \nL 1704.103125 7.2 \n\" style=\"fill:none;stroke:#000000;stroke-linecap:square;stroke-linejoin:miter;stroke-width:0.8;\"/>\n   </g>\n   <g id=\"legend_3\">\n    <g id=\"patch_19\">\n     <path d=\"M 1218.750184 29.878125 \nL 1355.482996 29.878125 \nQ 1357.482996 29.878125 1357.482996 27.878125 \nL 1357.482996 14.2 \nQ 1357.482996 12.2 1355.482996 12.2 \nL 1218.750184 12.2 \nQ 1216.750184 12.2 1216.750184 14.2 \nL 1216.750184 27.878125 \nQ 1216.750184 29.878125 1218.750184 29.878125 \nz\n\" style=\"fill:#ffffff;opacity:0.8;stroke:#cccccc;stroke-linejoin:miter;\"/>\n    </g>\n    <g id=\"line2d_44\">\n     <path d=\"M 1220.750184 20.298437 \nL 1240.750184 20.298437 \n\" style=\"fill:none;stroke:#1f77b4;stroke-linecap:square;stroke-width:1.5;\"/>\n    </g>\n    <g id=\"line2d_45\"/>\n    <g id=\"text_37\">\n     <!-- max/acc = 0.953125 -->\n     <defs>\n      <path d=\"M 54.890625 54.6875 \nL 35.109375 28.078125 \nL 55.90625 0 \nL 45.3125 0 \nL 29.390625 21.484375 \nL 13.484375 0 \nL 2.875 0 \nL 24.125 28.609375 \nL 4.6875 54.6875 \nL 15.28125 54.6875 \nL 29.78125 35.203125 \nL 44.28125 54.6875 \nz\n\" id=\"DejaVuSans-120\"/>\n     </defs>\n     <g transform=\"translate(1248.750184 23.798437)scale(0.1 -0.1)\">\n      <use xlink:href=\"#DejaVuSans-109\"/>\n      <use x=\"97.412109\" xlink:href=\"#DejaVuSans-97\"/>\n      <use x=\"158.691406\" xlink:href=\"#DejaVuSans-120\"/>\n      <use x=\"217.871094\" xlink:href=\"#DejaVuSans-47\"/>\n      <use x=\"251.5625\" xlink:href=\"#DejaVuSans-97\"/>\n      <use x=\"312.841797\" xlink:href=\"#DejaVuSans-99\"/>\n      <use x=\"367.822266\" xlink:href=\"#DejaVuSans-99\"/>\n      <use x=\"422.802734\" xlink:href=\"#DejaVuSans-32\"/>\n      <use x=\"454.589844\" xlink:href=\"#DejaVuSans-61\"/>\n      <use x=\"538.378906\" xlink:href=\"#DejaVuSans-32\"/>\n      <use x=\"570.166016\" xlink:href=\"#DejaVuSans-48\"/>\n      <use x=\"633.789062\" xlink:href=\"#DejaVuSans-46\"/>\n      <use x=\"665.576172\" xlink:href=\"#DejaVuSans-57\"/>\n      <use x=\"729.199219\" xlink:href=\"#DejaVuSans-53\"/>\n      <use x=\"792.822266\" xlink:href=\"#DejaVuSans-51\"/>\n      <use x=\"856.445312\" xlink:href=\"#DejaVuSans-49\"/>\n      <use x=\"920.068359\" xlink:href=\"#DejaVuSans-50\"/>\n      <use x=\"983.691406\" xlink:href=\"#DejaVuSans-53\"/>\n     </g>\n    </g>\n   </g>\n  </g>\n </g>\n <defs>\n  <clipPath id=\"p58922d55dc\">\n   <rect height=\"345.927273\" width=\"492.352941\" x=\"30.103125\" y=\"7.2\"/>\n  </clipPath>\n  <clipPath id=\"pb4da2a67dd\">\n   <rect height=\"345.927273\" width=\"492.352941\" x=\"620.926654\" y=\"7.2\"/>\n  </clipPath>\n  <clipPath id=\"pfee4641074\">\n   <rect height=\"345.927273\" width=\"492.352941\" x=\"1211.750184\" y=\"7.2\"/>\n  </clipPath>\n </defs>\n</svg>\n",
      "image/png": "[encoded data removed]"
     },
     "metadata": {
      "needs_background": "light"
     }
    }
   ],
   "source": [
    "import matplotlib.pyplot as plt\n",
    "import numpy as np\n",
    "\n",
    "T=trainer.tensorboard.history\n",
    "\n",
    "x = list(range(trainer.checkpoint.epoch_counter))\n",
    "sm = lambda y, w: np.convolve(y, np.ones(w)/w, mode='same')\n",
    "pp = lambda k: plt.plot(x, T[k], label=f\"{k} = {max(T[k])}\")\n",
    "spp = lambda k: plt.plot(x, sm(T[k], 5), label=f\"{k} = {max(T[k])}\")\n",
    "\n",
    "\n",
    "plt.figure(0, figsize=(30, 14))\n",
    "plt.subplot(2, 3, 1)\n",
    "spp(\"val/acc\")\n",
    "spp(\"val/f1\")\n",
    "plt.legend()\n",
    "\n",
    "plt.subplot(2, 3, 2)\n",
    "pp(\"hyperparameters/learning_rate\")\n",
    "plt.legend()\n",
    "\n",
    "plt.subplot(2, 3, 3)\n",
    "pp(\"max/acc\")\n",
    "plt.legend()\n",
    "\n",
    "plt.show()"
   ]
  },
  {
   "cell_type": "markdown",
   "metadata": {},
   "source": [
    "# ♫♪.ılılıll|̲̅̅●̲̅̅|̲̅̅=̲̅̅|̲̅̅●̲̅̅|llılılı.♫♪"
   ]
  },
  {
   "cell_type": "code",
   "execution_count": 33,
   "metadata": {},
   "outputs": [
    {
     "output_type": "stream",
     "name": "stdout",
     "text": [
      "Load the transformation\nLoad the dataset\nDataset already downloaded and verified.\nDataset already downloaded and verified.\nCreate the model\n1872 10\n----------------------------------------------------------------\n        Layer (type)               Output Shape         Param #\n================================================================\n            Conv2d-1          [-1, 24, 64, 431]             240\n         MaxPool2d-2          [-1, 24, 16, 215]               0\n       BatchNorm2d-3          [-1, 24, 16, 215]              48\n             ReLU6-4          [-1, 24, 16, 215]               0\n            Conv2d-5          [-1, 48, 16, 215]          10,416\n         MaxPool2d-6           [-1, 48, 4, 107]               0\n       BatchNorm2d-7           [-1, 48, 4, 107]              96\n             ReLU6-8           [-1, 48, 4, 107]               0\n            Conv2d-9           [-1, 72, 4, 107]          31,176\n        MaxPool2d-10            [-1, 72, 2, 53]               0\n      BatchNorm2d-11            [-1, 72, 2, 53]             144\n            ReLU6-12            [-1, 72, 2, 53]               0\n           Conv2d-13            [-1, 72, 2, 53]          46,728\n        MaxPool2d-14            [-1, 72, 1, 26]               0\n      BatchNorm2d-15            [-1, 72, 1, 26]             144\n            ReLU6-16            [-1, 72, 1, 26]               0\n           Conv2d-17            [-1, 72, 1, 26]          46,728\n            ReLU6-18            [-1, 72, 1, 26]               0\n          Flatten-19                 [-1, 1872]               0\n          Dropout-20                 [-1, 1872]               0\n           Linear-21                   [-1, 10]          18,730\n================================================================\nTotal params: 154,450\nTrainable params: 154,450\nNon-trainable params: 0\n----------------------------------------------------------------\nInput size (MB): 0.11\nForward/backward pass size (MB): 9.24\nParams size (MB): 0.59\nEstimated Total Size (MB): 9.93\n----------------------------------------------------------------\nInitialize optimizer\nInitialize callbacks\nPrepare the log system\nPrepare the checkpoint system\n>>> Trainer is ready\n"
     ]
    }
   ],
   "source": [
    "from SSL.trainers import SupervisedTrainer\n",
    "\n",
    "training_params=dict(\n",
    "    dataset=args.dataset,\n",
    "\n",
    "    dataset_root = args.dataset_root,\n",
    "    supervised_ratio = args.supervised_ratio,\n",
    "    batch_size = args.batch_size,\n",
    "    train_folds = args.train_folds,\n",
    "    val_folds = args.val_folds,\n",
    "    learning_rate=args.learning_rate,\n",
    "    nb_epoch=args.nb_epoch,\n",
    "    seed=args.seed,\n",
    "\n",
    ")\n",
    "other_params = dict(\n",
    "    num_workers=0,\n",
    "    pin_memory=True,\n",
    "    verbose = 2,\n",
    ")\n",
    "\n",
    "trainer = SupervisedTrainer(\"cnn03\", \"esc10\")\n",
    "trainer.init_trainer(\n",
    "    training_params,\n",
    "    **other_params\n",
    "    \n",
    ")"
   ]
  },
  {
   "cell_type": "code",
   "execution_count": 28,
   "metadata": {},
   "outputs": [
    {
     "output_type": "stream",
     "name": "stdout",
     "text": [
      "\n",
      "Training 1      - 100    -          2.0345 -           0.2656    | 0.0965   - 1.8048\n",
      "\u001b[1;4mValidati 1      - 100    -          2.6831 -           0.1953    | 0.2777   - 0.4444\u001b[0m\n",
      "Training 2      - 100    -          1.2135 -           0.5469    | 0.4048   - 0.1740\n",
      "\u001b[1;4mValidati 2      - 100    -          2.9214 -           0.3047    | 0.2911   - 0.0137\u001b[0m\n",
      "Training 3      - 100    -          0.8702 -           0.6656    | 0.6131   - 0.1736\n",
      "\u001b[1;4mValidati 3      - 100    -          2.5288 -           0.2422    | 0.2589   - 0.0122\u001b[0m\n",
      "Training 4      - 100    -          0.7645 -           0.6656    | 0.6485   - 0.1747\n",
      "\u001b[1;4mValidati 4      - 100    -          1.7741 -           0.4922    | 0.5164   - 0.0137\u001b[0m\n",
      "Training 5      - 100    -          0.5648 -           0.7781    | 0.7831   - 0.1631\n",
      "\u001b[1;4mValidati 5      - 100    -          1.2882 -           0.6953    | 0.6906   - 0.0140\u001b[0m\n",
      "Training 6      - 100    -          0.4015 -           0.8469    | 0.8583   - 0.1590\n",
      "\u001b[1;4mValidati 6      - 100    -          3.0976 -           0.5625    | 0.5700   - 0.0129\u001b[0m\n",
      "Training 7      - 100    -          0.3375 -           0.8625    | 0.8601   - 0.1591\n",
      "\u001b[1;4mValidati 7      - 100    -          1.4139 -           0.6250    | 0.6270   - 0.0128\u001b[0m\n",
      "Training 8      - 100    -          0.3002 -           0.8906    | 0.8882   - 0.1610\n",
      "\u001b[1;4mValidati 8      - 100    -          1.6447 -           0.6484    | 0.6583   - 0.0127\u001b[0m\n",
      "Training 9      - 100    -          0.2320 -           0.9250    | 0.9137   - 0.1601\n",
      "\u001b[1;4mValidati 9      - 100    -          0.7055 -           0.7891    | 0.7891   - 0.0133\u001b[0m\n",
      "Training 10     - 100    -          0.2220 -           0.9406    | 0.9403   - 0.1583\n",
      "\u001b[1;4mValidati 10     - 100    -          1.2592 -           0.7656    | 0.7358   - 0.0132\u001b[0m\n",
      "Training 11     - 100    -          0.1467 -           0.9625    | 0.9638   - 0.1592\n",
      "\u001b[1;4mValidati 11     - 100    -          1.0127 -           0.7812    | 0.7611   - 0.0134\u001b[0m\n",
      "Training 12     - 100    -          0.1416 -           0.9438    | 0.9450   - 0.1594\n",
      "\n",
      "Training 13     - 100    -          0.1577 -           0.9594    | 0.9639   - 0.1611\n",
      "\u001b[1;4mValidati 13     - 100    -          1.5235 -           0.6484    | 0.6575   - 0.0148\u001b[0m\n",
      "Training 14     - 100    -          0.2252 -           0.9250    | 0.9234   - 0.1625\n",
      "\u001b[1;4mValidati 14     - 100    -          0.7317 -           0.8047    | 0.8002   - 0.0128\u001b[0m\n",
      "Training 15     - 100    -          0.2259 -           0.9250    | 0.9287   - 0.1922\n",
      "\u001b[1;4mValidati 15     - 100    -          0.6366 -           0.9141    | 0.8916   - 0.0188\u001b[0m\n",
      "Training 16     - 100    -          0.1327 -           0.9500    | 0.9465   - 0.1800\n",
      "\u001b[1;4mValidati 16     - 100    -          1.0778 -           0.8203    | 0.8344   - 0.0113\u001b[0m\n",
      "Training 17     - 100    -          0.1261 -           0.9656    | 0.9670   - 0.1749\n",
      "\u001b[1;4mValidati 17     - 100    -          1.2098 -           0.7656    | 0.7713   - 0.0130\u001b[0m\n",
      "Training 18     - 100    -          0.1285 -           0.9625    | 0.9623   - 0.1679\n",
      "\u001b[1;4mValidati 18     - 100    -          1.0875 -           0.7812    | 0.7812   - 0.0123\u001b[0m\n",
      "Training 19     - 100    -          0.1069 -           0.9750    | 0.9750   - 0.1675\n",
      "\u001b[1;4mValidati 19     - 100    -          1.0303 -           0.8281    | 0.8269   - 0.0120\u001b[0m\n",
      "Training 20     - 100    -          0.1005 -           0.9594    | 0.9624   - 0.1723\n",
      "\u001b[1;4mValidati 20     - 100    -          1.5312 -           0.7734    | 0.7644   - 0.0144\u001b[0m\n",
      "Training 21     - 100    -          0.1574 -           0.9625    | 0.9655   - 0.1655\n",
      "\u001b[1;4mValidati 21     - 100    -          1.3431 -           0.7734    | 0.7734   - 0.0134\u001b[0m\n",
      "Training 22     - 100    -          0.0545 -           0.9781    | 0.9812   - 0.1685\n",
      "\n",
      "Training 23     - 100    -          0.0567 -           0.9844    | 0.9828   - 0.1626\n",
      "\u001b[1;4mValidati 23     - 100    -          1.4051 -           0.8203    | 0.8203   - 0.0127\u001b[0m\n",
      "Training 24     - 100    -          0.0897 -           0.9719    | 0.9719   - 0.1797\n",
      "\u001b[1;4mValidati 24     - 100    -          0.6498 -           0.8984    | 0.9018   - 0.0143\u001b[0m\n",
      "Training 25     - 100    -          0.0486 -           0.9844    | 0.9843   - 0.1687\n",
      "\u001b[1;4mValidati 25     - 100    -          0.7304 -           0.8125    | 0.8036   - 0.0123\u001b[0m\n",
      "Training 26     - 100    -          0.0393 -           0.9906    | 0.9922   - 0.1635\n",
      "\u001b[1;4mValidati 26     - 100    -          1.0169 -           0.8203    | 0.8324   - 0.0117\u001b[0m\n",
      "Training 27     - 100    -          0.0281 -           0.9969    | 0.9953   - 0.1672\n",
      "\u001b[1;4mValidati 27     - 100    -          0.7993 -           0.7891    | 0.7891   - 0.0137\u001b[0m\n",
      "Training 28     - 100    -          0.0135 -           1.0000    | 0.9984   - 0.1627\n",
      "\u001b[1;4mValidati 28     - 100    -          0.6832 -           0.8672    | 0.8703   - 0.0124\u001b[0m\n",
      "Training 29     - 100    -          0.0102 -           1.0000    | 1.0000   - 0.1724\n",
      "\u001b[1;4mValidati 29     - 100    -          1.0422 -           0.8750    | 0.8750   - 0.0126\u001b[0m\n",
      "Training 30     - 100    -          0.0160 -           0.9938    | 0.9938   - 0.1718\n",
      "\u001b[1;4mValidati 30     - 100    -          1.3404 -           0.7891    | 0.8012   - 0.0148\u001b[0m\n",
      "Training 31     - 100    -          0.0220 -           0.9938    | 0.9938   - 0.1698\n",
      "\n",
      "Training 32     - 100    -          0.0251 -           0.9875    | 0.9859   - 0.1605\n",
      "\u001b[1;4mValidati 32     - 100    -          1.1158 -           0.8594    | 0.8594   - 0.0136\u001b[0m\n",
      "Training 33     - 100    -          0.0066 -           1.0000    | 1.0000   - 0.1621\n",
      "\u001b[1;4mValidati 33     - 100    -          0.6057 -           0.8984    | 0.9016   - 0.0129\u001b[0m\n",
      "Training 34     - 100    -          0.0470 -           0.9875    | 0.9875   - 0.1640\n",
      "\u001b[1;4mValidati 34     - 100    -          1.5975 -           0.7734    | 0.7734   - 0.0116\u001b[0m\n",
      "Training 35     - 100    -          0.0163 -           0.9969    | 0.9969   - 0.1665\n",
      "\u001b[1;4mValidati 35     - 100    -          0.9191 -           0.8125    | 0.8125   - 0.0132\u001b[0m\n",
      "Training 36     - 100    -          0.0250 -           0.9938    | 0.9938   - 0.1647\n",
      "\u001b[1;4mValidati 36     - 100    -          0.9065 -           0.8047    | 0.8078   - 0.0123\u001b[0m\n",
      "Training 37     - 100    -          0.0099 -           1.0000    | 1.0000   - 0.1658\n",
      "\u001b[1;4mValidati 37     - 100    -          1.0024 -           0.8203    | 0.8236   - 0.0123\u001b[0m\n",
      "Training 38     - 100    -          0.0054 -           1.0000    | 1.0000   - 0.1684\n",
      "\u001b[1;4mValidati 38     - 100    -          0.9261 -           0.8516    | 0.8548   - 0.0126\u001b[0m\n",
      "Training 39     - 100    -          0.0037 -           1.0000    | 1.0000   - 0.1698\n",
      "\n",
      "Training 40     - 100    -          0.0029 -           1.0000    | 1.0000   - 0.1657\n",
      "\u001b[1;4mValidati 40     - 100    -          0.7354 -           0.8750    | 0.8782   - 0.0117\u001b[0m\n",
      "Training 41     - 100    -          0.0080 -           1.0000    | 1.0000   - 0.1716\n",
      "\u001b[1;4mValidati 41     - 100    -          1.3444 -           0.8047    | 0.8002   - 0.0114\u001b[0m\n",
      "Training 42     - 100    -          0.0023 -           1.0000    | 1.0000   - 0.1695\n",
      "\u001b[1;4mValidati 42     - 100    -          0.8021 -           0.8438    | 0.8391   - 0.0138\u001b[0m\n",
      "Training 43     - 100    -          0.0042 -           1.0000    | 1.0000   - 0.1843\n",
      "\u001b[1;4mValidati 43     - 100    -          1.4877 -           0.7812    | 0.7812   - 0.0160\u001b[0m\n",
      "Training 44     - 100    -          0.0021 -           1.0000    | 1.0000   - 0.1794\n",
      "\u001b[1;4mValidati 44     - 100    -          0.8956 -           0.8594    | 0.8594   - 0.0112\u001b[0m\n",
      "Training 45     - 100    -          0.0072 -           1.0000    | 1.0000   - 0.1503\n",
      "\u001b[1;4mValidati 45     - 100    -          0.8697 -           0.8594    | 0.8594   - 0.0118\u001b[0m\n",
      "Training 46     - 100    -          0.0032 -           1.0000    | 1.0000   - 0.1700\n",
      "\u001b[1;4mValidati 46     - 100    -          1.0209 -           0.8359    | 0.8359   - 0.0135\u001b[0m\n",
      "Training 47     - 100    -          0.0014 -           1.0000    | 1.0000   - 0.1652\n",
      "\u001b[1;4mValidati 47     - 100    -          0.6443 -           0.9141    | 0.9141   - 0.0117\u001b[0m\n",
      "Training 48     - 100    -          0.0016 -           1.0000    | 1.0000   - 0.1492\n",
      "\u001b[1;4mValidati 48     - 100    -          1.1430 -           0.8672    | 0.8672   - 0.0113\u001b[0m\n",
      "Training 49     - 100    -          0.0028 -           1.0000    | 1.0000   - 0.1501\n",
      "\u001b[1;4mValidati 49     - 100    -          1.0584 -           0.8672    | 0.8672   - 0.0121\u001b[0m\n",
      "Training 50     - 100    -          0.0015 -           1.0000    | 1.0000   - 0.1673\n",
      "\u001b[1;4mValidati 50     - 100    -          1.3093 -           0.8438    | 0.8438   - 0.0136\u001b[0m\n",
      "Training 51     - 100    -          0.0020 -           1.0000    | 1.0000   - 0.1628\n",
      "\u001b[1;4mValidati 51     - 100    -          0.9584 -           0.8672    | 0.8672   - 0.0127\u001b[0m\n",
      "Training 52     - 100    -          0.0032 -           1.0000    | 1.0000   - 0.1546\n",
      "\u001b[1;4mValidati 52     - 100    -          0.9169 -           0.8672    | 0.8672   - 0.0141\u001b[0m\n",
      "Training 53     - 100    -          0.0018 -           1.0000    | 1.0000   - 0.1567\n",
      "\u001b[1;4mValidati 53     - 100    -          0.9487 -           0.8594    | 0.8594   - 0.0137\u001b[0m\n",
      "Training 54     - 100    -          0.0017 -           1.0000    | 1.0000   - 0.1573\n",
      "\n",
      "Training 55     - 100    -          0.0026 -           1.0000    | 1.0000   - 0.1541\n",
      "\u001b[1;4mValidati 55     - 100    -          0.9252 -           0.8516    | 0.8516   - 0.0113\u001b[0m\n",
      "Training 56     - 100    -          0.0283 -           0.9969    | 0.9969   - 0.1515\n",
      "\u001b[1;4mValidati 56     - 100    -          1.0983 -           0.8359    | 0.8359   - 0.0119\u001b[0m\n",
      "Training 57     - 100    -          0.0212 -           0.9938    | 0.9938   - 0.1559\n",
      "\u001b[1;4mValidati 57     - 100    -          0.7282 -           0.8906    | 0.8937   - 0.0126\u001b[0m\n",
      "Training 58     - 100    -          0.0013 -           1.0000    | 1.0000   - 0.1526\n",
      "\u001b[1;4mValidati 58     - 100    -          1.6725 -           0.7578    | 0.7578   - 0.0123\u001b[0m\n",
      "Training 59     - 100    -          0.0032 -           1.0000    | 1.0000   - 0.1534\n",
      "\u001b[1;4mValidati 59     - 100    -          1.0377 -           0.8750    | 0.8750   - 0.0158\u001b[0m\n",
      "Training 60     - 100    -          0.0050 -           0.9969    | 0.9984   - 0.1690\n",
      "\u001b[1;4mValidati 60     - 100    -          0.7494 -           0.8906    | 0.8968   - 0.0172\u001b[0m\n",
      "Training 61     - 100    -          0.0049 -           1.0000    | 1.0000   - 0.1772\n",
      "\u001b[1;4mValidati 61     - 100    -          0.9321 -           0.8438    | 0.8469   - 0.0130\u001b[0m\n",
      "Training 62     - 100    -          0.0016 -           1.0000    | 1.0000   - 0.1568\n",
      "\n",
      "Training 63     - 100    -          0.0047 -           1.0000    | 1.0000   - 0.1591\n",
      "\u001b[1;4mValidati 63     - 100    -          0.8593 -           0.8438    | 0.8438   - 0.0114\u001b[0m\n",
      "Training 64     - 100    -          0.0024 -           1.0000    | 1.0000   - 0.1575\n",
      "\u001b[1;4mValidati 64     - 100    -          1.0342 -           0.8516    | 0.8548   - 0.0112\u001b[0m\n",
      "Training 65     - 100    -          0.0016 -           1.0000    | 1.0000   - 0.1573\n",
      "\u001b[1;4mValidati 65     - 100    -          1.1626 -           0.8594    | 0.8412   - 0.0130\u001b[0m\n",
      "Training 66     - 100    -          0.0024 -           1.0000    | 1.0000   - 0.1575\n",
      "\u001b[1;4mValidati 66     - 100    -          0.7085 -           0.8750    | 0.8703   - 0.0127\u001b[0m\n",
      "Training 67     - 100    -          0.0028 -           1.0000    | 1.0000   - 0.1583\n",
      "\u001b[1;4mValidati 67     - 100    -          1.4357 -           0.7812    | 0.7803   - 0.0127\u001b[0m\n",
      "Training 68     - 100    -          0.0010 -           1.0000    | 1.0000   - 0.1588\n",
      "\u001b[1;4mValidati 68     - 100    -          1.1661 -           0.8359    | 0.8423   - 0.0131\u001b[0m\n",
      "Training 69     - 100    -          0.0019 -           1.0000    | 1.0000   - 0.1679\n",
      "\u001b[1;4mValidati 69     - 100    -          0.9614 -           0.8125    | 0.8110   - 0.0150\u001b[0m\n",
      "Training 70     - 100    -          0.0021 -           1.0000    | 1.0000   - 0.1651\n",
      "\n",
      "Training 71     - 100    -          0.0012 -           1.0000    | 1.0000   - 0.1576\n",
      "\u001b[1;4mValidati 71     - 100    -          0.8392 -           0.8359    | 0.8343   - 0.0116\u001b[0m\n",
      "Training 72     - 100    -          0.0008 -           1.0000    | 1.0000   - 0.1563\n",
      "\u001b[1;4mValidati 72     - 100    -          0.8002 -           0.8203    | 0.8110   - 0.0126\u001b[0m\n",
      "Training 73     - 100    -          0.0014 -           1.0000    | 1.0000   - 0.1586\n",
      "\u001b[1;4mValidati 73     - 100    -          0.9091 -           0.8672    | 0.8576   - 0.0122\u001b[0m\n",
      "Training 74     - 100    -          0.0017 -           1.0000    | 1.0000   - 0.1584\n",
      "\u001b[1;4mValidati 74     - 100    -          1.1206 -           0.8516    | 0.8288   - 0.0116\u001b[0m\n",
      "Training 75     - 100    -          0.0031 -           1.0000    | 1.0000   - 0.1596\n",
      "\u001b[1;4mValidati 75     - 100    -          0.9651 -           0.8438    | 0.8579   - 0.0118\u001b[0m\n",
      "Training 76     - 100    -          0.0011 -           1.0000    | 1.0000   - 0.1583\n",
      "\u001b[1;4mValidati 76     - 100    -          1.4329 -           0.8047    | 0.8081   - 0.0127\u001b[0m\n",
      "Training 77     - 100    -          0.0023 -           1.0000    | 1.0000   - 0.1584\n",
      "\n",
      "Training 78     - 100    -          0.0019 -           1.0000    | 1.0000   - 0.1590\n",
      "\u001b[1;4mValidati 78     - 100    -          0.7884 -           0.8594    | 0.8548   - 0.0127\u001b[0m\n",
      "Training 79     - 100    -          0.0008 -           1.0000    | 1.0000   - 0.1620\n",
      "\u001b[1;4mValidati 79     - 100    -          0.7015 -           0.9062    | 0.9016   - 0.0130\u001b[0m\n",
      "Training 80     - 100    -          0.0010 -           1.0000    | 1.0000   - 0.1597\n",
      "\u001b[1;4mValidati 80     - 100    -          1.5795 -           0.8359    | 0.8314   - 0.0129\u001b[0m\n",
      "Training 81     - 100    -          0.0017 -           1.0000    | 1.0000   - 0.1588\n",
      "\u001b[1;4mValidati 81     - 100    -          0.9430 -           0.8594    | 0.8548   - 0.0131\u001b[0m\n",
      "Training 82     - 100    -          0.0011 -           1.0000    | 1.0000   - 0.1590\n",
      "\u001b[1;4mValidati 82     - 100    -          0.7596 -           0.8750    | 0.8579   - 0.0123\u001b[0m\n",
      "Training 83     - 100    -          0.0022 -           1.0000    | 1.0000   - 0.1569\n",
      "\u001b[1;4mValidati 83     - 100    -          1.2627 -           0.8359    | 0.8359   - 0.0125\u001b[0m\n",
      "Training 84     - 100    -          0.0007 -           1.0000    | 1.0000   - 0.1576\n",
      "\n",
      "Training 85     - 100    -          0.0009 -           1.0000    | 1.0000   - 0.1594\n",
      "\u001b[1;4mValidati 85     - 100    -          1.2731 -           0.8516    | 0.8516   - 0.0119\u001b[0m\n",
      "Training 86     - 100    -          0.0009 -           1.0000    | 1.0000   - 0.1587\n",
      "\u001b[1;4mValidati 86     - 100    -          0.7867 -           0.8750    | 0.8703   - 0.0120\u001b[0m\n",
      "Training 87     - 100    -          0.0014 -           1.0000    | 1.0000   - 0.1600\n",
      "\u001b[1;4mValidati 87     - 100    -          1.4840 -           0.7812    | 0.7768   - 0.0122\u001b[0m\n",
      "Training 88     - 100    -          0.0006 -           1.0000    | 1.0000   - 0.1591\n",
      "\u001b[1;4mValidati 88     - 100    -          1.5578 -           0.7812    | 0.7812   - 0.0114\u001b[0m\n",
      "Training 89     - 100    -          0.0009 -           1.0000    | 1.0000   - 0.1600\n",
      "\u001b[1;4mValidati 89     - 100    -          1.3743 -           0.8281    | 0.8281   - 0.0116\u001b[0m\n",
      "Training 90     - 100    -          0.0005 -           1.0000    | 1.0000   - 0.1590\n",
      "\u001b[1;4mValidati 90     - 100    -          1.1435 -           0.8516    | 0.8516   - 0.0115\u001b[0m\n",
      "Training 91     - 100    -          0.0008 -           1.0000    | 1.0000   - 0.1595\n",
      "\n",
      "Training 92     - 100    -          0.0011 -           1.0000    | 1.0000   - 0.1577\n",
      "\u001b[1;4mValidati 92     - 100    -          1.2161 -           0.8516    | 0.8516   - 0.0112\u001b[0m\n",
      "Training 93     - 100    -          0.0005 -           1.0000    | 1.0000   - 0.1563\n",
      "\u001b[1;4mValidati 93     - 100    -          0.8038 -           0.8516    | 0.8516   - 0.0121\u001b[0m\n",
      "Training 94     - 100    -          0.0009 -           1.0000    | 1.0000   - 0.1571\n",
      "\u001b[1;4mValidati 94     - 100    -          1.0847 -           0.8516    | 0.8516   - 0.0122\u001b[0m\n",
      "Training 95     - 100    -          0.0004 -           1.0000    | 1.0000   - 0.1574\n",
      "\u001b[1;4mValidati 95     - 100    -          0.7288 -           0.8984    | 0.8984   - 0.0120\u001b[0m\n",
      "Training 96     - 100    -          0.0003 -           1.0000    | 1.0000   - 0.1618\n",
      "\u001b[1;4mValidati 96     - 100    -          1.1549 -           0.8516    | 0.8516   - 0.0144\u001b[0m\n",
      "Training 97     - 100    -          0.0007 -           1.0000    | 1.0000   - 0.1642\n",
      "\u001b[1;4mValidati 97     - 100    -          0.7950 -           0.8750    | 0.8750   - 0.0131\u001b[0m\n",
      "Training 98     - 100    -          0.0008 -           1.0000    | 1.0000   - 0.1607\n",
      "\u001b[1;4mValidati 98     - 100    -          1.0830 -           0.8750    | 0.8750   - 0.0129\u001b[0m\n",
      "Training 99     - 100    -          0.0004 -           1.0000    | 1.0000   - 0.1602\n",
      "\n",
      "Training 100    - 100    -          0.0006 -           1.0000    | 1.0000   - 0.1597\n"
     ]
    }
   ],
   "source": [
    "trainer.fit()"
   ]
  },
  {
   "cell_type": "code",
   "execution_count": 42,
   "metadata": {
    "tags": [
     "outputPrepend"
    ]
   },
   "outputs": [
    {
     "output_type": "stream",
     "name": "stdout",
     "text": [
      "   [-1, 32, 32, 216]               0\n",
      "           Conv2d-15          [-1, 32, 32, 216]           9,216\n",
      "      BatchNorm2d-16          [-1, 32, 32, 216]              64\n",
      "             ReLU-17          [-1, 32, 32, 216]               0\n",
      "       BasicBlock-18          [-1, 32, 32, 216]               0\n",
      "           Conv2d-19          [-1, 32, 32, 216]           9,216\n",
      "      BatchNorm2d-20          [-1, 32, 32, 216]              64\n",
      "             ReLU-21          [-1, 32, 32, 216]               0\n",
      "           Conv2d-22          [-1, 32, 32, 216]           9,216\n",
      "      BatchNorm2d-23          [-1, 32, 32, 216]              64\n",
      "             ReLU-24          [-1, 32, 32, 216]               0\n",
      "       BasicBlock-25          [-1, 32, 32, 216]               0\n",
      "           Conv2d-26          [-1, 32, 32, 216]           9,216\n",
      "      BatchNorm2d-27          [-1, 32, 32, 216]              64\n",
      "             ReLU-28          [-1, 32, 32, 216]               0\n",
      "           Conv2d-29          [-1, 32, 32, 216]           9,216\n",
      "      BatchNorm2d-30          [-1, 32, 32, 216]              64\n",
      "             ReLU-31          [-1, 32, 32, 216]               0\n",
      "       BasicBlock-32          [-1, 32, 32, 216]               0\n",
      "           Conv2d-33          [-1, 64, 16, 108]          18,432\n",
      "      BatchNorm2d-34          [-1, 64, 16, 108]             128\n",
      "             ReLU-35          [-1, 64, 16, 108]               0\n",
      "           Conv2d-36          [-1, 64, 16, 108]          36,864\n",
      "      BatchNorm2d-37          [-1, 64, 16, 108]             128\n",
      "           Conv2d-38          [-1, 64, 16, 108]           2,048\n",
      "      BatchNorm2d-39          [-1, 64, 16, 108]             128\n",
      "             ReLU-40          [-1, 64, 16, 108]               0\n",
      "       BasicBlock-41          [-1, 64, 16, 108]               0\n",
      "           Conv2d-42          [-1, 64, 16, 108]          36,864\n",
      "      BatchNorm2d-43          [-1, 64, 16, 108]             128\n",
      "             ReLU-44          [-1, 64, 16, 108]               0\n",
      "           Conv2d-45          [-1, 64, 16, 108]          36,864\n",
      "      BatchNorm2d-46          [-1, 64, 16, 108]             128\n",
      "             ReLU-47          [-1, 64, 16, 108]               0\n",
      "       BasicBlock-48          [-1, 64, 16, 108]               0\n",
      "           Conv2d-49          [-1, 64, 16, 108]          36,864\n",
      "      BatchNorm2d-50          [-1, 64, 16, 108]             128\n",
      "             ReLU-51          [-1, 64, 16, 108]               0\n",
      "           Conv2d-52          [-1, 64, 16, 108]          36,864\n",
      "      BatchNorm2d-53          [-1, 64, 16, 108]             128\n",
      "             ReLU-54          [-1, 64, 16, 108]               0\n",
      "       BasicBlock-55          [-1, 64, 16, 108]               0\n",
      "           Conv2d-56          [-1, 64, 16, 108]          36,864\n",
      "      BatchNorm2d-57          [-1, 64, 16, 108]             128\n",
      "             ReLU-58          [-1, 64, 16, 108]               0\n",
      "           Conv2d-59          [-1, 64, 16, 108]          36,864\n",
      "      BatchNorm2d-60          [-1, 64, 16, 108]             128\n",
      "             ReLU-61          [-1, 64, 16, 108]               0\n",
      "       BasicBlock-62          [-1, 64, 16, 108]               0\n",
      "           Conv2d-63           [-1, 128, 8, 54]          73,728\n",
      "      BatchNorm2d-64           [-1, 128, 8, 54]             256\n",
      "             ReLU-65           [-1, 128, 8, 54]               0\n",
      "           Conv2d-66           [-1, 128, 8, 54]         147,456\n",
      "      BatchNorm2d-67           [-1, 128, 8, 54]             256\n",
      "           Conv2d-68           [-1, 128, 8, 54]           8,192\n",
      "      BatchNorm2d-69           [-1, 128, 8, 54]             256\n",
      "             ReLU-70           [-1, 128, 8, 54]               0\n",
      "       BasicBlock-71           [-1, 128, 8, 54]               0\n",
      "           Conv2d-72           [-1, 128, 8, 54]         147,456\n",
      "      BatchNorm2d-73           [-1, 128, 8, 54]             256\n",
      "             ReLU-74           [-1, 128, 8, 54]               0\n",
      "           Conv2d-75           [-1, 128, 8, 54]         147,456\n",
      "      BatchNorm2d-76           [-1, 128, 8, 54]             256\n",
      "             ReLU-77           [-1, 128, 8, 54]               0\n",
      "       BasicBlock-78           [-1, 128, 8, 54]               0\n",
      "           Conv2d-79           [-1, 128, 8, 54]         147,456\n",
      "      BatchNorm2d-80           [-1, 128, 8, 54]             256\n",
      "             ReLU-81           [-1, 128, 8, 54]               0\n",
      "           Conv2d-82           [-1, 128, 8, 54]         147,456\n",
      "      BatchNorm2d-83           [-1, 128, 8, 54]             256\n",
      "             ReLU-84           [-1, 128, 8, 54]               0\n",
      "       BasicBlock-85           [-1, 128, 8, 54]               0\n",
      "           Conv2d-86           [-1, 128, 8, 54]         147,456\n",
      "      BatchNorm2d-87           [-1, 128, 8, 54]             256\n",
      "             ReLU-88           [-1, 128, 8, 54]               0\n",
      "           Conv2d-89           [-1, 128, 8, 54]         147,456\n",
      "      BatchNorm2d-90           [-1, 128, 8, 54]             256\n",
      "             ReLU-91           [-1, 128, 8, 54]               0\n",
      "       BasicBlock-92           [-1, 128, 8, 54]               0\n",
      "AdaptiveAvgPool2d-93            [-1, 128, 1, 1]               0\n",
      "           Linear-94                   [-1, 10]           1,290\n",
      "================================================================\n",
      "Total params: 1,472,554\n",
      "Trainable params: 1,472,554\n",
      "Non-trainable params: 0\n",
      "----------------------------------------------------------------\n",
      "Input size (MB): 0.11\n",
      "Forward/backward pass size (MB): 107.11\n",
      "Params size (MB): 5.62\n",
      "Estimated Total Size (MB): 112.83\n",
      "----------------------------------------------------------------\n",
      "Initialize optimizer\n",
      "Initialize callbacks\n",
      "Prepare the log system\n",
      "Prepare the checkpoint system\n",
      ">>> Trainer is ready\n",
      "{'dataset': 'esc10', 'dataset_root': '../datasets', 'supervised_ratio': 1.0, 'batch_size': 64, 'train_folds': [3, 4, 5, 1], 'val_folds': [2], 'learning_rate': 0.003, 'nb_epoch': 100, 'seed': 1234}\n",
      "[4, 5, 1, 2] [3]\n",
      "Load the transformation\n",
      "Load the dataset\n",
      "Dataset already downloaded and verified.\n",
      "Dataset already downloaded and verified.\n",
      "Create the model\n",
      "----------------------------------------------------------------\n",
      "        Layer (type)               Output Shape         Param #\n",
      "================================================================\n",
      "            Conv2d-1          [-1, 32, 64, 431]             864\n",
      "       BatchNorm2d-2          [-1, 32, 64, 431]              64\n",
      "              ReLU-3          [-1, 32, 64, 431]               0\n",
      "         MaxPool2d-4          [-1, 32, 32, 216]               0\n",
      "            Conv2d-5          [-1, 32, 32, 216]           9,216\n",
      "       BatchNorm2d-6          [-1, 32, 32, 216]              64\n",
      "              ReLU-7          [-1, 32, 32, 216]               0\n",
      "            Conv2d-8          [-1, 32, 32, 216]           9,216\n",
      "       BatchNorm2d-9          [-1, 32, 32, 216]              64\n",
      "             ReLU-10          [-1, 32, 32, 216]               0\n",
      "       BasicBlock-11          [-1, 32, 32, 216]               0\n",
      "           Conv2d-12          [-1, 32, 32, 216]           9,216\n",
      "      BatchNorm2d-13          [-1, 32, 32, 216]              64\n",
      "             ReLU-14          [-1, 32, 32, 216]               0\n",
      "           Conv2d-15          [-1, 32, 32, 216]           9,216\n",
      "      BatchNorm2d-16          [-1, 32, 32, 216]              64\n",
      "             ReLU-17          [-1, 32, 32, 216]               0\n",
      "       BasicBlock-18          [-1, 32, 32, 216]               0\n",
      "           Conv2d-19          [-1, 32, 32, 216]           9,216\n",
      "      BatchNorm2d-20          [-1, 32, 32, 216]              64\n",
      "             ReLU-21          [-1, 32, 32, 216]               0\n",
      "           Conv2d-22          [-1, 32, 32, 216]           9,216\n",
      "      BatchNorm2d-23          [-1, 32, 32, 216]              64\n",
      "             ReLU-24          [-1, 32, 32, 216]               0\n",
      "       BasicBlock-25          [-1, 32, 32, 216]               0\n",
      "           Conv2d-26          [-1, 32, 32, 216]           9,216\n",
      "      BatchNorm2d-27          [-1, 32, 32, 216]              64\n",
      "             ReLU-28          [-1, 32, 32, 216]               0\n",
      "           Conv2d-29          [-1, 32, 32, 216]           9,216\n",
      "      BatchNorm2d-30          [-1, 32, 32, 216]              64\n",
      "             ReLU-31          [-1, 32, 32, 216]               0\n",
      "       BasicBlock-32          [-1, 32, 32, 216]               0\n",
      "           Conv2d-33          [-1, 64, 16, 108]          18,432\n",
      "      BatchNorm2d-34          [-1, 64, 16, 108]             128\n",
      "             ReLU-35          [-1, 64, 16, 108]               0\n",
      "           Conv2d-36          [-1, 64, 16, 108]          36,864\n",
      "      BatchNorm2d-37          [-1, 64, 16, 108]             128\n",
      "           Conv2d-38          [-1, 64, 16, 108]           2,048\n",
      "      BatchNorm2d-39          [-1, 64, 16, 108]             128\n",
      "             ReLU-40          [-1, 64, 16, 108]               0\n",
      "       BasicBlock-41          [-1, 64, 16, 108]               0\n",
      "           Conv2d-42          [-1, 64, 16, 108]          36,864\n",
      "      BatchNorm2d-43          [-1, 64, 16, 108]             128\n",
      "             ReLU-44          [-1, 64, 16, 108]               0\n",
      "           Conv2d-45          [-1, 64, 16, 108]          36,864\n",
      "      BatchNorm2d-46          [-1, 64, 16, 108]             128\n",
      "             ReLU-47          [-1, 64, 16, 108]               0\n",
      "       BasicBlock-48          [-1, 64, 16, 108]               0\n",
      "           Conv2d-49          [-1, 64, 16, 108]          36,864\n",
      "      BatchNorm2d-50          [-1, 64, 16, 108]             128\n",
      "             ReLU-51          [-1, 64, 16, 108]               0\n",
      "           Conv2d-52          [-1, 64, 16, 108]          36,864\n",
      "      BatchNorm2d-53          [-1, 64, 16, 108]             128\n",
      "             ReLU-54          [-1, 64, 16, 108]               0\n",
      "       BasicBlock-55          [-1, 64, 16, 108]               0\n",
      "           Conv2d-56          [-1, 64, 16, 108]          36,864\n",
      "      BatchNorm2d-57          [-1, 64, 16, 108]             128\n",
      "             ReLU-58          [-1, 64, 16, 108]               0\n",
      "           Conv2d-59          [-1, 64, 16, 108]          36,864\n",
      "      BatchNorm2d-60          [-1, 64, 16, 108]             128\n",
      "             ReLU-61          [-1, 64, 16, 108]               0\n",
      "       BasicBlock-62          [-1, 64, 16, 108]               0\n",
      "           Conv2d-63           [-1, 128, 8, 54]          73,728\n",
      "      BatchNorm2d-64           [-1, 128, 8, 54]             256\n",
      "             ReLU-65           [-1, 128, 8, 54]               0\n",
      "           Conv2d-66           [-1, 128, 8, 54]         147,456\n",
      "      BatchNorm2d-67           [-1, 128, 8, 54]             256\n",
      "           Conv2d-68           [-1, 128, 8, 54]           8,192\n",
      "      BatchNorm2d-69           [-1, 128, 8, 54]             256\n",
      "             ReLU-70           [-1, 128, 8, 54]               0\n",
      "       BasicBlock-71           [-1, 128, 8, 54]               0\n",
      "           Conv2d-72           [-1, 128, 8, 54]         147,456\n",
      "      BatchNorm2d-73           [-1, 128, 8, 54]             256\n",
      "             ReLU-74           [-1, 128, 8, 54]               0\n",
      "           Conv2d-75           [-1, 128, 8, 54]         147,456\n",
      "      BatchNorm2d-76           [-1, 128, 8, 54]             256\n",
      "             ReLU-77           [-1, 128, 8, 54]               0\n",
      "       BasicBlock-78           [-1, 128, 8, 54]               0\n",
      "           Conv2d-79           [-1, 128, 8, 54]         147,456\n",
      "      BatchNorm2d-80           [-1, 128, 8, 54]             256\n",
      "             ReLU-81           [-1, 128, 8, 54]               0\n",
      "           Conv2d-82           [-1, 128, 8, 54]         147,456\n",
      "      BatchNorm2d-83           [-1, 128, 8, 54]             256\n",
      "             ReLU-84           [-1, 128, 8, 54]               0\n",
      "       BasicBlock-85           [-1, 128, 8, 54]               0\n",
      "           Conv2d-86           [-1, 128, 8, 54]         147,456\n",
      "      BatchNorm2d-87           [-1, 128, 8, 54]             256\n",
      "             ReLU-88           [-1, 128, 8, 54]               0\n",
      "           Conv2d-89           [-1, 128, 8, 54]         147,456\n",
      "      BatchNorm2d-90           [-1, 128, 8, 54]             256\n",
      "             ReLU-91           [-1, 128, 8, 54]               0\n",
      "       BasicBlock-92           [-1, 128, 8, 54]               0\n",
      "AdaptiveAvgPool2d-93            [-1, 128, 1, 1]               0\n",
      "           Linear-94                   [-1, 10]           1,290\n",
      "================================================================\n",
      "Total params: 1,472,554\n",
      "Trainable params: 1,472,554\n",
      "Non-trainable params: 0\n",
      "----------------------------------------------------------------\n",
      "Input size (MB): 0.11\n",
      "Forward/backward pass size (MB): 107.11\n",
      "Params size (MB): 5.62\n",
      "Estimated Total Size (MB): 112.83\n",
      "----------------------------------------------------------------\n",
      "Initialize optimizer\n",
      "Initialize callbacks\n",
      "Prepare the log system\n",
      "Prepare the checkpoint system\n",
      ">>> Trainer is ready\n",
      "{'dataset': 'esc10', 'dataset_root': '../datasets', 'supervised_ratio': 1.0, 'batch_size': 64, 'train_folds': [4, 5, 1, 2], 'val_folds': [3], 'learning_rate': 0.003, 'nb_epoch': 100, 'seed': 1234}\n",
      "[5, 1, 2, 3] [4]\n",
      "Load the transformation\n",
      "Load the dataset\n",
      "Dataset already downloaded and verified.\n",
      "Dataset already downloaded and verified.\n",
      "Create the model\n",
      "----------------------------------------------------------------\n",
      "        Layer (type)               Output Shape         Param #\n",
      "================================================================\n",
      "            Conv2d-1          [-1, 32, 64, 431]             864\n",
      "       BatchNorm2d-2          [-1, 32, 64, 431]              64\n",
      "              ReLU-3          [-1, 32, 64, 431]               0\n",
      "         MaxPool2d-4          [-1, 32, 32, 216]               0\n",
      "            Conv2d-5          [-1, 32, 32, 216]           9,216\n",
      "       BatchNorm2d-6          [-1, 32, 32, 216]              64\n",
      "              ReLU-7          [-1, 32, 32, 216]               0\n",
      "            Conv2d-8          [-1, 32, 32, 216]           9,216\n",
      "       BatchNorm2d-9          [-1, 32, 32, 216]              64\n",
      "             ReLU-10          [-1, 32, 32, 216]               0\n",
      "       BasicBlock-11          [-1, 32, 32, 216]               0\n",
      "           Conv2d-12          [-1, 32, 32, 216]           9,216\n",
      "      BatchNorm2d-13          [-1, 32, 32, 216]              64\n",
      "             ReLU-14          [-1, 32, 32, 216]               0\n",
      "           Conv2d-15          [-1, 32, 32, 216]           9,216\n",
      "      BatchNorm2d-16          [-1, 32, 32, 216]              64\n",
      "             ReLU-17          [-1, 32, 32, 216]               0\n",
      "       BasicBlock-18          [-1, 32, 32, 216]               0\n",
      "           Conv2d-19          [-1, 32, 32, 216]           9,216\n",
      "      BatchNorm2d-20          [-1, 32, 32, 216]              64\n",
      "             ReLU-21          [-1, 32, 32, 216]               0\n",
      "           Conv2d-22          [-1, 32, 32, 216]           9,216\n",
      "      BatchNorm2d-23          [-1, 32, 32, 216]              64\n",
      "             ReLU-24          [-1, 32, 32, 216]               0\n",
      "       BasicBlock-25          [-1, 32, 32, 216]               0\n",
      "           Conv2d-26          [-1, 32, 32, 216]           9,216\n",
      "      BatchNorm2d-27          [-1, 32, 32, 216]              64\n",
      "             ReLU-28          [-1, 32, 32, 216]               0\n",
      "           Conv2d-29          [-1, 32, 32, 216]           9,216\n",
      "      BatchNorm2d-30          [-1, 32, 32, 216]              64\n",
      "             ReLU-31          [-1, 32, 32, 216]               0\n",
      "       BasicBlock-32          [-1, 32, 32, 216]               0\n",
      "           Conv2d-33          [-1, 64, 16, 108]          18,432\n",
      "      BatchNorm2d-34          [-1, 64, 16, 108]             128\n",
      "             ReLU-35          [-1, 64, 16, 108]               0\n",
      "           Conv2d-36          [-1, 64, 16, 108]          36,864\n",
      "      BatchNorm2d-37          [-1, 64, 16, 108]             128\n",
      "           Conv2d-38          [-1, 64, 16, 108]           2,048\n",
      "      BatchNorm2d-39          [-1, 64, 16, 108]             128\n",
      "             ReLU-40          [-1, 64, 16, 108]               0\n",
      "       BasicBlock-41          [-1, 64, 16, 108]               0\n",
      "           Conv2d-42          [-1, 64, 16, 108]          36,864\n",
      "      BatchNorm2d-43          [-1, 64, 16, 108]             128\n",
      "             ReLU-44          [-1, 64, 16, 108]               0\n",
      "           Conv2d-45          [-1, 64, 16, 108]          36,864\n",
      "      BatchNorm2d-46          [-1, 64, 16, 108]             128\n",
      "             ReLU-47          [-1, 64, 16, 108]               0\n",
      "       BasicBlock-48          [-1, 64, 16, 108]               0\n",
      "           Conv2d-49          [-1, 64, 16, 108]          36,864\n",
      "      BatchNorm2d-50          [-1, 64, 16, 108]             128\n",
      "             ReLU-51          [-1, 64, 16, 108]               0\n",
      "           Conv2d-52          [-1, 64, 16, 108]          36,864\n",
      "      BatchNorm2d-53          [-1, 64, 16, 108]             128\n",
      "             ReLU-54          [-1, 64, 16, 108]               0\n",
      "       BasicBlock-55          [-1, 64, 16, 108]               0\n",
      "           Conv2d-56          [-1, 64, 16, 108]          36,864\n",
      "      BatchNorm2d-57          [-1, 64, 16, 108]             128\n",
      "             ReLU-58          [-1, 64, 16, 108]               0\n",
      "           Conv2d-59          [-1, 64, 16, 108]          36,864\n",
      "      BatchNorm2d-60          [-1, 64, 16, 108]             128\n",
      "             ReLU-61          [-1, 64, 16, 108]               0\n",
      "       BasicBlock-62          [-1, 64, 16, 108]               0\n",
      "           Conv2d-63           [-1, 128, 8, 54]          73,728\n",
      "      BatchNorm2d-64           [-1, 128, 8, 54]             256\n",
      "             ReLU-65           [-1, 128, 8, 54]               0\n",
      "           Conv2d-66           [-1, 128, 8, 54]         147,456\n",
      "      BatchNorm2d-67           [-1, 128, 8, 54]             256\n",
      "           Conv2d-68           [-1, 128, 8, 54]           8,192\n",
      "      BatchNorm2d-69           [-1, 128, 8, 54]             256\n",
      "             ReLU-70           [-1, 128, 8, 54]               0\n",
      "       BasicBlock-71           [-1, 128, 8, 54]               0\n",
      "           Conv2d-72           [-1, 128, 8, 54]         147,456\n",
      "      BatchNorm2d-73           [-1, 128, 8, 54]             256\n",
      "             ReLU-74           [-1, 128, 8, 54]               0\n",
      "           Conv2d-75           [-1, 128, 8, 54]         147,456\n",
      "      BatchNorm2d-76           [-1, 128, 8, 54]             256\n",
      "             ReLU-77           [-1, 128, 8, 54]               0\n",
      "       BasicBlock-78           [-1, 128, 8, 54]               0\n",
      "           Conv2d-79           [-1, 128, 8, 54]         147,456\n",
      "      BatchNorm2d-80           [-1, 128, 8, 54]             256\n",
      "             ReLU-81           [-1, 128, 8, 54]               0\n",
      "           Conv2d-82           [-1, 128, 8, 54]         147,456\n",
      "      BatchNorm2d-83           [-1, 128, 8, 54]             256\n",
      "             ReLU-84           [-1, 128, 8, 54]               0\n",
      "       BasicBlock-85           [-1, 128, 8, 54]               0\n",
      "           Conv2d-86           [-1, 128, 8, 54]         147,456\n",
      "      BatchNorm2d-87           [-1, 128, 8, 54]             256\n",
      "             ReLU-88           [-1, 128, 8, 54]               0\n",
      "           Conv2d-89           [-1, 128, 8, 54]         147,456\n",
      "      BatchNorm2d-90           [-1, 128, 8, 54]             256\n",
      "             ReLU-91           [-1, 128, 8, 54]               0\n",
      "       BasicBlock-92           [-1, 128, 8, 54]               0\n",
      "AdaptiveAvgPool2d-93            [-1, 128, 1, 1]               0\n",
      "           Linear-94                   [-1, 10]           1,290\n",
      "================================================================\n",
      "Total params: 1,472,554\n",
      "Trainable params: 1,472,554\n",
      "Non-trainable params: 0\n",
      "----------------------------------------------------------------\n",
      "Input size (MB): 0.11\n",
      "Forward/backward pass size (MB): 107.11\n",
      "Params size (MB): 5.62\n",
      "Estimated Total Size (MB): 112.83\n",
      "----------------------------------------------------------------\n",
      "Initialize optimizer\n",
      "Initialize callbacks\n",
      "Prepare the log system\n",
      "Prepare the checkpoint system\n",
      ">>> Trainer is ready\n",
      "{'dataset': 'esc10', 'dataset_root': '../datasets', 'supervised_ratio': 1.0, 'batch_size': 64, 'train_folds': [5, 1, 2, 3], 'val_folds': [4], 'learning_rate': 0.003, 'nb_epoch': 100, 'seed': 1234}\n"
     ]
    }
   ],
   "source": [
    "trainer = SupervisedTrainer(\"cnn03\", \"esc10\")\n",
    "\n",
    "train_folds = [[1, 2, 3, 4],\n",
    "               [2, 3, 4, 5],\n",
    "               [3, 4, 5, 1],\n",
    "               [4, 5, 1, 2],\n",
    "               [5, 1, 2, 3]]\n",
    "val_folds = [[5], [1], [2], [3], [4]]\n",
    "\n",
    "for tf, vf in zip(train_folds, val_folds):\n",
    "    training_params[\"train_folds\"] = tf\n",
    "    training_params[\"val_folds\"] = vf\n",
    "\n",
    "    print(tf, vf)\n",
    "    trainer.init_trainer(\n",
    "        training_params,\n",
    "        **other_params\n",
    "    )\n",
    "    print(trainer.parameters)\n",
    "\n",
    "    #trainer.fit()\n",
    "    # trainer.close()"
   ]
  }
 ],
 "metadata": {
  "kernelspec": {
   "name": "Python 3.8.0 64-bit ('dct': conda)",
   "display_name": "Python 3.8.0 64-bit ('dct': conda)",
   "metadata": {
    "interpreter": {
     "hash": "4213439f5b613b420c7569d9a47a12bf897408d7580af00afce4972bcc867ad9"
    }
   }
  },
  "language_info": {
   "codemirror_mode": {
    "name": "ipython",
    "version": 3
   },
   "file_extension": ".py",
   "mimetype": "text/x-python",
   "name": "python",
   "nbconvert_exporter": "python",
   "pygments_lexer": "ipython3",
   "version": "3.8.0-final"
  }
 },
 "nbformat": 4,
 "nbformat_minor": 4
}