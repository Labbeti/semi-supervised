{
 "cells": [
  {
   "cell_type": "markdown",
   "metadata": {
    "jupyter": {
     "outputs_hidden": true
    }
   },
   "source": [
    "# import"
   ]
  },
  {
   "cell_type": "code",
   "execution_count": 1,
   "metadata": {},
   "outputs": [],
   "source": [
    "%load_ext autoreload\n",
    "%autoreload 2"
   ]
  },
  {
   "cell_type": "code",
   "execution_count": 2,
   "metadata": {},
   "outputs": [
    {
     "output_type": "execute_result",
     "data": {
      "text/plain": [
       "'/home/lcances/.miniconda3/envs/dct/bin/python'"
      ]
     },
     "metadata": {},
     "execution_count": 2
    }
   ],
   "source": [
    "import sys\n",
    "sys.executable"
   ]
  },
  {
   "cell_type": "code",
   "execution_count": 3,
   "metadata": {},
   "outputs": [],
   "source": [
    "import os\n",
    "os.environ[\"MKL_NUM_THREADS\"] = \"2\"\n",
    "os.environ[\"NUMEXPR_NU M_THREADS\"] = \"2\"\n",
    "os.environ[\"OMP_NUM_THREADS\"] = \"2\"\n",
    "import time\n",
    "from types import MethodType\n",
    "\n",
    "import numpy\n",
    "import torch\n",
    "import torch.nn as nn\n",
    "import torch.utils.data as data\n",
    "import torch.nn.functional as F\n",
    "import torchvision.transforms as transforms\n",
    "from torch.cuda.amp import autocast\n",
    "\n",
    "from torch.optim.lr_scheduler import LambdaLR\n",
    "from torch.utils.tensorboard import SummaryWriter\n",
    "from torch.utils.data import DataLoader"
   ]
  },
  {
   "cell_type": "code",
   "execution_count": 4,
   "metadata": {
    "tags": []
   },
   "outputs": [],
   "source": [
    "from SSL.util.model_loader import load_model\n",
    "from SSL.util.loaders import load_dataset, load_optimizer, load_callbacks, load_preprocesser\n",
    "from SSL.util.checkpoint import CheckPoint, mSummaryWriter\n",
    "from SSL.util.utils import reset_seed, get_datetime, track_maximum, DotDict\n",
    "\n",
    "from metric_utils.metrics import CategoricalAccuracy, FScore, ContinueAverage"
   ]
  },
  {
   "cell_type": "markdown",
   "metadata": {
    "pycharm": {
     "name": "#%% md\n"
    }
   },
   "source": [
    "# Arguments"
   ]
  },
  {
   "cell_type": "code",
   "execution_count": 5,
   "metadata": {},
   "outputs": [],
   "source": [
    "import argparse\n",
    "parser = argparse.ArgumentParser()\n",
    "parser.add_argument(\"--from_config\", default=\"\", type=str)\n",
    "parser.add_argument(\"-d\", \"--dataset_root\", default=\"../datasets\", type=str)\n",
    "parser.add_argument(\"-D\", \"--dataset\", default=\"SpeechCommand\", type=str, help=\"available [ubs8k | cifar10]\")\n",
    "\n",
    "group_t = parser.add_argument_group(\"Commun parameters\")\n",
    "group_t.add_argument(\"-m\", \"--model\", default=\"wideresnet28_2\", type=str)\n",
    "group_t.add_argument(\"--supervised_ratio\", default=0.1, type=float)\n",
    "group_t.add_argument(\"--batch_size\", default=256, type=int)\n",
    "group_t.add_argument(\"--nb_epoch\", default=100, type=int)\n",
    "group_t.add_argument(\"--learning_rate\", default=0.003, type=float)\n",
    "group_t.add_argument(\"--resume\", action=\"store_true\", default=False)\n",
    "group_t.add_argument(\"--preload_dataset\", action=\"store_true\", default=False)\n",
    "group_t.add_argument(\"--seed\", default=1234, type=int)\n",
    "\n",
    "group_m = parser.add_argument_group(\"Model parameters\")\n",
    "group_m.add_argument(\"--num_classes\", default=12, type=int)\n",
    "\n",
    "group_u = parser.add_argument_group(\"Datasets parameters\")\n",
    "group_u.add_argument(\"-t\", \"--train_folds\", nargs=\"+\", default=[1, 2, 3, 4], type=int)\n",
    "group_u.add_argument(\"-v\", \"--val_folds\", nargs=\"+\", default=[5], type=int)\n",
    "\n",
    "group_l = parser.add_argument_group(\"Logs\")\n",
    "group_l.add_argument(\"--checkpoint_root\", default=\"../model_save/\", type=str)\n",
    "group_l.add_argument(\"--tensorboard_root\", default=\"../tensorboard/\", type=str)\n",
    "group_l.add_argument(\"--checkpoint_path\", default=\"supervised\", type=str)\n",
    "group_l.add_argument(\"--tensorboard_path\", default=\"supervised\", type=str)\n",
    "group_l.add_argument(\"--tensorboard_sufix\", default=\"\", type=str)\n",
    "\n",
    "args = parser.parse_args(\"\")\n",
    "\n",
    "args.tensorboard_path = os.path.join(args.tensorboard_root, args.dataset, args.tensorboard_path)\n",
    "args.checkpoint_path = os.path.join(args.checkpoint_root, args.dataset, args.checkpoint_path)"
   ]
  },
  {
   "cell_type": "code",
   "execution_count": 6,
   "metadata": {},
   "outputs": [
    {
     "output_type": "execute_result",
     "data": {
      "text/plain": [
       "{'from_config': '',\n",
       " 'dataset_root': '../datasets',\n",
       " 'dataset': 'SpeechCommand',\n",
       " 'model': 'wideresnet28_2',\n",
       " 'supervised_ratio': 0.1,\n",
       " 'batch_size': 256,\n",
       " 'nb_epoch': 100,\n",
       " 'learning_rate': 0.003,\n",
       " 'resume': False,\n",
       " 'preload_dataset': False,\n",
       " 'seed': 1234,\n",
       " 'num_classes': 12,\n",
       " 'train_folds': [1, 2, 3, 4],\n",
       " 'val_folds': [5],\n",
       " 'checkpoint_root': '../model_save/',\n",
       " 'tensorboard_root': '../tensorboard/',\n",
       " 'checkpoint_path': '../model_save/SpeechCommand/supervised',\n",
       " 'tensorboard_path': '../tensorboard/SpeechCommand/supervised',\n",
       " 'tensorboard_sufix': ''}"
      ]
     },
     "metadata": {},
     "execution_count": 6
    }
   ],
   "source": [
    "vars(args)"
   ]
  },
  {
   "cell_type": "markdown",
   "metadata": {
    "pycharm": {
     "name": "#%% md\n"
    }
   },
   "source": [
    "# initialisation"
   ]
  },
  {
   "cell_type": "code",
   "execution_count": 7,
   "metadata": {},
   "outputs": [],
   "source": [
    "reset_seed(args.seed)"
   ]
  },
  {
   "source": [
    "\n",
    "trainer = SupervisedTrainer(\"cnn03\", \"esc10\")\n",
    "trainer.init_trainer(\n",
    "    parameters=vars(args),\n",
    "    seed = args.seed,\n",
    "    num_workers=0,\n",
    "    pin_memory=True,\n",
    "    verbose = 2\n",
    ")"
   ],
   "cell_type": "markdown",
   "metadata": {}
  },
  {
   "cell_type": "code",
   "execution_count": 8,
   "metadata": {
    "collapsed": false,
    "jupyter": {
     "outputs_hidden": false
    },
    "pycharm": {
     "name": "#%%\n"
    },
    "tags": [
     "re_run"
    ]
   },
   "outputs": [],
   "source": [
    "# from SSL.trainers.esc import SupervisedTrainer\n",
    "from SSL.trainers.trainers import Trainer\n",
    "\n",
    "class SupervisedTrainer(Trainer):\n",
    "    def __init__(self, model: str, dataset: str):\n",
    "        super().__init__(model, \"supervised\", dataset)\n",
    "\n",
    "trainer = SupervisedTrainer(args.model, args.dataset)"
   ]
  },
  {
   "cell_type": "markdown",
   "metadata": {
    "pycharm": {
     "name": "#%% md\n"
    }
   },
   "source": [
    "# Prepare the dataset"
   ]
  },
  {
   "cell_type": "code",
   "execution_count": 9,
   "metadata": {},
   "outputs": [
    {
     "output_type": "stream",
     "name": "stdout",
     "text": [
      "Load the transformation\n",
      "################################################################################\n",
      "### WARNING, path does not exist: KALDI_ROOT=/mnt/matylda5/iveselyk/Tools/kaldi-trunk\n",
      "###          (please add 'export KALDI_ROOT=<your_path>' in your $HOME/.profile)\n",
      "###          (or run as: KALDI_ROOT=<your_path> python <your_script>.py)\n",
      "################################################################################\n",
      "\n"
     ]
    }
   ],
   "source": [
    "trainer.load_transforms()"
   ]
  },
  {
   "cell_type": "code",
   "execution_count": 10,
   "metadata": {
    "collapsed": false,
    "jupyter": {
     "outputs_hidden": false
    },
    "pycharm": {
     "name": "#%%\n"
    },
    "tags": []
   },
   "outputs": [],
   "source": [
    "from SSL.dataset_loader.speechcommand import SpeechCommand10\n",
    "def _load_dataset(self, parameters: dict):\n",
    "    print(\"Load the dataset\")\n",
    "    outputs = load_dataset(\n",
    "        framework=self.framework,\n",
    "        train_transform=self.train_transform,\n",
    "        val_transform=self.val_transform,\n",
    "        **parameters\n",
    "    )\n",
    "\n",
    "    self.manager, self.train_loader, self.val_loader = outputs\n",
    "    self.input_shape = self._get_input_shape()\n",
    "\n",
    "    dataset_path = parameters[\"dataset_root\"]\n",
    "    test_dataset = SpeechCommand10(root=dataset_path, subset=\"testing\", transform=self.train_transform, download=True, percent_to_drop=0.0)\n",
    "    self.test_loader = DataLoader(test_dataset, batch_size=parameters[\"batch_size\"], shuffle=True,\n",
    "    num_workers=parameters[\"num_workers\"], pin_memory=parameters[\"pin_memory\"])\n",
    "\n",
    "trainer.load_dataset = MethodType(_load_dataset, trainer)"
   ]
  },
  {
   "cell_type": "code",
   "execution_count": 11,
   "metadata": {
    "tags": []
   },
   "outputs": [
    {
     "output_type": "stream",
     "name": "stdout",
     "text": [
      "Load the dataset\n../datasets/SpeechCommands/speech_commands_v0.02\n"
     ]
    },
    {
     "output_type": "error",
     "ename": "FileNotFoundError",
     "evalue": "[Errno 2] No such file or directory: '../datasets/speech_commands_v0.02.tar.gz'",
     "traceback": [
      "\u001b[0;31m---------------------------------------------------------------------------\u001b[0m",
      "\u001b[0;31mFileNotFoundError\u001b[0m                         Traceback (most recent call last)",
      "\u001b[0;32m<ipython-input-11-0a1099956420>\u001b[0m in \u001b[0;36m<module>\u001b[0;34m\u001b[0m\n\u001b[1;32m     14\u001b[0m )\n\u001b[1;32m     15\u001b[0m \u001b[0;34m\u001b[0m\u001b[0m\n\u001b[0;32m---> 16\u001b[0;31m \u001b[0mtrainer\u001b[0m\u001b[0;34m.\u001b[0m\u001b[0mload_dataset\u001b[0m\u001b[0;34m(\u001b[0m\u001b[0mparameters\u001b[0m\u001b[0;34m)\u001b[0m\u001b[0;34m\u001b[0m\u001b[0;34m\u001b[0m\u001b[0m\n\u001b[0m",
      "\u001b[0;32m<ipython-input-10-a5068748aa7b>\u001b[0m in \u001b[0;36m_load_dataset\u001b[0;34m(self, parameters)\u001b[0m\n\u001b[1;32m      2\u001b[0m \u001b[0;32mdef\u001b[0m \u001b[0m_load_dataset\u001b[0m\u001b[0;34m(\u001b[0m\u001b[0mself\u001b[0m\u001b[0;34m,\u001b[0m \u001b[0mparameters\u001b[0m\u001b[0;34m:\u001b[0m \u001b[0mdict\u001b[0m\u001b[0;34m)\u001b[0m\u001b[0;34m:\u001b[0m\u001b[0;34m\u001b[0m\u001b[0;34m\u001b[0m\u001b[0m\n\u001b[1;32m      3\u001b[0m     \u001b[0mprint\u001b[0m\u001b[0;34m(\u001b[0m\u001b[0;34m\"Load the dataset\"\u001b[0m\u001b[0;34m)\u001b[0m\u001b[0;34m\u001b[0m\u001b[0;34m\u001b[0m\u001b[0m\n\u001b[0;32m----> 4\u001b[0;31m     outputs = load_dataset(\n\u001b[0m\u001b[1;32m      5\u001b[0m         \u001b[0mframework\u001b[0m\u001b[0;34m=\u001b[0m\u001b[0mself\u001b[0m\u001b[0;34m.\u001b[0m\u001b[0mframework\u001b[0m\u001b[0;34m,\u001b[0m\u001b[0;34m\u001b[0m\u001b[0;34m\u001b[0m\u001b[0m\n\u001b[1;32m      6\u001b[0m         \u001b[0mtrain_transform\u001b[0m\u001b[0;34m=\u001b[0m\u001b[0mself\u001b[0m\u001b[0;34m.\u001b[0m\u001b[0mtrain_transform\u001b[0m\u001b[0;34m,\u001b[0m\u001b[0;34m\u001b[0m\u001b[0;34m\u001b[0m\u001b[0m\n",
      "\u001b[0;32m~/sync/Documents_sync/Projet/Semi-Supervised/SSL/util/loaders.py\u001b[0m in \u001b[0;36mload_dataset\u001b[0;34m(dataset, framework, **kwargs)\u001b[0m\n\u001b[1;32m     51\u001b[0m     \u001b[0mdataset_mapper\u001b[0m \u001b[0;34m=\u001b[0m \u001b[0mbuild_mapper\u001b[0m\u001b[0;34m(\u001b[0m\u001b[0;34m{\u001b[0m\u001b[0;34m\"esc10\"\u001b[0m\u001b[0;34m:\u001b[0m \u001b[0me\u001b[0m\u001b[0;34m,\u001b[0m \u001b[0;34m\"esc50\"\u001b[0m\u001b[0;34m:\u001b[0m\u001b[0me\u001b[0m\u001b[0;34m,\u001b[0m \u001b[0;34m\"ubs8k\"\u001b[0m\u001b[0;34m:\u001b[0m \u001b[0mu\u001b[0m\u001b[0;34m,\u001b[0m \u001b[0;34m\"speechcommand\"\u001b[0m\u001b[0;34m:\u001b[0m \u001b[0ms\u001b[0m\u001b[0;34m}\u001b[0m\u001b[0;34m)\u001b[0m\u001b[0;34m\u001b[0m\u001b[0;34m\u001b[0m\u001b[0m\n\u001b[1;32m     52\u001b[0m \u001b[0;34m\u001b[0m\u001b[0m\n\u001b[0;32m---> 53\u001b[0;31m     \u001b[0;32mreturn\u001b[0m \u001b[0mload_helper\u001b[0m\u001b[0;34m(\u001b[0m\u001b[0mdataset\u001b[0m\u001b[0;34m,\u001b[0m \u001b[0mframework\u001b[0m\u001b[0;34m,\u001b[0m \u001b[0mdataset_mapper\u001b[0m\u001b[0;34m,\u001b[0m \u001b[0;34m**\u001b[0m\u001b[0mkwargs\u001b[0m\u001b[0;34m)\u001b[0m\u001b[0;34m\u001b[0m\u001b[0;34m\u001b[0m\u001b[0m\n\u001b[0m\u001b[1;32m     54\u001b[0m \u001b[0;34m\u001b[0m\u001b[0m\n\u001b[1;32m     55\u001b[0m \u001b[0;34m\u001b[0m\u001b[0m\n",
      "\u001b[0;32m~/sync/Documents_sync/Projet/Semi-Supervised/SSL/util/loaders.py\u001b[0m in \u001b[0;36mload_helper\u001b[0;34m(dataset, framework, mapper, **kwargs)\u001b[0m\n\u001b[1;32m     66\u001b[0m         \u001b[0;32mraise\u001b[0m \u001b[0mValueError\u001b[0m\u001b[0;34m(\u001b[0m\u001b[0;34mf\"framework {_framework} is not available. Available framework are: {available_framework}\"\u001b[0m\u001b[0;34m)\u001b[0m\u001b[0;34m\u001b[0m\u001b[0;34m\u001b[0m\u001b[0m\n\u001b[1;32m     67\u001b[0m \u001b[0;34m\u001b[0m\u001b[0m\n\u001b[0;32m---> 68\u001b[0;31m     \u001b[0;32mreturn\u001b[0m \u001b[0mmapper\u001b[0m\u001b[0;34m[\u001b[0m\u001b[0m_dataset\u001b[0m\u001b[0;34m]\u001b[0m\u001b[0;34m[\u001b[0m\u001b[0m_framework\u001b[0m\u001b[0;34m]\u001b[0m\u001b[0;34m(\u001b[0m\u001b[0;34m**\u001b[0m\u001b[0mkwargs\u001b[0m\u001b[0;34m)\u001b[0m\u001b[0;34m\u001b[0m\u001b[0;34m\u001b[0m\u001b[0m\n\u001b[0m",
      "\u001b[0;32m~/sync/Documents_sync/Projet/Semi-Supervised/SSL/dataset_loader/speechcommand.py\u001b[0m in \u001b[0;36msupervised\u001b[0;34m(dataset_root, supervised_ratio, batch_size, train_transform, val_transform, **kwargs)\u001b[0m\n\u001b[1;32m    501\u001b[0m \u001b[0;34m\u001b[0m\u001b[0m\n\u001b[1;32m    502\u001b[0m     \u001b[0;31m# validation subset\u001b[0m\u001b[0;34m\u001b[0m\u001b[0;34m\u001b[0m\u001b[0;34m\u001b[0m\u001b[0m\n\u001b[0;32m--> 503\u001b[0;31m     val_dataset = SpeechCommand10(root=dataset_path, subset=\"validation\",\n\u001b[0m\u001b[1;32m    504\u001b[0m     transform=train_transform, download=True, percent_to_drop=0.0)\n\u001b[1;32m    505\u001b[0m     \u001b[0mval_loader\u001b[0m \u001b[0;34m=\u001b[0m \u001b[0mDataLoader\u001b[0m\u001b[0;34m(\u001b[0m\u001b[0mval_dataset\u001b[0m\u001b[0;34m,\u001b[0m \u001b[0mbatch_size\u001b[0m\u001b[0;34m=\u001b[0m\u001b[0mbatch_size\u001b[0m\u001b[0;34m,\u001b[0m \u001b[0mshuffle\u001b[0m\u001b[0;34m=\u001b[0m\u001b[0;32mTrue\u001b[0m\u001b[0;34m,\u001b[0m \u001b[0;34m**\u001b[0m\u001b[0mloader_args\u001b[0m\u001b[0;34m)\u001b[0m\u001b[0;34m\u001b[0m\u001b[0;34m\u001b[0m\u001b[0m\n",
      "\u001b[0;32m~/sync/Documents_sync/Projet/Semi-Supervised/SSL/dataset_loader/speechcommand.py\u001b[0m in \u001b[0;36m__init__\u001b[0;34m(self, root, subset, url, download, transform, percent_to_drop)\u001b[0m\n\u001b[1;32m    237\u001b[0m                  \u001b[0mtransform\u001b[0m\u001b[0;34m:\u001b[0m \u001b[0mModule\u001b[0m \u001b[0;34m=\u001b[0m \u001b[0;32mNone\u001b[0m\u001b[0;34m,\u001b[0m\u001b[0;34m\u001b[0m\u001b[0;34m\u001b[0m\u001b[0m\n\u001b[1;32m    238\u001b[0m                  percent_to_drop: float = 0.5) -> None:\n\u001b[0;32m--> 239\u001b[0;31m         \u001b[0msuper\u001b[0m\u001b[0;34m(\u001b[0m\u001b[0;34m)\u001b[0m\u001b[0;34m.\u001b[0m\u001b[0m__init__\u001b[0m\u001b[0;34m(\u001b[0m\u001b[0mroot\u001b[0m\u001b[0;34m,\u001b[0m \u001b[0msubset\u001b[0m\u001b[0;34m,\u001b[0m \u001b[0murl\u001b[0m\u001b[0;34m,\u001b[0m \u001b[0mdownload\u001b[0m\u001b[0;34m,\u001b[0m \u001b[0mtransform\u001b[0m\u001b[0;34m)\u001b[0m\u001b[0;34m\u001b[0m\u001b[0;34m\u001b[0m\u001b[0m\n\u001b[0m\u001b[1;32m    240\u001b[0m \u001b[0;34m\u001b[0m\u001b[0m\n\u001b[1;32m    241\u001b[0m         \u001b[0;32massert\u001b[0m \u001b[0;36m0.0\u001b[0m \u001b[0;34m<=\u001b[0m \u001b[0mpercent_to_drop\u001b[0m \u001b[0;34m<\u001b[0m \u001b[0;36m1.0\u001b[0m\u001b[0;34m\u001b[0m\u001b[0;34m\u001b[0m\u001b[0m\n",
      "\u001b[0;32m~/sync/Documents_sync/Projet/Semi-Supervised/SSL/dataset_loader/speechcommand.py\u001b[0m in \u001b[0;36m__init__\u001b[0;34m(self, root, subset, url, download, transform)\u001b[0m\n\u001b[1;32m    118\u001b[0m                  \u001b[0mdownload\u001b[0m\u001b[0;34m:\u001b[0m \u001b[0mbool\u001b[0m \u001b[0;34m=\u001b[0m \u001b[0;32mFalse\u001b[0m\u001b[0;34m,\u001b[0m\u001b[0;34m\u001b[0m\u001b[0;34m\u001b[0m\u001b[0m\n\u001b[1;32m    119\u001b[0m                  transform: Module = None) -> None:\n\u001b[0;32m--> 120\u001b[0;31m         \u001b[0msuper\u001b[0m\u001b[0;34m(\u001b[0m\u001b[0;34m)\u001b[0m\u001b[0;34m.\u001b[0m\u001b[0m__init__\u001b[0m\u001b[0;34m(\u001b[0m\u001b[0mroot\u001b[0m\u001b[0;34m,\u001b[0m \u001b[0murl\u001b[0m\u001b[0;34m,\u001b[0m \u001b[0mdownload\u001b[0m\u001b[0;34m,\u001b[0m \u001b[0mtransform\u001b[0m\u001b[0;34m)\u001b[0m\u001b[0;34m\u001b[0m\u001b[0;34m\u001b[0m\u001b[0m\n\u001b[0m\u001b[1;32m    121\u001b[0m \u001b[0;34m\u001b[0m\u001b[0m\n\u001b[1;32m    122\u001b[0m         \u001b[0;32massert\u001b[0m \u001b[0msubset\u001b[0m \u001b[0;32min\u001b[0m \u001b[0;34m[\u001b[0m\u001b[0;34m\"train\"\u001b[0m\u001b[0;34m,\u001b[0m \u001b[0;34m\"validation\"\u001b[0m\u001b[0;34m,\u001b[0m \u001b[0;34m\"testing\"\u001b[0m\u001b[0;34m]\u001b[0m\u001b[0;34m\u001b[0m\u001b[0;34m\u001b[0m\u001b[0m\n",
      "\u001b[0;32m~/sync/Documents_sync/Projet/PyTorch/audio/torchaudio/datasets/speechcommands.py\u001b[0m in \u001b[0;36m__init__\u001b[0;34m(self, root, url, download, transform)\u001b[0m\n\u001b[1;32m     55\u001b[0m \u001b[0;34m\u001b[0m\u001b[0m\n\u001b[1;32m     56\u001b[0m         \u001b[0;32mif\u001b[0m \u001b[0mdownload\u001b[0m\u001b[0;34m:\u001b[0m\u001b[0;34m\u001b[0m\u001b[0;34m\u001b[0m\u001b[0m\n\u001b[0;32m---> 57\u001b[0;31m             \u001b[0mself\u001b[0m\u001b[0;34m.\u001b[0m\u001b[0m_download\u001b[0m\u001b[0;34m(\u001b[0m\u001b[0;34m)\u001b[0m\u001b[0;34m\u001b[0m\u001b[0;34m\u001b[0m\u001b[0m\n\u001b[0m\u001b[1;32m     58\u001b[0m \u001b[0;34m\u001b[0m\u001b[0m\n\u001b[1;32m     59\u001b[0m         \u001b[0mself\u001b[0m\u001b[0;34m.\u001b[0m\u001b[0m_walker\u001b[0m \u001b[0;34m=\u001b[0m \u001b[0mself\u001b[0m\u001b[0;34m.\u001b[0m\u001b[0m_parse_files\u001b[0m\u001b[0;34m(\u001b[0m\u001b[0;34m)\u001b[0m\u001b[0;34m\u001b[0m\u001b[0;34m\u001b[0m\u001b[0m\n",
      "\u001b[0;32m~/sync/Documents_sync/Projet/PyTorch/audio/torchaudio/datasets/speechcommands.py\u001b[0m in \u001b[0;36m_download\u001b[0;34m(self)\u001b[0m\n\u001b[1;32m    112\u001b[0m         \u001b[0;32melse\u001b[0m\u001b[0;34m:\u001b[0m\u001b[0;34m\u001b[0m\u001b[0;34m\u001b[0m\u001b[0m\n\u001b[1;32m    113\u001b[0m             \u001b[0mchecksum\u001b[0m \u001b[0;34m=\u001b[0m \u001b[0m_CHECKSUMS\u001b[0m\u001b[0;34m.\u001b[0m\u001b[0mget\u001b[0m\u001b[0;34m(\u001b[0m\u001b[0mself\u001b[0m\u001b[0;34m.\u001b[0m\u001b[0murl\u001b[0m\u001b[0;34m,\u001b[0m \u001b[0;32mNone\u001b[0m\u001b[0;34m)\u001b[0m\u001b[0;34m\u001b[0m\u001b[0;34m\u001b[0m\u001b[0m\n\u001b[0;32m--> 114\u001b[0;31m             download_url(self.url, self.root, hash_value=checksum,\n\u001b[0m\u001b[1;32m    115\u001b[0m                          hash_type=\"md5\")\n\u001b[1;32m    116\u001b[0m             \u001b[0mextract_archive\u001b[0m\u001b[0;34m(\u001b[0m\u001b[0marchive_path\u001b[0m\u001b[0;34m,\u001b[0m \u001b[0mself\u001b[0m\u001b[0;34m.\u001b[0m\u001b[0m_path\u001b[0m\u001b[0;34m)\u001b[0m\u001b[0;34m\u001b[0m\u001b[0;34m\u001b[0m\u001b[0m\n",
      "\u001b[0;32m~/sync/Documents_sync/Projet/PyTorch/audio/torchaudio/datasets/utils.py\u001b[0m in \u001b[0;36mdownload_url\u001b[0;34m(url, download_folder, filename, hash_value, hash_type, progress_bar, resume)\u001b[0m\n\u001b[1;32m    150\u001b[0m         )\n\u001b[1;32m    151\u001b[0m \u001b[0;34m\u001b[0m\u001b[0m\n\u001b[0;32m--> 152\u001b[0;31m     \u001b[0;32mwith\u001b[0m \u001b[0mopen\u001b[0m\u001b[0;34m(\u001b[0m\u001b[0mfilepath\u001b[0m\u001b[0;34m,\u001b[0m \u001b[0mmode\u001b[0m\u001b[0;34m)\u001b[0m \u001b[0;32mas\u001b[0m \u001b[0mfpointer\u001b[0m\u001b[0;34m:\u001b[0m\u001b[0;34m\u001b[0m\u001b[0;34m\u001b[0m\u001b[0m\n\u001b[0m\u001b[1;32m    153\u001b[0m         \u001b[0;32mfor\u001b[0m \u001b[0mchunk\u001b[0m \u001b[0;32min\u001b[0m \u001b[0mstream_url\u001b[0m\u001b[0;34m(\u001b[0m\u001b[0murl\u001b[0m\u001b[0;34m,\u001b[0m \u001b[0mstart_byte\u001b[0m\u001b[0;34m=\u001b[0m\u001b[0mlocal_size\u001b[0m\u001b[0;34m,\u001b[0m \u001b[0mprogress_bar\u001b[0m\u001b[0;34m=\u001b[0m\u001b[0mprogress_bar\u001b[0m\u001b[0;34m)\u001b[0m\u001b[0;34m:\u001b[0m\u001b[0;34m\u001b[0m\u001b[0;34m\u001b[0m\u001b[0m\n\u001b[1;32m    154\u001b[0m             \u001b[0mfpointer\u001b[0m\u001b[0;34m.\u001b[0m\u001b[0mwrite\u001b[0m\u001b[0;34m(\u001b[0m\u001b[0mchunk\u001b[0m\u001b[0;34m)\u001b[0m\u001b[0;34m\u001b[0m\u001b[0;34m\u001b[0m\u001b[0m\n",
      "\u001b[0;31mFileNotFoundError\u001b[0m: [Errno 2] No such file or directory: '../datasets/speech_commands_v0.02.tar.gz'"
     ]
    }
   ],
   "source": [
    "parameters = dict(\n",
    "    dataset=args.dataset,\n",
    "\n",
    "    dataset_root = args.dataset_root,\n",
    "    supervised_ratio = args.supervised_ratio,\n",
    "    batch_size = args.batch_size,\n",
    "    train_folds = args.train_folds,\n",
    "    val_folds = args.val_folds,\n",
    "    \n",
    "    num_workers=0,\n",
    "    pin_memory=True,\n",
    "\n",
    "    verbose = 2,\n",
    ")\n",
    "\n",
    "trainer.load_dataset(parameters)"
   ]
  },
  {
   "cell_type": "code",
   "execution_count": 198,
   "metadata": {},
   "outputs": [
    {
     "output_type": "execute_result",
     "data": {
      "text/plain": [
       "(60206, 9981, 11005)"
      ]
     },
     "metadata": {},
     "execution_count": 198
    }
   ],
   "source": [
    "len(trainer.train_loader.dataset), len(trainer.val_loader.dataset), len(trainer.test_loader.dataset)\n",
    "# len(trainer.test_loader.dataset)"
   ]
  },
  {
   "cell_type": "markdown",
   "metadata": {},
   "source": [
    "# Prep model"
   ]
  },
  {
   "cell_type": "code",
   "execution_count": 199,
   "metadata": {
    "tags": []
   },
   "outputs": [
    {
     "output_type": "stream",
     "name": "stdout",
     "text": [
      "Create the model\n",
      "----------------------------------------------------------------\n",
      "        Layer (type)               Output Shape         Param #\n",
      "================================================================\n",
      "            Conv2d-1           [-1, 32, 64, 32]             864\n",
      "       BatchNorm2d-2           [-1, 32, 64, 32]              64\n",
      "              ReLU-3           [-1, 32, 64, 32]               0\n",
      "         MaxPool2d-4           [-1, 32, 32, 16]               0\n",
      "            Conv2d-5           [-1, 32, 32, 16]           9,216\n",
      "       BatchNorm2d-6           [-1, 32, 32, 16]              64\n",
      "              ReLU-7           [-1, 32, 32, 16]               0\n",
      "            Conv2d-8           [-1, 32, 32, 16]           9,216\n",
      "       BatchNorm2d-9           [-1, 32, 32, 16]              64\n",
      "             ReLU-10           [-1, 32, 32, 16]               0\n",
      "       BasicBlock-11           [-1, 32, 32, 16]               0\n",
      "           Conv2d-12           [-1, 32, 32, 16]           9,216\n",
      "      BatchNorm2d-13           [-1, 32, 32, 16]              64\n",
      "             ReLU-14           [-1, 32, 32, 16]               0\n",
      "           Conv2d-15           [-1, 32, 32, 16]           9,216\n",
      "      BatchNorm2d-16           [-1, 32, 32, 16]              64\n",
      "             ReLU-17           [-1, 32, 32, 16]               0\n",
      "       BasicBlock-18           [-1, 32, 32, 16]               0\n",
      "           Conv2d-19           [-1, 32, 32, 16]           9,216\n",
      "      BatchNorm2d-20           [-1, 32, 32, 16]              64\n",
      "             ReLU-21           [-1, 32, 32, 16]               0\n",
      "           Conv2d-22           [-1, 32, 32, 16]           9,216\n",
      "      BatchNorm2d-23           [-1, 32, 32, 16]              64\n",
      "             ReLU-24           [-1, 32, 32, 16]               0\n",
      "       BasicBlock-25           [-1, 32, 32, 16]               0\n",
      "           Conv2d-26           [-1, 32, 32, 16]           9,216\n",
      "      BatchNorm2d-27           [-1, 32, 32, 16]              64\n",
      "             ReLU-28           [-1, 32, 32, 16]               0\n",
      "           Conv2d-29           [-1, 32, 32, 16]           9,216\n",
      "      BatchNorm2d-30           [-1, 32, 32, 16]              64\n",
      "             ReLU-31           [-1, 32, 32, 16]               0\n",
      "       BasicBlock-32           [-1, 32, 32, 16]               0\n",
      "           Conv2d-33            [-1, 64, 16, 8]          18,432\n",
      "      BatchNorm2d-34            [-1, 64, 16, 8]             128\n",
      "             ReLU-35            [-1, 64, 16, 8]               0\n",
      "           Conv2d-36            [-1, 64, 16, 8]          36,864\n",
      "      BatchNorm2d-37            [-1, 64, 16, 8]             128\n",
      "           Conv2d-38            [-1, 64, 16, 8]           2,048\n",
      "      BatchNorm2d-39            [-1, 64, 16, 8]             128\n",
      "             ReLU-40            [-1, 64, 16, 8]               0\n",
      "       BasicBlock-41            [-1, 64, 16, 8]               0\n",
      "           Conv2d-42            [-1, 64, 16, 8]          36,864\n",
      "      BatchNorm2d-43            [-1, 64, 16, 8]             128\n",
      "             ReLU-44            [-1, 64, 16, 8]               0\n",
      "           Conv2d-45            [-1, 64, 16, 8]          36,864\n",
      "      BatchNorm2d-46            [-1, 64, 16, 8]             128\n",
      "             ReLU-47            [-1, 64, 16, 8]               0\n",
      "       BasicBlock-48            [-1, 64, 16, 8]               0\n",
      "           Conv2d-49            [-1, 64, 16, 8]          36,864\n",
      "      BatchNorm2d-50            [-1, 64, 16, 8]             128\n",
      "             ReLU-51            [-1, 64, 16, 8]               0\n",
      "           Conv2d-52            [-1, 64, 16, 8]          36,864\n",
      "      BatchNorm2d-53            [-1, 64, 16, 8]             128\n",
      "             ReLU-54            [-1, 64, 16, 8]               0\n",
      "       BasicBlock-55            [-1, 64, 16, 8]               0\n",
      "           Conv2d-56            [-1, 64, 16, 8]          36,864\n",
      "      BatchNorm2d-57            [-1, 64, 16, 8]             128\n",
      "             ReLU-58            [-1, 64, 16, 8]               0\n",
      "           Conv2d-59            [-1, 64, 16, 8]          36,864\n",
      "      BatchNorm2d-60            [-1, 64, 16, 8]             128\n",
      "             ReLU-61            [-1, 64, 16, 8]               0\n",
      "       BasicBlock-62            [-1, 64, 16, 8]               0\n",
      "           Conv2d-63            [-1, 128, 8, 4]          73,728\n",
      "      BatchNorm2d-64            [-1, 128, 8, 4]             256\n",
      "             ReLU-65            [-1, 128, 8, 4]               0\n",
      "           Conv2d-66            [-1, 128, 8, 4]         147,456\n",
      "      BatchNorm2d-67            [-1, 128, 8, 4]             256\n",
      "           Conv2d-68            [-1, 128, 8, 4]           8,192\n",
      "      BatchNorm2d-69            [-1, 128, 8, 4]             256\n",
      "             ReLU-70            [-1, 128, 8, 4]               0\n",
      "       BasicBlock-71            [-1, 128, 8, 4]               0\n",
      "           Conv2d-72            [-1, 128, 8, 4]         147,456\n",
      "      BatchNorm2d-73            [-1, 128, 8, 4]             256\n",
      "             ReLU-74            [-1, 128, 8, 4]               0\n",
      "           Conv2d-75            [-1, 128, 8, 4]         147,456\n",
      "      BatchNorm2d-76            [-1, 128, 8, 4]             256\n",
      "             ReLU-77            [-1, 128, 8, 4]               0\n",
      "       BasicBlock-78            [-1, 128, 8, 4]               0\n",
      "           Conv2d-79            [-1, 128, 8, 4]         147,456\n",
      "      BatchNorm2d-80            [-1, 128, 8, 4]             256\n",
      "             ReLU-81            [-1, 128, 8, 4]               0\n",
      "           Conv2d-82            [-1, 128, 8, 4]         147,456\n",
      "      BatchNorm2d-83            [-1, 128, 8, 4]             256\n",
      "             ReLU-84            [-1, 128, 8, 4]               0\n",
      "       BasicBlock-85            [-1, 128, 8, 4]               0\n",
      "           Conv2d-86            [-1, 128, 8, 4]         147,456\n",
      "      BatchNorm2d-87            [-1, 128, 8, 4]             256\n",
      "             ReLU-88            [-1, 128, 8, 4]               0\n",
      "           Conv2d-89            [-1, 128, 8, 4]         147,456\n",
      "      BatchNorm2d-90            [-1, 128, 8, 4]             256\n",
      "             ReLU-91            [-1, 128, 8, 4]               0\n",
      "       BasicBlock-92            [-1, 128, 8, 4]               0\n",
      "AdaptiveAvgPool2d-93            [-1, 128, 1, 1]               0\n",
      "           Linear-94                   [-1, 12]           1,548\n",
      "================================================================\n",
      "Total params: 1,472,812\n",
      "Trainable params: 1,472,812\n",
      "Non-trainable params: 0\n",
      "----------------------------------------------------------------\n",
      "Input size (MB): 0.01\n",
      "Forward/backward pass size (MB): 7.94\n",
      "Params size (MB): 5.62\n",
      "Estimated Total Size (MB): 13.56\n",
      "----------------------------------------------------------------\n"
     ]
    }
   ],
   "source": [
    "trainer.create_model()\n"
   ]
  },
  {
   "cell_type": "markdown",
   "metadata": {
    "pycharm": {
     "name": "#%% md\n"
    }
   },
   "source": [
    "# Training initialization"
   ]
  },
  {
   "source": [
    "## Losses"
   ],
   "cell_type": "markdown",
   "metadata": {}
  },
  {
   "cell_type": "code",
   "execution_count": 200,
   "metadata": {
    "collapsed": false,
    "jupyter": {
     "outputs_hidden": false
    },
    "pycharm": {
     "name": "#%%\n"
    },
    "tags": []
   },
   "outputs": [],
   "source": [
    "from types import MethodType\n",
    "\n",
    "def init_loss(self):\n",
    "    self.loss_ce = nn.CrossEntropyLoss(reduction=\"mean\")\n",
    "\n",
    "trainer.init_loss = MethodType(init_loss, trainer)"
   ]
  },
  {
   "source": [
    "trainer.init_loss()"
   ],
   "cell_type": "code",
   "metadata": {},
   "execution_count": 201,
   "outputs": []
  },
  {
   "cell_type": "markdown",
   "metadata": {},
   "source": [
    "## optimizer & callbacks"
   ]
  },
  {
   "cell_type": "code",
   "execution_count": 202,
   "metadata": {},
   "outputs": [
    {
     "output_type": "stream",
     "name": "stdout",
     "text": [
      "Initialize optimizer\n"
     ]
    }
   ],
   "source": [
    "parameters=DotDict(\n",
    "    learning_rate=args.learning_rate,\n",
    ")\n",
    "trainer.init_optimizer(parameters)\n"
   ]
  },
  {
   "cell_type": "code",
   "execution_count": 203,
   "metadata": {},
   "outputs": [
    {
     "output_type": "stream",
     "name": "stdout",
     "text": [
      "Initialize callbacks\n"
     ]
    }
   ],
   "source": [
    "parameters=DotDict(\n",
    "    nb_epoch=args.nb_epoch,\n",
    "    optimizer=trainer.optimizer,\n",
    ")\n",
    "trainer.init_callbacks(parameters)"
   ]
  },
  {
   "source": [
    "# Logs and checkpoint"
   ],
   "cell_type": "markdown",
   "metadata": {}
  },
  {
   "cell_type": "code",
   "execution_count": 204,
   "metadata": {
    "collapsed": false,
    "jupyter": {
     "outputs_hidden": false
    },
    "pycharm": {
     "name": "#%%\n"
    },
    "tags": [
     "re_run"
    ]
   },
   "outputs": [
    {
     "output_type": "stream",
     "name": "stdout",
     "text": [
      "Prepare the log system\n"
     ]
    }
   ],
   "source": [
    "# Logs\n",
    "parameters=DotDict(\n",
    "    supervised_ratio=args.supervised_ratio\n",
    ")\n",
    "trainer.init_logs(parameters)\n",
    "\n",
    "# Save all the parameters\n",
    "tensorboard_params = {}\n",
    "for key, value in args.__dict__.items():\n",
    "    tensorboard_params[key] = str(value)\n",
    "trainer.tensorboard.add_hparams(tensorboard_params, {})\n"
   ]
  },
  {
   "cell_type": "code",
   "execution_count": 205,
   "metadata": {},
   "outputs": [
    {
     "output_type": "stream",
     "name": "stdout",
     "text": [
      "Prepare the checkpoint system\n"
     ]
    }
   ],
   "source": [
    "# Checkpoint\n",
    "parameters=DotDict(\n",
    "    supervised_ratio=args.supervised_ratio\n",
    ")\n",
    "trainer.init_checkpoint(parameters)"
   ]
  },
  {
   "source": [
    "## Metrics"
   ],
   "cell_type": "markdown",
   "metadata": {}
  },
  {
   "cell_type": "code",
   "execution_count": 206,
   "metadata": {},
   "outputs": [],
   "source": [
    "# Metrics\n",
    "def init_metrics(self):\n",
    "    self.metrics = DotDict(\n",
    "        fscore_fn=FScore(),\n",
    "        acc_fn=CategoricalAccuracy(),\n",
    "        avg_fn=ContinueAverage(),\n",
    "    )\n",
    "    self.maximum_tracker = track_maximum()\n",
    "\n",
    "trainer.init_metrics = MethodType(init_metrics, trainer)\n",
    "trainer.init_metrics()"
   ]
  },
  {
   "cell_type": "markdown",
   "metadata": {
    "pycharm": {
     "name": "#%% md\n"
    }
   },
   "source": [
    "## training function"
   ]
  },
  {
   "cell_type": "code",
   "execution_count": 207,
   "metadata": {
    "collapsed": false,
    "jupyter": {
     "outputs_hidden": false
    },
    "pycharm": {
     "name": "#%%\n"
    },
    "tags": []
   },
   "outputs": [],
   "source": [
    "def set_printing_form(self):\n",
    "    UNDERLINE_SEQ = \"\\033[1;4m\"\n",
    "    RESET_SEQ = \"\\033[0m\"\n",
    "\n",
    "    header_form = \"{:<8.8} {:<6.6} - {:<6.6} - {:<8.8} {:<6.6} - {:<9.9} {:<12.12}| {:<9.9}- {:<6.6}\"\n",
    "    value_form  = \"{:<8.8} {:<6} - {:<6} - {:<8.8} {:<6.4f} - {:<9.9} {:<10.4f}| {:<9.4f}- {:<6.4f}\"\n",
    "\n",
    "    self.header = header_form.format(\n",
    "        \".               \", \"Epoch\", \"%\", \"Losses:\", \"ce\", \"metrics: \", \"acc\", \"F1 \",\"Time\"\n",
    "    )\n",
    "\n",
    "    self.train_form = value_form\n",
    "    self.val_form = UNDERLINE_SEQ + value_form + RESET_SEQ"
   ]
  },
  {
   "cell_type": "code",
   "execution_count": 208,
   "metadata": {
    "tags": [
     "re_run"
    ]
   },
   "outputs": [],
   "source": [
    "def train_fn(self, epoch: int):\n",
    "    # aliases\n",
    "    M = self.metrics\n",
    "    T = self.tensorboard.add_scalar\n",
    "    nb_batch = len(self.train_loader)\n",
    "\n",
    "    start_time = time.time()\n",
    "    print(\"\")\n",
    "\n",
    "    self.reset_metrics()\n",
    "    self.model.train()\n",
    "\n",
    "    for i, (X, y) in enumerate(self.train_loader):\n",
    "        X = X.cuda()\n",
    "        y = y.cuda()\n",
    "\n",
    "        logits = self.model(X)\n",
    "        loss = self.loss_ce(logits, y)\n",
    "\n",
    "        self.optimizer.zero_grad()\n",
    "        loss.backward()\n",
    "        self.optimizer.step()\n",
    "\n",
    "        with torch.set_grad_enabled(False):\n",
    "            pred = torch.softmax(logits, dim=1)\n",
    "            pred_arg = torch.argmax(logits, dim=1)\n",
    "            y_one_hot = F.one_hot(y, num_classes=self.num_classes)\n",
    "\n",
    "            acc = M.acc_fn(pred_arg, y).mean\n",
    "            fscore = M.fscore_fn(pred, y_one_hot).mean\n",
    "            avg_ce = M.avg_fn(loss.item()).mean\n",
    "\n",
    "            # logs\n",
    "            print(self.train_form.format(\n",
    "                \"Training: \",\n",
    "                epoch + 1,\n",
    "                int(100 * (i + 1) / nb_batch),\n",
    "                \"\", avg_ce,\n",
    "                \"\", acc, fscore,\n",
    "                time.time() - start_time\n",
    "            ), end=\"\\r\")\n",
    "\n",
    "    T(\"train/Lce\", avg_ce, epoch)\n",
    "    T(\"train/f1\", fscore, epoch)\n",
    "    T(\"train/acc\", acc, epoch)"
   ]
  },
  {
   "cell_type": "code",
   "execution_count": 209,
   "metadata": {
    "collapsed": false,
    "jupyter": {
     "outputs_hidden": false
    },
    "pycharm": {
     "name": "#%%\n"
    },
    "tags": [
     "re_run"
    ]
   },
   "outputs": [],
   "source": [
    "def val_fn(self, epoch: int):\n",
    "    # aliases\n",
    "    M = self.metrics\n",
    "    T = self.tensorboard.add_scalar\n",
    "    nb_batch = len(self.val_loader)\n",
    "\n",
    "    start_time = time.time()\n",
    "    print(\"\")\n",
    "\n",
    "    self.reset_metrics()\n",
    "    self.model.eval()\n",
    "\n",
    "    with torch.set_grad_enabled(False):\n",
    "        for i, (X, y) in enumerate(self.val_loader):\n",
    "            X = X.cuda()\n",
    "            y = y.cuda()\n",
    "\n",
    "            logits = self.model(X)\n",
    "            loss = self.loss_ce(logits, y)\n",
    "\n",
    "            # metrics\n",
    "            pred = torch.softmax(logits, dim=1)\n",
    "            pred_arg = torch.argmax(logits, dim=1)\n",
    "            y_one_hot = F.one_hot(y, num_classes=self.num_classes)\n",
    "\n",
    "            acc = M.acc_fn(pred_arg, y).mean\n",
    "            fscore = M.fscore_fn(pred, y_one_hot).mean\n",
    "            avg_ce = M.avg_fn(loss.item()).mean\n",
    "\n",
    "            # logs\n",
    "            print(self.val_form.format(\n",
    "                \"Validation: \",\n",
    "                epoch + 1,\n",
    "                int(100 * (i + 1) / nb_batch),\n",
    "                \"\", avg_ce,\n",
    "                \"\", acc, fscore,\n",
    "                time.time() - start_time\n",
    "            ), end=\"\\r\")\n",
    "\n",
    "    T(\"val/Lce\", avg_ce, epoch)\n",
    "    T(\"val/f1\", fscore, epoch)\n",
    "    T(\"val/acc\", acc, epoch)\n",
    "\n",
    "    T(\"hyperparameters/learning_rate\", self._get_lr(), epoch)\n",
    "\n",
    "    T(\"max/acc\", self.maximum_tracker(\"acc\", acc), epoch)\n",
    "    T(\"max/f1\", self.maximum_tracker(\"f1\", fscore), epoch)\n",
    "\n",
    "    self.checkpoint.step(acc)\n",
    "    for c in self.callbacks:\n",
    "        c.step()\n",
    "        pass"
   ]
  },
  {
   "cell_type": "code",
   "execution_count": 210,
   "metadata": {},
   "outputs": [],
   "source": [
    "def test_fn(self):\n",
    "    # aliases\n",
    "    M = self.metrics\n",
    "    T = self.tensorboard.add_scalar\n",
    "    nb_batch = len(self.val_loader)\n",
    "\n",
    "    # Load best epoch\n",
    "    self.checkpoint.load_best()\n",
    "\n",
    "    start_time = time.time()\n",
    "    print(\"\")\n",
    "\n",
    "    self.reset_metrics()\n",
    "    self.model.eval()\n",
    "\n",
    "    with torch.set_grad_enabled(False):\n",
    "        for i, (X, y) in enumerate(self.test_loader):\n",
    "            X = X.cuda()\n",
    "            y = y.cuda()\n",
    "\n",
    "            logits = self.model(X)\n",
    "            loss = self.loss_ce(logits, y)\n",
    "\n",
    "            # metrics\n",
    "            pred = torch.softmax(logits, dim=1)\n",
    "            pred_arg = torch.argmax(logits, dim=1)\n",
    "            y_one_hot = F.one_hot(y, num_classes=self.num_classes)\n",
    "\n",
    "            acc = M.acc_fn(pred_arg, y).mean\n",
    "            fscore = M.fscore_fn(pred, y_one_hot).mean\n",
    "            avg_ce = M.avg_fn(loss.item()).mean\n",
    "\n",
    "            # logs\n",
    "            print(self.val_form.format(\n",
    "                \"Testing: \",\n",
    "                1,\n",
    "                int(100 * (i + 1) / nb_batch),\n",
    "                \"\", avg_ce,\n",
    "                \"\", acc, fscore,\n",
    "                time.time() - start_time\n",
    "            ), end=\"\\r\")\n",
    "\n",
    "        print(\"final accuracy is %f\" % acc)\n",
    "\n",
    "    self.maximum_tracker(\"test/acc\", acc)"
   ]
  },
  {
   "cell_type": "code",
   "execution_count": 211,
   "metadata": {},
   "outputs": [],
   "source": [
    "trainer.set_printing_form = MethodType(set_printing_form, trainer)\n",
    "trainer.train_fn = MethodType(train_fn, trainer)\n",
    "trainer.val_fn = MethodType(val_fn, trainer)\n",
    "trainer.test_fn = MethodType(test_fn, trainer)"
   ]
  },
  {
   "source": [
    "# Training"
   ],
   "cell_type": "markdown",
   "metadata": {}
  },
  {
   "cell_type": "code",
   "execution_count": 212,
   "metadata": {
    "collapsed": false,
    "jupyter": {
     "outputs_hidden": false
    },
    "pycharm": {
     "name": "#%%\n"
    },
    "scrolled": true,
    "tags": []
   },
   "outputs": [
    {
     "output_type": "stream",
     "name": "stdout",
     "text": [
      ".        Epoch  - %      - Losses:  ce     - metrics:  acc         | F1       - Time  \n",
      "\n",
      "Training 1      - 100    -          0.6649 -           0.7826    | 0.7641   - 84.5769\n",
      "\u001b[1;4mValidati 1      - 100    -          0.5149 -           0.8399    | 0.8409   - 11.9251\u001b[0m\n",
      "Training 2      - 100    -          0.2451 -           0.9199    | 0.9202   - 13.5870\n",
      "\n",
      "Training 3      - 100    -          0.1808 -           0.9412    | 0.9422   - 13.7395\n",
      "\n",
      "Training 4      - 100    -          0.1482 -           0.9515    | 0.9523   - 13.6642\n",
      "\u001b[1;4mValidati 4      - 100    -          0.1782 -           0.9430    | 0.9440   - 0.7265\u001b[0m\n",
      "Training 5      - 100    -          0.1218 -           0.9606    | 0.9613   - 13.8442\n",
      "\u001b[1;4mValidati 5      - 100    -          0.2162 -           0.9326    | 0.9339   - 0.7304\u001b[0m\n",
      "Training 6      - 100    -          0.1061 -           0.9657    | 0.9660   - 13.6966\n",
      "\u001b[1;4mValidati 6      - 100    -          0.1751 -           0.9451    | 0.9452   - 0.7295\u001b[0m\n",
      "Training 7      - 100    -          0.0940 -           0.9692    | 0.9695   - 13.6057\n",
      "\u001b[1;4mValidati 7      - 100    -          0.2538 -           0.9245    | 0.9241   - 0.7273\u001b[0m\n",
      "Training 8      - 100    -          0.0802 -           0.9741    | 0.9743   - 13.7900\n",
      "\u001b[1;4mValidati 8      - 100    -          0.1863 -           0.9446    | 0.9453   - 0.7148\u001b[0m\n",
      "Training 9      - 100    -          0.0716 -           0.9765    | 0.9769   - 14.0027\n",
      "\n",
      "Training 10     - 100    -          0.0618 -           0.9795    | 0.9798   - 14.0716\n",
      "\u001b[1;4mValidati 10     - 100    -          0.1707 -           0.9535    | 0.9539   - 0.7286\u001b[0m\n",
      "Training 11     - 100    -          0.0600 -           0.9799    | 0.9803   - 14.2331\n",
      "\u001b[1;4mValidati 11     - 100    -          0.1894 -           0.9470    | 0.9478   - 0.7527\u001b[0m\n",
      "Training 12     - 100    -          0.0511 -           0.9828    | 0.9831   - 14.3146\n",
      "\n",
      "Training 13     - 100    -          0.0462 -           0.9843    | 0.9847   - 14.2653\n",
      "\n",
      "Training 14     - 100    -          0.0454 -           0.9847    | 0.9852   - 14.6446\n",
      "\u001b[1;4mValidati 14     - 100    -          0.1729 -           0.9562    | 0.9564   - 0.7329\u001b[0m\n",
      "Training 15     - 100    -          0.0399 -           0.9867    | 0.9873   - 14.4912\n",
      "\u001b[1;4mValidati 15     - 100    -          0.1872 -           0.9522    | 0.9530   - 0.7630\u001b[0m\n",
      "Training 16     - 100    -          0.0327 -           0.9887    | 0.9891   - 14.1034\n",
      "\u001b[1;4mValidati 16     - 100    -          0.1514 -           0.9624    | 0.9626   - 0.7228\u001b[0m\n",
      "Training 17     - 100    -          0.0354 -           0.9878    | 0.9880   - 13.8139\n",
      "\u001b[1;4mValidati 17     - 100    -          0.2578 -           0.9368    | 0.9376   - 0.8641\u001b[0m\n",
      "Training 18     - 100    -          0.0340 -           0.9890    | 0.9892   - 13.5847\n",
      "\u001b[1;4mValidati 18     - 100    -          0.1671 -           0.9569    | 0.9580   - 0.7307\u001b[0m\n",
      "Training 19     - 100    -          0.0253 -           0.9916    | 0.9918   - 13.8353\n",
      "\u001b[1;4mValidati 19     - 100    -          0.1737 -           0.9592    | 0.9595   - 0.7357\u001b[0m\n",
      "Training 20     - 100    -          0.0254 -           0.9915    | 0.9917   - 14.2770\n",
      "\u001b[1;4mValidati 20     - 100    -          0.2111 -           0.9588    | 0.9586   - 0.7518\u001b[0m\n",
      "Training 21     - 100    -          0.0245 -           0.9918    | 0.9921   - 14.3973\n",
      "\n",
      "Training 22     - 100    -          0.0207 -           0.9929    | 0.9930   - 13.9621\n",
      "\u001b[1;4mValidati 22     - 100    -          0.1949 -           0.9562    | 0.9565   - 0.7278\u001b[0m\n",
      "Training 23     - 100    -          0.0211 -           0.9928    | 0.9930   - 13.9990\n",
      "\u001b[1;4mValidati 23     - 100    -          0.2066 -           0.9587    | 0.9589   - 0.7481\u001b[0m\n",
      "Training 24     - 100    -          0.0136 -           0.9954    | 0.9955   - 14.0872\n",
      "\u001b[1;4mValidati 24     - 100    -          0.2363 -           0.9525    | 0.9528   - 0.7500\u001b[0m\n",
      "Training 25     - 100    -          0.0213 -           0.9925    | 0.9925   - 13.9423\n",
      "\u001b[1;4mValidati 25     - 100    -          0.1637 -           0.9634    | 0.9640   - 0.7570\u001b[0m\n",
      "Training 26     - 100    -          0.0182 -           0.9937    | 0.9938   - 14.0373\n",
      "\u001b[1;4mValidati 26     - 100    -          0.1896 -           0.9626    | 0.9631   - 0.7226\u001b[0m\n",
      "Training 27     - 100    -          0.0158 -           0.9947    | 0.9948   - 13.7774\n",
      "\n",
      "Training 28     - 100    -          0.0158 -           0.9950    | 0.9949   - 13.9913\n",
      "\n",
      "Training 29     - 100    -          0.0138 -           0.9955    | 0.9954   - 13.7924\n",
      "\u001b[1;4mValidati 29     - 100    -          0.1927 -           0.9591    | 0.9597   - 0.7173\u001b[0m\n",
      "Training 30     - 100    -          0.0081 -           0.9973    | 0.9973   - 13.8738\n",
      "\u001b[1;4mValidati 30     - 100    -          0.1756 -           0.9650    | 0.9652   - 0.7207\u001b[0m\n",
      "Training 31     - 100    -          0.0106 -           0.9962    | 0.9963   - 13.8292\n",
      "\n",
      "Training 32     - 100    -          0.0061 -           0.9979    | 0.9980   - 14.0779\n",
      "\u001b[1;4mValidati 32     - 100    -          0.1816 -           0.9659    | 0.9661   - 0.7270\u001b[0m\n",
      "Training 33     - 100    -          0.0127 -           0.9957    | 0.9958   - 13.7609\n",
      "\u001b[1;4mValidati 33     - 100    -          0.1902 -           0.9641    | 0.9642   - 0.7294\u001b[0m\n",
      "Training 34     - 100    -          0.0174 -           0.9942    | 0.9943   - 14.5518\n",
      "\u001b[1;4mValidati 34     - 100    -          0.1934 -           0.9607    | 0.9614   - 0.7622\u001b[0m\n",
      "Training 35     - 100    -          0.0055 -           0.9982    | 0.9982   - 14.3599\n",
      "\u001b[1;4mValidati 35     - 100    -          0.2021 -           0.9636    | 0.9640   - 0.8625\u001b[0m\n",
      "Training 36     - 100    -          0.0066 -           0.9979    | 0.9979   - 13.7450\n",
      "\u001b[1;4mValidati 36     - 100    -          0.2015 -           0.9629    | 0.9636   - 0.7115\u001b[0m\n",
      "Training 37     - 100    -          0.0097 -           0.9965    | 0.9966   - 13.9274\n",
      "\u001b[1;4mValidati 37     - 100    -          0.1886 -           0.9667    | 0.9671   - 0.7668\u001b[0m\n",
      "Training 38     - 100    -          0.0072 -           0.9976    | 0.9976   - 14.3921\n",
      "\n",
      "Training 39     - 100    -          0.0014 -           0.9996    | 0.9996   - 14.0172\n",
      "\n",
      "Training 40     - 100    -          0.0018 -           0.9995    | 0.9995   - 14.0692\n",
      "\n",
      "Training 41     - 100    -          0.0019 -           0.9994    | 0.9994   - 14.0613\n",
      "\n",
      "Training 42     - 100    -          0.0091 -           0.9975    | 0.9974   - 13.9391\n",
      "\u001b[1;4mValidati 42     - 100    -          0.2046 -           0.9635    | 0.9641   - 0.7227\u001b[0m\n",
      "Training 43     - 100    -          0.0108 -           0.9961    | 0.9962   - 13.9238\n",
      "\u001b[1;4mValidati 43     - 100    -          0.1965 -           0.9624    | 0.9630   - 0.7340\u001b[0m\n",
      "Training 44     - 100    -          0.0040 -           0.9986    | 0.9986   - 13.8405\n",
      "\u001b[1;4mValidati 44     - 100    -          0.1877 -           0.9662    | 0.9666   - 0.7151\u001b[0m\n",
      "Training 45     - 100    -          0.0032 -           0.9988    | 0.9989   - 13.7772\n",
      "\u001b[1;4mValidati 45     - 100    -          0.1852 -           0.9665    | 0.9669   - 0.7420\u001b[0m\n",
      "Training 46     - 100    -          0.0022 -           0.9993    | 0.9993   - 13.6977\n",
      "\n",
      "Training 47     - 100    -          0.0042 -           0.9986    | 0.9986   - 13.7993\n",
      "\u001b[1;4mValidati 47     - 100    -          0.2460 -           0.9597    | 0.9597   - 0.7188\u001b[0m\n",
      "Training 48     - 100    -          0.0048 -           0.9984    | 0.9984   - 14.0523\n",
      "\n",
      "Training 49     - 100    -          0.0049 -           0.9984    | 0.9984   - 13.9251\n",
      "\u001b[1;4mValidati 49     - 100    -          0.2168 -           0.9643    | 0.9650   - 0.7165\u001b[0m\n",
      "Training 50     - 100    -          0.0021 -           0.9994    | 0.9994   - 13.8840\n",
      "\u001b[1;4mValidati 50     - 100    -          0.1800 -           0.9686    | 0.9687   - 0.7360\u001b[0m\n",
      "Training 51     - 100    -          0.0017 -           0.9995    | 0.9995   - 13.7657\n",
      "\u001b[1;4mValidati 51     - 100    -          0.2009 -           0.9672    | 0.9672   - 0.7126\u001b[0m\n",
      "Training 52     - 100    -          0.0025 -           0.9993    | 0.9993   - 13.7426\n",
      "\n",
      "Training 53     - 100    -          0.0026 -           0.9991    | 0.9991   - 13.7394\n",
      "\u001b[1;4mValidati 53     - 100    -          0.2045 -           0.9689    | 0.9690   - 0.7084\u001b[0m\n",
      "Training 54     - 100    -          0.0042 -           0.9987    | 0.9987   - 13.8958\n",
      "\u001b[1;4mValidati 54     - 100    -          0.2336 -           0.9629    | 0.9630   - 0.7220\u001b[0m\n",
      "Training 55     - 100    -          0.0012 -           0.9996    | 0.9996   - 13.9450\n",
      "\u001b[1;4mValidati 55     - 100    -          0.1998 -           0.9709    | 0.9711   - 0.7139\u001b[0m\n",
      "Training 56     - 100    -          0.0015 -           0.9996    | 0.9996   - 13.8238\n",
      "\u001b[1;4mValidati 56     - 100    -          0.2131 -           0.9680    | 0.9682   - 0.7395\u001b[0m\n",
      "Training 57     - 100    -          0.0005 -           0.9999    | 0.9999   - 14.0943\n",
      "\n",
      "Training 58     - 100    -          0.0002 -           1.0000    | 1.0000   - 13.7754\n",
      "\u001b[1;4mValidati 58     - 100    -          0.2048 -           0.9672    | 0.9674   - 0.7029\u001b[0m\n",
      "Training 59     - 100    -          0.0004 -           0.9999    | 0.9999   - 13.8888\n",
      "\u001b[1;4mValidati 59     - 100    -          0.2523 -           0.9653    | 0.9656   - 0.7250\u001b[0m\n",
      "Training 60     - 100    -          0.0045 -           0.9986    | 0.9986   - 13.9631\n",
      "\u001b[1;4mValidati 60     - 100    -          0.2747 -           0.9539    | 0.9539   - 0.7614\u001b[0m\n",
      "Training 61     - 100    -          0.0034 -           0.9988    | 0.9988   - 14.0363\n",
      "\u001b[1;4mValidati 61     - 100    -          0.1913 -           0.9682    | 0.9686   - 0.7272\u001b[0m\n",
      "Training 62     - 100    -          0.0013 -           0.9996    | 0.9996   - 13.7835\n",
      "\u001b[1;4mValidati 62     - 100    -          0.2026 -           0.9683    | 0.9689   - 0.7351\u001b[0m\n",
      "Training 63     - 100    -          0.0002 -           1.0000    | 1.0000   - 13.7515\n",
      "\n",
      "Training 64     - 100    -          0.0001 -           1.0000    | 1.0000   - 13.8442\n",
      "\u001b[1;4mValidati 64     - 100    -          0.1920 -           0.9702    | 0.9704   - 0.7136\u001b[0m\n",
      "Training 65     - 100    -          0.0000 -           1.0000    | 1.0000   - 13.8268\n",
      "\u001b[1;4mValidati 65     - 100    -          0.1911 -           0.9701    | 0.9703   - 0.7346\u001b[0m\n",
      "Training 66     - 100    -          0.0000 -           1.0000    | 1.0000   - 13.8180\n",
      "\u001b[1;4mValidati 66     - 100    -          0.1910 -           0.9701    | 0.9701   - 0.7311\u001b[0m\n",
      "Training 67     - 100    -          0.0000 -           1.0000    | 1.0000   - 13.9484\n",
      "\u001b[1;4mValidati 67     - 100    -          0.1945 -           0.9699    | 0.9702   - 0.7058\u001b[0m\n",
      "Training 68     - 100    -          0.0000 -           1.0000    | 1.0000   - 14.1162\n",
      "\u001b[1;4mValidati 68     - 100    -          0.1930 -           0.9701    | 0.9701   - 0.8452\u001b[0m\n",
      "Training 69     - 100    -          0.0000 -           1.0000    | 1.0000   - 14.4463\n",
      "\u001b[1;4mValidati 69     - 100    -          0.1940 -           0.9698    | 0.9700   - 0.7106\u001b[0m\n",
      "Training 70     - 100    -          0.0000 -           1.0000    | 1.0000   - 14.0124\n",
      "\u001b[1;4mValidati 70     - 100    -          0.1952 -           0.9701    | 0.9704   - 0.7510\u001b[0m\n",
      "Training 71     - 100    -          0.0000 -           1.0000    | 1.0000   - 14.3829\n",
      "\u001b[1;4mValidati 71     - 100    -          0.1967 -           0.9703    | 0.9706   - 0.7655\u001b[0m\n",
      "Training 72     - 100    -          0.0000 -           1.0000    | 1.0000   - 14.2211\n",
      "\n",
      "Training 73     - 100    -          0.0000 -           1.0000    | 1.0000   - 13.8652\n",
      "\n",
      "Training 74     - 100    -          0.0000 -           1.0000    | 1.0000   - 13.8067\n",
      "\u001b[1;4mValidati 74     - 100    -          0.2041 -           0.9698    | 0.9702   - 0.7219\u001b[0m\n",
      "Training 75     - 100    -          0.0000 -           1.0000    | 1.0000   - 13.8102\n",
      "\u001b[1;4mValidati 75     - 100    -          0.2001 -           0.9705    | 0.9705   - 0.7272\u001b[0m\n",
      "Training 76     - 100    -          0.0000 -           1.0000    | 1.0000   - 13.6109\n",
      "\n",
      "Training 77     - 100    -          0.0000 -           1.0000    | 1.0000   - 13.8503\n",
      "\u001b[1;4mValidati 77     - 100    -          0.2043 -           0.9709    | 0.9708   - 0.7225\u001b[0m\n",
      "Training 78     - 100    -          0.0000 -           1.0000    | 1.0000   - 13.6669\n",
      "\u001b[1;4mValidati 78     - 100    -          0.2026 -           0.9710    | 0.9713   - 0.6913\u001b[0m\n",
      "Training 79     - 100    -          0.0000 -           1.0000    | 1.0000   - 13.7803\n",
      "\n",
      "Training 80     - 100    -          0.0000 -           1.0000    | 1.0000   - 13.7877\n",
      "\n",
      "Training 81     - 100    -          0.0000 -           1.0000    | 1.0000   - 13.8956\n",
      "\u001b[1;4mValidati 81     - 100    -          0.2040 -           0.9708    | 0.9708   - 0.7244\u001b[0m\n",
      "Training 82     - 100    -          0.0000 -           1.0000    | 1.0000   - 13.9156\n",
      "\u001b[1;4mValidati 82     - 100    -          0.2048 -           0.9710    | 0.9709   - 0.7299\u001b[0m\n",
      "Training 83     - 100    -          0.0000 -           1.0000    | 1.0000   - 13.8477\n",
      "\u001b[1;4mValidati 83     - 100    -          0.2057 -           0.9709    | 0.9708   - 0.7324\u001b[0m\n",
      "Training 84     - 100    -          0.0000 -           1.0000    | 1.0000   - 13.5038\n",
      "\u001b[1;4mValidati 84     - 100    -          0.2042 -           0.9714    | 0.9715   - 0.7153\u001b[0m\n",
      "Training 85     - 100    -          0.0000 -           1.0000    | 1.0000   - 13.7031\n",
      "\n",
      "Training 86     - 100    -          0.0000 -           1.0000    | 1.0000   - 13.8319\n",
      "\u001b[1;4mValidati 86     - 100    -          0.2080 -           0.9715    | 0.9715   - 0.7304\u001b[0m\n",
      "Training 87     - 100    -          0.0000 -           1.0000    | 1.0000   - 13.6933\n",
      "\u001b[1;4mValidati 87     - 100    -          0.2059 -           0.9712    | 0.9713   - 0.7202\u001b[0m\n",
      "Training 88     - 100    -          0.0000 -           1.0000    | 1.0000   - 13.6594\n",
      "\n",
      "Training 89     - 100    -          0.0000 -           1.0000    | 1.0000   - 13.8019\n",
      "\n",
      "Training 90     - 100    -          0.0000 -           1.0000    | 1.0000   - 13.9319\n",
      "\u001b[1;4mValidati 90     - 100    -          0.2080 -           0.9706    | 0.9706   - 0.7137\u001b[0m\n",
      "Training 91     - 100    -          0.0000 -           1.0000    | 1.0000   - 13.8302\n",
      "\u001b[1;4mValidati 91     - 100    -          0.2063 -           0.9710    | 0.9711   - 0.7411\u001b[0m\n",
      "Training 92     - 100    -          0.0000 -           1.0000    | 1.0000   - 13.9293\n",
      "\u001b[1;4mValidati 92     - 100    -          0.2076 -           0.9711    | 0.9711   - 0.7183\u001b[0m\n",
      "Training 93     - 100    -          0.0000 -           1.0000    | 1.0000   - 13.8840\n",
      "\u001b[1;4mValidati 93     - 100    -          0.2105 -           0.9713    | 0.9714   - 0.7435\u001b[0m\n",
      "Training 94     - 100    -          0.0000 -           1.0000    | 1.0000   - 13.9228\n",
      "\u001b[1;4mValidati 94     - 100    -          0.2098 -           0.9705    | 0.9706   - 0.7262\u001b[0m\n",
      "Training 95     - 100    -          0.0000 -           1.0000    | 1.0000   - 13.9505\n",
      "\u001b[1;4mValidati 95     - 100    -          0.2125 -           0.9711    | 0.9712   - 0.7354\u001b[0m\n",
      "Training 96     - 100    -          0.0000 -           1.0000    | 1.0000   - 13.9359\n",
      "\u001b[1;4mValidati 96     - 100    -          0.2127 -           0.9712    | 0.9709   - 0.7269\u001b[0m\n",
      "Training 97     - 100    -          0.0000 -           1.0000    | 1.0000   - 13.8415\n",
      "\n",
      "Training 98     - 100    -          0.0000 -           1.0000    | 1.0000   - 13.8542\n",
      "\u001b[1;4mValidati 98     - 100    -          0.2108 -           0.9713    | 0.9713   - 0.7211\u001b[0m\n",
      "Training 99     - 100    -          0.0000 -           1.0000    | 1.0000   - 13.9219\n",
      "\u001b[1;4mValidati 99     - 100    -          0.2116 -           0.9718    | 0.9720   - 0.7286\u001b[0m\n",
      "Training 100    - 100    -          0.0000 -           1.0000    | 1.0000   - 13.8342\n"
     ]
    }
   ],
   "source": [
    "# Fit function\n",
    "trainer.set_printing_form()\n",
    "print(trainer.header)\n",
    "\n",
    "start_epoch = trainer.checkpoint.epoch_counter\n",
    "end_epoch = args.nb_epoch\n",
    "\n",
    "for e in range(start_epoch, args.nb_epoch):\n",
    "    trainer.train_fn(e)\n",
    "    trainer.val_fn(e)\n",
    "    \n",
    "    trainer.tensorboard.flush()"
   ]
  },
  {
   "cell_type": "code",
   "execution_count": 213,
   "metadata": {},
   "outputs": [
    {
     "output_type": "stream",
     "name": "stdout",
     "text": [
      "\n",
      "final accuracy is 0.969828\n",
      "tensor(0.9698, device='cuda:0')\n"
     ]
    }
   ],
   "source": [
    "if args.dataset.lower() == \"speechcommand\":\n",
    "    trainer.test_fn()\n",
    "\n",
    "    print(trainer.maximum_tracker.max[\"test/acc\"])"
   ]
  },
  {
   "cell_type": "markdown",
   "metadata": {},
   "source": [
    "## display"
   ]
  },
  {
   "cell_type": "code",
   "execution_count": 214,
   "metadata": {},
   "outputs": [
    {
     "output_type": "display_data",
     "data": {
      "text/plain": "<Figure size 2160x1008 with 3 Axes>",
      "image/svg+xml": "<?xml version=\"1.0\" encoding=\"utf-8\" standalone=\"no\"?>\n<!DOCTYPE svg PUBLIC \"-//W3C//DTD SVG 1.1//EN\"\n  \"http://www.w3.org/Graphics/SVG/1.1/DTD/svg11.dtd\">\n<!-- Created with matplotlib (https://matplotlib.org/) -->\n<svg height=\"377.005398pt\" version=\"1.1\" viewBox=\"0 0 1717.665625 377.005398\" width=\"1717.665625pt\" xmlns=\"http://www.w3.org/2000/svg\" xmlns:xlink=\"http://www.w3.org/1999/xlink\">\n <defs>\n  <style type=\"text/css\">\n*{stroke-linecap:butt;stroke-linejoin:round;}\n  </style>\n </defs>\n <g id=\"figure_1\">\n  <g id=\"patch_1\">\n   <path d=\"M 0 377.005398 \nL 1717.665625 377.005398 \nL 1717.665625 -0 \nL 0 -0 \nz\n\" style=\"fill:none;\"/>\n  </g>\n  <g id=\"axes_1\">\n   <g id=\"patch_2\">\n    <path d=\"M 36.465625 353.127273 \nL 528.818566 353.127273 \nL 528.818566 7.2 \nL 36.465625 7.2 \nz\n\" style=\"fill:#ffffff;\"/>\n   </g>\n   <g id=\"matplotlib.axis_1\">\n    <g id=\"xtick_1\">\n     <g id=\"line2d_1\">\n      <defs>\n       <path d=\"M 0 0 \nL 0 3.5 \n\" id=\"m5b0bd79a71\" style=\"stroke:#000000;stroke-width:0.8;\"/>\n      </defs>\n      <g>\n       <use style=\"stroke:#000000;stroke-width:0.8;\" x=\"58.845304\" xlink:href=\"#m5b0bd79a71\" y=\"353.127273\"/>\n      </g>\n     </g>\n     <g id=\"text_1\">\n      <!-- 0 -->\n      <defs>\n       <path d=\"M 31.78125 66.40625 \nQ 24.171875 66.40625 20.328125 58.90625 \nQ 16.5 51.421875 16.5 36.375 \nQ 16.5 21.390625 20.328125 13.890625 \nQ 24.171875 6.390625 31.78125 6.390625 \nQ 39.453125 6.390625 43.28125 13.890625 \nQ 47.125 21.390625 47.125 36.375 \nQ 47.125 51.421875 43.28125 58.90625 \nQ 39.453125 66.40625 31.78125 66.40625 \nz\nM 31.78125 74.21875 \nQ 44.046875 74.21875 50.515625 64.515625 \nQ 56.984375 54.828125 56.984375 36.375 \nQ 56.984375 17.96875 50.515625 8.265625 \nQ 44.046875 -1.421875 31.78125 -1.421875 \nQ 19.53125 -1.421875 13.0625 8.265625 \nQ 6.59375 17.96875 6.59375 36.375 \nQ 6.59375 54.828125 13.0625 64.515625 \nQ 19.53125 74.21875 31.78125 74.21875 \nz\n\" id=\"DejaVuSans-48\"/>\n      </defs>\n      <g transform=\"translate(55.664054 367.72571)scale(0.1 -0.1)\">\n       <use xlink:href=\"#DejaVuSans-48\"/>\n      </g>\n     </g>\n    </g>\n    <g id=\"xtick_2\">\n     <g id=\"line2d_2\">\n      <g>\n       <use style=\"stroke:#000000;stroke-width:0.8;\" x=\"149.26825\" xlink:href=\"#m5b0bd79a71\" y=\"353.127273\"/>\n      </g>\n     </g>\n     <g id=\"text_2\">\n      <!-- 20 -->\n      <defs>\n       <path d=\"M 19.1875 8.296875 \nL 53.609375 8.296875 \nL 53.609375 0 \nL 7.328125 0 \nL 7.328125 8.296875 \nQ 12.9375 14.109375 22.625 23.890625 \nQ 32.328125 33.6875 34.8125 36.53125 \nQ 39.546875 41.84375 41.421875 45.53125 \nQ 43.3125 49.21875 43.3125 52.78125 \nQ 43.3125 58.59375 39.234375 62.25 \nQ 35.15625 65.921875 28.609375 65.921875 \nQ 23.96875 65.921875 18.8125 64.3125 \nQ 13.671875 62.703125 7.8125 59.421875 \nL 7.8125 69.390625 \nQ 13.765625 71.78125 18.9375 73 \nQ 24.125 74.21875 28.421875 74.21875 \nQ 39.75 74.21875 46.484375 68.546875 \nQ 53.21875 62.890625 53.21875 53.421875 \nQ 53.21875 48.921875 51.53125 44.890625 \nQ 49.859375 40.875 45.40625 35.40625 \nQ 44.1875 33.984375 37.640625 27.21875 \nQ 31.109375 20.453125 19.1875 8.296875 \nz\n\" id=\"DejaVuSans-50\"/>\n      </defs>\n      <g transform=\"translate(142.90575 367.72571)scale(0.1 -0.1)\">\n       <use xlink:href=\"#DejaVuSans-50\"/>\n       <use x=\"63.623047\" xlink:href=\"#DejaVuSans-48\"/>\n      </g>\n     </g>\n    </g>\n    <g id=\"xtick_3\">\n     <g id=\"line2d_3\">\n      <g>\n       <use style=\"stroke:#000000;stroke-width:0.8;\" x=\"239.691196\" xlink:href=\"#m5b0bd79a71\" y=\"353.127273\"/>\n      </g>\n     </g>\n     <g id=\"text_3\">\n      <!-- 40 -->\n      <defs>\n       <path d=\"M 37.796875 64.3125 \nL 12.890625 25.390625 \nL 37.796875 25.390625 \nz\nM 35.203125 72.90625 \nL 47.609375 72.90625 \nL 47.609375 25.390625 \nL 58.015625 25.390625 \nL 58.015625 17.1875 \nL 47.609375 17.1875 \nL 47.609375 0 \nL 37.796875 0 \nL 37.796875 17.1875 \nL 4.890625 17.1875 \nL 4.890625 26.703125 \nz\n\" id=\"DejaVuSans-52\"/>\n      </defs>\n      <g transform=\"translate(233.328696 367.72571)scale(0.1 -0.1)\">\n       <use xlink:href=\"#DejaVuSans-52\"/>\n       <use x=\"63.623047\" xlink:href=\"#DejaVuSans-48\"/>\n      </g>\n     </g>\n    </g>\n    <g id=\"xtick_4\">\n     <g id=\"line2d_4\">\n      <g>\n       <use style=\"stroke:#000000;stroke-width:0.8;\" x=\"330.114142\" xlink:href=\"#m5b0bd79a71\" y=\"353.127273\"/>\n      </g>\n     </g>\n     <g id=\"text_4\">\n      <!-- 60 -->\n      <defs>\n       <path d=\"M 33.015625 40.375 \nQ 26.375 40.375 22.484375 35.828125 \nQ 18.609375 31.296875 18.609375 23.390625 \nQ 18.609375 15.53125 22.484375 10.953125 \nQ 26.375 6.390625 33.015625 6.390625 \nQ 39.65625 6.390625 43.53125 10.953125 \nQ 47.40625 15.53125 47.40625 23.390625 \nQ 47.40625 31.296875 43.53125 35.828125 \nQ 39.65625 40.375 33.015625 40.375 \nz\nM 52.59375 71.296875 \nL 52.59375 62.3125 \nQ 48.875 64.0625 45.09375 64.984375 \nQ 41.3125 65.921875 37.59375 65.921875 \nQ 27.828125 65.921875 22.671875 59.328125 \nQ 17.53125 52.734375 16.796875 39.40625 \nQ 19.671875 43.65625 24.015625 45.921875 \nQ 28.375 48.1875 33.59375 48.1875 \nQ 44.578125 48.1875 50.953125 41.515625 \nQ 57.328125 34.859375 57.328125 23.390625 \nQ 57.328125 12.15625 50.6875 5.359375 \nQ 44.046875 -1.421875 33.015625 -1.421875 \nQ 20.359375 -1.421875 13.671875 8.265625 \nQ 6.984375 17.96875 6.984375 36.375 \nQ 6.984375 53.65625 15.1875 63.9375 \nQ 23.390625 74.21875 37.203125 74.21875 \nQ 40.921875 74.21875 44.703125 73.484375 \nQ 48.484375 72.75 52.59375 71.296875 \nz\n\" id=\"DejaVuSans-54\"/>\n      </defs>\n      <g transform=\"translate(323.751642 367.72571)scale(0.1 -0.1)\">\n       <use xlink:href=\"#DejaVuSans-54\"/>\n       <use x=\"63.623047\" xlink:href=\"#DejaVuSans-48\"/>\n      </g>\n     </g>\n    </g>\n    <g id=\"xtick_5\">\n     <g id=\"line2d_5\">\n      <g>\n       <use style=\"stroke:#000000;stroke-width:0.8;\" x=\"420.537088\" xlink:href=\"#m5b0bd79a71\" y=\"353.127273\"/>\n      </g>\n     </g>\n     <g id=\"text_5\">\n      <!-- 80 -->\n      <defs>\n       <path d=\"M 31.78125 34.625 \nQ 24.75 34.625 20.71875 30.859375 \nQ 16.703125 27.09375 16.703125 20.515625 \nQ 16.703125 13.921875 20.71875 10.15625 \nQ 24.75 6.390625 31.78125 6.390625 \nQ 38.8125 6.390625 42.859375 10.171875 \nQ 46.921875 13.96875 46.921875 20.515625 \nQ 46.921875 27.09375 42.890625 30.859375 \nQ 38.875 34.625 31.78125 34.625 \nz\nM 21.921875 38.8125 \nQ 15.578125 40.375 12.03125 44.71875 \nQ 8.5 49.078125 8.5 55.328125 \nQ 8.5 64.0625 14.71875 69.140625 \nQ 20.953125 74.21875 31.78125 74.21875 \nQ 42.671875 74.21875 48.875 69.140625 \nQ 55.078125 64.0625 55.078125 55.328125 \nQ 55.078125 49.078125 51.53125 44.71875 \nQ 48 40.375 41.703125 38.8125 \nQ 48.828125 37.15625 52.796875 32.3125 \nQ 56.78125 27.484375 56.78125 20.515625 \nQ 56.78125 9.90625 50.3125 4.234375 \nQ 43.84375 -1.421875 31.78125 -1.421875 \nQ 19.734375 -1.421875 13.25 4.234375 \nQ 6.78125 9.90625 6.78125 20.515625 \nQ 6.78125 27.484375 10.78125 32.3125 \nQ 14.796875 37.15625 21.921875 38.8125 \nz\nM 18.3125 54.390625 \nQ 18.3125 48.734375 21.84375 45.5625 \nQ 25.390625 42.390625 31.78125 42.390625 \nQ 38.140625 42.390625 41.71875 45.5625 \nQ 45.3125 48.734375 45.3125 54.390625 \nQ 45.3125 60.0625 41.71875 63.234375 \nQ 38.140625 66.40625 31.78125 66.40625 \nQ 25.390625 66.40625 21.84375 63.234375 \nQ 18.3125 60.0625 18.3125 54.390625 \nz\n\" id=\"DejaVuSans-56\"/>\n      </defs>\n      <g transform=\"translate(414.174588 367.72571)scale(0.1 -0.1)\">\n       <use xlink:href=\"#DejaVuSans-56\"/>\n       <use x=\"63.623047\" xlink:href=\"#DejaVuSans-48\"/>\n      </g>\n     </g>\n    </g>\n    <g id=\"xtick_6\">\n     <g id=\"line2d_6\">\n      <g>\n       <use style=\"stroke:#000000;stroke-width:0.8;\" x=\"510.960034\" xlink:href=\"#m5b0bd79a71\" y=\"353.127273\"/>\n      </g>\n     </g>\n     <g id=\"text_6\">\n      <!-- 100 -->\n      <defs>\n       <path d=\"M 12.40625 8.296875 \nL 28.515625 8.296875 \nL 28.515625 63.921875 \nL 10.984375 60.40625 \nL 10.984375 69.390625 \nL 28.421875 72.90625 \nL 38.28125 72.90625 \nL 38.28125 8.296875 \nL 54.390625 8.296875 \nL 54.390625 0 \nL 12.40625 0 \nz\n\" id=\"DejaVuSans-49\"/>\n      </defs>\n      <g transform=\"translate(501.416284 367.72571)scale(0.1 -0.1)\">\n       <use xlink:href=\"#DejaVuSans-49\"/>\n       <use x=\"63.623047\" xlink:href=\"#DejaVuSans-48\"/>\n       <use x=\"127.246094\" xlink:href=\"#DejaVuSans-48\"/>\n      </g>\n     </g>\n    </g>\n   </g>\n   <g id=\"matplotlib.axis_2\">\n    <g id=\"ytick_1\">\n     <g id=\"line2d_7\">\n      <defs>\n       <path d=\"M 0 0 \nL -3.5 0 \n\" id=\"m945d1a75ce\" style=\"stroke:#000000;stroke-width:0.8;\"/>\n      </defs>\n      <g>\n       <use style=\"stroke:#000000;stroke-width:0.8;\" x=\"36.465625\" xlink:href=\"#m945d1a75ce\" y=\"337.159449\"/>\n      </g>\n     </g>\n     <g id=\"text_7\">\n      <!-- 0.84 -->\n      <defs>\n       <path d=\"M 10.6875 12.40625 \nL 21 12.40625 \nL 21 0 \nL 10.6875 0 \nz\n\" id=\"DejaVuSans-46\"/>\n      </defs>\n      <g transform=\"translate(7.2 340.958668)scale(0.1 -0.1)\">\n       <use xlink:href=\"#DejaVuSans-48\"/>\n       <use x=\"63.623047\" xlink:href=\"#DejaVuSans-46\"/>\n       <use x=\"95.410156\" xlink:href=\"#DejaVuSans-56\"/>\n       <use x=\"159.033203\" xlink:href=\"#DejaVuSans-52\"/>\n      </g>\n     </g>\n    </g>\n    <g id=\"ytick_2\">\n     <g id=\"line2d_8\">\n      <g>\n       <use style=\"stroke:#000000;stroke-width:0.8;\" x=\"36.465625\" xlink:href=\"#m945d1a75ce\" y=\"289.543692\"/>\n      </g>\n     </g>\n     <g id=\"text_8\">\n      <!-- 0.86 -->\n      <g transform=\"translate(7.2 293.34291)scale(0.1 -0.1)\">\n       <use xlink:href=\"#DejaVuSans-48\"/>\n       <use x=\"63.623047\" xlink:href=\"#DejaVuSans-46\"/>\n       <use x=\"95.410156\" xlink:href=\"#DejaVuSans-56\"/>\n       <use x=\"159.033203\" xlink:href=\"#DejaVuSans-54\"/>\n      </g>\n     </g>\n    </g>\n    <g id=\"ytick_3\">\n     <g id=\"line2d_9\">\n      <g>\n       <use style=\"stroke:#000000;stroke-width:0.8;\" x=\"36.465625\" xlink:href=\"#m945d1a75ce\" y=\"241.927934\"/>\n      </g>\n     </g>\n     <g id=\"text_9\">\n      <!-- 0.88 -->\n      <g transform=\"translate(7.2 245.727153)scale(0.1 -0.1)\">\n       <use xlink:href=\"#DejaVuSans-48\"/>\n       <use x=\"63.623047\" xlink:href=\"#DejaVuSans-46\"/>\n       <use x=\"95.410156\" xlink:href=\"#DejaVuSans-56\"/>\n       <use x=\"159.033203\" xlink:href=\"#DejaVuSans-56\"/>\n      </g>\n     </g>\n    </g>\n    <g id=\"ytick_4\">\n     <g id=\"line2d_10\">\n      <g>\n       <use style=\"stroke:#000000;stroke-width:0.8;\" x=\"36.465625\" xlink:href=\"#m945d1a75ce\" y=\"194.312177\"/>\n      </g>\n     </g>\n     <g id=\"text_10\">\n      <!-- 0.90 -->\n      <defs>\n       <path d=\"M 10.984375 1.515625 \nL 10.984375 10.5 \nQ 14.703125 8.734375 18.5 7.8125 \nQ 22.3125 6.890625 25.984375 6.890625 \nQ 35.75 6.890625 40.890625 13.453125 \nQ 46.046875 20.015625 46.78125 33.40625 \nQ 43.953125 29.203125 39.59375 26.953125 \nQ 35.25 24.703125 29.984375 24.703125 \nQ 19.046875 24.703125 12.671875 31.3125 \nQ 6.296875 37.9375 6.296875 49.421875 \nQ 6.296875 60.640625 12.9375 67.421875 \nQ 19.578125 74.21875 30.609375 74.21875 \nQ 43.265625 74.21875 49.921875 64.515625 \nQ 56.59375 54.828125 56.59375 36.375 \nQ 56.59375 19.140625 48.40625 8.859375 \nQ 40.234375 -1.421875 26.421875 -1.421875 \nQ 22.703125 -1.421875 18.890625 -0.6875 \nQ 15.09375 0.046875 10.984375 1.515625 \nz\nM 30.609375 32.421875 \nQ 37.25 32.421875 41.125 36.953125 \nQ 45.015625 41.5 45.015625 49.421875 \nQ 45.015625 57.28125 41.125 61.84375 \nQ 37.25 66.40625 30.609375 66.40625 \nQ 23.96875 66.40625 20.09375 61.84375 \nQ 16.21875 57.28125 16.21875 49.421875 \nQ 16.21875 41.5 20.09375 36.953125 \nQ 23.96875 32.421875 30.609375 32.421875 \nz\n\" id=\"DejaVuSans-57\"/>\n      </defs>\n      <g transform=\"translate(7.2 198.111396)scale(0.1 -0.1)\">\n       <use xlink:href=\"#DejaVuSans-48\"/>\n       <use x=\"63.623047\" xlink:href=\"#DejaVuSans-46\"/>\n       <use x=\"95.410156\" xlink:href=\"#DejaVuSans-57\"/>\n       <use x=\"159.033203\" xlink:href=\"#DejaVuSans-48\"/>\n      </g>\n     </g>\n    </g>\n    <g id=\"ytick_5\">\n     <g id=\"line2d_11\">\n      <g>\n       <use style=\"stroke:#000000;stroke-width:0.8;\" x=\"36.465625\" xlink:href=\"#m945d1a75ce\" y=\"146.69642\"/>\n      </g>\n     </g>\n     <g id=\"text_11\">\n      <!-- 0.92 -->\n      <g transform=\"translate(7.2 150.495638)scale(0.1 -0.1)\">\n       <use xlink:href=\"#DejaVuSans-48\"/>\n       <use x=\"63.623047\" xlink:href=\"#DejaVuSans-46\"/>\n       <use x=\"95.410156\" xlink:href=\"#DejaVuSans-57\"/>\n       <use x=\"159.033203\" xlink:href=\"#DejaVuSans-50\"/>\n      </g>\n     </g>\n    </g>\n    <g id=\"ytick_6\">\n     <g id=\"line2d_12\">\n      <g>\n       <use style=\"stroke:#000000;stroke-width:0.8;\" x=\"36.465625\" xlink:href=\"#m945d1a75ce\" y=\"99.080662\"/>\n      </g>\n     </g>\n     <g id=\"text_12\">\n      <!-- 0.94 -->\n      <g transform=\"translate(7.2 102.879881)scale(0.1 -0.1)\">\n       <use xlink:href=\"#DejaVuSans-48\"/>\n       <use x=\"63.623047\" xlink:href=\"#DejaVuSans-46\"/>\n       <use x=\"95.410156\" xlink:href=\"#DejaVuSans-57\"/>\n       <use x=\"159.033203\" xlink:href=\"#DejaVuSans-52\"/>\n      </g>\n     </g>\n    </g>\n    <g id=\"ytick_7\">\n     <g id=\"line2d_13\">\n      <g>\n       <use style=\"stroke:#000000;stroke-width:0.8;\" x=\"36.465625\" xlink:href=\"#m945d1a75ce\" y=\"51.464905\"/>\n      </g>\n     </g>\n     <g id=\"text_13\">\n      <!-- 0.96 -->\n      <g transform=\"translate(7.2 55.264124)scale(0.1 -0.1)\">\n       <use xlink:href=\"#DejaVuSans-48\"/>\n       <use x=\"63.623047\" xlink:href=\"#DejaVuSans-46\"/>\n       <use x=\"95.410156\" xlink:href=\"#DejaVuSans-57\"/>\n       <use x=\"159.033203\" xlink:href=\"#DejaVuSans-54\"/>\n      </g>\n     </g>\n    </g>\n   </g>\n   <g id=\"line2d_14\">\n    <path clip-path=\"url(#p3f7e81157e)\" d=\"M 58.845304 337.403306 \nL 63.366451 143.961 \nL 67.887599 153.50503 \nL 72.408746 91.939815 \nL 76.929893 116.759603 \nL 81.451041 86.954799 \nL 85.972188 136.089047 \nL 90.493335 88.12453 \nL 95.014483 56.886192 \nL 99.53563 66.915683 \nL 104.056777 82.421186 \nL 108.577924 93.86179 \nL 113.099072 104.36241 \nL 117.620219 60.471731 \nL 122.141366 70.024134 \nL 126.662514 45.67292 \nL 131.183661 106.735788 \nL 135.704808 58.805329 \nL 140.225956 53.314843 \nL 144.747103 54.265897 \nL 149.26825 40.687904 \nL 153.789397 60.480103 \nL 158.310545 54.501603 \nL 162.831692 69.286081 \nL 167.352839 43.288332 \nL 171.873987 45.20165 \nL 176.395134 42.10441 \nL 180.916281 53.317965 \nL 185.437429 53.567578 \nL 189.958576 39.481419 \nL 194.479723 37.579594 \nL 199.000871 37.329698 \nL 203.522018 41.621929 \nL 208.043165 49.749454 \nL 212.564312 42.825718 \nL 217.08546 44.494816 \nL 221.606607 35.430428 \nL 226.127754 40.909419 \nL 230.648902 39.498448 \nL 235.170049 27.782829 \nL 239.691196 42.340116 \nL 244.212344 43.069654 \nL 248.733491 45.684131 \nL 253.254638 36.631237 \nL 257.775785 35.918726 \nL 262.296933 32.571873 \nL 266.81808 52.122549 \nL 271.339227 33.043001 \nL 275.860375 41.162012 \nL 280.381522 30.893976 \nL 284.902669 34.246648 \nL 289.423817 35.665992 \nL 293.944964 30.181466 \nL 298.466111 44.480626 \nL 302.987258 25.401078 \nL 307.508406 32.333471 \nL 312.029553 30.17579 \nL 316.5507 34.226923 \nL 321.071848 38.774585 \nL 325.592995 65.961933 \nL 330.114142 31.833678 \nL 334.63529 31.60379 \nL 339.156437 26.851642 \nL 343.677584 27.087348 \nL 348.198731 27.308721 \nL 352.719879 27.319931 \nL 357.241026 27.788505 \nL 361.762173 27.328588 \nL 366.283321 28.029745 \nL 370.804468 27.311559 \nL 375.325615 26.845823 \nL 379.846763 27.788505 \nL 384.36791 26.590535 \nL 388.889057 28.032442 \nL 393.410204 26.354971 \nL 397.931352 25.179563 \nL 402.452499 25.409451 \nL 406.973646 25.159838 \nL 411.494794 26.121961 \nL 416.015941 25.891931 \nL 420.537088 25.650691 \nL 425.058236 25.171049 \nL 429.579383 25.403916 \nL 434.10053 24.214318 \nL 438.621678 24.924132 \nL 443.142825 23.973078 \nL 447.663972 24.682892 \nL 452.185119 25.403916 \nL 456.706267 25.176583 \nL 461.227414 26.133455 \nL 465.748561 25.168211 \nL 470.269709 24.929667 \nL 474.790856 24.44449 \nL 479.312003 26.368877 \nL 483.833151 24.938181 \nL 488.354298 24.691264 \nL 492.875445 24.214318 \nL 497.396592 24.455559 \nL 501.91774 23.260568 \nL 506.438887 24.921294 \n\" style=\"fill:none;stroke:#1f77b4;stroke-linecap:square;stroke-width:1.5;\"/>\n   </g>\n   <g id=\"line2d_15\">\n    <path clip-path=\"url(#p3f7e81157e)\" d=\"M 58.845304 334.914132 \nL 63.366451 140.371061 \nL 67.887599 151.707223 \nL 72.408746 89.523582 \nL 76.929893 113.572962 \nL 81.451041 86.741514 \nL 85.972188 136.862577 \nL 90.493335 86.564983 \nL 95.014483 54.807836 \nL 99.53563 66.04807 \nL 104.056777 80.505171 \nL 108.577924 91.960392 \nL 113.099072 102.86672 \nL 117.620219 59.999468 \nL 122.141366 68.208163 \nL 126.662514 45.392798 \nL 131.183661 104.722 \nL 135.704808 56.208307 \nL 140.225956 52.563451 \nL 144.747103 54.751216 \nL 149.26825 38.454019 \nL 153.789397 59.792427 \nL 158.310545 54.020258 \nL 162.831692 68.600107 \nL 167.352839 41.973572 \nL 171.873987 44.120185 \nL 176.395134 41.269577 \nL 180.916281 52.487673 \nL 185.437429 52.188251 \nL 189.958576 39.066911 \nL 194.479723 37.273787 \nL 199.000871 37.044183 \nL 203.522018 41.367208 \nL 208.043165 48.108311 \nL 212.564312 41.859196 \nL 217.08546 42.885318 \nL 221.606607 34.667257 \nL 226.127754 39.590828 \nL 230.648902 39.316808 \nL 235.170049 27.131764 \nL 239.691196 42.392337 \nL 244.212344 41.767525 \nL 248.733491 44.244069 \nL 253.254638 35.726586 \nL 257.775785 34.945535 \nL 262.296933 32.622675 \nL 266.81808 52.085369 \nL 271.339227 32.500211 \nL 275.860375 39.562447 \nL 280.381522 30.834234 \nL 284.902669 34.303978 \nL 289.423817 35.349541 \nL 293.944964 29.999543 \nL 298.466111 44.418045 \nL 302.987258 24.964717 \nL 307.508406 31.995451 \nL 312.029553 29.149526 \nL 316.5507 33.904796 \nL 321.071848 38.247688 \nL 325.592995 65.966616 \nL 330.114142 30.951306 \nL 334.63529 30.343239 \nL 339.156437 26.786365 \nL 343.677584 26.663474 \nL 348.198731 27.002062 \nL 352.719879 27.495327 \nL 357.241026 27.13219 \nL 361.762173 27.366477 \nL 366.283321 27.7211 \nL 370.804468 26.653399 \nL 375.325615 26.310696 \nL 379.846763 27.712302 \nL 384.36791 26.872786 \nL 388.889057 27.242877 \nL 393.410204 26.518162 \nL 397.931352 25.823958 \nL 402.452499 25.798131 \nL 406.973646 24.599309 \nL 411.494794 26.399671 \nL 416.015941 25.915488 \nL 420.537088 25.693547 \nL 425.058236 25.563135 \nL 429.579383 25.689289 \nL 434.10053 24.134 \nL 438.621678 25.444785 \nL 443.142825 24.004297 \nL 447.663972 24.489616 \nL 452.185119 25.671693 \nL 456.706267 25.324023 \nL 461.227414 26.17702 \nL 465.748561 25.080371 \nL 470.269709 24.966988 \nL 474.790856 24.363603 \nL 479.312003 26.168648 \nL 483.833151 24.862403 \nL 488.354298 25.443934 \nL 492.875445 24.000608 \nL 497.396592 24.597465 \nL 501.91774 22.923967 \nL 506.438887 25.075688 \n\" style=\"fill:none;stroke:#ff7f0e;stroke-linecap:square;stroke-width:1.5;\"/>\n   </g>\n   <g id=\"patch_3\">\n    <path d=\"M 36.465625 353.127273 \nL 36.465625 7.2 \n\" style=\"fill:none;stroke:#000000;stroke-linecap:square;stroke-linejoin:miter;stroke-width:0.8;\"/>\n   </g>\n   <g id=\"patch_4\">\n    <path d=\"M 528.818566 353.127273 \nL 528.818566 7.2 \n\" style=\"fill:none;stroke:#000000;stroke-linecap:square;stroke-linejoin:miter;stroke-width:0.8;\"/>\n   </g>\n   <g id=\"patch_5\">\n    <path d=\"M 36.465625 353.127273 \nL 528.818566 353.127273 \n\" style=\"fill:none;stroke:#000000;stroke-linecap:square;stroke-linejoin:miter;stroke-width:0.8;\"/>\n   </g>\n   <g id=\"patch_6\">\n    <path d=\"M 36.465625 7.2 \nL 528.818566 7.2 \n\" style=\"fill:none;stroke:#000000;stroke-linecap:square;stroke-linejoin:miter;stroke-width:0.8;\"/>\n   </g>\n   <g id=\"legend_1\">\n    <g id=\"patch_7\">\n     <path d=\"M 328.423254 348.127273 \nL 521.818566 348.127273 \nQ 523.818566 348.127273 523.818566 346.127273 \nL 523.818566 317.771023 \nQ 523.818566 315.771023 521.818566 315.771023 \nL 328.423254 315.771023 \nQ 326.423254 315.771023 326.423254 317.771023 \nL 326.423254 346.127273 \nQ 326.423254 348.127273 328.423254 348.127273 \nz\n\" style=\"fill:#ffffff;opacity:0.8;stroke:#cccccc;stroke-linejoin:miter;\"/>\n    </g>\n    <g id=\"line2d_16\">\n     <path d=\"M 330.423254 323.86946 \nL 350.423254 323.86946 \n\" style=\"fill:none;stroke:#1f77b4;stroke-linecap:square;stroke-width:1.5;\"/>\n    </g>\n    <g id=\"line2d_17\"/>\n    <g id=\"text_14\">\n     <!-- val/acc = 0.9718466401100159 -->\n     <defs>\n      <path d=\"M 2.984375 54.6875 \nL 12.5 54.6875 \nL 29.59375 8.796875 \nL 46.6875 54.6875 \nL 56.203125 54.6875 \nL 35.6875 0 \nL 23.484375 0 \nz\n\" id=\"DejaVuSans-118\"/>\n      <path d=\"M 34.28125 27.484375 \nQ 23.390625 27.484375 19.1875 25 \nQ 14.984375 22.515625 14.984375 16.5 \nQ 14.984375 11.71875 18.140625 8.90625 \nQ 21.296875 6.109375 26.703125 6.109375 \nQ 34.1875 6.109375 38.703125 11.40625 \nQ 43.21875 16.703125 43.21875 25.484375 \nL 43.21875 27.484375 \nz\nM 52.203125 31.203125 \nL 52.203125 0 \nL 43.21875 0 \nL 43.21875 8.296875 \nQ 40.140625 3.328125 35.546875 0.953125 \nQ 30.953125 -1.421875 24.3125 -1.421875 \nQ 15.921875 -1.421875 10.953125 3.296875 \nQ 6 8.015625 6 15.921875 \nQ 6 25.140625 12.171875 29.828125 \nQ 18.359375 34.515625 30.609375 34.515625 \nL 43.21875 34.515625 \nL 43.21875 35.40625 \nQ 43.21875 41.609375 39.140625 45 \nQ 35.0625 48.390625 27.6875 48.390625 \nQ 23 48.390625 18.546875 47.265625 \nQ 14.109375 46.140625 10.015625 43.890625 \nL 10.015625 52.203125 \nQ 14.9375 54.109375 19.578125 55.046875 \nQ 24.21875 56 28.609375 56 \nQ 40.484375 56 46.34375 49.84375 \nQ 52.203125 43.703125 52.203125 31.203125 \nz\n\" id=\"DejaVuSans-97\"/>\n      <path d=\"M 9.421875 75.984375 \nL 18.40625 75.984375 \nL 18.40625 0 \nL 9.421875 0 \nz\n\" id=\"DejaVuSans-108\"/>\n      <path d=\"M 25.390625 72.90625 \nL 33.6875 72.90625 \nL 8.296875 -9.28125 \nL 0 -9.28125 \nz\n\" id=\"DejaVuSans-47\"/>\n      <path d=\"M 48.78125 52.59375 \nL 48.78125 44.1875 \nQ 44.96875 46.296875 41.140625 47.34375 \nQ 37.3125 48.390625 33.40625 48.390625 \nQ 24.65625 48.390625 19.8125 42.84375 \nQ 14.984375 37.3125 14.984375 27.296875 \nQ 14.984375 17.28125 19.8125 11.734375 \nQ 24.65625 6.203125 33.40625 6.203125 \nQ 37.3125 6.203125 41.140625 7.25 \nQ 44.96875 8.296875 48.78125 10.40625 \nL 48.78125 2.09375 \nQ 45.015625 0.34375 40.984375 -0.53125 \nQ 36.96875 -1.421875 32.421875 -1.421875 \nQ 20.0625 -1.421875 12.78125 6.34375 \nQ 5.515625 14.109375 5.515625 27.296875 \nQ 5.515625 40.671875 12.859375 48.328125 \nQ 20.21875 56 33.015625 56 \nQ 37.15625 56 41.109375 55.140625 \nQ 45.0625 54.296875 48.78125 52.59375 \nz\n\" id=\"DejaVuSans-99\"/>\n      <path id=\"DejaVuSans-32\"/>\n      <path d=\"M 10.59375 45.40625 \nL 73.1875 45.40625 \nL 73.1875 37.203125 \nL 10.59375 37.203125 \nz\nM 10.59375 25.484375 \nL 73.1875 25.484375 \nL 73.1875 17.1875 \nL 10.59375 17.1875 \nz\n\" id=\"DejaVuSans-61\"/>\n      <path d=\"M 8.203125 72.90625 \nL 55.078125 72.90625 \nL 55.078125 68.703125 \nL 28.609375 0 \nL 18.3125 0 \nL 43.21875 64.59375 \nL 8.203125 64.59375 \nz\n\" id=\"DejaVuSans-55\"/>\n      <path d=\"M 10.796875 72.90625 \nL 49.515625 72.90625 \nL 49.515625 64.59375 \nL 19.828125 64.59375 \nL 19.828125 46.734375 \nQ 21.96875 47.46875 24.109375 47.828125 \nQ 26.265625 48.1875 28.421875 48.1875 \nQ 40.625 48.1875 47.75 41.5 \nQ 54.890625 34.8125 54.890625 23.390625 \nQ 54.890625 11.625 47.5625 5.09375 \nQ 40.234375 -1.421875 26.90625 -1.421875 \nQ 22.3125 -1.421875 17.546875 -0.640625 \nQ 12.796875 0.140625 7.71875 1.703125 \nL 7.71875 11.625 \nQ 12.109375 9.234375 16.796875 8.0625 \nQ 21.484375 6.890625 26.703125 6.890625 \nQ 35.15625 6.890625 40.078125 11.328125 \nQ 45.015625 15.765625 45.015625 23.390625 \nQ 45.015625 31 40.078125 35.4375 \nQ 35.15625 39.890625 26.703125 39.890625 \nQ 22.75 39.890625 18.8125 39.015625 \nQ 14.890625 38.140625 10.796875 36.28125 \nz\n\" id=\"DejaVuSans-53\"/>\n     </defs>\n     <g transform=\"translate(358.423254 327.36946)scale(0.1 -0.1)\">\n      <use xlink:href=\"#DejaVuSans-118\"/>\n      <use x=\"59.179688\" xlink:href=\"#DejaVuSans-97\"/>\n      <use x=\"120.458984\" xlink:href=\"#DejaVuSans-108\"/>\n      <use x=\"148.242188\" xlink:href=\"#DejaVuSans-47\"/>\n      <use x=\"181.933594\" xlink:href=\"#DejaVuSans-97\"/>\n      <use x=\"243.212891\" xlink:href=\"#DejaVuSans-99\"/>\n      <use x=\"298.193359\" xlink:href=\"#DejaVuSans-99\"/>\n      <use x=\"353.173828\" xlink:href=\"#DejaVuSans-32\"/>\n      <use x=\"384.960938\" xlink:href=\"#DejaVuSans-61\"/>\n      <use x=\"468.75\" xlink:href=\"#DejaVuSans-32\"/>\n      <use x=\"500.537109\" xlink:href=\"#DejaVuSans-48\"/>\n      <use x=\"564.160156\" xlink:href=\"#DejaVuSans-46\"/>\n      <use x=\"595.947266\" xlink:href=\"#DejaVuSans-57\"/>\n      <use x=\"659.570312\" xlink:href=\"#DejaVuSans-55\"/>\n      <use x=\"723.193359\" xlink:href=\"#DejaVuSans-49\"/>\n      <use x=\"786.816406\" xlink:href=\"#DejaVuSans-56\"/>\n      <use x=\"850.439453\" xlink:href=\"#DejaVuSans-52\"/>\n      <use x=\"914.0625\" xlink:href=\"#DejaVuSans-54\"/>\n      <use x=\"977.685547\" xlink:href=\"#DejaVuSans-54\"/>\n      <use x=\"1041.308594\" xlink:href=\"#DejaVuSans-52\"/>\n      <use x=\"1104.931641\" xlink:href=\"#DejaVuSans-48\"/>\n      <use x=\"1168.554688\" xlink:href=\"#DejaVuSans-49\"/>\n      <use x=\"1232.177734\" xlink:href=\"#DejaVuSans-49\"/>\n      <use x=\"1295.800781\" xlink:href=\"#DejaVuSans-48\"/>\n      <use x=\"1359.423828\" xlink:href=\"#DejaVuSans-48\"/>\n      <use x=\"1423.046875\" xlink:href=\"#DejaVuSans-49\"/>\n      <use x=\"1486.669922\" xlink:href=\"#DejaVuSans-53\"/>\n      <use x=\"1550.292969\" xlink:href=\"#DejaVuSans-57\"/>\n     </g>\n    </g>\n    <g id=\"line2d_18\">\n     <path d=\"M 330.423254 338.547585 \nL 350.423254 338.547585 \n\" style=\"fill:none;stroke:#ff7f0e;stroke-linecap:square;stroke-width:1.5;\"/>\n    </g>\n    <g id=\"line2d_19\"/>\n    <g id=\"text_15\">\n     <!-- val/f1 = 0.9719880223274231 -->\n     <defs>\n      <path d=\"M 37.109375 75.984375 \nL 37.109375 68.5 \nL 28.515625 68.5 \nQ 23.6875 68.5 21.796875 66.546875 \nQ 19.921875 64.59375 19.921875 59.515625 \nL 19.921875 54.6875 \nL 34.71875 54.6875 \nL 34.71875 47.703125 \nL 19.921875 47.703125 \nL 19.921875 0 \nL 10.890625 0 \nL 10.890625 47.703125 \nL 2.296875 47.703125 \nL 2.296875 54.6875 \nL 10.890625 54.6875 \nL 10.890625 58.5 \nQ 10.890625 67.625 15.140625 71.796875 \nQ 19.390625 75.984375 28.609375 75.984375 \nz\n\" id=\"DejaVuSans-102\"/>\n      <path d=\"M 40.578125 39.3125 \nQ 47.65625 37.796875 51.625 33 \nQ 55.609375 28.21875 55.609375 21.1875 \nQ 55.609375 10.40625 48.1875 4.484375 \nQ 40.765625 -1.421875 27.09375 -1.421875 \nQ 22.515625 -1.421875 17.65625 -0.515625 \nQ 12.796875 0.390625 7.625 2.203125 \nL 7.625 11.71875 \nQ 11.71875 9.328125 16.59375 8.109375 \nQ 21.484375 6.890625 26.8125 6.890625 \nQ 36.078125 6.890625 40.9375 10.546875 \nQ 45.796875 14.203125 45.796875 21.1875 \nQ 45.796875 27.640625 41.28125 31.265625 \nQ 36.765625 34.90625 28.71875 34.90625 \nL 20.21875 34.90625 \nL 20.21875 43.015625 \nL 29.109375 43.015625 \nQ 36.375 43.015625 40.234375 45.921875 \nQ 44.09375 48.828125 44.09375 54.296875 \nQ 44.09375 59.90625 40.109375 62.90625 \nQ 36.140625 65.921875 28.71875 65.921875 \nQ 24.65625 65.921875 20.015625 65.03125 \nQ 15.375 64.15625 9.8125 62.3125 \nL 9.8125 71.09375 \nQ 15.4375 72.65625 20.34375 73.4375 \nQ 25.25 74.21875 29.59375 74.21875 \nQ 40.828125 74.21875 47.359375 69.109375 \nQ 53.90625 64.015625 53.90625 55.328125 \nQ 53.90625 49.265625 50.4375 45.09375 \nQ 46.96875 40.921875 40.578125 39.3125 \nz\n\" id=\"DejaVuSans-51\"/>\n     </defs>\n     <g transform=\"translate(358.423254 342.047585)scale(0.1 -0.1)\">\n      <use xlink:href=\"#DejaVuSans-118\"/>\n      <use x=\"59.179688\" xlink:href=\"#DejaVuSans-97\"/>\n      <use x=\"120.458984\" xlink:href=\"#DejaVuSans-108\"/>\n      <use x=\"148.242188\" xlink:href=\"#DejaVuSans-47\"/>\n      <use x=\"181.933594\" xlink:href=\"#DejaVuSans-102\"/>\n      <use x=\"217.138672\" xlink:href=\"#DejaVuSans-49\"/>\n      <use x=\"280.761719\" xlink:href=\"#DejaVuSans-32\"/>\n      <use x=\"312.548828\" xlink:href=\"#DejaVuSans-61\"/>\n      <use x=\"396.337891\" xlink:href=\"#DejaVuSans-32\"/>\n      <use x=\"428.125\" xlink:href=\"#DejaVuSans-48\"/>\n      <use x=\"491.748047\" xlink:href=\"#DejaVuSans-46\"/>\n      <use x=\"523.535156\" xlink:href=\"#DejaVuSans-57\"/>\n      <use x=\"587.158203\" xlink:href=\"#DejaVuSans-55\"/>\n      <use x=\"650.78125\" xlink:href=\"#DejaVuSans-49\"/>\n      <use x=\"714.404297\" xlink:href=\"#DejaVuSans-57\"/>\n      <use x=\"778.027344\" xlink:href=\"#DejaVuSans-56\"/>\n      <use x=\"841.650391\" xlink:href=\"#DejaVuSans-56\"/>\n      <use x=\"905.273438\" xlink:href=\"#DejaVuSans-48\"/>\n      <use x=\"968.896484\" xlink:href=\"#DejaVuSans-50\"/>\n      <use x=\"1032.519531\" xlink:href=\"#DejaVuSans-50\"/>\n      <use x=\"1096.142578\" xlink:href=\"#DejaVuSans-51\"/>\n      <use x=\"1159.765625\" xlink:href=\"#DejaVuSans-50\"/>\n      <use x=\"1223.388672\" xlink:href=\"#DejaVuSans-55\"/>\n      <use x=\"1287.011719\" xlink:href=\"#DejaVuSans-52\"/>\n      <use x=\"1350.634766\" xlink:href=\"#DejaVuSans-50\"/>\n      <use x=\"1414.257812\" xlink:href=\"#DejaVuSans-51\"/>\n      <use x=\"1477.880859\" xlink:href=\"#DejaVuSans-49\"/>\n     </g>\n    </g>\n   </g>\n  </g>\n  <g id=\"axes_2\">\n   <g id=\"patch_8\">\n    <path d=\"M 627.289154 353.127273 \nL 1119.642096 353.127273 \nL 1119.642096 7.2 \nL 627.289154 7.2 \nz\n\" style=\"fill:#ffffff;\"/>\n   </g>\n   <g id=\"matplotlib.axis_3\">\n    <g id=\"xtick_7\">\n     <g id=\"line2d_20\">\n      <g>\n       <use style=\"stroke:#000000;stroke-width:0.8;\" x=\"649.668834\" xlink:href=\"#m5b0bd79a71\" y=\"353.127273\"/>\n      </g>\n     </g>\n     <g id=\"text_16\">\n      <!-- 0 -->\n      <g transform=\"translate(646.487584 367.72571)scale(0.1 -0.1)\">\n       <use xlink:href=\"#DejaVuSans-48\"/>\n      </g>\n     </g>\n    </g>\n    <g id=\"xtick_8\">\n     <g id=\"line2d_21\">\n      <g>\n       <use style=\"stroke:#000000;stroke-width:0.8;\" x=\"740.09178\" xlink:href=\"#m5b0bd79a71\" y=\"353.127273\"/>\n      </g>\n     </g>\n     <g id=\"text_17\">\n      <!-- 20 -->\n      <g transform=\"translate(733.72928 367.72571)scale(0.1 -0.1)\">\n       <use xlink:href=\"#DejaVuSans-50\"/>\n       <use x=\"63.623047\" xlink:href=\"#DejaVuSans-48\"/>\n      </g>\n     </g>\n    </g>\n    <g id=\"xtick_9\">\n     <g id=\"line2d_22\">\n      <g>\n       <use style=\"stroke:#000000;stroke-width:0.8;\" x=\"830.514726\" xlink:href=\"#m5b0bd79a71\" y=\"353.127273\"/>\n      </g>\n     </g>\n     <g id=\"text_18\">\n      <!-- 40 -->\n      <g transform=\"translate(824.152226 367.72571)scale(0.1 -0.1)\">\n       <use xlink:href=\"#DejaVuSans-52\"/>\n       <use x=\"63.623047\" xlink:href=\"#DejaVuSans-48\"/>\n      </g>\n     </g>\n    </g>\n    <g id=\"xtick_10\">\n     <g id=\"line2d_23\">\n      <g>\n       <use style=\"stroke:#000000;stroke-width:0.8;\" x=\"920.937672\" xlink:href=\"#m5b0bd79a71\" y=\"353.127273\"/>\n      </g>\n     </g>\n     <g id=\"text_19\">\n      <!-- 60 -->\n      <g transform=\"translate(914.575172 367.72571)scale(0.1 -0.1)\">\n       <use xlink:href=\"#DejaVuSans-54\"/>\n       <use x=\"63.623047\" xlink:href=\"#DejaVuSans-48\"/>\n      </g>\n     </g>\n    </g>\n    <g id=\"xtick_11\">\n     <g id=\"line2d_24\">\n      <g>\n       <use style=\"stroke:#000000;stroke-width:0.8;\" x=\"1011.360618\" xlink:href=\"#m5b0bd79a71\" y=\"353.127273\"/>\n      </g>\n     </g>\n     <g id=\"text_20\">\n      <!-- 80 -->\n      <g transform=\"translate(1004.998118 367.72571)scale(0.1 -0.1)\">\n       <use xlink:href=\"#DejaVuSans-56\"/>\n       <use x=\"63.623047\" xlink:href=\"#DejaVuSans-48\"/>\n      </g>\n     </g>\n    </g>\n    <g id=\"xtick_12\">\n     <g id=\"line2d_25\">\n      <g>\n       <use style=\"stroke:#000000;stroke-width:0.8;\" x=\"1101.783564\" xlink:href=\"#m5b0bd79a71\" y=\"353.127273\"/>\n      </g>\n     </g>\n     <g id=\"text_21\">\n      <!-- 100 -->\n      <g transform=\"translate(1092.239814 367.72571)scale(0.1 -0.1)\">\n       <use xlink:href=\"#DejaVuSans-49\"/>\n       <use x=\"63.623047\" xlink:href=\"#DejaVuSans-48\"/>\n       <use x=\"127.246094\" xlink:href=\"#DejaVuSans-48\"/>\n      </g>\n     </g>\n    </g>\n   </g>\n   <g id=\"matplotlib.axis_4\">\n    <g id=\"ytick_8\">\n     <g id=\"line2d_26\">\n      <g>\n       <use style=\"stroke:#000000;stroke-width:0.8;\" x=\"627.289154\" xlink:href=\"#m945d1a75ce\" y=\"337.713889\"/>\n      </g>\n     </g>\n     <g id=\"text_22\">\n      <!-- 0.0000 -->\n      <g transform=\"translate(585.298529 341.513108)scale(0.1 -0.1)\">\n       <use xlink:href=\"#DejaVuSans-48\"/>\n       <use x=\"63.623047\" xlink:href=\"#DejaVuSans-46\"/>\n       <use x=\"95.410156\" xlink:href=\"#DejaVuSans-48\"/>\n       <use x=\"159.033203\" xlink:href=\"#DejaVuSans-48\"/>\n       <use x=\"222.65625\" xlink:href=\"#DejaVuSans-48\"/>\n       <use x=\"286.279297\" xlink:href=\"#DejaVuSans-48\"/>\n      </g>\n     </g>\n    </g>\n    <g id=\"ytick_9\">\n     <g id=\"line2d_27\">\n      <g>\n       <use style=\"stroke:#000000;stroke-width:0.8;\" x=\"627.289154\" xlink:href=\"#m945d1a75ce\" y=\"285.248902\"/>\n      </g>\n     </g>\n     <g id=\"text_23\">\n      <!-- 0.0005 -->\n      <g transform=\"translate(585.298529 289.048121)scale(0.1 -0.1)\">\n       <use xlink:href=\"#DejaVuSans-48\"/>\n       <use x=\"63.623047\" xlink:href=\"#DejaVuSans-46\"/>\n       <use x=\"95.410156\" xlink:href=\"#DejaVuSans-48\"/>\n       <use x=\"159.033203\" xlink:href=\"#DejaVuSans-48\"/>\n       <use x=\"222.65625\" xlink:href=\"#DejaVuSans-48\"/>\n       <use x=\"286.279297\" xlink:href=\"#DejaVuSans-53\"/>\n      </g>\n     </g>\n    </g>\n    <g id=\"ytick_10\">\n     <g id=\"line2d_28\">\n      <g>\n       <use style=\"stroke:#000000;stroke-width:0.8;\" x=\"627.289154\" xlink:href=\"#m945d1a75ce\" y=\"232.783915\"/>\n      </g>\n     </g>\n     <g id=\"text_24\">\n      <!-- 0.0010 -->\n      <g transform=\"translate(585.298529 236.583134)scale(0.1 -0.1)\">\n       <use xlink:href=\"#DejaVuSans-48\"/>\n       <use x=\"63.623047\" xlink:href=\"#DejaVuSans-46\"/>\n       <use x=\"95.410156\" xlink:href=\"#DejaVuSans-48\"/>\n       <use x=\"159.033203\" xlink:href=\"#DejaVuSans-48\"/>\n       <use x=\"222.65625\" xlink:href=\"#DejaVuSans-49\"/>\n       <use x=\"286.279297\" xlink:href=\"#DejaVuSans-48\"/>\n      </g>\n     </g>\n    </g>\n    <g id=\"ytick_11\">\n     <g id=\"line2d_29\">\n      <g>\n       <use style=\"stroke:#000000;stroke-width:0.8;\" x=\"627.289154\" xlink:href=\"#m945d1a75ce\" y=\"180.318928\"/>\n      </g>\n     </g>\n     <g id=\"text_25\">\n      <!-- 0.0015 -->\n      <g transform=\"translate(585.298529 184.118147)scale(0.1 -0.1)\">\n       <use xlink:href=\"#DejaVuSans-48\"/>\n       <use x=\"63.623047\" xlink:href=\"#DejaVuSans-46\"/>\n       <use x=\"95.410156\" xlink:href=\"#DejaVuSans-48\"/>\n       <use x=\"159.033203\" xlink:href=\"#DejaVuSans-48\"/>\n       <use x=\"222.65625\" xlink:href=\"#DejaVuSans-49\"/>\n       <use x=\"286.279297\" xlink:href=\"#DejaVuSans-53\"/>\n      </g>\n     </g>\n    </g>\n    <g id=\"ytick_12\">\n     <g id=\"line2d_30\">\n      <g>\n       <use style=\"stroke:#000000;stroke-width:0.8;\" x=\"627.289154\" xlink:href=\"#m945d1a75ce\" y=\"127.853941\"/>\n      </g>\n     </g>\n     <g id=\"text_26\">\n      <!-- 0.0020 -->\n      <g transform=\"translate(585.298529 131.65316)scale(0.1 -0.1)\">\n       <use xlink:href=\"#DejaVuSans-48\"/>\n       <use x=\"63.623047\" xlink:href=\"#DejaVuSans-46\"/>\n       <use x=\"95.410156\" xlink:href=\"#DejaVuSans-48\"/>\n       <use x=\"159.033203\" xlink:href=\"#DejaVuSans-48\"/>\n       <use x=\"222.65625\" xlink:href=\"#DejaVuSans-50\"/>\n       <use x=\"286.279297\" xlink:href=\"#DejaVuSans-48\"/>\n      </g>\n     </g>\n    </g>\n    <g id=\"ytick_13\">\n     <g id=\"line2d_31\">\n      <g>\n       <use style=\"stroke:#000000;stroke-width:0.8;\" x=\"627.289154\" xlink:href=\"#m945d1a75ce\" y=\"75.388954\"/>\n      </g>\n     </g>\n     <g id=\"text_27\">\n      <!-- 0.0025 -->\n      <g transform=\"translate(585.298529 79.188173)scale(0.1 -0.1)\">\n       <use xlink:href=\"#DejaVuSans-48\"/>\n       <use x=\"63.623047\" xlink:href=\"#DejaVuSans-46\"/>\n       <use x=\"95.410156\" xlink:href=\"#DejaVuSans-48\"/>\n       <use x=\"159.033203\" xlink:href=\"#DejaVuSans-48\"/>\n       <use x=\"222.65625\" xlink:href=\"#DejaVuSans-50\"/>\n       <use x=\"286.279297\" xlink:href=\"#DejaVuSans-53\"/>\n      </g>\n     </g>\n    </g>\n    <g id=\"ytick_14\">\n     <g id=\"line2d_32\">\n      <g>\n       <use style=\"stroke:#000000;stroke-width:0.8;\" x=\"627.289154\" xlink:href=\"#m945d1a75ce\" y=\"22.923967\"/>\n      </g>\n     </g>\n     <g id=\"text_28\">\n      <!-- 0.0030 -->\n      <g transform=\"translate(585.298529 26.723186)scale(0.1 -0.1)\">\n       <use xlink:href=\"#DejaVuSans-48\"/>\n       <use x=\"63.623047\" xlink:href=\"#DejaVuSans-46\"/>\n       <use x=\"95.410156\" xlink:href=\"#DejaVuSans-48\"/>\n       <use x=\"159.033203\" xlink:href=\"#DejaVuSans-48\"/>\n       <use x=\"222.65625\" xlink:href=\"#DejaVuSans-51\"/>\n       <use x=\"286.279297\" xlink:href=\"#DejaVuSans-48\"/>\n      </g>\n     </g>\n    </g>\n   </g>\n   <g id=\"line2d_33\">\n    <path clip-path=\"url(#p1d205afb8a)\" d=\"M 649.668834 23.001632 \nL 654.189981 22.923967 \nL 658.711128 23.001632 \nL 663.232275 23.23455 \nL 667.753423 23.622491 \nL 672.27457 24.165073 \nL 676.795717 24.86176 \nL 681.316865 25.711864 \nL 685.838012 26.714547 \nL 690.359159 27.868819 \nL 694.880307 29.173541 \nL 699.401454 30.627425 \nL 703.922601 32.229036 \nL 708.443748 33.976794 \nL 712.964896 35.868974 \nL 717.486043 37.903709 \nL 722.00719 40.078991 \nL 726.528338 42.392672 \nL 731.049485 44.84247 \nL 735.570632 47.425967 \nL 740.09178 50.140613 \nL 744.612927 52.98373 \nL 749.134074 55.952511 \nL 753.655221 59.044026 \nL 758.176369 62.255225 \nL 762.697516 65.582939 \nL 767.218663 69.023884 \nL 771.739811 72.574663 \nL 776.260958 76.231773 \nL 780.782105 79.991604 \nL 785.303253 83.850446 \nL 789.8244 87.804491 \nL 794.345547 91.849837 \nL 798.866695 95.98249 \nL 803.387842 100.198374 \nL 807.908989 104.493327 \nL 812.430136 108.863111 \nL 816.951284 113.303413 \nL 821.472431 117.809851 \nL 825.993578 122.377978 \nL 830.514726 127.003286 \nL 835.035873 131.68121 \nL 839.55702 136.407134 \nL 844.078168 141.176393 \nL 848.599315 145.984281 \nL 853.120462 150.826053 \nL 857.641609 155.696931 \nL 862.162757 160.592108 \nL 866.683904 165.506754 \nL 871.205051 170.436016 \nL 875.726199 175.375033 \nL 880.247346 180.318928 \nL 884.768493 185.262823 \nL 889.289641 190.201839 \nL 893.810788 195.131102 \nL 898.331935 200.045747 \nL 902.853082 204.940924 \nL 907.37423 209.811803 \nL 911.895377 214.653575 \nL 916.416524 219.461463 \nL 920.937672 224.230722 \nL 925.458819 228.956646 \nL 929.979966 233.63457 \nL 934.501114 238.259877 \nL 939.022261 242.828005 \nL 943.543408 247.334443 \nL 948.064555 251.774745 \nL 952.585703 256.144529 \nL 957.10685 260.439482 \nL 961.627997 264.655365 \nL 966.149145 268.788019 \nL 970.670292 272.833365 \nL 975.191439 276.78741 \nL 979.712587 280.646252 \nL 984.233734 284.406083 \nL 988.754881 288.063193 \nL 993.276029 291.613972 \nL 997.797176 295.054916 \nL 1002.318323 298.38263 \nL 1006.83947 301.59383 \nL 1011.360618 304.685345 \nL 1015.881765 307.654126 \nL 1020.402912 310.497243 \nL 1024.92406 313.211889 \nL 1029.445207 315.795386 \nL 1033.966354 318.245184 \nL 1038.487502 320.558865 \nL 1043.008649 322.734146 \nL 1047.529796 324.768881 \nL 1052.050943 326.661062 \nL 1056.572091 328.40882 \nL 1061.093238 330.010431 \nL 1065.614385 331.464315 \nL 1070.135533 332.769037 \nL 1074.65668 333.923308 \nL 1079.177827 334.925991 \nL 1083.698975 335.776096 \nL 1088.220122 336.472783 \nL 1092.741269 337.015364 \nL 1097.262416 337.403306 \n\" style=\"fill:none;stroke:#1f77b4;stroke-linecap:square;stroke-width:1.5;\"/>\n   </g>\n   <g id=\"patch_9\">\n    <path d=\"M 627.289154 353.127273 \nL 627.289154 7.2 \n\" style=\"fill:none;stroke:#000000;stroke-linecap:square;stroke-linejoin:miter;stroke-width:0.8;\"/>\n   </g>\n   <g id=\"patch_10\">\n    <path d=\"M 1119.642096 353.127273 \nL 1119.642096 7.2 \n\" style=\"fill:none;stroke:#000000;stroke-linecap:square;stroke-linejoin:miter;stroke-width:0.8;\"/>\n   </g>\n   <g id=\"patch_11\">\n    <path d=\"M 627.289154 353.127273 \nL 1119.642096 353.127273 \n\" style=\"fill:none;stroke:#000000;stroke-linecap:square;stroke-linejoin:miter;stroke-width:0.8;\"/>\n   </g>\n   <g id=\"patch_12\">\n    <path d=\"M 627.289154 7.2 \nL 1119.642096 7.2 \n\" style=\"fill:none;stroke:#000000;stroke-linecap:square;stroke-linejoin:miter;stroke-width:0.8;\"/>\n   </g>\n   <g id=\"legend_2\">\n    <g id=\"patch_13\">\n     <path d=\"M 880.754596 30.15625 \nL 1112.642096 30.15625 \nQ 1114.642096 30.15625 1114.642096 28.15625 \nL 1114.642096 14.2 \nQ 1114.642096 12.2 1112.642096 12.2 \nL 880.754596 12.2 \nQ 878.754596 12.2 878.754596 14.2 \nL 878.754596 28.15625 \nQ 878.754596 30.15625 880.754596 30.15625 \nz\n\" style=\"fill:#ffffff;opacity:0.8;stroke:#cccccc;stroke-linejoin:miter;\"/>\n    </g>\n    <g id=\"line2d_34\">\n     <path d=\"M 882.754596 20.298437 \nL 902.754596 20.298437 \n\" style=\"fill:none;stroke:#1f77b4;stroke-linecap:square;stroke-width:1.5;\"/>\n    </g>\n    <g id=\"line2d_35\"/>\n    <g id=\"text_29\">\n     <!-- hyperparameters/learning_rate = 0.003 -->\n     <defs>\n      <path d=\"M 54.890625 33.015625 \nL 54.890625 0 \nL 45.90625 0 \nL 45.90625 32.71875 \nQ 45.90625 40.484375 42.875 44.328125 \nQ 39.84375 48.1875 33.796875 48.1875 \nQ 26.515625 48.1875 22.3125 43.546875 \nQ 18.109375 38.921875 18.109375 30.90625 \nL 18.109375 0 \nL 9.078125 0 \nL 9.078125 75.984375 \nL 18.109375 75.984375 \nL 18.109375 46.1875 \nQ 21.34375 51.125 25.703125 53.5625 \nQ 30.078125 56 35.796875 56 \nQ 45.21875 56 50.046875 50.171875 \nQ 54.890625 44.34375 54.890625 33.015625 \nz\n\" id=\"DejaVuSans-104\"/>\n      <path d=\"M 32.171875 -5.078125 \nQ 28.375 -14.84375 24.75 -17.8125 \nQ 21.140625 -20.796875 15.09375 -20.796875 \nL 7.90625 -20.796875 \nL 7.90625 -13.28125 \nL 13.1875 -13.28125 \nQ 16.890625 -13.28125 18.9375 -11.515625 \nQ 21 -9.765625 23.484375 -3.21875 \nL 25.09375 0.875 \nL 2.984375 54.6875 \nL 12.5 54.6875 \nL 29.59375 11.921875 \nL 46.6875 54.6875 \nL 56.203125 54.6875 \nz\n\" id=\"DejaVuSans-121\"/>\n      <path d=\"M 18.109375 8.203125 \nL 18.109375 -20.796875 \nL 9.078125 -20.796875 \nL 9.078125 54.6875 \nL 18.109375 54.6875 \nL 18.109375 46.390625 \nQ 20.953125 51.265625 25.265625 53.625 \nQ 29.59375 56 35.59375 56 \nQ 45.5625 56 51.78125 48.09375 \nQ 58.015625 40.1875 58.015625 27.296875 \nQ 58.015625 14.40625 51.78125 6.484375 \nQ 45.5625 -1.421875 35.59375 -1.421875 \nQ 29.59375 -1.421875 25.265625 0.953125 \nQ 20.953125 3.328125 18.109375 8.203125 \nz\nM 48.6875 27.296875 \nQ 48.6875 37.203125 44.609375 42.84375 \nQ 40.53125 48.484375 33.40625 48.484375 \nQ 26.265625 48.484375 22.1875 42.84375 \nQ 18.109375 37.203125 18.109375 27.296875 \nQ 18.109375 17.390625 22.1875 11.75 \nQ 26.265625 6.109375 33.40625 6.109375 \nQ 40.53125 6.109375 44.609375 11.75 \nQ 48.6875 17.390625 48.6875 27.296875 \nz\n\" id=\"DejaVuSans-112\"/>\n      <path d=\"M 56.203125 29.59375 \nL 56.203125 25.203125 \nL 14.890625 25.203125 \nQ 15.484375 15.921875 20.484375 11.0625 \nQ 25.484375 6.203125 34.421875 6.203125 \nQ 39.59375 6.203125 44.453125 7.46875 \nQ 49.3125 8.734375 54.109375 11.28125 \nL 54.109375 2.78125 \nQ 49.265625 0.734375 44.1875 -0.34375 \nQ 39.109375 -1.421875 33.890625 -1.421875 \nQ 20.796875 -1.421875 13.15625 6.1875 \nQ 5.515625 13.8125 5.515625 26.8125 \nQ 5.515625 40.234375 12.765625 48.109375 \nQ 20.015625 56 32.328125 56 \nQ 43.359375 56 49.78125 48.890625 \nQ 56.203125 41.796875 56.203125 29.59375 \nz\nM 47.21875 32.234375 \nQ 47.125 39.59375 43.09375 43.984375 \nQ 39.0625 48.390625 32.421875 48.390625 \nQ 24.90625 48.390625 20.390625 44.140625 \nQ 15.875 39.890625 15.1875 32.171875 \nz\n\" id=\"DejaVuSans-101\"/>\n      <path d=\"M 41.109375 46.296875 \nQ 39.59375 47.171875 37.8125 47.578125 \nQ 36.03125 48 33.890625 48 \nQ 26.265625 48 22.1875 43.046875 \nQ 18.109375 38.09375 18.109375 28.8125 \nL 18.109375 0 \nL 9.078125 0 \nL 9.078125 54.6875 \nL 18.109375 54.6875 \nL 18.109375 46.1875 \nQ 20.953125 51.171875 25.484375 53.578125 \nQ 30.03125 56 36.53125 56 \nQ 37.453125 56 38.578125 55.875 \nQ 39.703125 55.765625 41.0625 55.515625 \nz\n\" id=\"DejaVuSans-114\"/>\n      <path d=\"M 52 44.1875 \nQ 55.375 50.25 60.0625 53.125 \nQ 64.75 56 71.09375 56 \nQ 79.640625 56 84.28125 50.015625 \nQ 88.921875 44.046875 88.921875 33.015625 \nL 88.921875 0 \nL 79.890625 0 \nL 79.890625 32.71875 \nQ 79.890625 40.578125 77.09375 44.375 \nQ 74.3125 48.1875 68.609375 48.1875 \nQ 61.625 48.1875 57.5625 43.546875 \nQ 53.515625 38.921875 53.515625 30.90625 \nL 53.515625 0 \nL 44.484375 0 \nL 44.484375 32.71875 \nQ 44.484375 40.625 41.703125 44.40625 \nQ 38.921875 48.1875 33.109375 48.1875 \nQ 26.21875 48.1875 22.15625 43.53125 \nQ 18.109375 38.875 18.109375 30.90625 \nL 18.109375 0 \nL 9.078125 0 \nL 9.078125 54.6875 \nL 18.109375 54.6875 \nL 18.109375 46.1875 \nQ 21.1875 51.21875 25.484375 53.609375 \nQ 29.78125 56 35.6875 56 \nQ 41.65625 56 45.828125 52.96875 \nQ 50 49.953125 52 44.1875 \nz\n\" id=\"DejaVuSans-109\"/>\n      <path d=\"M 18.3125 70.21875 \nL 18.3125 54.6875 \nL 36.8125 54.6875 \nL 36.8125 47.703125 \nL 18.3125 47.703125 \nL 18.3125 18.015625 \nQ 18.3125 11.328125 20.140625 9.421875 \nQ 21.96875 7.515625 27.59375 7.515625 \nL 36.8125 7.515625 \nL 36.8125 0 \nL 27.59375 0 \nQ 17.1875 0 13.234375 3.875 \nQ 9.28125 7.765625 9.28125 18.015625 \nL 9.28125 47.703125 \nL 2.6875 47.703125 \nL 2.6875 54.6875 \nL 9.28125 54.6875 \nL 9.28125 70.21875 \nz\n\" id=\"DejaVuSans-116\"/>\n      <path d=\"M 44.28125 53.078125 \nL 44.28125 44.578125 \nQ 40.484375 46.53125 36.375 47.5 \nQ 32.28125 48.484375 27.875 48.484375 \nQ 21.1875 48.484375 17.84375 46.4375 \nQ 14.5 44.390625 14.5 40.28125 \nQ 14.5 37.15625 16.890625 35.375 \nQ 19.28125 33.59375 26.515625 31.984375 \nL 29.59375 31.296875 \nQ 39.15625 29.25 43.1875 25.515625 \nQ 47.21875 21.78125 47.21875 15.09375 \nQ 47.21875 7.46875 41.1875 3.015625 \nQ 35.15625 -1.421875 24.609375 -1.421875 \nQ 20.21875 -1.421875 15.453125 -0.5625 \nQ 10.6875 0.296875 5.421875 2 \nL 5.421875 11.28125 \nQ 10.40625 8.6875 15.234375 7.390625 \nQ 20.0625 6.109375 24.8125 6.109375 \nQ 31.15625 6.109375 34.5625 8.28125 \nQ 37.984375 10.453125 37.984375 14.40625 \nQ 37.984375 18.0625 35.515625 20.015625 \nQ 33.0625 21.96875 24.703125 23.78125 \nL 21.578125 24.515625 \nQ 13.234375 26.265625 9.515625 29.90625 \nQ 5.8125 33.546875 5.8125 39.890625 \nQ 5.8125 47.609375 11.28125 51.796875 \nQ 16.75 56 26.8125 56 \nQ 31.78125 56 36.171875 55.265625 \nQ 40.578125 54.546875 44.28125 53.078125 \nz\n\" id=\"DejaVuSans-115\"/>\n      <path d=\"M 54.890625 33.015625 \nL 54.890625 0 \nL 45.90625 0 \nL 45.90625 32.71875 \nQ 45.90625 40.484375 42.875 44.328125 \nQ 39.84375 48.1875 33.796875 48.1875 \nQ 26.515625 48.1875 22.3125 43.546875 \nQ 18.109375 38.921875 18.109375 30.90625 \nL 18.109375 0 \nL 9.078125 0 \nL 9.078125 54.6875 \nL 18.109375 54.6875 \nL 18.109375 46.1875 \nQ 21.34375 51.125 25.703125 53.5625 \nQ 30.078125 56 35.796875 56 \nQ 45.21875 56 50.046875 50.171875 \nQ 54.890625 44.34375 54.890625 33.015625 \nz\n\" id=\"DejaVuSans-110\"/>\n      <path d=\"M 9.421875 54.6875 \nL 18.40625 54.6875 \nL 18.40625 0 \nL 9.421875 0 \nz\nM 9.421875 75.984375 \nL 18.40625 75.984375 \nL 18.40625 64.59375 \nL 9.421875 64.59375 \nz\n\" id=\"DejaVuSans-105\"/>\n      <path d=\"M 45.40625 27.984375 \nQ 45.40625 37.75 41.375 43.109375 \nQ 37.359375 48.484375 30.078125 48.484375 \nQ 22.859375 48.484375 18.828125 43.109375 \nQ 14.796875 37.75 14.796875 27.984375 \nQ 14.796875 18.265625 18.828125 12.890625 \nQ 22.859375 7.515625 30.078125 7.515625 \nQ 37.359375 7.515625 41.375 12.890625 \nQ 45.40625 18.265625 45.40625 27.984375 \nz\nM 54.390625 6.78125 \nQ 54.390625 -7.171875 48.1875 -13.984375 \nQ 42 -20.796875 29.203125 -20.796875 \nQ 24.46875 -20.796875 20.265625 -20.09375 \nQ 16.0625 -19.390625 12.109375 -17.921875 \nL 12.109375 -9.1875 \nQ 16.0625 -11.328125 19.921875 -12.34375 \nQ 23.78125 -13.375 27.78125 -13.375 \nQ 36.625 -13.375 41.015625 -8.765625 \nQ 45.40625 -4.15625 45.40625 5.171875 \nL 45.40625 9.625 \nQ 42.625 4.78125 38.28125 2.390625 \nQ 33.9375 0 27.875 0 \nQ 17.828125 0 11.671875 7.65625 \nQ 5.515625 15.328125 5.515625 27.984375 \nQ 5.515625 40.671875 11.671875 48.328125 \nQ 17.828125 56 27.875 56 \nQ 33.9375 56 38.28125 53.609375 \nQ 42.625 51.21875 45.40625 46.390625 \nL 45.40625 54.6875 \nL 54.390625 54.6875 \nz\n\" id=\"DejaVuSans-103\"/>\n      <path d=\"M 50.984375 -16.609375 \nL 50.984375 -23.578125 \nL -0.984375 -23.578125 \nL -0.984375 -16.609375 \nz\n\" id=\"DejaVuSans-95\"/>\n     </defs>\n     <g transform=\"translate(910.754596 23.798437)scale(0.1 -0.1)\">\n      <use xlink:href=\"#DejaVuSans-104\"/>\n      <use x=\"63.378906\" xlink:href=\"#DejaVuSans-121\"/>\n      <use x=\"122.558594\" xlink:href=\"#DejaVuSans-112\"/>\n      <use x=\"186.035156\" xlink:href=\"#DejaVuSans-101\"/>\n      <use x=\"247.558594\" xlink:href=\"#DejaVuSans-114\"/>\n      <use x=\"288.671875\" xlink:href=\"#DejaVuSans-112\"/>\n      <use x=\"352.148438\" xlink:href=\"#DejaVuSans-97\"/>\n      <use x=\"413.427734\" xlink:href=\"#DejaVuSans-114\"/>\n      <use x=\"454.541016\" xlink:href=\"#DejaVuSans-97\"/>\n      <use x=\"515.820312\" xlink:href=\"#DejaVuSans-109\"/>\n      <use x=\"613.232422\" xlink:href=\"#DejaVuSans-101\"/>\n      <use x=\"674.755859\" xlink:href=\"#DejaVuSans-116\"/>\n      <use x=\"713.964844\" xlink:href=\"#DejaVuSans-101\"/>\n      <use x=\"775.488281\" xlink:href=\"#DejaVuSans-114\"/>\n      <use x=\"816.601562\" xlink:href=\"#DejaVuSans-115\"/>\n      <use x=\"868.701172\" xlink:href=\"#DejaVuSans-47\"/>\n      <use x=\"902.392578\" xlink:href=\"#DejaVuSans-108\"/>\n      <use x=\"930.175781\" xlink:href=\"#DejaVuSans-101\"/>\n      <use x=\"991.699219\" xlink:href=\"#DejaVuSans-97\"/>\n      <use x=\"1052.978516\" xlink:href=\"#DejaVuSans-114\"/>\n      <use x=\"1094.076172\" xlink:href=\"#DejaVuSans-110\"/>\n      <use x=\"1157.455078\" xlink:href=\"#DejaVuSans-105\"/>\n      <use x=\"1185.238281\" xlink:href=\"#DejaVuSans-110\"/>\n      <use x=\"1248.617188\" xlink:href=\"#DejaVuSans-103\"/>\n      <use x=\"1312.09375\" xlink:href=\"#DejaVuSans-95\"/>\n      <use x=\"1362.09375\" xlink:href=\"#DejaVuSans-114\"/>\n      <use x=\"1403.207031\" xlink:href=\"#DejaVuSans-97\"/>\n      <use x=\"1464.486328\" xlink:href=\"#DejaVuSans-116\"/>\n      <use x=\"1503.695312\" xlink:href=\"#DejaVuSans-101\"/>\n      <use x=\"1565.21875\" xlink:href=\"#DejaVuSans-32\"/>\n      <use x=\"1597.005859\" xlink:href=\"#DejaVuSans-61\"/>\n      <use x=\"1680.794922\" xlink:href=\"#DejaVuSans-32\"/>\n      <use x=\"1712.582031\" xlink:href=\"#DejaVuSans-48\"/>\n      <use x=\"1776.205078\" xlink:href=\"#DejaVuSans-46\"/>\n      <use x=\"1807.992188\" xlink:href=\"#DejaVuSans-48\"/>\n      <use x=\"1871.615234\" xlink:href=\"#DejaVuSans-48\"/>\n      <use x=\"1935.238281\" xlink:href=\"#DejaVuSans-51\"/>\n     </g>\n    </g>\n   </g>\n  </g>\n  <g id=\"axes_3\">\n   <g id=\"patch_14\">\n    <path d=\"M 1218.112684 353.127273 \nL 1710.465625 353.127273 \nL 1710.465625 7.2 \nL 1218.112684 7.2 \nz\n\" style=\"fill:#ffffff;\"/>\n   </g>\n   <g id=\"matplotlib.axis_5\">\n    <g id=\"xtick_13\">\n     <g id=\"line2d_36\">\n      <g>\n       <use style=\"stroke:#000000;stroke-width:0.8;\" x=\"1240.492363\" xlink:href=\"#m5b0bd79a71\" y=\"353.127273\"/>\n      </g>\n     </g>\n     <g id=\"text_30\">\n      <!-- 0 -->\n      <g transform=\"translate(1237.311113 367.72571)scale(0.1 -0.1)\">\n       <use xlink:href=\"#DejaVuSans-48\"/>\n      </g>\n     </g>\n    </g>\n    <g id=\"xtick_14\">\n     <g id=\"line2d_37\">\n      <g>\n       <use style=\"stroke:#000000;stroke-width:0.8;\" x=\"1330.915309\" xlink:href=\"#m5b0bd79a71\" y=\"353.127273\"/>\n      </g>\n     </g>\n     <g id=\"text_31\">\n      <!-- 20 -->\n      <g transform=\"translate(1324.552809 367.72571)scale(0.1 -0.1)\">\n       <use xlink:href=\"#DejaVuSans-50\"/>\n       <use x=\"63.623047\" xlink:href=\"#DejaVuSans-48\"/>\n      </g>\n     </g>\n    </g>\n    <g id=\"xtick_15\">\n     <g id=\"line2d_38\">\n      <g>\n       <use style=\"stroke:#000000;stroke-width:0.8;\" x=\"1421.338255\" xlink:href=\"#m5b0bd79a71\" y=\"353.127273\"/>\n      </g>\n     </g>\n     <g id=\"text_32\">\n      <!-- 40 -->\n      <g transform=\"translate(1414.975755 367.72571)scale(0.1 -0.1)\">\n       <use xlink:href=\"#DejaVuSans-52\"/>\n       <use x=\"63.623047\" xlink:href=\"#DejaVuSans-48\"/>\n      </g>\n     </g>\n    </g>\n    <g id=\"xtick_16\">\n     <g id=\"line2d_39\">\n      <g>\n       <use style=\"stroke:#000000;stroke-width:0.8;\" x=\"1511.761201\" xlink:href=\"#m5b0bd79a71\" y=\"353.127273\"/>\n      </g>\n     </g>\n     <g id=\"text_33\">\n      <!-- 60 -->\n      <g transform=\"translate(1505.398701 367.72571)scale(0.1 -0.1)\">\n       <use xlink:href=\"#DejaVuSans-54\"/>\n       <use x=\"63.623047\" xlink:href=\"#DejaVuSans-48\"/>\n      </g>\n     </g>\n    </g>\n    <g id=\"xtick_17\">\n     <g id=\"line2d_40\">\n      <g>\n       <use style=\"stroke:#000000;stroke-width:0.8;\" x=\"1602.184147\" xlink:href=\"#m5b0bd79a71\" y=\"353.127273\"/>\n      </g>\n     </g>\n     <g id=\"text_34\">\n      <!-- 80 -->\n      <g transform=\"translate(1595.821647 367.72571)scale(0.1 -0.1)\">\n       <use xlink:href=\"#DejaVuSans-56\"/>\n       <use x=\"63.623047\" xlink:href=\"#DejaVuSans-48\"/>\n      </g>\n     </g>\n    </g>\n    <g id=\"xtick_18\">\n     <g id=\"line2d_41\">\n      <g>\n       <use style=\"stroke:#000000;stroke-width:0.8;\" x=\"1692.607093\" xlink:href=\"#m5b0bd79a71\" y=\"353.127273\"/>\n      </g>\n     </g>\n     <g id=\"text_35\">\n      <!-- 100 -->\n      <g transform=\"translate(1683.063343 367.72571)scale(0.1 -0.1)\">\n       <use xlink:href=\"#DejaVuSans-49\"/>\n       <use x=\"63.623047\" xlink:href=\"#DejaVuSans-48\"/>\n       <use x=\"127.246094\" xlink:href=\"#DejaVuSans-48\"/>\n      </g>\n     </g>\n    </g>\n   </g>\n   <g id=\"matplotlib.axis_6\">\n    <g id=\"ytick_15\">\n     <g id=\"line2d_42\">\n      <g>\n       <use style=\"stroke:#000000;stroke-width:0.8;\" x=\"1218.112684\" xlink:href=\"#m945d1a75ce\" y=\"337.159188\"/>\n      </g>\n     </g>\n     <g id=\"text_36\">\n      <!-- 0.84 -->\n      <g transform=\"translate(1188.847059 340.958406)scale(0.1 -0.1)\">\n       <use xlink:href=\"#DejaVuSans-48\"/>\n       <use x=\"63.623047\" xlink:href=\"#DejaVuSans-46\"/>\n       <use x=\"95.410156\" xlink:href=\"#DejaVuSans-56\"/>\n       <use x=\"159.033203\" xlink:href=\"#DejaVuSans-52\"/>\n      </g>\n     </g>\n    </g>\n    <g id=\"ytick_16\">\n     <g id=\"line2d_43\">\n      <g>\n       <use style=\"stroke:#000000;stroke-width:0.8;\" x=\"1218.112684\" xlink:href=\"#m945d1a75ce\" y=\"289.49241\"/>\n      </g>\n     </g>\n     <g id=\"text_37\">\n      <!-- 0.86 -->\n      <g transform=\"translate(1188.847059 293.291629)scale(0.1 -0.1)\">\n       <use xlink:href=\"#DejaVuSans-48\"/>\n       <use x=\"63.623047\" xlink:href=\"#DejaVuSans-46\"/>\n       <use x=\"95.410156\" xlink:href=\"#DejaVuSans-56\"/>\n       <use x=\"159.033203\" xlink:href=\"#DejaVuSans-54\"/>\n      </g>\n     </g>\n    </g>\n    <g id=\"ytick_17\">\n     <g id=\"line2d_44\">\n      <g>\n       <use style=\"stroke:#000000;stroke-width:0.8;\" x=\"1218.112684\" xlink:href=\"#m945d1a75ce\" y=\"241.825633\"/>\n      </g>\n     </g>\n     <g id=\"text_38\">\n      <!-- 0.88 -->\n      <g transform=\"translate(1188.847059 245.624852)scale(0.1 -0.1)\">\n       <use xlink:href=\"#DejaVuSans-48\"/>\n       <use x=\"63.623047\" xlink:href=\"#DejaVuSans-46\"/>\n       <use x=\"95.410156\" xlink:href=\"#DejaVuSans-56\"/>\n       <use x=\"159.033203\" xlink:href=\"#DejaVuSans-56\"/>\n      </g>\n     </g>\n    </g>\n    <g id=\"ytick_18\">\n     <g id=\"line2d_45\">\n      <g>\n       <use style=\"stroke:#000000;stroke-width:0.8;\" x=\"1218.112684\" xlink:href=\"#m945d1a75ce\" y=\"194.158856\"/>\n      </g>\n     </g>\n     <g id=\"text_39\">\n      <!-- 0.90 -->\n      <g transform=\"translate(1188.847059 197.958075)scale(0.1 -0.1)\">\n       <use xlink:href=\"#DejaVuSans-48\"/>\n       <use x=\"63.623047\" xlink:href=\"#DejaVuSans-46\"/>\n       <use x=\"95.410156\" xlink:href=\"#DejaVuSans-57\"/>\n       <use x=\"159.033203\" xlink:href=\"#DejaVuSans-48\"/>\n      </g>\n     </g>\n    </g>\n    <g id=\"ytick_19\">\n     <g id=\"line2d_46\">\n      <g>\n       <use style=\"stroke:#000000;stroke-width:0.8;\" x=\"1218.112684\" xlink:href=\"#m945d1a75ce\" y=\"146.492079\"/>\n      </g>\n     </g>\n     <g id=\"text_40\">\n      <!-- 0.92 -->\n      <g transform=\"translate(1188.847059 150.291298)scale(0.1 -0.1)\">\n       <use xlink:href=\"#DejaVuSans-48\"/>\n       <use x=\"63.623047\" xlink:href=\"#DejaVuSans-46\"/>\n       <use x=\"95.410156\" xlink:href=\"#DejaVuSans-57\"/>\n       <use x=\"159.033203\" xlink:href=\"#DejaVuSans-50\"/>\n      </g>\n     </g>\n    </g>\n    <g id=\"ytick_20\">\n     <g id=\"line2d_47\">\n      <g>\n       <use style=\"stroke:#000000;stroke-width:0.8;\" x=\"1218.112684\" xlink:href=\"#m945d1a75ce\" y=\"98.825302\"/>\n      </g>\n     </g>\n     <g id=\"text_41\">\n      <!-- 0.94 -->\n      <g transform=\"translate(1188.847059 102.624521)scale(0.1 -0.1)\">\n       <use xlink:href=\"#DejaVuSans-48\"/>\n       <use x=\"63.623047\" xlink:href=\"#DejaVuSans-46\"/>\n       <use x=\"95.410156\" xlink:href=\"#DejaVuSans-57\"/>\n       <use x=\"159.033203\" xlink:href=\"#DejaVuSans-52\"/>\n      </g>\n     </g>\n    </g>\n    <g id=\"ytick_21\">\n     <g id=\"line2d_48\">\n      <g>\n       <use style=\"stroke:#000000;stroke-width:0.8;\" x=\"1218.112684\" xlink:href=\"#m945d1a75ce\" y=\"51.158525\"/>\n      </g>\n     </g>\n     <g id=\"text_42\">\n      <!-- 0.96 -->\n      <g transform=\"translate(1188.847059 54.957743)scale(0.1 -0.1)\">\n       <use xlink:href=\"#DejaVuSans-48\"/>\n       <use x=\"63.623047\" xlink:href=\"#DejaVuSans-46\"/>\n       <use x=\"95.410156\" xlink:href=\"#DejaVuSans-57\"/>\n       <use x=\"159.033203\" xlink:href=\"#DejaVuSans-54\"/>\n      </g>\n     </g>\n    </g>\n   </g>\n   <g id=\"line2d_49\">\n    <path clip-path=\"url(#p4da0b39363)\" d=\"M 1240.492363 337.403306 \nL 1245.01351 143.753728 \nL 1249.534658 143.753728 \nL 1254.055805 91.676804 \nL 1258.576952 91.676804 \nL 1263.098099 86.686446 \nL 1267.619247 86.686446 \nL 1272.140394 86.686446 \nL 1276.661541 56.58562 \nL 1281.182689 56.58562 \nL 1285.703836 56.58562 \nL 1290.224983 56.58562 \nL 1294.746131 56.58562 \nL 1299.267278 56.58562 \nL 1303.788425 56.58562 \nL 1308.309572 45.360334 \nL 1312.83072 45.360334 \nL 1317.351867 45.360334 \nL 1321.873014 45.360334 \nL 1326.394162 45.360334 \nL 1330.915309 40.369976 \nL 1335.436456 40.369976 \nL 1339.957604 40.369976 \nL 1344.478751 40.369976 \nL 1348.999898 40.369976 \nL 1353.521046 40.369976 \nL 1358.042193 40.369976 \nL 1362.56334 40.369976 \nL 1367.084487 40.369976 \nL 1371.605635 39.162198 \nL 1376.126782 37.258336 \nL 1380.647929 37.008172 \nL 1385.169077 37.008172 \nL 1389.690224 37.008172 \nL 1394.211371 37.008172 \nL 1398.732519 37.008172 \nL 1403.253666 35.106867 \nL 1407.774813 35.106867 \nL 1412.29596 35.106867 \nL 1416.817108 27.451073 \nL 1421.338255 27.451073 \nL 1425.859402 27.451073 \nL 1430.38055 27.451073 \nL 1434.901697 27.451073 \nL 1439.422844 27.451073 \nL 1443.943992 27.451073 \nL 1448.465139 27.451073 \nL 1452.986286 27.451073 \nL 1457.507433 27.451073 \nL 1462.028581 27.451073 \nL 1466.549728 27.451073 \nL 1471.070875 27.451073 \nL 1475.592023 27.451073 \nL 1480.11317 27.451073 \nL 1484.634317 25.066771 \nL 1489.155465 25.066771 \nL 1493.676612 25.066771 \nL 1498.197759 25.066771 \nL 1502.718906 25.066771 \nL 1507.240054 25.066771 \nL 1511.761201 25.066771 \nL 1516.282348 25.066771 \nL 1520.803496 25.066771 \nL 1525.324643 25.066771 \nL 1529.84579 25.066771 \nL 1534.366938 25.066771 \nL 1538.888085 25.066771 \nL 1543.409232 25.066771 \nL 1547.930379 25.066771 \nL 1552.451527 25.066771 \nL 1556.972674 25.066771 \nL 1561.493821 25.066771 \nL 1566.014969 25.066771 \nL 1570.536116 25.066771 \nL 1575.057263 25.066771 \nL 1579.578411 24.845018 \nL 1584.099558 24.845018 \nL 1588.620705 24.825272 \nL 1593.141853 24.825272 \nL 1597.663 24.825272 \nL 1602.184147 24.825272 \nL 1606.705294 24.825272 \nL 1611.226442 24.825272 \nL 1615.747589 23.878739 \nL 1620.268736 23.878739 \nL 1624.789884 23.63724 \nL 1629.311031 23.63724 \nL 1633.832178 23.63724 \nL 1638.353326 23.63724 \nL 1642.874473 23.63724 \nL 1647.39562 23.63724 \nL 1651.916767 23.63724 \nL 1656.437915 23.63724 \nL 1660.959062 23.63724 \nL 1665.480209 23.63724 \nL 1670.001357 23.63724 \nL 1674.522504 23.63724 \nL 1679.043651 23.63724 \nL 1683.564799 22.923967 \nL 1688.085946 22.923967 \n\" style=\"fill:none;stroke:#1f77b4;stroke-linecap:square;stroke-width:1.5;\"/>\n   </g>\n   <g id=\"patch_15\">\n    <path d=\"M 1218.112684 353.127273 \nL 1218.112684 7.2 \n\" style=\"fill:none;stroke:#000000;stroke-linecap:square;stroke-linejoin:miter;stroke-width:0.8;\"/>\n   </g>\n   <g id=\"patch_16\">\n    <path d=\"M 1710.465625 353.127273 \nL 1710.465625 7.2 \n\" style=\"fill:none;stroke:#000000;stroke-linecap:square;stroke-linejoin:miter;stroke-width:0.8;\"/>\n   </g>\n   <g id=\"patch_17\">\n    <path d=\"M 1218.112684 353.127273 \nL 1710.465625 353.127273 \n\" style=\"fill:none;stroke:#000000;stroke-linecap:square;stroke-linejoin:miter;stroke-width:0.8;\"/>\n   </g>\n   <g id=\"patch_18\">\n    <path d=\"M 1218.112684 7.2 \nL 1710.465625 7.2 \n\" style=\"fill:none;stroke:#000000;stroke-linecap:square;stroke-linejoin:miter;stroke-width:0.8;\"/>\n   </g>\n   <g id=\"legend_3\">\n    <g id=\"patch_19\">\n     <path d=\"M 1503.107813 348.127273 \nL 1703.465625 348.127273 \nQ 1705.465625 348.127273 1705.465625 346.127273 \nL 1705.465625 332.449148 \nQ 1705.465625 330.449148 1703.465625 330.449148 \nL 1503.107813 330.449148 \nQ 1501.107813 330.449148 1501.107813 332.449148 \nL 1501.107813 346.127273 \nQ 1501.107813 348.127273 1503.107813 348.127273 \nz\n\" style=\"fill:#ffffff;opacity:0.8;stroke:#cccccc;stroke-linejoin:miter;\"/>\n    </g>\n    <g id=\"line2d_50\">\n     <path d=\"M 1505.107813 338.547585 \nL 1525.107813 338.547585 \n\" style=\"fill:none;stroke:#1f77b4;stroke-linecap:square;stroke-width:1.5;\"/>\n    </g>\n    <g id=\"line2d_51\"/>\n    <g id=\"text_43\">\n     <!-- max/acc = 0.9718466401100159 -->\n     <defs>\n      <path d=\"M 54.890625 54.6875 \nL 35.109375 28.078125 \nL 55.90625 0 \nL 45.3125 0 \nL 29.390625 21.484375 \nL 13.484375 0 \nL 2.875 0 \nL 24.125 28.609375 \nL 4.6875 54.6875 \nL 15.28125 54.6875 \nL 29.78125 35.203125 \nL 44.28125 54.6875 \nz\n\" id=\"DejaVuSans-120\"/>\n     </defs>\n     <g transform=\"translate(1533.107813 342.047585)scale(0.1 -0.1)\">\n      <use xlink:href=\"#DejaVuSans-109\"/>\n      <use x=\"97.412109\" xlink:href=\"#DejaVuSans-97\"/>\n      <use x=\"158.691406\" xlink:href=\"#DejaVuSans-120\"/>\n      <use x=\"217.871094\" xlink:href=\"#DejaVuSans-47\"/>\n      <use x=\"251.5625\" xlink:href=\"#DejaVuSans-97\"/>\n      <use x=\"312.841797\" xlink:href=\"#DejaVuSans-99\"/>\n      <use x=\"367.822266\" xlink:href=\"#DejaVuSans-99\"/>\n      <use x=\"422.802734\" xlink:href=\"#DejaVuSans-32\"/>\n      <use x=\"454.589844\" xlink:href=\"#DejaVuSans-61\"/>\n      <use x=\"538.378906\" xlink:href=\"#DejaVuSans-32\"/>\n      <use x=\"570.166016\" xlink:href=\"#DejaVuSans-48\"/>\n      <use x=\"633.789062\" xlink:href=\"#DejaVuSans-46\"/>\n      <use x=\"665.576172\" xlink:href=\"#DejaVuSans-57\"/>\n      <use x=\"729.199219\" xlink:href=\"#DejaVuSans-55\"/>\n      <use x=\"792.822266\" xlink:href=\"#DejaVuSans-49\"/>\n      <use x=\"856.445312\" xlink:href=\"#DejaVuSans-56\"/>\n      <use x=\"920.068359\" xlink:href=\"#DejaVuSans-52\"/>\n      <use x=\"983.691406\" xlink:href=\"#DejaVuSans-54\"/>\n      <use x=\"1047.314453\" xlink:href=\"#DejaVuSans-54\"/>\n      <use x=\"1110.9375\" xlink:href=\"#DejaVuSans-52\"/>\n      <use x=\"1174.560547\" xlink:href=\"#DejaVuSans-48\"/>\n      <use x=\"1238.183594\" xlink:href=\"#DejaVuSans-49\"/>\n      <use x=\"1301.806641\" xlink:href=\"#DejaVuSans-49\"/>\n      <use x=\"1365.429688\" xlink:href=\"#DejaVuSans-48\"/>\n      <use x=\"1429.052734\" xlink:href=\"#DejaVuSans-48\"/>\n      <use x=\"1492.675781\" xlink:href=\"#DejaVuSans-49\"/>\n      <use x=\"1556.298828\" xlink:href=\"#DejaVuSans-53\"/>\n      <use x=\"1619.921875\" xlink:href=\"#DejaVuSans-57\"/>\n     </g>\n    </g>\n   </g>\n  </g>\n </g>\n <defs>\n  <clipPath id=\"p3f7e81157e\">\n   <rect height=\"345.927273\" width=\"492.352941\" x=\"36.465625\" y=\"7.2\"/>\n  </clipPath>\n  <clipPath id=\"p1d205afb8a\">\n   <rect height=\"345.927273\" width=\"492.352941\" x=\"627.289154\" y=\"7.2\"/>\n  </clipPath>\n  <clipPath id=\"p4da0b39363\">\n   <rect height=\"345.927273\" width=\"492.352941\" x=\"1218.112684\" y=\"7.2\"/>\n  </clipPath>\n </defs>\n</svg>\n",
      "image/png": "[encoded data removed]"
     },
     "metadata": {
      "needs_background": "light"
     }
    }
   ],
   "source": [
    "import matplotlib.pyplot as plt\n",
    "import numpy as np\n",
    "\n",
    "T=trainer.tensorboard.history\n",
    "\n",
    "x = list(range(trainer.checkpoint.epoch_counter))\n",
    "sm = lambda y, w: np.convolve(y, np.ones(w)/w, mode='same')\n",
    "pp = lambda k: plt.plot(x, T[k], label=f\"{k} = {max(T[k])}\")\n",
    "spp = lambda k: plt.plot(x, sm(T[k], 5), label=f\"{k} = {max(T[k])}\")\n",
    "\n",
    "\n",
    "plt.figure(0, figsize=(30, 14))\n",
    "plt.subplot(2, 3, 1)\n",
    "pp(\"val/acc\")\n",
    "pp(\"val/f1\")\n",
    "plt.legend()\n",
    "\n",
    "plt.subplot(2, 3, 2)\n",
    "pp(\"hyperparameters/learning_rate\")\n",
    "plt.legend()\n",
    "\n",
    "plt.subplot(2, 3, 3)\n",
    "pp(\"max/acc\")\n",
    "plt.legend()\n",
    "\n",
    "plt.show()"
   ]
  },
  {
   "source": [
    "# checking some stuf"
   ],
   "cell_type": "markdown",
   "metadata": {}
  },
  {
   "cell_type": "code",
   "execution_count": 219,
   "metadata": {
    "tags": []
   },
   "outputs": [],
   "source": [
    "trainer.checkpoint.load_best()\n",
    "trainer.model.eval()\n",
    "\n",
    "nb_true_positive = torch.zeros((12,))\n",
    "nb_positive = torch.zeros((12,))\n",
    "\n",
    "with torch.set_grad_enabled(False):\n",
    "    for i, (X, y) in enumerate(trainer.test_loader):\n",
    "        X = X.cuda()\n",
    "        y = y.cuda()\n",
    "\n",
    "        logits = trainer.model(X)\n",
    "\n",
    "        pred = torch.argmax(logits, dim=1)\n",
    "        pred_one_hot = F.one_hot(pred, num_classes=12)\n",
    "        y_one_hot = F.one_hot(y, num_classes=12)\n",
    "\n",
    "        nb_true_positive += (pred_one_hot * y_one_hot).sum(dim=0).cpu()\n",
    "        nb_positive += y_one_hot.sum(dim=0).cpu()"
   ]
  },
  {
   "cell_type": "code",
   "execution_count": 228,
   "metadata": {},
   "outputs": [
    {
     "output_type": "execute_result",
     "data": {
      "text/plain": [
       "array([ 0,  1,  2,  3,  4,  5,  6,  7,  8,  9, 11])"
      ]
     },
     "metadata": {},
     "execution_count": 228
    }
   ],
   "source": [
    "np.unique(pred.cpu())"
   ]
  },
  {
   "cell_type": "code",
   "execution_count": 220,
   "metadata": {},
   "outputs": [
    {
     "output_type": "stream",
     "name": "stdout",
     "text": [
      "tensor([0.9761, 0.9432, 0.9529, 0.9064, 0.9757, 0.9545, 0.9453, 0.9293, 0.9279,\n        0.9830,    nan, 0.9817])\n"
     ]
    },
    {
     "output_type": "execute_result",
     "data": {
      "text/plain": [
       "{'yes': 0,\n",
       " 'no': 1,\n",
       " 'up': 2,\n",
       " 'down': 3,\n",
       " 'left': 4,\n",
       " 'right': 5,\n",
       " 'off': 6,\n",
       " 'on': 7,\n",
       " 'go': 8,\n",
       " 'stop': 9,\n",
       " 'silence': 10,\n",
       " '_background_noise_': 11,\n",
       " 'bed': 11,\n",
       " 'bird': 11,\n",
       " 'cat': 11,\n",
       " 'dog': 11,\n",
       " 'eight': 11,\n",
       " 'five': 11,\n",
       " 'follow': 11,\n",
       " 'forward': 11,\n",
       " 'four': 11,\n",
       " 'happy': 11,\n",
       " 'house': 11,\n",
       " 'learn': 11,\n",
       " 'marvin': 11,\n",
       " 'nine': 11,\n",
       " 'one': 11,\n",
       " 'seven': 11,\n",
       " 'sheila': 11,\n",
       " 'six': 11,\n",
       " 'three': 11,\n",
       " 'tree': 11,\n",
       " 'two': 11,\n",
       " 'visual': 11,\n",
       " 'wow': 11,\n",
       " 'zero': 11,\n",
       " 'backward': 11}"
      ]
     },
     "metadata": {},
     "execution_count": 220
    }
   ],
   "source": [
    "class_acc = nb_true_positive / nb_positive\n",
    "print(class_acc)\n",
    "\n",
    "trainer.test_loader.dataset.target_mapper"
   ]
  },
  {
   "cell_type": "code",
   "execution_count": 221,
   "metadata": {},
   "outputs": [
    {
     "output_type": "stream",
     "name": "stdout",
     "text": [
      "yes : 0.9761;\nno : 0.9432;\nup : 0.9529;\ndown : 0.9064;\nleft : 0.9757;\nright : 0.9545;\noff : 0.9453;\non : 0.9293;\ngo : 0.9279;\nstop : 0.9830;\nsilence : nan;\n_background_noise_ : 0.9817;\n"
     ]
    }
   ],
   "source": [
    "class_value = zip(list(trainer.test_loader.dataset.target_mapper.keys())[:12], class_acc)\n",
    "for k, v in class_value:\n",
    "    print(\"%s : %.4f;\" % (k, v))"
   ]
  },
  {
   "cell_type": "code",
   "execution_count": 222,
   "metadata": {},
   "outputs": [
    {
     "output_type": "stream",
     "name": "stdout",
     "text": [
      "yes;no;up;down;left;right;off;on;go;stop;silence;_background_noise_\n0.9761336445808411;0.9432098865509033;0.9529411792755127;0.9064039587974548;0.9757281541824341;0.9545454382896423;0.9452736377716064;0.9292929172515869;0.927860677242279;0.9829683899879456;nan;0.9816765189170837\n"
     ]
    }
   ],
   "source": [
    "class_value = zip(list(trainer.test_loader.dataset.target_mapper.keys())[:12], class_acc)\n",
    "class_acc = [c.item() for c in class_acc]\n",
    "\n",
    "print(\";\".join(list(trainer.test_loader.dataset.target_mapper.keys())[:12]))\n",
    "print(\";\".join(map(str, class_acc)))"
   ]
  },
  {
   "cell_type": "markdown",
   "metadata": {},
   "source": [
    "# ♫♪.ılılıll|̲̅̅●̲̅̅|̲̅̅=̲̅̅|̲̅̅●̲̅̅|llılılı.♫♪"
   ]
  },
  {
   "source": [
    "# Testing `fit` function from trainer."
   ],
   "cell_type": "markdown",
   "metadata": {}
  },
  {
   "source": [
    "from SSL.trainers import SupervisedTrainer\n",
    "\n",
    "training_params=dict(\n",
    "    dataset=args.dataset,\n",
    "\n",
    "    dataset_root = args.dataset_root,\n",
    "    supervised_ratio = args.supervised_ratio,\n",
    "    batch_size = args.batch_size,\n",
    "    train_folds = args.train_folds,\n",
    "    val_folds = args.val_folds,\n",
    "    learning_rate=args.learning_rate,\n",
    "    nb_epoch=args.nb_epoch,\n",
    "    seed=args.seed,\n",
    "\n",
    ")\n",
    "other_params = dict(\n",
    "    num_workers=0,\n",
    "    pin_memory=True,\n",
    "    verbose = 2,\n",
    ")\n",
    "\n",
    "trainer = SupervisedTrainer(\"cnn03\", \"esc10\")\n",
    "trainer.init_trainer(\n",
    "    training_params,\n",
    "    **other_params\n",
    "    \n",
    ")"
   ],
   "cell_type": "markdown",
   "metadata": {}
  },
  {
   "source": [
    "trainer.fit()"
   ],
   "cell_type": "markdown",
   "metadata": {}
  },
  {
   "source": [
    "# Cross validation"
   ],
   "cell_type": "markdown",
   "metadata": {}
  },
  {
   "source": [
    "trainer = SupervisedTrainer(\"wideresnet28_2\", \"esc10\")\n",
    "\n",
    "train_folds = [[1, 2, 3, 4],\n",
    "               [2, 3, 4, 5],\n",
    "               [3, 4, 5, 1],\n",
    "               [4, 5, 1, 2],\n",
    "               [5, 1, 2, 3]]\n",
    "val_folds = [[5], [1], [2], [3], [4]]\n",
    "\n",
    "for tf, vf in zip(train_folds, val_folds):\n",
    "    training_params[\"train_folds\"] = tf\n",
    "    training_params[\"val_folds\"] = vf\n",
    "\n",
    "    trainer.init_trainer(\n",
    "        training_params,\n",
    "        **other_params\n",
    "    )\n",
    "\n",
    "    trainer.fit()\n",
    "    trainer.close()"
   ],
   "cell_type": "markdown",
   "metadata": {
    "tags": [
     "outputPrepend"
    ]
   }
  },
  {
   "source": [
    "# Grid search seed"
   ],
   "cell_type": "markdown",
   "metadata": {}
  },
  {
   "source": [
    "import numpy as np\n",
    "seeds = np.random.randint(10000, size=(1))\n",
    "history = {}\n",
    "\n",
    "trainer = SupervisedTrainer(\"wideresnet28_2\", \"esc10\")\n",
    "\n",
    "train_folds = [1, 2, 3, 4]\n",
    "val_folds = [5]\n",
    "seeds = np.random\n",
    "\n",
    "for seed in seeds:\n",
    "    training_params[\"train_folds\"] = [1, 2, 3, 4]\n",
    "    training_params[\"val_folds\"] = [5]\n",
    "    training_params[\"seed\"] = seed\n",
    "\n",
    "    trainer.init_trainer(\n",
    "        training_params,\n",
    "        **other_params\n",
    "    )\n",
    "\n",
    "    trainer.fit()\n",
    "\n",
    "    history[seed] = trainer.maximum_tracker\n",
    "    trainer.close()"
   ],
   "cell_type": "markdown",
   "metadata": {}
  }
 ],
 "metadata": {
  "kernelspec": {
   "name": "python3",
   "display_name": "Python 3.8.0 64-bit ('dct': conda)",
   "metadata": {
    "interpreter": {
     "hash": "4213439f5b613b420c7569d9a47a12bf897408d7580af00afce4972bcc867ad9"
    }
   }
  },
  "language_info": {
   "codemirror_mode": {
    "name": "ipython",
    "version": 3
   },
   "file_extension": ".py",
   "mimetype": "text/x-python",
   "name": "python",
   "nbconvert_exporter": "python",
   "pygments_lexer": "ipython3",
   "version": "3.8.0-final"
  }
 },
 "nbformat": 4,
 "nbformat_minor": 4
}