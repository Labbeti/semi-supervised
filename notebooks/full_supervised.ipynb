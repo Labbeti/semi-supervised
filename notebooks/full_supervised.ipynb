{
 "cells": [
  {
   "cell_type": "markdown",
   "metadata": {
    "jupyter": {
     "outputs_hidden": true
    }
   },
   "source": [
    "# import"
   ]
  },
  {
   "cell_type": "code",
   "execution_count": 30,
   "metadata": {},
   "outputs": [
    {
     "output_type": "stream",
     "name": "stdout",
     "text": [
      "The autoreload extension is already loaded. To reload it, use:\n  %reload_ext autoreload\n"
     ]
    }
   ],
   "source": [
    "%load_ext autoreload\n",
    "%autoreload 2"
   ]
  },
  {
   "cell_type": "code",
   "execution_count": 31,
   "metadata": {},
   "outputs": [
    {
     "output_type": "execute_result",
     "data": {
      "text/plain": [
       "'/home/lcances/.miniconda3/envs/dct/bin/python'"
      ]
     },
     "metadata": {},
     "execution_count": 31
    }
   ],
   "source": [
    "import sys\n",
    "sys.executable"
   ]
  },
  {
   "cell_type": "code",
   "execution_count": 32,
   "metadata": {},
   "outputs": [],
   "source": [
    "import os\n",
    "os.environ[\"MKL_NUM_THREADS\"] = \"2\"\n",
    "os.environ[\"NUMEXPR_NU M_THREADS\"] = \"2\"\n",
    "os.environ[\"OMP_NUM_THREADS\"] = \"2\"\n",
    "import time\n",
    "\n",
    "import numpy\n",
    "import torch\n",
    "import torch.nn as nn\n",
    "import torch.utils.data as data\n",
    "import torch.nn.functional as F\n",
    "import torchvision.transforms as transforms\n",
    "from torch.cuda.amp import autocast\n",
    "\n",
    "from torch.optim.lr_scheduler import LambdaLR\n",
    "from torch.utils.tensorboard import SummaryWriter\n",
    "from torch.utils.data import DataLoader"
   ]
  },
  {
   "cell_type": "code",
   "execution_count": 33,
   "metadata": {
    "tags": []
   },
   "outputs": [],
   "source": [
    "from SSL.util.model_loader import load_model\n",
    "from SSL.util.loaders import load_dataset, load_optimizer, load_callbacks, load_preprocesser\n",
    "from SSL.util.checkpoint import CheckPoint, mSummaryWriter\n",
    "from SSL.util.utils import reset_seed, get_datetime, track_maximum, DotDict\n",
    "\n",
    "from metric_utils.metrics import CategoricalAccuracy, FScore, ContinueAverage"
   ]
  },
  {
   "cell_type": "markdown",
   "metadata": {
    "pycharm": {
     "name": "#%% md\n"
    }
   },
   "source": [
    "# Arguments"
   ]
  },
  {
   "cell_type": "code",
   "execution_count": 34,
   "metadata": {},
   "outputs": [],
   "source": [
    "import argparse\n",
    "parser = argparse.ArgumentParser()\n",
    "parser.add_argument(\"--from_config\", default=\"\", type=str)\n",
    "parser.add_argument(\"-d\", \"--dataset_root\", default=\"../datasets\", type=str)\n",
    "parser.add_argument(\"-D\", \"--dataset\", default=\"esc10\", type=str, help=\"available [ubs8k | cifar10]\")\n",
    "\n",
    "group_t = parser.add_argument_group(\"Commun parameters\")\n",
    "group_t.add_argument(\"-m\", \"--model\", default=\"cnn03\", type=str)\n",
    "group_t.add_argument(\"--supervised_ratio\", default=1.0, type=float)\n",
    "group_t.add_argument(\"--batch_size\", default=64, type=int)\n",
    "group_t.add_argument(\"--nb_epoch\", default=100, type=int)\n",
    "group_t.add_argument(\"--learning_rate\", default=0.003, type=float)\n",
    "group_t.add_argument(\"--resume\", action=\"store_true\", default=False)\n",
    "group_t.add_argument(\"--preload_dataset\", action=\"store_true\", default=False)\n",
    "group_t.add_argument(\"--seed\", default=1234, type=int)\n",
    "\n",
    "group_m = parser.add_argument_group(\"Model parameters\")\n",
    "group_m.add_argument(\"--num_classes\", default=35, type=int)\n",
    "\n",
    "group_u = parser.add_argument_group(\"Datasets parameters\")\n",
    "group_u.add_argument(\"-t\", \"--train_folds\", nargs=\"+\", default=[1, 2, 3, 4], type=int)\n",
    "group_u.add_argument(\"-v\", \"--val_folds\", nargs=\"+\", default=[5], type=int)\n",
    "\n",
    "group_l = parser.add_argument_group(\"Logs\")\n",
    "group_l.add_argument(\"--checkpoint_root\", default=\"../model_save/\", type=str)\n",
    "group_l.add_argument(\"--tensorboard_root\", default=\"../tensorboard/\", type=str)\n",
    "group_l.add_argument(\"--checkpoint_path\", default=\"supervised\", type=str)\n",
    "group_l.add_argument(\"--tensorboard_path\", default=\"supervised\", type=str)\n",
    "group_l.add_argument(\"--tensorboard_sufix\", default=\"\", type=str)\n",
    "\n",
    "args = parser.parse_args(\"\")\n",
    "\n",
    "tensorboard_path = os.path.join(args.tensorboard_root, args.dataset, args.tensorboard_path)\n",
    "checkpoint_path = os.path.join(args.checkpoint_root, args.dataset, args.checkpoint_path)"
   ]
  },
  {
   "cell_type": "code",
   "execution_count": 35,
   "metadata": {
    "tags": [
     "re_run"
    ]
   },
   "outputs": [
    {
     "output_type": "execute_result",
     "data": {
      "text/plain": [
       "{'from_config': '',\n",
       " 'dataset_root': '../datasets',\n",
       " 'dataset': 'esc10',\n",
       " 'model': 'cnn03',\n",
       " 'supervised_ratio': 1.0,\n",
       " 'batch_size': 64,\n",
       " 'nb_epoch': 100,\n",
       " 'learning_rate': 0.003,\n",
       " 'resume': False,\n",
       " 'preload_dataset': False,\n",
       " 'seed': 1234,\n",
       " 'num_classes': 35,\n",
       " 'train_folds': [1, 2, 3, 4],\n",
       " 'val_folds': [5],\n",
       " 'checkpoint_root': '../model_save/',\n",
       " 'tensorboard_root': '../tensorboard/',\n",
       " 'checkpoint_path': 'supervised',\n",
       " 'tensorboard_path': 'supervised',\n",
       " 'tensorboard_sufix': ''}"
      ]
     },
     "metadata": {},
     "execution_count": 35
    }
   ],
   "source": [
    "vars(args)"
   ]
  },
  {
   "cell_type": "markdown",
   "metadata": {
    "pycharm": {
     "name": "#%% md\n"
    }
   },
   "source": [
    "# initialisation"
   ]
  },
  {
   "source": [
    "\n",
    "trainer = SupervisedTrainer(\"cnn03\", \"esc10\")\n",
    "trainer.init_trainer(\n",
    "    parameters=vars(args),\n",
    "    seed = args.seed,\n",
    "    num_workers=0,\n",
    "    pin_memory=True,\n",
    "    verbose = 2\n",
    ")"
   ],
   "cell_type": "markdown",
   "metadata": {}
  },
  {
   "cell_type": "code",
   "execution_count": 36,
   "metadata": {
    "collapsed": false,
    "jupyter": {
     "outputs_hidden": false
    },
    "pycharm": {
     "name": "#%%\n"
    },
    "tags": [
     "re_run"
    ]
   },
   "outputs": [],
   "source": [
    "# from SSL.trainers.esc import SupervisedTrainer\n",
    "from SSL.trainers.trainers import Trainer\n",
    "\n",
    "class SupervisedTrainer(Trainer):\n",
    "    def __init__(self, model: str, dataset: str):\n",
    "        super().__init__(model, \"supervised\", dataset)\n",
    "\n",
    "trainer = SupervisedTrainer(args.model, args.dataset)"
   ]
  },
  {
   "cell_type": "markdown",
   "metadata": {
    "pycharm": {
     "name": "#%% md\n"
    }
   },
   "source": [
    "# Prepare the dataset"
   ]
  },
  {
   "cell_type": "code",
   "execution_count": 37,
   "metadata": {},
   "outputs": [
    {
     "output_type": "stream",
     "name": "stdout",
     "text": [
      "Load the transformation\n"
     ]
    }
   ],
   "source": [
    "trainer.load_transforms()"
   ]
  },
  {
   "cell_type": "code",
   "execution_count": 38,
   "metadata": {
    "collapsed": false,
    "jupyter": {
     "outputs_hidden": false
    },
    "pycharm": {
     "name": "#%%\n"
    },
    "tags": []
   },
   "outputs": [
    {
     "output_type": "stream",
     "name": "stdout",
     "text": [
      "Load the dataset\nDataset already downloaded and verified.\nDataset already downloaded and verified.\n"
     ]
    }
   ],
   "source": [
    "parameters = dict(\n",
    "    dataset=args.dataset,\n",
    "\n",
    "    dataset_root = args.dataset_root,\n",
    "    supervised_ratio = args.supervised_ratio,\n",
    "    batch_size = args.batch_size,\n",
    "    train_folds = args.train_folds,\n",
    "    val_folds = args.val_folds,\n",
    "    \n",
    "    num_workers=0,\n",
    "    pin_memory=True,\n",
    "\n",
    "    verbose = 2,\n",
    ")\n",
    "\n",
    "trainer.load_dataset(parameters)"
   ]
  },
  {
   "cell_type": "markdown",
   "metadata": {},
   "source": [
    "# Prep model"
   ]
  },
  {
   "cell_type": "code",
   "execution_count": 39,
   "metadata": {
    "tags": []
   },
   "outputs": [
    {
     "output_type": "stream",
     "name": "stdout",
     "text": [
      "Create the model\n1872 10\n"
     ]
    }
   ],
   "source": [
    "trainer.create_model()\n"
   ]
  },
  {
   "cell_type": "code",
   "execution_count": 40,
   "metadata": {
    "scrolled": true,
    "tags": []
   },
   "outputs": [
    {
     "output_type": "stream",
     "name": "stdout",
     "text": [
      "----------------------------------------------------------------\n        Layer (type)               Output Shape         Param #\n================================================================\n            Conv2d-1          [-1, 24, 64, 431]             240\n         MaxPool2d-2          [-1, 24, 16, 215]               0\n       BatchNorm2d-3          [-1, 24, 16, 215]              48\n             ReLU6-4          [-1, 24, 16, 215]               0\n            Conv2d-5          [-1, 48, 16, 215]          10,416\n         MaxPool2d-6           [-1, 48, 4, 107]               0\n       BatchNorm2d-7           [-1, 48, 4, 107]              96\n             ReLU6-8           [-1, 48, 4, 107]               0\n            Conv2d-9           [-1, 72, 4, 107]          31,176\n        MaxPool2d-10            [-1, 72, 2, 53]               0\n      BatchNorm2d-11            [-1, 72, 2, 53]             144\n            ReLU6-12            [-1, 72, 2, 53]               0\n           Conv2d-13            [-1, 72, 2, 53]          46,728\n        MaxPool2d-14            [-1, 72, 1, 26]               0\n      BatchNorm2d-15            [-1, 72, 1, 26]             144\n            ReLU6-16            [-1, 72, 1, 26]               0\n           Conv2d-17            [-1, 72, 1, 26]          46,728\n            ReLU6-18            [-1, 72, 1, 26]               0\n          Flatten-19                 [-1, 1872]               0\n          Dropout-20                 [-1, 1872]               0\n           Linear-21                   [-1, 10]          18,730\n================================================================\nTotal params: 154,450\nTrainable params: 154,450\nNon-trainable params: 0\n----------------------------------------------------------------\nInput size (MB): 0.11\nForward/backward pass size (MB): 9.24\nParams size (MB): 0.59\nEstimated Total Size (MB): 9.93\n----------------------------------------------------------------\n"
     ]
    }
   ],
   "source": [
    "from torchsummary import summary\n",
    "\n",
    "s = summary(trainer.model, trainer.input_shape)"
   ]
  },
  {
   "cell_type": "markdown",
   "metadata": {
    "pycharm": {
     "name": "#%% md\n"
    }
   },
   "source": [
    "# Training initialization"
   ]
  },
  {
   "source": [
    "## Losses"
   ],
   "cell_type": "markdown",
   "metadata": {}
  },
  {
   "cell_type": "code",
   "execution_count": 41,
   "metadata": {
    "collapsed": false,
    "jupyter": {
     "outputs_hidden": false
    },
    "pycharm": {
     "name": "#%%\n"
    },
    "tags": []
   },
   "outputs": [],
   "source": [
    "from types import MethodType\n",
    "\n",
    "def init_loss(self):\n",
    "    self.loss_ce = nn.CrossEntropyLoss(reduction=\"mean\")\n",
    "\n",
    "trainer.init_loss = MethodType(init_loss, trainer)"
   ]
  },
  {
   "source": [
    "trainer.init_loss()"
   ],
   "cell_type": "code",
   "metadata": {},
   "execution_count": 42,
   "outputs": []
  },
  {
   "cell_type": "markdown",
   "metadata": {},
   "source": [
    "## optimizer & callbacks"
   ]
  },
  {
   "cell_type": "code",
   "execution_count": 43,
   "metadata": {},
   "outputs": [
    {
     "output_type": "stream",
     "name": "stdout",
     "text": [
      "Initialize optimizer\n"
     ]
    }
   ],
   "source": [
    "parameters=DotDict(\n",
    "    learning_rate=args.learning_rate,\n",
    ")\n",
    "trainer.init_optimizer(parameters)\n"
   ]
  },
  {
   "cell_type": "code",
   "execution_count": 44,
   "metadata": {},
   "outputs": [
    {
     "output_type": "stream",
     "name": "stdout",
     "text": [
      "Initialize callbacks\n"
     ]
    }
   ],
   "source": [
    "parameters=DotDict(\n",
    "    nb_epoch=args.nb_epoch,\n",
    "    optimizer=trainer.optimizer,\n",
    ")\n",
    "trainer.init_callbacks(parameters)"
   ]
  },
  {
   "source": [
    "# Logs and checkpoint"
   ],
   "cell_type": "markdown",
   "metadata": {}
  },
  {
   "cell_type": "code",
   "execution_count": 45,
   "metadata": {
    "collapsed": false,
    "jupyter": {
     "outputs_hidden": false
    },
    "pycharm": {
     "name": "#%%\n"
    },
    "tags": [
     "re_run"
    ]
   },
   "outputs": [
    {
     "output_type": "stream",
     "name": "stdout",
     "text": [
      "Prepare the log system\n"
     ]
    }
   ],
   "source": [
    "# Logs\n",
    "parameters=DotDict(\n",
    "    supervised_ratio=args.supervised_ratio\n",
    ")\n",
    "trainer.init_logs(parameters)\n",
    "\n",
    "# Save all the parameters\n",
    "tensorboard_params = {}\n",
    "for key, value in args.__dict__.items():\n",
    "    tensorboard_params[key] = str(value)\n",
    "trainer.tensorboard.add_hparams(tensorboard_params, {})\n"
   ]
  },
  {
   "cell_type": "code",
   "execution_count": 46,
   "metadata": {},
   "outputs": [
    {
     "output_type": "stream",
     "name": "stdout",
     "text": [
      "Prepare the checkpoint system\n"
     ]
    }
   ],
   "source": [
    "# Checkpoint\n",
    "parameters=DotDict(\n",
    "    supervised_ratio=args.supervised_ratio\n",
    ")\n",
    "trainer.init_checkpoint(parameters)"
   ]
  },
  {
   "source": [
    "## Metrics"
   ],
   "cell_type": "markdown",
   "metadata": {}
  },
  {
   "cell_type": "code",
   "execution_count": 47,
   "metadata": {},
   "outputs": [],
   "source": [
    "# Metrics\n",
    "def init_metrics(self):\n",
    "    self.metrics = DotDict(\n",
    "        fscore_fn=FScore(),\n",
    "        acc_fn=CategoricalAccuracy(),\n",
    "        avg_fn=ContinueAverage(),\n",
    "    )\n",
    "    self.maximum_tracker = track_maximum()\n",
    "\n",
    "trainer.init_metrics = MethodType(init_metrics, trainer)\n",
    "trainer.init_metrics()"
   ]
  },
  {
   "cell_type": "markdown",
   "metadata": {
    "pycharm": {
     "name": "#%% md\n"
    }
   },
   "source": [
    "## training function"
   ]
  },
  {
   "cell_type": "code",
   "execution_count": 48,
   "metadata": {
    "collapsed": false,
    "jupyter": {
     "outputs_hidden": false
    },
    "pycharm": {
     "name": "#%%\n"
    },
    "tags": []
   },
   "outputs": [],
   "source": [
    "def set_printing_form(self):\n",
    "    UNDERLINE_SEQ = \"\\033[1;4m\"\n",
    "    RESET_SEQ = \"\\033[0m\"\n",
    "\n",
    "    header_form = \"{:<8.8} {:<6.6} - {:<6.6} - {:<8.8} {:<6.6} - {:<9.9} {:<12.12}| {:<9.9}- {:<6.6}\"\n",
    "    value_form  = \"{:<8.8} {:<6} - {:<6} - {:<8.8} {:<6.4f} - {:<9.9} {:<10.4f}| {:<9.4f}- {:<6.4f}\"\n",
    "\n",
    "    self.header = header_form.format(\n",
    "        \".               \", \"Epoch\", \"%\", \"Losses:\", \"ce\", \"metrics: \", \"acc\", \"F1 \",\"Time\"\n",
    "    )\n",
    "\n",
    "    self.train_form = value_form\n",
    "    self.val_form = UNDERLINE_SEQ + value_form + RESET_SEQ"
   ]
  },
  {
   "cell_type": "code",
   "execution_count": 49,
   "metadata": {
    "tags": [
     "re_run"
    ]
   },
   "outputs": [],
   "source": [
    "def train_fn(self, epoch: int):\n",
    "    # aliases\n",
    "    M = self.metrics\n",
    "    T = self.tensorboard.add_scalar\n",
    "    nb_batch = len(self.train_loader)\n",
    "\n",
    "    start_time = time.time()\n",
    "    print(\"\")\n",
    "\n",
    "    self.reset_metrics()\n",
    "    self.model.train()\n",
    "\n",
    "    for i, (X, y) in enumerate(self.train_loader):\n",
    "        X = X.cuda()\n",
    "        y = y.cuda()\n",
    "\n",
    "        logits = self.model(X)\n",
    "        loss = self.loss_ce(logits, y)\n",
    "\n",
    "        self.optimizer.zero_grad()\n",
    "        loss.backward()\n",
    "        self.optimizer.step()\n",
    "\n",
    "        with torch.set_grad_enabled(False):\n",
    "            pred = torch.softmax(logits, dim=1)\n",
    "            pred_arg = torch.argmax(logits, dim=1)\n",
    "            y_one_hot = F.one_hot(y, num_classes=self.num_classes)\n",
    "\n",
    "            acc = M.acc_fn(pred_arg, y).mean\n",
    "            fscore = M.fscore_fn(pred, y_one_hot).mean\n",
    "            avg_ce = M.avg_fn(loss.item()).mean\n",
    "\n",
    "            # logs\n",
    "            print(self.train_form.format(\n",
    "                \"Training: \",\n",
    "                epoch + 1,\n",
    "                int(100 * (i + 1) / nb_batch),\n",
    "                \"\", avg_ce,\n",
    "                \"\", acc, fscore,\n",
    "                time.time() - start_time\n",
    "            ), end=\"\\r\")\n",
    "\n",
    "    T(\"train/Lce\", avg_ce, epoch)\n",
    "    T(\"train/f1\", fscore, epoch)\n",
    "    T(\"train/acc\", acc, epoch)"
   ]
  },
  {
   "cell_type": "code",
   "execution_count": 50,
   "metadata": {
    "collapsed": false,
    "jupyter": {
     "outputs_hidden": false
    },
    "pycharm": {
     "name": "#%%\n"
    },
    "tags": [
     "re_run"
    ]
   },
   "outputs": [],
   "source": [
    "def val_fn(self, epoch: int):\n",
    "    # aliases\n",
    "    M = self.metrics\n",
    "    T = self.tensorboard.add_scalar\n",
    "    nb_batch = len(self.val_loader)\n",
    "\n",
    "    start_time = time.time()\n",
    "    print(\"\")\n",
    "\n",
    "    self.reset_metrics()\n",
    "    self.model.eval()\n",
    "\n",
    "    with torch.set_grad_enabled(False):\n",
    "        for i, (X, y) in enumerate(self.val_loader):\n",
    "            X = X.cuda()\n",
    "            y = y.cuda()\n",
    "\n",
    "            logits = self.model(X)\n",
    "            loss = self.loss_ce(logits, y)\n",
    "\n",
    "            # metrics\n",
    "            pred = torch.softmax(logits, dim=1)\n",
    "            pred_arg = torch.argmax(logits, dim=1)\n",
    "            y_one_hot = F.one_hot(y, num_classes=self.num_classes)\n",
    "\n",
    "            acc = M.acc_fn(pred_arg, y).mean\n",
    "            fscore = M.fscore_fn(pred, y_one_hot).mean\n",
    "            avg_ce = M.avg_fn(loss.item()).mean\n",
    "\n",
    "            # logs\n",
    "            print(self.val_form.format(\n",
    "                \"Validation: \",\n",
    "                epoch + 1,\n",
    "                int(100 * (i + 1) / nb_batch),\n",
    "                \"\", avg_ce,\n",
    "                \"\", acc, fscore,\n",
    "                time.time() - start_time\n",
    "            ), end=\"\\r\")\n",
    "\n",
    "    T(\"val/Lce\", avg_ce, epoch)\n",
    "    T(\"val/f1\", fscore, epoch)\n",
    "    T(\"val/acc\", acc, epoch)\n",
    "\n",
    "    T(\"hyperparameters/learning_rate\", self._get_lr(), epoch)\n",
    "\n",
    "    T(\"max/acc\", self.maximum_tracker(\"acc\", acc), epoch)\n",
    "    T(\"max/f1\", self.maximum_tracker(\"f1\", fscore), epoch)\n",
    "\n",
    "    self.checkpoint.step(acc)\n",
    "    for c in self.callbacks:\n",
    "        c.step()\n",
    "        pass"
   ]
  },
  {
   "cell_type": "code",
   "execution_count": 51,
   "metadata": {},
   "outputs": [],
   "source": [
    "def test_fn(self):\n",
    "    # aliases\n",
    "    M = self.metrics\n",
    "    T = self.tensorboard.add_scalar\n",
    "    nb_batch = len(self.val_loader)\n",
    "\n",
    "    # Load best epoch\n",
    "    self.checkpoint.load_best()\n",
    "\n",
    "    start_time = time.time()\n",
    "    print(\"\")\n",
    "\n",
    "    self.reset_metrics()\n",
    "    self.model.eval()\n",
    "\n",
    "    with torch.set_grad_enabled(False):\n",
    "        for i, (X, y) in enumerate(self.test_loader):\n",
    "            X = X.cuda()\n",
    "            y = y.cuda()\n",
    "\n",
    "            logits = self.model(X)\n",
    "            loss = self.loss_ce(logits, y)\n",
    "\n",
    "            # metrics\n",
    "            pred = torch.softmax(logits, dim=1)\n",
    "            pred_arg = torch.argmax(logits, dim=1)\n",
    "            y_one_hot = F.one_hot(y, num_classes=self.num_classes)\n",
    "\n",
    "            acc = M.acc_fn(pred_arg, y).mean\n",
    "            fscore = M.fscore_fn(pred, y_one_hot).mean\n",
    "            avg_ce = M.avg_fn(loss.item()).mean\n",
    "\n",
    "            # logs\n",
    "            print(self.val_form.format(\n",
    "                \"Testing: \",\n",
    "                1,\n",
    "                int(100 * (i + 1) / nb_batch),\n",
    "                \"\", avg_ce,\n",
    "                \"\", acc, fscore,\n",
    "                time.time() - start_time\n",
    "            ), end=\"\\r\")"
   ]
  },
  {
   "cell_type": "code",
   "execution_count": 52,
   "metadata": {},
   "outputs": [],
   "source": [
    "trainer.set_printing_form = MethodType(set_printing_form, trainer)\n",
    "trainer.train_fn = MethodType(train_fn, trainer)\n",
    "trainer.val_fn = MethodType(val_fn, trainer)\n",
    "trainer.test_fn = MethodType(test_fn, trainer)"
   ]
  },
  {
   "source": [
    "# Training"
   ],
   "cell_type": "markdown",
   "metadata": {}
  },
  {
   "cell_type": "code",
   "execution_count": 53,
   "metadata": {
    "collapsed": false,
    "jupyter": {
     "outputs_hidden": false
    },
    "pycharm": {
     "name": "#%%\n"
    },
    "scrolled": true,
    "tags": []
   },
   "outputs": [
    {
     "output_type": "stream",
     "name": "stdout",
     "text": [
      ".        Epoch  - %      - Losses:  ce     - metrics:  acc         | F1       - Time  \n",
      "\n",
      "Training 1      - 100    -          2.0727 -           0.2406    | 0.0282   - 1.8860\n",
      "\u001b[1;4mValidati 1      - 100    -          2.1366 -           0.2109    | 0.0837   - 0.4474\u001b[0m\n",
      "Training 2      - 100    -          1.2672 -           0.5031    | 0.3670   - 0.2094\n",
      "\u001b[1;4mValidati 2      - 100    -          4.3360 -           0.2266    | 0.2103   - 0.0151\u001b[0m\n",
      "Training 3      - 100    -          0.8243 -           0.6594    | 0.6446   - 0.1652\n",
      "\u001b[1;4mValidati 3      - 100    -          3.3304 -           0.3828    | 0.4000   - 0.0152\u001b[0m\n",
      "Training 4      - 100    -          0.6871 -           0.7375    | 0.7352   - 0.1659\n",
      "\u001b[1;4mValidati 4      - 100    -          2.2503 -           0.5625    | 0.5565   - 0.0141\u001b[0m\n",
      "Training 5      - 100    -          0.5388 -           0.8094    | 0.7829   - 0.1681\n",
      "\u001b[1;4mValidati 5      - 100    -          2.9037 -           0.5703    | 0.5625   - 0.0151\u001b[0m\n",
      "Training 6      - 100    -          0.4089 -           0.8406    | 0.8296   - 0.1635\n",
      "\n",
      "Training 7      - 100    -          0.4067 -           0.8875    | 0.8860   - 0.1613\n",
      "\u001b[1;4mValidati 7      - 100    -          1.2499 -           0.7188    | 0.7575   - 0.0136\u001b[0m\n",
      "Training 8      - 100    -          0.3531 -           0.8656    | 0.8707   - 0.1601\n",
      "\u001b[1;4mValidati 8      - 100    -          5.0305 -           0.5312    | 0.5352   - 0.0133\u001b[0m\n",
      "Training 9      - 100    -          0.3081 -           0.8906    | 0.8836   - 0.1602\n",
      "\u001b[1;4mValidati 9      - 100    -          0.9042 -           0.7734    | 0.7863   - 0.0134\u001b[0m\n",
      "Training 10     - 100    -          0.2363 -           0.9281    | 0.9334   - 0.1594\n",
      "\u001b[1;4mValidati 10     - 100    -          1.6685 -           0.6484    | 0.6426   - 0.0136\u001b[0m\n",
      "Training 11     - 100    -          0.2197 -           0.9281    | 0.9269   - 0.1601\n",
      "\u001b[1;4mValidati 11     - 100    -          0.8907 -           0.7656    | 0.7347   - 0.0133\u001b[0m\n",
      "Training 12     - 100    -          0.2045 -           0.9250    | 0.9258   - 0.1640\n",
      "\u001b[1;4mValidati 12     - 100    -          1.2154 -           0.6797    | 0.6564   - 0.0148\u001b[0m\n",
      "Training 13     - 100    -          0.1226 -           0.9531    | 0.9514   - 0.1664\n",
      "\u001b[1;4mValidati 13     - 100    -          0.6220 -           0.8438    | 0.8359   - 0.0155\u001b[0m\n",
      "Training 14     - 100    -          0.1067 -           0.9563    | 0.9563   - 0.1703\n",
      "\u001b[1;4mValidati 14     - 100    -          0.9065 -           0.7734    | 0.7772   - 0.0138\u001b[0m\n",
      "Training 15     - 100    -          0.0971 -           0.9656    | 0.9655   - 0.1748\n",
      "\n",
      "Training 16     - 100    -          0.0827 -           0.9688    | 0.9701   - 0.1730\n",
      "\n",
      "Training 17     - 100    -          0.1765 -           0.9563    | 0.9546   - 0.2216\n",
      "\u001b[1;4mValidati 17     - 100    -          1.5390 -           0.7812    | 0.7842   - 0.0131\u001b[0m\n",
      "Training 18     - 100    -          0.1323 -           0.9563    | 0.9544   - 0.1515\n",
      "\u001b[1;4mValidati 18     - 100    -          1.5611 -           0.7578    | 0.7502   - 0.0130\u001b[0m\n",
      "Training 19     - 100    -          0.1188 -           0.9563    | 0.9561   - 0.1717\n",
      "\u001b[1;4mValidati 19     - 100    -          0.6465 -           0.8516    | 0.8548   - 0.0141\u001b[0m\n",
      "Training 20     - 100    -          0.0951 -           0.9594    | 0.9609   - 0.1529\n",
      "\u001b[1;4mValidati 20     - 100    -          1.0066 -           0.8047    | 0.8047   - 0.0125\u001b[0m\n",
      "Training 21     - 100    -          0.0636 -           0.9812    | 0.9797   - 0.1509\n",
      "\u001b[1;4mValidati 21     - 100    -          1.5821 -           0.7109    | 0.7109   - 0.0133\u001b[0m\n",
      "Training 22     - 100    -          0.0986 -           0.9688    | 0.9688   - 0.1523\n",
      "\u001b[1;4mValidati 22     - 100    -          1.0151 -           0.7734    | 0.7734   - 0.0134\u001b[0m\n",
      "Training 23     - 100    -          0.0800 -           0.9781    | 0.9781   - 0.1523\n",
      "\u001b[1;4mValidati 23     - 100    -          1.3449 -           0.7656    | 0.7800   - 0.0137\u001b[0m\n",
      "Training 24     - 100    -          0.0828 -           0.9656    | 0.9654   - 0.1530\n",
      "\u001b[1;4mValidati 24     - 100    -          0.8664 -           0.7891    | 0.7891   - 0.0125\u001b[0m\n",
      "Training 25     - 100    -          0.0739 -           0.9781    | 0.9781   - 0.1525\n",
      "\u001b[1;4mValidati 25     - 100    -          0.8597 -           0.8203    | 0.8203   - 0.0139\u001b[0m\n",
      "Training 26     - 100    -          0.0816 -           0.9750    | 0.9750   - 0.1593\n",
      "\u001b[1;4mValidati 26     - 100    -          1.2865 -           0.7812    | 0.7951   - 0.0209\u001b[0m\n",
      "Training 27     - 100    -          0.0327 -           0.9969    | 0.9969   - 0.1601\n",
      "\u001b[1;4mValidati 27     - 100    -          0.9426 -           0.8672    | 0.8630   - 0.0127\u001b[0m\n",
      "Training 28     - 100    -          0.0335 -           0.9938    | 0.9938   - 0.1507\n",
      "\u001b[1;4mValidati 28     - 100    -          0.7251 -           0.8438    | 0.8469   - 0.0144\u001b[0m\n",
      "Training 29     - 100    -          0.0208 -           0.9969    | 0.9969   - 0.1778\n",
      "\u001b[1;4mValidati 29     - 100    -          0.7000 -           0.9062    | 0.9062   - 0.0155\u001b[0m\n",
      "Training 30     - 100    -          0.0166 -           1.0000    | 1.0000   - 0.1772\n",
      "\u001b[1;4mValidati 30     - 100    -          0.8152 -           0.8516    | 0.8516   - 0.0158\u001b[0m\n",
      "Training 31     - 100    -          0.0295 -           0.9938    | 0.9938   - 0.1650\n",
      "\u001b[1;4mValidati 31     - 100    -          1.6785 -           0.8125    | 0.8125   - 0.0144\u001b[0m\n",
      "Training 32     - 100    -          0.0132 -           0.9969    | 0.9969   - 0.1620\n",
      "\n",
      "Training 33     - 100    -          0.0108 -           1.0000    | 1.0000   - 0.1688\n",
      "\u001b[1;4mValidati 33     - 100    -          0.8447 -           0.8672    | 0.8672   - 0.0147\u001b[0m\n",
      "Training 34     - 100    -          0.0091 -           0.9969    | 0.9969   - 0.1660\n",
      "\u001b[1;4mValidati 34     - 100    -          0.7304 -           0.8672    | 0.8672   - 0.0137\u001b[0m\n",
      "Training 35     - 100    -          0.0195 -           0.9906    | 0.9906   - 0.1631\n",
      "\u001b[1;4mValidati 35     - 100    -          0.6456 -           0.8906    | 0.8906   - 0.0132\u001b[0m\n",
      "Training 36     - 100    -          0.0296 -           0.9844    | 0.9844   - 0.1605\n",
      "\u001b[1;4mValidati 36     - 100    -          0.9259 -           0.8594    | 0.8627   - 0.0142\u001b[0m\n",
      "Training 37     - 100    -          0.0364 -           0.9875    | 0.9875   - 0.1591\n",
      "\u001b[1;4mValidati 37     - 100    -          1.1609 -           0.7656    | 0.7656   - 0.0144\u001b[0m\n",
      "Training 38     - 100    -          0.0285 -           0.9906    | 0.9906   - 0.1645\n",
      "\u001b[1;4mValidati 38     - 100    -          0.8325 -           0.8203    | 0.8105   - 0.0157\u001b[0m\n",
      "Training 39     - 100    -          0.0282 -           0.9844    | 0.9844   - 0.1685\n",
      "\u001b[1;4mValidati 39     - 100    -          1.1543 -           0.8125    | 0.8223   - 0.0149\u001b[0m\n",
      "\n",
      "\u001b[1;4mValidati 40     - 100    -          1.3981 -           0.7266    | 0.7266   - 0.0188\u001b[0m\n",
      "Training 41     - 100    -          0.0200 -           0.9969    | 0.9969   - 0.1644\n",
      "\u001b[1;4mValidati 41     - 100    -          0.9706 -           0.8125    | 0.8125   - 0.0142\u001b[0m\n",
      "Training 42     - 100    -          0.0138 -           0.9906    | 0.9906   - 0.1600\n",
      "\n",
      "Training 43     - 100    -          0.0109 -           0.9969    | 0.9969   - 0.1683\n",
      "\u001b[1;4mValidati 43     - 100    -          1.1347 -           0.8594    | 0.8412   - 0.0151\u001b[0m\n",
      "Training 44     - 100    -          0.0118 -           1.0000    | 0.9984   - 0.1632\n",
      "\u001b[1;4mValidati 44     - 100    -          1.0738 -           0.8281    | 0.8314   - 0.0135\u001b[0m\n",
      "Training 45     - 100    -          0.0069 -           1.0000    | 1.0000   - 0.1621\n",
      "\u001b[1;4mValidati 45     - 100    -          0.8213 -           0.8203    | 0.8367   - 0.0140\u001b[0m\n",
      "Training 46     - 100    -          0.0239 -           0.9906    | 0.9906   - 0.1598\n",
      "\u001b[1;4mValidati 46     - 100    -          1.3619 -           0.7969    | 0.8036   - 0.0146\u001b[0m\n",
      "Training 47     - 100    -          0.0067 -           1.0000    | 1.0000   - 0.1702\n",
      "\u001b[1;4mValidati 47     - 100    -          0.8909 -           0.8281    | 0.8314   - 0.0137\u001b[0m\n",
      "Training 48     - 100    -          0.0037 -           1.0000    | 1.0000   - 0.1770\n",
      "\u001b[1;4mValidati 48     - 100    -          0.8674 -           0.8281    | 0.8314   - 0.0155\u001b[0m\n",
      "Training 49     - 100    -          0.0071 -           0.9969    | 0.9969   - 0.1693\n",
      "\u001b[1;4mValidati 49     - 100    -          0.7561 -           0.8594    | 0.8548   - 0.0153\u001b[0m\n",
      "Training 50     - 100    -          0.0128 -           0.9969    | 0.9969   - 0.1679\n",
      "\u001b[1;4mValidati 50     - 100    -          0.7358 -           0.8672    | 0.8490   - 0.0146\u001b[0m\n",
      "Training 51     - 100    -          0.0070 -           0.9969    | 0.9969   - 0.1636\n",
      "\n",
      "Training 52     - 100    -          0.0042 -           1.0000    | 1.0000   - 0.1627\n",
      "\u001b[1;4mValidati 52     - 100    -          1.2145 -           0.8438    | 0.8502   - 0.0141\u001b[0m\n",
      "Training 53     - 100    -          0.0091 -           0.9969    | 0.9969   - 0.1623\n",
      "\u001b[1;4mValidati 53     - 100    -          0.9334 -           0.8125    | 0.8157   - 0.0142\u001b[0m\n",
      "Training 54     - 100    -          0.0083 -           0.9969    | 0.9969   - 0.1700\n",
      "\u001b[1;4mValidati 54     - 100    -          0.6180 -           0.8672    | 0.8625   - 0.0159\u001b[0m\n",
      "Training 55     - 100    -          0.0300 -           0.9906    | 0.9906   - 0.1686\n",
      "\u001b[1;4mValidati 55     - 100    -          1.3637 -           0.8203    | 0.8334   - 0.0153\u001b[0m\n",
      "Training 56     - 100    -          0.0095 -           1.0000    | 1.0000   - 0.1642\n",
      "\u001b[1;4mValidati 56     - 100    -          0.9288 -           0.8047    | 0.8168   - 0.0141\u001b[0m\n",
      "Training 57     - 100    -          0.0044 -           1.0000    | 1.0000   - 0.1668\n",
      "\u001b[1;4mValidati 57     - 100    -          0.8864 -           0.8281    | 0.8446   - 0.0148\u001b[0m\n",
      "Training 58     - 100    -          0.0030 -           1.0000    | 1.0000   - 0.1753\n",
      "\u001b[1;4mValidati 58     - 100    -          1.2476 -           0.8203    | 0.8367   - 0.0146\u001b[0m\n",
      "Training 59     - 100    -          0.0041 -           1.0000    | 1.0000   - 0.1666\n",
      "\u001b[1;4mValidati 59     - 100    -          0.7875 -           0.8281    | 0.8348   - 0.0180\u001b[0m\n",
      "Training 60     - 100    -          0.0026 -           1.0000    | 1.0000   - 0.1738\n",
      "\u001b[1;4mValidati 60     - 100    -          1.1228 -           0.8750    | 0.8814   - 0.0140\u001b[0m\n",
      "Training 61     - 100    -          0.0020 -           1.0000    | 1.0000   - 0.1604\n",
      "\n",
      "Training 62     - 100    -          0.0013 -           1.0000    | 1.0000   - 0.1621\n",
      "\u001b[1;4mValidati 62     - 100    -          0.8104 -           0.8750    | 0.8782   - 0.0135\u001b[0m\n",
      "Training 63     - 100    -          0.0010 -           1.0000    | 1.0000   - 0.1629\n",
      "\u001b[1;4mValidati 63     - 100    -          0.7058 -           0.8516    | 0.8516   - 0.0134\u001b[0m\n",
      "Training 64     - 100    -          0.0022 -           1.0000    | 1.0000   - 0.1620\n",
      "\u001b[1;4mValidati 64     - 100    -          0.7481 -           0.8281    | 0.8281   - 0.0140\u001b[0m\n",
      "Training 65     - 100    -          0.0033 -           1.0000    | 1.0000   - 0.1637\n",
      "\u001b[1;4mValidati 65     - 100    -          0.7762 -           0.8281    | 0.8281   - 0.0145\u001b[0m\n",
      "Training 66     - 100    -          0.0014 -           1.0000    | 1.0000   - 0.1801\n",
      "\u001b[1;4mValidati 66     - 100    -          1.2647 -           0.8125    | 0.8125   - 0.0170\u001b[0m\n",
      "Training 67     - 100    -          0.0022 -           1.0000    | 1.0000   - 0.1552\n",
      "\u001b[1;4mValidati 67     - 100    -          0.6571 -           0.8359    | 0.8359   - 0.0147\u001b[0m\n",
      "Training 68     - 100    -          0.0016 -           1.0000    | 1.0000   - 0.1569\n",
      "\n",
      "Training 69     - 100    -          0.0009 -           1.0000    | 1.0000   - 0.1511\n",
      "\u001b[1;4mValidati 69     - 100    -          0.7568 -           0.8594    | 0.8625   - 0.0124\u001b[0m\n",
      "Training 70     - 100    -          0.0012 -           1.0000    | 1.0000   - 0.1505\n",
      "\u001b[1;4mValidati 70     - 100    -          1.0961 -           0.7891    | 0.7923   - 0.0130\u001b[0m\n",
      "Training 71     - 100    -          0.0080 -           0.9969    | 0.9969   - 0.1509\n",
      "\u001b[1;4mValidati 71     - 100    -          1.4439 -           0.7656    | 0.7656   - 0.0133\u001b[0m\n",
      "Training 72     - 100    -          0.0022 -           1.0000    | 1.0000   - 0.1503\n",
      "\u001b[1;4mValidati 72     - 100    -          1.9230 -           0.7422    | 0.7422   - 0.0126\u001b[0m\n",
      "Training 73     - 100    -          0.0025 -           1.0000    | 1.0000   - 0.1630\n",
      "\u001b[1;4mValidati 73     - 100    -          1.5548 -           0.7891    | 0.7891   - 0.0162\u001b[0m\n",
      "Training 74     - 100    -          0.0064 -           0.9969    | 0.9969   - 0.1653\n",
      "\u001b[1;4mValidati 74     - 100    -          1.0156 -           0.8516    | 0.8367   - 0.0148\u001b[0m\n",
      "Training 75     - 100    -          0.0017 -           1.0000    | 1.0000   - 0.1553\n",
      "\n",
      "Training 76     - 100    -          0.0042 -           1.0000    | 1.0000   - 0.1631\n",
      "\u001b[1;4mValidati 76     - 100    -          1.2212 -           0.8203    | 0.8236   - 0.0163\u001b[0m\n",
      "Training 77     - 100    -          0.0011 -           1.0000    | 1.0000   - 0.1624\n",
      "\u001b[1;4mValidati 77     - 100    -          0.7228 -           0.7969    | 0.8002   - 0.0128\u001b[0m\n",
      "Training 78     - 100    -          0.0010 -           1.0000    | 1.0000   - 0.1551\n",
      "\u001b[1;4mValidati 78     - 100    -          0.9560 -           0.8047    | 0.8002   - 0.0136\u001b[0m\n",
      "Training 79     - 100    -          0.0015 -           1.0000    | 1.0000   - 0.1550\n",
      "\u001b[1;4mValidati 79     - 100    -          0.7445 -           0.8203    | 0.8236   - 0.0150\u001b[0m\n",
      "Training 80     - 100    -          0.0012 -           1.0000    | 1.0000   - 0.1571\n",
      "\u001b[1;4mValidati 80     - 100    -          0.9182 -           0.8281    | 0.8236   - 0.0159\u001b[0m\n",
      "Training 81     - 100    -          0.0016 -           1.0000    | 1.0000   - 0.1568\n",
      "\u001b[1;4mValidati 81     - 100    -          0.9768 -           0.8047    | 0.8002   - 0.0141\u001b[0m\n",
      "Training 82     - 100    -          0.0007 -           1.0000    | 1.0000   - 0.1557\n",
      "\n",
      "Training 83     - 100    -          0.0012 -           1.0000    | 1.0000   - 0.1600\n",
      "\u001b[1;4mValidati 83     - 100    -          0.5914 -           0.8984    | 0.8937   - 0.0142\u001b[0m\n",
      "Training 84     - 100    -          0.0008 -           1.0000    | 1.0000   - 0.1585\n",
      "\u001b[1;4mValidati 84     - 100    -          0.9379 -           0.8281    | 0.8090   - 0.0140\u001b[0m\n",
      "Training 85     - 100    -          0.0018 -           1.0000    | 1.0000   - 0.1540\n",
      "\u001b[1;4mValidati 85     - 100    -          0.7780 -           0.8594    | 0.8548   - 0.0126\u001b[0m\n",
      "Training 86     - 100    -          0.0009 -           1.0000    | 1.0000   - 0.1526\n",
      "\u001b[1;4mValidati 86     - 100    -          0.5965 -           0.9062    | 0.9016   - 0.0144\u001b[0m\n",
      "Training 87     - 100    -          0.0009 -           1.0000    | 1.0000   - 0.1698\n",
      "\u001b[1;4mValidati 87     - 100    -          0.8255 -           0.8359    | 0.8314   - 0.0188\u001b[0m\n",
      "Training 88     - 100    -          0.0009 -           1.0000    | 1.0000   - 0.1790\n",
      "\u001b[1;4mValidati 88     - 100    -          1.2244 -           0.8828    | 0.8828   - 0.0167\u001b[0m\n",
      "Training 89     - 100    -          0.0019 -           1.0000    | 1.0000   - 0.1672\n",
      "\u001b[1;4mValidati 89     - 100    -          0.7949 -           0.8281    | 0.8236   - 0.0142\u001b[0m\n",
      "Training 90     - 100    -          0.0006 -           1.0000    | 1.0000   - 0.1697\n",
      "\u001b[1;4mValidati 90     - 100    -          0.9500 -           0.7812    | 0.7768   - 0.0139\u001b[0m\n",
      "Training 91     - 100    -          0.0010 -           1.0000    | 1.0000   - 0.1590\n",
      "\u001b[1;4mValidati 91     - 100    -          1.2791 -           0.8281    | 0.8236   - 0.0139\u001b[0m\n",
      "Training 92     - 100    -          0.0010 -           1.0000    | 1.0000   - 0.1716\n",
      "\u001b[1;4mValidati 92     - 100    -          0.7874 -           0.8281    | 0.8236   - 0.0157\u001b[0m\n",
      "Training 93     - 100    -          0.0053 -           0.9969    | 0.9969   - 0.1627\n",
      "\u001b[1;4mValidati 93     - 100    -          1.0141 -           0.8047    | 0.8002   - 0.0140\u001b[0m\n",
      "Training 94     - 100    -          0.0013 -           1.0000    | 1.0000   - 0.1623\n",
      "\u001b[1;4mValidati 94     - 100    -          0.6662 -           0.8750    | 0.8750   - 0.0146\u001b[0m\n",
      "Training 95     - 100    -          0.0010 -           1.0000    | 1.0000   - 0.1660\n",
      "\u001b[1;4mValidati 95     - 100    -          0.8203 -           0.8516    | 0.8516   - 0.0148\u001b[0m\n",
      "Training 96     - 100    -          0.0041 -           0.9969    | 0.9969   - 0.1684\n",
      "\u001b[1;4mValidati 96     - 100    -          0.5962 -           0.8984    | 0.8937   - 0.0143\u001b[0m\n",
      "Training 97     - 100    -          0.0008 -           1.0000    | 1.0000   - 0.1648\n",
      "\u001b[1;4mValidati 97     - 100    -          0.6121 -           0.8750    | 0.8703   - 0.0150\u001b[0m\n",
      "Training 98     - 100    -          0.0033 -           0.9969    | 0.9969   - 0.1621\n",
      "\n",
      "Training 99     - 100    -          0.0017 -           1.0000    | 1.0000   - 0.1658\n",
      "\u001b[1;4mValidati 99     - 100    -          0.8566 -           0.8750    | 0.8703   - 0.0143\u001b[0m\n",
      "Training 100    - 100    -          0.0009 -           1.0000    | 1.0000   - 0.1624\n"
     ]
    }
   ],
   "source": [
    "# Fit function\n",
    "trainer.set_printing_form()\n",
    "print(trainer.header)\n",
    "\n",
    "start_epoch = trainer.checkpoint.epoch_counter\n",
    "end_epoch = args.nb_epoch\n",
    "\n",
    "for e in range(start_epoch, args.nb_epoch):\n",
    "    trainer.train_fn(e)\n",
    "    trainer.val_fn(e)\n",
    "    \n",
    "    trainer.tensorboard.flush()"
   ]
  },
  {
   "cell_type": "markdown",
   "metadata": {},
   "source": [
    "## display"
   ]
  },
  {
   "cell_type": "code",
   "execution_count": 54,
   "metadata": {},
   "outputs": [],
   "source": [
    "if args.dataset.lower() == \"speechcommand\":\n",
    "    trainer.test_fn()"
   ]
  },
  {
   "cell_type": "code",
   "execution_count": 58,
   "metadata": {},
   "outputs": [
    {
     "output_type": "display_data",
     "data": {
      "text/plain": "<Figure size 2160x1008 with 3 Axes>",
      "image/svg+xml": "<?xml version=\"1.0\" encoding=\"utf-8\" standalone=\"no\"?>\n<!DOCTYPE svg PUBLIC \"-//W3C//DTD SVG 1.1//EN\"\n  \"http://www.w3.org/Graphics/SVG/1.1/DTD/svg11.dtd\">\n<!-- Created with matplotlib (https://matplotlib.org/) -->\n<svg height=\"377.005398pt\" version=\"1.1\" viewBox=\"0 0 1711.303125 377.005398\" width=\"1711.303125pt\" xmlns=\"http://www.w3.org/2000/svg\" xmlns:xlink=\"http://www.w3.org/1999/xlink\">\n <defs>\n  <style type=\"text/css\">\n*{stroke-linecap:butt;stroke-linejoin:round;}\n  </style>\n </defs>\n <g id=\"figure_1\">\n  <g id=\"patch_1\">\n   <path d=\"M 0 377.005398 \nL 1711.303125 377.005398 \nL 1711.303125 -0 \nL 0 -0 \nz\n\" style=\"fill:none;\"/>\n  </g>\n  <g id=\"axes_1\">\n   <g id=\"patch_2\">\n    <path d=\"M 30.103125 353.127273 \nL 522.456066 353.127273 \nL 522.456066 7.2 \nL 30.103125 7.2 \nz\n\" style=\"fill:#ffffff;\"/>\n   </g>\n   <g id=\"matplotlib.axis_1\">\n    <g id=\"xtick_1\">\n     <g id=\"line2d_1\">\n      <defs>\n       <path d=\"M 0 0 \nL 0 3.5 \n\" id=\"m57442e94cb\" style=\"stroke:#000000;stroke-width:0.8;\"/>\n      </defs>\n      <g>\n       <use style=\"stroke:#000000;stroke-width:0.8;\" x=\"52.482804\" xlink:href=\"#m57442e94cb\" y=\"353.127273\"/>\n      </g>\n     </g>\n     <g id=\"text_1\">\n      <!-- 0 -->\n      <defs>\n       <path d=\"M 31.78125 66.40625 \nQ 24.171875 66.40625 20.328125 58.90625 \nQ 16.5 51.421875 16.5 36.375 \nQ 16.5 21.390625 20.328125 13.890625 \nQ 24.171875 6.390625 31.78125 6.390625 \nQ 39.453125 6.390625 43.28125 13.890625 \nQ 47.125 21.390625 47.125 36.375 \nQ 47.125 51.421875 43.28125 58.90625 \nQ 39.453125 66.40625 31.78125 66.40625 \nz\nM 31.78125 74.21875 \nQ 44.046875 74.21875 50.515625 64.515625 \nQ 56.984375 54.828125 56.984375 36.375 \nQ 56.984375 17.96875 50.515625 8.265625 \nQ 44.046875 -1.421875 31.78125 -1.421875 \nQ 19.53125 -1.421875 13.0625 8.265625 \nQ 6.59375 17.96875 6.59375 36.375 \nQ 6.59375 54.828125 13.0625 64.515625 \nQ 19.53125 74.21875 31.78125 74.21875 \nz\n\" id=\"DejaVuSans-48\"/>\n      </defs>\n      <g transform=\"translate(49.301554 367.72571)scale(0.1 -0.1)\">\n       <use xlink:href=\"#DejaVuSans-48\"/>\n      </g>\n     </g>\n    </g>\n    <g id=\"xtick_2\">\n     <g id=\"line2d_2\">\n      <g>\n       <use style=\"stroke:#000000;stroke-width:0.8;\" x=\"142.90575\" xlink:href=\"#m57442e94cb\" y=\"353.127273\"/>\n      </g>\n     </g>\n     <g id=\"text_2\">\n      <!-- 20 -->\n      <defs>\n       <path d=\"M 19.1875 8.296875 \nL 53.609375 8.296875 \nL 53.609375 0 \nL 7.328125 0 \nL 7.328125 8.296875 \nQ 12.9375 14.109375 22.625 23.890625 \nQ 32.328125 33.6875 34.8125 36.53125 \nQ 39.546875 41.84375 41.421875 45.53125 \nQ 43.3125 49.21875 43.3125 52.78125 \nQ 43.3125 58.59375 39.234375 62.25 \nQ 35.15625 65.921875 28.609375 65.921875 \nQ 23.96875 65.921875 18.8125 64.3125 \nQ 13.671875 62.703125 7.8125 59.421875 \nL 7.8125 69.390625 \nQ 13.765625 71.78125 18.9375 73 \nQ 24.125 74.21875 28.421875 74.21875 \nQ 39.75 74.21875 46.484375 68.546875 \nQ 53.21875 62.890625 53.21875 53.421875 \nQ 53.21875 48.921875 51.53125 44.890625 \nQ 49.859375 40.875 45.40625 35.40625 \nQ 44.1875 33.984375 37.640625 27.21875 \nQ 31.109375 20.453125 19.1875 8.296875 \nz\n\" id=\"DejaVuSans-50\"/>\n      </defs>\n      <g transform=\"translate(136.54325 367.72571)scale(0.1 -0.1)\">\n       <use xlink:href=\"#DejaVuSans-50\"/>\n       <use x=\"63.623047\" xlink:href=\"#DejaVuSans-48\"/>\n      </g>\n     </g>\n    </g>\n    <g id=\"xtick_3\">\n     <g id=\"line2d_3\">\n      <g>\n       <use style=\"stroke:#000000;stroke-width:0.8;\" x=\"233.328696\" xlink:href=\"#m57442e94cb\" y=\"353.127273\"/>\n      </g>\n     </g>\n     <g id=\"text_3\">\n      <!-- 40 -->\n      <defs>\n       <path d=\"M 37.796875 64.3125 \nL 12.890625 25.390625 \nL 37.796875 25.390625 \nz\nM 35.203125 72.90625 \nL 47.609375 72.90625 \nL 47.609375 25.390625 \nL 58.015625 25.390625 \nL 58.015625 17.1875 \nL 47.609375 17.1875 \nL 47.609375 0 \nL 37.796875 0 \nL 37.796875 17.1875 \nL 4.890625 17.1875 \nL 4.890625 26.703125 \nz\n\" id=\"DejaVuSans-52\"/>\n      </defs>\n      <g transform=\"translate(226.966196 367.72571)scale(0.1 -0.1)\">\n       <use xlink:href=\"#DejaVuSans-52\"/>\n       <use x=\"63.623047\" xlink:href=\"#DejaVuSans-48\"/>\n      </g>\n     </g>\n    </g>\n    <g id=\"xtick_4\">\n     <g id=\"line2d_4\">\n      <g>\n       <use style=\"stroke:#000000;stroke-width:0.8;\" x=\"323.751642\" xlink:href=\"#m57442e94cb\" y=\"353.127273\"/>\n      </g>\n     </g>\n     <g id=\"text_4\">\n      <!-- 60 -->\n      <defs>\n       <path d=\"M 33.015625 40.375 \nQ 26.375 40.375 22.484375 35.828125 \nQ 18.609375 31.296875 18.609375 23.390625 \nQ 18.609375 15.53125 22.484375 10.953125 \nQ 26.375 6.390625 33.015625 6.390625 \nQ 39.65625 6.390625 43.53125 10.953125 \nQ 47.40625 15.53125 47.40625 23.390625 \nQ 47.40625 31.296875 43.53125 35.828125 \nQ 39.65625 40.375 33.015625 40.375 \nz\nM 52.59375 71.296875 \nL 52.59375 62.3125 \nQ 48.875 64.0625 45.09375 64.984375 \nQ 41.3125 65.921875 37.59375 65.921875 \nQ 27.828125 65.921875 22.671875 59.328125 \nQ 17.53125 52.734375 16.796875 39.40625 \nQ 19.671875 43.65625 24.015625 45.921875 \nQ 28.375 48.1875 33.59375 48.1875 \nQ 44.578125 48.1875 50.953125 41.515625 \nQ 57.328125 34.859375 57.328125 23.390625 \nQ 57.328125 12.15625 50.6875 5.359375 \nQ 44.046875 -1.421875 33.015625 -1.421875 \nQ 20.359375 -1.421875 13.671875 8.265625 \nQ 6.984375 17.96875 6.984375 36.375 \nQ 6.984375 53.65625 15.1875 63.9375 \nQ 23.390625 74.21875 37.203125 74.21875 \nQ 40.921875 74.21875 44.703125 73.484375 \nQ 48.484375 72.75 52.59375 71.296875 \nz\n\" id=\"DejaVuSans-54\"/>\n      </defs>\n      <g transform=\"translate(317.389142 367.72571)scale(0.1 -0.1)\">\n       <use xlink:href=\"#DejaVuSans-54\"/>\n       <use x=\"63.623047\" xlink:href=\"#DejaVuSans-48\"/>\n      </g>\n     </g>\n    </g>\n    <g id=\"xtick_5\">\n     <g id=\"line2d_5\">\n      <g>\n       <use style=\"stroke:#000000;stroke-width:0.8;\" x=\"414.174588\" xlink:href=\"#m57442e94cb\" y=\"353.127273\"/>\n      </g>\n     </g>\n     <g id=\"text_5\">\n      <!-- 80 -->\n      <defs>\n       <path d=\"M 31.78125 34.625 \nQ 24.75 34.625 20.71875 30.859375 \nQ 16.703125 27.09375 16.703125 20.515625 \nQ 16.703125 13.921875 20.71875 10.15625 \nQ 24.75 6.390625 31.78125 6.390625 \nQ 38.8125 6.390625 42.859375 10.171875 \nQ 46.921875 13.96875 46.921875 20.515625 \nQ 46.921875 27.09375 42.890625 30.859375 \nQ 38.875 34.625 31.78125 34.625 \nz\nM 21.921875 38.8125 \nQ 15.578125 40.375 12.03125 44.71875 \nQ 8.5 49.078125 8.5 55.328125 \nQ 8.5 64.0625 14.71875 69.140625 \nQ 20.953125 74.21875 31.78125 74.21875 \nQ 42.671875 74.21875 48.875 69.140625 \nQ 55.078125 64.0625 55.078125 55.328125 \nQ 55.078125 49.078125 51.53125 44.71875 \nQ 48 40.375 41.703125 38.8125 \nQ 48.828125 37.15625 52.796875 32.3125 \nQ 56.78125 27.484375 56.78125 20.515625 \nQ 56.78125 9.90625 50.3125 4.234375 \nQ 43.84375 -1.421875 31.78125 -1.421875 \nQ 19.734375 -1.421875 13.25 4.234375 \nQ 6.78125 9.90625 6.78125 20.515625 \nQ 6.78125 27.484375 10.78125 32.3125 \nQ 14.796875 37.15625 21.921875 38.8125 \nz\nM 18.3125 54.390625 \nQ 18.3125 48.734375 21.84375 45.5625 \nQ 25.390625 42.390625 31.78125 42.390625 \nQ 38.140625 42.390625 41.71875 45.5625 \nQ 45.3125 48.734375 45.3125 54.390625 \nQ 45.3125 60.0625 41.71875 63.234375 \nQ 38.140625 66.40625 31.78125 66.40625 \nQ 25.390625 66.40625 21.84375 63.234375 \nQ 18.3125 60.0625 18.3125 54.390625 \nz\n\" id=\"DejaVuSans-56\"/>\n      </defs>\n      <g transform=\"translate(407.812088 367.72571)scale(0.1 -0.1)\">\n       <use xlink:href=\"#DejaVuSans-56\"/>\n       <use x=\"63.623047\" xlink:href=\"#DejaVuSans-48\"/>\n      </g>\n     </g>\n    </g>\n    <g id=\"xtick_6\">\n     <g id=\"line2d_6\">\n      <g>\n       <use style=\"stroke:#000000;stroke-width:0.8;\" x=\"504.597534\" xlink:href=\"#m57442e94cb\" y=\"353.127273\"/>\n      </g>\n     </g>\n     <g id=\"text_6\">\n      <!-- 100 -->\n      <defs>\n       <path d=\"M 12.40625 8.296875 \nL 28.515625 8.296875 \nL 28.515625 63.921875 \nL 10.984375 60.40625 \nL 10.984375 69.390625 \nL 28.421875 72.90625 \nL 38.28125 72.90625 \nL 38.28125 8.296875 \nL 54.390625 8.296875 \nL 54.390625 0 \nL 12.40625 0 \nz\n\" id=\"DejaVuSans-49\"/>\n      </defs>\n      <g transform=\"translate(495.053784 367.72571)scale(0.1 -0.1)\">\n       <use xlink:href=\"#DejaVuSans-49\"/>\n       <use x=\"63.623047\" xlink:href=\"#DejaVuSans-48\"/>\n       <use x=\"127.246094\" xlink:href=\"#DejaVuSans-48\"/>\n      </g>\n     </g>\n    </g>\n   </g>\n   <g id=\"matplotlib.axis_2\">\n    <g id=\"ytick_1\">\n     <g id=\"line2d_7\">\n      <defs>\n       <path d=\"M 0 0 \nL -3.5 0 \n\" id=\"mad84c0ad55\" style=\"stroke:#000000;stroke-width:0.8;\"/>\n      </defs>\n      <g>\n       <use style=\"stroke:#000000;stroke-width:0.8;\" x=\"30.103125\" xlink:href=\"#mad84c0ad55\" y=\"292.947271\"/>\n      </g>\n     </g>\n     <g id=\"text_7\">\n      <!-- 0.2 -->\n      <defs>\n       <path d=\"M 10.6875 12.40625 \nL 21 12.40625 \nL 21 0 \nL 10.6875 0 \nz\n\" id=\"DejaVuSans-46\"/>\n      </defs>\n      <g transform=\"translate(7.2 296.746489)scale(0.1 -0.1)\">\n       <use xlink:href=\"#DejaVuSans-48\"/>\n       <use x=\"63.623047\" xlink:href=\"#DejaVuSans-46\"/>\n       <use x=\"95.410156\" xlink:href=\"#DejaVuSans-50\"/>\n      </g>\n     </g>\n    </g>\n    <g id=\"ytick_2\">\n     <g id=\"line2d_8\">\n      <g>\n       <use style=\"stroke:#000000;stroke-width:0.8;\" x=\"30.103125\" xlink:href=\"#mad84c0ad55\" y=\"216.480494\"/>\n      </g>\n     </g>\n     <g id=\"text_8\">\n      <!-- 0.4 -->\n      <g transform=\"translate(7.2 220.279713)scale(0.1 -0.1)\">\n       <use xlink:href=\"#DejaVuSans-48\"/>\n       <use x=\"63.623047\" xlink:href=\"#DejaVuSans-46\"/>\n       <use x=\"95.410156\" xlink:href=\"#DejaVuSans-52\"/>\n      </g>\n     </g>\n    </g>\n    <g id=\"ytick_3\">\n     <g id=\"line2d_9\">\n      <g>\n       <use style=\"stroke:#000000;stroke-width:0.8;\" x=\"30.103125\" xlink:href=\"#mad84c0ad55\" y=\"140.013718\"/>\n      </g>\n     </g>\n     <g id=\"text_9\">\n      <!-- 0.6 -->\n      <g transform=\"translate(7.2 143.812937)scale(0.1 -0.1)\">\n       <use xlink:href=\"#DejaVuSans-48\"/>\n       <use x=\"63.623047\" xlink:href=\"#DejaVuSans-46\"/>\n       <use x=\"95.410156\" xlink:href=\"#DejaVuSans-54\"/>\n      </g>\n     </g>\n    </g>\n    <g id=\"ytick_4\">\n     <g id=\"line2d_10\">\n      <g>\n       <use style=\"stroke:#000000;stroke-width:0.8;\" x=\"30.103125\" xlink:href=\"#mad84c0ad55\" y=\"63.546942\"/>\n      </g>\n     </g>\n     <g id=\"text_10\">\n      <!-- 0.8 -->\n      <g transform=\"translate(7.2 67.346161)scale(0.1 -0.1)\">\n       <use xlink:href=\"#DejaVuSans-48\"/>\n       <use x=\"63.623047\" xlink:href=\"#DejaVuSans-46\"/>\n       <use x=\"95.410156\" xlink:href=\"#DejaVuSans-56\"/>\n      </g>\n     </g>\n    </g>\n   </g>\n   <g id=\"line2d_11\">\n    <path clip-path=\"url(#p66a3b4e46c)\" d=\"M 52.482804 288.765494 \nL 57.003951 282.791527 \nL 61.525099 223.051858 \nL 66.046246 154.351239 \nL 70.567393 151.364255 \nL 75.088541 163.312189 \nL 79.609688 94.61157 \nL 84.130835 166.299172 \nL 88.651983 73.702686 \nL 93.17313 121.494421 \nL 97.694277 76.689669 \nL 102.215424 109.546487 \nL 106.736572 46.819835 \nL 111.257719 73.702686 \nL 115.778866 34.871901 \nL 120.300014 34.871901 \nL 124.821161 70.715702 \nL 129.342308 79.676652 \nL 133.863456 43.832851 \nL 138.384603 61.754752 \nL 142.90575 97.598553 \nL 147.426897 73.702686 \nL 151.948045 76.689669 \nL 156.469192 67.728719 \nL 160.990339 55.780785 \nL 165.511487 70.715702 \nL 170.032634 37.858884 \nL 174.553781 46.819835 \nL 179.074929 22.923967 \nL 183.596076 43.832851 \nL 188.117223 58.767768 \nL 192.638371 58.767768 \nL 197.159518 37.858884 \nL 201.680665 37.858884 \nL 206.201812 28.897934 \nL 210.72296 40.845868 \nL 215.244107 76.689669 \nL 219.765254 55.780785 \nL 224.286402 58.767768 \nL 228.807549 91.624586 \nL 233.328696 58.767768 \nL 237.849844 34.871901 \nL 242.370991 40.845868 \nL 246.892138 52.793801 \nL 251.413285 55.780785 \nL 255.934433 64.741735 \nL 260.45558 52.793801 \nL 264.976727 52.793801 \nL 269.497875 40.845868 \nL 274.019022 37.858884 \nL 278.540169 43.832851 \nL 283.061317 46.819835 \nL 287.582464 58.767768 \nL 292.103611 37.858884 \nL 296.624758 55.780785 \nL 301.145906 61.754752 \nL 305.667053 52.793801 \nL 310.1882 55.780785 \nL 314.709348 52.793801 \nL 319.230495 34.871901 \nL 323.751642 61.754752 \nL 328.27279 34.871901 \nL 332.793937 43.832851 \nL 337.315084 52.793801 \nL 341.836231 52.793801 \nL 346.357379 58.767768 \nL 350.878526 49.806818 \nL 355.399673 67.728719 \nL 359.920821 40.845868 \nL 364.441968 67.728719 \nL 368.963115 76.689669 \nL 373.484263 85.650619 \nL 378.00541 67.728719 \nL 382.526557 43.832851 \nL 387.047704 58.767768 \nL 391.568852 55.780785 \nL 396.089999 64.741735 \nL 400.611146 61.754752 \nL 405.132294 55.780785 \nL 409.653441 52.793801 \nL 414.174588 61.754752 \nL 418.695736 79.676652 \nL 423.216883 25.91095 \nL 427.73803 52.793801 \nL 432.259178 40.845868 \nL 436.780325 22.923967 \nL 441.301472 49.806818 \nL 445.822619 31.884917 \nL 450.343767 52.793801 \nL 454.864914 70.715702 \nL 459.386061 52.793801 \nL 463.907209 52.793801 \nL 468.428356 61.754752 \nL 472.949503 34.871901 \nL 477.470651 43.832851 \nL 481.991798 25.91095 \nL 486.512945 34.871901 \nL 491.034092 52.793801 \nL 495.55524 34.871901 \nL 500.076387 34.871901 \n\" style=\"fill:none;stroke:#1f77b4;stroke-linecap:square;stroke-width:1.5;\"/>\n   </g>\n   <g id=\"line2d_12\">\n    <path clip-path=\"url(#p66a3b4e46c)\" d=\"M 52.482804 337.403306 \nL 57.003951 289.002561 \nL 61.525099 216.480503 \nL 66.046246 156.663717 \nL 70.567393 154.351239 \nL 75.088541 163.718423 \nL 79.609688 79.786176 \nL 84.130835 164.78198 \nL 88.651983 68.788606 \nL 93.17313 123.733701 \nL 97.694277 88.526097 \nL 102.215424 118.440142 \nL 106.736572 49.831111 \nL 111.257719 72.25737 \nL 115.778866 34.871901 \nL 120.300014 40.492321 \nL 124.821161 69.586741 \nL 129.342308 82.568059 \nL 133.863456 42.5863 \nL 138.384603 61.754752 \nL 142.90575 97.598553 \nL 147.426897 73.702686 \nL 151.948045 71.180048 \nL 156.469192 67.728719 \nL 160.990339 55.780785 \nL 165.511487 65.421619 \nL 170.032634 39.451963 \nL 174.553781 45.596801 \nL 179.074929 22.923967 \nL 183.596076 43.832851 \nL 188.117223 58.767768 \nL 192.638371 58.767768 \nL 197.159518 37.858884 \nL 201.680665 37.858884 \nL 206.201812 28.897934 \nL 210.72296 39.575821 \nL 215.244107 76.689669 \nL 219.765254 59.538602 \nL 224.286402 55.04001 \nL 228.807549 91.624586 \nL 233.328696 58.767768 \nL 237.849844 34.871901 \nL 242.370991 47.783394 \nL 246.892138 51.523755 \nL 251.413285 49.523826 \nL 255.934433 62.181451 \nL 260.45558 51.523755 \nL 264.976727 51.523755 \nL 269.497875 42.5863 \nL 274.019022 44.79641 \nL 278.540169 45.596801 \nL 283.061317 44.354374 \nL 287.582464 57.544735 \nL 292.103611 39.669893 \nL 296.624758 50.770377 \nL 301.145906 57.12975 \nL 305.667053 46.513324 \nL 310.1882 49.523826 \nL 314.709348 50.233517 \nL 319.230495 32.406441 \nL 323.751642 59.147066 \nL 328.27279 33.648867 \nL 332.793937 43.832851 \nL 337.315084 52.793801 \nL 341.836231 52.793801 \nL 346.357379 58.767768 \nL 350.878526 49.806818 \nL 355.399673 66.482167 \nL 359.920821 39.669893 \nL 364.441968 66.482167 \nL 368.963115 76.689669 \nL 373.484263 85.650619 \nL 378.00541 67.728719 \nL 382.526557 49.523826 \nL 387.047704 57.544735 \nL 391.568852 54.534233 \nL 396.089999 63.471688 \nL 400.611146 63.471688 \nL 405.132294 54.534233 \nL 409.653441 54.534233 \nL 414.174588 63.471688 \nL 418.695736 88.155846 \nL 423.216883 27.72196 \nL 427.73803 60.116733 \nL 432.259178 42.5863 \nL 436.780325 24.711458 \nL 441.301472 51.523755 \nL 445.822619 31.884917 \nL 450.343767 54.534233 \nL 454.864914 72.409098 \nL 459.386061 54.534233 \nL 463.907209 54.534233 \nL 468.428356 63.471688 \nL 472.949503 34.871901 \nL 477.470651 43.832851 \nL 481.991798 27.72196 \nL 486.512945 36.659392 \nL 491.034092 54.534233 \nL 495.55524 36.659392 \nL 500.076387 36.659392 \n\" style=\"fill:none;stroke:#ff7f0e;stroke-linecap:square;stroke-width:1.5;\"/>\n   </g>\n   <g id=\"patch_3\">\n    <path d=\"M 30.103125 353.127273 \nL 30.103125 7.2 \n\" style=\"fill:none;stroke:#000000;stroke-linecap:square;stroke-linejoin:miter;stroke-width:0.8;\"/>\n   </g>\n   <g id=\"patch_4\">\n    <path d=\"M 522.456066 353.127273 \nL 522.456066 7.2 \n\" style=\"fill:none;stroke:#000000;stroke-linecap:square;stroke-linejoin:miter;stroke-width:0.8;\"/>\n   </g>\n   <g id=\"patch_5\">\n    <path d=\"M 30.103125 353.127273 \nL 522.456066 353.127273 \n\" style=\"fill:none;stroke:#000000;stroke-linecap:square;stroke-linejoin:miter;stroke-width:0.8;\"/>\n   </g>\n   <g id=\"patch_6\">\n    <path d=\"M 30.103125 7.2 \nL 522.456066 7.2 \n\" style=\"fill:none;stroke:#000000;stroke-linecap:square;stroke-linejoin:miter;stroke-width:0.8;\"/>\n   </g>\n   <g id=\"legend_1\">\n    <g id=\"patch_7\">\n     <path d=\"M 392.048254 348.127273 \nL 515.456066 348.127273 \nQ 517.456066 348.127273 517.456066 346.127273 \nL 517.456066 317.771023 \nQ 517.456066 315.771023 515.456066 315.771023 \nL 392.048254 315.771023 \nQ 390.048254 315.771023 390.048254 317.771023 \nL 390.048254 346.127273 \nQ 390.048254 348.127273 392.048254 348.127273 \nz\n\" style=\"fill:#ffffff;opacity:0.8;stroke:#cccccc;stroke-linejoin:miter;\"/>\n    </g>\n    <g id=\"line2d_13\">\n     <path d=\"M 394.048254 323.86946 \nL 414.048254 323.86946 \n\" style=\"fill:none;stroke:#1f77b4;stroke-linecap:square;stroke-width:1.5;\"/>\n    </g>\n    <g id=\"line2d_14\"/>\n    <g id=\"text_11\">\n     <!-- val/acc = 0.90625 -->\n     <defs>\n      <path d=\"M 2.984375 54.6875 \nL 12.5 54.6875 \nL 29.59375 8.796875 \nL 46.6875 54.6875 \nL 56.203125 54.6875 \nL 35.6875 0 \nL 23.484375 0 \nz\n\" id=\"DejaVuSans-118\"/>\n      <path d=\"M 34.28125 27.484375 \nQ 23.390625 27.484375 19.1875 25 \nQ 14.984375 22.515625 14.984375 16.5 \nQ 14.984375 11.71875 18.140625 8.90625 \nQ 21.296875 6.109375 26.703125 6.109375 \nQ 34.1875 6.109375 38.703125 11.40625 \nQ 43.21875 16.703125 43.21875 25.484375 \nL 43.21875 27.484375 \nz\nM 52.203125 31.203125 \nL 52.203125 0 \nL 43.21875 0 \nL 43.21875 8.296875 \nQ 40.140625 3.328125 35.546875 0.953125 \nQ 30.953125 -1.421875 24.3125 -1.421875 \nQ 15.921875 -1.421875 10.953125 3.296875 \nQ 6 8.015625 6 15.921875 \nQ 6 25.140625 12.171875 29.828125 \nQ 18.359375 34.515625 30.609375 34.515625 \nL 43.21875 34.515625 \nL 43.21875 35.40625 \nQ 43.21875 41.609375 39.140625 45 \nQ 35.0625 48.390625 27.6875 48.390625 \nQ 23 48.390625 18.546875 47.265625 \nQ 14.109375 46.140625 10.015625 43.890625 \nL 10.015625 52.203125 \nQ 14.9375 54.109375 19.578125 55.046875 \nQ 24.21875 56 28.609375 56 \nQ 40.484375 56 46.34375 49.84375 \nQ 52.203125 43.703125 52.203125 31.203125 \nz\n\" id=\"DejaVuSans-97\"/>\n      <path d=\"M 9.421875 75.984375 \nL 18.40625 75.984375 \nL 18.40625 0 \nL 9.421875 0 \nz\n\" id=\"DejaVuSans-108\"/>\n      <path d=\"M 25.390625 72.90625 \nL 33.6875 72.90625 \nL 8.296875 -9.28125 \nL 0 -9.28125 \nz\n\" id=\"DejaVuSans-47\"/>\n      <path d=\"M 48.78125 52.59375 \nL 48.78125 44.1875 \nQ 44.96875 46.296875 41.140625 47.34375 \nQ 37.3125 48.390625 33.40625 48.390625 \nQ 24.65625 48.390625 19.8125 42.84375 \nQ 14.984375 37.3125 14.984375 27.296875 \nQ 14.984375 17.28125 19.8125 11.734375 \nQ 24.65625 6.203125 33.40625 6.203125 \nQ 37.3125 6.203125 41.140625 7.25 \nQ 44.96875 8.296875 48.78125 10.40625 \nL 48.78125 2.09375 \nQ 45.015625 0.34375 40.984375 -0.53125 \nQ 36.96875 -1.421875 32.421875 -1.421875 \nQ 20.0625 -1.421875 12.78125 6.34375 \nQ 5.515625 14.109375 5.515625 27.296875 \nQ 5.515625 40.671875 12.859375 48.328125 \nQ 20.21875 56 33.015625 56 \nQ 37.15625 56 41.109375 55.140625 \nQ 45.0625 54.296875 48.78125 52.59375 \nz\n\" id=\"DejaVuSans-99\"/>\n      <path id=\"DejaVuSans-32\"/>\n      <path d=\"M 10.59375 45.40625 \nL 73.1875 45.40625 \nL 73.1875 37.203125 \nL 10.59375 37.203125 \nz\nM 10.59375 25.484375 \nL 73.1875 25.484375 \nL 73.1875 17.1875 \nL 10.59375 17.1875 \nz\n\" id=\"DejaVuSans-61\"/>\n      <path d=\"M 10.984375 1.515625 \nL 10.984375 10.5 \nQ 14.703125 8.734375 18.5 7.8125 \nQ 22.3125 6.890625 25.984375 6.890625 \nQ 35.75 6.890625 40.890625 13.453125 \nQ 46.046875 20.015625 46.78125 33.40625 \nQ 43.953125 29.203125 39.59375 26.953125 \nQ 35.25 24.703125 29.984375 24.703125 \nQ 19.046875 24.703125 12.671875 31.3125 \nQ 6.296875 37.9375 6.296875 49.421875 \nQ 6.296875 60.640625 12.9375 67.421875 \nQ 19.578125 74.21875 30.609375 74.21875 \nQ 43.265625 74.21875 49.921875 64.515625 \nQ 56.59375 54.828125 56.59375 36.375 \nQ 56.59375 19.140625 48.40625 8.859375 \nQ 40.234375 -1.421875 26.421875 -1.421875 \nQ 22.703125 -1.421875 18.890625 -0.6875 \nQ 15.09375 0.046875 10.984375 1.515625 \nz\nM 30.609375 32.421875 \nQ 37.25 32.421875 41.125 36.953125 \nQ 45.015625 41.5 45.015625 49.421875 \nQ 45.015625 57.28125 41.125 61.84375 \nQ 37.25 66.40625 30.609375 66.40625 \nQ 23.96875 66.40625 20.09375 61.84375 \nQ 16.21875 57.28125 16.21875 49.421875 \nQ 16.21875 41.5 20.09375 36.953125 \nQ 23.96875 32.421875 30.609375 32.421875 \nz\n\" id=\"DejaVuSans-57\"/>\n      <path d=\"M 10.796875 72.90625 \nL 49.515625 72.90625 \nL 49.515625 64.59375 \nL 19.828125 64.59375 \nL 19.828125 46.734375 \nQ 21.96875 47.46875 24.109375 47.828125 \nQ 26.265625 48.1875 28.421875 48.1875 \nQ 40.625 48.1875 47.75 41.5 \nQ 54.890625 34.8125 54.890625 23.390625 \nQ 54.890625 11.625 47.5625 5.09375 \nQ 40.234375 -1.421875 26.90625 -1.421875 \nQ 22.3125 -1.421875 17.546875 -0.640625 \nQ 12.796875 0.140625 7.71875 1.703125 \nL 7.71875 11.625 \nQ 12.109375 9.234375 16.796875 8.0625 \nQ 21.484375 6.890625 26.703125 6.890625 \nQ 35.15625 6.890625 40.078125 11.328125 \nQ 45.015625 15.765625 45.015625 23.390625 \nQ 45.015625 31 40.078125 35.4375 \nQ 35.15625 39.890625 26.703125 39.890625 \nQ 22.75 39.890625 18.8125 39.015625 \nQ 14.890625 38.140625 10.796875 36.28125 \nz\n\" id=\"DejaVuSans-53\"/>\n     </defs>\n     <g transform=\"translate(422.048254 327.36946)scale(0.1 -0.1)\">\n      <use xlink:href=\"#DejaVuSans-118\"/>\n      <use x=\"59.179688\" xlink:href=\"#DejaVuSans-97\"/>\n      <use x=\"120.458984\" xlink:href=\"#DejaVuSans-108\"/>\n      <use x=\"148.242188\" xlink:href=\"#DejaVuSans-47\"/>\n      <use x=\"181.933594\" xlink:href=\"#DejaVuSans-97\"/>\n      <use x=\"243.212891\" xlink:href=\"#DejaVuSans-99\"/>\n      <use x=\"298.193359\" xlink:href=\"#DejaVuSans-99\"/>\n      <use x=\"353.173828\" xlink:href=\"#DejaVuSans-32\"/>\n      <use x=\"384.960938\" xlink:href=\"#DejaVuSans-61\"/>\n      <use x=\"468.75\" xlink:href=\"#DejaVuSans-32\"/>\n      <use x=\"500.537109\" xlink:href=\"#DejaVuSans-48\"/>\n      <use x=\"564.160156\" xlink:href=\"#DejaVuSans-46\"/>\n      <use x=\"595.947266\" xlink:href=\"#DejaVuSans-57\"/>\n      <use x=\"659.570312\" xlink:href=\"#DejaVuSans-48\"/>\n      <use x=\"723.193359\" xlink:href=\"#DejaVuSans-54\"/>\n      <use x=\"786.816406\" xlink:href=\"#DejaVuSans-50\"/>\n      <use x=\"850.439453\" xlink:href=\"#DejaVuSans-53\"/>\n     </g>\n    </g>\n    <g id=\"line2d_15\">\n     <path d=\"M 394.048254 338.547585 \nL 414.048254 338.547585 \n\" style=\"fill:none;stroke:#ff7f0e;stroke-linecap:square;stroke-width:1.5;\"/>\n    </g>\n    <g id=\"line2d_16\"/>\n    <g id=\"text_12\">\n     <!-- val/f1 = 0.90625 -->\n     <defs>\n      <path d=\"M 37.109375 75.984375 \nL 37.109375 68.5 \nL 28.515625 68.5 \nQ 23.6875 68.5 21.796875 66.546875 \nQ 19.921875 64.59375 19.921875 59.515625 \nL 19.921875 54.6875 \nL 34.71875 54.6875 \nL 34.71875 47.703125 \nL 19.921875 47.703125 \nL 19.921875 0 \nL 10.890625 0 \nL 10.890625 47.703125 \nL 2.296875 47.703125 \nL 2.296875 54.6875 \nL 10.890625 54.6875 \nL 10.890625 58.5 \nQ 10.890625 67.625 15.140625 71.796875 \nQ 19.390625 75.984375 28.609375 75.984375 \nz\n\" id=\"DejaVuSans-102\"/>\n     </defs>\n     <g transform=\"translate(422.048254 342.047585)scale(0.1 -0.1)\">\n      <use xlink:href=\"#DejaVuSans-118\"/>\n      <use x=\"59.179688\" xlink:href=\"#DejaVuSans-97\"/>\n      <use x=\"120.458984\" xlink:href=\"#DejaVuSans-108\"/>\n      <use x=\"148.242188\" xlink:href=\"#DejaVuSans-47\"/>\n      <use x=\"181.933594\" xlink:href=\"#DejaVuSans-102\"/>\n      <use x=\"217.138672\" xlink:href=\"#DejaVuSans-49\"/>\n      <use x=\"280.761719\" xlink:href=\"#DejaVuSans-32\"/>\n      <use x=\"312.548828\" xlink:href=\"#DejaVuSans-61\"/>\n      <use x=\"396.337891\" xlink:href=\"#DejaVuSans-32\"/>\n      <use x=\"428.125\" xlink:href=\"#DejaVuSans-48\"/>\n      <use x=\"491.748047\" xlink:href=\"#DejaVuSans-46\"/>\n      <use x=\"523.535156\" xlink:href=\"#DejaVuSans-57\"/>\n      <use x=\"587.158203\" xlink:href=\"#DejaVuSans-48\"/>\n      <use x=\"650.78125\" xlink:href=\"#DejaVuSans-54\"/>\n      <use x=\"714.404297\" xlink:href=\"#DejaVuSans-50\"/>\n      <use x=\"778.027344\" xlink:href=\"#DejaVuSans-53\"/>\n     </g>\n    </g>\n   </g>\n  </g>\n  <g id=\"axes_2\">\n   <g id=\"patch_8\">\n    <path d=\"M 620.926654 353.127273 \nL 1113.279596 353.127273 \nL 1113.279596 7.2 \nL 620.926654 7.2 \nz\n\" style=\"fill:#ffffff;\"/>\n   </g>\n   <g id=\"matplotlib.axis_3\">\n    <g id=\"xtick_7\">\n     <g id=\"line2d_17\">\n      <g>\n       <use style=\"stroke:#000000;stroke-width:0.8;\" x=\"643.306334\" xlink:href=\"#m57442e94cb\" y=\"353.127273\"/>\n      </g>\n     </g>\n     <g id=\"text_13\">\n      <!-- 0 -->\n      <g transform=\"translate(640.125084 367.72571)scale(0.1 -0.1)\">\n       <use xlink:href=\"#DejaVuSans-48\"/>\n      </g>\n     </g>\n    </g>\n    <g id=\"xtick_8\">\n     <g id=\"line2d_18\">\n      <g>\n       <use style=\"stroke:#000000;stroke-width:0.8;\" x=\"733.72928\" xlink:href=\"#m57442e94cb\" y=\"353.127273\"/>\n      </g>\n     </g>\n     <g id=\"text_14\">\n      <!-- 20 -->\n      <g transform=\"translate(727.36678 367.72571)scale(0.1 -0.1)\">\n       <use xlink:href=\"#DejaVuSans-50\"/>\n       <use x=\"63.623047\" xlink:href=\"#DejaVuSans-48\"/>\n      </g>\n     </g>\n    </g>\n    <g id=\"xtick_9\">\n     <g id=\"line2d_19\">\n      <g>\n       <use style=\"stroke:#000000;stroke-width:0.8;\" x=\"824.152226\" xlink:href=\"#m57442e94cb\" y=\"353.127273\"/>\n      </g>\n     </g>\n     <g id=\"text_15\">\n      <!-- 40 -->\n      <g transform=\"translate(817.789726 367.72571)scale(0.1 -0.1)\">\n       <use xlink:href=\"#DejaVuSans-52\"/>\n       <use x=\"63.623047\" xlink:href=\"#DejaVuSans-48\"/>\n      </g>\n     </g>\n    </g>\n    <g id=\"xtick_10\">\n     <g id=\"line2d_20\">\n      <g>\n       <use style=\"stroke:#000000;stroke-width:0.8;\" x=\"914.575172\" xlink:href=\"#m57442e94cb\" y=\"353.127273\"/>\n      </g>\n     </g>\n     <g id=\"text_16\">\n      <!-- 60 -->\n      <g transform=\"translate(908.212672 367.72571)scale(0.1 -0.1)\">\n       <use xlink:href=\"#DejaVuSans-54\"/>\n       <use x=\"63.623047\" xlink:href=\"#DejaVuSans-48\"/>\n      </g>\n     </g>\n    </g>\n    <g id=\"xtick_11\">\n     <g id=\"line2d_21\">\n      <g>\n       <use style=\"stroke:#000000;stroke-width:0.8;\" x=\"1004.998118\" xlink:href=\"#m57442e94cb\" y=\"353.127273\"/>\n      </g>\n     </g>\n     <g id=\"text_17\">\n      <!-- 80 -->\n      <g transform=\"translate(998.635618 367.72571)scale(0.1 -0.1)\">\n       <use xlink:href=\"#DejaVuSans-56\"/>\n       <use x=\"63.623047\" xlink:href=\"#DejaVuSans-48\"/>\n      </g>\n     </g>\n    </g>\n    <g id=\"xtick_12\">\n     <g id=\"line2d_22\">\n      <g>\n       <use style=\"stroke:#000000;stroke-width:0.8;\" x=\"1095.421064\" xlink:href=\"#m57442e94cb\" y=\"353.127273\"/>\n      </g>\n     </g>\n     <g id=\"text_18\">\n      <!-- 100 -->\n      <g transform=\"translate(1085.877314 367.72571)scale(0.1 -0.1)\">\n       <use xlink:href=\"#DejaVuSans-49\"/>\n       <use x=\"63.623047\" xlink:href=\"#DejaVuSans-48\"/>\n       <use x=\"127.246094\" xlink:href=\"#DejaVuSans-48\"/>\n      </g>\n     </g>\n    </g>\n   </g>\n   <g id=\"matplotlib.axis_4\">\n    <g id=\"ytick_5\">\n     <g id=\"line2d_23\">\n      <g>\n       <use style=\"stroke:#000000;stroke-width:0.8;\" x=\"620.926654\" xlink:href=\"#mad84c0ad55\" y=\"337.713889\"/>\n      </g>\n     </g>\n     <g id=\"text_19\">\n      <!-- 0.0000 -->\n      <g transform=\"translate(578.936029 341.513108)scale(0.1 -0.1)\">\n       <use xlink:href=\"#DejaVuSans-48\"/>\n       <use x=\"63.623047\" xlink:href=\"#DejaVuSans-46\"/>\n       <use x=\"95.410156\" xlink:href=\"#DejaVuSans-48\"/>\n       <use x=\"159.033203\" xlink:href=\"#DejaVuSans-48\"/>\n       <use x=\"222.65625\" xlink:href=\"#DejaVuSans-48\"/>\n       <use x=\"286.279297\" xlink:href=\"#DejaVuSans-48\"/>\n      </g>\n     </g>\n    </g>\n    <g id=\"ytick_6\">\n     <g id=\"line2d_24\">\n      <g>\n       <use style=\"stroke:#000000;stroke-width:0.8;\" x=\"620.926654\" xlink:href=\"#mad84c0ad55\" y=\"285.248902\"/>\n      </g>\n     </g>\n     <g id=\"text_20\">\n      <!-- 0.0005 -->\n      <g transform=\"translate(578.936029 289.048121)scale(0.1 -0.1)\">\n       <use xlink:href=\"#DejaVuSans-48\"/>\n       <use x=\"63.623047\" xlink:href=\"#DejaVuSans-46\"/>\n       <use x=\"95.410156\" xlink:href=\"#DejaVuSans-48\"/>\n       <use x=\"159.033203\" xlink:href=\"#DejaVuSans-48\"/>\n       <use x=\"222.65625\" xlink:href=\"#DejaVuSans-48\"/>\n       <use x=\"286.279297\" xlink:href=\"#DejaVuSans-53\"/>\n      </g>\n     </g>\n    </g>\n    <g id=\"ytick_7\">\n     <g id=\"line2d_25\">\n      <g>\n       <use style=\"stroke:#000000;stroke-width:0.8;\" x=\"620.926654\" xlink:href=\"#mad84c0ad55\" y=\"232.783915\"/>\n      </g>\n     </g>\n     <g id=\"text_21\">\n      <!-- 0.0010 -->\n      <g transform=\"translate(578.936029 236.583134)scale(0.1 -0.1)\">\n       <use xlink:href=\"#DejaVuSans-48\"/>\n       <use x=\"63.623047\" xlink:href=\"#DejaVuSans-46\"/>\n       <use x=\"95.410156\" xlink:href=\"#DejaVuSans-48\"/>\n       <use x=\"159.033203\" xlink:href=\"#DejaVuSans-48\"/>\n       <use x=\"222.65625\" xlink:href=\"#DejaVuSans-49\"/>\n       <use x=\"286.279297\" xlink:href=\"#DejaVuSans-48\"/>\n      </g>\n     </g>\n    </g>\n    <g id=\"ytick_8\">\n     <g id=\"line2d_26\">\n      <g>\n       <use style=\"stroke:#000000;stroke-width:0.8;\" x=\"620.926654\" xlink:href=\"#mad84c0ad55\" y=\"180.318928\"/>\n      </g>\n     </g>\n     <g id=\"text_22\">\n      <!-- 0.0015 -->\n      <g transform=\"translate(578.936029 184.118147)scale(0.1 -0.1)\">\n       <use xlink:href=\"#DejaVuSans-48\"/>\n       <use x=\"63.623047\" xlink:href=\"#DejaVuSans-46\"/>\n       <use x=\"95.410156\" xlink:href=\"#DejaVuSans-48\"/>\n       <use x=\"159.033203\" xlink:href=\"#DejaVuSans-48\"/>\n       <use x=\"222.65625\" xlink:href=\"#DejaVuSans-49\"/>\n       <use x=\"286.279297\" xlink:href=\"#DejaVuSans-53\"/>\n      </g>\n     </g>\n    </g>\n    <g id=\"ytick_9\">\n     <g id=\"line2d_27\">\n      <g>\n       <use style=\"stroke:#000000;stroke-width:0.8;\" x=\"620.926654\" xlink:href=\"#mad84c0ad55\" y=\"127.853941\"/>\n      </g>\n     </g>\n     <g id=\"text_23\">\n      <!-- 0.0020 -->\n      <g transform=\"translate(578.936029 131.65316)scale(0.1 -0.1)\">\n       <use xlink:href=\"#DejaVuSans-48\"/>\n       <use x=\"63.623047\" xlink:href=\"#DejaVuSans-46\"/>\n       <use x=\"95.410156\" xlink:href=\"#DejaVuSans-48\"/>\n       <use x=\"159.033203\" xlink:href=\"#DejaVuSans-48\"/>\n       <use x=\"222.65625\" xlink:href=\"#DejaVuSans-50\"/>\n       <use x=\"286.279297\" xlink:href=\"#DejaVuSans-48\"/>\n      </g>\n     </g>\n    </g>\n    <g id=\"ytick_10\">\n     <g id=\"line2d_28\">\n      <g>\n       <use style=\"stroke:#000000;stroke-width:0.8;\" x=\"620.926654\" xlink:href=\"#mad84c0ad55\" y=\"75.388954\"/>\n      </g>\n     </g>\n     <g id=\"text_24\">\n      <!-- 0.0025 -->\n      <g transform=\"translate(578.936029 79.188173)scale(0.1 -0.1)\">\n       <use xlink:href=\"#DejaVuSans-48\"/>\n       <use x=\"63.623047\" xlink:href=\"#DejaVuSans-46\"/>\n       <use x=\"95.410156\" xlink:href=\"#DejaVuSans-48\"/>\n       <use x=\"159.033203\" xlink:href=\"#DejaVuSans-48\"/>\n       <use x=\"222.65625\" xlink:href=\"#DejaVuSans-50\"/>\n       <use x=\"286.279297\" xlink:href=\"#DejaVuSans-53\"/>\n      </g>\n     </g>\n    </g>\n    <g id=\"ytick_11\">\n     <g id=\"line2d_29\">\n      <g>\n       <use style=\"stroke:#000000;stroke-width:0.8;\" x=\"620.926654\" xlink:href=\"#mad84c0ad55\" y=\"22.923967\"/>\n      </g>\n     </g>\n     <g id=\"text_25\">\n      <!-- 0.0030 -->\n      <defs>\n       <path d=\"M 40.578125 39.3125 \nQ 47.65625 37.796875 51.625 33 \nQ 55.609375 28.21875 55.609375 21.1875 \nQ 55.609375 10.40625 48.1875 4.484375 \nQ 40.765625 -1.421875 27.09375 -1.421875 \nQ 22.515625 -1.421875 17.65625 -0.515625 \nQ 12.796875 0.390625 7.625 2.203125 \nL 7.625 11.71875 \nQ 11.71875 9.328125 16.59375 8.109375 \nQ 21.484375 6.890625 26.8125 6.890625 \nQ 36.078125 6.890625 40.9375 10.546875 \nQ 45.796875 14.203125 45.796875 21.1875 \nQ 45.796875 27.640625 41.28125 31.265625 \nQ 36.765625 34.90625 28.71875 34.90625 \nL 20.21875 34.90625 \nL 20.21875 43.015625 \nL 29.109375 43.015625 \nQ 36.375 43.015625 40.234375 45.921875 \nQ 44.09375 48.828125 44.09375 54.296875 \nQ 44.09375 59.90625 40.109375 62.90625 \nQ 36.140625 65.921875 28.71875 65.921875 \nQ 24.65625 65.921875 20.015625 65.03125 \nQ 15.375 64.15625 9.8125 62.3125 \nL 9.8125 71.09375 \nQ 15.4375 72.65625 20.34375 73.4375 \nQ 25.25 74.21875 29.59375 74.21875 \nQ 40.828125 74.21875 47.359375 69.109375 \nQ 53.90625 64.015625 53.90625 55.328125 \nQ 53.90625 49.265625 50.4375 45.09375 \nQ 46.96875 40.921875 40.578125 39.3125 \nz\n\" id=\"DejaVuSans-51\"/>\n      </defs>\n      <g transform=\"translate(578.936029 26.723186)scale(0.1 -0.1)\">\n       <use xlink:href=\"#DejaVuSans-48\"/>\n       <use x=\"63.623047\" xlink:href=\"#DejaVuSans-46\"/>\n       <use x=\"95.410156\" xlink:href=\"#DejaVuSans-48\"/>\n       <use x=\"159.033203\" xlink:href=\"#DejaVuSans-48\"/>\n       <use x=\"222.65625\" xlink:href=\"#DejaVuSans-51\"/>\n       <use x=\"286.279297\" xlink:href=\"#DejaVuSans-48\"/>\n      </g>\n     </g>\n    </g>\n   </g>\n   <g id=\"line2d_30\">\n    <path clip-path=\"url(#pb2bef1bfc4)\" d=\"M 643.306334 23.001632 \nL 647.827481 22.923967 \nL 652.348628 23.001632 \nL 656.869775 23.23455 \nL 661.390923 23.622491 \nL 665.91207 24.165073 \nL 670.433217 24.86176 \nL 674.954365 25.711864 \nL 679.475512 26.714547 \nL 683.996659 27.868819 \nL 688.517807 29.173541 \nL 693.038954 30.627425 \nL 697.560101 32.229036 \nL 702.081248 33.976794 \nL 706.602396 35.868974 \nL 711.123543 37.903709 \nL 715.64469 40.078991 \nL 720.165838 42.392672 \nL 724.686985 44.84247 \nL 729.208132 47.425967 \nL 733.72928 50.140613 \nL 738.250427 52.98373 \nL 742.771574 55.952511 \nL 747.292721 59.044026 \nL 751.813869 62.255225 \nL 756.335016 65.582939 \nL 760.856163 69.023884 \nL 765.377311 72.574663 \nL 769.898458 76.231773 \nL 774.419605 79.991604 \nL 778.940753 83.850446 \nL 783.4619 87.804491 \nL 787.983047 91.849837 \nL 792.504195 95.98249 \nL 797.025342 100.198374 \nL 801.546489 104.493327 \nL 806.067636 108.863111 \nL 810.588784 113.303413 \nL 815.109931 117.809851 \nL 819.631078 122.377978 \nL 824.152226 127.003286 \nL 828.673373 131.68121 \nL 833.19452 136.407134 \nL 837.715668 141.176393 \nL 842.236815 145.984281 \nL 846.757962 150.826053 \nL 851.279109 155.696931 \nL 855.800257 160.592108 \nL 860.321404 165.506754 \nL 864.842551 170.436016 \nL 869.363699 175.375033 \nL 873.884846 180.318928 \nL 878.405993 185.262823 \nL 882.927141 190.201839 \nL 887.448288 195.131102 \nL 891.969435 200.045747 \nL 896.490582 204.940924 \nL 901.01173 209.811803 \nL 905.532877 214.653575 \nL 910.054024 219.461463 \nL 914.575172 224.230722 \nL 919.096319 228.956646 \nL 923.617466 233.63457 \nL 928.138614 238.259877 \nL 932.659761 242.828005 \nL 937.180908 247.334443 \nL 941.702055 251.774745 \nL 946.223203 256.144529 \nL 950.74435 260.439482 \nL 955.265497 264.655365 \nL 959.786645 268.788019 \nL 964.307792 272.833365 \nL 968.828939 276.78741 \nL 973.350087 280.646252 \nL 977.871234 284.406083 \nL 982.392381 288.063193 \nL 986.913529 291.613972 \nL 991.434676 295.054916 \nL 995.955823 298.38263 \nL 1000.47697 301.59383 \nL 1004.998118 304.685345 \nL 1009.519265 307.654126 \nL 1014.040412 310.497243 \nL 1018.56156 313.211889 \nL 1023.082707 315.795386 \nL 1027.603854 318.245184 \nL 1032.125002 320.558865 \nL 1036.646149 322.734146 \nL 1041.167296 324.768881 \nL 1045.688443 326.661062 \nL 1050.209591 328.40882 \nL 1054.730738 330.010431 \nL 1059.251885 331.464315 \nL 1063.773033 332.769037 \nL 1068.29418 333.923308 \nL 1072.815327 334.925991 \nL 1077.336475 335.776096 \nL 1081.857622 336.472783 \nL 1086.378769 337.015364 \nL 1090.899916 337.403306 \n\" style=\"fill:none;stroke:#1f77b4;stroke-linecap:square;stroke-width:1.5;\"/>\n   </g>\n   <g id=\"patch_9\">\n    <path d=\"M 620.926654 353.127273 \nL 620.926654 7.2 \n\" style=\"fill:none;stroke:#000000;stroke-linecap:square;stroke-linejoin:miter;stroke-width:0.8;\"/>\n   </g>\n   <g id=\"patch_10\">\n    <path d=\"M 1113.279596 353.127273 \nL 1113.279596 7.2 \n\" style=\"fill:none;stroke:#000000;stroke-linecap:square;stroke-linejoin:miter;stroke-width:0.8;\"/>\n   </g>\n   <g id=\"patch_11\">\n    <path d=\"M 620.926654 353.127273 \nL 1113.279596 353.127273 \n\" style=\"fill:none;stroke:#000000;stroke-linecap:square;stroke-linejoin:miter;stroke-width:0.8;\"/>\n   </g>\n   <g id=\"patch_12\">\n    <path d=\"M 620.926654 7.2 \nL 1113.279596 7.2 \n\" style=\"fill:none;stroke:#000000;stroke-linecap:square;stroke-linejoin:miter;stroke-width:0.8;\"/>\n   </g>\n   <g id=\"legend_2\">\n    <g id=\"patch_13\">\n     <path d=\"M 874.392096 30.15625 \nL 1106.279596 30.15625 \nQ 1108.279596 30.15625 1108.279596 28.15625 \nL 1108.279596 14.2 \nQ 1108.279596 12.2 1106.279596 12.2 \nL 874.392096 12.2 \nQ 872.392096 12.2 872.392096 14.2 \nL 872.392096 28.15625 \nQ 872.392096 30.15625 874.392096 30.15625 \nz\n\" style=\"fill:#ffffff;opacity:0.8;stroke:#cccccc;stroke-linejoin:miter;\"/>\n    </g>\n    <g id=\"line2d_31\">\n     <path d=\"M 876.392096 20.298437 \nL 896.392096 20.298437 \n\" style=\"fill:none;stroke:#1f77b4;stroke-linecap:square;stroke-width:1.5;\"/>\n    </g>\n    <g id=\"line2d_32\"/>\n    <g id=\"text_26\">\n     <!-- hyperparameters/learning_rate = 0.003 -->\n     <defs>\n      <path d=\"M 54.890625 33.015625 \nL 54.890625 0 \nL 45.90625 0 \nL 45.90625 32.71875 \nQ 45.90625 40.484375 42.875 44.328125 \nQ 39.84375 48.1875 33.796875 48.1875 \nQ 26.515625 48.1875 22.3125 43.546875 \nQ 18.109375 38.921875 18.109375 30.90625 \nL 18.109375 0 \nL 9.078125 0 \nL 9.078125 75.984375 \nL 18.109375 75.984375 \nL 18.109375 46.1875 \nQ 21.34375 51.125 25.703125 53.5625 \nQ 30.078125 56 35.796875 56 \nQ 45.21875 56 50.046875 50.171875 \nQ 54.890625 44.34375 54.890625 33.015625 \nz\n\" id=\"DejaVuSans-104\"/>\n      <path d=\"M 32.171875 -5.078125 \nQ 28.375 -14.84375 24.75 -17.8125 \nQ 21.140625 -20.796875 15.09375 -20.796875 \nL 7.90625 -20.796875 \nL 7.90625 -13.28125 \nL 13.1875 -13.28125 \nQ 16.890625 -13.28125 18.9375 -11.515625 \nQ 21 -9.765625 23.484375 -3.21875 \nL 25.09375 0.875 \nL 2.984375 54.6875 \nL 12.5 54.6875 \nL 29.59375 11.921875 \nL 46.6875 54.6875 \nL 56.203125 54.6875 \nz\n\" id=\"DejaVuSans-121\"/>\n      <path d=\"M 18.109375 8.203125 \nL 18.109375 -20.796875 \nL 9.078125 -20.796875 \nL 9.078125 54.6875 \nL 18.109375 54.6875 \nL 18.109375 46.390625 \nQ 20.953125 51.265625 25.265625 53.625 \nQ 29.59375 56 35.59375 56 \nQ 45.5625 56 51.78125 48.09375 \nQ 58.015625 40.1875 58.015625 27.296875 \nQ 58.015625 14.40625 51.78125 6.484375 \nQ 45.5625 -1.421875 35.59375 -1.421875 \nQ 29.59375 -1.421875 25.265625 0.953125 \nQ 20.953125 3.328125 18.109375 8.203125 \nz\nM 48.6875 27.296875 \nQ 48.6875 37.203125 44.609375 42.84375 \nQ 40.53125 48.484375 33.40625 48.484375 \nQ 26.265625 48.484375 22.1875 42.84375 \nQ 18.109375 37.203125 18.109375 27.296875 \nQ 18.109375 17.390625 22.1875 11.75 \nQ 26.265625 6.109375 33.40625 6.109375 \nQ 40.53125 6.109375 44.609375 11.75 \nQ 48.6875 17.390625 48.6875 27.296875 \nz\n\" id=\"DejaVuSans-112\"/>\n      <path d=\"M 56.203125 29.59375 \nL 56.203125 25.203125 \nL 14.890625 25.203125 \nQ 15.484375 15.921875 20.484375 11.0625 \nQ 25.484375 6.203125 34.421875 6.203125 \nQ 39.59375 6.203125 44.453125 7.46875 \nQ 49.3125 8.734375 54.109375 11.28125 \nL 54.109375 2.78125 \nQ 49.265625 0.734375 44.1875 -0.34375 \nQ 39.109375 -1.421875 33.890625 -1.421875 \nQ 20.796875 -1.421875 13.15625 6.1875 \nQ 5.515625 13.8125 5.515625 26.8125 \nQ 5.515625 40.234375 12.765625 48.109375 \nQ 20.015625 56 32.328125 56 \nQ 43.359375 56 49.78125 48.890625 \nQ 56.203125 41.796875 56.203125 29.59375 \nz\nM 47.21875 32.234375 \nQ 47.125 39.59375 43.09375 43.984375 \nQ 39.0625 48.390625 32.421875 48.390625 \nQ 24.90625 48.390625 20.390625 44.140625 \nQ 15.875 39.890625 15.1875 32.171875 \nz\n\" id=\"DejaVuSans-101\"/>\n      <path d=\"M 41.109375 46.296875 \nQ 39.59375 47.171875 37.8125 47.578125 \nQ 36.03125 48 33.890625 48 \nQ 26.265625 48 22.1875 43.046875 \nQ 18.109375 38.09375 18.109375 28.8125 \nL 18.109375 0 \nL 9.078125 0 \nL 9.078125 54.6875 \nL 18.109375 54.6875 \nL 18.109375 46.1875 \nQ 20.953125 51.171875 25.484375 53.578125 \nQ 30.03125 56 36.53125 56 \nQ 37.453125 56 38.578125 55.875 \nQ 39.703125 55.765625 41.0625 55.515625 \nz\n\" id=\"DejaVuSans-114\"/>\n      <path d=\"M 52 44.1875 \nQ 55.375 50.25 60.0625 53.125 \nQ 64.75 56 71.09375 56 \nQ 79.640625 56 84.28125 50.015625 \nQ 88.921875 44.046875 88.921875 33.015625 \nL 88.921875 0 \nL 79.890625 0 \nL 79.890625 32.71875 \nQ 79.890625 40.578125 77.09375 44.375 \nQ 74.3125 48.1875 68.609375 48.1875 \nQ 61.625 48.1875 57.5625 43.546875 \nQ 53.515625 38.921875 53.515625 30.90625 \nL 53.515625 0 \nL 44.484375 0 \nL 44.484375 32.71875 \nQ 44.484375 40.625 41.703125 44.40625 \nQ 38.921875 48.1875 33.109375 48.1875 \nQ 26.21875 48.1875 22.15625 43.53125 \nQ 18.109375 38.875 18.109375 30.90625 \nL 18.109375 0 \nL 9.078125 0 \nL 9.078125 54.6875 \nL 18.109375 54.6875 \nL 18.109375 46.1875 \nQ 21.1875 51.21875 25.484375 53.609375 \nQ 29.78125 56 35.6875 56 \nQ 41.65625 56 45.828125 52.96875 \nQ 50 49.953125 52 44.1875 \nz\n\" id=\"DejaVuSans-109\"/>\n      <path d=\"M 18.3125 70.21875 \nL 18.3125 54.6875 \nL 36.8125 54.6875 \nL 36.8125 47.703125 \nL 18.3125 47.703125 \nL 18.3125 18.015625 \nQ 18.3125 11.328125 20.140625 9.421875 \nQ 21.96875 7.515625 27.59375 7.515625 \nL 36.8125 7.515625 \nL 36.8125 0 \nL 27.59375 0 \nQ 17.1875 0 13.234375 3.875 \nQ 9.28125 7.765625 9.28125 18.015625 \nL 9.28125 47.703125 \nL 2.6875 47.703125 \nL 2.6875 54.6875 \nL 9.28125 54.6875 \nL 9.28125 70.21875 \nz\n\" id=\"DejaVuSans-116\"/>\n      <path d=\"M 44.28125 53.078125 \nL 44.28125 44.578125 \nQ 40.484375 46.53125 36.375 47.5 \nQ 32.28125 48.484375 27.875 48.484375 \nQ 21.1875 48.484375 17.84375 46.4375 \nQ 14.5 44.390625 14.5 40.28125 \nQ 14.5 37.15625 16.890625 35.375 \nQ 19.28125 33.59375 26.515625 31.984375 \nL 29.59375 31.296875 \nQ 39.15625 29.25 43.1875 25.515625 \nQ 47.21875 21.78125 47.21875 15.09375 \nQ 47.21875 7.46875 41.1875 3.015625 \nQ 35.15625 -1.421875 24.609375 -1.421875 \nQ 20.21875 -1.421875 15.453125 -0.5625 \nQ 10.6875 0.296875 5.421875 2 \nL 5.421875 11.28125 \nQ 10.40625 8.6875 15.234375 7.390625 \nQ 20.0625 6.109375 24.8125 6.109375 \nQ 31.15625 6.109375 34.5625 8.28125 \nQ 37.984375 10.453125 37.984375 14.40625 \nQ 37.984375 18.0625 35.515625 20.015625 \nQ 33.0625 21.96875 24.703125 23.78125 \nL 21.578125 24.515625 \nQ 13.234375 26.265625 9.515625 29.90625 \nQ 5.8125 33.546875 5.8125 39.890625 \nQ 5.8125 47.609375 11.28125 51.796875 \nQ 16.75 56 26.8125 56 \nQ 31.78125 56 36.171875 55.265625 \nQ 40.578125 54.546875 44.28125 53.078125 \nz\n\" id=\"DejaVuSans-115\"/>\n      <path d=\"M 54.890625 33.015625 \nL 54.890625 0 \nL 45.90625 0 \nL 45.90625 32.71875 \nQ 45.90625 40.484375 42.875 44.328125 \nQ 39.84375 48.1875 33.796875 48.1875 \nQ 26.515625 48.1875 22.3125 43.546875 \nQ 18.109375 38.921875 18.109375 30.90625 \nL 18.109375 0 \nL 9.078125 0 \nL 9.078125 54.6875 \nL 18.109375 54.6875 \nL 18.109375 46.1875 \nQ 21.34375 51.125 25.703125 53.5625 \nQ 30.078125 56 35.796875 56 \nQ 45.21875 56 50.046875 50.171875 \nQ 54.890625 44.34375 54.890625 33.015625 \nz\n\" id=\"DejaVuSans-110\"/>\n      <path d=\"M 9.421875 54.6875 \nL 18.40625 54.6875 \nL 18.40625 0 \nL 9.421875 0 \nz\nM 9.421875 75.984375 \nL 18.40625 75.984375 \nL 18.40625 64.59375 \nL 9.421875 64.59375 \nz\n\" id=\"DejaVuSans-105\"/>\n      <path d=\"M 45.40625 27.984375 \nQ 45.40625 37.75 41.375 43.109375 \nQ 37.359375 48.484375 30.078125 48.484375 \nQ 22.859375 48.484375 18.828125 43.109375 \nQ 14.796875 37.75 14.796875 27.984375 \nQ 14.796875 18.265625 18.828125 12.890625 \nQ 22.859375 7.515625 30.078125 7.515625 \nQ 37.359375 7.515625 41.375 12.890625 \nQ 45.40625 18.265625 45.40625 27.984375 \nz\nM 54.390625 6.78125 \nQ 54.390625 -7.171875 48.1875 -13.984375 \nQ 42 -20.796875 29.203125 -20.796875 \nQ 24.46875 -20.796875 20.265625 -20.09375 \nQ 16.0625 -19.390625 12.109375 -17.921875 \nL 12.109375 -9.1875 \nQ 16.0625 -11.328125 19.921875 -12.34375 \nQ 23.78125 -13.375 27.78125 -13.375 \nQ 36.625 -13.375 41.015625 -8.765625 \nQ 45.40625 -4.15625 45.40625 5.171875 \nL 45.40625 9.625 \nQ 42.625 4.78125 38.28125 2.390625 \nQ 33.9375 0 27.875 0 \nQ 17.828125 0 11.671875 7.65625 \nQ 5.515625 15.328125 5.515625 27.984375 \nQ 5.515625 40.671875 11.671875 48.328125 \nQ 17.828125 56 27.875 56 \nQ 33.9375 56 38.28125 53.609375 \nQ 42.625 51.21875 45.40625 46.390625 \nL 45.40625 54.6875 \nL 54.390625 54.6875 \nz\n\" id=\"DejaVuSans-103\"/>\n      <path d=\"M 50.984375 -16.609375 \nL 50.984375 -23.578125 \nL -0.984375 -23.578125 \nL -0.984375 -16.609375 \nz\n\" id=\"DejaVuSans-95\"/>\n     </defs>\n     <g transform=\"translate(904.392096 23.798437)scale(0.1 -0.1)\">\n      <use xlink:href=\"#DejaVuSans-104\"/>\n      <use x=\"63.378906\" xlink:href=\"#DejaVuSans-121\"/>\n      <use x=\"122.558594\" xlink:href=\"#DejaVuSans-112\"/>\n      <use x=\"186.035156\" xlink:href=\"#DejaVuSans-101\"/>\n      <use x=\"247.558594\" xlink:href=\"#DejaVuSans-114\"/>\n      <use x=\"288.671875\" xlink:href=\"#DejaVuSans-112\"/>\n      <use x=\"352.148438\" xlink:href=\"#DejaVuSans-97\"/>\n      <use x=\"413.427734\" xlink:href=\"#DejaVuSans-114\"/>\n      <use x=\"454.541016\" xlink:href=\"#DejaVuSans-97\"/>\n      <use x=\"515.820312\" xlink:href=\"#DejaVuSans-109\"/>\n      <use x=\"613.232422\" xlink:href=\"#DejaVuSans-101\"/>\n      <use x=\"674.755859\" xlink:href=\"#DejaVuSans-116\"/>\n      <use x=\"713.964844\" xlink:href=\"#DejaVuSans-101\"/>\n      <use x=\"775.488281\" xlink:href=\"#DejaVuSans-114\"/>\n      <use x=\"816.601562\" xlink:href=\"#DejaVuSans-115\"/>\n      <use x=\"868.701172\" xlink:href=\"#DejaVuSans-47\"/>\n      <use x=\"902.392578\" xlink:href=\"#DejaVuSans-108\"/>\n      <use x=\"930.175781\" xlink:href=\"#DejaVuSans-101\"/>\n      <use x=\"991.699219\" xlink:href=\"#DejaVuSans-97\"/>\n      <use x=\"1052.978516\" xlink:href=\"#DejaVuSans-114\"/>\n      <use x=\"1094.076172\" xlink:href=\"#DejaVuSans-110\"/>\n      <use x=\"1157.455078\" xlink:href=\"#DejaVuSans-105\"/>\n      <use x=\"1185.238281\" xlink:href=\"#DejaVuSans-110\"/>\n      <use x=\"1248.617188\" xlink:href=\"#DejaVuSans-103\"/>\n      <use x=\"1312.09375\" xlink:href=\"#DejaVuSans-95\"/>\n      <use x=\"1362.09375\" xlink:href=\"#DejaVuSans-114\"/>\n      <use x=\"1403.207031\" xlink:href=\"#DejaVuSans-97\"/>\n      <use x=\"1464.486328\" xlink:href=\"#DejaVuSans-116\"/>\n      <use x=\"1503.695312\" xlink:href=\"#DejaVuSans-101\"/>\n      <use x=\"1565.21875\" xlink:href=\"#DejaVuSans-32\"/>\n      <use x=\"1597.005859\" xlink:href=\"#DejaVuSans-61\"/>\n      <use x=\"1680.794922\" xlink:href=\"#DejaVuSans-32\"/>\n      <use x=\"1712.582031\" xlink:href=\"#DejaVuSans-48\"/>\n      <use x=\"1776.205078\" xlink:href=\"#DejaVuSans-46\"/>\n      <use x=\"1807.992188\" xlink:href=\"#DejaVuSans-48\"/>\n      <use x=\"1871.615234\" xlink:href=\"#DejaVuSans-48\"/>\n      <use x=\"1935.238281\" xlink:href=\"#DejaVuSans-51\"/>\n     </g>\n    </g>\n   </g>\n  </g>\n  <g id=\"axes_3\">\n   <g id=\"patch_14\">\n    <path d=\"M 1211.750184 353.127273 \nL 1704.103125 353.127273 \nL 1704.103125 7.2 \nL 1211.750184 7.2 \nz\n\" style=\"fill:#ffffff;\"/>\n   </g>\n   <g id=\"matplotlib.axis_5\">\n    <g id=\"xtick_13\">\n     <g id=\"line2d_33\">\n      <g>\n       <use style=\"stroke:#000000;stroke-width:0.8;\" x=\"1234.129863\" xlink:href=\"#m57442e94cb\" y=\"353.127273\"/>\n      </g>\n     </g>\n     <g id=\"text_27\">\n      <!-- 0 -->\n      <g transform=\"translate(1230.948613 367.72571)scale(0.1 -0.1)\">\n       <use xlink:href=\"#DejaVuSans-48\"/>\n      </g>\n     </g>\n    </g>\n    <g id=\"xtick_14\">\n     <g id=\"line2d_34\">\n      <g>\n       <use style=\"stroke:#000000;stroke-width:0.8;\" x=\"1324.552809\" xlink:href=\"#m57442e94cb\" y=\"353.127273\"/>\n      </g>\n     </g>\n     <g id=\"text_28\">\n      <!-- 20 -->\n      <g transform=\"translate(1318.190309 367.72571)scale(0.1 -0.1)\">\n       <use xlink:href=\"#DejaVuSans-50\"/>\n       <use x=\"63.623047\" xlink:href=\"#DejaVuSans-48\"/>\n      </g>\n     </g>\n    </g>\n    <g id=\"xtick_15\">\n     <g id=\"line2d_35\">\n      <g>\n       <use style=\"stroke:#000000;stroke-width:0.8;\" x=\"1414.975755\" xlink:href=\"#m57442e94cb\" y=\"353.127273\"/>\n      </g>\n     </g>\n     <g id=\"text_29\">\n      <!-- 40 -->\n      <g transform=\"translate(1408.613255 367.72571)scale(0.1 -0.1)\">\n       <use xlink:href=\"#DejaVuSans-52\"/>\n       <use x=\"63.623047\" xlink:href=\"#DejaVuSans-48\"/>\n      </g>\n     </g>\n    </g>\n    <g id=\"xtick_16\">\n     <g id=\"line2d_36\">\n      <g>\n       <use style=\"stroke:#000000;stroke-width:0.8;\" x=\"1505.398701\" xlink:href=\"#m57442e94cb\" y=\"353.127273\"/>\n      </g>\n     </g>\n     <g id=\"text_30\">\n      <!-- 60 -->\n      <g transform=\"translate(1499.036201 367.72571)scale(0.1 -0.1)\">\n       <use xlink:href=\"#DejaVuSans-54\"/>\n       <use x=\"63.623047\" xlink:href=\"#DejaVuSans-48\"/>\n      </g>\n     </g>\n    </g>\n    <g id=\"xtick_17\">\n     <g id=\"line2d_37\">\n      <g>\n       <use style=\"stroke:#000000;stroke-width:0.8;\" x=\"1595.821647\" xlink:href=\"#m57442e94cb\" y=\"353.127273\"/>\n      </g>\n     </g>\n     <g id=\"text_31\">\n      <!-- 80 -->\n      <g transform=\"translate(1589.459147 367.72571)scale(0.1 -0.1)\">\n       <use xlink:href=\"#DejaVuSans-56\"/>\n       <use x=\"63.623047\" xlink:href=\"#DejaVuSans-48\"/>\n      </g>\n     </g>\n    </g>\n    <g id=\"xtick_18\">\n     <g id=\"line2d_38\">\n      <g>\n       <use style=\"stroke:#000000;stroke-width:0.8;\" x=\"1686.244593\" xlink:href=\"#m57442e94cb\" y=\"353.127273\"/>\n      </g>\n     </g>\n     <g id=\"text_32\">\n      <!-- 100 -->\n      <g transform=\"translate(1676.700843 367.72571)scale(0.1 -0.1)\">\n       <use xlink:href=\"#DejaVuSans-49\"/>\n       <use x=\"63.623047\" xlink:href=\"#DejaVuSans-48\"/>\n       <use x=\"127.246094\" xlink:href=\"#DejaVuSans-48\"/>\n      </g>\n     </g>\n    </g>\n   </g>\n   <g id=\"matplotlib.axis_6\">\n    <g id=\"ytick_12\">\n     <g id=\"line2d_39\">\n      <g>\n       <use style=\"stroke:#000000;stroke-width:0.8;\" x=\"1211.750184\" xlink:href=\"#mad84c0ad55\" y=\"342.350172\"/>\n      </g>\n     </g>\n     <g id=\"text_33\">\n      <!-- 0.2 -->\n      <g transform=\"translate(1188.847059 346.149391)scale(0.1 -0.1)\">\n       <use xlink:href=\"#DejaVuSans-48\"/>\n       <use x=\"63.623047\" xlink:href=\"#DejaVuSans-46\"/>\n       <use x=\"95.410156\" xlink:href=\"#DejaVuSans-50\"/>\n      </g>\n     </g>\n    </g>\n    <g id=\"ytick_13\">\n     <g id=\"line2d_40\">\n      <g>\n       <use style=\"stroke:#000000;stroke-width:0.8;\" x=\"1211.750184\" xlink:href=\"#mad84c0ad55\" y=\"297.121683\"/>\n      </g>\n     </g>\n     <g id=\"text_34\">\n      <!-- 0.3 -->\n      <g transform=\"translate(1188.847059 300.920901)scale(0.1 -0.1)\">\n       <use xlink:href=\"#DejaVuSans-48\"/>\n       <use x=\"63.623047\" xlink:href=\"#DejaVuSans-46\"/>\n       <use x=\"95.410156\" xlink:href=\"#DejaVuSans-51\"/>\n      </g>\n     </g>\n    </g>\n    <g id=\"ytick_14\">\n     <g id=\"line2d_41\">\n      <g>\n       <use style=\"stroke:#000000;stroke-width:0.8;\" x=\"1211.750184\" xlink:href=\"#mad84c0ad55\" y=\"251.893193\"/>\n      </g>\n     </g>\n     <g id=\"text_35\">\n      <!-- 0.4 -->\n      <g transform=\"translate(1188.847059 255.692412)scale(0.1 -0.1)\">\n       <use xlink:href=\"#DejaVuSans-48\"/>\n       <use x=\"63.623047\" xlink:href=\"#DejaVuSans-46\"/>\n       <use x=\"95.410156\" xlink:href=\"#DejaVuSans-52\"/>\n      </g>\n     </g>\n    </g>\n    <g id=\"ytick_15\">\n     <g id=\"line2d_42\">\n      <g>\n       <use style=\"stroke:#000000;stroke-width:0.8;\" x=\"1211.750184\" xlink:href=\"#mad84c0ad55\" y=\"206.664704\"/>\n      </g>\n     </g>\n     <g id=\"text_36\">\n      <!-- 0.5 -->\n      <g transform=\"translate(1188.847059 210.463923)scale(0.1 -0.1)\">\n       <use xlink:href=\"#DejaVuSans-48\"/>\n       <use x=\"63.623047\" xlink:href=\"#DejaVuSans-46\"/>\n       <use x=\"95.410156\" xlink:href=\"#DejaVuSans-53\"/>\n      </g>\n     </g>\n    </g>\n    <g id=\"ytick_16\">\n     <g id=\"line2d_43\">\n      <g>\n       <use style=\"stroke:#000000;stroke-width:0.8;\" x=\"1211.750184\" xlink:href=\"#mad84c0ad55\" y=\"161.436215\"/>\n      </g>\n     </g>\n     <g id=\"text_37\">\n      <!-- 0.6 -->\n      <g transform=\"translate(1188.847059 165.235434)scale(0.1 -0.1)\">\n       <use xlink:href=\"#DejaVuSans-48\"/>\n       <use x=\"63.623047\" xlink:href=\"#DejaVuSans-46\"/>\n       <use x=\"95.410156\" xlink:href=\"#DejaVuSans-54\"/>\n      </g>\n     </g>\n    </g>\n    <g id=\"ytick_17\">\n     <g id=\"line2d_44\">\n      <g>\n       <use style=\"stroke:#000000;stroke-width:0.8;\" x=\"1211.750184\" xlink:href=\"#mad84c0ad55\" y=\"116.207726\"/>\n      </g>\n     </g>\n     <g id=\"text_38\">\n      <!-- 0.7 -->\n      <defs>\n       <path d=\"M 8.203125 72.90625 \nL 55.078125 72.90625 \nL 55.078125 68.703125 \nL 28.609375 0 \nL 18.3125 0 \nL 43.21875 64.59375 \nL 8.203125 64.59375 \nz\n\" id=\"DejaVuSans-55\"/>\n      </defs>\n      <g transform=\"translate(1188.847059 120.006945)scale(0.1 -0.1)\">\n       <use xlink:href=\"#DejaVuSans-48\"/>\n       <use x=\"63.623047\" xlink:href=\"#DejaVuSans-46\"/>\n       <use x=\"95.410156\" xlink:href=\"#DejaVuSans-55\"/>\n      </g>\n     </g>\n    </g>\n    <g id=\"ytick_18\">\n     <g id=\"line2d_45\">\n      <g>\n       <use style=\"stroke:#000000;stroke-width:0.8;\" x=\"1211.750184\" xlink:href=\"#mad84c0ad55\" y=\"70.979237\"/>\n      </g>\n     </g>\n     <g id=\"text_39\">\n      <!-- 0.8 -->\n      <g transform=\"translate(1188.847059 74.778455)scale(0.1 -0.1)\">\n       <use xlink:href=\"#DejaVuSans-48\"/>\n       <use x=\"63.623047\" xlink:href=\"#DejaVuSans-46\"/>\n       <use x=\"95.410156\" xlink:href=\"#DejaVuSans-56\"/>\n      </g>\n     </g>\n    </g>\n    <g id=\"ytick_19\">\n     <g id=\"line2d_46\">\n      <g>\n       <use style=\"stroke:#000000;stroke-width:0.8;\" x=\"1211.750184\" xlink:href=\"#mad84c0ad55\" y=\"25.750748\"/>\n      </g>\n     </g>\n     <g id=\"text_40\">\n      <!-- 0.9 -->\n      <g transform=\"translate(1188.847059 29.549966)scale(0.1 -0.1)\">\n       <use xlink:href=\"#DejaVuSans-48\"/>\n       <use x=\"63.623047\" xlink:href=\"#DejaVuSans-46\"/>\n       <use x=\"95.410156\" xlink:href=\"#DejaVuSans-57\"/>\n      </g>\n     </g>\n    </g>\n   </g>\n   <g id=\"line2d_47\">\n    <path clip-path=\"url(#pbcee578a87)\" d=\"M 1234.129863 337.403306 \nL 1238.65101 330.336354 \nL 1243.172158 259.66684 \nL 1247.693305 178.396899 \nL 1252.214452 174.863423 \nL 1256.735599 174.863423 \nL 1261.256747 107.727384 \nL 1265.777894 107.727384 \nL 1270.299041 82.993054 \nL 1274.820189 82.993054 \nL 1279.341336 82.993054 \nL 1283.862483 82.993054 \nL 1288.383631 51.191773 \nL 1292.904778 51.191773 \nL 1297.425925 37.05787 \nL 1301.947072 37.05787 \nL 1306.46822 37.05787 \nL 1310.989367 37.05787 \nL 1315.510514 37.05787 \nL 1320.031662 37.05787 \nL 1324.552809 37.05787 \nL 1329.073956 37.05787 \nL 1333.595104 37.05787 \nL 1338.116251 37.05787 \nL 1342.637398 37.05787 \nL 1347.158546 37.05787 \nL 1351.679693 37.05787 \nL 1356.20084 37.05787 \nL 1360.721987 22.923967 \nL 1365.243135 22.923967 \nL 1369.764282 22.923967 \nL 1374.285429 22.923967 \nL 1378.806577 22.923967 \nL 1383.327724 22.923967 \nL 1387.848871 22.923967 \nL 1392.370019 22.923967 \nL 1396.891166 22.923967 \nL 1401.412313 22.923967 \nL 1405.93346 22.923967 \nL 1410.454608 22.923967 \nL 1414.975755 22.923967 \nL 1419.496902 22.923967 \nL 1424.01805 22.923967 \nL 1428.539197 22.923967 \nL 1433.060344 22.923967 \nL 1437.581492 22.923967 \nL 1442.102639 22.923967 \nL 1446.623786 22.923967 \nL 1451.144933 22.923967 \nL 1455.666081 22.923967 \nL 1460.187228 22.923967 \nL 1464.708375 22.923967 \nL 1469.229523 22.923967 \nL 1473.75067 22.923967 \nL 1478.271817 22.923967 \nL 1482.792965 22.923967 \nL 1487.314112 22.923967 \nL 1491.835259 22.923967 \nL 1496.356406 22.923967 \nL 1500.877554 22.923967 \nL 1505.398701 22.923967 \nL 1509.919848 22.923967 \nL 1514.440996 22.923967 \nL 1518.962143 22.923967 \nL 1523.48329 22.923967 \nL 1528.004438 22.923967 \nL 1532.525585 22.923967 \nL 1537.046732 22.923967 \nL 1541.567879 22.923967 \nL 1546.089027 22.923967 \nL 1550.610174 22.923967 \nL 1555.131321 22.923967 \nL 1559.652469 22.923967 \nL 1564.173616 22.923967 \nL 1568.694763 22.923967 \nL 1573.215911 22.923967 \nL 1577.737058 22.923967 \nL 1582.258205 22.923967 \nL 1586.779353 22.923967 \nL 1591.3005 22.923967 \nL 1595.821647 22.923967 \nL 1600.342794 22.923967 \nL 1604.863942 22.923967 \nL 1609.385089 22.923967 \nL 1613.906236 22.923967 \nL 1618.427384 22.923967 \nL 1622.948531 22.923967 \nL 1627.469678 22.923967 \nL 1631.990826 22.923967 \nL 1636.511973 22.923967 \nL 1641.03312 22.923967 \nL 1645.554267 22.923967 \nL 1650.075415 22.923967 \nL 1654.596562 22.923967 \nL 1659.117709 22.923967 \nL 1663.638857 22.923967 \nL 1668.160004 22.923967 \nL 1672.681151 22.923967 \nL 1677.202299 22.923967 \nL 1681.723446 22.923967 \n\" style=\"fill:none;stroke:#1f77b4;stroke-linecap:square;stroke-width:1.5;\"/>\n   </g>\n   <g id=\"patch_15\">\n    <path d=\"M 1211.750184 353.127273 \nL 1211.750184 7.2 \n\" style=\"fill:none;stroke:#000000;stroke-linecap:square;stroke-linejoin:miter;stroke-width:0.8;\"/>\n   </g>\n   <g id=\"patch_16\">\n    <path d=\"M 1704.103125 353.127273 \nL 1704.103125 7.2 \n\" style=\"fill:none;stroke:#000000;stroke-linecap:square;stroke-linejoin:miter;stroke-width:0.8;\"/>\n   </g>\n   <g id=\"patch_17\">\n    <path d=\"M 1211.750184 353.127273 \nL 1704.103125 353.127273 \n\" style=\"fill:none;stroke:#000000;stroke-linecap:square;stroke-linejoin:miter;stroke-width:0.8;\"/>\n   </g>\n   <g id=\"patch_18\">\n    <path d=\"M 1211.750184 7.2 \nL 1704.103125 7.2 \n\" style=\"fill:none;stroke:#000000;stroke-linecap:square;stroke-linejoin:miter;stroke-width:0.8;\"/>\n   </g>\n   <g id=\"legend_3\">\n    <g id=\"patch_19\">\n     <path d=\"M 1218.750184 29.878125 \nL 1349.120496 29.878125 \nQ 1351.120496 29.878125 1351.120496 27.878125 \nL 1351.120496 14.2 \nQ 1351.120496 12.2 1349.120496 12.2 \nL 1218.750184 12.2 \nQ 1216.750184 12.2 1216.750184 14.2 \nL 1216.750184 27.878125 \nQ 1216.750184 29.878125 1218.750184 29.878125 \nz\n\" style=\"fill:#ffffff;opacity:0.8;stroke:#cccccc;stroke-linejoin:miter;\"/>\n    </g>\n    <g id=\"line2d_48\">\n     <path d=\"M 1220.750184 20.298437 \nL 1240.750184 20.298437 \n\" style=\"fill:none;stroke:#1f77b4;stroke-linecap:square;stroke-width:1.5;\"/>\n    </g>\n    <g id=\"line2d_49\"/>\n    <g id=\"text_41\">\n     <!-- max/acc = 0.90625 -->\n     <defs>\n      <path d=\"M 54.890625 54.6875 \nL 35.109375 28.078125 \nL 55.90625 0 \nL 45.3125 0 \nL 29.390625 21.484375 \nL 13.484375 0 \nL 2.875 0 \nL 24.125 28.609375 \nL 4.6875 54.6875 \nL 15.28125 54.6875 \nL 29.78125 35.203125 \nL 44.28125 54.6875 \nz\n\" id=\"DejaVuSans-120\"/>\n     </defs>\n     <g transform=\"translate(1248.750184 23.798437)scale(0.1 -0.1)\">\n      <use xlink:href=\"#DejaVuSans-109\"/>\n      <use x=\"97.412109\" xlink:href=\"#DejaVuSans-97\"/>\n      <use x=\"158.691406\" xlink:href=\"#DejaVuSans-120\"/>\n      <use x=\"217.871094\" xlink:href=\"#DejaVuSans-47\"/>\n      <use x=\"251.5625\" xlink:href=\"#DejaVuSans-97\"/>\n      <use x=\"312.841797\" xlink:href=\"#DejaVuSans-99\"/>\n      <use x=\"367.822266\" xlink:href=\"#DejaVuSans-99\"/>\n      <use x=\"422.802734\" xlink:href=\"#DejaVuSans-32\"/>\n      <use x=\"454.589844\" xlink:href=\"#DejaVuSans-61\"/>\n      <use x=\"538.378906\" xlink:href=\"#DejaVuSans-32\"/>\n      <use x=\"570.166016\" xlink:href=\"#DejaVuSans-48\"/>\n      <use x=\"633.789062\" xlink:href=\"#DejaVuSans-46\"/>\n      <use x=\"665.576172\" xlink:href=\"#DejaVuSans-57\"/>\n      <use x=\"729.199219\" xlink:href=\"#DejaVuSans-48\"/>\n      <use x=\"792.822266\" xlink:href=\"#DejaVuSans-54\"/>\n      <use x=\"856.445312\" xlink:href=\"#DejaVuSans-50\"/>\n      <use x=\"920.068359\" xlink:href=\"#DejaVuSans-53\"/>\n     </g>\n    </g>\n   </g>\n  </g>\n </g>\n <defs>\n  <clipPath id=\"p66a3b4e46c\">\n   <rect height=\"345.927273\" width=\"492.352941\" x=\"30.103125\" y=\"7.2\"/>\n  </clipPath>\n  <clipPath id=\"pb2bef1bfc4\">\n   <rect height=\"345.927273\" width=\"492.352941\" x=\"620.926654\" y=\"7.2\"/>\n  </clipPath>\n  <clipPath id=\"pbcee578a87\">\n   <rect height=\"345.927273\" width=\"492.352941\" x=\"1211.750184\" y=\"7.2\"/>\n  </clipPath>\n </defs>\n</svg>\n",
      "image/png": "[encoded data removed]"
     },
     "metadata": {
      "needs_background": "light"
     }
    }
   ],
   "source": [
    "import matplotlib.pyplot as plt\n",
    "\n",
    "T=trainer.tensorboard.history\n",
    "\n",
    "x = list(range(trainer.checkpoint.epoch_counter))\n",
    "sm = lambda y, w: np.convolve(y, np.ones(w)/w, mode='same')\n",
    "pp = lambda k: plt.plot(x, T[k], label=f\"{k} = {max(T[k])}\")\n",
    "spp = lambda k: plt.plot(x, sm(T[k], 5), label=f\"{k} = {max(T[k])}\")\n",
    "\n",
    "\n",
    "plt.figure(0, figsize=(30, 14))\n",
    "plt.subplot(2, 3, 1)\n",
    "pp(\"val/acc\")\n",
    "pp(\"val/f1\")\n",
    "plt.legend()\n",
    "\n",
    "plt.subplot(2, 3, 2)\n",
    "pp(\"hyperparameters/learning_rate\")\n",
    "plt.legend()\n",
    "\n",
    "plt.subplot(2, 3, 3)\n",
    "pp(\"max/acc\")\n",
    "plt.legend()\n",
    "\n",
    "plt.show()"
   ]
  },
  {
   "cell_type": "markdown",
   "metadata": {},
   "source": [
    "# ♫♪.ılılıll|̲̅̅●̲̅̅|̲̅̅=̲̅̅|̲̅̅●̲̅̅|llılılı.♫♪"
   ]
  }
 ],
 "metadata": {
  "kernelspec": {
   "name": "Python 3.8.0 64-bit ('dct': conda)",
   "display_name": "Python 3.8.0 64-bit ('dct': conda)",
   "metadata": {
    "interpreter": {
     "hash": "4213439f5b613b420c7569d9a47a12bf897408d7580af00afce4972bcc867ad9"
    }
   }
  },
  "language_info": {
   "codemirror_mode": {
    "name": "ipython",
    "version": 3
   },
   "file_extension": ".py",
   "mimetype": "text/x-python",
   "name": "python",
   "nbconvert_exporter": "python",
   "pygments_lexer": "ipython3",
   "version": "3.8.0-final"
  }
 },
 "nbformat": 4,
 "nbformat_minor": 4
}