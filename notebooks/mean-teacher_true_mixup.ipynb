{
 "cells": [
  {
   "cell_type": "markdown",
   "metadata": {
    "jupyter": {
     "outputs_hidden": true
    }
   },
   "source": [
    "# import"
   ]
  },
  {
   "cell_type": "raw",
   "metadata": {},
   "source": [
    "https://arxiv.org/pdf/1703.01780.pdf"
   ]
  },
  {
   "cell_type": "code",
   "execution_count": 1,
   "metadata": {},
   "outputs": [],
   "source": [
    "%load_ext autoreload\n",
    "%autoreload 2"
   ]
  },
  {
   "cell_type": "code",
   "execution_count": 2,
   "metadata": {},
   "outputs": [
    {
     "data": {
      "text/plain": [
       "'/users/samova/lcances/.miniconda3/envs/pytorch-dev/bin/python'"
      ]
     },
     "execution_count": 2,
     "metadata": {},
     "output_type": "execute_result"
    }
   ],
   "source": [
    "import sys\n",
    "sys.executable"
   ]
  },
  {
   "cell_type": "code",
   "execution_count": 3,
   "metadata": {},
   "outputs": [],
   "source": [
    "import os\n",
    "os.environ[\"MKL_NUM_THREADS\"] = \"2\"\n",
    "os.environ[\"NUMEXPR_NU M_THREADS\"] = \"2\"\n",
    "os.environ[\"OMP_NUM_THREADS\"] = \"2\"\n",
    "import time\n",
    "import pprint\n",
    "\n",
    "import numpy\n",
    "import torch\n",
    "import torch.nn as nn\n",
    "import torch.utils.data as data\n",
    "import torch.nn.functional as F\n",
    "import torchvision.transforms as transforms\n",
    "from torch.cuda.amp import autocast\n",
    "from torch.optim.lr_scheduler import LambdaLR\n",
    "from torch.utils.tensorboard import SummaryWriter\n",
    "from torch.utils.data import DataLoader"
   ]
  },
  {
   "cell_type": "code",
   "execution_count": 4,
   "metadata": {
    "tags": []
   },
   "outputs": [],
   "source": [
    "from SSL.util.loaders import load_dataset, load_optimizer, load_callbacks, load_preprocesser\n",
    "from SSL.util.model_loader import load_model\n",
    "from SSL.util.checkpoint import CheckPoint, mSummaryWriter\n",
    "from SSL.util.mixup import MixUpBatchShuffle\n",
    "from SSL.util.utils import reset_seed, get_datetime, track_maximum, DotDict\n",
    "from SSL.ramps import Warmup, sigmoid_rampup\n",
    "from SSL.losses import JensenShanon\n",
    "\n",
    "from metric_utils.metrics import CategoricalAccuracy, FScore, ContinueAverage"
   ]
  },
  {
   "cell_type": "markdown",
   "metadata": {
    "pycharm": {
     "name": "#%% md\n"
    }
   },
   "source": [
    "# Arguments"
   ]
  },
  {
   "cell_type": "code",
   "execution_count": 5,
   "metadata": {},
   "outputs": [],
   "source": [
    "import argparse\n",
    "parser = argparse.ArgumentParser()\n",
    "parser.add_argument(\"--from_config\", default=\"\", type=str)\n",
    "parser.add_argument(\"-d\", \"--dataset_root\", default=\"../datasets\", type=str)\n",
    "parser.add_argument(\"-D\", \"--dataset\", default=\"ubs8k\", type=str)\n",
    "\n",
    "group_t = parser.add_argument_group(\"Commun parameters\")\n",
    "group_t.add_argument(\"-m\", \"--model\", default=\"wideresnet28_2\", type=str)\n",
    "group_t.add_argument(\"--supervised_ratio\", default=0.1, type=float)\n",
    "group_t.add_argument(\"--batch_size\", default=64, type=int)\n",
    "group_t.add_argument(\"--nb_epoch\", default=200, type=int)\n",
    "group_t.add_argument(\"--learning_rate\", default=0.001, type=float)\n",
    "group_t.add_argument(\"--resume\", action=\"store_true\", default=False)\n",
    "group_t.add_argument(\"--seed\", default=1234, type=int)\n",
    "group_t.add_argument(\"--num_classes\", default=10, type=int)\n",
    "\n",
    "group_u = parser.add_argument_group(\"Datasets parameters\")\n",
    "group_u.add_argument(\"-t\", \"--train_folds\", nargs=\"+\", default=[1, 2, 3, 4, 5, 6, 7, 8, 9], type=int)\n",
    "group_u.add_argument(\"-v\", \"--val_folds\", nargs=\"+\", default=[10], type=int)\n",
    "\n",
    "group_s = parser.add_argument_group(\"Student teacher parameters\")\n",
    "group_s.add_argument(\"--ema_alpha\", default=0.999, type=float)\n",
    "group_s.add_argument(\"--warmup_length\", default=50, type=int)\n",
    "group_s.add_argument(\"--lambda_cost_max\", default=1, type=float)\n",
    "group_s.add_argument(\"--teacher_noise\", default=0, type=float)\n",
    "group_s.add_argument(\"--ccost_softmax\", action=\"store_false\", default=True)\n",
    "group_s.add_argument(\"--ccost_method\", type=str, default=\"js\")\n",
    "\n",
    "group_mixup = parser.add_argument_group(\"Mixup parameters\")\n",
    "group_mixup.add_argument(\"--mixup\", action=\"store_true\", default=False)\n",
    "group_mixup.add_argument(\"--mixup_alpha\", type=float, default=0.4)\n",
    "group_mixup.add_argument(\"--mixup_max\", action=\"store_true\", default=False)\n",
    "group_mixup.add_argument(\"--mixup_label\", action=\"store_true\", default=False)\n",
    "\n",
    "group_l = parser.add_argument_group(\"Logs\")\n",
    "group_l.add_argument(\"--checkpoint_root\", default=\"../model_save/\", type=str)\n",
    "group_l.add_argument(\"--tensorboard_root\", default=\"../tensorboard/\", type=str)\n",
    "group_l.add_argument(\"--checkpoint_path\", default=\"mean-teacher_mixup\", type=str)\n",
    "group_l.add_argument(\"--tensorboard_path\", default=\"mean-teacher_mixup\", type=str)\n",
    "group_l.add_argument(\"--tensorboard_sufix\", default=\"\", type=str)\n",
    "\n",
    "args=parser.parse_args([])\n",
    "\n",
    "tensorboard_path = os.path.join(args.tensorboard_root, args.dataset, args.tensorboard_path)\n",
    "checkpoint_path = os.path.join(args.checkpoint_root, args.dataset, args.checkpoint_path)"
   ]
  },
  {
   "cell_type": "code",
   "execution_count": 6,
   "metadata": {
    "tags": [
     "re_run"
    ]
   },
   "outputs": [
    {
     "name": "stdout",
     "output_type": "stream",
     "text": [
      "{'batch_size': 64,\n",
      " 'ccost_method': 'js',\n",
      " 'ccost_softmax': True,\n",
      " 'checkpoint_path': 'mean-teacher_mixup',\n",
      " 'checkpoint_root': '../model_save/',\n",
      " 'dataset': 'ubs8k',\n",
      " 'dataset_root': '../datasets',\n",
      " 'ema_alpha': 0.999,\n",
      " 'from_config': '',\n",
      " 'lambda_cost_max': 1,\n",
      " 'learning_rate': 0.001,\n",
      " 'mixup': False,\n",
      " 'mixup_alpha': 0.4,\n",
      " 'mixup_label': False,\n",
      " 'mixup_max': False,\n",
      " 'model': 'wideresnet28_2',\n",
      " 'nb_epoch': 200,\n",
      " 'num_classes': 10,\n",
      " 'resume': False,\n",
      " 'seed': 1234,\n",
      " 'supervised_ratio': 0.1,\n",
      " 'teacher_noise': 0,\n",
      " 'tensorboard_path': 'mean-teacher_mixup',\n",
      " 'tensorboard_root': '../tensorboard/',\n",
      " 'tensorboard_sufix': '',\n",
      " 'train_folds': [1, 2, 3, 4, 5, 6, 7, 8, 9],\n",
      " 'val_folds': [10],\n",
      " 'warmup_length': 50}\n"
     ]
    }
   ],
   "source": [
    "pprint.pprint(vars(args))"
   ]
  },
  {
   "cell_type": "markdown",
   "metadata": {
    "pycharm": {
     "name": "#%% md\n"
    }
   },
   "source": [
    "# initialisation"
   ]
  },
  {
   "cell_type": "code",
   "execution_count": 7,
   "metadata": {
    "collapsed": false,
    "jupyter": {
     "outputs_hidden": false
    },
    "pycharm": {
     "name": "#%%\n"
    },
    "tags": [
     "re_run"
    ]
   },
   "outputs": [],
   "source": [
    "reset_seed(args.seed)"
   ]
  },
  {
   "cell_type": "markdown",
   "metadata": {
    "pycharm": {
     "name": "#%% md\n"
    }
   },
   "source": [
    "# Prepare the dataset"
   ]
  },
  {
   "cell_type": "code",
   "execution_count": 8,
   "metadata": {},
   "outputs": [
    {
     "name": "stderr",
     "output_type": "stream",
     "text": [
      "/usr/local/PyTorch/audio/torchaudio/extension/extension.py:14: UserWarning: torchaudio C++ extension is not available.\n",
      "  warnings.warn('torchaudio C++ extension is not available.')\n"
     ]
    }
   ],
   "source": [
    "train_transform, val_transform = load_preprocesser(args.dataset, \"mean-teacher\")\n",
    "train_transform"
   ]
  },
  {
   "cell_type": "code",
   "execution_count": 9,
   "metadata": {
    "collapsed": false,
    "jupyter": {
     "outputs_hidden": false
    },
    "pycharm": {
     "name": "#%%\n"
    },
    "tags": []
   },
   "outputs": [
    {
     "name": "stderr",
     "output_type": "stream",
     "text": [
      "100%|██████████| 10/10 [00:22<00:00,  2.26s/it]"
     ]
    },
    {
     "name": "stdout",
     "output_type": "stream",
     "text": [
      "s_batch_size:  6\n",
      "u_batch_size:  58\n"
     ]
    },
    {
     "name": "stderr",
     "output_type": "stream",
     "text": [
      "\n",
      "/users/samova/lcances/Datasets/UrbanSound8K/ubs8k/datasets.py:78: SettingWithCopyWarning: \n",
      "A value is trying to be set on a copy of a slice from a DataFrame.\n",
      "Try using .loc[row_indexer,col_indexer] = value instead\n",
      "\n",
      "See the caveats in the documentation: https://pandas.pydata.org/pandas-docs/stable/user_guide/indexing.html#returning-a-view-versus-a-copy\n",
      "  self.y[\"idx\"] = list(range(len(self.y)))\n"
     ]
    }
   ],
   "source": [
    "manager, train_loader, val_loader = load_dataset(\n",
    "    args.dataset,\n",
    "    \"mean-teacher\",\n",
    "    \n",
    "    dataset_root = args.dataset_root,\n",
    "    supervised_ratio = args.supervised_ratio,\n",
    "    batch_size = args.batch_size,\n",
    "    train_folds = args.train_folds,\n",
    "    val_folds = args.val_folds,\n",
    "\n",
    "    train_transform=train_transform,\n",
    "    val_transform=val_transform,\n",
    "    \n",
    "    num_workers=0,\n",
    "    pin_memory=True,\n",
    "\n",
    "    verbose = 1\n",
    ")"
   ]
  },
  {
   "cell_type": "code",
   "execution_count": 10,
   "metadata": {},
   "outputs": [
    {
     "data": {
      "text/plain": [
       "(64, 173)"
      ]
     },
     "execution_count": 10,
     "metadata": {},
     "output_type": "execute_result"
    }
   ],
   "source": [
    "input_shape = tuple(train_loader._iterables[0].dataset[0][0].shape)\n",
    "input_shape"
   ]
  },
  {
   "cell_type": "markdown",
   "metadata": {},
   "source": [
    "# Prep model"
   ]
  },
  {
   "cell_type": "code",
   "execution_count": 11,
   "metadata": {
    "tags": []
   },
   "outputs": [],
   "source": [
    "torch.cuda.empty_cache()\n",
    "\n",
    "model_func = load_model(args.dataset, args.model)\n",
    "\n",
    "student = model_func(input_shape=input_shape, num_classes = args.num_classes)\n",
    "teacher = model_func(input_shape=input_shape, num_classes = args.num_classes)\n",
    "\n",
    "student = student.cuda()\n",
    "teacher = teacher.cuda()\n",
    "\n",
    "# We do not need gradient for the teacher model\n",
    "for p in teacher.parameters():\n",
    "    p.detach()"
   ]
  },
  {
   "cell_type": "code",
   "execution_count": 12,
   "metadata": {
    "scrolled": true,
    "tags": []
   },
   "outputs": [
    {
     "name": "stdout",
     "output_type": "stream",
     "text": [
      "----------------------------------------------------------------\n",
      "        Layer (type)               Output Shape         Param #\n",
      "================================================================\n",
      "            Conv2d-1          [-1, 32, 64, 173]             288\n",
      "       BatchNorm2d-2          [-1, 32, 64, 173]              64\n",
      "              ReLU-3          [-1, 32, 64, 173]               0\n",
      "         MaxPool2d-4           [-1, 32, 32, 87]               0\n",
      "            Conv2d-5           [-1, 32, 32, 87]           9,216\n",
      "       BatchNorm2d-6           [-1, 32, 32, 87]              64\n",
      "              ReLU-7           [-1, 32, 32, 87]               0\n",
      "            Conv2d-8           [-1, 32, 32, 87]           9,216\n",
      "       BatchNorm2d-9           [-1, 32, 32, 87]              64\n",
      "             ReLU-10           [-1, 32, 32, 87]               0\n",
      "       BasicBlock-11           [-1, 32, 32, 87]               0\n",
      "           Conv2d-12           [-1, 32, 32, 87]           9,216\n",
      "      BatchNorm2d-13           [-1, 32, 32, 87]              64\n",
      "             ReLU-14           [-1, 32, 32, 87]               0\n",
      "           Conv2d-15           [-1, 32, 32, 87]           9,216\n",
      "      BatchNorm2d-16           [-1, 32, 32, 87]              64\n",
      "             ReLU-17           [-1, 32, 32, 87]               0\n",
      "       BasicBlock-18           [-1, 32, 32, 87]               0\n",
      "           Conv2d-19           [-1, 32, 32, 87]           9,216\n",
      "      BatchNorm2d-20           [-1, 32, 32, 87]              64\n",
      "             ReLU-21           [-1, 32, 32, 87]               0\n",
      "           Conv2d-22           [-1, 32, 32, 87]           9,216\n",
      "      BatchNorm2d-23           [-1, 32, 32, 87]              64\n",
      "             ReLU-24           [-1, 32, 32, 87]               0\n",
      "       BasicBlock-25           [-1, 32, 32, 87]               0\n",
      "           Conv2d-26           [-1, 32, 32, 87]           9,216\n",
      "      BatchNorm2d-27           [-1, 32, 32, 87]              64\n",
      "             ReLU-28           [-1, 32, 32, 87]               0\n",
      "           Conv2d-29           [-1, 32, 32, 87]           9,216\n",
      "      BatchNorm2d-30           [-1, 32, 32, 87]              64\n",
      "             ReLU-31           [-1, 32, 32, 87]               0\n",
      "       BasicBlock-32           [-1, 32, 32, 87]               0\n",
      "           Conv2d-33           [-1, 64, 16, 44]          18,432\n",
      "      BatchNorm2d-34           [-1, 64, 16, 44]             128\n",
      "             ReLU-35           [-1, 64, 16, 44]               0\n",
      "           Conv2d-36           [-1, 64, 16, 44]          36,864\n",
      "      BatchNorm2d-37           [-1, 64, 16, 44]             128\n",
      "           Conv2d-38           [-1, 64, 16, 44]           2,048\n",
      "      BatchNorm2d-39           [-1, 64, 16, 44]             128\n",
      "             ReLU-40           [-1, 64, 16, 44]               0\n",
      "       BasicBlock-41           [-1, 64, 16, 44]               0\n",
      "           Conv2d-42           [-1, 64, 16, 44]          36,864\n",
      "      BatchNorm2d-43           [-1, 64, 16, 44]             128\n",
      "             ReLU-44           [-1, 64, 16, 44]               0\n",
      "           Conv2d-45           [-1, 64, 16, 44]          36,864\n",
      "      BatchNorm2d-46           [-1, 64, 16, 44]             128\n",
      "             ReLU-47           [-1, 64, 16, 44]               0\n",
      "       BasicBlock-48           [-1, 64, 16, 44]               0\n",
      "           Conv2d-49           [-1, 64, 16, 44]          36,864\n",
      "      BatchNorm2d-50           [-1, 64, 16, 44]             128\n",
      "             ReLU-51           [-1, 64, 16, 44]               0\n",
      "           Conv2d-52           [-1, 64, 16, 44]          36,864\n",
      "      BatchNorm2d-53           [-1, 64, 16, 44]             128\n",
      "             ReLU-54           [-1, 64, 16, 44]               0\n",
      "       BasicBlock-55           [-1, 64, 16, 44]               0\n",
      "           Conv2d-56           [-1, 64, 16, 44]          36,864\n",
      "      BatchNorm2d-57           [-1, 64, 16, 44]             128\n",
      "             ReLU-58           [-1, 64, 16, 44]               0\n",
      "           Conv2d-59           [-1, 64, 16, 44]          36,864\n",
      "      BatchNorm2d-60           [-1, 64, 16, 44]             128\n",
      "             ReLU-61           [-1, 64, 16, 44]               0\n",
      "       BasicBlock-62           [-1, 64, 16, 44]               0\n",
      "           Conv2d-63           [-1, 128, 8, 22]          73,728\n",
      "      BatchNorm2d-64           [-1, 128, 8, 22]             256\n",
      "             ReLU-65           [-1, 128, 8, 22]               0\n",
      "           Conv2d-66           [-1, 128, 8, 22]         147,456\n",
      "      BatchNorm2d-67           [-1, 128, 8, 22]             256\n",
      "           Conv2d-68           [-1, 128, 8, 22]           8,192\n",
      "      BatchNorm2d-69           [-1, 128, 8, 22]             256\n",
      "             ReLU-70           [-1, 128, 8, 22]               0\n",
      "       BasicBlock-71           [-1, 128, 8, 22]               0\n",
      "           Conv2d-72           [-1, 128, 8, 22]         147,456\n",
      "      BatchNorm2d-73           [-1, 128, 8, 22]             256\n",
      "             ReLU-74           [-1, 128, 8, 22]               0\n",
      "           Conv2d-75           [-1, 128, 8, 22]         147,456\n",
      "      BatchNorm2d-76           [-1, 128, 8, 22]             256\n",
      "             ReLU-77           [-1, 128, 8, 22]               0\n",
      "       BasicBlock-78           [-1, 128, 8, 22]               0\n",
      "           Conv2d-79           [-1, 128, 8, 22]         147,456\n",
      "      BatchNorm2d-80           [-1, 128, 8, 22]             256\n",
      "             ReLU-81           [-1, 128, 8, 22]               0\n",
      "           Conv2d-82           [-1, 128, 8, 22]         147,456\n",
      "      BatchNorm2d-83           [-1, 128, 8, 22]             256\n",
      "             ReLU-84           [-1, 128, 8, 22]               0\n",
      "       BasicBlock-85           [-1, 128, 8, 22]               0\n",
      "           Conv2d-86           [-1, 128, 8, 22]         147,456\n",
      "      BatchNorm2d-87           [-1, 128, 8, 22]             256\n",
      "             ReLU-88           [-1, 128, 8, 22]               0\n",
      "           Conv2d-89           [-1, 128, 8, 22]         147,456\n",
      "      BatchNorm2d-90           [-1, 128, 8, 22]             256\n",
      "             ReLU-91           [-1, 128, 8, 22]               0\n",
      "       BasicBlock-92           [-1, 128, 8, 22]               0\n",
      "AdaptiveAvgPool2d-93            [-1, 128, 1, 1]               0\n",
      "           Linear-94                   [-1, 10]           1,290\n",
      "================================================================\n",
      "Total params: 1,471,978\n",
      "Trainable params: 1,471,978\n",
      "Non-trainable params: 0\n",
      "----------------------------------------------------------------\n",
      "Input size (MB): 0.04\n",
      "Forward/backward pass size (MB): 43.29\n",
      "Params size (MB): 5.62\n",
      "Estimated Total Size (MB): 48.95\n",
      "----------------------------------------------------------------\n"
     ]
    }
   ],
   "source": [
    "from torchsummary import summary\n",
    "\n",
    "s = summary(student, input_shape)"
   ]
  },
  {
   "cell_type": "markdown",
   "metadata": {
    "pycharm": {
     "name": "#%% md\n"
    }
   },
   "source": [
    "# training parameters"
   ]
  },
  {
   "cell_type": "code",
   "execution_count": 13,
   "metadata": {},
   "outputs": [],
   "source": [
    "tensorboard_root=f\"{args.model}/{args.supervised_ratio}/{get_datetime()}_{model_func.__name__}\"\n",
    "checkpoint_root = f\"{args.model}/{args.supervised_ratio}/{model_func.__name__}\"\n",
    "\n",
    "# mea teacher parameters\n",
    "sufix_title = f'_{args.ema_alpha}-emaa'\n",
    "sufix_title += f'_{args.warmup_length}-wl'\n",
    "sufix_title += f'_{args.lambda_cost_max}-lccm'\n",
    "\n",
    "# mixup parameters\n",
    "if args.mixup:\n",
    "    sufix_title += \"_mixup\"\n",
    "    if args.mixup_max: sufix_title += \"-max\"\n",
    "    if args.mixup_label: sufix_title += \"-label\"\n",
    "    sufix_title += f\"-{args.mixup_alpha}-a\"\n",
    "    \n",
    "# ccost function and method\n",
    "if args.ccost_method: sufix_title += \"_cc-MSE\"\n",
    "if args.ccost_softmax: sufix_title += \"-SOFTMAX\"\n",
    "    \n",
    "# normale training parameters\n",
    "sufix_title += f'_{args.learning_rate}-lr'\n",
    "sufix_title += f'_{args.supervised_ratio}-sr'\n",
    "sufix_title += f'_{args.nb_epoch}-e'\n",
    "sufix_title += f'_{args.batch_size}-bs'\n",
    "sufix_title += f'_{args.seed}-seed'\n",
    "\n",
    "tensorboard_title = tensorboard_root + sufix_title\n",
    "checkpoint_title = checkpoint_root + sufix_title\n"
   ]
  },
  {
   "cell_type": "code",
   "execution_count": 14,
   "metadata": {},
   "outputs": [
    {
     "name": "stdout",
     "output_type": "stream",
     "text": [
      "../tensorboard/ubs8k/mean-teacher_mixup/wideresnet28_2/0.1/2021-01-18_15:41:57_wideresnet28_2_0.999-emaa_50-wl_1-lccm_cc-MSE-SOFTMAX_0.001-lr_0.1-sr_200-e_64-bs_1234-seed\n"
     ]
    }
   ],
   "source": [
    "tensorboard = mSummaryWriter(log_dir=\"%s/%s\" % (tensorboard_path, tensorboard_title), comment=model_func.__name__)\n",
    "print(os.path.join(tensorboard_path, tensorboard_title))"
   ]
  },
  {
   "cell_type": "markdown",
   "metadata": {},
   "source": [
    "## optimizer & callbacks"
   ]
  },
  {
   "cell_type": "code",
   "execution_count": 15,
   "metadata": {},
   "outputs": [],
   "source": [
    "optimizer = load_optimizer(args.dataset, \"mean-teacher\", student=student, learning_rate=args.learning_rate)\n",
    "callbacks = load_callbacks(args.dataset, \"mean-teacher\", optimizer=optimizer, nb_epoch=args.nb_epoch)"
   ]
  },
  {
   "cell_type": "code",
   "execution_count": 16,
   "metadata": {
    "collapsed": false,
    "jupyter": {
     "outputs_hidden": false
    },
    "pycharm": {
     "name": "#%%\n"
    },
    "tags": [
     "re_run"
    ]
   },
   "outputs": [
    {
     "name": "stdout",
     "output_type": "stream",
     "text": [
      "checkpoint initialise at:  /users/samova/lcances/semi-supervised/model_save/ubs8k/mean-teacher_mixup/wideresnet28_2/0.1/wideresnet28_2_0.999-emaa_50-wl_1-lccm_cc-MSE-SOFTMAX_0.001-lr_0.1-sr_200-e_64-bs_1234-seed.torch\n",
      "name:  wideresnet28_2_0.999-emaa_50-wl_1-lccm_cc-MSE-SOFTMAX_0.001-lr_0.1-sr_200-e_64-bs_1234-seed.torch\n",
      "mode:  max\n"
     ]
    }
   ],
   "source": [
    "# losses\n",
    "loss_ce = nn.CrossEntropyLoss(reduction=\"mean\") # Supervised loss\n",
    "\n",
    "if args.ccost_method == \"mse\":\n",
    "    consistency_cost = nn.MSELoss(reduction=\"mean\") # Unsupervised loss\n",
    "elif args.ccost_method == \"js\":\n",
    "    consistency_cost = JensenShanon\n",
    "        \n",
    "lambda_cost = Warmup(args.lambda_cost_max, args.warmup_length, sigmoid_rampup)\n",
    "callbacks += [lambda_cost]\n",
    "\n",
    "# Checkpoint\n",
    "checkpoint = CheckPoint(student, optimizer, mode=\"max\", name=\"%s/%s.torch\" % (checkpoint_path, checkpoint_title))\n",
    "\n",
    "def get_lr(optimizer):\n",
    "    for param_group in optimizer.param_groups:\n",
    "        return param_group['lr']"
   ]
  },
  {
   "cell_type": "code",
   "execution_count": 17,
   "metadata": {},
   "outputs": [
    {
     "data": {
      "text/plain": [
       "<function SSL.losses.JensenShanon(logits_1, logits_2)>"
      ]
     },
     "execution_count": 17,
     "metadata": {},
     "output_type": "execute_result"
    }
   ],
   "source": [
    "consistency_cost"
   ]
  },
  {
   "cell_type": "markdown",
   "metadata": {},
   "source": [
    "## Metrics definition"
   ]
  },
  {
   "cell_type": "code",
   "execution_count": 18,
   "metadata": {},
   "outputs": [],
   "source": [
    "def metrics_calculator():\n",
    "    def c(logits, y):\n",
    "        with torch.no_grad():\n",
    "            y_one_hot = F.one_hot(y, num_classes=args.num_classes)\n",
    "            \n",
    "            pred = torch.softmax(logits, dim=1)\n",
    "            arg = torch.argmax(logits, dim=1)\n",
    "            \n",
    "            acc = c.fn.acc(arg, y).mean\n",
    "            f1 = c.fn.f1(pred, y_one_hot).mean\n",
    "            \n",
    "            return acc, f1,\n",
    "            \n",
    "    c.fn = DotDict(\n",
    "        acc = CategoricalAccuracy(),\n",
    "        f1 = FScore(),\n",
    "    )\n",
    "    \n",
    "    return c"
   ]
  },
  {
   "cell_type": "code",
   "execution_count": 19,
   "metadata": {},
   "outputs": [],
   "source": [
    "calc_student_s_metrics = metrics_calculator()\n",
    "calc_student_u_metrics = metrics_calculator()\n",
    "calc_teacher_s_metrics = metrics_calculator()\n",
    "calc_teacher_u_metrics = metrics_calculator()\n",
    "\n",
    "avg_Sce = ContinueAverage()\n",
    "avg_Tce = ContinueAverage()\n",
    "avg_ccost = ContinueAverage()\n",
    "\n",
    "softmax_fn = lambda x: x\n",
    "if args.ccost_softmax:\n",
    "    softmax_fn = nn.Softmax(dim=1)\n",
    "\n",
    "def reset_metrics():\n",
    "    for d in [calc_student_s_metrics.fn, calc_student_u_metrics.fn, calc_teacher_s_metrics.fn, calc_teacher_u_metrics.fn]:\n",
    "        for fn in d.values():\n",
    "            fn.reset()\n",
    "\n",
    "maximum_tracker = track_maximum()"
   ]
  },
  {
   "cell_type": "markdown",
   "metadata": {
    "pycharm": {
     "name": "#%% md\n"
    }
   },
   "source": [
    "## Can resume previous training"
   ]
  },
  {
   "cell_type": "code",
   "execution_count": 20,
   "metadata": {
    "pycharm": {
     "name": "#%%\n"
    }
   },
   "outputs": [],
   "source": [
    "if args.resume:\n",
    "    checkpoint.load_last()"
   ]
  },
  {
   "cell_type": "code",
   "execution_count": 21,
   "metadata": {},
   "outputs": [
    {
     "data": {
      "text/plain": [
       "False"
      ]
     },
     "execution_count": 21,
     "metadata": {},
     "output_type": "execute_result"
    }
   ],
   "source": [
    "args.resume"
   ]
  },
  {
   "cell_type": "markdown",
   "metadata": {
    "pycharm": {
     "name": "#%% md\n"
    }
   },
   "source": [
    "## training function"
   ]
  },
  {
   "cell_type": "code",
   "execution_count": 22,
   "metadata": {
    "collapsed": false,
    "jupyter": {
     "outputs_hidden": false
    },
    "pycharm": {
     "name": "#%%\n"
    },
    "tags": []
   },
   "outputs": [
    {
     "name": "stdout",
     "output_type": "stream",
     "text": [
      ".        Epoch  - %      - Student:   ce       ccost    acc_s    f1_s     acc_u    f1_u     | Teacher:   ce       acc_s    f1_s     acc_u    f1_u     - Time    \n"
     ]
    }
   ],
   "source": [
    "UNDERLINE_SEQ = \"\\033[1;4m\"\n",
    "RESET_SEQ = \"\\033[0m\"\n",
    "\n",
    "header_form = \"{:<8.8} {:<6.6} - {:<6.6} - {:<10.8} {:<8.6} {:<8.6} {:<8.6} {:<8.6} {:<8.6} {:<8.6} | {:<10.8} {:<8.6} {:<8.6} {:<8.6} {:<8.6} {:<8.6} - {:<8.6}\"\n",
    "value_form  = \"{:<8.8} {:<6d} - {:<6d} - {:<10.8} {:<8.4f} {:<8.4f} {:<8.4f} {:<8.4f} {:<8.4f} {:<8.4f} | {:<10.8} {:<8.4f} {:<8.4f} {:<8.4f} {:<8.4f} {:<8.4f} - {:<8.4f}\"\n",
    "header = header_form.format(\".               \", \"Epoch\",  \"%\", \"Student:\", \"ce\", \"ccost\", \"acc_s\", \"f1_s\", \"acc_u\", \"f1_u\", \"Teacher:\", \"ce\", \"acc_s\", \"f1_s\", \"acc_u\", \"f1_u\" , \"Time\")\n",
    "\n",
    "train_form = value_form\n",
    "val_form = UNDERLINE_SEQ + value_form + RESET_SEQ\n",
    "\n",
    "print(header)"
   ]
  },
  {
   "cell_type": "code",
   "execution_count": 23,
   "metadata": {},
   "outputs": [],
   "source": [
    "def update_teacher_model(student_model, teacher_model, alpha, epoch):\n",
    "    \n",
    "    # Use the true average until the exponential average is more correct\n",
    "    alpha = min(1 - 1 / (epoch + 1), alpha)\n",
    "    \n",
    "    for param, ema_param in zip(student_model.parameters(), teacher_model.parameters()):\n",
    "        ema_param.data.mul_(alpha).add_(param.data,  alpha = 1-alpha)\n",
    "\n",
    "\n",
    "noise_fn = lambda x: x\n",
    "if args.teacher_noise != 0:\n",
    "    n_db = args.teacher_noise\n",
    "    noise_fn = transforms.Lambda(lambda x: x + (torch.rand(x.shape).cuda() * n_db + n_db))"
   ]
  },
  {
   "cell_type": "code",
   "execution_count": 24,
   "metadata": {},
   "outputs": [],
   "source": [
    "mixup_fn = MixUpBatchShuffle(alpha=args.mixup_alpha, apply_max=args.mixup_max, mix_labels=args.mixup_label)"
   ]
  },
  {
   "cell_type": "code",
   "execution_count": 25,
   "metadata": {
    "tags": [
     "re_run"
    ]
   },
   "outputs": [],
   "source": [
    "def train(epoch):\n",
    "    start_time = time.time()\n",
    "    print(\"\")\n",
    "    \n",
    "    nb_batch = len(train_loader)\n",
    "\n",
    "    reset_metrics()\n",
    "    student.train()\n",
    "\n",
    "    for i, (S, U) in enumerate(train_loader):        \n",
    "        x_s, y_s = S\n",
    "        x_u, y_u = U\n",
    "\n",
    "        # Apply mixup if needed, otherwise no mixup.\n",
    "        n_x_s, n_y_s, n_x_u, n_y_u = x_s, y_s, x_u, y_u\n",
    "        if args.mixup:\n",
    "            n_x_s, n_y_s = mixup_fn(x_s, y_s)\n",
    "            n_x_u, n_y_u = mixup_fn(x_u, y_u)\n",
    "        \n",
    "        n_x_s, n_x_u = n_x_s.cuda(), n_x_u.cuda()\n",
    "        x_s, x_u = x_s.cuda(), x_u.cuda()\n",
    "        y_s, y_u = y_s.cuda(), y_u.cuda()\n",
    "        \n",
    "        # Predictions\n",
    "        student_s_logits = student(x_s)        \n",
    "        student_u_logits = student(x_u)\n",
    "        teacher_s_logits = teacher(n_x_s)\n",
    "        teacher_u_logits = teacher(n_x_u)\n",
    "        \n",
    "        # Calculate supervised loss (only student on S)\n",
    "        loss = loss_ce(student_s_logits, y_s)\n",
    "        \n",
    "        # Calculate consistency cost (mse(student(x), teacher(x))) x is S + U\n",
    "        student_logits = torch.cat((student_s_logits, student_u_logits), dim=0)\n",
    "        teacher_logits = torch.cat((teacher_s_logits, teacher_u_logits), dim=0)\n",
    "        ccost = consistency_cost(softmax_fn(student_logits), softmax_fn(teacher_logits))\n",
    "#         ccost = consistency_cost(softmax_fn(student_u_logits), softmax_fn(teacher_u_logits))\n",
    "\n",
    "        total_loss = loss + lambda_cost() * ccost\n",
    "        \n",
    "        optimizer.zero_grad()\n",
    "        total_loss.backward()\n",
    "        optimizer.step()\n",
    "\n",
    "        with torch.set_grad_enabled(False):\n",
    "            # Teacher prediction (for metrics purpose)\n",
    "            _teacher_loss = loss_ce(teacher_s_logits, y_s)\n",
    "            \n",
    "            # Update teacher\n",
    "            update_teacher_model(student, teacher, args.ema_alpha, epoch*nb_batch + i)\n",
    "            \n",
    "            # Compute the metrics for the student\n",
    "            student_s_metrics = calc_student_s_metrics(student_s_logits, y_s)\n",
    "            student_u_metrics = calc_student_u_metrics(student_u_logits, y_u)\n",
    "            student_s_acc, student_s_f1, student_u_acc, student_u_f1 = *student_s_metrics, *student_u_metrics\n",
    "            \n",
    "            # Compute the metrics for the teacher\n",
    "            teacher_s_metrics = calc_teacher_s_metrics(teacher_s_logits, y_s)\n",
    "            teacher_u_metrics = calc_teacher_u_metrics(teacher_u_logits, y_u)\n",
    "            teacher_s_acc, teacher_s_f1, teacher_u_acc, teacher_u_f1 = *teacher_s_metrics, *teacher_u_metrics\n",
    "            \n",
    "            # Running average of the two losses\n",
    "            student_running_loss = avg_Sce(loss.item()).mean\n",
    "            teacher_running_loss = avg_Tce(_teacher_loss.item()).mean\n",
    "            running_ccost = avg_ccost(ccost.item()).mean\n",
    "\n",
    "            # logs\n",
    "            print(train_form.format(\n",
    "                \"Training: \", epoch + 1, int(100 * (i + 1) / nb_batch),\n",
    "                \"\", student_running_loss, running_ccost, *student_s_metrics, *student_u_metrics,\n",
    "                \"\", teacher_running_loss, *teacher_s_metrics, *teacher_u_metrics,\n",
    "                time.time() - start_time),\n",
    "                end=\"\\r\")\n",
    "\n",
    "    tensorboard.add_scalar(\"train/student_acc_s\", student_s_acc, epoch)\n",
    "    tensorboard.add_scalar(\"train/student_acc_u\", student_u_acc, epoch)\n",
    "    tensorboard.add_scalar(\"train/student_f1_s\", student_s_f1, epoch)\n",
    "    tensorboard.add_scalar(\"train/student_f1_u\", student_u_f1, epoch)\n",
    "    \n",
    "    tensorboard.add_scalar(\"train/teacher_acc_s\", teacher_s_acc, epoch)\n",
    "    tensorboard.add_scalar(\"train/teacher_acc_u\", teacher_u_acc, epoch)\n",
    "    tensorboard.add_scalar(\"train/teacher_f1_s\", teacher_s_f1, epoch)\n",
    "    tensorboard.add_scalar(\"train/teacher_f1_u\", teacher_u_f1, epoch)\n",
    "    \n",
    "    tensorboard.add_scalar(\"train/student_loss\", student_running_loss, epoch)\n",
    "    tensorboard.add_scalar(\"train/teacher_loss\", teacher_running_loss, epoch)\n",
    "    tensorboard.add_scalar(\"train/consistency_cost\", running_ccost, epoch)"
   ]
  },
  {
   "cell_type": "code",
   "execution_count": 26,
   "metadata": {
    "collapsed": false,
    "jupyter": {
     "outputs_hidden": false
    },
    "pycharm": {
     "name": "#%%\n"
    },
    "tags": [
     "re_run"
    ]
   },
   "outputs": [],
   "source": [
    "def val(epoch):\n",
    "    start_time = time.time()\n",
    "    print(\"\")\n",
    "    reset_metrics()\n",
    "    student.eval()\n",
    "    \n",
    "    with torch.set_grad_enabled(False):\n",
    "        for i, (X, y) in enumerate(val_loader):\n",
    "            X = X.cuda()\n",
    "            y = y.cuda()\n",
    "\n",
    "            # Predictions\n",
    "            student_logits = student(X)        \n",
    "            teacher_logits = teacher(X)\n",
    "\n",
    "            # Calculate supervised loss (only student on S)\n",
    "            loss = loss_ce(student_logits, y)\n",
    "            _teacher_loss = loss_ce(teacher_logits, y) # for metrics only\n",
    "            ccost = consistency_cost(softmax_fn(student_logits), softmax_fn(teacher_logits))\n",
    "            \n",
    "            # Compute the metrics\n",
    "            y_one_hot = F.one_hot(y, num_classes=args.num_classes)\n",
    "            \n",
    "            # ---- student ----\n",
    "            student_metrics = calc_student_s_metrics(student_logits, y)\n",
    "            student_acc, student_f1 = student_metrics\n",
    "            \n",
    "            # ---- teacher ----\n",
    "            teacher_metrics = calc_teacher_s_metrics(teacher_logits, y)\n",
    "            teacher_acc, teacher_f1 = teacher_metrics\n",
    "\n",
    "            # Running average of the two losses\n",
    "            student_running_loss = avg_Sce(loss.item()).mean\n",
    "            teacher_running_loss = avg_Tce(_teacher_loss.item()).mean\n",
    "            running_ccost = avg_ccost(ccost.item()).mean\n",
    "\n",
    "            # logs\n",
    "            print(val_form.format(\n",
    "                \"Validation: \", epoch + 1, int(100 * (i + 1) / len(val_loader)),\n",
    "                \"\", student_running_loss, running_ccost, *student_metrics, 0.0, 0.0,\n",
    "                \"\", teacher_running_loss, *teacher_metrics, 0.0, 0.0,\n",
    "                time.time() - start_time\n",
    "            ), end=\"\\r\")\n",
    "\n",
    "    tensorboard.add_scalar(\"val/student_acc\", student_acc, epoch)\n",
    "    tensorboard.add_scalar(\"val/student_f1\", student_f1, epoch)\n",
    "    tensorboard.add_scalar(\"val/teacher_acc\", teacher_acc, epoch)\n",
    "    tensorboard.add_scalar(\"val/teacher_f1\", teacher_f1, epoch)\n",
    "    tensorboard.add_scalar(\"val/student_loss\", student_running_loss, epoch)\n",
    "    tensorboard.add_scalar(\"val/teacher_loss\", teacher_running_loss, epoch)\n",
    "    tensorboard.add_scalar(\"val/consistency_cost\", running_ccost, epoch)\n",
    "    \n",
    "    tensorboard.add_scalar(\"hyperparameters/learning_rate\", get_lr(optimizer), epoch)\n",
    "    tensorboard.add_scalar(\"hyperparameters/lambda_cost_max\", lambda_cost(), epoch)\n",
    "    \n",
    "    tensorboard.add_scalar(\"max/student_acc\", maximum_tracker(\"student_acc\", student_acc), epoch )\n",
    "    tensorboard.add_scalar(\"max/teacher_acc\", maximum_tracker(\"teacher_acc\", teacher_acc), epoch )\n",
    "    tensorboard.add_scalar(\"max/student_f1\", maximum_tracker(\"student_f1\", student_f1), epoch )\n",
    "    tensorboard.add_scalar(\"max/teacher_f1\", maximum_tracker(\"teacher_f1\", teacher_f1), epoch )\n",
    "\n",
    "    checkpoint.step(teacher_acc)\n",
    "    for c in callbacks:\n",
    "        c.step()\n"
   ]
  },
  {
   "cell_type": "markdown",
   "metadata": {},
   "source": [
    "# Training"
   ]
  },
  {
   "cell_type": "code",
   "execution_count": 27,
   "metadata": {
    "collapsed": false,
    "jupyter": {
     "outputs_hidden": false
    },
    "pycharm": {
     "name": "#%%\n"
    },
    "scrolled": true,
    "tags": [
     "outputPrepend"
    ]
   },
   "outputs": [
    {
     "name": "stdout",
     "output_type": "stream",
     "text": [
      ".        Epoch  - %      - Student:   ce       ccost    acc_s    f1_s     acc_u    f1_u     | Teacher:   ce       acc_s    f1_s     acc_u    f1_u     - Time    \n",
      "\n",
      "Training 1      - 100    -            2.0665   0.0008   0.2689   0.0593   0.3142   0.1166   |            1.9520   0.3093   0.0254   0.3509   0.0669   - 84.8131 \n",
      "\u001b[1;4mValidati 1      - 100    -            2.0424   0.0008   0.3759   0.1887   0.0000   0.0000   |            1.9230   0.4295   0.0787   0.0000   0.0000   - 7.5112  \u001b[0m\n",
      "Training 2      - 100    -            1.9312   0.0008   0.3561   0.1380   0.4036   0.2191   |            1.8019   0.4116   0.0974   0.4407   0.1354   - 20.0872 \n",
      "\u001b[1;4mValidati 2      - 100    -            1.9094   0.0008   0.4757   0.2350   0.0000   0.0000   |            1.7887   0.4848   0.1289   0.0000   0.0000   - 0.5603  \u001b[0m\n",
      "Training 3      - 100    -            1.8167   0.0009   0.4293   0.2809   0.4666   0.3301   |            1.7197   0.4621   0.1728   0.5041   0.2430   - 20.1130 \n",
      "\u001b[1;4mValidati 3      - 100    -            1.8079   0.0010   0.4413   0.3602   0.0000   0.0000   |            1.7111   0.5406   0.3002   0.0000   0.0000   - 0.5570  \u001b[0m\n",
      "Training 4      - 100    -            1.7357   0.0010   0.4634   0.3433   0.4958   0.3765   |            1.6426   0.5240   0.2889   0.5435   0.3305   - 20.1663 \n",
      "\u001b[1;4mValidati 4      - 100    -            1.7336   0.0010   0.4446   0.3212   0.0000   0.0000   |            1.6357   0.5321   0.3406   0.0000   0.0000   - 0.5707  \u001b[0m\n",
      "Training 5      - 100    -            1.6648   0.0010   0.5290   0.4055   0.5447   0.4487   |            1.5813   0.5518   0.3412   0.5635   0.3713   - 20.2355 \n",
      "\u001b[1;4mValidati 5      - 100    -            1.6592   0.0010   0.5440   0.4623   0.0000   0.0000   |            1.5758   0.5931   0.4050   0.0000   0.0000   - 0.5576  \u001b[0m\n",
      "Training 6      - 100    -            1.6136   0.0011   0.5328   0.4189   0.5422   0.4778   |            1.5343   0.5909   0.3848   0.5868   0.4110   - 20.4688 \n",
      "\u001b[1;4mValidati 6      - 100    -            1.6113   0.0011   0.4717   0.3796   0.0000   0.0000   |            1.5296   0.6096   0.4389   0.0000   0.0000   - 0.5727  \u001b[0m\n",
      "Training 7      - 100    -            1.5582   0.0011   0.5606   0.4848   0.6061   0.5374   |            1.4905   0.6010   0.4154   0.6003   0.4493   - 20.5852 \n",
      "\u001b[1;4mValidati 7      - 100    -            1.5550   0.0011   0.5821   0.4713   0.0000   0.0000   |            1.4875   0.6087   0.4372   0.0000   0.0000   - 0.5793  \u001b[0m\n",
      "Training 8      - 100    -            1.5041   0.0012   0.6174   0.5566   0.6272   0.5871   |            1.4502   0.5997   0.4517   0.6160   0.4907   - 20.4462 \n",
      "\u001b[1;4mValidati 8      - 100    -            1.5031   0.0012   0.4906   0.4473   0.0000   0.0000   |            1.4481   0.5935   0.4813   0.0000   0.0000   - 0.5651  \u001b[0m\n",
      "Training 9      - 100    -            1.4588   0.0013   0.6313   0.5820   0.6372   0.6100   |            1.4118   0.6465   0.4967   0.6368   0.5383   - 20.3253 \n",
      "\u001b[1;4mValidati 9      - 100    -            1.4551   0.0013   0.6176   0.5836   0.0000   0.0000   |            1.4094   0.6100   0.5224   0.0000   0.0000   - 0.5736  \u001b[0m\n",
      "Training 10     - 100    -            1.4135   0.0013   0.6629   0.6153   0.6562   0.6278   |            1.3766   0.6604   0.5620   0.6464   0.5653   - 20.2962 \n",
      "\u001b[1;4mValidati 10     - 100    -            1.4114   0.0013   0.5353   0.5413   0.0000   0.0000   |            1.3744   0.6368   0.5482   0.0000   0.0000   - 0.5651  \u001b[0m\n",
      "Training 11     - 100    -            1.3689   0.0013   0.6944   0.6596   0.6884   0.6703   |            1.3410   0.6780   0.5678   0.6642   0.6030   - 20.6850 \n",
      "\u001b[1;4mValidati 11     - 100    -            1.3684   0.0014   0.5498   0.5067   0.0000   0.0000   |            1.3397   0.6234   0.5549   0.0000   0.0000   - 0.5850  \u001b[0m\n",
      "Training 12     - 100    -            1.3262   0.0014   0.7096   0.6932   0.6873   0.6753   |            1.3061   0.6982   0.6384   0.6773   0.6295   - 20.3871 \n",
      "\u001b[1;4mValidati 12     - 100    -            1.3260   0.0014   0.5759   0.5659   0.0000   0.0000   |            1.3046   0.6455   0.5902   0.0000   0.0000   - 0.5727  \u001b[0m\n",
      "Training 13     - 100    -            1.2887   0.0015   0.7159   0.6949   0.6999   0.6873   |            1.2731   0.7374   0.6596   0.6947   0.6598   - 20.3893 \n",
      "\u001b[1;4mValidati 13     - 100    -            1.2878   0.0015   0.6379   0.6458   0.0000   0.0000   |            1.2716   0.6391   0.6229   0.0000   0.0000   - 0.5607  \u001b[0m\n",
      "Training 14     - 100    -            1.2490   0.0015   0.7891   0.7573   0.7321   0.7213   |            1.2383   0.7639   0.7218   0.7101   0.6836   - 20.3957 \n",
      "\u001b[1;4mValidati 14     - 100    -            1.2479   0.0015   0.6676   0.6617   0.0000   0.0000   |            1.2372   0.6480   0.6241   0.0000   0.0000   - 0.5738  \u001b[0m\n",
      "Training 15     - 100    -            1.2128   0.0015   0.7689   0.7544   0.7325   0.7256   |            1.2046   0.7917   0.7443   0.7238   0.7021   - 20.4699 \n",
      "\u001b[1;4mValidati 15     - 100    -            1.2143   0.0015   0.5431   0.5350   0.0000   0.0000   |            1.2038   0.6549   0.6504   0.0000   0.0000   - 0.5593  \u001b[0m\n",
      "Training 16     - 100    -            1.1786   0.0015   0.7942   0.7879   0.7400   0.7353   |            1.1707   0.8056   0.7859   0.7339   0.7213   - 20.4192 \n",
      "\u001b[1;4mValidati 16     - 100    -            1.1792   0.0015   0.6033   0.5864   0.0000   0.0000   |            1.1698   0.6813   0.6679   0.0000   0.0000   - 0.5741  \u001b[0m\n",
      "Training 17     - 100    -            1.1463   0.0016   0.8157   0.7953   0.7495   0.7496   |            1.1379   0.8333   0.8032   0.7465   0.7359   - 20.2630 \n",
      "\u001b[1;4mValidati 17     - 100    -            1.1464   0.0016   0.6297   0.6209   0.0000   0.0000   |            1.1370   0.6824   0.6650   0.0000   0.0000   - 0.5656  \u001b[0m\n",
      "Training 18     - 100    -            1.1189   0.0016   0.7917   0.7776   0.7373   0.7388   |            1.1076   0.8220   0.8144   0.7577   0.7507   - 20.4430 \n",
      "\u001b[1;4mValidati 18     - 100    -            1.1210   0.0016   0.5196   0.5043   0.0000   0.0000   |            1.1072   0.6692   0.6783   0.0000   0.0000   - 0.5740  \u001b[0m\n",
      "Training 19     - 100    -            1.0922   0.0016   0.8409   0.8254   0.7451   0.7439   |            1.0776   0.8598   0.8479   0.7665   0.7600   - 20.3676 \n",
      "\u001b[1;4mValidati 19     - 100    -            1.0917   0.0016   0.6710   0.6826   0.0000   0.0000   |            1.0768   0.7087   0.7103   0.0000   0.0000   - 0.5731  \u001b[0m\n",
      "Training 20     - 100    -            1.0611   0.0016   0.8674   0.8676   0.7773   0.7781   |            1.0478   0.8712   0.8622   0.7755   0.7712   - 20.4365 \n",
      "\u001b[1;4mValidati 20     - 100    -            1.0615   0.0016   0.6712   0.6584   0.0000   0.0000   |            1.0473   0.6967   0.6879   0.0000   0.0000   - 0.5747  \u001b[0m\n",
      "Training 21     - 100    -            1.0318   0.0016   0.8712   0.8735   0.7610   0.7645   |            1.0186   0.8788   0.8806   0.7832   0.7808   - 20.4433 \n",
      "\u001b[1;4mValidati 21     - 100    -            1.0350   0.0016   0.5431   0.5329   0.0000   0.0000   |            1.0188   0.6658   0.6502   0.0000   0.0000   - 0.5764  \u001b[0m\n",
      "Training 22     - 100    -            1.0076   0.0016   0.8788   0.8702   0.7669   0.7697   |            0.9908   0.9040   0.8945   0.7911   0.7898   - 20.4153 \n",
      "\u001b[1;4mValidati 22     - 100    -            1.0087   0.0016   0.6286   0.6308   0.0000   0.0000   |            0.9908   0.6558   0.6729   0.0000   0.0000   - 0.6152  \u001b[0m\n",
      "Training 23     - 100    -            0.9849   0.0016   0.8674   0.8624   0.7633   0.7585   |            0.9644   0.9129   0.9029   0.7983   0.7997   - 20.3804 \n",
      "\u001b[1;4mValidati 23     - 100    -            0.9862   0.0016   0.6375   0.6371   0.0000   0.0000   |            0.9646   0.6723   0.6795   0.0000   0.0000   - 0.5851  \u001b[0m\n",
      "Training 24     - 100    -            0.9624   0.0016   0.8838   0.8786   0.7822   0.7837   |            0.9387   0.9242   0.9175   0.8022   0.8042   - 20.3563 \n",
      "\u001b[1;4mValidati 24     - 100    -            0.9641   0.0016   0.6112   0.6008   0.0000   0.0000   |            0.9392   0.6339   0.6340   0.0000   0.0000   - 0.5716  \u001b[0m\n",
      "Training 25     - 100    -            0.9405   0.0016   0.9104   0.9017   0.7806   0.7838   |            0.9148   0.9205   0.9134   0.8126   0.8093   - 20.4028 \n",
      "\u001b[1;4mValidati 25     - 100    -            0.9423   0.0016   0.6310   0.6295   0.0000   0.0000   |            0.9150   0.6911   0.6905   0.0000   0.0000   - 0.5638  \u001b[0m\n",
      "Training 26     - 100    -            0.9187   0.0016   0.9129   0.9050   0.7896   0.7950   |            0.8909   0.9394   0.9399   0.8142   0.8165   - 20.5088 \n",
      "\u001b[1;4mValidati 26     - 100    -            0.9203   0.0016   0.6754   0.6779   0.0000   0.0000   |            0.8912   0.6844   0.6963   0.0000   0.0000   - 0.5754  \u001b[0m\n",
      "Training 27     - 100    -            0.8986   0.0016   0.9053   0.9067   0.7888   0.7900   |            0.8685   0.9407   0.9446   0.8160   0.8164   - 20.4185 \n",
      "\u001b[1;4mValidati 27     - 100    -            0.9007   0.0017   0.5984   0.6109   0.0000   0.0000   |            0.8689   0.6888   0.6983   0.0000   0.0000   - 0.5687  \u001b[0m\n",
      "Training 28     - 100    -            0.8798   0.0017   0.9179   0.9134   0.7861   0.7895   |            0.8461   0.9571   0.9530   0.8214   0.8222   - 20.4834 \n",
      "\u001b[1;4mValidati 28     - 100    -            0.8813   0.0017   0.6221   0.6264   0.0000   0.0000   |            0.8470   0.6471   0.6559   0.0000   0.0000   - 0.5745  \u001b[0m\n",
      "Training 29     - 100    -            0.8622   0.0017   0.9104   0.9070   0.7716   0.7733   |            0.8255   0.9596   0.9518   0.8237   0.8238   - 20.3883 \n",
      "\u001b[1;4mValidati 29     - 100    -            0.8640   0.0017   0.5855   0.5900   0.0000   0.0000   |            0.8261   0.6967   0.6999   0.0000   0.0000   - 0.5769  \u001b[0m\n",
      "Training 30     - 100    -            0.8451   0.0017   0.9242   0.9227   0.7881   0.7894   |            0.8048   0.9722   0.9706   0.8225   0.8243   - 20.4194 \n",
      "\u001b[1;4mValidati 30     - 100    -            0.8474   0.0017   0.6433   0.6389   0.0000   0.0000   |            0.8057   0.6681   0.6718   0.0000   0.0000   - 0.5618  \u001b[0m\n",
      "Training 31     - 100    -            0.8323   0.0017   0.9003   0.8973   0.7622   0.7650   |            0.7864   0.9583   0.9584   0.8242   0.8252   - 20.3411 \n",
      "\u001b[1;4mValidati 31     - 100    -            0.8337   0.0017   0.6422   0.6373   0.0000   0.0000   |            0.7873   0.6636   0.6738   0.0000   0.0000   - 0.5755  \u001b[0m\n",
      "Training 32     - 100    -            0.8166   0.0017   0.9242   0.9276   0.7972   0.7995   |            0.7683   0.9684   0.9711   0.8278   0.8291   - 20.4969 \n",
      "\u001b[1;4mValidati 32     - 100    -            0.8184   0.0017   0.6533   0.6557   0.0000   0.0000   |            0.7691   0.6835   0.6899   0.0000   0.0000   - 0.5601  \u001b[0m\n",
      "Training 33     - 100    -            0.7992   0.0017   0.9697   0.9692   0.8124   0.8148   |            0.7506   0.9798   0.9767   0.8313   0.8312   - 20.5170 \n",
      "\u001b[1;4mValidati 33     - 100    -            0.8005   0.0017   0.6763   0.6698   0.0000   0.0000   |            0.7515   0.6801   0.6741   0.0000   0.0000   - 0.5751  \u001b[0m\n",
      "Training 34     - 100    -            0.7822   0.0017   0.9659   0.9666   0.8220   0.8236   |            0.7341   0.9735   0.9737   0.8307   0.8316   - 20.3356 \n",
      "\u001b[1;4mValidati 34     - 100    -            0.7839   0.0017   0.6679   0.6707   0.0000   0.0000   |            0.7352   0.6681   0.6639   0.0000   0.0000   - 0.5762  \u001b[0m\n",
      "Training 35     - 100    -            0.7673   0.0017   0.9558   0.9542   0.7968   0.8004   |            0.7182   0.9798   0.9783   0.8346   0.8352   - 20.4917 \n",
      "\u001b[1;4mValidati 35     - 100    -            0.7691   0.0017   0.6333   0.6351   0.0000   0.0000   |            0.7192   0.6911   0.6959   0.0000   0.0000   - 0.5939  \u001b[0m\n",
      "Training 36     - 100    -            0.7543   0.0017   0.9381   0.9413   0.7886   0.7919   |            0.7031   0.9874   0.9841   0.8346   0.8343   - 20.3764 \n",
      "\u001b[1;4mValidati 36     - 100    -            0.7565   0.0017   0.6096   0.6136   0.0000   0.0000   |            0.7041   0.6944   0.6914   0.0000   0.0000   - 0.5733  \u001b[0m\n",
      "Training 37     - 100    -            0.7403   0.0017   0.9722   0.9743   0.8014   0.8051   |            0.6881   0.9874   0.9868   0.8349   0.8364   - 20.3796 \n",
      "\u001b[1;4mValidati 37     - 100    -            0.7424   0.0017   0.6156   0.6275   0.0000   0.0000   |            0.6892   0.6701   0.6700   0.0000   0.0000   - 0.5599  \u001b[0m\n",
      "Training 38     - 100    -            0.7277   0.0017   0.9634   0.9627   0.8016   0.8049   |            0.6743   0.9899   0.9846   0.8323   0.8351   - 20.5160 \n",
      "\u001b[1;4mValidati 38     - 100    -            0.7294   0.0017   0.6435   0.6482   0.0000   0.0000   |            0.6755   0.6592   0.6644   0.0000   0.0000   - 0.5775  \u001b[0m\n",
      "Training 39     - 100    -            0.7156   0.0017   0.9634   0.9597   0.7999   0.8027   |            0.6608   0.9924   0.9921   0.8364   0.8386   - 20.4456 \n",
      "\u001b[1;4mValidati 39     - 100    -            0.7177   0.0017   0.6208   0.6203   0.0000   0.0000   |            0.6621   0.7000   0.6992   0.0000   0.0000   - 0.5672  \u001b[0m\n",
      "Training 40     - 100    -            0.7047   0.0017   0.9558   0.9512   0.8040   0.8062   |            0.6481   0.9899   0.9916   0.8347   0.8368   - 20.3615 \n",
      "\u001b[1;4mValidati 40     - 100    -            0.7070   0.0017   0.5777   0.5769   0.0000   0.0000   |            0.6495   0.6734   0.6721   0.0000   0.0000   - 0.5754  \u001b[0m\n",
      "Training 41     - 100    -            0.6933   0.0017   0.9684   0.9681   0.8078   0.8106   |            0.6357   0.9975   0.9974   0.8395   0.8415   - 20.4686 \n",
      "\u001b[1;4mValidati 41     - 100    -            0.6952   0.0017   0.6254   0.6270   0.0000   0.0000   |            0.6368   0.6911   0.6899   0.0000   0.0000   - 0.5890  \u001b[0m\n",
      "Training 42     - 100    -            0.6831   0.0017   0.9596   0.9612   0.7896   0.7891   |            0.6237   0.9924   0.9947   0.8365   0.8378   - 20.4250 \n",
      "\u001b[1;4mValidati 42     - 100    -            0.6852   0.0017   0.6308   0.6221   0.0000   0.0000   |            0.6250   0.6779   0.6757   0.0000   0.0000   - 0.5622  \u001b[0m\n",
      "Training 43     - 100    -            0.6735   0.0017   0.9634   0.9617   0.7906   0.7914   |            0.6130   0.9886   0.9890   0.8390   0.8411   - 20.4772 \n",
      "\u001b[1;4mValidati 43     - 100    -            0.6756   0.0017   0.6330   0.6414   0.0000   0.0000   |            0.6142   0.6855   0.6919   0.0000   0.0000   - 0.5749  \u001b[0m\n",
      "Training 44     - 100    -            0.6656   0.0017   0.9343   0.9355   0.7718   0.7741   |            0.6023   0.9899   0.9898   0.8341   0.8372   - 20.3905 \n",
      "\u001b[1;4mValidati 44     - 100    -            0.6680   0.0017   0.6116   0.6022   0.0000   0.0000   |            0.6039   0.6612   0.6678   0.0000   0.0000   - 0.5619  \u001b[0m\n",
      "Training 45     - 100    -            0.6577   0.0017   0.9394   0.9374   0.7974   0.8022   |            0.5921   1.0000   0.9993   0.8343   0.8378   - 20.5565 \n",
      "\u001b[1;4mValidati 45     - 100    -            0.6598   0.0017   0.6201   0.6166   0.0000   0.0000   |            0.5934   0.6679   0.6731   0.0000   0.0000   - 0.5732  \u001b[0m\n",
      "Training 46     - 100    -            0.6493   0.0017   0.9621   0.9624   0.7955   0.7982   |            0.5824   0.9949   0.9928   0.8363   0.8390   - 20.4257 \n",
      "\u001b[1;4mValidati 46     - 100    -            0.6516   0.0017   0.6357   0.6430   0.0000   0.0000   |            0.5838   0.6712   0.6731   0.0000   0.0000   - 0.5695  \u001b[0m\n",
      "Training 47     - 100    -            0.6403   0.0017   0.9836   0.9812   0.8102   0.8126   |            0.5730   0.9949   0.9955   0.8339   0.8366   - 20.4960 \n",
      "\u001b[1;4mValidati 47     - 100    -            0.6425   0.0017   0.6442   0.6425   0.0000   0.0000   |            0.5744   0.6810   0.6828   0.0000   0.0000   - 0.5801  \u001b[0m\n",
      "Training 48     - 100    -            0.6313   0.0017   0.9886   0.9870   0.8164   0.8192   |            0.5639   0.9987   0.9987   0.8335   0.8374   - 20.3722 \n",
      "\u001b[1;4mValidati 48     - 100    -            0.6330   0.0017   0.6585   0.6662   0.0000   0.0000   |            0.5652   0.6897   0.6889   0.0000   0.0000   - 0.6188  \u001b[0m\n",
      "Training 49     - 100    -            0.6226   0.0017   0.9811   0.9777   0.8066   0.8102   |            0.5551   0.9962   0.9974   0.8356   0.8386   - 20.3535 \n",
      "\u001b[1;4mValidati 49     - 100    -            0.6250   0.0017   0.6188   0.6126   0.0000   0.0000   |            0.5566   0.6567   0.6626   0.0000   0.0000   - 0.5635  \u001b[0m\n",
      "Training 50     - 100    -            0.6145   0.0017   0.9899   0.9891   0.8198   0.8223   |            0.5468   0.9987   0.9987   0.8362   0.8389   - 20.5304 \n",
      "\u001b[1;4mValidati 50     - 100    -            0.6163   0.0017   0.6290   0.6313   0.0000   0.0000   |            0.5485   0.6569   0.6629   0.0000   0.0000   - 0.5738  \u001b[0m\n",
      "Training 51     - 100    -            0.6070   0.0017   0.9722   0.9705   0.8009   0.8032   |            0.5390   1.0000   1.0000   0.8363   0.8412   - 20.4815 \n",
      "\u001b[1;4mValidati 51     - 100    -            0.6090   0.0017   0.6107   0.6119   0.0000   0.0000   |            0.5404   0.6987   0.7031   0.0000   0.0000   - 0.5632  \u001b[0m\n",
      "Training 52     - 100    -            0.5999   0.0017   0.9735   0.9728   0.7999   0.8032   |            0.5313   0.9962   0.9962   0.8341   0.8347   - 20.5404 \n",
      "\u001b[1;4mValidati 52     - 100    -            0.6018   0.0017   0.6355   0.6390   0.0000   0.0000   |            0.5329   0.6612   0.6686   0.0000   0.0000   - 0.5968  \u001b[0m\n",
      "Training 53     - 100    -            0.5932   0.0017   0.9710   0.9712   0.8103   0.8142   |            0.5240   0.9975   0.9975   0.8329   0.8349   - 20.3814 \n",
      "\u001b[1;4mValidati 53     - 100    -            0.5956   0.0017   0.6475   0.6432   0.0000   0.0000   |            0.5255   0.6810   0.6838   0.0000   0.0000   - 0.5765  \u001b[0m\n",
      "Training 54     - 100    -            0.5880   0.0017   0.9558   0.9508   0.8094   0.8109   |            0.5170   0.9987   0.9987   0.8392   0.8401   - 20.4709 \n",
      "\u001b[1;4mValidati 54     - 100    -            0.5894   0.0017   0.7143   0.7098   0.0000   0.0000   |            0.5185   0.6525   0.6648   0.0000   0.0000   - 0.5623  \u001b[0m\n",
      "Training 55     - 100    -            0.5811   0.0017   0.9773   0.9747   0.8161   0.8195   |            0.5102   0.9987   0.9987   0.8402   0.8436   - 20.4180 \n",
      "\u001b[1;4mValidati 55     - 100    -            0.5826   0.0017   0.6531   0.6557   0.0000   0.0000   |            0.5115   0.7031   0.7058   0.0000   0.0000   - 0.5771  \u001b[0m\n",
      "Training 56     - 100    -            0.5741   0.0017   0.9785   0.9816   0.8007   0.8035   |            0.5035   0.9975   0.9960   0.8414   0.8450   - 20.4544 \n",
      "\u001b[1;4mValidati 56     - 100    -            0.5762   0.0017   0.6109   0.6166   0.0000   0.0000   |            0.5050   0.6835   0.6941   0.0000   0.0000   - 0.5646  \u001b[0m\n",
      "Training 57     - 100    -            0.5682   0.0017   0.9773   0.9750   0.7919   0.7975   |            0.4972   0.9987   0.9980   0.8408   0.8427   - 20.6295 \n",
      "\u001b[1;4mValidati 57     - 100    -            0.5705   0.0017   0.6411   0.6402   0.0000   0.0000   |            0.4988   0.6527   0.6546   0.0000   0.0000   - 0.5764  \u001b[0m\n",
      "Training 58     - 100    -            0.5631   0.0017   0.9672   0.9674   0.7889   0.7921   |            0.4912   0.9975   0.9980   0.8422   0.8446   - 20.4077 \n",
      "\u001b[1;4mValidati 58     - 100    -            0.5650   0.0017   0.5786   0.5804   0.0000   0.0000   |            0.4927   0.6757   0.6799   0.0000   0.0000   - 0.5728  \u001b[0m\n",
      "Training 59     - 100    -            0.5576   0.0017   0.9747   0.9754   0.8032   0.8054   |            0.4853   0.9987   0.9993   0.8381   0.8412   - 20.5096 \n",
      "\u001b[1;4mValidati 59     - 100    -            0.5596   0.0017   0.6056   0.6040   0.0000   0.0000   |            0.4868   0.6513   0.6576   0.0000   0.0000   - 0.5750  \u001b[0m\n",
      "Training 60     - 100    -            0.5519   0.0017   0.9861   0.9855   0.8141   0.8169   |            0.4797   0.9962   0.9968   0.8406   0.8426   - 20.4438 \n",
      "\u001b[1;4mValidati 60     - 100    -            0.5534   0.0017   0.6656   0.6640   0.0000   0.0000   |            0.4812   0.6600   0.6668   0.0000   0.0000   - 0.5780  \u001b[0m\n",
      "Training 61     - 100    -            0.5458   0.0017   0.9886   0.9883   0.8178   0.8209   |            0.4743   0.9975   0.9975   0.8379   0.8384   - 20.4642 \n",
      "\u001b[1;4mValidati 61     - 100    -            0.5473   0.0017   0.6978   0.6821   0.0000   0.0000   |            0.4756   0.6844   0.6767   0.0000   0.0000   - 0.5688  \u001b[0m\n",
      "Training 62     - 100    -            0.5408   0.0017   0.9646   0.9671   0.7999   0.8014   |            0.4688   0.9987   0.9980   0.8382   0.8414   - 20.4805 \n",
      "\u001b[1;4mValidati 62     - 100    -            0.5430   0.0017   0.6143   0.6190   0.0000   0.0000   |            0.4703   0.6790   0.6694   0.0000   0.0000   - 0.5793  \u001b[0m\n",
      "Training 63     - 100    -            0.5360   0.0017   0.9836   0.9828   0.8118   0.8162   |            0.4637   0.9987   0.9980   0.8423   0.8445   - 20.3858 \n",
      "\u001b[1;4mValidati 63     - 100    -            0.5374   0.0017   0.6813   0.6712   0.0000   0.0000   |            0.4652   0.6681   0.6758   0.0000   0.0000   - 0.5621  \u001b[0m\n",
      "Training 64     - 100    -            0.5302   0.0017   0.9937   0.9939   0.8230   0.8238   |            0.4587   1.0000   0.9993   0.8392   0.8410   - 20.5600 \n",
      "\u001b[1;4mValidati 64     - 100    -            0.5317   0.0017   0.6554   0.6452   0.0000   0.0000   |            0.4599   0.6933   0.6968   0.0000   0.0000   - 0.5804  \u001b[0m\n",
      "Training 65     - 100    -            0.5246   0.0016   0.9924   0.9929   0.8155   0.8184   |            0.4537   0.9975   0.9986   0.8389   0.8414   - 20.4412 \n",
      "\u001b[1;4mValidati 65     - 100    -            0.5262   0.0016   0.6612   0.6616   0.0000   0.0000   |            0.4551   0.6958   0.6963   0.0000   0.0000   - 0.5771  \u001b[0m\n",
      "Training 66     - 100    -            0.5192   0.0016   0.9975   0.9972   0.8205   0.8245   |            0.4490   1.0000   0.9993   0.8388   0.8420   - 20.5490 \n",
      "\u001b[1;4mValidati 66     - 100    -            0.5207   0.0016   0.6170   0.6301   0.0000   0.0000   |            0.4503   0.6781   0.6771   0.0000   0.0000   - 0.5644  \u001b[0m\n",
      "Training 67     - 100    -            0.5144   0.0016   0.9811   0.9803   0.8036   0.8061   |            0.4444   0.9975   0.9975   0.8371   0.8400   - 20.5044 \n",
      "\u001b[1;4mValidati 67     - 100    -            0.5162   0.0016   0.6297   0.6289   0.0000   0.0000   |            0.4457   0.6989   0.6974   0.0000   0.0000   - 0.5895  \u001b[0m\n",
      "Training 68     - 100    -            0.5101   0.0016   0.9798   0.9820   0.8141   0.8156   |            0.4398   0.9987   0.9979   0.8449   0.8456   - 20.4650 \n",
      "\u001b[1;4mValidati 68     - 100    -            0.5120   0.0016   0.6129   0.6033   0.0000   0.0000   |            0.4411   0.6933   0.7010   0.0000   0.0000   - 0.5631  \u001b[0m\n",
      "Training 69     - 100    -            0.5060   0.0016   0.9785   0.9801   0.8139   0.8178   |            0.4355   0.9975   0.9980   0.8442   0.8470   - 20.5735 \n",
      "\u001b[1;4mValidati 69     - 100    -            0.5079   0.0016   0.6210   0.6263   0.0000   0.0000   |            0.4368   0.6944   0.6954   0.0000   0.0000   - 0.5832  \u001b[0m\n",
      "Training 70     - 100    -            0.5025   0.0017   0.9697   0.9692   0.7990   0.8008   |            0.4312   1.0000   1.0000   0.8451   0.8482   - 20.4107 \n",
      "\u001b[1;4mValidati 70     - 100    -            0.5041   0.0017   0.6310   0.6417   0.0000   0.0000   |            0.4326   0.6723   0.6741   0.0000   0.0000   - 0.5629  \u001b[0m\n",
      "Training 71     - 100    -            0.4987   0.0017   0.9747   0.9747   0.8022   0.8041   |            0.4272   0.9987   0.9987   0.8424   0.8450   - 20.4984 \n",
      "\u001b[1;4mValidati 71     - 100    -            0.5004   0.0017   0.6408   0.6454   0.0000   0.0000   |            0.4286   0.6922   0.7010   0.0000   0.0000   - 0.5912  \u001b[0m\n",
      "Training 72     - 100    -            0.4949   0.0017   0.9811   0.9803   0.8006   0.8019   |            0.4233   1.0000   1.0000   0.8433   0.8464   - 20.5811 \n",
      "\u001b[1;4mValidati 72     - 100    -            0.4966   0.0017   0.6156   0.6223   0.0000   0.0000   |            0.4245   0.6801   0.6928   0.0000   0.0000   - 0.5911  \u001b[0m\n",
      "Training 73     - 100    -            0.4916   0.0017   0.9684   0.9677   0.8070   0.8071   |            0.4193   1.0000   0.9993   0.8451   0.8473   - 20.4906 \n",
      "\u001b[1;4mValidati 73     - 100    -            0.4934   0.0017   0.6442   0.6469   0.0000   0.0000   |            0.4206   0.6634   0.6733   0.0000   0.0000   - 0.5688  \u001b[0m\n",
      "Training 74     - 100    -            0.4879   0.0017   0.9899   0.9898   0.8136   0.8163   |            0.4155   1.0000   1.0000   0.8448   0.8488   - 20.5064 \n",
      "\u001b[1;4mValidati 74     - 100    -            0.4893   0.0017   0.6545   0.6599   0.0000   0.0000   |            0.4168   0.6723   0.6758   0.0000   0.0000   - 0.5789  \u001b[0m\n",
      "Training 75     - 100    -            0.4841   0.0017   0.9836   0.9839   0.8226   0.8241   |            0.4119   0.9975   0.9980   0.8436   0.8465   - 20.4533 \n",
      "\u001b[1;4mValidati 75     - 100    -            0.4857   0.0017   0.6145   0.6197   0.0000   0.0000   |            0.4131   0.6788   0.6737   0.0000   0.0000   - 0.5636  \u001b[0m\n",
      "Training 76     - 100    -            0.4804   0.0017   0.9886   0.9879   0.8151   0.8181   |            0.4082   1.0000   1.0000   0.8453   0.8477   - 20.5349 \n",
      "\u001b[1;4mValidati 76     - 100    -            0.4820   0.0017   0.6422   0.6432   0.0000   0.0000   |            0.4096   0.6723   0.6765   0.0000   0.0000   - 0.5771  \u001b[0m\n",
      "Training 77     - 100    -            0.4765   0.0017   0.9987   0.9987   0.8270   0.8292   |            0.4048   1.0000   1.0000   0.8443   0.8474   - 20.5846 \n",
      "\u001b[1;4mValidati 77     - 100    -            0.4782   0.0017   0.6431   0.6408   0.0000   0.0000   |            0.4061   0.6877   0.6896   0.0000   0.0000   - 0.5765  \u001b[0m\n",
      "Training 78     - 100    -            0.4728   0.0016   0.9987   0.9974   0.8234   0.8255   |            0.4014   1.0000   1.0000   0.8441   0.8473   - 20.5320 \n",
      "\u001b[1;4mValidati 78     - 100    -            0.4744   0.0016   0.6578   0.6594   0.0000   0.0000   |            0.4028   0.6754   0.6836   0.0000   0.0000   - 0.5696  \u001b[0m\n",
      "Training 79     - 100    -            0.4691   0.0016   0.9962   0.9968   0.8244   0.8264   |            0.3982   1.0000   0.9993   0.8456   0.8478   - 20.4462 \n",
      "\u001b[1;4mValidati 79     - 100    -            0.4706   0.0016   0.6752   0.6778   0.0000   0.0000   |            0.3995   0.6942   0.6990   0.0000   0.0000   - 0.5782  \u001b[0m\n",
      "Training 80     - 100    -            0.4655   0.0016   0.9962   0.9955   0.8236   0.8261   |            0.3950   0.9987   0.9993   0.8432   0.8458   - 20.4506 \n",
      "\u001b[1;4mValidati 80     - 100    -            0.4672   0.0016   0.6219   0.6215   0.0000   0.0000   |            0.3964   0.6788   0.6828   0.0000   0.0000   - 0.5628  \u001b[0m\n",
      "Training 81     - 100    -            0.4625   0.0016   0.9848   0.9854   0.8026   0.8060   |            0.3919   1.0000   1.0000   0.8435   0.8462   - 20.5344 \n",
      "\u001b[1;4mValidati 81     - 100    -            0.4644   0.0016   0.6042   0.6127   0.0000   0.0000   |            0.3933   0.6578   0.6623   0.0000   0.0000   - 0.5789  \u001b[0m\n",
      "Training 82     - 100    -            0.4597   0.0016   0.9861   0.9840   0.8123   0.8157   |            0.3890   1.0000   1.0000   0.8413   0.8443   - 20.6662 \n",
      "\u001b[1;4mValidati 82     - 100    -            0.4613   0.0016   0.6777   0.6806   0.0000   0.0000   |            0.3903   0.6922   0.7028   0.0000   0.0000   - 0.5789  \u001b[0m\n",
      "Training 83     - 100    -            0.4565   0.0016   0.9899   0.9898   0.8142   0.8183   |            0.3861   1.0000   1.0000   0.8437   0.8463   - 20.5319 \n",
      "\u001b[1;4mValidati 83     - 100    -            0.4580   0.0016   0.6489   0.6565   0.0000   0.0000   |            0.3874   0.6712   0.6763   0.0000   0.0000   - 0.5774  \u001b[0m\n",
      "Training 84     - 100    -            0.4532   0.0016   0.9949   0.9948   0.8302   0.8310   |            0.3832   1.0000   1.0000   0.8437   0.8447   - 20.4339 \n",
      "\u001b[1;4mValidati 84     - 100    -            0.4547   0.0016   0.6558   0.6574   0.0000   0.0000   |            0.3846   0.6725   0.6753   0.0000   0.0000   - 0.6126  \u001b[0m\n",
      "Training 85     - 100    -            0.4500   0.0016   0.9987   0.9980   0.8250   0.8271   |            0.3805   1.0000   1.0000   0.8422   0.8439   - 20.5025 \n",
      "\u001b[1;4mValidati 85     - 100    -            0.4515   0.0016   0.6935   0.6942   0.0000   0.0000   |            0.3819   0.6779   0.6804   0.0000   0.0000   - 0.5653  \u001b[0m\n",
      "Training 86     - 100    -            0.4468   0.0016   1.0000   1.0000   0.8303   0.8322   |            0.3779   1.0000   1.0000   0.8444   0.8471   - 20.6013 \n",
      "\u001b[1;4mValidati 86     - 100    -            0.4479   0.0016   0.7201   0.7215   0.0000   0.0000   |            0.3791   0.7045   0.7086   0.0000   0.0000   - 0.6249  \u001b[0m\n",
      "Training 87     - 100    -            0.4434   0.0016   0.9962   0.9971   0.8363   0.8383   |            0.3753   0.9987   0.9980   0.8478   0.8499   - 20.4473 \n",
      "\u001b[1;4mValidati 87     - 100    -            0.4444   0.0016   0.6960   0.7039   0.0000   0.0000   |            0.3766   0.7002   0.6897   0.0000   0.0000   - 0.5676  \u001b[0m\n",
      "Training 88     - 100    -            0.4399   0.0016   1.0000   1.0000   0.8291   0.8323   |            0.3727   1.0000   1.0000   0.8440   0.8457   - 20.5547 \n",
      "\u001b[1;4mValidati 88     - 100    -            0.4411   0.0016   0.7031   0.7061   0.0000   0.0000   |            0.3741   0.7069   0.7036   0.0000   0.0000   - 0.5775  \u001b[0m\n",
      "Training 89     - 100    -            0.4366   0.0016   1.0000   0.9993   0.8422   0.8445   |            0.3703   1.0000   1.0000   0.8480   0.8502   - 20.5938 \n",
      "\u001b[1;4mValidati 89     - 100    -            0.4377   0.0016   0.7234   0.7254   0.0000   0.0000   |            0.3717   0.7047   0.7055   0.0000   0.0000   - 0.5847  \u001b[0m\n",
      "Training 90     - 100    -            0.4333   0.0016   1.0000   1.0000   0.8444   0.8474   |            0.3679   1.0000   1.0000   0.8451   0.8476   - 20.4154 \n",
      "\u001b[1;4mValidati 90     - 100    -            0.4346   0.0016   0.7092   0.7115   0.0000   0.0000   |            0.3692   0.6960   0.6972   0.0000   0.0000   - 0.5643  \u001b[0m\n",
      "Training 91     - 100    -            0.4304   0.0015   0.9987   0.9987   0.8437   0.8447   |            0.3655   1.0000   1.0000   0.8483   0.8505   - 20.6052 \n",
      "\u001b[1;4mValidati 91     - 100    -            0.4314   0.0015   0.7266   0.7295   0.0000   0.0000   |            0.3666   0.7310   0.7343   0.0000   0.0000   - 0.5846  \u001b[0m\n",
      "Training 92     - 100    -            0.4272   0.0015   1.0000   1.0000   0.8359   0.8392   |            0.3630   1.0000   1.0000   0.8483   0.8500   - 20.4468 \n",
      "\u001b[1;4mValidati 92     - 100    -            0.4283   0.0015   0.7036   0.7074   0.0000   0.0000   |            0.3641   0.7279   0.7187   0.0000   0.0000   - 0.6065  \u001b[0m\n",
      "Training 93     - 100    -            0.4241   0.0015   1.0000   1.0000   0.8403   0.8422   |            0.3606   1.0000   1.0000   0.8470   0.8487   - 20.7459 \n",
      "\u001b[1;4mValidati 93     - 100    -            0.4252   0.0015   0.6946   0.6982   0.0000   0.0000   |            0.3616   0.7344   0.7363   0.0000   0.0000   - 0.5786  \u001b[0m\n",
      "Training 94     - 100    -            0.4211   0.0015   1.0000   1.0000   0.8352   0.8366   |            0.3582   1.0000   1.0000   0.8463   0.8465   - 20.5458 \n",
      "\u001b[1;4mValidati 94     - 100    -            0.4223   0.0015   0.6779   0.6845   0.0000   0.0000   |            0.3594   0.7058   0.7007   0.0000   0.0000   - 0.5831  \u001b[0m\n",
      "Training 95     - 100    -            0.4183   0.0015   1.0000   1.0000   0.8451   0.8468   |            0.3560   1.0000   1.0000   0.8473   0.8490   - 20.5119 \n",
      "\u001b[1;4mValidati 95     - 100    -            0.4195   0.0015   0.7000   0.7026   0.0000   0.0000   |            0.3571   0.6991   0.7046   0.0000   0.0000   - 0.5661  \u001b[0m\n",
      "Training 96     - 100    -            0.4156   0.0015   0.9962   0.9962   0.8296   0.8316   |            0.3538   0.9987   0.9987   0.8453   0.8479   - 20.6145 \n",
      "\u001b[1;4mValidati 96     - 100    -            0.4174   0.0015   0.6143   0.6149   0.0000   0.0000   |            0.3549   0.7201   0.7239   0.0000   0.0000   - 0.6018  \u001b[0m\n",
      "Training 97     - 100    -            0.4144   0.0015   0.9710   0.9736   0.7875   0.7903   |            0.3516   1.0000   1.0000   0.8447   0.8482   - 20.3877 \n",
      "\u001b[1;4mValidati 97     - 100    -            0.4162   0.0015   0.5924   0.5951   0.0000   0.0000   |            0.3528   0.7147   0.7105   0.0000   0.0000   - 0.5803  \u001b[0m\n",
      "Training 98     - 100    -            0.4130   0.0015   0.9823   0.9799   0.7960   0.7976   |            0.3496   0.9987   0.9993   0.8470   0.8491   - 20.5080 \n",
      "\u001b[1;4mValidati 98     - 100    -            0.4144   0.0015   0.6567   0.6576   0.0000   0.0000   |            0.3508   0.7058   0.7114   0.0000   0.0000   - 0.5707  \u001b[0m\n",
      "Training 99     - 100    -            0.4110   0.0015   0.9874   0.9874   0.8054   0.8074   |            0.3476   1.0000   1.0000   0.8478   0.8490   - 20.6555 \n",
      "\u001b[1;4mValidati 99     - 100    -            0.4125   0.0015   0.6199   0.6187   0.0000   0.0000   |            0.3486   0.6868   0.6866   0.0000   0.0000   - 0.5778  \u001b[0m\n",
      "Training 100    - 100    -            0.4091   0.0015   0.9924   0.9924   0.8110   0.8133   |            0.3455   1.0000   1.0000   0.8443   0.8465   - 20.5713 \n",
      "\u001b[1;4mValidati 100    - 100    -            0.4108   0.0015   0.5743   0.5751   0.0000   0.0000   |            0.3467   0.6813   0.6849   0.0000   0.0000   - 0.5842  \u001b[0m\n",
      "Training 101    - 100    -            0.4075   0.0015   0.9899   0.9905   0.8097   0.8117   |            0.3436   1.0000   1.0000   0.8451   0.8479   - 20.4408 \n",
      "\u001b[1;4mValidati 101    - 100    -            0.4088   0.0015   0.6531   0.6549   0.0000   0.0000   |            0.3446   0.7054   0.7062   0.0000   0.0000   - 0.5800  \u001b[0m\n",
      "Training 102    - 100    -            0.4055   0.0015   0.9886   0.9890   0.8186   0.8185   |            0.3416   1.0000   1.0000   0.8463   0.8474   - 20.5169 \n",
      "\u001b[1;4mValidati 102    - 100    -            0.4072   0.0015   0.5757   0.5763   0.0000   0.0000   |            0.3428   0.6866   0.6742   0.0000   0.0000   - 0.5797  \u001b[0m\n",
      "Training 103    - 100    -            0.4037   0.0015   0.9937   0.9953   0.8219   0.8232   |            0.3398   1.0000   1.0000   0.8427   0.8446   - 20.4911 \n",
      "\u001b[1;4mValidati 103    - 100    -            0.4050   0.0015   0.6344   0.6454   0.0000   0.0000   |            0.3410   0.6536   0.6540   0.0000   0.0000   - 0.5666  \u001b[0m\n",
      "Training 104    - 100    -            0.4016   0.0015   0.9962   0.9962   0.8184   0.8203   |            0.3381   1.0000   1.0000   0.8417   0.8440   - 20.4885 \n",
      "\u001b[1;4mValidati 104    - 100    -            0.4030   0.0015   0.6598   0.6618   0.0000   0.0000   |            0.3391   0.6942   0.6935   0.0000   0.0000   - 0.5927  \u001b[0m\n",
      "Training 105    - 100    -            0.3998   0.0015   0.9937   0.9930   0.8194   0.8203   |            0.3362   1.0000   1.0000   0.8410   0.8438   - 20.3784 \n",
      "\u001b[1;4mValidati 105    - 100    -            0.4012   0.0015   0.6587   0.6597   0.0000   0.0000   |            0.3374   0.6721   0.6754   0.0000   0.0000   - 0.5710  \u001b[0m\n",
      "Training 106    - 100    -            0.3979   0.0015   0.9962   0.9962   0.8215   0.8236   |            0.3345   1.0000   1.0000   0.8416   0.8433   - 20.5425 \n",
      "\u001b[1;4mValidati 106    - 100    -            0.3992   0.0015   0.6489   0.6497   0.0000   0.0000   |            0.3356   0.6679   0.6710   0.0000   0.0000   - 0.5774  \u001b[0m\n",
      "Training 107    - 100    -            0.3959   0.0015   0.9987   0.9987   0.8295   0.8311   |            0.3328   0.9987   0.9993   0.8387   0.8411   - 20.5427 \n",
      "\u001b[1;4mValidati 107    - 100    -            0.3974   0.0015   0.6520   0.6559   0.0000   0.0000   |            0.3340   0.6688   0.6724   0.0000   0.0000   - 0.5637  \u001b[0m\n",
      "Training 108    - 100    -            0.3941   0.0015   0.9987   0.9993   0.8321   0.8337   |            0.3312   1.0000   1.0000   0.8404   0.8433   - 20.5395 \n",
      "\u001b[1;4mValidati 108    - 100    -            0.3955   0.0015   0.6464   0.6529   0.0000   0.0000   |            0.3324   0.6612   0.6597   0.0000   0.0000   - 0.5813  \u001b[0m\n",
      "Training 109    - 100    -            0.3923   0.0015   0.9975   0.9985   0.8309   0.8340   |            0.3297   0.9987   0.9993   0.8417   0.8445   - 20.4820 \n",
      "\u001b[1;4mValidati 109    - 100    -            0.3937   0.0015   0.6375   0.6460   0.0000   0.0000   |            0.3309   0.6754   0.6779   0.0000   0.0000   - 0.5720  \u001b[0m\n",
      "Training 110    - 100    -            0.3905   0.0015   1.0000   1.0000   0.8338   0.8372   |            0.3281   1.0000   1.0000   0.8391   0.8424   - 20.4820 \n",
      "\u001b[1;4mValidati 110    - 100    -            0.3918   0.0015   0.6632   0.6646   0.0000   0.0000   |            0.3294   0.6688   0.6707   0.0000   0.0000   - 0.5783  \u001b[0m\n",
      "Training 111    - 100    -            0.3886   0.0015   1.0000   1.0000   0.8390   0.8413   |            0.3267   1.0000   1.0000   0.8409   0.8431   - 20.5096 \n",
      "\u001b[1;4mValidati 111    - 100    -            0.3898   0.0015   0.6897   0.6899   0.0000   0.0000   |            0.3279   0.6897   0.6920   0.0000   0.0000   - 0.5964  \u001b[0m\n",
      "Training 112    - 100    -            0.3866   0.0015   0.9987   0.9987   0.8334   0.8353   |            0.3252   0.9987   0.9987   0.8372   0.8397   - 20.4573 \n",
      "\u001b[1;4mValidati 112    - 100    -            0.3879   0.0015   0.6674   0.6666   0.0000   0.0000   |            0.3264   0.6931   0.6948   0.0000   0.0000   - 0.5697  \u001b[0m\n",
      "Training 113    - 100    -            0.3848   0.0015   1.0000   1.0000   0.8332   0.8353   |            0.3238   1.0000   1.0000   0.8410   0.8438   - 20.5481 \n",
      "\u001b[1;4mValidati 113    - 100    -            0.3861   0.0015   0.6467   0.6558   0.0000   0.0000   |            0.3250   0.6547   0.6607   0.0000   0.0000   - 0.5790  \u001b[0m\n",
      "Training 114    - 100    -            0.3830   0.0015   0.9987   0.9987   0.8314   0.8337   |            0.3225   1.0000   1.0000   0.8417   0.8438   - 20.4762 \n",
      "\u001b[1;4mValidati 114    - 100    -            0.3842   0.0015   0.6201   0.6241   0.0000   0.0000   |            0.3236   0.6502   0.6581   0.0000   0.0000   - 0.5699  \u001b[0m\n",
      "Training 115    - 100    -            0.3812   0.0014   0.9987   0.9987   0.8395   0.8422   |            0.3211   1.0000   1.0000   0.8448   0.8470   - 20.4843 \n",
      "\u001b[1;4mValidati 115    - 100    -            0.3824   0.0014   0.6402   0.6423   0.0000   0.0000   |            0.3223   0.6645   0.6632   0.0000   0.0000   - 0.5803  \u001b[0m\n",
      "Training 116    - 100    -            0.3796   0.0014   0.9962   0.9962   0.8313   0.8344   |            0.3198   1.0000   1.0000   0.8401   0.8441   - 20.3415 \n",
      "\u001b[1;4mValidati 116    - 100    -            0.3809   0.0014   0.6377   0.6378   0.0000   0.0000   |            0.3209   0.6623   0.6689   0.0000   0.0000   - 0.5655  \u001b[0m\n",
      "Training 117    - 100    -            0.3780   0.0014   1.0000   1.0000   0.8324   0.8336   |            0.3185   1.0000   1.0000   0.8393   0.8420   - 20.8903 \n",
      "\u001b[1;4mValidati 117    - 100    -            0.3795   0.0014   0.6556   0.6592   0.0000   0.0000   |            0.3197   0.6589   0.6638   0.0000   0.0000   - 0.5822  \u001b[0m\n",
      "Training 118    - 100    -            0.3766   0.0014   0.9962   0.9962   0.8323   0.8340   |            0.3173   1.0000   1.0000   0.8451   0.8476   - 20.6256 \n",
      "\u001b[1;4mValidati 118    - 100    -            0.3780   0.0014   0.6199   0.6232   0.0000   0.0000   |            0.3185   0.6600   0.6603   0.0000   0.0000   - 0.5948  \u001b[0m\n",
      "Training 119    - 100    -            0.3752   0.0014   0.9975   0.9975   0.8251   0.8274   |            0.3161   1.0000   1.0000   0.8437   0.8455   - 20.7449 \n",
      "\u001b[1;4mValidati 119    - 100    -            0.3763   0.0014   0.6824   0.6922   0.0000   0.0000   |            0.3173   0.6545   0.6466   0.0000   0.0000   - 0.5747  \u001b[0m\n",
      "Training 120    - 100    -            0.3736   0.0014   0.9949   0.9955   0.8244   0.8276   |            0.3149   1.0000   0.9993   0.8407   0.8430   - 20.5832 \n",
      "\u001b[1;4mValidati 120    - 100    -            0.3749   0.0014   0.6478   0.6466   0.0000   0.0000   |            0.3160   0.6645   0.6729   0.0000   0.0000   - 0.5872  \u001b[0m\n",
      "Training 121    - 100    -            0.3724   0.0014   0.9937   0.9943   0.8211   0.8242   |            0.3137   1.0000   1.0000   0.8406   0.8438   - 20.7387 \n",
      "\u001b[1;4mValidati 121    - 100    -            0.3737   0.0014   0.6257   0.6278   0.0000   0.0000   |            0.3148   0.6513   0.6531   0.0000   0.0000   - 0.5827  \u001b[0m\n",
      "Training 122    - 100    -            0.3713   0.0014   0.9912   0.9889   0.8152   0.8183   |            0.3125   0.9987   0.9987   0.8450   0.8468   - 20.5518 \n",
      "\u001b[1;4mValidati 122    - 100    -            0.3729   0.0014   0.5574   0.5602   0.0000   0.0000   |            0.3137   0.6600   0.6519   0.0000   0.0000   - 0.5774  \u001b[0m\n",
      "Training 123    - 100    -            0.3702   0.0014   0.9975   0.9975   0.8215   0.8237   |            0.3114   1.0000   1.0000   0.8430   0.8453   - 20.4594 \n",
      "\u001b[1;4mValidati 123    - 100    -            0.3716   0.0014   0.6355   0.6384   0.0000   0.0000   |            0.3126   0.6645   0.6647   0.0000   0.0000   - 0.5726  \u001b[0m\n",
      "Training 124    - 100    -            0.3689   0.0014   1.0000   1.0000   0.8250   0.8275   |            0.3103   1.0000   1.0000   0.8410   0.8425   - 20.6138 \n",
      "\u001b[1;4mValidati 124    - 100    -            0.3702   0.0014   0.6266   0.6323   0.0000   0.0000   |            0.3115   0.6600   0.6621   0.0000   0.0000   - 0.5913  \u001b[0m\n",
      "Training 125    - 100    -            0.3676   0.0014   0.9962   0.9966   0.8269   0.8289   |            0.3093   0.9975   0.9975   0.8404   0.8426   - 20.6447 \n",
      "\u001b[1;4mValidati 125    - 100    -            0.3689   0.0014   0.6496   0.6486   0.0000   0.0000   |            0.3104   0.6797   0.6807   0.0000   0.0000   - 0.5758  \u001b[0m\n",
      "Training 126    - 100    -            0.3663   0.0014   1.0000   1.0000   0.8285   0.8311   |            0.3082   0.9987   0.9987   0.8378   0.8396   - 20.7302 \n",
      "\u001b[1;4mValidati 126    - 100    -            0.3675   0.0014   0.6433   0.6476   0.0000   0.0000   |            0.3094   0.6667   0.6653   0.0000   0.0000   - 0.5860  \u001b[0m\n",
      "Training 127    - 100    -            0.3649   0.0014   1.0000   1.0000   0.8346   0.8368   |            0.3072   1.0000   1.0000   0.8394   0.8408   - 20.6697 \n",
      "\u001b[1;4mValidati 127    - 100    -            0.3661   0.0014   0.6368   0.6442   0.0000   0.0000   |            0.3084   0.6656   0.6676   0.0000   0.0000   - 0.6230  \u001b[0m\n",
      "Training 128    - 100    -            0.3637   0.0014   0.9912   0.9921   0.8192   0.8207   |            0.3062   0.9975   0.9975   0.8381   0.8404   - 20.6703 \n",
      "\u001b[1;4mValidati 128    - 100    -            0.3652   0.0014   0.6074   0.6053   0.0000   0.0000   |            0.3074   0.6533   0.6567   0.0000   0.0000   - 0.5723  \u001b[0m\n",
      "Training 129    - 100    -            0.3627   0.0014   1.0000   0.9993   0.8208   0.8233   |            0.3052   1.0000   1.0000   0.8398   0.8418   - 20.7133 \n",
      "\u001b[1;4mValidati 129    - 100    -            0.3641   0.0014   0.6121   0.6136   0.0000   0.0000   |            0.3064   0.6754   0.6692   0.0000   0.0000   - 0.5950  \u001b[0m\n",
      "Training 130    - 100    -            0.3616   0.0014   0.9987   0.9987   0.8192   0.8217   |            0.3042   0.9987   0.9987   0.8389   0.8415   - 20.6773 \n",
      "\u001b[1;4mValidati 130    - 100    -            0.3627   0.0014   0.6366   0.6362   0.0000   0.0000   |            0.3054   0.6545   0.6592   0.0000   0.0000   - 0.5715  \u001b[0m\n",
      "Training 131    - 100    -            0.3602   0.0014   1.0000   1.0000   0.8293   0.8309   |            0.3033   1.0000   1.0000   0.8377   0.8389   - 20.7324 \n",
      "\u001b[1;4mValidati 131    - 100    -            0.3616   0.0014   0.6225   0.6247   0.0000   0.0000   |            0.3046   0.6270   0.6315   0.0000   0.0000   - 0.5872  \u001b[0m\n",
      "Training 132    - 100    -            0.3591   0.0014   1.0000   1.0000   0.8305   0.8313   |            0.3025   1.0000   1.0000   0.8340   0.8363   - 20.7812 \n",
      "\u001b[1;4mValidati 132    - 100    -            0.3603   0.0014   0.6487   0.6436   0.0000   0.0000   |            0.3036   0.6567   0.6585   0.0000   0.0000   - 0.5827  \u001b[0m\n",
      "Training 133    - 100    -            0.3579   0.0014   0.9987   0.9987   0.8289   0.8302   |            0.3016   1.0000   0.9993   0.8342   0.8356   - 20.7379 \n",
      "\u001b[1;4mValidati 133    - 100    -            0.3590   0.0014   0.6475   0.6515   0.0000   0.0000   |            0.3026   0.6699   0.6747   0.0000   0.0000   - 0.5989  \u001b[0m\n",
      "Training 134    - 100    -            0.3566   0.0014   0.9975   0.9975   0.8293   0.8300   |            0.3006   1.0000   1.0000   0.8352   0.8372   - 20.7449 \n",
      "\u001b[1;4mValidati 134    - 100    -            0.3580   0.0014   0.6112   0.6101   0.0000   0.0000   |            0.3017   0.6623   0.6658   0.0000   0.0000   - 0.5890  \u001b[0m\n",
      "Training 135    - 100    -            0.3557   0.0014   0.9949   0.9955   0.8218   0.8241   |            0.2997   0.9987   0.9987   0.8344   0.8362   - 20.6505 \n",
      "\u001b[1;4mValidati 135    - 100    -            0.3569   0.0014   0.6357   0.6382   0.0000   0.0000   |            0.3009   0.6533   0.6554   0.0000   0.0000   - 0.5722  \u001b[0m\n",
      "Training 136    - 100    -            0.3545   0.0014   0.9987   0.9987   0.8251   0.8278   |            0.2989   0.9987   0.9987   0.8370   0.8384   - 20.7941 \n",
      "\u001b[1;4mValidati 136    - 100    -            0.3556   0.0014   0.6600   0.6653   0.0000   0.0000   |            0.3000   0.6567   0.6553   0.0000   0.0000   - 0.6128  \u001b[0m\n",
      "Training 137    - 100    -            0.3533   0.0014   0.9975   0.9974   0.8330   0.8350   |            0.2981   1.0000   0.9993   0.8356   0.8377   - 20.7034 \n",
      "\u001b[1;4mValidati 137    - 100    -            0.3543   0.0014   0.6589   0.6612   0.0000   0.0000   |            0.2992   0.6656   0.6683   0.0000   0.0000   - 0.5862  \u001b[0m\n",
      "Training 138    - 100    -            0.3520   0.0013   1.0000   1.0000   0.8323   0.8342   |            0.2973   1.0000   1.0000   0.8373   0.8395   - 20.7208 \n",
      "\u001b[1;4mValidati 138    - 100    -            0.3529   0.0013   0.6589   0.6671   0.0000   0.0000   |            0.2983   0.6877   0.6868   0.0000   0.0000   - 0.5855  \u001b[0m\n",
      "Training 139    - 100    -            0.3506   0.0013   1.0000   1.0000   0.8370   0.8382   |            0.2964   1.0000   1.0000   0.8383   0.8410   - 20.8341 \n",
      "\u001b[1;4mValidati 139    - 100    -            0.3517   0.0013   0.6614   0.6642   0.0000   0.0000   |            0.2975   0.6513   0.6606   0.0000   0.0000   - 0.5871  \u001b[0m\n",
      "Training 140    - 100    -            0.3494   0.0013   1.0000   1.0000   0.8402   0.8410   |            0.2956   1.0000   1.0000   0.8404   0.8426   - 20.7757 \n",
      "\u001b[1;4mValidati 140    - 100    -            0.3503   0.0013   0.6875   0.6907   0.0000   0.0000   |            0.2966   0.7042   0.7021   0.0000   0.0000   - 0.5727  \u001b[0m\n",
      "Training 141    - 100    -            0.3481   0.0013   1.0000   0.9993   0.8386   0.8407   |            0.2947   1.0000   1.0000   0.8403   0.8414   - 20.7439 \n",
      "\u001b[1;4mValidati 141    - 100    -            0.3492   0.0013   0.6614   0.6599   0.0000   0.0000   |            0.2959   0.6625   0.6710   0.0000   0.0000   - 0.5918  \u001b[0m\n",
      "Training 142    - 100    -            0.3470   0.0013   0.9987   0.9993   0.8396   0.8419   |            0.2940   1.0000   1.0000   0.8421   0.8425   - 20.7555 \n",
      "\u001b[1;4mValidati 142    - 100    -            0.3480   0.0013   0.6542   0.6584   0.0000   0.0000   |            0.2950   0.6855   0.6904   0.0000   0.0000   - 0.5675  \u001b[0m\n",
      "Training 143    - 100    -            0.3459   0.0013   0.9987   0.9993   0.8401   0.8420   |            0.2931   1.0000   0.9993   0.8399   0.8424   - 20.7510 \n",
      "\u001b[1;4mValidati 143    - 100    -            0.3468   0.0013   0.6621   0.6611   0.0000   0.0000   |            0.2941   0.6855   0.6908   0.0000   0.0000   - 0.5895  \u001b[0m\n",
      "Training 144    - 100    -            0.3446   0.0013   1.0000   1.0000   0.8389   0.8412   |            0.2922   1.0000   1.0000   0.8402   0.8415   - 20.7672 \n",
      "\u001b[1;4mValidati 144    - 100    -            0.3456   0.0013   0.6500   0.6533   0.0000   0.0000   |            0.2933   0.6667   0.6734   0.0000   0.0000   - 0.5722  \u001b[0m\n",
      "Training 145    - 100    -            0.3435   0.0013   0.9987   0.9987   0.8392   0.8414   |            0.2915   0.9987   0.9987   0.8409   0.8433   - 20.7600 \n",
      "\u001b[1;4mValidati 145    - 100    -            0.3446   0.0013   0.6377   0.6383   0.0000   0.0000   |            0.2925   0.6701   0.6689   0.0000   0.0000   - 0.6152  \u001b[0m\n",
      "Training 146    - 100    -            0.3425   0.0013   0.9975   0.9975   0.8327   0.8336   |            0.2907   1.0000   1.0000   0.8429   0.8444   - 20.6154 \n",
      "\u001b[1;4mValidati 146    - 100    -            0.3436   0.0013   0.6507   0.6562   0.0000   0.0000   |            0.2916   0.6931   0.6918   0.0000   0.0000   - 0.5932  \u001b[0m\n",
      "Training 147    - 100    -            0.3415   0.0013   1.0000   1.0000   0.8329   0.8344   |            0.2898   1.0000   1.0000   0.8401   0.8428   - 20.7533 \n",
      "\u001b[1;4mValidati 147    - 100    -            0.3426   0.0013   0.6531   0.6514   0.0000   0.0000   |            0.2908   0.6788   0.6717   0.0000   0.0000   - 0.5938  \u001b[0m\n",
      "Training 148    - 100    -            0.3405   0.0013   1.0000   1.0000   0.8373   0.8391   |            0.2891   1.0000   1.0000   0.8423   0.8424   - 20.7674 \n",
      "\u001b[1;4mValidati 148    - 100    -            0.3415   0.0013   0.6453   0.6491   0.0000   0.0000   |            0.2901   0.6688   0.6731   0.0000   0.0000   - 0.5943  \u001b[0m\n",
      "Training 149    - 100    -            0.3395   0.0013   0.9975   0.9975   0.8312   0.8330   |            0.2884   0.9975   0.9975   0.8406   0.8423   - 20.8472 \n",
      "\u001b[1;4mValidati 149    - 100    -            0.3406   0.0013   0.6422   0.6450   0.0000   0.0000   |            0.2894   0.6567   0.6576   0.0000   0.0000   - 0.5730  \u001b[0m\n",
      "Training 150    - 100    -            0.3386   0.0013   1.0000   1.0000   0.8374   0.8395   |            0.2876   1.0000   1.0000   0.8419   0.8433   - 20.8352 \n",
      "\u001b[1;4mValidati 150    - 100    -            0.3398   0.0013   0.6246   0.6270   0.0000   0.0000   |            0.2888   0.6435   0.6508   0.0000   0.0000   - 0.5872  \u001b[0m\n",
      "Training 151    - 100    -            0.3377   0.0013   1.0000   1.0000   0.8386   0.8402   |            0.2871   1.0000   1.0000   0.8410   0.8430   - 20.6757 \n",
      "\u001b[1;4mValidati 151    - 100    -            0.3387   0.0013   0.6587   0.6636   0.0000   0.0000   |            0.2881   0.6489   0.6529   0.0000   0.0000   - 0.5814  \u001b[0m\n",
      "Training 152    - 100    -            0.3367   0.0013   1.0000   1.0000   0.8383   0.8398   |            0.2863   1.0000   1.0000   0.8413   0.8425   - 20.7471 \n",
      "\u001b[1;4mValidati 152    - 100    -            0.3378   0.0013   0.6455   0.6508   0.0000   0.0000   |            0.2874   0.6413   0.6470   0.0000   0.0000   - 0.5854  \u001b[0m\n",
      "Training 153    - 100    -            0.3358   0.0013   1.0000   1.0000   0.8396   0.8410   |            0.2858   0.9987   0.9987   0.8390   0.8408   - 20.6782 \n",
      "\u001b[1;4mValidati 153    - 100    -            0.3367   0.0013   0.6576   0.6608   0.0000   0.0000   |            0.2867   0.6710   0.6698   0.0000   0.0000   - 0.5883  \u001b[0m\n",
      "Training 154    - 100    -            0.3347   0.0012   1.0000   1.0000   0.8390   0.8415   |            0.2850   1.0000   1.0000   0.8411   0.8432   - 20.7366 \n",
      "\u001b[1;4mValidati 154    - 100    -            0.3356   0.0012   0.6565   0.6633   0.0000   0.0000   |            0.2860   0.6533   0.6561   0.0000   0.0000   - 0.5795  \u001b[0m\n",
      "Training 155    - 100    -            0.3337   0.0012   1.0000   1.0000   0.8372   0.8394   |            0.2843   1.0000   1.0000   0.8389   0.8409   - 20.6861 \n",
      "\u001b[1;4mValidati 155    - 100    -            0.3346   0.0012   0.6489   0.6504   0.0000   0.0000   |            0.2853   0.6500   0.6588   0.0000   0.0000   - 0.6194  \u001b[0m\n",
      "Training 156    - 100    -            0.3326   0.0012   1.0000   1.0000   0.8362   0.8369   |            0.2837   1.0000   1.0000   0.8386   0.8397   - 20.7119 \n",
      "\u001b[1;4mValidati 156    - 100    -            0.3336   0.0012   0.6500   0.6576   0.0000   0.0000   |            0.2846   0.6467   0.6489   0.0000   0.0000   - 0.5736  \u001b[0m\n",
      "Training 157    - 100    -            0.3317   0.0012   1.0000   0.9993   0.8370   0.8384   |            0.2830   1.0000   1.0000   0.8396   0.8405   - 20.6705 \n",
      "\u001b[1;4mValidati 157    - 100    -            0.3326   0.0012   0.6402   0.6433   0.0000   0.0000   |            0.2839   0.6435   0.6516   0.0000   0.0000   - 0.6017  \u001b[0m\n",
      "Training 158    - 100    -            0.3307   0.0012   1.0000   1.0000   0.8383   0.8410   |            0.2823   1.0000   1.0000   0.8397   0.8409   - 20.8695 \n",
      "\u001b[1;4mValidati 158    - 100    -            0.3317   0.0012   0.6467   0.6515   0.0000   0.0000   |            0.2833   0.6567   0.6520   0.0000   0.0000   - 0.5760  \u001b[0m\n",
      "Training 159    - 100    -            0.3298   0.0012   1.0000   1.0000   0.8410   0.8426   |            0.2817   1.0000   1.0000   0.8403   0.8420   - 20.7968 \n",
      "\u001b[1;4mValidati 159    - 100    -            0.3307   0.0012   0.6545   0.6564   0.0000   0.0000   |            0.2827   0.6600   0.6636   0.0000   0.0000   - 0.6061  \u001b[0m\n",
      "Training 160    - 100    -            0.3289   0.0012   1.0000   1.0000   0.8385   0.8407   |            0.2811   1.0000   1.0000   0.8399   0.8425   - 20.6809 \n",
      "\u001b[1;4mValidati 160    - 100    -            0.3298   0.0012   0.6368   0.6426   0.0000   0.0000   |            0.2822   0.6304   0.6360   0.0000   0.0000   - 0.5775  \u001b[0m\n",
      "Training 161    - 100    -            0.3279   0.0012   1.0000   1.0000   0.8401   0.8422   |            0.2806   1.0000   1.0000   0.8401   0.8424   - 20.7492 \n",
      "\u001b[1;4mValidati 161    - 100    -            0.3288   0.0012   0.6567   0.6591   0.0000   0.0000   |            0.2816   0.6522   0.6577   0.0000   0.0000   - 0.5901  \u001b[0m\n",
      "Training 162    - 100    -            0.3270   0.0012   1.0000   1.0000   0.8398   0.8415   |            0.2800   1.0000   1.0000   0.8405   0.8421   - 20.6937 \n",
      "\u001b[1;4mValidati 162    - 100    -            0.3279   0.0012   0.6556   0.6565   0.0000   0.0000   |            0.2809   0.6598   0.6566   0.0000   0.0000   - 0.5905  \u001b[0m\n",
      "Training 163    - 100    -            0.3261   0.0012   1.0000   1.0000   0.8416   0.8423   |            0.2793   1.0000   1.0000   0.8416   0.8432   - 20.7407 \n",
      "\u001b[1;4mValidati 163    - 100    -            0.3269   0.0012   0.6732   0.6766   0.0000   0.0000   |            0.2802   0.6953   0.6929   0.0000   0.0000   - 0.5748  \u001b[0m\n",
      "Training 164    - 100    -            0.3251   0.0012   1.0000   1.0000   0.8409   0.8434   |            0.2786   1.0000   1.0000   0.8404   0.8431   - 20.7707 \n",
      "\u001b[1;4mValidati 164    - 100    -            0.3260   0.0012   0.6281   0.6336   0.0000   0.0000   |            0.2796   0.6359   0.6408   0.0000   0.0000   - 0.5894  \u001b[0m\n",
      "Training 165    - 100    -            0.3243   0.0012   1.0000   1.0000   0.8396   0.8421   |            0.2781   1.0000   1.0000   0.8422   0.8443   - 20.7942 \n",
      "\u001b[1;4mValidati 165    - 100    -            0.3251   0.0012   0.6424   0.6445   0.0000   0.0000   |            0.2790   0.6600   0.6601   0.0000   0.0000   - 0.5776  \u001b[0m\n",
      "Training 166    - 100    -            0.3234   0.0012   1.0000   1.0000   0.8413   0.8434   |            0.2775   1.0000   1.0000   0.8401   0.8416   - 20.7322 \n",
      "\u001b[1;4mValidati 166    - 100    -            0.3241   0.0012   0.6699   0.6689   0.0000   0.0000   |            0.2783   0.6699   0.6710   0.0000   0.0000   - 0.6108  \u001b[0m\n",
      "Training 167    - 100    -            0.3224   0.0012   1.0000   1.0000   0.8408   0.8415   |            0.2768   1.0000   1.0000   0.8404   0.8429   - 20.6312 \n",
      "\u001b[1;4mValidati 167    - 100    -            0.3232   0.0012   0.6730   0.6757   0.0000   0.0000   |            0.2776   0.6830   0.6862   0.0000   0.0000   - 0.5726  \u001b[0m\n",
      "Training 168    - 100    -            0.3215   0.0012   0.9987   0.9979   0.8399   0.8414   |            0.2762   0.9987   0.9987   0.8389   0.8414   - 20.8372 \n",
      "\u001b[1;4mValidati 168    - 100    -            0.3223   0.0012   0.6400   0.6467   0.0000   0.0000   |            0.2771   0.6536   0.6569   0.0000   0.0000   - 0.6135  \u001b[0m\n",
      "Training 169    - 100    -            0.3206   0.0011   1.0000   1.0000   0.8404   0.8420   |            0.2756   1.0000   1.0000   0.8421   0.8436   - 20.6329 \n",
      "\u001b[1;4mValidati 169    - 100    -            0.3216   0.0011   0.6500   0.6542   0.0000   0.0000   |            0.2765   0.6545   0.6588   0.0000   0.0000   - 0.5887  \u001b[0m\n",
      "Training 170    - 100    -            0.3199   0.0011   1.0000   1.0000   0.8422   0.8441   |            0.2750   1.0000   1.0000   0.8408   0.8425   - 20.8197 \n",
      "\u001b[1;4mValidati 170    - 100    -            0.3207   0.0011   0.6522   0.6429   0.0000   0.0000   |            0.2759   0.6545   0.6576   0.0000   0.0000   - 0.5884  \u001b[0m\n",
      "Training 171    - 100    -            0.3190   0.0011   1.0000   1.0000   0.8445   0.8460   |            0.2744   1.0000   1.0000   0.8448   0.8460   - 20.7329 \n",
      "\u001b[1;4mValidati 171    - 100    -            0.3198   0.0011   0.6379   0.6407   0.0000   0.0000   |            0.2753   0.6688   0.6697   0.0000   0.0000   - 0.5981  \u001b[0m\n",
      "Training 172    - 100    -            0.3181   0.0011   1.0000   1.0000   0.8432   0.8452   |            0.2738   1.0000   0.9993   0.8428   0.8449   - 20.7325 \n",
      "\u001b[1;4mValidati 172    - 100    -            0.3191   0.0011   0.6368   0.6391   0.0000   0.0000   |            0.2747   0.6438   0.6432   0.0000   0.0000   - 0.5771  \u001b[0m\n",
      "Training 173    - 100    -            0.3174   0.0011   1.0000   1.0000   0.8432   0.8447   |            0.2733   1.0000   1.0000   0.8428   0.8451   - 20.8264 \n",
      "\u001b[1;4mValidati 173    - 100    -            0.3182   0.0011   0.6609   0.6594   0.0000   0.0000   |            0.2741   0.6810   0.6808   0.0000   0.0000   - 0.5886  \u001b[0m\n",
      "Training 174    - 100    -            0.3166   0.0011   1.0000   1.0000   0.8393   0.8417   |            0.2727   1.0000   1.0000   0.8389   0.8417   - 20.7094 \n",
      "\u001b[1;4mValidati 174    - 100    -            0.3174   0.0011   0.6520   0.6588   0.0000   0.0000   |            0.2735   0.6578   0.6623   0.0000   0.0000   - 0.5846  \u001b[0m\n",
      "Training 175    - 100    -            0.3158   0.0011   1.0000   1.0000   0.8424   0.8435   |            0.2721   1.0000   1.0000   0.8416   0.8428   - 20.8083 \n",
      "\u001b[1;4mValidati 175    - 100    -            0.3166   0.0011   0.6621   0.6625   0.0000   0.0000   |            0.2729   0.6433   0.6496   0.0000   0.0000   - 0.5927  \u001b[0m\n",
      "Training 176    - 100    -            0.3150   0.0011   1.0000   1.0000   0.8417   0.8437   |            0.2715   1.0000   1.0000   0.8418   0.8433   - 20.7622 \n",
      "\u001b[1;4mValidati 176    - 100    -            0.3158   0.0011   0.6500   0.6502   0.0000   0.0000   |            0.2724   0.6567   0.6626   0.0000   0.0000   - 0.5945  \u001b[0m\n",
      "Training 177    - 100    -            0.3142   0.0011   1.0000   1.0000   0.8428   0.8462   |            0.2710   1.0000   1.0000   0.8443   0.8469   - 20.7532 \n",
      "\u001b[1;4mValidati 177    - 100    -            0.3149   0.0011   0.6688   0.6666   0.0000   0.0000   |            0.2718   0.6788   0.6785   0.0000   0.0000   - 0.6284  \u001b[0m\n",
      "Training 178    - 100    -            0.3133   0.0011   1.0000   1.0000   0.8403   0.8429   |            0.2704   1.0000   1.0000   0.8408   0.8428   - 20.7831 \n",
      "\u001b[1;4mValidati 178    - 100    -            0.3142   0.0011   0.6598   0.6598   0.0000   0.0000   |            0.2713   0.6743   0.6762   0.0000   0.0000   - 0.5910  \u001b[0m\n",
      "Training 179    - 100    -            0.3126   0.0011   1.0000   1.0000   0.8424   0.8437   |            0.2699   1.0000   1.0000   0.8416   0.8432   - 20.8576 \n",
      "\u001b[1;4mValidati 179    - 100    -            0.3134   0.0011   0.6752   0.6770   0.0000   0.0000   |            0.2707   0.6830   0.6826   0.0000   0.0000   - 0.5759  \u001b[0m\n",
      "Training 180    - 100    -            0.3118   0.0011   1.0000   1.0000   0.8413   0.8419   |            0.2693   1.0000   1.0000   0.8416   0.8421   - 20.8846 \n",
      "\u001b[1;4mValidati 180    - 100    -            0.3126   0.0011   0.6621   0.6672   0.0000   0.0000   |            0.2701   0.6732   0.6738   0.0000   0.0000   - 0.5906  \u001b[0m\n",
      "Training 181    - 100    -            0.3110   0.0011   1.0000   0.9993   0.8403   0.8419   |            0.2688   0.9987   0.9987   0.8417   0.8432   - 20.6689 \n",
      "\u001b[1;4mValidati 181    - 100    -            0.3119   0.0011   0.6391   0.6460   0.0000   0.0000   |            0.2696   0.6435   0.6540   0.0000   0.0000   - 0.5754  \u001b[0m\n",
      "Training 182    - 100    -            0.3104   0.0011   0.9987   0.9987   0.8384   0.8404   |            0.2683   0.9987   0.9987   0.8408   0.8433   - 20.8827 \n",
      "\u001b[1;4mValidati 182    - 100    -            0.3113   0.0011   0.6446   0.6451   0.0000   0.0000   |            0.2692   0.6304   0.6343   0.0000   0.0000   - 0.6268  \u001b[0m\n",
      "Training 183    - 100    -            0.3098   0.0011   1.0000   1.0000   0.8385   0.8402   |            0.2679   1.0000   1.0000   0.8403   0.8417   - 20.7363 \n",
      "\u001b[1;4mValidati 183    - 100    -            0.3106   0.0011   0.6589   0.6569   0.0000   0.0000   |            0.2687   0.6710   0.6682   0.0000   0.0000   - 0.5910  \u001b[0m\n",
      "Training 184    - 100    -            0.3090   0.0011   1.0000   1.0000   0.8405   0.8426   |            0.2673   1.0000   1.0000   0.8407   0.8430   - 20.8141 \n",
      "\u001b[1;4mValidati 184    - 100    -            0.3099   0.0011   0.6444   0.6539   0.0000   0.0000   |            0.2682   0.6699   0.6703   0.0000   0.0000   - 0.5741  \u001b[0m\n",
      "Training 185    - 100    -            0.3084   0.0011   1.0000   1.0000   0.8406   0.8421   |            0.2669   1.0000   1.0000   0.8407   0.8420   - 20.8301 \n",
      "\u001b[1;4mValidati 185    - 100    -            0.3091   0.0011   0.6732   0.6764   0.0000   0.0000   |            0.2677   0.6357   0.6355   0.0000   0.0000   - 0.5906  \u001b[0m\n",
      "Training 186    - 100    -            0.3076   0.0011   1.0000   1.0000   0.8376   0.8405   |            0.2664   1.0000   1.0000   0.8379   0.8389   - 20.6846 \n",
      "\u001b[1;4mValidati 186    - 100    -            0.3084   0.0011   0.6797   0.6826   0.0000   0.0000   |            0.2672   0.6589   0.6605   0.0000   0.0000   - 0.5871  \u001b[0m\n",
      "Training 187    - 100    -            0.3069   0.0010   1.0000   1.0000   0.8382   0.8408   |            0.2659   1.0000   1.0000   0.8384   0.8398   - 20.8158 \n",
      "\u001b[1;4mValidati 187    - 100    -            0.3077   0.0010   0.6478   0.6500   0.0000   0.0000   |            0.2666   0.6864   0.6888   0.0000   0.0000   - 0.6008  \u001b[0m\n",
      "Training 188    - 100    -            0.3062   0.0010   1.0000   1.0000   0.8399   0.8417   |            0.2653   1.0000   1.0000   0.8411   0.8427   - 20.7396 \n",
      "\u001b[1;4mValidati 188    - 100    -            0.3070   0.0010   0.6688   0.6690   0.0000   0.0000   |            0.2661   0.6612   0.6522   0.0000   0.0000   - 0.5832  \u001b[0m\n",
      "Training 189    - 100    -            0.3056   0.0010   1.0000   1.0000   0.8437   0.8455   |            0.2649   1.0000   1.0000   0.8444   0.8455   - 20.9981 \n",
      "\u001b[1;4mValidati 189    - 100    -            0.3063   0.0010   0.6741   0.6776   0.0000   0.0000   |            0.2656   0.6766   0.6859   0.0000   0.0000   - 0.5883  \u001b[0m\n",
      "Training 190    - 100    -            0.3049   0.0010   0.9987   0.9993   0.8406   0.8427   |            0.2644   0.9987   0.9993   0.8424   0.8443   - 20.7119 \n",
      "\u001b[1;4mValidati 190    - 100    -            0.3057   0.0010   0.6632   0.6627   0.0000   0.0000   |            0.2652   0.6743   0.6741   0.0000   0.0000   - 0.5883  \u001b[0m\n",
      "Training 191    - 100    -            0.3042   0.0010   1.0000   1.0000   0.8379   0.8403   |            0.2639   1.0000   1.0000   0.8388   0.8412   - 20.8173 \n",
      "\u001b[1;4mValidati 191    - 100    -            0.3050   0.0010   0.6743   0.6732   0.0000   0.0000   |            0.2647   0.6688   0.6753   0.0000   0.0000   - 0.5750  \u001b[0m\n",
      "Training 192    - 100    -            0.3036   0.0010   1.0000   1.0000   0.8366   0.8393   |            0.2635   1.0000   1.0000   0.8372   0.8403   - 20.7531 \n",
      "\u001b[1;4mValidati 192    - 100    -            0.3043   0.0010   0.6556   0.6555   0.0000   0.0000   |            0.2642   0.6721   0.6758   0.0000   0.0000   - 0.6335  \u001b[0m\n",
      "Training 193    - 100    -            0.3029   0.0010   1.0000   1.0000   0.8412   0.8427   |            0.2630   1.0000   1.0000   0.8406   0.8424   - 20.7335 \n",
      "\u001b[1;4mValidati 193    - 100    -            0.3037   0.0010   0.6301   0.6420   0.0000   0.0000   |            0.2638   0.6721   0.6713   0.0000   0.0000   - 0.5759  \u001b[0m\n",
      "Training 194    - 100    -            0.3023   0.0010   1.0000   1.0000   0.8392   0.8427   |            0.2625   1.0000   1.0000   0.8397   0.8429   - 20.7612 \n",
      "\u001b[1;4mValidati 194    - 100    -            0.3031   0.0010   0.6467   0.6461   0.0000   0.0000   |            0.2633   0.6710   0.6732   0.0000   0.0000   - 0.5903  \u001b[0m\n",
      "Training 195    - 100    -            0.3017   0.0010   1.0000   1.0000   0.8412   0.8426   |            0.2621   1.0000   1.0000   0.8413   0.8426   - 20.5727 \n",
      "\u001b[1;4mValidati 195    - 100    -            0.3024   0.0010   0.6688   0.6750   0.0000   0.0000   |            0.2628   0.6732   0.6724   0.0000   0.0000   - 0.5765  \u001b[0m\n",
      "Training 196    - 100    -            0.3011   0.0010   1.0000   1.0000   0.8388   0.8408   |            0.2616   1.0000   1.0000   0.8388   0.8411   - 20.7862 \n",
      "\u001b[1;4mValidati 196    - 100    -            0.3018   0.0010   0.6621   0.6648   0.0000   0.0000   |            0.2624   0.6821   0.6801   0.0000   0.0000   - 0.6403  \u001b[0m\n",
      "Training 197    - 100    -            0.3004   0.0010   1.0000   1.0000   0.8377   0.8399   |            0.2612   1.0000   1.0000   0.8378   0.8409   - 20.7779 \n",
      "\u001b[1;4mValidati 197    - 100    -            0.3013   0.0010   0.6458   0.6440   0.0000   0.0000   |            0.2620   0.6589   0.6580   0.0000   0.0000   - 0.5908  \u001b[0m\n",
      "Training 198    - 100    -            0.2999   0.0010   1.0000   1.0000   0.8414   0.8421   |            0.2608   1.0000   1.0000   0.8415   0.8431   - 20.7485 \n",
      "\u001b[1;4mValidati 198    - 100    -            0.3006   0.0010   0.6853   0.6848   0.0000   0.0000   |            0.2615   0.6897   0.6880   0.0000   0.0000   - 0.5806  \u001b[0m\n",
      "Training 199    - 100    -            0.2992   0.0010   1.0000   1.0000   0.8406   0.8425   |            0.2603   1.0000   1.0000   0.8412   0.8425   - 20.7159 \n",
      "\u001b[1;4mValidati 199    - 100    -            0.3000   0.0010   0.6413   0.6456   0.0000   0.0000   |            0.2612   0.6491   0.6476   0.0000   0.0000   - 0.6320  \u001b[0m\n",
      "Training 200    - 100    -            0.2987   0.0010   1.0000   1.0000   0.8425   0.8435   |            0.2600   1.0000   1.0000   0.8425   0.8436   - 20.7164 \n",
      "\u001b[1;4mValidati 200    - 100    -            0.2994   0.0010   0.6654   0.6671   0.0000   0.0000   |            0.2608   0.6612   0.6597   0.0000   0.0000   - 0.5771  \u001b[0m\r"
     ]
    }
   ],
   "source": [
    "print(header)\n",
    "\n",
    "start_epoch = checkpoint.epoch_counter\n",
    "end_epoch = args.nb_epoch\n",
    "\n",
    "for e in range(start_epoch, args.nb_epoch):\n",
    "    train(e)\n",
    "    val(e)\n",
    "    \n",
    "    tensorboard.flush()"
   ]
  },
  {
   "cell_type": "markdown",
   "metadata": {},
   "source": [
    "## Save the hyper parameters and the metrics"
   ]
  },
  {
   "cell_type": "code",
   "execution_count": 31,
   "metadata": {},
   "outputs": [],
   "source": [
    "hparams = {}\n",
    "for key, value in args.__dict__.items():\n",
    "    hparams[key] = str(value)\n",
    "\n",
    "final_metrics = {\n",
    "    \"max_acc_student\": maximum_tracker.max[\"student_acc\"],\n",
    "    \"max_f1_student\": maximum_tracker.max[\"student_f1\"],\n",
    "    \"max_acc_teacher\": maximum_tracker.max[\"teacher_acc\"],\n",
    "    \"max_f1_teacher\": maximum_tracker.max[\"teacher_f1\"],\n",
    "}\n",
    "\n",
    "tensorboard.add_hparams(hparams, final_metrics)\n",
    "\n",
    "tensorboard.flush()\n",
    "tensorboard.close()"
   ]
  },
  {
   "cell_type": "markdown",
   "metadata": {},
   "source": [
    "## display"
   ]
  },
  {
   "cell_type": "code",
   "execution_count": 32,
   "metadata": {},
   "outputs": [
    {
     "data": {
      "image/png": "[encoded data removed]",
      "text/plain": [
       "<Figure size 2160x1008 with 2 Axes>"
      ]
     },
     "metadata": {
      "needs_background": "light"
     },
     "output_type": "display_data"
    }
   ],
   "source": [
    "import matplotlib.pyplot as plt\n",
    "import numpy as np\n",
    "\n",
    "x = list(range(checkpoint.epoch_counter))\n",
    "sm = lambda y, w: np.convolve(y, np.ones(w)/w, mode='same')\n",
    "pp = lambda k: plt.plot(x, tensorboard.history[k], label=f\"{k} = {max(tensorboard.history[k])}\")\n",
    "spp = lambda k: plt.plot(x, sm(tensorboard.history[k], 5), label=f\"{k} = {max(tensorboard.history[k])}\")\n",
    "\n",
    "\n",
    "plt.figure(0, figsize=(30, 14))\n",
    "plt.subplot(2, 3, 1)\n",
    "pp(\"max/student_acc\")\n",
    "pp(\"max/teacher_acc\")\n",
    "plt.legend()\n",
    "\n",
    "plt.subplot(2, 3, 3)\n",
    "pp(\"hyperparameters/learning_rate\")\n",
    "plt.legend()\n",
    "\n",
    "plt.show()"
   ]
  },
  {
   "cell_type": "code",
   "execution_count": 30,
   "metadata": {},
   "outputs": [
    {
     "ename": "ModuleAttributeError",
     "evalue": "'MixUpBatchShuffle' object has no attribute 'lambda_history'",
     "output_type": "error",
     "traceback": [
      "\u001b[0;31m---------------------------------------------------------------------------\u001b[0m",
      "\u001b[0;31mModuleAttributeError\u001b[0m                      Traceback (most recent call last)",
      "\u001b[0;32m<ipython-input-30-27c4ea1a1ca9>\u001b[0m in \u001b[0;36m<module>\u001b[0;34m\u001b[0m\n\u001b[0;32m----> 1\u001b[0;31m \u001b[0mplt\u001b[0m\u001b[0;34m.\u001b[0m\u001b[0mhist\u001b[0m\u001b[0;34m(\u001b[0m\u001b[0mmixup_fn\u001b[0m\u001b[0;34m.\u001b[0m\u001b[0mlambda_history\u001b[0m\u001b[0;34m,\u001b[0m \u001b[0mbins\u001b[0m\u001b[0;34m=\u001b[0m\u001b[0;36m20\u001b[0m\u001b[0;34m)\u001b[0m\u001b[0;34m\u001b[0m\u001b[0;34m\u001b[0m\u001b[0m\n\u001b[0m\u001b[1;32m      2\u001b[0m \u001b[0mplt\u001b[0m\u001b[0;34m.\u001b[0m\u001b[0mshow\u001b[0m\u001b[0;34m(\u001b[0m\u001b[0;34m)\u001b[0m\u001b[0;34m\u001b[0m\u001b[0;34m\u001b[0m\u001b[0m\n",
      "\u001b[0;32m~/.miniconda3/envs/pytorch-dev/lib/python3.8/site-packages/torch/nn/modules/module.py\u001b[0m in \u001b[0;36m__getattr__\u001b[0;34m(self, name)\u001b[0m\n\u001b[1;32m    937\u001b[0m             \u001b[0;32mif\u001b[0m \u001b[0mname\u001b[0m \u001b[0;32min\u001b[0m \u001b[0mmodules\u001b[0m\u001b[0;34m:\u001b[0m\u001b[0;34m\u001b[0m\u001b[0;34m\u001b[0m\u001b[0m\n\u001b[1;32m    938\u001b[0m                 \u001b[0;32mreturn\u001b[0m \u001b[0mmodules\u001b[0m\u001b[0;34m[\u001b[0m\u001b[0mname\u001b[0m\u001b[0;34m]\u001b[0m\u001b[0;34m\u001b[0m\u001b[0;34m\u001b[0m\u001b[0m\n\u001b[0;32m--> 939\u001b[0;31m         raise ModuleAttributeError(\"'{}' object has no attribute '{}'\".format(\n\u001b[0m\u001b[1;32m    940\u001b[0m             type(self).__name__, name))\n\u001b[1;32m    941\u001b[0m \u001b[0;34m\u001b[0m\u001b[0m\n",
      "\u001b[0;31mModuleAttributeError\u001b[0m: 'MixUpBatchShuffle' object has no attribute 'lambda_history'"
     ]
    }
   ],
   "source": [
    "plt.hist(mixup_fn.lambda_history, bins=20)\n",
    "plt.show()"
   ]
  },
  {
   "cell_type": "code",
   "execution_count": null,
   "metadata": {},
   "outputs": [],
   "source": [
    "320000*2/1024"
   ]
  },
  {
   "cell_type": "code",
   "execution_count": null,
   "metadata": {},
   "outputs": [],
   "source": [
    "64*500*4/1024"
   ]
  },
  {
   "cell_type": "code",
   "execution_count": null,
   "metadata": {},
   "outputs": [],
   "source": [
    "625/125"
   ]
  },
  {
   "cell_type": "code",
   "execution_count": null,
   "metadata": {},
   "outputs": [],
   "source": []
  }
 ],
 "metadata": {
  "kernelspec": {
   "display_name": "pytorch-dev",
   "language": "python",
   "name": "pytorch-dev"
  },
  "language_info": {
   "codemirror_mode": {
    "name": "ipython",
    "version": 3
   },
   "file_extension": ".py",
   "mimetype": "text/x-python",
   "name": "python",
   "nbconvert_exporter": "python",
   "pygments_lexer": "ipython3",
   "version": "3.8.5"
  }
 },
 "nbformat": 4,
 "nbformat_minor": 4
}
