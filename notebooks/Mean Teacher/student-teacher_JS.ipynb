{
 "cells": [
  {
   "cell_type": "markdown",
   "metadata": {
    "jupyter": {
     "outputs_hidden": true
    }
   },
   "source": [
    "# import"
   ]
  },
  {
   "cell_type": "raw",
   "metadata": {},
   "source": [
    "https://arxiv.org/pdf/1703.01780.pdf"
   ]
  },
  {
   "cell_type": "code",
   "execution_count": 27,
   "metadata": {},
   "outputs": [
    {
     "output_type": "stream",
     "name": "stdout",
     "text": [
      "The autoreload extension is already loaded. To reload it, use:\n  %reload_ext autoreload\n"
     ]
    }
   ],
   "source": [
    "%load_ext autoreload\n",
    "%autoreload 2"
   ]
  },
  {
   "cell_type": "code",
   "execution_count": 28,
   "metadata": {},
   "outputs": [
    {
     "output_type": "execute_result",
     "data": {
      "text/plain": [
       "'/home/lcances/.miniconda3/envs/dct/bin/python'"
      ]
     },
     "metadata": {},
     "execution_count": 28
    }
   ],
   "source": [
    "import sys\n",
    "sys.executable"
   ]
  },
  {
   "cell_type": "code",
   "execution_count": 29,
   "metadata": {},
   "outputs": [],
   "source": [
    "import os\n",
    "os.environ[\"MKL_NUM_THREADS\"] = \"2\"\n",
    "os.environ[\"NUMEXPR_NU M_THREADS\"] = \"2\"\n",
    "os.environ[\"OMP_NUM_THREADS\"] = \"2\"\n",
    "import time\n",
    "import pprint\n",
    "\n",
    "import numpy\n",
    "import torch\n",
    "import torch.nn as nn\n",
    "import torch.utils.data as data\n",
    "import torch.nn.functional as F\n",
    "import torchvision.transforms as transforms\n",
    "from torch.cuda.amp import autocast\n",
    "from torch.optim.lr_scheduler import LambdaLR\n",
    "from torch.utils.tensorboard import SummaryWriter\n",
    "from torch.utils.data import DataLoader"
   ]
  },
  {
   "cell_type": "code",
   "execution_count": 30,
   "metadata": {
    "tags": []
   },
   "outputs": [],
   "source": [
    "from SSL.util.loaders import load_dataset, load_optimizer, load_callbacks, load_preprocesser\n",
    "from SSL.util.model_loader import load_model\n",
    "from SSL.util.checkpoint import CheckPoint, mSummaryWriter\n",
    "from SSL.util.utils import reset_seed, get_datetime, track_maximum, dotdict\n",
    "from SSL.ramps import Warmup, sigmoid_rampup\n",
    "from SSL.losses import JensenShanon\n",
    "\n",
    "from metric_utils.metrics import CategoricalAccuracy, FScore, ContinueAverage"
   ]
  },
  {
   "cell_type": "markdown",
   "metadata": {
    "pycharm": {
     "name": "#%% md\n"
    }
   },
   "source": [
    "# Arguments"
   ]
  },
  {
   "cell_type": "code",
   "execution_count": 31,
   "metadata": {},
   "outputs": [],
   "source": [
    "import argparse\n",
    "parser = argparse.ArgumentParser()\n",
    "parser.add_argument(\"--from_config\", default=\"\", type=str)\n",
    "parser.add_argument(\"-d\", \"--dataset_root\", default=\"../../datasets\", type=str)\n",
    "parser.add_argument(\"-D\", \"--dataset\", default=\"esc10\", type=str, help=\"available [ubs8k | cifar10]\")\n",
    "\n",
    "group_t = parser.add_argument_group(\"Commun parameters\")\n",
    "group_t.add_argument(\"-m\", \"--model\", default=\"wideresnet28_2\", type=str)\n",
    "group_t.add_argument(\"--supervised_ratio\", default=0.1, type=float)\n",
    "group_t.add_argument(\"--batch_size\", default=64, type=int)\n",
    "group_t.add_argument(\"--nb_epoch\", default=200, type=int)\n",
    "group_t.add_argument(\"--learning_rate\", default=0.003, type=float)\n",
    "group_t.add_argument(\"--resume\", action=\"store_true\", default=False)\n",
    "group_t.add_argument(\"--seed\", default=1234, type=int)\n",
    "\n",
    "group_m = parser.add_argument_group(\"Model parameters\")\n",
    "group_m.add_argument(\"--num_classes\", default=10, type=int)\n",
    "\n",
    "group_u = parser.add_argument_group(\"Datasets parameters\")\n",
    "group_u.add_argument(\"-t\", \"--train_folds\", nargs=\"+\", default=[1, 2, 3, 4], type=int)\n",
    "group_u.add_argument(\"-v\", \"--val_folds\", nargs=\"+\", default=[5], type=int)\n",
    "\n",
    "group_s = parser.add_argument_group(\"Student teacher parameters\")\n",
    "group_s.add_argument(\"--ema_alpha\", default=0.999, type=float)\n",
    "group_s.add_argument(\"--warmup_length\", default=50, type=int)\n",
    "group_s.add_argument(\"--lambda_cost_max\", default=1, type=float)\n",
    "\n",
    "group_l = parser.add_argument_group(\"Logs\")\n",
    "group_l.add_argument(\"--checkpoint_root\", default=\"../../model_save/\", type=str)\n",
    "group_l.add_argument(\"--tensorboard_root\", default=\"../../tensorboard/\", type=str)\n",
    "group_l.add_argument(\"--checkpoint_path\", default=\"mean-teacher\", type=str)\n",
    "group_l.add_argument(\"--tensorboard_path\", default=\"mean-teacher\", type=str)\n",
    "group_l.add_argument(\"--tensorboard_sufix\", default=\"\", type=str)\n",
    "\n",
    "args=parser.parse_args(\"\")\n",
    "\n",
    "tensorboard_path = os.path.join(args.tensorboard_root, args.dataset, args.tensorboard_path)\n",
    "checkpoint_path = os.path.join(args.checkpoint_root, args.dataset, args.checkpoint_path)"
   ]
  },
  {
   "cell_type": "code",
   "execution_count": 32,
   "metadata": {
    "tags": [
     "re_run"
    ]
   },
   "outputs": [
    {
     "output_type": "stream",
     "name": "stdout",
     "text": [
      "{'batch_size': 64,\n 'checkpoint_path': 'student-teacher',\n 'checkpoint_root': '../../model_save/',\n 'dataset': 'esc10',\n 'dataset_root': '../../datasets',\n 'ema_alpha': 0.999,\n 'from_config': '',\n 'lambda_cost_max': 1,\n 'learning_rate': 0.003,\n 'model': 'wideresnet28_2',\n 'nb_epoch': 200,\n 'num_classes': 10,\n 'resume': False,\n 'seed': 1234,\n 'supervised_ratio': 0.1,\n 'tensorboard_path': 'student-teacher',\n 'tensorboard_root': '../../tensorboard/',\n 'tensorboard_sufix': '',\n 'train_folds': [1, 2, 3, 4],\n 'val_folds': [5],\n 'warmup_length': 50}\n"
     ]
    }
   ],
   "source": [
    "pprint.pprint(vars(args))"
   ]
  },
  {
   "cell_type": "markdown",
   "metadata": {
    "pycharm": {
     "name": "#%% md\n"
    }
   },
   "source": [
    "# initialisation"
   ]
  },
  {
   "cell_type": "code",
   "execution_count": 33,
   "metadata": {
    "collapsed": false,
    "jupyter": {
     "outputs_hidden": false
    },
    "pycharm": {
     "name": "#%%\n"
    },
    "tags": [
     "re_run"
    ]
   },
   "outputs": [],
   "source": [
    "reset_seed(args.seed)"
   ]
  },
  {
   "cell_type": "markdown",
   "metadata": {
    "pycharm": {
     "name": "#%% md\n"
    }
   },
   "source": [
    "# Prepare the dataset"
   ]
  },
  {
   "cell_type": "code",
   "execution_count": 34,
   "metadata": {},
   "outputs": [
    {
     "output_type": "execute_result",
     "data": {
      "text/plain": [
       "Sequential(\n",
       "  (0): MelSpectrogram(\n",
       "    (spectrogram): Spectrogram()\n",
       "    (mel_scale): MelScale()\n",
       "  )\n",
       "  (1): AmplitudeToDB()\n",
       ")"
      ]
     },
     "metadata": {},
     "execution_count": 34
    }
   ],
   "source": [
    "train_transform, val_transform = load_preprocesser(args.dataset, \"mean-teacher\")\n",
    "train_transform"
   ]
  },
  {
   "cell_type": "code",
   "execution_count": 35,
   "metadata": {
    "collapsed": false,
    "jupyter": {
     "outputs_hidden": false
    },
    "pycharm": {
     "name": "#%%\n"
    },
    "tags": []
   },
   "outputs": [
    {
     "output_type": "stream",
     "name": "stdout",
     "text": [
      "Dataset already downloaded and verified.\n",
      "Dataset already downloaded and verified.\n",
      "s_batch_size:  6\n",
      "u_batch_size:  58\n"
     ]
    }
   ],
   "source": [
    "manager, train_loader, val_loader = load_dataset(\n",
    "    args.dataset,\n",
    "    \"mean-teacher\",\n",
    "    \n",
    "    dataset_root = args.dataset_root,\n",
    "    supervised_ratio = args.supervised_ratio,\n",
    "    batch_size = args.batch_size,\n",
    "    train_folds = args.train_folds,\n",
    "    val_folds = args.val_folds,\n",
    "\n",
    "    train_transform=train_transform,\n",
    "    val_transform=val_transform,\n",
    "    \n",
    "    num_workers=0,\n",
    "    pin_memory=True,\n",
    "\n",
    "    verbose = 2\n",
    ")"
   ]
  },
  {
   "cell_type": "code",
   "execution_count": 36,
   "metadata": {},
   "outputs": [
    {
     "output_type": "execute_result",
     "data": {
      "text/plain": [
       "(64, 431)"
      ]
     },
     "metadata": {},
     "execution_count": 36
    }
   ],
   "source": [
    "input_shape = tuple(train_loader._iterables[0].dataset[0][0].shape)\n",
    "input_shape"
   ]
  },
  {
   "cell_type": "markdown",
   "metadata": {},
   "source": [
    "# Prep model"
   ]
  },
  {
   "cell_type": "code",
   "execution_count": 37,
   "metadata": {
    "tags": []
   },
   "outputs": [],
   "source": [
    "torch.cuda.empty_cache()\n",
    "\n",
    "model_func = load_model(args.dataset, args.model)\n",
    "\n",
    "student = model_func(input_shape=input_shape, num_classes = args.num_classes)\n",
    "teacher = model_func(input_shape=input_shape, num_classes = args.num_classes)\n",
    "\n",
    "student = student.cuda()\n",
    "teacher = teacher.cuda()\n",
    "\n",
    "# We do not need gradient for the teacher model\n",
    "for p in teacher.parameters():\n",
    "    p.detach()"
   ]
  },
  {
   "cell_type": "code",
   "execution_count": 38,
   "metadata": {
    "scrolled": true,
    "tags": []
   },
   "outputs": [
    {
     "output_type": "stream",
     "name": "stdout",
     "text": [
      "----------------------------------------------------------------\n        Layer (type)               Output Shape         Param #\n================================================================\n            Conv2d-1          [-1, 32, 64, 431]             864\n       BatchNorm2d-2          [-1, 32, 64, 431]              64\n              ReLU-3          [-1, 32, 64, 431]               0\n         MaxPool2d-4          [-1, 32, 32, 216]               0\n            Conv2d-5          [-1, 32, 32, 216]           9,216\n       BatchNorm2d-6          [-1, 32, 32, 216]              64\n              ReLU-7          [-1, 32, 32, 216]               0\n            Conv2d-8          [-1, 32, 32, 216]           9,216\n       BatchNorm2d-9          [-1, 32, 32, 216]              64\n             ReLU-10          [-1, 32, 32, 216]               0\n       BasicBlock-11          [-1, 32, 32, 216]               0\n           Conv2d-12          [-1, 32, 32, 216]           9,216\n      BatchNorm2d-13          [-1, 32, 32, 216]              64\n             ReLU-14          [-1, 32, 32, 216]               0\n           Conv2d-15          [-1, 32, 32, 216]           9,216\n      BatchNorm2d-16          [-1, 32, 32, 216]              64\n             ReLU-17          [-1, 32, 32, 216]               0\n       BasicBlock-18          [-1, 32, 32, 216]               0\n           Conv2d-19          [-1, 32, 32, 216]           9,216\n      BatchNorm2d-20          [-1, 32, 32, 216]              64\n             ReLU-21          [-1, 32, 32, 216]               0\n           Conv2d-22          [-1, 32, 32, 216]           9,216\n      BatchNorm2d-23          [-1, 32, 32, 216]              64\n             ReLU-24          [-1, 32, 32, 216]               0\n       BasicBlock-25          [-1, 32, 32, 216]               0\n           Conv2d-26          [-1, 32, 32, 216]           9,216\n      BatchNorm2d-27          [-1, 32, 32, 216]              64\n             ReLU-28          [-1, 32, 32, 216]               0\n           Conv2d-29          [-1, 32, 32, 216]           9,216\n      BatchNorm2d-30          [-1, 32, 32, 216]              64\n             ReLU-31          [-1, 32, 32, 216]               0\n       BasicBlock-32          [-1, 32, 32, 216]               0\n           Conv2d-33          [-1, 64, 16, 108]          18,432\n      BatchNorm2d-34          [-1, 64, 16, 108]             128\n             ReLU-35          [-1, 64, 16, 108]               0\n           Conv2d-36          [-1, 64, 16, 108]          36,864\n      BatchNorm2d-37          [-1, 64, 16, 108]             128\n           Conv2d-38          [-1, 64, 16, 108]           2,048\n      BatchNorm2d-39          [-1, 64, 16, 108]             128\n             ReLU-40          [-1, 64, 16, 108]               0\n       BasicBlock-41          [-1, 64, 16, 108]               0\n           Conv2d-42          [-1, 64, 16, 108]          36,864\n      BatchNorm2d-43          [-1, 64, 16, 108]             128\n             ReLU-44          [-1, 64, 16, 108]               0\n           Conv2d-45          [-1, 64, 16, 108]          36,864\n      BatchNorm2d-46          [-1, 64, 16, 108]             128\n             ReLU-47          [-1, 64, 16, 108]               0\n       BasicBlock-48          [-1, 64, 16, 108]               0\n           Conv2d-49          [-1, 64, 16, 108]          36,864\n      BatchNorm2d-50          [-1, 64, 16, 108]             128\n             ReLU-51          [-1, 64, 16, 108]               0\n           Conv2d-52          [-1, 64, 16, 108]          36,864\n      BatchNorm2d-53          [-1, 64, 16, 108]             128\n             ReLU-54          [-1, 64, 16, 108]               0\n       BasicBlock-55          [-1, 64, 16, 108]               0\n           Conv2d-56          [-1, 64, 16, 108]          36,864\n      BatchNorm2d-57          [-1, 64, 16, 108]             128\n             ReLU-58          [-1, 64, 16, 108]               0\n           Conv2d-59          [-1, 64, 16, 108]          36,864\n      BatchNorm2d-60          [-1, 64, 16, 108]             128\n             ReLU-61          [-1, 64, 16, 108]               0\n       BasicBlock-62          [-1, 64, 16, 108]               0\n           Conv2d-63           [-1, 128, 8, 54]          73,728\n      BatchNorm2d-64           [-1, 128, 8, 54]             256\n             ReLU-65           [-1, 128, 8, 54]               0\n           Conv2d-66           [-1, 128, 8, 54]         147,456\n      BatchNorm2d-67           [-1, 128, 8, 54]             256\n           Conv2d-68           [-1, 128, 8, 54]           8,192\n      BatchNorm2d-69           [-1, 128, 8, 54]             256\n             ReLU-70           [-1, 128, 8, 54]               0\n       BasicBlock-71           [-1, 128, 8, 54]               0\n           Conv2d-72           [-1, 128, 8, 54]         147,456\n      BatchNorm2d-73           [-1, 128, 8, 54]             256\n             ReLU-74           [-1, 128, 8, 54]               0\n           Conv2d-75           [-1, 128, 8, 54]         147,456\n      BatchNorm2d-76           [-1, 128, 8, 54]             256\n             ReLU-77           [-1, 128, 8, 54]               0\n       BasicBlock-78           [-1, 128, 8, 54]               0\n           Conv2d-79           [-1, 128, 8, 54]         147,456\n      BatchNorm2d-80           [-1, 128, 8, 54]             256\n             ReLU-81           [-1, 128, 8, 54]               0\n           Conv2d-82           [-1, 128, 8, 54]         147,456\n      BatchNorm2d-83           [-1, 128, 8, 54]             256\n             ReLU-84           [-1, 128, 8, 54]               0\n       BasicBlock-85           [-1, 128, 8, 54]               0\n           Conv2d-86           [-1, 128, 8, 54]         147,456\n      BatchNorm2d-87           [-1, 128, 8, 54]             256\n             ReLU-88           [-1, 128, 8, 54]               0\n           Conv2d-89           [-1, 128, 8, 54]         147,456\n      BatchNorm2d-90           [-1, 128, 8, 54]             256\n             ReLU-91           [-1, 128, 8, 54]               0\n       BasicBlock-92           [-1, 128, 8, 54]               0\nAdaptiveAvgPool2d-93            [-1, 128, 1, 1]               0\n           Linear-94                   [-1, 10]           1,290\n================================================================\nTotal params: 1,472,554\nTrainable params: 1,472,554\nNon-trainable params: 0\n----------------------------------------------------------------\nInput size (MB): 0.11\nForward/backward pass size (MB): 107.11\nParams size (MB): 5.62\nEstimated Total Size (MB): 112.83\n----------------------------------------------------------------\n"
     ]
    }
   ],
   "source": [
    "from torchsummary import summary\n",
    "\n",
    "s = summary(student, input_shape)"
   ]
  },
  {
   "cell_type": "markdown",
   "metadata": {
    "pycharm": {
     "name": "#%% md\n"
    }
   },
   "source": [
    "# training parameters"
   ]
  },
  {
   "cell_type": "code",
   "execution_count": 39,
   "metadata": {
    "collapsed": false,
    "jupyter": {
     "outputs_hidden": false
    },
    "pycharm": {
     "name": "#%%\n"
    },
    "tags": []
   },
   "outputs": [
    {
     "output_type": "stream",
     "name": "stdout",
     "text": [
      "../../tensorboard/esc10/student-teacher/wideresnet28_2/0.1S/2020-10-30_22:07:06_wideresnet28_2_JS\n"
     ]
    }
   ],
   "source": [
    "# tensorboard\n",
    "title_element = (args.model, args.supervised_ratio, get_datetime(), model_func.__name__)\n",
    "tensorboard_title = \"%s/%sS/%s_%s_JS\" % title_element\n",
    "\n",
    "title_element = (args.model, args.supervised_ratio, get_datetime(), model_func.__name__)\n",
    "checkpoint_title = \"%s/%sS/%s_%s_JS\" % title_element\n",
    "\n",
    "tensorboard = mSummaryWriter(log_dir=\"%s/%s\" % (tensorboard_path, tensorboard_title), comment=model_func.__name__)\n",
    "print(os.path.join(tensorboard_path, tensorboard_title))"
   ]
  },
  {
   "cell_type": "markdown",
   "metadata": {},
   "source": [
    "## optimizer & callbacks"
   ]
  },
  {
   "cell_type": "code",
   "execution_count": 40,
   "metadata": {},
   "outputs": [],
   "source": [
    "optimizer = load_optimizer(args.dataset, \"mean-teacher\", student=student, teacher=teacher)\n",
    "callbacks = load_callbacks(args.dataset, \"mean-teacher\", optimizer=optimizer, nb_epoch=args.nb_epoch)"
   ]
  },
  {
   "cell_type": "code",
   "execution_count": 55,
   "metadata": {
    "collapsed": false,
    "jupyter": {
     "outputs_hidden": false
    },
    "pycharm": {
     "name": "#%%\n"
    },
    "tags": [
     "re_run"
    ]
   },
   "outputs": [],
   "source": [
    "# losses\n",
    "loss_ce = nn.CrossEntropyLoss(reduction=\"mean\") # Supervised loss\n",
    "consistency_cost = nn.MSELoss(reduction=\"mean\") # Unsupervised loss\n",
    "consistency_cost = JensenShanon\n",
    "\n",
    "lambda_cost = Warmup(args.lambda_cost_max, args.warmup_length, sigmoid_rampup)\n",
    "callbacks += [lambda_cost]\n",
    "\n",
    "# Checkpoint\n",
    "checkpoint = CheckPoint(student, optimizer, mode=\"max\", name=\"%s/%s.torch\" % (checkpoint_path, checkpoint_title))\n",
    "\n",
    "def get_lr(optimizer):\n",
    "    for param_group in optimizer.param_groups:\n",
    "        return param_group['lr']"
   ]
  },
  {
   "cell_type": "markdown",
   "metadata": {},
   "source": [
    "## Metrics definition"
   ]
  },
  {
   "cell_type": "code",
   "execution_count": 42,
   "metadata": {},
   "outputs": [],
   "source": [
    "def metrics_calculator():\n",
    "    def c(logits, y):\n",
    "        with torch.no_grad():\n",
    "            y_one_hot = F.one_hot(y, num_classes=args.num_classes)\n",
    "            \n",
    "            pred = torch.softmax(logits, dim=1)\n",
    "            arg = torch.argmax(logits, dim=1)\n",
    "            \n",
    "            acc = c.fn.acc(arg, y).mean\n",
    "            f1 = c.fn.f1(pred, y_one_hot).mean\n",
    "            \n",
    "            return acc, f1,\n",
    "            \n",
    "    c.fn = dotdict(\n",
    "        acc = CategoricalAccuracy(),\n",
    "        f1 = FScore(),\n",
    "    )\n",
    "    \n",
    "    return c"
   ]
  },
  {
   "cell_type": "code",
   "execution_count": 43,
   "metadata": {},
   "outputs": [],
   "source": [
    "calc_student_s_metrics = metrics_calculator()\n",
    "calc_student_u_metrics = metrics_calculator()\n",
    "calc_teacher_s_metrics = metrics_calculator()\n",
    "calc_teacher_u_metrics = metrics_calculator()\n",
    "\n",
    "avg_Sce = ContinueAverage()\n",
    "avg_Tce = ContinueAverage()\n",
    "avg_ccost = ContinueAverage()\n",
    "\n",
    "softmax_fn = nn.Softmax(dim=1)\n",
    "\n",
    "def reset_metrics():\n",
    "    for d in [calc_student_s_metrics.fn, calc_student_u_metrics.fn, calc_teacher_s_metrics.fn, calc_teacher_u_metrics.fn]:\n",
    "        for fn in d.values():\n",
    "            fn.reset()\n",
    "\n",
    "maximum_tracker = track_maximum()"
   ]
  },
  {
   "cell_type": "markdown",
   "metadata": {
    "pycharm": {
     "name": "#%% md\n"
    }
   },
   "source": [
    "## Can resume previous training"
   ]
  },
  {
   "cell_type": "code",
   "execution_count": 44,
   "metadata": {
    "pycharm": {
     "name": "#%%\n"
    }
   },
   "outputs": [],
   "source": [
    "if args.resume:\n",
    "    checkpoint.load_last()"
   ]
  },
  {
   "cell_type": "code",
   "execution_count": 45,
   "metadata": {},
   "outputs": [
    {
     "output_type": "execute_result",
     "data": {
      "text/plain": [
       "False"
      ]
     },
     "metadata": {},
     "execution_count": 45
    }
   ],
   "source": [
    "args.resume"
   ]
  },
  {
   "cell_type": "markdown",
   "metadata": {
    "pycharm": {
     "name": "#%% md\n"
    }
   },
   "source": [
    "## training function"
   ]
  },
  {
   "cell_type": "code",
   "execution_count": 46,
   "metadata": {
    "collapsed": false,
    "jupyter": {
     "outputs_hidden": false
    },
    "pycharm": {
     "name": "#%%\n"
    },
    "tags": []
   },
   "outputs": [
    {
     "output_type": "stream",
     "name": "stdout",
     "text": [
      ".        Epoch  - %      - Student:   ce       ccost    acc_s    f1_s     acc_u    f1_u     | Teacher:   ce       acc_s    f1_s     acc_u    f1_u     - Time    \n"
     ]
    }
   ],
   "source": [
    "UNDERLINE_SEQ = \"\\033[1;4m\"\n",
    "RESET_SEQ = \"\\033[0m\"\n",
    "\n",
    "header_form = \"{:<8.8} {:<6.6} - {:<6.6} - {:<10.8} {:<8.6} {:<8.6} {:<8.6} {:<8.6} {:<8.6} {:<8.6} | {:<10.8} {:<8.6} {:<8.6} {:<8.6} {:<8.6} {:<8.6} - {:<8.6}\"\n",
    "value_form  = \"{:<8.8} {:<6d} - {:<6d} - {:<10.8} {:<8.4f} {:<8.4f} {:<8.4f} {:<8.4f} {:<8.4f} {:<8.4f} | {:<10.8} {:<8.4f} {:<8.4f} {:<8.4f} {:<8.4f} {:<8.4f} - {:<8.4f}\"\n",
    "header = header_form.format(\".               \", \"Epoch\",  \"%\", \"Student:\", \"ce\", \"ccost\", \"acc_s\", \"f1_s\", \"acc_u\", \"f1_u\", \"Teacher:\", \"ce\", \"acc_s\", \"f1_s\", \"acc_u\", \"f1_u\" , \"Time\")\n",
    "\n",
    "train_form = value_form\n",
    "val_form = UNDERLINE_SEQ + value_form + RESET_SEQ\n",
    "\n",
    "print(header)"
   ]
  },
  {
   "cell_type": "code",
   "execution_count": 47,
   "metadata": {},
   "outputs": [],
   "source": [
    "def update_teacher_model(student_model, teacher_model, alpha, epoch):\n",
    "    \n",
    "    # Use the true average until the exponential average is more correct\n",
    "    alpha = min(1 - 1 / (epoch + 1), alpha)\n",
    "    \n",
    "    for param, ema_param in zip(student_model.parameters(), teacher_model.parameters()):\n",
    "        ema_param.data.mul_(alpha).add_(param.data,  alpha = 1-alpha)"
   ]
  },
  {
   "cell_type": "code",
   "execution_count": 48,
   "metadata": {
    "tags": [
     "re_run"
    ]
   },
   "outputs": [],
   "source": [
    "def train(epoch):\n",
    "    start_time = time.time()\n",
    "    print(\"\")\n",
    "    \n",
    "    nb_batch = len(train_loader)\n",
    "\n",
    "    reset_metrics()\n",
    "    student.train()\n",
    "\n",
    "    for i, (S, U) in enumerate(train_loader):        \n",
    "        x_s, y_s = S\n",
    "        x_u, y_u = U\n",
    "        \n",
    "        x_s, x_u = x_s.cuda(), x_u.cuda()\n",
    "        y_s, y_u = y_s.cuda(), y_u.cuda()\n",
    "        \n",
    "        # Predictions\n",
    "        student_s_logits = student(x_s)        \n",
    "        student_u_logits = student(x_u)\n",
    "        teacher_s_logits = teacher(x_s)\n",
    "        teacher_u_logits = teacher(x_u)\n",
    "        \n",
    "        # Calculate supervised loss (only student on S)\n",
    "        loss = loss_ce(student_s_logits, y_s)\n",
    "        \n",
    "        # Calculate consistency cost (mse(student(x), teacher(x))) x is S + U\n",
    "        student_logits = torch.cat((student_s_logits, student_u_logits), dim=0)\n",
    "        teacher_logits = torch.cat((teacher_s_logits, teacher_u_logits), dim=0)\n",
    "        ccost = consistency_cost(softmax_fn(student_logits), softmax_fn(teacher_logits))\n",
    "\n",
    "        total_loss = loss + lambda_cost() * ccost\n",
    "        \n",
    "        optimizer.zero_grad()\n",
    "        total_loss.backward()\n",
    "        optimizer.step()\n",
    "\n",
    "        with torch.set_grad_enabled(False):\n",
    "            # Teacher prediction (for metrics purpose)\n",
    "            _teacher_loss = loss_ce(teacher_s_logits, y_s)\n",
    "            \n",
    "            # Update teacher\n",
    "            update_teacher_model(student, teacher, args.ema_alpha, epoch*nb_batch + i)\n",
    "            \n",
    "            # Compute the metrics for the student\n",
    "            student_s_metrics = calc_student_s_metrics(student_s_logits, y_s)\n",
    "            student_u_metrics = calc_student_u_metrics(student_u_logits, y_u)\n",
    "            student_s_acc, student_u_acc, student_s_f1, student_u_f1 = *student_s_metrics, *student_u_metrics\n",
    "            \n",
    "            # Compute the metrics for the teacher\n",
    "            teacher_s_metrics = calc_teacher_s_metrics(teacher_s_logits, y_s)\n",
    "            teacher_u_metrics = calc_teacher_u_metrics(teacher_u_logits, y_u)\n",
    "            teacher_s_acc, teacher_u_acc, teacher_s_f1, teacher_u_f1 = *teacher_s_metrics, *teacher_u_metrics\n",
    "            \n",
    "            # Running average of the two losses\n",
    "            student_running_loss = avg_Sce(loss.item()).mean\n",
    "            teacher_running_loss = avg_Tce(_teacher_loss.item()).mean\n",
    "            running_ccost = avg_ccost(ccost.item()).mean\n",
    "\n",
    "            # logs\n",
    "            print(train_form.format(\n",
    "                \"Training: \", epoch + 1, int(100 * (i + 1) / nb_batch),\n",
    "                \"\", student_running_loss, running_ccost, *student_s_metrics, *student_u_metrics,\n",
    "                \"\", teacher_running_loss, *teacher_s_metrics, *teacher_u_metrics,\n",
    "                time.time() - start_time\n",
    "            ), end=\"\\r\")\n",
    "\n",
    "    tensorboard.add_scalar(\"train/student_acc_s\", student_s_acc, epoch)\n",
    "    tensorboard.add_scalar(\"train/student_acc_u\", student_u_acc, epoch)\n",
    "    tensorboard.add_scalar(\"train/student_f1_s\", student_s_f1, epoch)\n",
    "    tensorboard.add_scalar(\"train/student_f1_u\", student_u_f1, epoch)\n",
    "    \n",
    "    tensorboard.add_scalar(\"train/teacher_acc_s\", teacher_s_acc, epoch)\n",
    "    tensorboard.add_scalar(\"train/teacher_acc_u\", teacher_u_acc, epoch)\n",
    "    tensorboard.add_scalar(\"train/teacher_f1_s\", teacher_s_f1, epoch)\n",
    "    tensorboard.add_scalar(\"train/teacher_f1_u\", teacher_u_f1, epoch)\n",
    "    \n",
    "    tensorboard.add_scalar(\"train/student_loss\", student_running_loss, epoch)\n",
    "    tensorboard.add_scalar(\"train/teacher_loss\", teacher_running_loss, epoch)\n",
    "    tensorboard.add_scalar(\"train/consistency_cost\", running_ccost, epoch)"
   ]
  },
  {
   "cell_type": "code",
   "execution_count": 49,
   "metadata": {
    "collapsed": false,
    "jupyter": {
     "outputs_hidden": false
    },
    "pycharm": {
     "name": "#%%\n"
    },
    "tags": [
     "re_run"
    ]
   },
   "outputs": [],
   "source": [
    "def val(epoch):\n",
    "    start_time = time.time()\n",
    "    print(\"\")\n",
    "    reset_metrics()\n",
    "    student.eval()\n",
    "    \n",
    "    with torch.set_grad_enabled(False):\n",
    "        for i, (X, y) in enumerate(val_loader):\n",
    "            X = X.cuda()\n",
    "            y = y.cuda()\n",
    "\n",
    "            # Predictions\n",
    "            student_logits = student(X)        \n",
    "            teacher_logits = teacher(X)\n",
    "\n",
    "            # Calculate supervised loss (only student on S)\n",
    "            loss = loss_ce(student_logits, y)\n",
    "            _teacher_loss = loss_ce(teacher_logits, y) # for metrics only\n",
    "            ccost = consistency_cost(softmax_fn(student_logits), softmax_fn(teacher_logits))\n",
    "            \n",
    "            # Compute the metrics\n",
    "            y_one_hot = F.one_hot(y, num_classes=args.num_classes)\n",
    "            \n",
    "            # ---- student ----\n",
    "            student_metrics = calc_student_s_metrics(student_logits, y)\n",
    "            student_acc, student_f1 = student_metrics\n",
    "            \n",
    "            # ---- teacher ----\n",
    "            teacher_metrics = calc_teacher_s_metrics(teacher_logits, y)\n",
    "            teacher_acc, teacher_f1 = teacher_metrics\n",
    "\n",
    "            # Running average of the two losses\n",
    "            student_running_loss = avg_Sce(loss.item()).mean\n",
    "            teacher_running_loss = avg_Tce(_teacher_loss.item()).mean\n",
    "            running_ccost = avg_ccost(ccost.item()).mean\n",
    "\n",
    "            # logs\n",
    "            print(val_form.format(\n",
    "                \"Validation: \", epoch + 1, int(100 * (i + 1) / len(val_loader)),\n",
    "                \"\", student_running_loss, running_ccost, *student_metrics, 0.0, 0.0,\n",
    "                \"\", teacher_running_loss, *teacher_metrics, 0.0, 0.0,\n",
    "                time.time() - start_time\n",
    "            ), end=\"\\r\")\n",
    "\n",
    "    tensorboard.add_scalar(\"val/student_acc\", student_acc, epoch)\n",
    "    tensorboard.add_scalar(\"val/student_f1\", student_f1, epoch)\n",
    "    tensorboard.add_scalar(\"val/teacher_acc\", teacher_acc, epoch)\n",
    "    tensorboard.add_scalar(\"val/teacher_f1\", teacher_f1, epoch)\n",
    "    tensorboard.add_scalar(\"val/student_loss\", student_running_loss, epoch)\n",
    "    tensorboard.add_scalar(\"val/teacher_loss\", teacher_running_loss, epoch)\n",
    "    tensorboard.add_scalar(\"val/consistency_cost\", running_ccost, epoch)\n",
    "    \n",
    "    tensorboard.add_scalar(\"hyperparameters/learning_rate\", get_lr(optimizer), epoch)\n",
    "    tensorboard.add_scalar(\"hyperparameters/lambda_cost_max\", lambda_cost(), epoch)\n",
    "    \n",
    "    tensorboard.add_scalar(\"max/student_acc\", maximum_tracker(\"student_acc\", student_acc), epoch )\n",
    "    tensorboard.add_scalar(\"max/teacher_acc\", maximum_tracker(\"teacher_acc\", teacher_acc), epoch )\n",
    "    tensorboard.add_scalar(\"max/student_f1\", maximum_tracker(\"student_f1\", student_f1), epoch )\n",
    "    tensorboard.add_scalar(\"max/teacher_f1\", maximum_tracker(\"teacher_f1\", teacher_f1), epoch )\n",
    "\n",
    "    checkpoint.step(teacher_acc)\n",
    "    for c in callbacks:\n",
    "        c.step()\n"
   ]
  },
  {
   "cell_type": "markdown",
   "metadata": {},
   "source": [
    "# Training"
   ]
  },
  {
   "cell_type": "code",
   "execution_count": 50,
   "metadata": {
    "collapsed": false,
    "jupyter": {
     "outputs_hidden": false
    },
    "pycharm": {
     "name": "#%%\n"
    },
    "scrolled": true,
    "tags": [
     "outputPrepend"
    ]
   },
   "outputs": [
    {
     "output_type": "stream",
     "name": "stdout",
     "text": [
      "0.9667   0.6345   0.6417   |            0.8710   0.9000   0.9152   0.6069   0.6035   - 1.5835  \n",
      "\u001b[1;4mValidati 138    - 100    -            2.3323   0.0143   0.5938   0.5913   0.0000   0.0000   |            0.8720   0.5703   0.5806   0.0000   0.0000   - 0.1065  \u001b[0m\n",
      "Training 139    - 100    -            2.3203   0.0143   1.0000   1.0000   0.6379   0.6370   |            0.8682   1.0000   0.9636   0.6241   0.6242   - 1.5825  \n",
      "\u001b[1;4mValidati 139    - 100    -            2.3190   0.0143   0.5938   0.5730   0.0000   0.0000   |            0.8690   0.6094   0.6012   0.0000   0.0000   - 0.1059  \u001b[0m\n",
      "Training 140    - 100    -            2.3072   0.0143   1.0000   1.0000   0.6621   0.6634   |            0.8650   1.0000   0.9818   0.6414   0.6187   - 1.5932  \n",
      "\u001b[1;4mValidati 140    - 100    -            2.3058   0.0143   0.6172   0.6220   0.0000   0.0000   |            0.8660   0.5234   0.5155   0.0000   0.0000   - 0.1083  \u001b[0m\n",
      "Training 141    - 100    -            2.2943   0.0142   1.0000   1.0000   0.6517   0.6562   |            0.8622   1.0000   0.9818   0.6276   0.6318   - 1.5905  \n",
      "\u001b[1;4mValidati 141    - 100    -            2.2921   0.0142   0.6875   0.6920   0.0000   0.0000   |            0.8622   0.7344   0.7271   0.0000   0.0000   - 0.1058  \u001b[0m\n",
      "Training 142    - 100    -            2.2806   0.0142   1.0000   1.0000   0.6655   0.6582   |            0.8584   0.9667   0.9667   0.6103   0.6173   - 1.5817  \n",
      "\u001b[1;4mValidati 142    - 100    -            2.2791   0.0142   0.5703   0.5754   0.0000   0.0000   |            0.8595   0.6016   0.6032   0.0000   0.0000   - 0.1059  \u001b[0m\n",
      "Training 143    - 100    -            2.2678   0.0142   1.0000   1.0000   0.6759   0.6703   |            0.8557   1.0000   1.0000   0.6069   0.6073   - 1.5816  \n",
      "\u001b[1;4mValidati 143    - 100    -            2.2658   0.0141   0.6641   0.6784   0.0000   0.0000   |            0.8560   0.7031   0.6960   0.0000   0.0000   - 0.1061  \u001b[0m\n",
      "Training 144    - 100    -            2.2545   0.0141   1.0000   1.0000   0.6552   0.6534   |            0.8522   1.0000   0.9818   0.6138   0.6124   - 1.5834  \n",
      "\u001b[1;4mValidati 144    - 100    -            2.2538   0.0141   0.5938   0.5998   0.0000   0.0000   |            0.8531   0.6484   0.6252   0.0000   0.0000   - 0.1059  \u001b[0m\n",
      "Training 145    - 100    -            2.2432   0.0141   0.9667   0.9818   0.6586   0.6555   |            0.8501   0.9333   0.9333   0.6172   0.6156   - 1.5813  \n",
      "\u001b[1;4mValidati 145    - 100    -            2.2415   0.0141   0.6406   0.6492   0.0000   0.0000   |            0.8505   0.6641   0.6635   0.0000   0.0000   - 0.1058  \u001b[0m\n",
      "Training 146    - 100    -            2.2307   0.0140   1.0000   1.0000   0.6483   0.6431   |            0.8469   0.9667   0.9667   0.6207   0.6229   - 1.5806  \n",
      "\n",
      "Training 147    - 100    -            2.2194   0.0140   1.0000   1.0000   0.6483   0.6477   |            0.8446   0.9667   0.9667   0.6448   0.6269   - 1.5814  \n",
      "\u001b[1;4mValidati 147    - 100    -            2.2183   0.0140   0.5938   0.6083   0.0000   0.0000   |            0.8453   0.6250   0.6290   0.0000   0.0000   - 0.1063  \u001b[0m\n",
      "Training 148    - 100    -            2.2077   0.0140   1.0000   1.0000   0.6414   0.6479   |            0.8420   0.9333   0.9333   0.6172   0.6091   - 1.5824  \n",
      "\u001b[1;4mValidati 148    - 100    -            2.2068   0.0140   0.6094   0.6165   0.0000   0.0000   |            0.8430   0.5156   0.5323   0.0000   0.0000   - 0.1061  \u001b[0m\n",
      "Training 149    - 100    -            2.1962   0.0139   1.0000   1.0000   0.6586   0.6570   |            0.8394   0.9667   0.9818   0.6276   0.6262   - 1.5827  \n",
      "\u001b[1;4mValidati 149    - 100    -            2.1952   0.0139   0.6719   0.6766   0.0000   0.0000   |            0.8399   0.7031   0.6895   0.0000   0.0000   - 0.1062  \u001b[0m\n",
      "Training 150    - 100    -            2.1848   0.0139   1.0000   1.0000   0.6483   0.6480   |            0.8364   1.0000   1.0000   0.6103   0.6190   - 1.5834  \n",
      "\u001b[1;4mValidati 150    - 100    -            2.1852   0.0139   0.5234   0.5288   0.0000   0.0000   |            0.8379   0.6016   0.5858   0.0000   0.0000   - 0.1055  \u001b[0m\n",
      "Training 151    - 100    -            2.1749   0.0138   1.0000   1.0000   0.6241   0.6279   |            0.8346   0.9667   0.9485   0.6207   0.6303   - 1.5842  \n",
      "\u001b[1;4mValidati 151    - 100    -            2.1738   0.0138   0.6016   0.6066   0.0000   0.0000   |            0.8355   0.6094   0.6065   0.0000   0.0000   - 0.1061  \u001b[0m\n",
      "Training 152    - 100    -            2.1637   0.0138   1.0000   1.0000   0.6552   0.6367   |            0.8324   0.9667   0.9636   0.6138   0.6148   - 1.5850  \n",
      "\u001b[1;4mValidati 152    - 100    -            2.1628   0.0138   0.6328   0.6454   0.0000   0.0000   |            0.8333   0.6328   0.6397   0.0000   0.0000   - 0.1061  \u001b[0m\n",
      "Training 153    - 100    -            2.1527   0.0138   1.0000   1.0000   0.6724   0.6730   |            0.8297   1.0000   1.0000   0.6414   0.6461   - 1.5835  \n",
      "\u001b[1;4mValidati 153    - 100    -            2.1522   0.0138   0.6094   0.6281   0.0000   0.0000   |            0.8306   0.6094   0.6329   0.0000   0.0000   - 0.1060  \u001b[0m\n",
      "Training 154    - 100    -            2.1427   0.0137   0.9667   0.9667   0.6276   0.6343   |            0.8284   0.9333   0.9018   0.6241   0.6144   - 1.5882  \n",
      "\u001b[1;4mValidati 154    - 100    -            2.1416   0.0137   0.6406   0.6508   0.0000   0.0000   |            0.8285   0.7344   0.7524   0.0000   0.0000   - 0.1069  \u001b[0m\n",
      "Training 155    - 100    -            2.1318   0.0137   1.0000   1.0000   0.6103   0.6172   |            0.8252   1.0000   0.9818   0.6103   0.6075   - 1.5836  \n",
      "\u001b[1;4mValidati 155    - 100    -            2.1309   0.0137   0.6250   0.6283   0.0000   0.0000   |            0.8259   0.6328   0.6296   0.0000   0.0000   - 0.1059  \u001b[0m\n",
      "Training 156    - 100    -            2.1214   0.0137   0.9667   0.9818   0.6517   0.6464   |            0.8226   0.9667   0.9667   0.6276   0.6277   - 1.5854  \n",
      "\u001b[1;4mValidati 156    - 100    -            2.1206   0.0136   0.6562   0.6527   0.0000   0.0000   |            0.8233   0.6484   0.6527   0.0000   0.0000   - 0.1060  \u001b[0m\n",
      "Training 157    - 100    -            2.1112   0.0136   1.0000   1.0000   0.6138   0.6166   |            0.8204   0.9333   0.9485   0.6069   0.6021   - 1.5856  \n",
      "\u001b[1;4mValidati 157    - 100    -            2.1105   0.0136   0.6172   0.6245   0.0000   0.0000   |            0.8215   0.6250   0.5772   0.0000   0.0000   - 0.1057  \u001b[0m\n",
      "Training 158    - 100    -            2.1010   0.0136   1.0000   1.0000   0.6276   0.6286   |            0.8181   1.0000   1.0000   0.6172   0.6151   - 1.5835  \n",
      "\u001b[1;4mValidati 158    - 100    -            2.1004   0.0136   0.6250   0.6375   0.0000   0.0000   |            0.8192   0.6094   0.6157   0.0000   0.0000   - 0.1058  \u001b[0m\n",
      "Training 159    - 100    -            2.0911   0.0135   1.0000   1.0000   0.6552   0.6543   |            0.8163   1.0000   0.9818   0.6138   0.6099   - 1.5871  \n",
      "\u001b[1;4mValidati 159    - 100    -            2.0898   0.0135   0.7188   0.7255   0.0000   0.0000   |            0.8168   0.7109   0.7234   0.0000   0.0000   - 0.1060  \u001b[0m\n",
      "Training 160    - 100    -            2.0805   0.0135   1.0000   1.0000   0.6138   0.6207   |            0.8134   1.0000   1.0000   0.6138   0.6124   - 1.5850  \n",
      "\u001b[1;4mValidati 160    - 100    -            2.0805   0.0135   0.5781   0.5947   0.0000   0.0000   |            0.8144   0.6250   0.6146   0.0000   0.0000   - 0.1059  \u001b[0m\n",
      "Training 161    - 100    -            2.0714   0.0134   1.0000   1.0000   0.6414   0.6548   |            0.8114   0.9667   0.9818   0.6241   0.6216   - 1.5807  \n",
      "\u001b[1;4mValidati 161    - 100    -            2.0705   0.0134   0.6797   0.6790   0.0000   0.0000   |            0.8118   0.7266   0.7258   0.0000   0.0000   - 0.1058  \u001b[0m\n",
      "Training 162    - 100    -            2.0614   0.0134   1.0000   1.0000   0.6586   0.6628   |            0.8089   0.9333   0.9485   0.6414   0.6374   - 1.5993  \n",
      "\u001b[1;4mValidati 162    - 100    -            2.0606   0.0134   0.6328   0.6228   0.0000   0.0000   |            0.8096   0.6094   0.6183   0.0000   0.0000   - 0.1077  \u001b[0m\n",
      "Training 163    - 100    -            2.0517   0.0133   1.0000   1.0000   0.6345   0.6368   |            0.8064   0.9667   0.9667   0.6103   0.6050   - 1.5831  \n",
      "\u001b[1;4mValidati 163    - 100    -            2.0509   0.0133   0.6875   0.6895   0.0000   0.0000   |            0.8070   0.6484   0.6330   0.0000   0.0000   - 0.1061  \u001b[0m\n",
      "Training 164    - 100    -            2.0421   0.0133   1.0000   1.0000   0.6172   0.6203   |            0.8044   0.9000   0.9152   0.6103   0.6070   - 1.5831  \n",
      "\u001b[1;4mValidati 164    - 100    -            2.0415   0.0133   0.6641   0.6587   0.0000   0.0000   |            0.8053   0.6328   0.6478   0.0000   0.0000   - 0.1054  \u001b[0m\n",
      "Training 165    - 100    -            2.0327   0.0133   1.0000   1.0000   0.6517   0.6513   |            0.8021   1.0000   1.0000   0.6345   0.6381   - 1.5822  \n",
      "\u001b[1;4mValidati 165    - 100    -            2.0318   0.0132   0.7109   0.6991   0.0000   0.0000   |            0.8024   0.7422   0.7302   0.0000   0.0000   - 0.1081  \u001b[0m\n",
      "Training 166    - 100    -            2.0231   0.0132   1.0000   1.0000   0.6310   0.6337   |            0.7992   1.0000   1.0000   0.6310   0.6281   - 1.5862  \n",
      "\n",
      "Training 167    - 100    -            2.0151   0.0132   0.9667   0.9667   0.6586   0.6471   |            0.7989   0.9000   0.9000   0.6276   0.6230   - 1.5878  \n",
      "\u001b[1;4mValidati 167    - 100    -            2.0149   0.0131   0.5391   0.5164   0.0000   0.0000   |            0.8003   0.6250   0.6159   0.0000   0.0000   - 0.1055  \u001b[0m\n",
      "Training 168    - 100    -            2.0065   0.0131   1.0000   1.0000   0.6241   0.6324   |            0.7977   1.0000   0.9636   0.6172   0.6194   - 1.5851  \n",
      "\u001b[1;4mValidati 168    - 100    -            2.0058   0.0131   0.5781   0.5773   0.0000   0.0000   |            0.7986   0.5859   0.5833   0.0000   0.0000   - 0.1060  \u001b[0m\n",
      "Training 169    - 100    -            1.9975   0.0131   1.0000   0.9818   0.6207   0.6272   |            0.7961   0.9333   0.9303   0.6241   0.6226   - 1.5787  \n",
      "\u001b[1;4mValidati 169    - 100    -            1.9974   0.0131   0.5625   0.5563   0.0000   0.0000   |            0.7970   0.6172   0.6000   0.0000   0.0000   - 0.1057  \u001b[0m\n",
      "Training 170    - 100    -            1.9892   0.0130   1.0000   1.0000   0.6414   0.6397   |            0.7949   0.9333   0.9333   0.6276   0.6172   - 1.6142  \n",
      "\u001b[1;4mValidati 170    - 100    -            1.9888   0.0130   0.5938   0.6026   0.0000   0.0000   |            0.7959   0.6641   0.6558   0.0000   0.0000   - 0.1081  \u001b[0m\n",
      "Training 171    - 100    -            1.9807   0.0130   1.0000   1.0000   0.6379   0.6351   |            0.7944   0.9000   0.8539   0.6241   0.6178   - 1.5886  \n",
      "\u001b[1;4mValidati 171    - 100    -            1.9805   0.0130   0.6172   0.6071   0.0000   0.0000   |            0.7952   0.6406   0.6405   0.0000   0.0000   - 0.1067  \u001b[0m\n",
      "Training 172    - 100    -            1.9723   0.0130   1.0000   1.0000   0.6138   0.6165   |            0.7923   1.0000   1.0000   0.6379   0.6275   - 1.5858  \n",
      "\u001b[1;4mValidati 172    - 100    -            1.9722   0.0129   0.5703   0.5806   0.0000   0.0000   |            0.7932   0.6328   0.6263   0.0000   0.0000   - 0.1059  \u001b[0m\n",
      "Training 173    - 100    -            1.9641   0.0129   1.0000   1.0000   0.6310   0.6232   |            0.7902   1.0000   1.0000   0.6138   0.6100   - 1.5814  \n",
      "\u001b[1;4mValidati 173    - 100    -            1.9634   0.0129   0.6406   0.6242   0.0000   0.0000   |            0.7911   0.6250   0.6155   0.0000   0.0000   - 0.1063  \u001b[0m\n",
      "Training 174    - 100    -            1.9554   0.0129   1.0000   1.0000   0.6448   0.6449   |            0.7883   1.0000   0.9818   0.6276   0.6250   - 1.5858  \n",
      "\u001b[1;4mValidati 174    - 100    -            1.9546   0.0129   0.6406   0.6398   0.0000   0.0000   |            0.7891   0.6562   0.6668   0.0000   0.0000   - 0.1057  \u001b[0m\n",
      "Training 175    - 100    -            1.9467   0.0128   1.0000   1.0000   0.6310   0.6270   |            0.7862   0.9667   0.9667   0.6138   0.6067   - 1.5863  \n",
      "\u001b[1;4mValidati 175    - 100    -            1.9466   0.0128   0.5703   0.5781   0.0000   0.0000   |            0.7873   0.6562   0.6486   0.0000   0.0000   - 0.1061  \u001b[0m\n",
      "Training 176    - 100    -            1.9388   0.0128   1.0000   1.0000   0.6621   0.6504   |            0.7848   0.9333   0.9636   0.6310   0.6296   - 1.5925  \n",
      "\n",
      "Training 177    - 100    -            1.9307   0.0127   1.0000   1.0000   0.6379   0.6362   |            0.7839   0.9333   0.9273   0.6310   0.6286   - 1.5865  \n",
      "\u001b[1;4mValidati 177    - 100    -            1.9302   0.0127   0.6328   0.6210   0.0000   0.0000   |            0.7845   0.6875   0.6900   0.0000   0.0000   - 0.1047  \u001b[0m\n",
      "Training 178    - 100    -            1.9225   0.0127   1.0000   1.0000   0.6483   0.6467   |            0.7819   0.9667   0.9667   0.6379   0.6383   - 1.5729  \n",
      "\u001b[1;4mValidati 178    - 100    -            1.9221   0.0127   0.6406   0.6398   0.0000   0.0000   |            0.7826   0.6953   0.6950   0.0000   0.0000   - 0.1043  \u001b[0m\n",
      "Training 179    - 100    -            1.9144   0.0127   1.0000   1.0000   0.6414   0.6508   |            0.7797   1.0000   1.0000   0.6310   0.6327   - 1.5738  \n",
      "\u001b[1;4mValidati 179    - 100    -            1.9140   0.0127   0.6406   0.6453   0.0000   0.0000   |            0.7804   0.6719   0.6506   0.0000   0.0000   - 0.1047  \u001b[0m\n",
      "Training 180    - 100    -            1.9064   0.0126   1.0000   1.0000   0.6207   0.6179   |            0.7776   0.9667   0.9667   0.6276   0.6194   - 1.6838  \n",
      "\u001b[1;4mValidati 180    - 100    -            1.9054   0.0126   0.6641   0.6603   0.0000   0.0000   |            0.7781   0.6875   0.6766   0.0000   0.0000   - 0.1126  \u001b[0m\n",
      "Training 181    - 100    -            1.8979   0.0126   1.0000   1.0000   0.6379   0.6314   |            0.7753   1.0000   1.0000   0.6241   0.6225   - 1.6131  \n",
      "\u001b[1;4mValidati 181    - 100    -            1.8979   0.0126   0.6172   0.6023   0.0000   0.0000   |            0.7764   0.6328   0.6146   0.0000   0.0000   - 0.1055  \u001b[0m\n",
      "Training 182    - 100    -            1.8905   0.0125   1.0000   1.0000   0.6276   0.6319   |            0.7735   1.0000   1.0000   0.6276   0.6291   - 1.5707  \n",
      "\u001b[1;4mValidati 182    - 100    -            1.8901   0.0125   0.6406   0.6218   0.0000   0.0000   |            0.7743   0.7031   0.6719   0.0000   0.0000   - 0.1045  \u001b[0m\n",
      "Training 183    - 100    -            1.8828   0.0125   1.0000   1.0000   0.6241   0.6199   |            0.7719   0.9333   0.9333   0.6069   0.6127   - 1.5740  \n",
      "\u001b[1;4mValidati 183    - 100    -            1.8821   0.0125   0.6641   0.6728   0.0000   0.0000   |            0.7725   0.6875   0.6870   0.0000   0.0000   - 0.1050  \u001b[0m\n",
      "Training 184    - 100    -            1.8748   0.0125   1.0000   1.0000   0.6483   0.6466   |            0.7697   1.0000   1.0000   0.6241   0.6274   - 1.5757  \n",
      "\u001b[1;4mValidati 184    - 100    -            1.8747   0.0125   0.6172   0.6245   0.0000   0.0000   |            0.7708   0.6875   0.6171   0.0000   0.0000   - 0.1045  \u001b[0m\n",
      "Training 185    - 100    -            1.8676   0.0124   1.0000   1.0000   0.6138   0.6265   |            0.7682   1.0000   1.0000   0.6000   0.6082   - 1.5731  \n",
      "\u001b[1;4mValidati 185    - 100    -            1.8672   0.0124   0.6172   0.6245   0.0000   0.0000   |            0.7690   0.6641   0.6666   0.0000   0.0000   - 0.1047  \u001b[0m\n",
      "Training 186    - 100    -            1.8602   0.0124   1.0000   1.0000   0.6345   0.6352   |            0.7668   0.9333   0.9152   0.6172   0.6185   - 1.5749  \n",
      "\u001b[1;4mValidati 186    - 100    -            1.8600   0.0124   0.5938   0.5987   0.0000   0.0000   |            0.7678   0.6172   0.6225   0.0000   0.0000   - 0.1048  \u001b[0m\n",
      "Training 187    - 100    -            1.8529   0.0124   1.0000   1.0000   0.6414   0.6477   |            0.7652   1.0000   1.0000   0.6310   0.6223   - 1.5741  \n",
      "\u001b[1;4mValidati 187    - 100    -            1.8523   0.0124   0.6875   0.6751   0.0000   0.0000   |            0.7658   0.6094   0.5895   0.0000   0.0000   - 0.1054  \u001b[0m\n",
      "Training 188    - 100    -            1.8453   0.0123   1.0000   1.0000   0.6414   0.6363   |            0.7633   1.0000   1.0000   0.6414   0.6466   - 1.5722  \n",
      "\u001b[1;4mValidati 188    - 100    -            1.8451   0.0123   0.6406   0.6398   0.0000   0.0000   |            0.7642   0.6016   0.6093   0.0000   0.0000   - 0.1052  \u001b[0m\n",
      "Training 189    - 100    -            1.8382   0.0123   1.0000   1.0000   0.6241   0.6303   |            0.7616   1.0000   1.0000   0.6207   0.6207   - 1.5729  \n",
      "\u001b[1;4mValidati 189    - 100    -            1.8380   0.0123   0.6172   0.6141   0.0000   0.0000   |            0.7626   0.6641   0.6346   0.0000   0.0000   - 0.1046  \u001b[0m\n",
      "Training 190    - 100    -            1.8312   0.0122   1.0000   1.0000   0.6448   0.6504   |            0.7600   1.0000   0.9818   0.6517   0.6583   - 1.5775  \n",
      "\u001b[1;4mValidati 190    - 100    -            1.8312   0.0122   0.5938   0.5987   0.0000   0.0000   |            0.7612   0.5938   0.5915   0.0000   0.0000   - 0.1048  \u001b[0m\n",
      "Training 191    - 100    -            1.8244   0.0122   1.0000   1.0000   0.6276   0.6348   |            0.7596   0.9000   0.9000   0.6241   0.6231   - 1.5717  \n",
      "\u001b[1;4mValidati 191    - 100    -            1.8239   0.0122   0.6641   0.6607   0.0000   0.0000   |            0.7602   0.6641   0.6593   0.0000   0.0000   - 0.1051  \u001b[0m\n",
      "Training 192    - 100    -            1.8171   0.0122   1.0000   1.0000   0.6241   0.6277   |            0.7576   1.0000   0.9818   0.6345   0.6311   - 1.5721  \n",
      "\u001b[1;4mValidati 192    - 100    -            1.8171   0.0122   0.5938   0.5755   0.0000   0.0000   |            0.7589   0.6328   0.6101   0.0000   0.0000   - 0.1045  \u001b[0m\n",
      "Training 193    - 100    -            1.8105   0.0121   1.0000   1.0000   0.6448   0.6350   |            0.7564   1.0000   1.0000   0.6207   0.6296   - 1.5862  \n",
      "\u001b[1;4mValidati 193    - 100    -            1.8110   0.0121   0.5703   0.5780   0.0000   0.0000   |            0.7578   0.5312   0.5208   0.0000   0.0000   - 0.1067  \u001b[0m\n",
      "Training 194    - 100    -            1.8044   0.0121   1.0000   1.0000   0.6414   0.6513   |            0.7552   1.0000   0.9818   0.6276   0.6343   - 1.5756  \n",
      "\u001b[1;4mValidati 194    - 100    -            1.8043   0.0121   0.6484   0.6502   0.0000   0.0000   |            0.7563   0.6094   0.6146   0.0000   0.0000   - 0.1047  \u001b[0m\n",
      "Training 195    - 100    -            1.7978   0.0121   1.0000   1.0000   0.6483   0.6407   |            0.7538   1.0000   1.0000   0.6241   0.6318   - 1.5704  \n",
      "\u001b[1;4mValidati 195    - 100    -            1.7985   0.0121   0.5703   0.5780   0.0000   0.0000   |            0.7552   0.6562   0.6617   0.0000   0.0000   - 0.1051  \u001b[0m\n",
      "Training 196    - 100    -            1.7919   0.0120   1.0000   1.0000   0.6448   0.6420   |            0.7526   1.0000   1.0000   0.6379   0.6391   - 1.5735  \n",
      "\u001b[1;4mValidati 196    - 100    -            1.7921   0.0120   0.6172   0.6095   0.0000   0.0000   |            0.7536   0.6641   0.6639   0.0000   0.0000   - 0.1047  \u001b[0m\n",
      "Training 197    - 100    -            1.7856   0.0120   1.0000   1.0000   0.6448   0.6525   |            0.7510   1.0000   1.0000   0.6483   0.6350   - 1.5759  \n",
      "\u001b[1;4mValidati 197    - 100    -            1.7849   0.0120   0.6875   0.6942   0.0000   0.0000   |            0.7515   0.6953   0.7016   0.0000   0.0000   - 0.1054  \u001b[0m\n",
      "Training 198    - 100    -            1.7785   0.0119   1.0000   1.0000   0.6414   0.6374   |            0.7489   1.0000   1.0000   0.6414   0.6357   - 1.5886  \n",
      "\n",
      "Training 199    - 100    -            1.7727   0.0119   1.0000   1.0000   0.6586   0.6509   |            0.7477   1.0000   0.9818   0.6483   0.6327   - 1.5735  \n",
      "\u001b[1;4mValidati 199    - 100    -            1.7727   0.0119   0.5703   0.5536   0.0000   0.0000   |            0.7488   0.5859   0.5482   0.0000   0.0000   - 0.1057  \u001b[0m\n",
      "Training 200    - 100    -            1.7664   0.0119   1.0000   1.0000   0.6379   0.6384   |            0.7463   1.0000   1.0000   0.6310   0.6262   - 1.5776  \n"
     ]
    }
   ],
   "source": [
    "print(header)\n",
    "\n",
    "start_epoch = checkpoint.epoch_counter\n",
    "end_epoch = args.nb_epoch\n",
    "\n",
    "for e in range(start_epoch, args.nb_epoch):\n",
    "    train(e)\n",
    "    val(e)\n",
    "    \n",
    "    tensorboard.flush()"
   ]
  },
  {
   "cell_type": "markdown",
   "metadata": {},
   "source": [
    "## Save the hyper parameters and the metrics"
   ]
  },
  {
   "cell_type": "code",
   "execution_count": 51,
   "metadata": {},
   "outputs": [],
   "source": [
    "hparams = {}\n",
    "for key, value in args.__dict__.items():\n",
    "    hparams[key] = str(value)\n",
    "    \n",
    "final_metrics = {\n",
    "    \"max_student_acc\": maximum_tracker.max[\"student_acc\"],\n",
    "    \"max_teacher_acc\": maximum_tracker.max[\"teacher_acc\"],\n",
    "    \"max_student_f1\": maximum_tracker.max[\"student_f1\"],\n",
    "    \"max_teacher_f1\": maximum_tracker.max[\"teacher_f1\"],\n",
    "}\n",
    "\n",
    "tensorboard.add_hparams(hparams, final_metrics)\n",
    "tensorboard.flush()\n",
    "tensorboard.close()"
   ]
  },
  {
   "cell_type": "markdown",
   "metadata": {},
   "source": [
    "## display"
   ]
  },
  {
   "cell_type": "code",
   "execution_count": 52,
   "metadata": {},
   "outputs": [
    {
     "output_type": "display_data",
     "data": {
      "text/plain": "<Figure size 2160x1008 with 2 Axes>",
      "image/svg+xml": "<?xml version=\"1.0\" encoding=\"utf-8\" standalone=\"no\"?>\n<!DOCTYPE svg PUBLIC \"-//W3C//DTD SVG 1.1//EN\"\n  \"http://www.w3.org/Graphics/SVG/1.1/DTD/svg11.dtd\">\n<!-- Created with matplotlib (https://matplotlib.org/) -->\n<svg height=\"377.005398pt\" version=\"1.1\" viewBox=\"0 0 1711.303125 377.005398\" width=\"1711.303125pt\" xmlns=\"http://www.w3.org/2000/svg\" xmlns:xlink=\"http://www.w3.org/1999/xlink\">\n <defs>\n  <style type=\"text/css\">\n*{stroke-linecap:butt;stroke-linejoin:round;}\n  </style>\n </defs>\n <g id=\"figure_1\">\n  <g id=\"patch_1\">\n   <path d=\"M 0 377.005398 \nL 1711.303125 377.005398 \nL 1711.303125 -0 \nL 0 -0 \nz\n\" style=\"fill:none;\"/>\n  </g>\n  <g id=\"axes_1\">\n   <g id=\"patch_2\">\n    <path d=\"M 30.103125 353.127273 \nL 522.456066 353.127273 \nL 522.456066 7.2 \nL 30.103125 7.2 \nz\n\" style=\"fill:#ffffff;\"/>\n   </g>\n   <g id=\"matplotlib.axis_1\">\n    <g id=\"xtick_1\">\n     <g id=\"line2d_1\">\n      <defs>\n       <path d=\"M 0 0 \nL 0 3.5 \n\" id=\"m52c7acbc3f\" style=\"stroke:#000000;stroke-width:0.8;\"/>\n      </defs>\n      <g>\n       <use style=\"stroke:#000000;stroke-width:0.8;\" x=\"52.482804\" xlink:href=\"#m52c7acbc3f\" y=\"353.127273\"/>\n      </g>\n     </g>\n     <g id=\"text_1\">\n      <!-- 0 -->\n      <defs>\n       <path d=\"M 31.78125 66.40625 \nQ 24.171875 66.40625 20.328125 58.90625 \nQ 16.5 51.421875 16.5 36.375 \nQ 16.5 21.390625 20.328125 13.890625 \nQ 24.171875 6.390625 31.78125 6.390625 \nQ 39.453125 6.390625 43.28125 13.890625 \nQ 47.125 21.390625 47.125 36.375 \nQ 47.125 51.421875 43.28125 58.90625 \nQ 39.453125 66.40625 31.78125 66.40625 \nz\nM 31.78125 74.21875 \nQ 44.046875 74.21875 50.515625 64.515625 \nQ 56.984375 54.828125 56.984375 36.375 \nQ 56.984375 17.96875 50.515625 8.265625 \nQ 44.046875 -1.421875 31.78125 -1.421875 \nQ 19.53125 -1.421875 13.0625 8.265625 \nQ 6.59375 17.96875 6.59375 36.375 \nQ 6.59375 54.828125 13.0625 64.515625 \nQ 19.53125 74.21875 31.78125 74.21875 \nz\n\" id=\"DejaVuSans-48\"/>\n      </defs>\n      <g transform=\"translate(49.301554 367.72571)scale(0.1 -0.1)\">\n       <use xlink:href=\"#DejaVuSans-48\"/>\n      </g>\n     </g>\n    </g>\n    <g id=\"xtick_2\">\n     <g id=\"line2d_2\">\n      <g>\n       <use style=\"stroke:#000000;stroke-width:0.8;\" x=\"108.713154\" xlink:href=\"#m52c7acbc3f\" y=\"353.127273\"/>\n      </g>\n     </g>\n     <g id=\"text_2\">\n      <!-- 25 -->\n      <defs>\n       <path d=\"M 19.1875 8.296875 \nL 53.609375 8.296875 \nL 53.609375 0 \nL 7.328125 0 \nL 7.328125 8.296875 \nQ 12.9375 14.109375 22.625 23.890625 \nQ 32.328125 33.6875 34.8125 36.53125 \nQ 39.546875 41.84375 41.421875 45.53125 \nQ 43.3125 49.21875 43.3125 52.78125 \nQ 43.3125 58.59375 39.234375 62.25 \nQ 35.15625 65.921875 28.609375 65.921875 \nQ 23.96875 65.921875 18.8125 64.3125 \nQ 13.671875 62.703125 7.8125 59.421875 \nL 7.8125 69.390625 \nQ 13.765625 71.78125 18.9375 73 \nQ 24.125 74.21875 28.421875 74.21875 \nQ 39.75 74.21875 46.484375 68.546875 \nQ 53.21875 62.890625 53.21875 53.421875 \nQ 53.21875 48.921875 51.53125 44.890625 \nQ 49.859375 40.875 45.40625 35.40625 \nQ 44.1875 33.984375 37.640625 27.21875 \nQ 31.109375 20.453125 19.1875 8.296875 \nz\n\" id=\"DejaVuSans-50\"/>\n       <path d=\"M 10.796875 72.90625 \nL 49.515625 72.90625 \nL 49.515625 64.59375 \nL 19.828125 64.59375 \nL 19.828125 46.734375 \nQ 21.96875 47.46875 24.109375 47.828125 \nQ 26.265625 48.1875 28.421875 48.1875 \nQ 40.625 48.1875 47.75 41.5 \nQ 54.890625 34.8125 54.890625 23.390625 \nQ 54.890625 11.625 47.5625 5.09375 \nQ 40.234375 -1.421875 26.90625 -1.421875 \nQ 22.3125 -1.421875 17.546875 -0.640625 \nQ 12.796875 0.140625 7.71875 1.703125 \nL 7.71875 11.625 \nQ 12.109375 9.234375 16.796875 8.0625 \nQ 21.484375 6.890625 26.703125 6.890625 \nQ 35.15625 6.890625 40.078125 11.328125 \nQ 45.015625 15.765625 45.015625 23.390625 \nQ 45.015625 31 40.078125 35.4375 \nQ 35.15625 39.890625 26.703125 39.890625 \nQ 22.75 39.890625 18.8125 39.015625 \nQ 14.890625 38.140625 10.796875 36.28125 \nz\n\" id=\"DejaVuSans-53\"/>\n      </defs>\n      <g transform=\"translate(102.350654 367.72571)scale(0.1 -0.1)\">\n       <use xlink:href=\"#DejaVuSans-50\"/>\n       <use x=\"63.623047\" xlink:href=\"#DejaVuSans-53\"/>\n      </g>\n     </g>\n    </g>\n    <g id=\"xtick_3\">\n     <g id=\"line2d_3\">\n      <g>\n       <use style=\"stroke:#000000;stroke-width:0.8;\" x=\"164.943503\" xlink:href=\"#m52c7acbc3f\" y=\"353.127273\"/>\n      </g>\n     </g>\n     <g id=\"text_3\">\n      <!-- 50 -->\n      <g transform=\"translate(158.581003 367.72571)scale(0.1 -0.1)\">\n       <use xlink:href=\"#DejaVuSans-53\"/>\n       <use x=\"63.623047\" xlink:href=\"#DejaVuSans-48\"/>\n      </g>\n     </g>\n    </g>\n    <g id=\"xtick_4\">\n     <g id=\"line2d_4\">\n      <g>\n       <use style=\"stroke:#000000;stroke-width:0.8;\" x=\"221.173853\" xlink:href=\"#m52c7acbc3f\" y=\"353.127273\"/>\n      </g>\n     </g>\n     <g id=\"text_4\">\n      <!-- 75 -->\n      <defs>\n       <path d=\"M 8.203125 72.90625 \nL 55.078125 72.90625 \nL 55.078125 68.703125 \nL 28.609375 0 \nL 18.3125 0 \nL 43.21875 64.59375 \nL 8.203125 64.59375 \nz\n\" id=\"DejaVuSans-55\"/>\n      </defs>\n      <g transform=\"translate(214.811353 367.72571)scale(0.1 -0.1)\">\n       <use xlink:href=\"#DejaVuSans-55\"/>\n       <use x=\"63.623047\" xlink:href=\"#DejaVuSans-53\"/>\n      </g>\n     </g>\n    </g>\n    <g id=\"xtick_5\">\n     <g id=\"line2d_5\">\n      <g>\n       <use style=\"stroke:#000000;stroke-width:0.8;\" x=\"277.404203\" xlink:href=\"#m52c7acbc3f\" y=\"353.127273\"/>\n      </g>\n     </g>\n     <g id=\"text_5\">\n      <!-- 100 -->\n      <defs>\n       <path d=\"M 12.40625 8.296875 \nL 28.515625 8.296875 \nL 28.515625 63.921875 \nL 10.984375 60.40625 \nL 10.984375 69.390625 \nL 28.421875 72.90625 \nL 38.28125 72.90625 \nL 38.28125 8.296875 \nL 54.390625 8.296875 \nL 54.390625 0 \nL 12.40625 0 \nz\n\" id=\"DejaVuSans-49\"/>\n      </defs>\n      <g transform=\"translate(267.860453 367.72571)scale(0.1 -0.1)\">\n       <use xlink:href=\"#DejaVuSans-49\"/>\n       <use x=\"63.623047\" xlink:href=\"#DejaVuSans-48\"/>\n       <use x=\"127.246094\" xlink:href=\"#DejaVuSans-48\"/>\n      </g>\n     </g>\n    </g>\n    <g id=\"xtick_6\">\n     <g id=\"line2d_6\">\n      <g>\n       <use style=\"stroke:#000000;stroke-width:0.8;\" x=\"333.634552\" xlink:href=\"#m52c7acbc3f\" y=\"353.127273\"/>\n      </g>\n     </g>\n     <g id=\"text_6\">\n      <!-- 125 -->\n      <g transform=\"translate(324.090802 367.72571)scale(0.1 -0.1)\">\n       <use xlink:href=\"#DejaVuSans-49\"/>\n       <use x=\"63.623047\" xlink:href=\"#DejaVuSans-50\"/>\n       <use x=\"127.246094\" xlink:href=\"#DejaVuSans-53\"/>\n      </g>\n     </g>\n    </g>\n    <g id=\"xtick_7\">\n     <g id=\"line2d_7\">\n      <g>\n       <use style=\"stroke:#000000;stroke-width:0.8;\" x=\"389.864902\" xlink:href=\"#m52c7acbc3f\" y=\"353.127273\"/>\n      </g>\n     </g>\n     <g id=\"text_7\">\n      <!-- 150 -->\n      <g transform=\"translate(380.321152 367.72571)scale(0.1 -0.1)\">\n       <use xlink:href=\"#DejaVuSans-49\"/>\n       <use x=\"63.623047\" xlink:href=\"#DejaVuSans-53\"/>\n       <use x=\"127.246094\" xlink:href=\"#DejaVuSans-48\"/>\n      </g>\n     </g>\n    </g>\n    <g id=\"xtick_8\">\n     <g id=\"line2d_8\">\n      <g>\n       <use style=\"stroke:#000000;stroke-width:0.8;\" x=\"446.095251\" xlink:href=\"#m52c7acbc3f\" y=\"353.127273\"/>\n      </g>\n     </g>\n     <g id=\"text_8\">\n      <!-- 175 -->\n      <g transform=\"translate(436.551501 367.72571)scale(0.1 -0.1)\">\n       <use xlink:href=\"#DejaVuSans-49\"/>\n       <use x=\"63.623047\" xlink:href=\"#DejaVuSans-55\"/>\n       <use x=\"127.246094\" xlink:href=\"#DejaVuSans-53\"/>\n      </g>\n     </g>\n    </g>\n    <g id=\"xtick_9\">\n     <g id=\"line2d_9\">\n      <g>\n       <use style=\"stroke:#000000;stroke-width:0.8;\" x=\"502.325601\" xlink:href=\"#m52c7acbc3f\" y=\"353.127273\"/>\n      </g>\n     </g>\n     <g id=\"text_9\">\n      <!-- 200 -->\n      <g transform=\"translate(492.781851 367.72571)scale(0.1 -0.1)\">\n       <use xlink:href=\"#DejaVuSans-50\"/>\n       <use x=\"63.623047\" xlink:href=\"#DejaVuSans-48\"/>\n       <use x=\"127.246094\" xlink:href=\"#DejaVuSans-48\"/>\n      </g>\n     </g>\n    </g>\n   </g>\n   <g id=\"matplotlib.axis_2\">\n    <g id=\"ytick_1\">\n     <g id=\"line2d_10\">\n      <defs>\n       <path d=\"M 0 0 \nL -3.5 0 \n\" id=\"m7ca26c7801\" style=\"stroke:#000000;stroke-width:0.8;\"/>\n      </defs>\n      <g>\n       <use style=\"stroke:#000000;stroke-width:0.8;\" x=\"30.103125\" xlink:href=\"#m7ca26c7801\" y=\"302.729943\"/>\n      </g>\n     </g>\n     <g id=\"text_10\">\n      <!-- 0.2 -->\n      <defs>\n       <path d=\"M 10.6875 12.40625 \nL 21 12.40625 \nL 21 0 \nL 10.6875 0 \nz\n\" id=\"DejaVuSans-46\"/>\n      </defs>\n      <g transform=\"translate(7.2 306.529162)scale(0.1 -0.1)\">\n       <use xlink:href=\"#DejaVuSans-48\"/>\n       <use x=\"63.623047\" xlink:href=\"#DejaVuSans-46\"/>\n       <use x=\"95.410156\" xlink:href=\"#DejaVuSans-50\"/>\n      </g>\n     </g>\n    </g>\n    <g id=\"ytick_2\">\n     <g id=\"line2d_11\">\n      <g>\n       <use style=\"stroke:#000000;stroke-width:0.8;\" x=\"30.103125\" xlink:href=\"#m7ca26c7801\" y=\"251.123077\"/>\n      </g>\n     </g>\n     <g id=\"text_11\">\n      <!-- 0.3 -->\n      <defs>\n       <path d=\"M 40.578125 39.3125 \nQ 47.65625 37.796875 51.625 33 \nQ 55.609375 28.21875 55.609375 21.1875 \nQ 55.609375 10.40625 48.1875 4.484375 \nQ 40.765625 -1.421875 27.09375 -1.421875 \nQ 22.515625 -1.421875 17.65625 -0.515625 \nQ 12.796875 0.390625 7.625 2.203125 \nL 7.625 11.71875 \nQ 11.71875 9.328125 16.59375 8.109375 \nQ 21.484375 6.890625 26.8125 6.890625 \nQ 36.078125 6.890625 40.9375 10.546875 \nQ 45.796875 14.203125 45.796875 21.1875 \nQ 45.796875 27.640625 41.28125 31.265625 \nQ 36.765625 34.90625 28.71875 34.90625 \nL 20.21875 34.90625 \nL 20.21875 43.015625 \nL 29.109375 43.015625 \nQ 36.375 43.015625 40.234375 45.921875 \nQ 44.09375 48.828125 44.09375 54.296875 \nQ 44.09375 59.90625 40.109375 62.90625 \nQ 36.140625 65.921875 28.71875 65.921875 \nQ 24.65625 65.921875 20.015625 65.03125 \nQ 15.375 64.15625 9.8125 62.3125 \nL 9.8125 71.09375 \nQ 15.4375 72.65625 20.34375 73.4375 \nQ 25.25 74.21875 29.59375 74.21875 \nQ 40.828125 74.21875 47.359375 69.109375 \nQ 53.90625 64.015625 53.90625 55.328125 \nQ 53.90625 49.265625 50.4375 45.09375 \nQ 46.96875 40.921875 40.578125 39.3125 \nz\n\" id=\"DejaVuSans-51\"/>\n      </defs>\n      <g transform=\"translate(7.2 254.922296)scale(0.1 -0.1)\">\n       <use xlink:href=\"#DejaVuSans-48\"/>\n       <use x=\"63.623047\" xlink:href=\"#DejaVuSans-46\"/>\n       <use x=\"95.410156\" xlink:href=\"#DejaVuSans-51\"/>\n      </g>\n     </g>\n    </g>\n    <g id=\"ytick_3\">\n     <g id=\"line2d_12\">\n      <g>\n       <use style=\"stroke:#000000;stroke-width:0.8;\" x=\"30.103125\" xlink:href=\"#m7ca26c7801\" y=\"199.516211\"/>\n      </g>\n     </g>\n     <g id=\"text_12\">\n      <!-- 0.4 -->\n      <defs>\n       <path d=\"M 37.796875 64.3125 \nL 12.890625 25.390625 \nL 37.796875 25.390625 \nz\nM 35.203125 72.90625 \nL 47.609375 72.90625 \nL 47.609375 25.390625 \nL 58.015625 25.390625 \nL 58.015625 17.1875 \nL 47.609375 17.1875 \nL 47.609375 0 \nL 37.796875 0 \nL 37.796875 17.1875 \nL 4.890625 17.1875 \nL 4.890625 26.703125 \nz\n\" id=\"DejaVuSans-52\"/>\n      </defs>\n      <g transform=\"translate(7.2 203.31543)scale(0.1 -0.1)\">\n       <use xlink:href=\"#DejaVuSans-48\"/>\n       <use x=\"63.623047\" xlink:href=\"#DejaVuSans-46\"/>\n       <use x=\"95.410156\" xlink:href=\"#DejaVuSans-52\"/>\n      </g>\n     </g>\n    </g>\n    <g id=\"ytick_4\">\n     <g id=\"line2d_13\">\n      <g>\n       <use style=\"stroke:#000000;stroke-width:0.8;\" x=\"30.103125\" xlink:href=\"#m7ca26c7801\" y=\"147.909345\"/>\n      </g>\n     </g>\n     <g id=\"text_13\">\n      <!-- 0.5 -->\n      <g transform=\"translate(7.2 151.708564)scale(0.1 -0.1)\">\n       <use xlink:href=\"#DejaVuSans-48\"/>\n       <use x=\"63.623047\" xlink:href=\"#DejaVuSans-46\"/>\n       <use x=\"95.410156\" xlink:href=\"#DejaVuSans-53\"/>\n      </g>\n     </g>\n    </g>\n    <g id=\"ytick_5\">\n     <g id=\"line2d_14\">\n      <g>\n       <use style=\"stroke:#000000;stroke-width:0.8;\" x=\"30.103125\" xlink:href=\"#m7ca26c7801\" y=\"96.302479\"/>\n      </g>\n     </g>\n     <g id=\"text_14\">\n      <!-- 0.6 -->\n      <defs>\n       <path d=\"M 33.015625 40.375 \nQ 26.375 40.375 22.484375 35.828125 \nQ 18.609375 31.296875 18.609375 23.390625 \nQ 18.609375 15.53125 22.484375 10.953125 \nQ 26.375 6.390625 33.015625 6.390625 \nQ 39.65625 6.390625 43.53125 10.953125 \nQ 47.40625 15.53125 47.40625 23.390625 \nQ 47.40625 31.296875 43.53125 35.828125 \nQ 39.65625 40.375 33.015625 40.375 \nz\nM 52.59375 71.296875 \nL 52.59375 62.3125 \nQ 48.875 64.0625 45.09375 64.984375 \nQ 41.3125 65.921875 37.59375 65.921875 \nQ 27.828125 65.921875 22.671875 59.328125 \nQ 17.53125 52.734375 16.796875 39.40625 \nQ 19.671875 43.65625 24.015625 45.921875 \nQ 28.375 48.1875 33.59375 48.1875 \nQ 44.578125 48.1875 50.953125 41.515625 \nQ 57.328125 34.859375 57.328125 23.390625 \nQ 57.328125 12.15625 50.6875 5.359375 \nQ 44.046875 -1.421875 33.015625 -1.421875 \nQ 20.359375 -1.421875 13.671875 8.265625 \nQ 6.984375 17.96875 6.984375 36.375 \nQ 6.984375 53.65625 15.1875 63.9375 \nQ 23.390625 74.21875 37.203125 74.21875 \nQ 40.921875 74.21875 44.703125 73.484375 \nQ 48.484375 72.75 52.59375 71.296875 \nz\n\" id=\"DejaVuSans-54\"/>\n      </defs>\n      <g transform=\"translate(7.2 100.101698)scale(0.1 -0.1)\">\n       <use xlink:href=\"#DejaVuSans-48\"/>\n       <use x=\"63.623047\" xlink:href=\"#DejaVuSans-46\"/>\n       <use x=\"95.410156\" xlink:href=\"#DejaVuSans-54\"/>\n      </g>\n     </g>\n    </g>\n    <g id=\"ytick_6\">\n     <g id=\"line2d_15\">\n      <g>\n       <use style=\"stroke:#000000;stroke-width:0.8;\" x=\"30.103125\" xlink:href=\"#m7ca26c7801\" y=\"44.695613\"/>\n      </g>\n     </g>\n     <g id=\"text_15\">\n      <!-- 0.7 -->\n      <g transform=\"translate(7.2 48.494832)scale(0.1 -0.1)\">\n       <use xlink:href=\"#DejaVuSans-48\"/>\n       <use x=\"63.623047\" xlink:href=\"#DejaVuSans-46\"/>\n       <use x=\"95.410156\" xlink:href=\"#DejaVuSans-55\"/>\n      </g>\n     </g>\n    </g>\n   </g>\n   <g id=\"line2d_16\">\n    <path clip-path=\"url(#p705ebc2c88)\" d=\"M 52.482804 337.403306 \nL 54.732018 337.403306 \nL 56.981232 289.021869 \nL 61.47966 289.021869 \nL 63.728874 236.608646 \nL 65.978088 236.608646 \nL 68.227302 176.13185 \nL 83.9718 176.13185 \nL 86.221014 139.845772 \nL 88.470228 139.845772 \nL 90.719442 111.623268 \nL 95.21787 111.623268 \nL 97.467084 91.464336 \nL 115.460796 91.464336 \nL 117.71001 83.400763 \nL 203.180141 83.400763 \nL 205.429355 55.178258 \nL 275.154989 55.178258 \nL 277.404203 43.082899 \nL 284.151845 43.082899 \nL 286.401059 30.98754 \nL 500.076387 30.98754 \nL 500.076387 30.98754 \n\" style=\"fill:none;stroke:#1f77b4;stroke-linecap:square;stroke-width:1.5;\"/>\n   </g>\n   <g id=\"line2d_17\">\n    <path clip-path=\"url(#p705ebc2c88)\" d=\"M 52.482804 272.894723 \nL 56.981232 272.894723 \nL 59.230446 256.767578 \nL 61.47966 256.767578 \nL 63.728874 240.640432 \nL 65.978088 240.640432 \nL 68.227302 228.545073 \nL 70.476516 155.972918 \nL 101.965512 155.972918 \nL 104.214726 147.909345 \nL 108.713154 147.909345 \nL 110.962368 143.877559 \nL 122.208438 143.877559 \nL 124.457652 135.813986 \nL 137.952936 135.813986 \nL 140.20215 103.559695 \nL 160.445075 103.559695 \nL 162.694289 83.400763 \nL 167.192717 83.400763 \nL 169.441931 79.368976 \nL 207.678569 79.368976 \nL 209.927783 75.33719 \nL 250.413635 75.33719 \nL 252.662849 67.273617 \nL 266.158133 67.273617 \nL 268.407347 43.082899 \nL 365.123548 43.082899 \nL 367.372762 26.955753 \nL 419.104684 26.955753 \nL 421.353898 22.923967 \nL 500.076387 22.923967 \nL 500.076387 22.923967 \n\" style=\"fill:none;stroke:#ff7f0e;stroke-linecap:square;stroke-width:1.5;\"/>\n   </g>\n   <g id=\"patch_3\">\n    <path d=\"M 30.103125 353.127273 \nL 30.103125 7.2 \n\" style=\"fill:none;stroke:#000000;stroke-linecap:square;stroke-linejoin:miter;stroke-width:0.8;\"/>\n   </g>\n   <g id=\"patch_4\">\n    <path d=\"M 522.456066 353.127273 \nL 522.456066 7.2 \n\" style=\"fill:none;stroke:#000000;stroke-linecap:square;stroke-linejoin:miter;stroke-width:0.8;\"/>\n   </g>\n   <g id=\"patch_5\">\n    <path d=\"M 30.103125 353.127273 \nL 522.456066 353.127273 \n\" style=\"fill:none;stroke:#000000;stroke-linecap:square;stroke-linejoin:miter;stroke-width:0.8;\"/>\n   </g>\n   <g id=\"patch_6\">\n    <path d=\"M 30.103125 7.2 \nL 522.456066 7.2 \n\" style=\"fill:none;stroke:#000000;stroke-linecap:square;stroke-linejoin:miter;stroke-width:0.8;\"/>\n   </g>\n   <g id=\"legend_1\">\n    <g id=\"patch_7\">\n     <path d=\"M 37.103125 45.1125 \nL 223.5 45.1125 \nQ 225.5 45.1125 225.5 43.1125 \nL 225.5 14.2 \nQ 225.5 12.2 223.5 12.2 \nL 37.103125 12.2 \nQ 35.103125 12.2 35.103125 14.2 \nL 35.103125 43.1125 \nQ 35.103125 45.1125 37.103125 45.1125 \nz\n\" style=\"fill:#ffffff;opacity:0.8;stroke:#cccccc;stroke-linejoin:miter;\"/>\n    </g>\n    <g id=\"line2d_18\">\n     <path d=\"M 39.103125 20.298437 \nL 59.103125 20.298437 \n\" style=\"fill:none;stroke:#1f77b4;stroke-linecap:square;stroke-width:1.5;\"/>\n    </g>\n    <g id=\"line2d_19\"/>\n    <g id=\"text_16\">\n     <!-- max/student_acc = 0.7265625 -->\n     <defs>\n      <path d=\"M 52 44.1875 \nQ 55.375 50.25 60.0625 53.125 \nQ 64.75 56 71.09375 56 \nQ 79.640625 56 84.28125 50.015625 \nQ 88.921875 44.046875 88.921875 33.015625 \nL 88.921875 0 \nL 79.890625 0 \nL 79.890625 32.71875 \nQ 79.890625 40.578125 77.09375 44.375 \nQ 74.3125 48.1875 68.609375 48.1875 \nQ 61.625 48.1875 57.5625 43.546875 \nQ 53.515625 38.921875 53.515625 30.90625 \nL 53.515625 0 \nL 44.484375 0 \nL 44.484375 32.71875 \nQ 44.484375 40.625 41.703125 44.40625 \nQ 38.921875 48.1875 33.109375 48.1875 \nQ 26.21875 48.1875 22.15625 43.53125 \nQ 18.109375 38.875 18.109375 30.90625 \nL 18.109375 0 \nL 9.078125 0 \nL 9.078125 54.6875 \nL 18.109375 54.6875 \nL 18.109375 46.1875 \nQ 21.1875 51.21875 25.484375 53.609375 \nQ 29.78125 56 35.6875 56 \nQ 41.65625 56 45.828125 52.96875 \nQ 50 49.953125 52 44.1875 \nz\n\" id=\"DejaVuSans-109\"/>\n      <path d=\"M 34.28125 27.484375 \nQ 23.390625 27.484375 19.1875 25 \nQ 14.984375 22.515625 14.984375 16.5 \nQ 14.984375 11.71875 18.140625 8.90625 \nQ 21.296875 6.109375 26.703125 6.109375 \nQ 34.1875 6.109375 38.703125 11.40625 \nQ 43.21875 16.703125 43.21875 25.484375 \nL 43.21875 27.484375 \nz\nM 52.203125 31.203125 \nL 52.203125 0 \nL 43.21875 0 \nL 43.21875 8.296875 \nQ 40.140625 3.328125 35.546875 0.953125 \nQ 30.953125 -1.421875 24.3125 -1.421875 \nQ 15.921875 -1.421875 10.953125 3.296875 \nQ 6 8.015625 6 15.921875 \nQ 6 25.140625 12.171875 29.828125 \nQ 18.359375 34.515625 30.609375 34.515625 \nL 43.21875 34.515625 \nL 43.21875 35.40625 \nQ 43.21875 41.609375 39.140625 45 \nQ 35.0625 48.390625 27.6875 48.390625 \nQ 23 48.390625 18.546875 47.265625 \nQ 14.109375 46.140625 10.015625 43.890625 \nL 10.015625 52.203125 \nQ 14.9375 54.109375 19.578125 55.046875 \nQ 24.21875 56 28.609375 56 \nQ 40.484375 56 46.34375 49.84375 \nQ 52.203125 43.703125 52.203125 31.203125 \nz\n\" id=\"DejaVuSans-97\"/>\n      <path d=\"M 54.890625 54.6875 \nL 35.109375 28.078125 \nL 55.90625 0 \nL 45.3125 0 \nL 29.390625 21.484375 \nL 13.484375 0 \nL 2.875 0 \nL 24.125 28.609375 \nL 4.6875 54.6875 \nL 15.28125 54.6875 \nL 29.78125 35.203125 \nL 44.28125 54.6875 \nz\n\" id=\"DejaVuSans-120\"/>\n      <path d=\"M 25.390625 72.90625 \nL 33.6875 72.90625 \nL 8.296875 -9.28125 \nL 0 -9.28125 \nz\n\" id=\"DejaVuSans-47\"/>\n      <path d=\"M 44.28125 53.078125 \nL 44.28125 44.578125 \nQ 40.484375 46.53125 36.375 47.5 \nQ 32.28125 48.484375 27.875 48.484375 \nQ 21.1875 48.484375 17.84375 46.4375 \nQ 14.5 44.390625 14.5 40.28125 \nQ 14.5 37.15625 16.890625 35.375 \nQ 19.28125 33.59375 26.515625 31.984375 \nL 29.59375 31.296875 \nQ 39.15625 29.25 43.1875 25.515625 \nQ 47.21875 21.78125 47.21875 15.09375 \nQ 47.21875 7.46875 41.1875 3.015625 \nQ 35.15625 -1.421875 24.609375 -1.421875 \nQ 20.21875 -1.421875 15.453125 -0.5625 \nQ 10.6875 0.296875 5.421875 2 \nL 5.421875 11.28125 \nQ 10.40625 8.6875 15.234375 7.390625 \nQ 20.0625 6.109375 24.8125 6.109375 \nQ 31.15625 6.109375 34.5625 8.28125 \nQ 37.984375 10.453125 37.984375 14.40625 \nQ 37.984375 18.0625 35.515625 20.015625 \nQ 33.0625 21.96875 24.703125 23.78125 \nL 21.578125 24.515625 \nQ 13.234375 26.265625 9.515625 29.90625 \nQ 5.8125 33.546875 5.8125 39.890625 \nQ 5.8125 47.609375 11.28125 51.796875 \nQ 16.75 56 26.8125 56 \nQ 31.78125 56 36.171875 55.265625 \nQ 40.578125 54.546875 44.28125 53.078125 \nz\n\" id=\"DejaVuSans-115\"/>\n      <path d=\"M 18.3125 70.21875 \nL 18.3125 54.6875 \nL 36.8125 54.6875 \nL 36.8125 47.703125 \nL 18.3125 47.703125 \nL 18.3125 18.015625 \nQ 18.3125 11.328125 20.140625 9.421875 \nQ 21.96875 7.515625 27.59375 7.515625 \nL 36.8125 7.515625 \nL 36.8125 0 \nL 27.59375 0 \nQ 17.1875 0 13.234375 3.875 \nQ 9.28125 7.765625 9.28125 18.015625 \nL 9.28125 47.703125 \nL 2.6875 47.703125 \nL 2.6875 54.6875 \nL 9.28125 54.6875 \nL 9.28125 70.21875 \nz\n\" id=\"DejaVuSans-116\"/>\n      <path d=\"M 8.5 21.578125 \nL 8.5 54.6875 \nL 17.484375 54.6875 \nL 17.484375 21.921875 \nQ 17.484375 14.15625 20.5 10.265625 \nQ 23.53125 6.390625 29.59375 6.390625 \nQ 36.859375 6.390625 41.078125 11.03125 \nQ 45.3125 15.671875 45.3125 23.6875 \nL 45.3125 54.6875 \nL 54.296875 54.6875 \nL 54.296875 0 \nL 45.3125 0 \nL 45.3125 8.40625 \nQ 42.046875 3.421875 37.71875 1 \nQ 33.40625 -1.421875 27.6875 -1.421875 \nQ 18.265625 -1.421875 13.375 4.4375 \nQ 8.5 10.296875 8.5 21.578125 \nz\nM 31.109375 56 \nz\n\" id=\"DejaVuSans-117\"/>\n      <path d=\"M 45.40625 46.390625 \nL 45.40625 75.984375 \nL 54.390625 75.984375 \nL 54.390625 0 \nL 45.40625 0 \nL 45.40625 8.203125 \nQ 42.578125 3.328125 38.25 0.953125 \nQ 33.9375 -1.421875 27.875 -1.421875 \nQ 17.96875 -1.421875 11.734375 6.484375 \nQ 5.515625 14.40625 5.515625 27.296875 \nQ 5.515625 40.1875 11.734375 48.09375 \nQ 17.96875 56 27.875 56 \nQ 33.9375 56 38.25 53.625 \nQ 42.578125 51.265625 45.40625 46.390625 \nz\nM 14.796875 27.296875 \nQ 14.796875 17.390625 18.875 11.75 \nQ 22.953125 6.109375 30.078125 6.109375 \nQ 37.203125 6.109375 41.296875 11.75 \nQ 45.40625 17.390625 45.40625 27.296875 \nQ 45.40625 37.203125 41.296875 42.84375 \nQ 37.203125 48.484375 30.078125 48.484375 \nQ 22.953125 48.484375 18.875 42.84375 \nQ 14.796875 37.203125 14.796875 27.296875 \nz\n\" id=\"DejaVuSans-100\"/>\n      <path d=\"M 56.203125 29.59375 \nL 56.203125 25.203125 \nL 14.890625 25.203125 \nQ 15.484375 15.921875 20.484375 11.0625 \nQ 25.484375 6.203125 34.421875 6.203125 \nQ 39.59375 6.203125 44.453125 7.46875 \nQ 49.3125 8.734375 54.109375 11.28125 \nL 54.109375 2.78125 \nQ 49.265625 0.734375 44.1875 -0.34375 \nQ 39.109375 -1.421875 33.890625 -1.421875 \nQ 20.796875 -1.421875 13.15625 6.1875 \nQ 5.515625 13.8125 5.515625 26.8125 \nQ 5.515625 40.234375 12.765625 48.109375 \nQ 20.015625 56 32.328125 56 \nQ 43.359375 56 49.78125 48.890625 \nQ 56.203125 41.796875 56.203125 29.59375 \nz\nM 47.21875 32.234375 \nQ 47.125 39.59375 43.09375 43.984375 \nQ 39.0625 48.390625 32.421875 48.390625 \nQ 24.90625 48.390625 20.390625 44.140625 \nQ 15.875 39.890625 15.1875 32.171875 \nz\n\" id=\"DejaVuSans-101\"/>\n      <path d=\"M 54.890625 33.015625 \nL 54.890625 0 \nL 45.90625 0 \nL 45.90625 32.71875 \nQ 45.90625 40.484375 42.875 44.328125 \nQ 39.84375 48.1875 33.796875 48.1875 \nQ 26.515625 48.1875 22.3125 43.546875 \nQ 18.109375 38.921875 18.109375 30.90625 \nL 18.109375 0 \nL 9.078125 0 \nL 9.078125 54.6875 \nL 18.109375 54.6875 \nL 18.109375 46.1875 \nQ 21.34375 51.125 25.703125 53.5625 \nQ 30.078125 56 35.796875 56 \nQ 45.21875 56 50.046875 50.171875 \nQ 54.890625 44.34375 54.890625 33.015625 \nz\n\" id=\"DejaVuSans-110\"/>\n      <path d=\"M 50.984375 -16.609375 \nL 50.984375 -23.578125 \nL -0.984375 -23.578125 \nL -0.984375 -16.609375 \nz\n\" id=\"DejaVuSans-95\"/>\n      <path d=\"M 48.78125 52.59375 \nL 48.78125 44.1875 \nQ 44.96875 46.296875 41.140625 47.34375 \nQ 37.3125 48.390625 33.40625 48.390625 \nQ 24.65625 48.390625 19.8125 42.84375 \nQ 14.984375 37.3125 14.984375 27.296875 \nQ 14.984375 17.28125 19.8125 11.734375 \nQ 24.65625 6.203125 33.40625 6.203125 \nQ 37.3125 6.203125 41.140625 7.25 \nQ 44.96875 8.296875 48.78125 10.40625 \nL 48.78125 2.09375 \nQ 45.015625 0.34375 40.984375 -0.53125 \nQ 36.96875 -1.421875 32.421875 -1.421875 \nQ 20.0625 -1.421875 12.78125 6.34375 \nQ 5.515625 14.109375 5.515625 27.296875 \nQ 5.515625 40.671875 12.859375 48.328125 \nQ 20.21875 56 33.015625 56 \nQ 37.15625 56 41.109375 55.140625 \nQ 45.0625 54.296875 48.78125 52.59375 \nz\n\" id=\"DejaVuSans-99\"/>\n      <path id=\"DejaVuSans-32\"/>\n      <path d=\"M 10.59375 45.40625 \nL 73.1875 45.40625 \nL 73.1875 37.203125 \nL 10.59375 37.203125 \nz\nM 10.59375 25.484375 \nL 73.1875 25.484375 \nL 73.1875 17.1875 \nL 10.59375 17.1875 \nz\n\" id=\"DejaVuSans-61\"/>\n     </defs>\n     <g transform=\"translate(67.103125 23.798437)scale(0.1 -0.1)\">\n      <use xlink:href=\"#DejaVuSans-109\"/>\n      <use x=\"97.412109\" xlink:href=\"#DejaVuSans-97\"/>\n      <use x=\"158.691406\" xlink:href=\"#DejaVuSans-120\"/>\n      <use x=\"217.871094\" xlink:href=\"#DejaVuSans-47\"/>\n      <use x=\"251.5625\" xlink:href=\"#DejaVuSans-115\"/>\n      <use x=\"303.662109\" xlink:href=\"#DejaVuSans-116\"/>\n      <use x=\"342.871094\" xlink:href=\"#DejaVuSans-117\"/>\n      <use x=\"406.25\" xlink:href=\"#DejaVuSans-100\"/>\n      <use x=\"469.726562\" xlink:href=\"#DejaVuSans-101\"/>\n      <use x=\"531.25\" xlink:href=\"#DejaVuSans-110\"/>\n      <use x=\"594.628906\" xlink:href=\"#DejaVuSans-116\"/>\n      <use x=\"633.837891\" xlink:href=\"#DejaVuSans-95\"/>\n      <use x=\"683.837891\" xlink:href=\"#DejaVuSans-97\"/>\n      <use x=\"745.117188\" xlink:href=\"#DejaVuSans-99\"/>\n      <use x=\"800.097656\" xlink:href=\"#DejaVuSans-99\"/>\n      <use x=\"855.078125\" xlink:href=\"#DejaVuSans-32\"/>\n      <use x=\"886.865234\" xlink:href=\"#DejaVuSans-61\"/>\n      <use x=\"970.654297\" xlink:href=\"#DejaVuSans-32\"/>\n      <use x=\"1002.441406\" xlink:href=\"#DejaVuSans-48\"/>\n      <use x=\"1066.064453\" xlink:href=\"#DejaVuSans-46\"/>\n      <use x=\"1097.851562\" xlink:href=\"#DejaVuSans-55\"/>\n      <use x=\"1161.474609\" xlink:href=\"#DejaVuSans-50\"/>\n      <use x=\"1225.097656\" xlink:href=\"#DejaVuSans-54\"/>\n      <use x=\"1288.720703\" xlink:href=\"#DejaVuSans-53\"/>\n      <use x=\"1352.34375\" xlink:href=\"#DejaVuSans-54\"/>\n      <use x=\"1415.966797\" xlink:href=\"#DejaVuSans-50\"/>\n      <use x=\"1479.589844\" xlink:href=\"#DejaVuSans-53\"/>\n     </g>\n    </g>\n    <g id=\"line2d_20\">\n     <path d=\"M 39.103125 35.254687 \nL 59.103125 35.254687 \n\" style=\"fill:none;stroke:#ff7f0e;stroke-linecap:square;stroke-width:1.5;\"/>\n    </g>\n    <g id=\"line2d_21\"/>\n    <g id=\"text_17\">\n     <!-- max/teacher_acc = 0.7421875 -->\n     <defs>\n      <path d=\"M 54.890625 33.015625 \nL 54.890625 0 \nL 45.90625 0 \nL 45.90625 32.71875 \nQ 45.90625 40.484375 42.875 44.328125 \nQ 39.84375 48.1875 33.796875 48.1875 \nQ 26.515625 48.1875 22.3125 43.546875 \nQ 18.109375 38.921875 18.109375 30.90625 \nL 18.109375 0 \nL 9.078125 0 \nL 9.078125 75.984375 \nL 18.109375 75.984375 \nL 18.109375 46.1875 \nQ 21.34375 51.125 25.703125 53.5625 \nQ 30.078125 56 35.796875 56 \nQ 45.21875 56 50.046875 50.171875 \nQ 54.890625 44.34375 54.890625 33.015625 \nz\n\" id=\"DejaVuSans-104\"/>\n      <path d=\"M 41.109375 46.296875 \nQ 39.59375 47.171875 37.8125 47.578125 \nQ 36.03125 48 33.890625 48 \nQ 26.265625 48 22.1875 43.046875 \nQ 18.109375 38.09375 18.109375 28.8125 \nL 18.109375 0 \nL 9.078125 0 \nL 9.078125 54.6875 \nL 18.109375 54.6875 \nL 18.109375 46.1875 \nQ 20.953125 51.171875 25.484375 53.578125 \nQ 30.03125 56 36.53125 56 \nQ 37.453125 56 38.578125 55.875 \nQ 39.703125 55.765625 41.0625 55.515625 \nz\n\" id=\"DejaVuSans-114\"/>\n      <path d=\"M 31.78125 34.625 \nQ 24.75 34.625 20.71875 30.859375 \nQ 16.703125 27.09375 16.703125 20.515625 \nQ 16.703125 13.921875 20.71875 10.15625 \nQ 24.75 6.390625 31.78125 6.390625 \nQ 38.8125 6.390625 42.859375 10.171875 \nQ 46.921875 13.96875 46.921875 20.515625 \nQ 46.921875 27.09375 42.890625 30.859375 \nQ 38.875 34.625 31.78125 34.625 \nz\nM 21.921875 38.8125 \nQ 15.578125 40.375 12.03125 44.71875 \nQ 8.5 49.078125 8.5 55.328125 \nQ 8.5 64.0625 14.71875 69.140625 \nQ 20.953125 74.21875 31.78125 74.21875 \nQ 42.671875 74.21875 48.875 69.140625 \nQ 55.078125 64.0625 55.078125 55.328125 \nQ 55.078125 49.078125 51.53125 44.71875 \nQ 48 40.375 41.703125 38.8125 \nQ 48.828125 37.15625 52.796875 32.3125 \nQ 56.78125 27.484375 56.78125 20.515625 \nQ 56.78125 9.90625 50.3125 4.234375 \nQ 43.84375 -1.421875 31.78125 -1.421875 \nQ 19.734375 -1.421875 13.25 4.234375 \nQ 6.78125 9.90625 6.78125 20.515625 \nQ 6.78125 27.484375 10.78125 32.3125 \nQ 14.796875 37.15625 21.921875 38.8125 \nz\nM 18.3125 54.390625 \nQ 18.3125 48.734375 21.84375 45.5625 \nQ 25.390625 42.390625 31.78125 42.390625 \nQ 38.140625 42.390625 41.71875 45.5625 \nQ 45.3125 48.734375 45.3125 54.390625 \nQ 45.3125 60.0625 41.71875 63.234375 \nQ 38.140625 66.40625 31.78125 66.40625 \nQ 25.390625 66.40625 21.84375 63.234375 \nQ 18.3125 60.0625 18.3125 54.390625 \nz\n\" id=\"DejaVuSans-56\"/>\n     </defs>\n     <g transform=\"translate(67.103125 38.754687)scale(0.1 -0.1)\">\n      <use xlink:href=\"#DejaVuSans-109\"/>\n      <use x=\"97.412109\" xlink:href=\"#DejaVuSans-97\"/>\n      <use x=\"158.691406\" xlink:href=\"#DejaVuSans-120\"/>\n      <use x=\"217.871094\" xlink:href=\"#DejaVuSans-47\"/>\n      <use x=\"251.5625\" xlink:href=\"#DejaVuSans-116\"/>\n      <use x=\"290.771484\" xlink:href=\"#DejaVuSans-101\"/>\n      <use x=\"352.294922\" xlink:href=\"#DejaVuSans-97\"/>\n      <use x=\"413.574219\" xlink:href=\"#DejaVuSans-99\"/>\n      <use x=\"468.554688\" xlink:href=\"#DejaVuSans-104\"/>\n      <use x=\"531.933594\" xlink:href=\"#DejaVuSans-101\"/>\n      <use x=\"593.457031\" xlink:href=\"#DejaVuSans-114\"/>\n      <use x=\"634.570312\" xlink:href=\"#DejaVuSans-95\"/>\n      <use x=\"684.570312\" xlink:href=\"#DejaVuSans-97\"/>\n      <use x=\"745.849609\" xlink:href=\"#DejaVuSans-99\"/>\n      <use x=\"800.830078\" xlink:href=\"#DejaVuSans-99\"/>\n      <use x=\"855.810547\" xlink:href=\"#DejaVuSans-32\"/>\n      <use x=\"887.597656\" xlink:href=\"#DejaVuSans-61\"/>\n      <use x=\"971.386719\" xlink:href=\"#DejaVuSans-32\"/>\n      <use x=\"1003.173828\" xlink:href=\"#DejaVuSans-48\"/>\n      <use x=\"1066.796875\" xlink:href=\"#DejaVuSans-46\"/>\n      <use x=\"1098.583984\" xlink:href=\"#DejaVuSans-55\"/>\n      <use x=\"1162.207031\" xlink:href=\"#DejaVuSans-52\"/>\n      <use x=\"1225.830078\" xlink:href=\"#DejaVuSans-50\"/>\n      <use x=\"1289.453125\" xlink:href=\"#DejaVuSans-49\"/>\n      <use x=\"1353.076172\" xlink:href=\"#DejaVuSans-56\"/>\n      <use x=\"1416.699219\" xlink:href=\"#DejaVuSans-55\"/>\n      <use x=\"1480.322266\" xlink:href=\"#DejaVuSans-53\"/>\n     </g>\n    </g>\n   </g>\n  </g>\n  <g id=\"axes_2\">\n   <g id=\"patch_8\">\n    <path d=\"M 1211.750184 353.127273 \nL 1704.103125 353.127273 \nL 1704.103125 7.2 \nL 1211.750184 7.2 \nz\n\" style=\"fill:#ffffff;\"/>\n   </g>\n   <g id=\"matplotlib.axis_3\">\n    <g id=\"xtick_10\">\n     <g id=\"line2d_22\">\n      <g>\n       <use style=\"stroke:#000000;stroke-width:0.8;\" x=\"1234.129863\" xlink:href=\"#m52c7acbc3f\" y=\"353.127273\"/>\n      </g>\n     </g>\n     <g id=\"text_18\">\n      <!-- 0 -->\n      <g transform=\"translate(1230.948613 367.72571)scale(0.1 -0.1)\">\n       <use xlink:href=\"#DejaVuSans-48\"/>\n      </g>\n     </g>\n    </g>\n    <g id=\"xtick_11\">\n     <g id=\"line2d_23\">\n      <g>\n       <use style=\"stroke:#000000;stroke-width:0.8;\" x=\"1290.360213\" xlink:href=\"#m52c7acbc3f\" y=\"353.127273\"/>\n      </g>\n     </g>\n     <g id=\"text_19\">\n      <!-- 25 -->\n      <g transform=\"translate(1283.997713 367.72571)scale(0.1 -0.1)\">\n       <use xlink:href=\"#DejaVuSans-50\"/>\n       <use x=\"63.623047\" xlink:href=\"#DejaVuSans-53\"/>\n      </g>\n     </g>\n    </g>\n    <g id=\"xtick_12\">\n     <g id=\"line2d_24\">\n      <g>\n       <use style=\"stroke:#000000;stroke-width:0.8;\" x=\"1346.590562\" xlink:href=\"#m52c7acbc3f\" y=\"353.127273\"/>\n      </g>\n     </g>\n     <g id=\"text_20\">\n      <!-- 50 -->\n      <g transform=\"translate(1340.228062 367.72571)scale(0.1 -0.1)\">\n       <use xlink:href=\"#DejaVuSans-53\"/>\n       <use x=\"63.623047\" xlink:href=\"#DejaVuSans-48\"/>\n      </g>\n     </g>\n    </g>\n    <g id=\"xtick_13\">\n     <g id=\"line2d_25\">\n      <g>\n       <use style=\"stroke:#000000;stroke-width:0.8;\" x=\"1402.820912\" xlink:href=\"#m52c7acbc3f\" y=\"353.127273\"/>\n      </g>\n     </g>\n     <g id=\"text_21\">\n      <!-- 75 -->\n      <g transform=\"translate(1396.458412 367.72571)scale(0.1 -0.1)\">\n       <use xlink:href=\"#DejaVuSans-55\"/>\n       <use x=\"63.623047\" xlink:href=\"#DejaVuSans-53\"/>\n      </g>\n     </g>\n    </g>\n    <g id=\"xtick_14\">\n     <g id=\"line2d_26\">\n      <g>\n       <use style=\"stroke:#000000;stroke-width:0.8;\" x=\"1459.051261\" xlink:href=\"#m52c7acbc3f\" y=\"353.127273\"/>\n      </g>\n     </g>\n     <g id=\"text_22\">\n      <!-- 100 -->\n      <g transform=\"translate(1449.507511 367.72571)scale(0.1 -0.1)\">\n       <use xlink:href=\"#DejaVuSans-49\"/>\n       <use x=\"63.623047\" xlink:href=\"#DejaVuSans-48\"/>\n       <use x=\"127.246094\" xlink:href=\"#DejaVuSans-48\"/>\n      </g>\n     </g>\n    </g>\n    <g id=\"xtick_15\">\n     <g id=\"line2d_27\">\n      <g>\n       <use style=\"stroke:#000000;stroke-width:0.8;\" x=\"1515.281611\" xlink:href=\"#m52c7acbc3f\" y=\"353.127273\"/>\n      </g>\n     </g>\n     <g id=\"text_23\">\n      <!-- 125 -->\n      <g transform=\"translate(1505.737861 367.72571)scale(0.1 -0.1)\">\n       <use xlink:href=\"#DejaVuSans-49\"/>\n       <use x=\"63.623047\" xlink:href=\"#DejaVuSans-50\"/>\n       <use x=\"127.246094\" xlink:href=\"#DejaVuSans-53\"/>\n      </g>\n     </g>\n    </g>\n    <g id=\"xtick_16\">\n     <g id=\"line2d_28\">\n      <g>\n       <use style=\"stroke:#000000;stroke-width:0.8;\" x=\"1571.511961\" xlink:href=\"#m52c7acbc3f\" y=\"353.127273\"/>\n      </g>\n     </g>\n     <g id=\"text_24\">\n      <!-- 150 -->\n      <g transform=\"translate(1561.968211 367.72571)scale(0.1 -0.1)\">\n       <use xlink:href=\"#DejaVuSans-49\"/>\n       <use x=\"63.623047\" xlink:href=\"#DejaVuSans-53\"/>\n       <use x=\"127.246094\" xlink:href=\"#DejaVuSans-48\"/>\n      </g>\n     </g>\n    </g>\n    <g id=\"xtick_17\">\n     <g id=\"line2d_29\">\n      <g>\n       <use style=\"stroke:#000000;stroke-width:0.8;\" x=\"1627.74231\" xlink:href=\"#m52c7acbc3f\" y=\"353.127273\"/>\n      </g>\n     </g>\n     <g id=\"text_25\">\n      <!-- 175 -->\n      <g transform=\"translate(1618.19856 367.72571)scale(0.1 -0.1)\">\n       <use xlink:href=\"#DejaVuSans-49\"/>\n       <use x=\"63.623047\" xlink:href=\"#DejaVuSans-55\"/>\n       <use x=\"127.246094\" xlink:href=\"#DejaVuSans-53\"/>\n      </g>\n     </g>\n    </g>\n    <g id=\"xtick_18\">\n     <g id=\"line2d_30\">\n      <g>\n       <use style=\"stroke:#000000;stroke-width:0.8;\" x=\"1683.97266\" xlink:href=\"#m52c7acbc3f\" y=\"353.127273\"/>\n      </g>\n     </g>\n     <g id=\"text_26\">\n      <!-- 200 -->\n      <g transform=\"translate(1674.42891 367.72571)scale(0.1 -0.1)\">\n       <use xlink:href=\"#DejaVuSans-50\"/>\n       <use x=\"63.623047\" xlink:href=\"#DejaVuSans-48\"/>\n       <use x=\"127.246094\" xlink:href=\"#DejaVuSans-48\"/>\n      </g>\n     </g>\n    </g>\n   </g>\n   <g id=\"matplotlib.axis_4\">\n    <g id=\"ytick_7\">\n     <g id=\"line2d_31\">\n      <g>\n       <use style=\"stroke:#000000;stroke-width:0.8;\" x=\"1211.750184\" xlink:href=\"#m7ca26c7801\" y=\"337.480913\"/>\n      </g>\n     </g>\n     <g id=\"text_27\">\n      <!-- 0.0000 -->\n      <g transform=\"translate(1169.759559 341.280132)scale(0.1 -0.1)\">\n       <use xlink:href=\"#DejaVuSans-48\"/>\n       <use x=\"63.623047\" xlink:href=\"#DejaVuSans-46\"/>\n       <use x=\"95.410156\" xlink:href=\"#DejaVuSans-48\"/>\n       <use x=\"159.033203\" xlink:href=\"#DejaVuSans-48\"/>\n       <use x=\"222.65625\" xlink:href=\"#DejaVuSans-48\"/>\n       <use x=\"286.279297\" xlink:href=\"#DejaVuSans-48\"/>\n      </g>\n     </g>\n    </g>\n    <g id=\"ytick_8\">\n     <g id=\"line2d_32\">\n      <g>\n       <use style=\"stroke:#000000;stroke-width:0.8;\" x=\"1211.750184\" xlink:href=\"#m7ca26c7801\" y=\"285.054756\"/>\n      </g>\n     </g>\n     <g id=\"text_28\">\n      <!-- 0.0005 -->\n      <g transform=\"translate(1169.759559 288.853974)scale(0.1 -0.1)\">\n       <use xlink:href=\"#DejaVuSans-48\"/>\n       <use x=\"63.623047\" xlink:href=\"#DejaVuSans-46\"/>\n       <use x=\"95.410156\" xlink:href=\"#DejaVuSans-48\"/>\n       <use x=\"159.033203\" xlink:href=\"#DejaVuSans-48\"/>\n       <use x=\"222.65625\" xlink:href=\"#DejaVuSans-48\"/>\n       <use x=\"286.279297\" xlink:href=\"#DejaVuSans-53\"/>\n      </g>\n     </g>\n    </g>\n    <g id=\"ytick_9\">\n     <g id=\"line2d_33\">\n      <g>\n       <use style=\"stroke:#000000;stroke-width:0.8;\" x=\"1211.750184\" xlink:href=\"#m7ca26c7801\" y=\"232.628598\"/>\n      </g>\n     </g>\n     <g id=\"text_29\">\n      <!-- 0.0010 -->\n      <g transform=\"translate(1169.759559 236.427817)scale(0.1 -0.1)\">\n       <use xlink:href=\"#DejaVuSans-48\"/>\n       <use x=\"63.623047\" xlink:href=\"#DejaVuSans-46\"/>\n       <use x=\"95.410156\" xlink:href=\"#DejaVuSans-48\"/>\n       <use x=\"159.033203\" xlink:href=\"#DejaVuSans-48\"/>\n       <use x=\"222.65625\" xlink:href=\"#DejaVuSans-49\"/>\n       <use x=\"286.279297\" xlink:href=\"#DejaVuSans-48\"/>\n      </g>\n     </g>\n    </g>\n    <g id=\"ytick_10\">\n     <g id=\"line2d_34\">\n      <g>\n       <use style=\"stroke:#000000;stroke-width:0.8;\" x=\"1211.750184\" xlink:href=\"#m7ca26c7801\" y=\"180.20244\"/>\n      </g>\n     </g>\n     <g id=\"text_30\">\n      <!-- 0.0015 -->\n      <g transform=\"translate(1169.759559 184.001659)scale(0.1 -0.1)\">\n       <use xlink:href=\"#DejaVuSans-48\"/>\n       <use x=\"63.623047\" xlink:href=\"#DejaVuSans-46\"/>\n       <use x=\"95.410156\" xlink:href=\"#DejaVuSans-48\"/>\n       <use x=\"159.033203\" xlink:href=\"#DejaVuSans-48\"/>\n       <use x=\"222.65625\" xlink:href=\"#DejaVuSans-49\"/>\n       <use x=\"286.279297\" xlink:href=\"#DejaVuSans-53\"/>\n      </g>\n     </g>\n    </g>\n    <g id=\"ytick_11\">\n     <g id=\"line2d_35\">\n      <g>\n       <use style=\"stroke:#000000;stroke-width:0.8;\" x=\"1211.750184\" xlink:href=\"#m7ca26c7801\" y=\"127.776282\"/>\n      </g>\n     </g>\n     <g id=\"text_31\">\n      <!-- 0.0020 -->\n      <g transform=\"translate(1169.759559 131.575501)scale(0.1 -0.1)\">\n       <use xlink:href=\"#DejaVuSans-48\"/>\n       <use x=\"63.623047\" xlink:href=\"#DejaVuSans-46\"/>\n       <use x=\"95.410156\" xlink:href=\"#DejaVuSans-48\"/>\n       <use x=\"159.033203\" xlink:href=\"#DejaVuSans-48\"/>\n       <use x=\"222.65625\" xlink:href=\"#DejaVuSans-50\"/>\n       <use x=\"286.279297\" xlink:href=\"#DejaVuSans-48\"/>\n      </g>\n     </g>\n    </g>\n    <g id=\"ytick_12\">\n     <g id=\"line2d_36\">\n      <g>\n       <use style=\"stroke:#000000;stroke-width:0.8;\" x=\"1211.750184\" xlink:href=\"#m7ca26c7801\" y=\"75.350125\"/>\n      </g>\n     </g>\n     <g id=\"text_32\">\n      <!-- 0.0025 -->\n      <g transform=\"translate(1169.759559 79.149343)scale(0.1 -0.1)\">\n       <use xlink:href=\"#DejaVuSans-48\"/>\n       <use x=\"63.623047\" xlink:href=\"#DejaVuSans-46\"/>\n       <use x=\"95.410156\" xlink:href=\"#DejaVuSans-48\"/>\n       <use x=\"159.033203\" xlink:href=\"#DejaVuSans-48\"/>\n       <use x=\"222.65625\" xlink:href=\"#DejaVuSans-50\"/>\n       <use x=\"286.279297\" xlink:href=\"#DejaVuSans-53\"/>\n      </g>\n     </g>\n    </g>\n    <g id=\"ytick_13\">\n     <g id=\"line2d_37\">\n      <g>\n       <use style=\"stroke:#000000;stroke-width:0.8;\" x=\"1211.750184\" xlink:href=\"#m7ca26c7801\" y=\"22.923967\"/>\n      </g>\n     </g>\n     <g id=\"text_33\">\n      <!-- 0.0030 -->\n      <g transform=\"translate(1169.759559 26.723186)scale(0.1 -0.1)\">\n       <use xlink:href=\"#DejaVuSans-48\"/>\n       <use x=\"63.623047\" xlink:href=\"#DejaVuSans-46\"/>\n       <use x=\"95.410156\" xlink:href=\"#DejaVuSans-48\"/>\n       <use x=\"159.033203\" xlink:href=\"#DejaVuSans-48\"/>\n       <use x=\"222.65625\" xlink:href=\"#DejaVuSans-51\"/>\n       <use x=\"286.279297\" xlink:href=\"#DejaVuSans-48\"/>\n      </g>\n     </g>\n    </g>\n   </g>\n   <g id=\"line2d_38\">\n    <path clip-path=\"url(#p0d814d385f)\" d=\"M 1234.129863 22.94337 \nL 1238.628291 22.94337 \nL 1243.126719 23.098566 \nL 1247.625147 23.408804 \nL 1252.123575 23.873779 \nL 1256.622003 24.493031 \nL 1261.120431 25.265949 \nL 1265.618859 26.191772 \nL 1272.366501 27.865159 \nL 1279.114143 29.876774 \nL 1285.861785 32.222149 \nL 1292.609427 34.896078 \nL 1299.357069 37.892623 \nL 1306.10471 41.205131 \nL 1312.852352 44.826248 \nL 1319.599994 48.747934 \nL 1326.347636 52.961482 \nL 1333.095278 57.457537 \nL 1339.84292 62.226116 \nL 1346.590562 67.256632 \nL 1353.338204 72.537916 \nL 1360.085846 78.058243 \nL 1366.833488 83.805355 \nL 1375.830344 91.798825 \nL 1384.8272 100.141183 \nL 1393.824056 108.799507 \nL 1402.820912 117.739626 \nL 1414.066982 129.257203 \nL 1425.313052 141.088874 \nL 1438.808336 155.598666 \nL 1459.051261 177.732017 \nL 1486.041829 207.243186 \nL 1499.537113 221.70399 \nL 1510.783183 233.478623 \nL 1522.029253 244.92479 \nL 1531.026109 253.797727 \nL 1540.022965 262.380217 \nL 1549.019821 270.638388 \nL 1558.016677 278.53965 \nL 1564.764319 284.212561 \nL 1571.511961 289.654542 \nL 1578.259603 294.853513 \nL 1585.007245 299.797929 \nL 1591.754886 304.476814 \nL 1598.502528 308.879778 \nL 1605.25017 312.997047 \nL 1611.997812 316.819478 \nL 1618.745454 320.338586 \nL 1625.493096 323.546556 \nL 1632.240738 326.436266 \nL 1638.98838 329.001301 \nL 1645.736022 331.235965 \nL 1652.483664 333.135296 \nL 1659.231306 334.695079 \nL 1663.729734 335.544554 \nL 1668.228162 336.240725 \nL 1672.72659 336.782906 \nL 1677.225018 337.17056 \nL 1681.723446 337.403306 \nL 1681.723446 337.403306 \n\" style=\"fill:none;stroke:#1f77b4;stroke-linecap:square;stroke-width:1.5;\"/>\n   </g>\n   <g id=\"patch_9\">\n    <path d=\"M 1211.750184 353.127273 \nL 1211.750184 7.2 \n\" style=\"fill:none;stroke:#000000;stroke-linecap:square;stroke-linejoin:miter;stroke-width:0.8;\"/>\n   </g>\n   <g id=\"patch_10\">\n    <path d=\"M 1704.103125 353.127273 \nL 1704.103125 7.2 \n\" style=\"fill:none;stroke:#000000;stroke-linecap:square;stroke-linejoin:miter;stroke-width:0.8;\"/>\n   </g>\n   <g id=\"patch_11\">\n    <path d=\"M 1211.750184 353.127273 \nL 1704.103125 353.127273 \n\" style=\"fill:none;stroke:#000000;stroke-linecap:square;stroke-linejoin:miter;stroke-width:0.8;\"/>\n   </g>\n   <g id=\"patch_12\">\n    <path d=\"M 1211.750184 7.2 \nL 1704.103125 7.2 \n\" style=\"fill:none;stroke:#000000;stroke-linecap:square;stroke-linejoin:miter;stroke-width:0.8;\"/>\n   </g>\n   <g id=\"legend_2\">\n    <g id=\"patch_13\">\n     <path d=\"M 1465.215625 30.15625 \nL 1697.103125 30.15625 \nQ 1699.103125 30.15625 1699.103125 28.15625 \nL 1699.103125 14.2 \nQ 1699.103125 12.2 1697.103125 12.2 \nL 1465.215625 12.2 \nQ 1463.215625 12.2 1463.215625 14.2 \nL 1463.215625 28.15625 \nQ 1463.215625 30.15625 1465.215625 30.15625 \nz\n\" style=\"fill:#ffffff;opacity:0.8;stroke:#cccccc;stroke-linejoin:miter;\"/>\n    </g>\n    <g id=\"line2d_39\">\n     <path d=\"M 1467.215625 20.298437 \nL 1487.215625 20.298437 \n\" style=\"fill:none;stroke:#1f77b4;stroke-linecap:square;stroke-width:1.5;\"/>\n    </g>\n    <g id=\"line2d_40\"/>\n    <g id=\"text_34\">\n     <!-- hyperparameters/learning_rate = 0.003 -->\n     <defs>\n      <path d=\"M 32.171875 -5.078125 \nQ 28.375 -14.84375 24.75 -17.8125 \nQ 21.140625 -20.796875 15.09375 -20.796875 \nL 7.90625 -20.796875 \nL 7.90625 -13.28125 \nL 13.1875 -13.28125 \nQ 16.890625 -13.28125 18.9375 -11.515625 \nQ 21 -9.765625 23.484375 -3.21875 \nL 25.09375 0.875 \nL 2.984375 54.6875 \nL 12.5 54.6875 \nL 29.59375 11.921875 \nL 46.6875 54.6875 \nL 56.203125 54.6875 \nz\n\" id=\"DejaVuSans-121\"/>\n      <path d=\"M 18.109375 8.203125 \nL 18.109375 -20.796875 \nL 9.078125 -20.796875 \nL 9.078125 54.6875 \nL 18.109375 54.6875 \nL 18.109375 46.390625 \nQ 20.953125 51.265625 25.265625 53.625 \nQ 29.59375 56 35.59375 56 \nQ 45.5625 56 51.78125 48.09375 \nQ 58.015625 40.1875 58.015625 27.296875 \nQ 58.015625 14.40625 51.78125 6.484375 \nQ 45.5625 -1.421875 35.59375 -1.421875 \nQ 29.59375 -1.421875 25.265625 0.953125 \nQ 20.953125 3.328125 18.109375 8.203125 \nz\nM 48.6875 27.296875 \nQ 48.6875 37.203125 44.609375 42.84375 \nQ 40.53125 48.484375 33.40625 48.484375 \nQ 26.265625 48.484375 22.1875 42.84375 \nQ 18.109375 37.203125 18.109375 27.296875 \nQ 18.109375 17.390625 22.1875 11.75 \nQ 26.265625 6.109375 33.40625 6.109375 \nQ 40.53125 6.109375 44.609375 11.75 \nQ 48.6875 17.390625 48.6875 27.296875 \nz\n\" id=\"DejaVuSans-112\"/>\n      <path d=\"M 9.421875 75.984375 \nL 18.40625 75.984375 \nL 18.40625 0 \nL 9.421875 0 \nz\n\" id=\"DejaVuSans-108\"/>\n      <path d=\"M 9.421875 54.6875 \nL 18.40625 54.6875 \nL 18.40625 0 \nL 9.421875 0 \nz\nM 9.421875 75.984375 \nL 18.40625 75.984375 \nL 18.40625 64.59375 \nL 9.421875 64.59375 \nz\n\" id=\"DejaVuSans-105\"/>\n      <path d=\"M 45.40625 27.984375 \nQ 45.40625 37.75 41.375 43.109375 \nQ 37.359375 48.484375 30.078125 48.484375 \nQ 22.859375 48.484375 18.828125 43.109375 \nQ 14.796875 37.75 14.796875 27.984375 \nQ 14.796875 18.265625 18.828125 12.890625 \nQ 22.859375 7.515625 30.078125 7.515625 \nQ 37.359375 7.515625 41.375 12.890625 \nQ 45.40625 18.265625 45.40625 27.984375 \nz\nM 54.390625 6.78125 \nQ 54.390625 -7.171875 48.1875 -13.984375 \nQ 42 -20.796875 29.203125 -20.796875 \nQ 24.46875 -20.796875 20.265625 -20.09375 \nQ 16.0625 -19.390625 12.109375 -17.921875 \nL 12.109375 -9.1875 \nQ 16.0625 -11.328125 19.921875 -12.34375 \nQ 23.78125 -13.375 27.78125 -13.375 \nQ 36.625 -13.375 41.015625 -8.765625 \nQ 45.40625 -4.15625 45.40625 5.171875 \nL 45.40625 9.625 \nQ 42.625 4.78125 38.28125 2.390625 \nQ 33.9375 0 27.875 0 \nQ 17.828125 0 11.671875 7.65625 \nQ 5.515625 15.328125 5.515625 27.984375 \nQ 5.515625 40.671875 11.671875 48.328125 \nQ 17.828125 56 27.875 56 \nQ 33.9375 56 38.28125 53.609375 \nQ 42.625 51.21875 45.40625 46.390625 \nL 45.40625 54.6875 \nL 54.390625 54.6875 \nz\n\" id=\"DejaVuSans-103\"/>\n     </defs>\n     <g transform=\"translate(1495.215625 23.798437)scale(0.1 -0.1)\">\n      <use xlink:href=\"#DejaVuSans-104\"/>\n      <use x=\"63.378906\" xlink:href=\"#DejaVuSans-121\"/>\n      <use x=\"122.558594\" xlink:href=\"#DejaVuSans-112\"/>\n      <use x=\"186.035156\" xlink:href=\"#DejaVuSans-101\"/>\n      <use x=\"247.558594\" xlink:href=\"#DejaVuSans-114\"/>\n      <use x=\"288.671875\" xlink:href=\"#DejaVuSans-112\"/>\n      <use x=\"352.148438\" xlink:href=\"#DejaVuSans-97\"/>\n      <use x=\"413.427734\" xlink:href=\"#DejaVuSans-114\"/>\n      <use x=\"454.541016\" xlink:href=\"#DejaVuSans-97\"/>\n      <use x=\"515.820312\" xlink:href=\"#DejaVuSans-109\"/>\n      <use x=\"613.232422\" xlink:href=\"#DejaVuSans-101\"/>\n      <use x=\"674.755859\" xlink:href=\"#DejaVuSans-116\"/>\n      <use x=\"713.964844\" xlink:href=\"#DejaVuSans-101\"/>\n      <use x=\"775.488281\" xlink:href=\"#DejaVuSans-114\"/>\n      <use x=\"816.601562\" xlink:href=\"#DejaVuSans-115\"/>\n      <use x=\"868.701172\" xlink:href=\"#DejaVuSans-47\"/>\n      <use x=\"902.392578\" xlink:href=\"#DejaVuSans-108\"/>\n      <use x=\"930.175781\" xlink:href=\"#DejaVuSans-101\"/>\n      <use x=\"991.699219\" xlink:href=\"#DejaVuSans-97\"/>\n      <use x=\"1052.978516\" xlink:href=\"#DejaVuSans-114\"/>\n      <use x=\"1094.076172\" xlink:href=\"#DejaVuSans-110\"/>\n      <use x=\"1157.455078\" xlink:href=\"#DejaVuSans-105\"/>\n      <use x=\"1185.238281\" xlink:href=\"#DejaVuSans-110\"/>\n      <use x=\"1248.617188\" xlink:href=\"#DejaVuSans-103\"/>\n      <use x=\"1312.09375\" xlink:href=\"#DejaVuSans-95\"/>\n      <use x=\"1362.09375\" xlink:href=\"#DejaVuSans-114\"/>\n      <use x=\"1403.207031\" xlink:href=\"#DejaVuSans-97\"/>\n      <use x=\"1464.486328\" xlink:href=\"#DejaVuSans-116\"/>\n      <use x=\"1503.695312\" xlink:href=\"#DejaVuSans-101\"/>\n      <use x=\"1565.21875\" xlink:href=\"#DejaVuSans-32\"/>\n      <use x=\"1597.005859\" xlink:href=\"#DejaVuSans-61\"/>\n      <use x=\"1680.794922\" xlink:href=\"#DejaVuSans-32\"/>\n      <use x=\"1712.582031\" xlink:href=\"#DejaVuSans-48\"/>\n      <use x=\"1776.205078\" xlink:href=\"#DejaVuSans-46\"/>\n      <use x=\"1807.992188\" xlink:href=\"#DejaVuSans-48\"/>\n      <use x=\"1871.615234\" xlink:href=\"#DejaVuSans-48\"/>\n      <use x=\"1935.238281\" xlink:href=\"#DejaVuSans-51\"/>\n     </g>\n    </g>\n   </g>\n  </g>\n </g>\n <defs>\n  <clipPath id=\"p705ebc2c88\">\n   <rect height=\"345.927273\" width=\"492.352941\" x=\"30.103125\" y=\"7.2\"/>\n  </clipPath>\n  <clipPath id=\"p0d814d385f\">\n   <rect height=\"345.927273\" width=\"492.352941\" x=\"1211.750184\" y=\"7.2\"/>\n  </clipPath>\n </defs>\n</svg>\n",
      "image/png": "[encoded data removed]"
     },
     "metadata": {
      "needs_background": "light"
     }
    }
   ],
   "source": [
    "import matplotlib.pyplot as plt\n",
    "import numpy as np\n",
    "\n",
    "x = list(range(checkpoint.epoch_counter))\n",
    "sm = lambda y, w: np.convolve(y, np.ones(w)/w, mode='same')\n",
    "pp = lambda k: plt.plot(x, tensorboard.history[k], label=f\"{k} = {max(tensorboard.history[k])}\")\n",
    "spp = lambda k: plt.plot(x, sm(tensorboard.history[k], 5), label=f\"{k} = {max(tensorboard.history[k])}\")\n",
    "\n",
    "\n",
    "plt.figure(0, figsize=(30, 14))\n",
    "plt.subplot(2, 3, 1)\n",
    "pp(\"max/student_acc\")\n",
    "pp(\"max/teacher_acc\")\n",
    "plt.legend()\n",
    "\n",
    "plt.subplot(2, 3, 3)\n",
    "pp(\"hyperparameters/learning_rate\")\n",
    "plt.legend()\n",
    "\n",
    "plt.show()"
   ]
  },
  {
   "cell_type": "markdown",
   "metadata": {},
   "source": [
    "# Testing (only for speechcommand)"
   ]
  },
  {
   "cell_type": "code",
   "execution_count": 53,
   "metadata": {},
   "outputs": [],
   "source": [
    "if args.dataset.lower() == \"speechcommand\":\n",
    "    \n",
    "    from DCT.dataset_loader.speechcommand import SpeechCommands\n",
    "    from torch.utils.data import DataLoader\n",
    "    from torch.nn import Sequential\n",
    "    from DCT.util.transforms import PadUpTo\n",
    "    from torchaudio.transforms import MelSpectrogram, AmplitudeToDB\n",
    "\n",
    "    transform = Sequential(\n",
    "        PadUpTo(target_length=16000, mode=\"constant\", value=0),\n",
    "        MelSpectrogram(sample_rate=16000, n_fft=2048, hop_length=512, n_mels=64),\n",
    "        AmplitudeToDB(),\n",
    "    )\n",
    "\n",
    "    test_dataset = SpeechCommands(root=args.dataset_root, subset=\"testing\", download=True, transform=transform)\n",
    "    test_loader = DataLoader(test_dataset, batch_size=args.batch_size)"
   ]
  },
  {
   "cell_type": "code",
   "execution_count": 54,
   "metadata": {},
   "outputs": [
    {
     "output_type": "error",
     "ename": "NameError",
     "evalue": "name 'test_dataset' is not defined",
     "traceback": [
      "\u001b[0;31m---------------------------------------------------------------------------\u001b[0m",
      "\u001b[0;31mNameError\u001b[0m                                 Traceback (most recent call last)",
      "\u001b[0;32m<ipython-input-54-f4374d55d915>\u001b[0m in \u001b[0;36m<module>\u001b[0;34m\u001b[0m\n\u001b[0;32m----> 1\u001b[0;31m \u001b[0mlen\u001b[0m\u001b[0;34m(\u001b[0m\u001b[0mtest_dataset\u001b[0m\u001b[0;34m)\u001b[0m\u001b[0;34m\u001b[0m\u001b[0;34m\u001b[0m\u001b[0m\n\u001b[0m",
      "\u001b[0;31mNameError\u001b[0m: name 'test_dataset' is not defined"
     ]
    }
   ],
   "source": [
    "len(test_dataset)"
   ]
  },
  {
   "cell_type": "code",
   "execution_count": null,
   "metadata": {},
   "outputs": [],
   "source": [
    "print(header)\n",
    "\n",
    "start_time = time.time()\n",
    "print(\"\")\n",
    "reset_metrics()\n",
    "model.eval()\n",
    "\n",
    "with torch.set_grad_enabled(False):\n",
    "    for i, (X, y) in enumerate(test_loader):\n",
    "        X = X.cuda()\n",
    "        y = y.cuda()\n",
    "\n",
    "        logits = model(X)\n",
    "        loss = loss_ce(logits, y)\n",
    "\n",
    "        # metrics\n",
    "        pred = torch.softmax(logits, dim=1)\n",
    "        pred_arg = torch.argmax(logits, dim=1)\n",
    "        y_one_hot = F.one_hot(y, num_classes=args.num_classes)\n",
    "\n",
    "        acc = acc_fn(pred_arg, y).mean\n",
    "        fscore = fscore_fn(pred, y_one_hot).mean\n",
    "        avg_ce = avg(loss.item()).mean\n",
    "\n",
    "        # logs\n",
    "        print(val_form.format(\n",
    "            \"Testing: \",\n",
    "            1,\n",
    "            int(100 * (i + 1) / len(val_loader)),\n",
    "            \"\", avg_ce,\n",
    "            \"\", acc, fscore,\n",
    "            time.time() - start_time\n",
    "        ), end=\"\\r\")"
   ]
  },
  {
   "cell_type": "code",
   "execution_count": null,
   "metadata": {},
   "outputs": [],
   "source": []
  },
  {
   "cell_type": "markdown",
   "metadata": {},
   "source": [
    "# ♫♪.ılılıll|̲̅̅●̲̅̅|̲̅̅=̲̅̅|̲̅̅●̲̅̅|llılılı.♫♪"
   ]
  }
 ],
 "metadata": {
  "kernelspec": {
   "display_name": "dct",
   "language": "python",
   "name": "dct"
  },
  "language_info": {
   "codemirror_mode": {
    "name": "ipython",
    "version": 3
   },
   "file_extension": ".py",
   "mimetype": "text/x-python",
   "name": "python",
   "nbconvert_exporter": "python",
   "pygments_lexer": "ipython3",
   "version": "3.8.0-final"
  }
 },
 "nbformat": 4,
 "nbformat_minor": 4
}