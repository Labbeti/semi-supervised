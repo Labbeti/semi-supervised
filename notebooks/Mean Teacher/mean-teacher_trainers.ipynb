{
 "cells": [
  {
   "cell_type": "markdown",
   "metadata": {
    "jupyter": {
     "outputs_hidden": true
    }
   },
   "source": [
    "# import"
   ]
  },
  {
   "cell_type": "raw",
   "metadata": {},
   "source": [
    "https://arxiv.org/pdf/1703.01780.pdf"
   ]
  },
  {
   "cell_type": "code",
   "execution_count": 1,
   "metadata": {},
   "outputs": [],
   "source": [
    "%load_ext autoreload\n",
    "%autoreload 2"
   ]
  },
  {
   "cell_type": "code",
   "execution_count": 2,
   "metadata": {},
   "outputs": [
    {
     "output_type": "execute_result",
     "data": {
      "text/plain": [
       "'/home/lcances/.miniconda3/envs/dct/bin/python'"
      ]
     },
     "metadata": {},
     "execution_count": 2
    }
   ],
   "source": [
    "import sys\n",
    "sys.executable"
   ]
  },
  {
   "cell_type": "code",
   "execution_count": 3,
   "metadata": {},
   "outputs": [],
   "source": [
    "import os\n",
    "os.environ[\"MKL_NUM_THREADS\"] = \"2\"\n",
    "os.environ[\"NUMEXPR_NU M_THREADS\"] = \"2\"\n",
    "os.environ[\"OMP_NUM_THREADS\"] = \"2\"\n",
    "import time\n",
    "import pprint\n",
    "from typing import Union\n",
    "\n",
    "import numpy\n",
    "from torchsummary import summary\n",
    "\n",
    "import torch\n",
    "from torch.cuda import empty_cache\n",
    "import torch.nn as nn\n",
    "import torch.utils.data as data\n",
    "import torch.nn.functional as F\n",
    "import torchvision.transforms as transforms\n",
    "from torch.cuda.amp import autocast\n",
    "from torch.optim.lr_scheduler import LambdaLR\n",
    "from torch.utils.tensorboard import SummaryWriter\n",
    "from torch.utils.data import DataLoader"
   ]
  },
  {
   "cell_type": "code",
   "execution_count": 4,
   "metadata": {
    "tags": []
   },
   "outputs": [],
   "source": [
    "from SSL.util.loaders import load_dataset, load_optimizer, load_callbacks, load_preprocesser\n",
    "from SSL.util.model_loader import load_model\n",
    "from SSL.util.checkpoint import CheckPoint, mSummaryWriter\n",
    "from SSL.util.utils import reset_seed, get_datetime, track_maximum, DotDict\n",
    "from SSL.ramps import Warmup, sigmoid_rampup\n",
    "from SSL.losses import JensenShanon\n",
    "\n",
    "from metric_utils.metrics import CategoricalAccuracy, FScore, ContinueAverage"
   ]
  },
  {
   "cell_type": "code",
   "execution_count": 5,
   "metadata": {},
   "outputs": [],
   "source": [
    "import augmentation_utils.spec_augmentations as sa"
   ]
  },
  {
   "cell_type": "code",
   "execution_count": 6,
   "metadata": {},
   "outputs": [],
   "source": [
    "# just to ave some augmentation laying around\n",
    "aug = \"sa.FractalTimeDropout(ratio=1.0, min_chunk_size=20, min_chunk=1, max_chunk=1, void=True, cut=True)\""
   ]
  },
  {
   "cell_type": "code",
   "execution_count": 7,
   "metadata": {},
   "outputs": [],
   "source": [
    "import argparse\n",
    "parser = argparse.ArgumentParser()\n",
    "parser.add_argument(\"--from_config\", default=\"\", type=str)\n",
    "parser.add_argument(\"-d\", \"--dataset_root\", default=\"../../datasets\", type=str)\n",
    "parser.add_argument(\"-D\", \"--dataset\", default=\"ubs8k\", type=str)\n",
    "\n",
    "group_t = parser.add_argument_group(\"Commun parameters\")\n",
    "group_t.add_argument(\"-m\", \"--model\", default=\"wideresnet28_2\", type=str)\n",
    "group_t.add_argument(\"--supervised_ratio\", default=0.1, type=float)\n",
    "group_t.add_argument(\"--batch_size\", default=64, type=int)\n",
    "group_t.add_argument(\"--nb_epoch\", default=200, type=int)\n",
    "group_t.add_argument(\"--learning_rate\", default=0.001, type=float)\n",
    "group_t.add_argument(\"--resume\", action=\"store_true\", default=False)\n",
    "group_t.add_argument(\"--seed\", default=1235, type=int)\n",
    "\n",
    "group_m = parser.add_argument_group(\"Model parameters\")\n",
    "group_m.add_argument(\"--num_classes\", default=10, type=int)\n",
    "\n",
    "group_u = parser.add_argument_group(\"Datasets parameters\")\n",
    "group_u.add_argument(\"-t\", \"--train_folds\", nargs=\"+\", default=[1, 2, 3, 4], type=int)\n",
    "group_u.add_argument(\"-v\", \"--val_folds\", nargs=\"+\", default=[5], type=int)\n",
    "\n",
    "group_s = parser.add_argument_group(\"Student teacher parameters\")\n",
    "group_s.add_argument(\"--ema_alpha\", default=0.999, type=float)\n",
    "group_s.add_argument(\"--warmup_length\", default=50, type=int)\n",
    "group_s.add_argument(\"--lambda_cost_max\", default=1, type=float)\n",
    "group_s.add_argument(\"--teacher_perturb_fn\", default=\"identity\", type=str)\n",
    "group_s.add_argument(\"--ccost_softmax\", action=\"store_false\", default=True)\n",
    "group_s.add_argument(\"--ccost_method\", type=str, default=\"mse\")\n",
    "\n",
    "group_l = parser.add_argument_group(\"Logs\")\n",
    "group_l.add_argument(\"--checkpoint_root\", default=\"../model_save/\", type=str)\n",
    "group_l.add_argument(\"--tensorboard_root\", default=\"../tensorboard/\", type=str)\n",
    "group_l.add_argument(\"--checkpoint_path\", default=\"mean-teacher\", type=str)\n",
    "group_l.add_argument(\"--tensorboard_path\", default=\"mean-teacher\", type=str)\n",
    "group_l.add_argument(\"--tensorboard_sufix\", default=\"\", type=str)\n",
    "\n",
    "args=parser.parse_args(\"\")\n",
    "\n",
    "tensorboard_path = os.path.join(args.tensorboard_root, args.dataset, args.tensorboard_path)\n",
    "checkpoint_path = os.path.join(args.checkpoint_root, args.dataset, args.checkpoint_path)"
   ]
  },
  {
   "source": [
    "## Basic verification"
   ],
   "cell_type": "markdown",
   "metadata": {}
  },
  {
   "cell_type": "code",
   "execution_count": 8,
   "metadata": {},
   "outputs": [],
   "source": [
    "available_datasets = [\"esc10\", \"ubs8k\", \"speechcommand\"]\n",
    "available_models = [\"cnn03\", \"wideresnet28_2\", \"wideresnet28_4\", \"wideresnet28_8\"]\n",
    "available_ccost_method = [\"mse\", \"js\"]\n",
    "\n",
    "assert args.dataset.lower() in available_datasets\n",
    "assert args.model.lower() in available_models\n",
    "assert args.ccost_method.lower() in available_ccost_method"
   ]
  },
  {
   "cell_type": "code",
   "execution_count": 9,
   "metadata": {
    "tags": [
     "re_run"
    ]
   },
   "outputs": [
    {
     "output_type": "stream",
     "name": "stdout",
     "text": [
      "{'batch_size': 64,\n 'ccost_method': 'mse',\n 'ccost_softmax': True,\n 'checkpoint_path': 'mean-teacher',\n 'checkpoint_root': '../model_save/',\n 'dataset': 'esc10',\n 'dataset_root': '../../datasets',\n 'ema_alpha': 0.9999,\n 'from_config': '',\n 'lambda_cost_max': 1,\n 'learning_rate': 0.001,\n 'model': 'wideresnet28_2',\n 'nb_epoch': 200,\n 'num_classes': 10,\n 'resume': False,\n 'seed': 1235,\n 'supervised_ratio': 0.1,\n 'teacher_perturb_fn': 'identity',\n 'tensorboard_path': 'mean-teacher',\n 'tensorboard_root': '../tensorboard/',\n 'tensorboard_sufix': '',\n 'train_folds': [1, 2, 3, 4],\n 'val_folds': [5],\n 'warmup_length': 50}\n"
     ]
    }
   ],
   "source": [
    "pprint.pprint(vars(args))"
   ]
  },
  {
   "cell_type": "markdown",
   "metadata": {
    "pycharm": {
     "name": "#%% md\n"
    }
   },
   "source": [
    "# initialisation"
   ]
  },
  {
   "cell_type": "code",
   "execution_count": 10,
   "metadata": {
    "collapsed": false,
    "jupyter": {
     "outputs_hidden": false
    },
    "pycharm": {
     "name": "#%%\n"
    },
    "tags": [
     "re_run"
    ]
   },
   "outputs": [],
   "source": [
    "reset_seed(args.seed)"
   ]
  },
  {
   "cell_type": "code",
   "execution_count": 11,
   "metadata": {},
   "outputs": [],
   "source": [
    "from SSL.trainers.trainers import Trainer\n",
    "\n",
    "class MeanTeacherTrainer(Trainer):\n",
    "    def __init__(self, model: str, dataset: str,\n",
    "                 ema_alpha: float = 0.999,\n",
    "                 teacher_noise_db: int = 0,\n",
    "                 warmup_length: int = 50,\n",
    "                 lambda_ccost_max: float = 1,\n",
    "                 use_softmax: bool = False,\n",
    "                 ccost_method: str = \"mse\"):\n",
    "\n",
    "        super().__init__(model, \"mean-teacher\", dataset)\n",
    "\n",
    "        self.ema_alpha = ema_alpha\n",
    "        self.teacher_noise_db = teacher_noise_db\n",
    "        self.warmup_length = warmup_length\n",
    "        self.lambda_ccost_max = lambda_ccost_max\n",
    "        self.use_softmax = use_softmax\n",
    "        self.ccost_method = ccost_method\n",
    "\n",
    "        self.extra_hparams = dict(\n",
    "            ema_alpha=self.ema_alpha,\n",
    "            teacher_noise_db=self.teacher_noise_db,\n",
    "            warmup_length=self.warmup_length,\n",
    "            lambda_ccost_max=self.lambda_ccost_max,\n",
    "            use_softmax=self.use_softmax,\n",
    "            ccost_method=self.use_softmax,\n",
    "        )\n",
    "\n",
    "        self.softmax_fn = lambda x: x\n",
    "        if self.use_softmax:\n",
    "            self.softmax_fn = nn.Softmax(dim=1)\n",
    "\n",
    "trainer = MeanTeacherTrainer(args.model, args.dataset)"
   ]
  },
  {
   "cell_type": "markdown",
   "metadata": {
    "pycharm": {
     "name": "#%% md\n"
    }
   },
   "source": [
    "# Prepare the dataset"
   ]
  },
  {
   "cell_type": "code",
   "execution_count": 12,
   "metadata": {},
   "outputs": [
    {
     "output_type": "stream",
     "name": "stdout",
     "text": [
      "Load the transformation\n",
      "################################################################################\n",
      "### WARNING, path does not exist: KALDI_ROOT=/mnt/matylda5/iveselyk/Tools/kaldi-trunk\n",
      "###          (please add 'export KALDI_ROOT=<your_path>' in your $HOME/.profile)\n",
      "###          (or run as: KALDI_ROOT=<your_path> python <your_script>.py)\n",
      "################################################################################\n",
      "\n"
     ]
    }
   ],
   "source": [
    "trainer.load_transforms()"
   ]
  },
  {
   "cell_type": "code",
   "execution_count": 13,
   "metadata": {},
   "outputs": [],
   "source": [
    "from types import MethodType\n",
    "\n",
    "def _get_input_shape(self):\n",
    "    return tuple(self.train_loader._iterables[0].dataset[0][0].shape)\n",
    "\n",
    "trainer._get_input_shape = MethodType(_get_input_shape, trainer)"
   ]
  },
  {
   "cell_type": "code",
   "execution_count": 14,
   "metadata": {},
   "outputs": [
    {
     "output_type": "stream",
     "name": "stdout",
     "text": [
      "Load the dataset\n",
      "Dataset already downloaded and verified.\n",
      "Dataset already downloaded and verified.\n",
      "s_batch_size:  6\n",
      "u_batch_size:  58\n"
     ]
    }
   ],
   "source": [
    "parameters = dict(\n",
    "    dataset=args.dataset,\n",
    "\n",
    "    dataset_root = args.dataset_root,\n",
    "    supervised_ratio = args.supervised_ratio,\n",
    "    batch_size = args.batch_size,\n",
    "    nb_epoch=args.nb_epoch,\n",
    "    train_folds = args.train_folds,\n",
    "    val_folds = args.val_folds,\n",
    "    \n",
    "    num_workers=0,\n",
    "    pin_memory=True,\n",
    "\n",
    "    verbose = 2,\n",
    ")\n",
    "\n",
    "trainer.load_dataset(parameters)"
   ]
  },
  {
   "cell_type": "markdown",
   "metadata": {},
   "source": [
    "# Prep model"
   ]
  },
  {
   "cell_type": "code",
   "execution_count": 15,
   "metadata": {
    "tags": []
   },
   "outputs": [],
   "source": [
    "def create_model(self):\n",
    "    print(\"Creating teacher and student model ...\")\n",
    "    empty_cache()\n",
    "\n",
    "    model_func = load_model(self.dataset, self.model_str)\n",
    "    model_params = dict(\n",
    "        input_shape=self.input_shape,\n",
    "        num_classes=self.num_classes,\n",
    "    )\n",
    "\n",
    "    self.student = model_func(**model_params)\n",
    "    self.teacher = model_func(**model_params)\n",
    "\n",
    "    self.student = self.student.cuda()\n",
    "    self.teacher = self.teacher.cuda()\n",
    "\n",
    "    summary(self.student, self.input_shape)\n",
    "\n",
    "trainer.create_model = MethodType(create_model, trainer)"
   ]
  },
  {
   "cell_type": "code",
   "execution_count": 16,
   "metadata": {},
   "outputs": [
    {
     "output_type": "stream",
     "name": "stdout",
     "text": [
      "Creating teacher and student model ...\n",
      "----------------------------------------------------------------\n",
      "        Layer (type)               Output Shape         Param #\n",
      "================================================================\n",
      "            Conv2d-1          [-1, 32, 64, 431]             864\n",
      "       BatchNorm2d-2          [-1, 32, 64, 431]              64\n",
      "              ReLU-3          [-1, 32, 64, 431]               0\n",
      "         MaxPool2d-4          [-1, 32, 32, 216]               0\n",
      "            Conv2d-5          [-1, 32, 32, 216]           9,216\n",
      "       BatchNorm2d-6          [-1, 32, 32, 216]              64\n",
      "              ReLU-7          [-1, 32, 32, 216]               0\n",
      "            Conv2d-8          [-1, 32, 32, 216]           9,216\n",
      "       BatchNorm2d-9          [-1, 32, 32, 216]              64\n",
      "             ReLU-10          [-1, 32, 32, 216]               0\n",
      "       BasicBlock-11          [-1, 32, 32, 216]               0\n",
      "           Conv2d-12          [-1, 32, 32, 216]           9,216\n",
      "      BatchNorm2d-13          [-1, 32, 32, 216]              64\n",
      "             ReLU-14          [-1, 32, 32, 216]               0\n",
      "           Conv2d-15          [-1, 32, 32, 216]           9,216\n",
      "      BatchNorm2d-16          [-1, 32, 32, 216]              64\n",
      "             ReLU-17          [-1, 32, 32, 216]               0\n",
      "       BasicBlock-18          [-1, 32, 32, 216]               0\n",
      "           Conv2d-19          [-1, 32, 32, 216]           9,216\n",
      "      BatchNorm2d-20          [-1, 32, 32, 216]              64\n",
      "             ReLU-21          [-1, 32, 32, 216]               0\n",
      "           Conv2d-22          [-1, 32, 32, 216]           9,216\n",
      "      BatchNorm2d-23          [-1, 32, 32, 216]              64\n",
      "             ReLU-24          [-1, 32, 32, 216]               0\n",
      "       BasicBlock-25          [-1, 32, 32, 216]               0\n",
      "           Conv2d-26          [-1, 32, 32, 216]           9,216\n",
      "      BatchNorm2d-27          [-1, 32, 32, 216]              64\n",
      "             ReLU-28          [-1, 32, 32, 216]               0\n",
      "           Conv2d-29          [-1, 32, 32, 216]           9,216\n",
      "      BatchNorm2d-30          [-1, 32, 32, 216]              64\n",
      "             ReLU-31          [-1, 32, 32, 216]               0\n",
      "       BasicBlock-32          [-1, 32, 32, 216]               0\n",
      "           Conv2d-33          [-1, 64, 16, 108]          18,432\n",
      "      BatchNorm2d-34          [-1, 64, 16, 108]             128\n",
      "             ReLU-35          [-1, 64, 16, 108]               0\n",
      "           Conv2d-36          [-1, 64, 16, 108]          36,864\n",
      "      BatchNorm2d-37          [-1, 64, 16, 108]             128\n",
      "           Conv2d-38          [-1, 64, 16, 108]           2,048\n",
      "      BatchNorm2d-39          [-1, 64, 16, 108]             128\n",
      "             ReLU-40          [-1, 64, 16, 108]               0\n",
      "       BasicBlock-41          [-1, 64, 16, 108]               0\n",
      "           Conv2d-42          [-1, 64, 16, 108]          36,864\n",
      "      BatchNorm2d-43          [-1, 64, 16, 108]             128\n",
      "             ReLU-44          [-1, 64, 16, 108]               0\n",
      "           Conv2d-45          [-1, 64, 16, 108]          36,864\n",
      "      BatchNorm2d-46          [-1, 64, 16, 108]             128\n",
      "             ReLU-47          [-1, 64, 16, 108]               0\n",
      "       BasicBlock-48          [-1, 64, 16, 108]               0\n",
      "           Conv2d-49          [-1, 64, 16, 108]          36,864\n",
      "      BatchNorm2d-50          [-1, 64, 16, 108]             128\n",
      "             ReLU-51          [-1, 64, 16, 108]               0\n",
      "           Conv2d-52          [-1, 64, 16, 108]          36,864\n",
      "      BatchNorm2d-53          [-1, 64, 16, 108]             128\n",
      "             ReLU-54          [-1, 64, 16, 108]               0\n",
      "       BasicBlock-55          [-1, 64, 16, 108]               0\n",
      "           Conv2d-56          [-1, 64, 16, 108]          36,864\n",
      "      BatchNorm2d-57          [-1, 64, 16, 108]             128\n",
      "             ReLU-58          [-1, 64, 16, 108]               0\n",
      "           Conv2d-59          [-1, 64, 16, 108]          36,864\n",
      "      BatchNorm2d-60          [-1, 64, 16, 108]             128\n",
      "             ReLU-61          [-1, 64, 16, 108]               0\n",
      "       BasicBlock-62          [-1, 64, 16, 108]               0\n",
      "           Conv2d-63           [-1, 128, 8, 54]          73,728\n",
      "      BatchNorm2d-64           [-1, 128, 8, 54]             256\n",
      "             ReLU-65           [-1, 128, 8, 54]               0\n",
      "           Conv2d-66           [-1, 128, 8, 54]         147,456\n",
      "      BatchNorm2d-67           [-1, 128, 8, 54]             256\n",
      "           Conv2d-68           [-1, 128, 8, 54]           8,192\n",
      "      BatchNorm2d-69           [-1, 128, 8, 54]             256\n",
      "             ReLU-70           [-1, 128, 8, 54]               0\n",
      "       BasicBlock-71           [-1, 128, 8, 54]               0\n",
      "           Conv2d-72           [-1, 128, 8, 54]         147,456\n",
      "      BatchNorm2d-73           [-1, 128, 8, 54]             256\n",
      "             ReLU-74           [-1, 128, 8, 54]               0\n",
      "           Conv2d-75           [-1, 128, 8, 54]         147,456\n",
      "      BatchNorm2d-76           [-1, 128, 8, 54]             256\n",
      "             ReLU-77           [-1, 128, 8, 54]               0\n",
      "       BasicBlock-78           [-1, 128, 8, 54]               0\n",
      "           Conv2d-79           [-1, 128, 8, 54]         147,456\n",
      "      BatchNorm2d-80           [-1, 128, 8, 54]             256\n",
      "             ReLU-81           [-1, 128, 8, 54]               0\n",
      "           Conv2d-82           [-1, 128, 8, 54]         147,456\n",
      "      BatchNorm2d-83           [-1, 128, 8, 54]             256\n",
      "             ReLU-84           [-1, 128, 8, 54]               0\n",
      "       BasicBlock-85           [-1, 128, 8, 54]               0\n",
      "           Conv2d-86           [-1, 128, 8, 54]         147,456\n",
      "      BatchNorm2d-87           [-1, 128, 8, 54]             256\n",
      "             ReLU-88           [-1, 128, 8, 54]               0\n",
      "           Conv2d-89           [-1, 128, 8, 54]         147,456\n",
      "      BatchNorm2d-90           [-1, 128, 8, 54]             256\n",
      "             ReLU-91           [-1, 128, 8, 54]               0\n",
      "       BasicBlock-92           [-1, 128, 8, 54]               0\n",
      "AdaptiveAvgPool2d-93            [-1, 128, 1, 1]               0\n",
      "           Linear-94                   [-1, 10]           1,290\n",
      "================================================================\n",
      "Total params: 1,472,554\n",
      "Trainable params: 1,472,554\n",
      "Non-trainable params: 0\n",
      "----------------------------------------------------------------\n",
      "Input size (MB): 0.11\n",
      "Forward/backward pass size (MB): 107.11\n",
      "Params size (MB): 5.62\n",
      "Estimated Total Size (MB): 112.83\n",
      "----------------------------------------------------------------\n"
     ]
    }
   ],
   "source": [
    "trainer.create_model()"
   ]
  },
  {
   "cell_type": "markdown",
   "metadata": {
    "pycharm": {
     "name": "#%% md\n"
    }
   },
   "source": [
    "# Training initalization\n",
    "## Losses"
   ]
  },
  {
   "cell_type": "code",
   "execution_count": 17,
   "metadata": {},
   "outputs": [],
   "source": [
    "def init_loss(self, parameters: DotDict):\n",
    "    self.loss_ce = nn.CrossEntropyLoss(reduction=\"mean\")\n",
    "\n",
    "    if self.ccost_method.lower() == \"mse\":\n",
    "        self.loss_cc = nn.MSELoss(reduction=\"mean\")\n",
    "    elif self.ccost_method.lower() == \"js\":\n",
    "        self.loss_cc = JensenShanon\n",
    "\n",
    "trainer.init_loss = MethodType(init_loss, trainer)"
   ]
  },
  {
   "cell_type": "code",
   "execution_count": 18,
   "metadata": {},
   "outputs": [],
   "source": [
    "trainer.init_loss(DotDict())"
   ]
  },
  {
   "source": [
    "## Optimizer"
   ],
   "cell_type": "markdown",
   "metadata": {}
  },
  {
   "cell_type": "code",
   "execution_count": 19,
   "metadata": {},
   "outputs": [],
   "source": [
    "def init_optimizer(self, parameters: DotDict):\n",
    "    print(\"Initialize optimizer\")\n",
    "    self.optimizer = load_optimizer(\n",
    "        self.dataset,\n",
    "        self.framework,\n",
    "        learning_rate=parameters.learning_rate,\n",
    "        student=self.student,\n",
    "    )\n",
    "\n",
    "trainer.init_optimizer = MethodType(init_optimizer, trainer)"
   ]
  },
  {
   "cell_type": "code",
   "execution_count": 20,
   "metadata": {},
   "outputs": [
    {
     "output_type": "stream",
     "name": "stdout",
     "text": [
      "Initialize optimizer\n"
     ]
    }
   ],
   "source": [
    "parameters = DotDict(\n",
    "    learning_rate=args.learning_rate\n",
    ")\n",
    "\n",
    "trainer.init_optimizer(parameters)"
   ]
  },
  {
   "source": [
    "## Callbacks"
   ],
   "cell_type": "markdown",
   "metadata": {}
  },
  {
   "cell_type": "code",
   "execution_count": 21,
   "metadata": {},
   "outputs": [],
   "source": [
    "def init_callbacks(self, parameters: DotDict):\n",
    "    print(\"Initialize callbacks\")\n",
    "    self.callbacks = load_callbacks(\n",
    "        self.dataset,\n",
    "        self.framework,\n",
    "        optimizer=self.optimizer,\n",
    "        nb_epoch=parameters.nb_epoch,\n",
    "    )\n",
    "\n",
    "    self.lambda_ccost = Warmup(self.lambda_ccost_max, self.warmup_length, sigmoid_rampup)\n",
    "    self.callbacks += [self.lambda_ccost]\n",
    "\n",
    "trainer.init_callbacks = MethodType(init_callbacks, trainer)"
   ]
  },
  {
   "cell_type": "code",
   "execution_count": 22,
   "metadata": {},
   "outputs": [
    {
     "output_type": "stream",
     "name": "stdout",
     "text": [
      "Initialize callbacks\n"
     ]
    }
   ],
   "source": [
    "parameters=DotDict(\n",
    "    nb_epoch=args.nb_epoch,\n",
    "    optimizer=trainer.optimizer,\n",
    ")\n",
    "trainer.init_callbacks(parameters)"
   ]
  },
  {
   "source": [
    "## Logs"
   ],
   "cell_type": "markdown",
   "metadata": {}
  },
  {
   "cell_type": "code",
   "execution_count": 23,
   "metadata": {},
   "outputs": [],
   "source": [
    "def init_logs(self, parameters: DotDict):\n",
    "    print(\"Prepare the log system\")\n",
    "    title_element = (\n",
    "        self.model_str, parameters.supervised_ratio,\n",
    "        get_datetime(), self.model_str,\n",
    "        self.ccost_method.upper(), self.use_softmax, self.teacher_noise_db\n",
    "    )\n",
    "\n",
    "    tensorboard_title = \"%s/%sS/%s_%s_%s_%s-softmax_%s-n\" % title_element\n",
    "\n",
    "    self.tensorboard = mSummaryWriter(log_dir=\"%s/%s\" % (self.tensorboard_path, tensorboard_title))\n",
    "\n",
    "trainer.init_logs = MethodType(init_logs, trainer)"
   ]
  },
  {
   "cell_type": "code",
   "execution_count": 24,
   "metadata": {},
   "outputs": [
    {
     "output_type": "stream",
     "name": "stdout",
     "text": [
      "Prepare the log system\n"
     ]
    }
   ],
   "source": [
    "parameters=DotDict(\n",
    "    supervised_ratio=args.supervised_ratio\n",
    ")\n",
    "trainer.init_logs(parameters)"
   ]
  },
  {
   "source": [
    "## Checkpoint"
   ],
   "cell_type": "markdown",
   "metadata": {}
  },
  {
   "cell_type": "code",
   "execution_count": 25,
   "metadata": {},
   "outputs": [],
   "source": [
    "def init_checkpoint(self, parameters: DotDict):\n",
    "    print(\"Prepare the checkpoint system\")\n",
    "    title_element = (\n",
    "        self.model_str, parameters.supervised_ratio,\n",
    "        get_datetime(), self.model_str,\n",
    "        self.ccost_method.upper(), self.use_softmax, self.teacher_noise_db\n",
    "    )\n",
    "    \n",
    "    checkpoint_title = \"%s/%sS/%s_%s_%s_%s-softmax_%s-n\" % title_element\n",
    "\n",
    "    self.checkpoint = CheckPoint(\n",
    "        [self.student, self.teacher], self.optimizer, mode=\"max\",\n",
    "        name=f\"{self.checkpoint_path}/{checkpoint_title}\")\n",
    "\n",
    "trainer.init_checkpoint = MethodType(init_checkpoint, trainer)"
   ]
  },
  {
   "cell_type": "code",
   "execution_count": 26,
   "metadata": {},
   "outputs": [
    {
     "output_type": "stream",
     "name": "stdout",
     "text": [
      "Prepare the checkpoint system\n"
     ]
    }
   ],
   "source": [
    "# Checkpoint\n",
    "parameters=DotDict(\n",
    "    supervised_ratio=args.supervised_ratio\n",
    ")\n",
    "trainer.init_checkpoint(parameters)"
   ]
  },
  {
   "source": [
    "## Metrics"
   ],
   "cell_type": "markdown",
   "metadata": {}
  },
  {
   "cell_type": "code",
   "execution_count": 27,
   "metadata": {},
   "outputs": [],
   "source": [
    "def init_metrics(self, parameters: DotDict):\n",
    "    self.metrics = DotDict(\n",
    "        fscore_ss=FScore(),\n",
    "        fscore_su=FScore(),\n",
    "        fscore_ts=FScore(),\n",
    "        fscore_tu=FScore(),\n",
    "        acc_ss=CategoricalAccuracy(),\n",
    "        acc_su=CategoricalAccuracy(),\n",
    "        acc_ts=CategoricalAccuracy(),\n",
    "        acc_tu=CategoricalAccuracy(),\n",
    "        avg_Sce=ContinueAverage(),\n",
    "        avg_Tce=ContinueAverage(),\n",
    "        avg_ccost=ContinueAverage(),\n",
    "    )\n",
    "    self.maximum_tracker = track_maximum()\n",
    "\n",
    "    self.scores = DotDict()\n",
    "    for key in self.metrics:\n",
    "        self.scores[key] = []\n",
    "\n",
    "trainer.init_metrics = MethodType(init_metrics, trainer)"
   ]
  },
  {
   "cell_type": "code",
   "execution_count": 28,
   "metadata": {},
   "outputs": [],
   "source": [
    "trainer.init_metrics(DotDict())"
   ]
  },
  {
   "cell_type": "markdown",
   "metadata": {
    "pycharm": {
     "name": "#%% md\n"
    }
   },
   "source": [
    "## training function"
   ]
  },
  {
   "cell_type": "code",
   "execution_count": 29,
   "metadata": {
    "collapsed": false,
    "jupyter": {
     "outputs_hidden": false
    },
    "pycharm": {
     "name": "#%%\n"
    },
    "tags": []
   },
   "outputs": [],
   "source": [
    "def set_printing_form(self):\n",
    "    UNDERLINE_SEQ = \"\\033[1;4m\"\n",
    "    RESET_SEQ = \"\\033[0m\"\n",
    "\n",
    "    header_form = \"{:<8.8} {:<6.6} - {:<6.6} - {:<10.8} {:<8.6} {:<8.6} {:<8.6} {:<8.6} {:<8.6} {:<8.6} | {:<10.8} {:<8.6} {:<8.6} {:<8.6} {:<8.6} {:<8.6} - {:<8.6}\"\n",
    "    value_form  = \"{:<8.8} {:<6d} - {:<6d} - {:<10.8} {:<8.4f} {:<8.4f} {:<8.4f} {:<8.4f} {:<8.4f} {:<8.4f} | {:<10.8} {:<8.4f} {:<8.4f} {:<8.4f} {:<8.4f} {:<8.4f} - {:<8.4f}\"\n",
    "    self.header = header_form.format(\".               \", \"Epoch\",  \"%\", \"Student:\", \"ce\", \"ccost\", \"acc_s\", \"f1_s\", \"acc_u\", \"f1_u\", \"Teacher:\", \"ce\", \"acc_s\", \"f1_s\", \"acc_u\", \"f1_u\" , \"Time\")\n",
    "\n",
    "    self.train_form = value_form\n",
    "    self.val_form = UNDERLINE_SEQ + value_form + RESET_SEQ\n",
    "\n",
    "trainer.set_printing_form = MethodType(set_printing_form, trainer)"
   ]
  },
  {
   "cell_type": "code",
   "execution_count": 30,
   "metadata": {},
   "outputs": [],
   "source": [
    "def _update_teacher_model(self, iteration):\n",
    "    \n",
    "    # Use the true average until the exponential average is more correct\n",
    "    alpha = min(1 - 1 / (iteration + 1), self.ema_alpha)\n",
    "    \n",
    "    for param, ema_param in zip(self.student.parameters(), self.teacher.parameters()):\n",
    "        ema_param.data.mul_(alpha).add_(param.data,  alpha = 1-alpha)"
   ]
  },
  {
   "cell_type": "code",
   "execution_count": 31,
   "metadata": {},
   "outputs": [],
   "source": [
    "# aug1 = sa.FractalTimeDropout(ratio=1.0, min_chunk_size=20, min_chunk=1, max_chunk=1, void=True, cut=True)\n",
    "# aug2 = sa.FractalTimeStretch(ratio=1.0, min_chunk_size=20, )\n",
    "# aug3 = sa.FractalTimeStretch(ratio=1.0, min_chunk_size=20, max_chunk_size=40)\n",
    "# aug4 = sa.FractalDropout(1.0, freq_min_chunk_size=1, freq_max_chunk_size=3, freq_max_chunk=1, time_max_chunk=1)\n",
    "# _noise_fn = sa.UniformSignNoise(1.0, 0.1, mini=-100, maxi=0)\n",
    "# _noise_fn = sa.Noise(1.0, 5, mini=-100, maxi=0)\n",
    "# _noise_fn = sa.FractalStretch(1.0, freq_min_chunk_size=4, freq_max_chunk_size=8, time_min_chunk_size=16, time_max_chunk_size=48)\n",
    "_noise_fn = lambda x: x\n",
    "\n",
    "\n",
    "# if args.teacher_perturb_fn == \"identity\":\n",
    "#     _noise_fn = lambda x: x\n",
    "\n",
    "# else:\n",
    "#     _noise_fn = eval(args.teacher_perturb_fn)\n",
    "\n",
    "trainer.extra_hparams[\"_noise_fn\"] = str(_noise_fn)"
   ]
  },
  {
   "cell_type": "code",
   "execution_count": 32,
   "metadata": {},
   "outputs": [
    {
     "output_type": "execute_result",
     "data": {
      "text/plain": [
       "'<function <lambda> at 0x7f1d320f2040>'"
      ]
     },
     "metadata": {},
     "execution_count": 32
    }
   ],
   "source": [
    "trainer.extra_hparams[\"_noise_fn\"]"
   ]
  },
  {
   "cell_type": "code",
   "execution_count": 33,
   "metadata": {},
   "outputs": [],
   "source": [
    "trainer._update_teacher_model = MethodType(_update_teacher_model, trainer)"
   ]
  },
  {
   "cell_type": "code",
   "execution_count": 34,
   "metadata": {},
   "outputs": [],
   "source": [
    "def _calc_metrics(self,\n",
    "                  ss_logits, su_logits, ts_logits, tu_logits,\n",
    "                  y_s, y_u) -> Union[DotDict, DotDict]:\n",
    "\n",
    "    with torch.set_grad_enabled(False):\n",
    "        S = nn.Softmax(dim=1)\n",
    "        A = lambda x: torch.argmax(x, dim=1)\n",
    "        M = self.metrics\n",
    "\n",
    "        one_hot_s = F.one_hot(y_s, self.num_classes)\n",
    "        one_hot_u = F.one_hot(y_u, self.num_classes)\n",
    "\n",
    "        fscores = DotDict(\n",
    "            ss=M.fscore_ss(S(ss_logits), one_hot_s).mean,\n",
    "            su=M.fscore_su(S(su_logits), one_hot_u).mean,\n",
    "            ts=M.fscore_ts(S(ts_logits), one_hot_s).mean,\n",
    "            tu=M.fscore_tu(S(tu_logits), one_hot_u).mean,\n",
    "        )\n",
    "\n",
    "        accs = DotDict(\n",
    "            ss=M.acc_ss(A(ss_logits), y_s).mean,\n",
    "            su=M.acc_su(A(su_logits), y_u).mean,\n",
    "            ts=M.acc_ts(A(ts_logits), y_s).mean,\n",
    "            tu=M.acc_tu(A(tu_logits), y_u).mean,\n",
    "        )\n",
    "\n",
    "        return fscores, accs\n",
    "\n",
    "trainer._calc_metrics = MethodType(_calc_metrics, trainer)"
   ]
  },
  {
   "cell_type": "code",
   "execution_count": 35,
   "metadata": {},
   "outputs": [
    {
     "output_type": "execute_result",
     "data": {
      "text/plain": [
       "10"
      ]
     },
     "metadata": {},
     "execution_count": 35
    }
   ],
   "source": [
    "trainer.num_classes"
   ]
  },
  {
   "cell_type": "code",
   "execution_count": 36,
   "metadata": {
    "tags": [
     "re_run"
    ]
   },
   "outputs": [],
   "source": [
    "def train_fn(self, epoch: int):\n",
    "    # aliases\n",
    "    M = self.metrics\n",
    "    T = self.tensorboard.add_scalar\n",
    "    nb_batch = len(self.train_loader)\n",
    "\n",
    "    start_time = time.time()\n",
    "    print(\"\")\n",
    "\n",
    "    self.reset_metrics()\n",
    "    self.student.train()\n",
    "\n",
    "    for i, (S, U) in enumerate(self.train_loader):\n",
    "        x_s, y_s = S\n",
    "        x_u, y_u = U\n",
    "\n",
    "        n_x_s = _noise_fn(x_s)\n",
    "        n_x_u = _noise_fn(x_u)\n",
    "\n",
    "        x_s, x_u = x_s.cuda(), x_u.cuda()\n",
    "        y_s, y_u = y_s.cuda(), y_u.cuda()\n",
    "        n_x_s, n_x_u = n_x_s.cuda(), n_x_u.cuda()\n",
    "\n",
    "        # Predictions\n",
    "        with autocast():\n",
    "            ss_logits = self.student(x_s)\n",
    "            su_logits = self.student(x_u)\n",
    "            ts_logits = self.teacher(n_x_s)\n",
    "            tu_logits = self.teacher(n_x_u)\n",
    "\n",
    "            # Calculate supervised loss (only student on S)\n",
    "            loss = self.loss_ce(ss_logits, y_s)\n",
    "\n",
    "            # Calculate consistency cost (mse(student(x), teacher(x)))\n",
    "            # x is S + U\n",
    "            # student_logits = torch.cat((ss_logits, su_logits), dim=0)\n",
    "            # teacher_logits = torch.cat((ts_logits, tu_logits), dim=0)\n",
    "            ccost = self.loss_cc(\n",
    "                self.softmax_fn(su_logits),\n",
    "                self.softmax_fn(tu_logits),\n",
    "            )\n",
    "\n",
    "            total_loss = loss + self.lambda_ccost() * ccost\n",
    "\n",
    "        for p in self.student.parameters(): p.grad = None\n",
    "        total_loss.backward()\n",
    "        self.optimizer.step()\n",
    "\n",
    "        with torch.set_grad_enabled(False):\n",
    "            # Teacher prediction (for metrics purpose)\n",
    "            _teacher_loss = self.loss_ce(ts_logits, y_s)\n",
    "\n",
    "            # Update teacher\n",
    "            self._update_teacher_model(epoch*nb_batch + i)\n",
    "\n",
    "            # Compute the metrics for the student\n",
    "            fscores, accs = self._calc_metrics(\n",
    "                ss_logits, su_logits,\n",
    "                ts_logits, tu_logits,\n",
    "                y_s, y_u,\n",
    "            )\n",
    "\n",
    "            # Running average of the two losses\n",
    "            student_running_loss = M.avg_Sce(loss.item()).mean\n",
    "            teacher_running_loss = M.avg_Tce(_teacher_loss.item()).mean\n",
    "            running_ccost = M.avg_ccost(ccost.item()).mean\n",
    "\n",
    "            # logs\n",
    "            print(self.train_form.format(\n",
    "                \"Training: \", epoch + 1, int(100 * (i + 1) / nb_batch),\n",
    "                \"\", student_running_loss, running_ccost,\n",
    "                accs.ss, fscores.ss, accs.su, fscores.su,\n",
    "                \"\", teacher_running_loss,\n",
    "                accs.ts, fscores.ts, accs.tu, fscores.tu,\n",
    "                time.time() - start_time\n",
    "            ), end=\"\\r\")\n",
    "\n",
    "    T(\"train/student_acc_s\", accs.ss, epoch)\n",
    "    T(\"train/student_acc_u\", accs.su, epoch)\n",
    "    T(\"train/student_f1_s\", fscores.ss, epoch)\n",
    "    T(\"train/student_f1_u\", fscores.su, epoch)\n",
    "\n",
    "    T(\"train/teacher_acc_s\", accs.ts, epoch)\n",
    "    T(\"train/teacher_acc_u\", accs.tu, epoch)\n",
    "    T(\"train/teacher_f1_s\", fscores.ts, epoch)\n",
    "    T(\"train/teacher_f1_u\", fscores.tu, epoch)\n",
    "\n",
    "    T(\"train/student_loss\", student_running_loss, epoch)\n",
    "    T(\"train/teacher_loss\", teacher_running_loss, epoch)\n",
    "    T(\"train/consistency_cost\", running_ccost, epoch)\n"
   ]
  },
  {
   "cell_type": "code",
   "execution_count": 37,
   "metadata": {
    "collapsed": false,
    "jupyter": {
     "outputs_hidden": false
    },
    "pycharm": {
     "name": "#%%\n"
    },
    "tags": [
     "re_run"
    ]
   },
   "outputs": [],
   "source": [
    "    def val_fn(self, epoch: int):\n",
    "        # aliases\n",
    "        M = self.metrics\n",
    "        T = self.tensorboard.add_scalar\n",
    "        nb_batch = len(self.val_loader)\n",
    "\n",
    "        start_time = time.time()\n",
    "        print(\"\")\n",
    "\n",
    "        self.reset_metrics()\n",
    "        self.student.eval()\n",
    "\n",
    "        with torch.set_grad_enabled(False):\n",
    "            for i, (X, y) in enumerate(self.val_loader):\n",
    "                X = X.cuda()\n",
    "                y = y.cuda()\n",
    "\n",
    "                # Predictions\n",
    "                with autocast():\n",
    "                    student_logits = self.student(X)\n",
    "                    teacher_logits = self.teacher(X)\n",
    "\n",
    "                    # Calculate supervised loss (only student on S)\n",
    "                    loss = self.loss_ce(student_logits, y)\n",
    "                    _teacher_loss = self.loss_ce(teacher_logits, y)  # for metrics only\n",
    "                    ccost = self.loss_cc(\n",
    "                        self.softmax_fn(student_logits),\n",
    "                        self.softmax_fn(teacher_logits))\n",
    "\n",
    "                # Compute the metrics\n",
    "                fscores, accs = self._calc_metrics(\n",
    "                    student_logits, student_logits, \n",
    "                    teacher_logits, teacher_logits,\n",
    "                    y, y\n",
    "                )\n",
    "\n",
    "                # Running average of the two losses\n",
    "                student_running_loss = M.avg_Sce(loss.item()).mean\n",
    "                teacher_running_loss = M.avg_Tce(_teacher_loss.item()).mean\n",
    "                running_ccost = M.avg_ccost(ccost.item()).mean\n",
    "\n",
    "                # logs\n",
    "                print(self.val_form.format(\n",
    "                    \"Validation: \", epoch + 1, int(100 * (i + 1) / nb_batch),\n",
    "                    \"\", student_running_loss, running_ccost, accs.ss, fscores.ss, 0.0, 0.0,\n",
    "                    \"\", teacher_running_loss, accs.ts, fscores.ts, 0.0, 0.0,\n",
    "                    time.time() - start_time\n",
    "                ), end=\"\\r\")\n",
    "\n",
    "        self.checkpoint.step(accs.ss)\n",
    "        for c in self.callbacks:\n",
    "            c.step()\n",
    "            pass\n",
    "\n",
    "        T(\"val/student_acc\", accs.ss, epoch)\n",
    "        T(\"val/student_f1\", fscores.ss, epoch)\n",
    "        T(\"val/teacher_acc\", accs.ts, epoch)\n",
    "        T(\"val/teacher_f1\", fscores.ts, epoch)\n",
    "        T(\"val/student_loss\", student_running_loss, epoch)\n",
    "        T(\"val/teacher_loss\", teacher_running_loss, epoch)\n",
    "        T(\"val/consistency_cost\", running_ccost, epoch)\n",
    "\n",
    "        T(\"hyperparameters/learning_rate\", self._get_lr(), epoch)\n",
    "        T(\"hyperparameters/lambda_cost_max\", self.lambda_ccost(), epoch)\n",
    "\n",
    "        T(\"max/student_acc\", self.maximum_tracker(\"student_acc\", accs.ss), epoch)\n",
    "        T(\"max/teacher_acc\", self.maximum_tracker(\"teacher_acc\", accs.ts), epoch)\n",
    "        T(\"max/student_f1\", self.maximum_tracker(\"student_f1\", fscores.ss), epoch)\n",
    "        T(\"max/teacher_f1\", self.maximum_tracker(\"teacher_f1\", fscores.ts), epoch)"
   ]
  },
  {
   "cell_type": "code",
   "execution_count": 38,
   "metadata": {},
   "outputs": [],
   "source": [
    "def test_fn(self):\n",
    "    pass"
   ]
  },
  {
   "cell_type": "code",
   "execution_count": 39,
   "metadata": {},
   "outputs": [],
   "source": [
    "trainer.set_printing_form = MethodType(set_printing_form, trainer)\n",
    "trainer.train_fn = MethodType(train_fn, trainer)\n",
    "trainer.val_fn = MethodType(val_fn, trainer)\n",
    "trainer.test_fn = MethodType(test_fn, trainer)\n",
    "\n",
    "trainer.set_printing_form()"
   ]
  },
  {
   "cell_type": "markdown",
   "metadata": {},
   "source": [
    "# Training"
   ]
  },
  {
   "source": [
    "trainer.parameters = DotDict(\n",
    "    nb_epoch=args.nb_epoch\n",
    ")\n",
    "trainer.fit()"
   ],
   "cell_type": "code",
   "metadata": {
    "collapsed": false,
    "jupyter": {
     "outputs_hidden": false
    },
    "pycharm": {
     "name": "#%%\n"
    },
    "scrolled": true,
    "tags": [
     "outputPrepend"
    ]
   },
   "execution_count": 40,
   "outputs": [
    {
     "output_type": "stream",
     "name": "stdout",
     "text": [
      "40   |            0.1840   1.0000   0.9818   0.6414   0.6321   - 1.4255  \n",
      "\n",
      "Training 78     - 100    -            0.0984   0.0826   1.0000   1.0000   0.6655   0.6362   |            0.2376   0.9667   0.9636   0.6483   0.6364   - 1.4251  \n",
      "\n",
      "Training 79     - 100    -            0.1038   0.0579   1.0000   1.0000   0.6448   0.6185   |            0.2028   1.0000   1.0000   0.6241   0.6058   - 1.4291  \n",
      "\n",
      "Training 80     - 100    -            0.1287   0.0557   0.9667   0.9667   0.6448   0.6244   |            0.2807   0.9667   0.9418   0.6310   0.6189   - 1.4404  \n",
      "\n",
      "Training 81     - 100    -            0.0984   0.0836   1.0000   1.0000   0.6586   0.6464   |            0.2075   0.9667   0.9818   0.6414   0.6145   - 1.4254  \n",
      "\n",
      "Training 82     - 100    -            0.0941   0.0567   1.0000   1.0000   0.6483   0.6461   |            0.2276   0.9667   0.9636   0.6414   0.6244   - 1.4269  \n",
      "\n",
      "Training 83     - 100    -            0.0503   0.0438   1.0000   1.0000   0.6828   0.6645   |            0.1593   1.0000   1.0000   0.6379   0.6254   - 1.4307  \n",
      "\n",
      "Training 84     - 100    -            0.0977   0.0450   1.0000   1.0000   0.6552   0.6393   |            0.2747   0.9667   0.9418   0.6310   0.6257   - 1.4278  \n",
      "\n",
      "Training 85     - 100    -            0.0997   0.0575   1.0000   1.0000   0.6552   0.6213   |            0.3169   0.9667   0.9273   0.6241   0.6084   - 1.4271  \n",
      "\n",
      "Training 86     - 100    -            0.1053   0.0443   1.0000   1.0000   0.6552   0.6279   |            0.2711   0.9333   0.8873   0.6621   0.6325   - 1.4297  \n",
      "\n",
      "Training 87     - 100    -            0.0501   0.0420   1.0000   1.0000   0.6621   0.6678   |            0.1809   1.0000   0.9818   0.6517   0.6340   - 1.4316  \n",
      "\n",
      "Training 88     - 100    -            0.0352   0.0314   1.0000   1.0000   0.6759   0.6477   |            0.1645   1.0000   0.9818   0.6552   0.6312   - 1.4312  \n",
      "\n",
      "Training 89     - 100    -            0.0519   0.0261   1.0000   1.0000   0.6483   0.6524   |            0.1744   1.0000   1.0000   0.6207   0.6496   - 1.4288  \n",
      "\n",
      "Training 90     - 100    -            0.0448   0.0241   1.0000   1.0000   0.6517   0.6266   |            0.1341   1.0000   1.0000   0.6414   0.6215   - 1.4312  \n",
      "\n",
      "Training 91     - 100    -            0.0659   0.0210   1.0000   1.0000   0.6414   0.6301   |            0.2296   0.9667   0.9818   0.6379   0.6363   - 1.4285  \n",
      "\n",
      "Training 92     - 100    -            0.0392   0.0242   1.0000   1.0000   0.6448   0.6418   |            0.1552   1.0000   1.0000   0.6517   0.6387   - 1.4270  \n",
      "\n",
      "Training 93     - 100    -            0.0543   0.0201   1.0000   1.0000   0.6621   0.6207   |            0.1625   1.0000   1.0000   0.6586   0.6182   - 1.4263  \n",
      "\n",
      "Training 94     - 100    -            0.0780   0.0219   1.0000   1.0000   0.6414   0.6249   |            0.2356   1.0000   0.9818   0.6310   0.6185   - 1.4317  \n",
      "\n",
      "Training 95     - 100    -            0.0442   0.0246   1.0000   1.0000   0.6483   0.6398   |            0.1636   1.0000   1.0000   0.6448   0.6145   - 1.4356  \n",
      "\n",
      "Training 96     - 100    -            0.0573   0.0254   1.0000   1.0000   0.6586   0.6414   |            0.2262   1.0000   0.9818   0.6517   0.6430   - 1.4285  \n",
      "\n",
      "Training 97     - 100    -            0.0708   0.0221   1.0000   1.0000   0.6310   0.6078   |            0.2083   1.0000   0.9818   0.6276   0.6058   - 1.4276  \n",
      "\n",
      "Training 98     - 100    -            0.0520   0.0257   1.0000   1.0000   0.6276   0.6320   |            0.1936   0.9667   0.9818   0.6310   0.6328   - 1.4301  \n",
      "\n",
      "Training 99     - 100    -            0.0357   0.0277   1.0000   1.0000   0.6207   0.6036   |            0.1302   1.0000   1.0000   0.6379   0.6073   - 1.4282  \n",
      "\n",
      "Training 100    - 100    -            0.0293   0.0227   1.0000   1.0000   0.6414   0.6254   |            0.1216   1.0000   1.0000   0.6448   0.6181   - 1.4228  \n",
      "\n",
      "Training 101    - 100    -            0.0917   0.0219   1.0000   0.9818   0.6483   0.6370   |            0.3272   0.9667   0.9600   0.6345   0.6297   - 1.4305  \n",
      "\n",
      "Training 102    - 100    -            0.0524   0.0339   1.0000   1.0000   0.6379   0.6227   |            0.1667   1.0000   1.0000   0.6276   0.6285   - 1.4297  \n",
      "\n",
      "Training 103    - 100    -            0.0320   0.0365   1.0000   1.0000   0.6379   0.6220   |            0.1315   1.0000   1.0000   0.6276   0.6185   - 1.4259  \n",
      "\n",
      "Training 104    - 100    -            0.0488   0.0268   1.0000   1.0000   0.6517   0.6495   |            0.1897   1.0000   0.9818   0.6448   0.6509   - 1.4317  \n",
      "\n",
      "Training 105    - 100    -            0.0397   0.0205   1.0000   1.0000   0.6414   0.6460   |            0.1669   0.9667   0.9818   0.6310   0.6217   - 1.4309  \n",
      "\n",
      "Training 106    - 100    -            0.0380   0.0217   1.0000   1.0000   0.6586   0.6448   |            0.1636   1.0000   1.0000   0.6483   0.6068   - 1.4287  \n",
      "\n",
      "Training 107    - 100    -            0.0341   0.0235   1.0000   1.0000   0.6448   0.6186   |            0.1335   1.0000   1.0000   0.6517   0.6284   - 1.4238  \n",
      "\n",
      "Training 108    - 100    -            0.0277   0.0179   1.0000   1.0000   0.6690   0.6520   |            0.1170   1.0000   1.0000   0.6517   0.6327   - 1.4302  \n",
      "\n",
      "Training 109    - 100    -            0.0392   0.0144   1.0000   1.0000   0.6379   0.6294   |            0.1837   0.9667   0.9485   0.6483   0.6385   - 1.4279  \n",
      "\n",
      "Training 110    - 100    -            0.0230   0.0127   1.0000   1.0000   0.6310   0.6277   |            0.1049   1.0000   1.0000   0.6345   0.6225   - 1.4384  \n",
      "\n",
      "Training 111    - 100    -            0.0424   0.0139   1.0000   1.0000   0.6483   0.6408   |            0.1695   1.0000   1.0000   0.6379   0.6275   - 1.4303  \n",
      "\n",
      "Training 112    - 100    -            0.0391   0.0151   1.0000   1.0000   0.6586   0.6381   |            0.1754   0.9667   0.9600   0.6379   0.6234   - 1.4322  \n",
      "\n",
      "Training 113    - 100    -            0.0432   0.0204   1.0000   1.0000   0.6414   0.6411   |            0.1479   1.0000   1.0000   0.6241   0.6171   - 1.4280  \n",
      "\n",
      "Training 114    - 100    -            0.0183   0.0191   1.0000   1.0000   0.6276   0.6290   |            0.0869   1.0000   1.0000   0.6379   0.6283   - 1.4304  \n",
      "\n",
      "Training 115    - 100    -            0.0270   0.0133   1.0000   1.0000   0.6483   0.6322   |            0.1224   1.0000   1.0000   0.6379   0.6345   - 1.4319  \n",
      "\n",
      "Training 116    - 100    -            0.2601   0.0336   0.9667   0.9455   0.6586   0.6315   |            0.4063   0.9333   0.9200   0.6517   0.6104   - 1.4438  \n",
      "\n",
      "Training 117    - 100    -            0.0379   0.0572   1.0000   1.0000   0.6276   0.6106   |            0.1416   1.0000   1.0000   0.6310   0.6163   - 1.4419  \n",
      "\n",
      "Training 118    - 100    -            0.0491   0.0470   1.0000   1.0000   0.6379   0.6338   |            0.2227   0.9667   0.9485   0.6379   0.6355   - 1.4456  \n",
      "\n",
      "Training 119    - 100    -            0.0306   0.0353   1.0000   1.0000   0.6517   0.6489   |            0.1138   1.0000   1.0000   0.6621   0.6400   - 1.4487  \n",
      "\n",
      "Training 120    - 100    -            0.0241   0.0254   1.0000   1.0000   0.6241   0.6286   |            0.0978   1.0000   1.0000   0.6310   0.6226   - 1.4466  \n",
      "\n",
      "Training 121    - 100    -            0.0182   0.0236   1.0000   1.0000   0.6345   0.6301   |            0.0800   1.0000   1.0000   0.6276   0.6257   - 1.4433  \n",
      "\n",
      "Training 122    - 100    -            0.0317   0.0190   1.0000   1.0000   0.6517   0.6300   |            0.1234   1.0000   1.0000   0.6552   0.6211   - 1.4447  \n",
      "\n",
      "Training 123    - 100    -            0.0509   0.0179   1.0000   1.0000   0.6448   0.6214   |            0.1643   1.0000   0.9818   0.6517   0.6184   - 1.4454  \n",
      "\n",
      "Training 124    - 100    -            0.0800   0.0192   1.0000   1.0000   0.6552   0.6242   |            0.2601   0.9667   0.9418   0.6483   0.6315   - 1.4469  \n",
      "\n",
      "Training 125    - 100    -            0.0404   0.0199   1.0000   1.0000   0.6241   0.6156   |            0.1569   0.9667   0.9818   0.6103   0.6207   - 1.4467  \n",
      "\n",
      "Training 126    - 100    -            0.0344   0.0211   1.0000   1.0000   0.6345   0.6292   |            0.1608   0.9667   0.9667   0.6345   0.6278   - 1.4409  \n",
      "\n",
      "Training 127    - 100    -            0.0249   0.0187   1.0000   1.0000   0.6483   0.6327   |            0.0874   1.0000   1.0000   0.6448   0.6273   - 1.4441  \n",
      "\n",
      "Training 128    - 100    -            0.0260   0.0145   1.0000   1.0000   0.6379   0.6275   |            0.1132   1.0000   1.0000   0.6379   0.6293   - 1.4416  \n",
      "\n",
      "Training 129    - 100    -            0.0264   0.0137   1.0000   1.0000   0.6448   0.6253   |            0.1018   1.0000   1.0000   0.6552   0.6247   - 1.4513  \n",
      "\n",
      "Training 130    - 100    -            0.0542   0.0117   1.0000   1.0000   0.6552   0.6122   |            0.1770   1.0000   0.9600   0.6448   0.6124   - 1.4401  \n",
      "\n",
      "Training 131    - 100    -            0.0146   0.0128   1.0000   1.0000   0.6586   0.6383   |            0.0734   1.0000   1.0000   0.6621   0.6378   - 1.4426  \n",
      "\n",
      "Training 132    - 100    -            0.0598   0.0132   1.0000   1.0000   0.6483   0.6277   |            0.1870   1.0000   0.9418   0.6379   0.6222   - 1.4473  \n",
      "\n",
      "Training 133    - 100    -            0.0209   0.0160   1.0000   1.0000   0.6448   0.6230   |            0.0894   1.0000   1.0000   0.6345   0.6192   - 1.4418  \n",
      "\n",
      "Training 134    - 100    -            0.1338   0.0440   0.9667   0.9667   0.6379   0.6228   |            0.3054   0.9333   0.9091   0.6414   0.6289   - 1.4513  \n",
      "\n",
      "Training 135    - 100    -            0.0305   0.0640   1.0000   1.0000   0.6586   0.6350   |            0.0985   1.0000   1.0000   0.6552   0.6290   - 1.4457  \n",
      "\n",
      "Training 136    - 100    -            0.0376   0.0434   1.0000   1.0000   0.6552   0.6217   |            0.1127   1.0000   1.0000   0.6517   0.6132   - 1.4444  \n",
      "\n",
      "Training 137    - 100    -            0.0348   0.0329   1.0000   1.0000   0.6690   0.6456   |            0.1430   1.0000   1.0000   0.6621   0.6436   - 1.4421  \n",
      "\n",
      "Training 138    - 100    -            0.0172   0.0250   1.0000   1.0000   0.6138   0.6226   |            0.0671   1.0000   1.0000   0.6241   0.6272   - 1.4462  \n",
      "\n",
      "Training 139    - 100    -            0.0277   0.0223   1.0000   1.0000   0.6379   0.6210   |            0.1163   1.0000   1.0000   0.6414   0.6317   - 1.4477  \n",
      "\n",
      "Training 140    - 100    -            0.1637   0.0213   0.9667   0.9455   0.6345   0.6296   |            0.3226   0.9333   0.9455   0.6414   0.6197   - 1.4465  \n",
      "\n",
      "Training 141    - 100    -            0.0287   0.0598   1.0000   1.0000   0.6552   0.6275   |            0.0947   1.0000   1.0000   0.6414   0.6078   - 1.4466  \n",
      "\n",
      "Training 142    - 100    -            0.0226   0.0380   1.0000   1.0000   0.6379   0.6044   |            0.0770   1.0000   1.0000   0.6345   0.6292   - 1.4326  \n",
      "\n",
      "Training 143    - 100    -            0.0832   0.0255   0.9667   0.9667   0.6517   0.6186   |            0.2427   0.9333   0.9273   0.6621   0.6271   - 1.4324  \n",
      "\n",
      "Training 144    - 100    -            0.0192   0.0320   1.0000   1.0000   0.6517   0.6238   |            0.0777   1.0000   1.0000   0.6241   0.6225   - 1.4326  \n",
      "\n",
      "Training 145    - 100    -            0.0304   0.0289   1.0000   1.0000   0.6483   0.6312   |            0.0991   1.0000   1.0000   0.6345   0.6369   - 1.4302  \n",
      "\n",
      "Training 146    - 100    -            0.0295   0.0260   1.0000   1.0000   0.6448   0.6193   |            0.1017   1.0000   1.0000   0.6310   0.6207   - 1.4305  \n",
      "\n",
      "Training 147    - 100    -            0.0496   0.0176   1.0000   1.0000   0.6655   0.6400   |            0.1891   0.9667   0.9818   0.6483   0.6218   - 1.4328  \n",
      "\n",
      "Training 148    - 100    -            0.0382   0.0147   1.0000   1.0000   0.6483   0.6412   |            0.1482   1.0000   0.9818   0.6483   0.6354   - 1.4380  \n",
      "\n",
      "Training 149    - 100    -            0.0114   0.0141   1.0000   1.0000   0.6517   0.6375   |            0.0564   1.0000   1.0000   0.6207   0.6074   - 1.4305  \n",
      "\n",
      "Training 150    - 100    -            0.0270   0.0118   1.0000   1.0000   0.6448   0.6514   |            0.1064   1.0000   1.0000   0.6483   0.6469   - 1.4321  \n",
      "\n",
      "Training 151    - 100    -            0.0644   0.0121   1.0000   1.0000   0.6621   0.6440   |            0.1515   1.0000   1.0000   0.6552   0.6320   - 1.4365  \n",
      "\n",
      "Training 152    - 100    -            0.0212   0.0186   1.0000   1.0000   0.6379   0.6115   |            0.0759   1.0000   1.0000   0.6345   0.6080   - 1.4307  \n",
      "\n",
      "Training 153    - 100    -            0.0204   0.0121   1.0000   1.0000   0.6448   0.6382   |            0.0885   1.0000   1.0000   0.6414   0.6395   - 1.4406  \n",
      "\n",
      "Training 154    - 100    -            0.0544   0.0086   1.0000   1.0000   0.6448   0.6286   |            0.1684   1.0000   0.9818   0.6414   0.6248   - 1.4346  \n",
      "\n",
      "Training 155    - 100    -            0.0334   0.0111   1.0000   1.0000   0.6759   0.6422   |            0.1312   1.0000   0.9600   0.6621   0.6376   - 1.4303  \n",
      "\n",
      "Training 156    - 100    -            0.0286   0.0105   1.0000   1.0000   0.6448   0.6308   |            0.0956   1.0000   1.0000   0.6517   0.6279   - 1.4320  \n",
      "\n",
      "Training 157    - 100    -            0.0184   0.0124   1.0000   1.0000   0.6345   0.6403   |            0.0808   1.0000   1.0000   0.6379   0.6354   - 1.4347  \n",
      "\n",
      "Training 158    - 100    -            0.0235   0.0094   1.0000   1.0000   0.6414   0.6350   |            0.1030   1.0000   1.0000   0.6379   0.6233   - 1.4383  \n",
      "\n",
      "Training 159    - 100    -            0.0284   0.0089   1.0000   1.0000   0.6552   0.6301   |            0.1333   1.0000   1.0000   0.6483   0.6246   - 1.4316  \n",
      "\n",
      "Training 160    - 100    -            0.0210   0.0070   1.0000   1.0000   0.6483   0.6534   |            0.0878   1.0000   0.9818   0.6310   0.6429   - 1.4297  \n",
      "\n",
      "Training 161    - 100    -            0.0216   0.0067   1.0000   1.0000   0.6552   0.6382   |            0.0767   1.0000   1.0000   0.6552   0.6359   - 1.4346  \n",
      "\n",
      "Training 162    - 100    -            0.0264   0.0086   1.0000   1.0000   0.6448   0.6243   |            0.1201   0.9667   0.9818   0.6379   0.6237   - 1.4335  \n",
      "\n",
      "Training 163    - 100    -            0.0137   0.0074   1.0000   1.0000   0.6690   0.6462   |            0.0547   1.0000   1.0000   0.6552   0.6377   - 1.4355  \n",
      "\n",
      "Training 164    - 100    -            0.0132   0.0067   1.0000   1.0000   0.6414   0.6290   |            0.0656   1.0000   1.0000   0.6448   0.6273   - 1.4358  \n",
      "\n",
      "Training 165    - 100    -            0.0247   0.0066   1.0000   1.0000   0.6483   0.6422   |            0.0926   1.0000   1.0000   0.6414   0.6237   - 1.4257  \n",
      "\n",
      "Training 166    - 100    -            0.0246   0.0054   1.0000   1.0000   0.6414   0.6435   |            0.1110   1.0000   1.0000   0.6241   0.6408   - 1.4275  \n",
      "\n",
      "Training 167    - 100    -            0.0189   0.0056   1.0000   1.0000   0.6483   0.6309   |            0.0742   1.0000   1.0000   0.6414   0.6315   - 1.4308  \n",
      "\n",
      "Training 168    - 100    -            0.0246   0.0089   1.0000   1.0000   0.6552   0.6207   |            0.0894   1.0000   1.0000   0.6586   0.6206   - 1.4299  \n",
      "\n",
      "Training 169    - 100    -            0.0156   0.0056   1.0000   1.0000   0.6345   0.6349   |            0.0851   1.0000   1.0000   0.6276   0.6281   - 1.4259  \n",
      "\n",
      "Training 170    - 100    -            0.0243   0.0051   1.0000   1.0000   0.6483   0.6401   |            0.1002   1.0000   1.0000   0.6379   0.6288   - 1.4331  \n",
      "\n",
      "Training 171    - 100    -            0.0147   0.0058   1.0000   1.0000   0.6483   0.6371   |            0.0617   1.0000   1.0000   0.6379   0.6259   - 1.4260  \n",
      "\n",
      "Training 172    - 100    -            0.0273   0.0058   1.0000   1.0000   0.6310   0.6367   |            0.1164   1.0000   1.0000   0.6310   0.6353   - 1.4380  \n",
      "\n",
      "Training 173    - 100    -            0.0170   0.0053   1.0000   1.0000   0.6552   0.6354   |            0.0618   1.0000   1.0000   0.6379   0.6389   - 1.5851  \n",
      "\n",
      "Training 174    - 100    -            0.0144   0.0082   1.0000   1.0000   0.6586   0.6235   |            0.0636   1.0000   1.0000   0.6483   0.6130   - 1.4990  \n",
      "\n",
      "Training 175    - 100    -            0.0240   0.0059   1.0000   1.0000   0.6379   0.6326   |            0.1017   1.0000   1.0000   0.6414   0.6235   - 1.4262  \n",
      "\n",
      "Training 176    - 100    -            0.0312   0.0048   1.0000   1.0000   0.6483   0.6426   |            0.1185   1.0000   0.9818   0.6448   0.6380   - 1.4266  \n",
      "\n",
      "Training 177    - 100    -            0.0155   0.0065   1.0000   1.0000   0.6448   0.6105   |            0.0693   1.0000   1.0000   0.6379   0.6117   - 1.4266  \n",
      "\n",
      "Training 178    - 100    -            0.0197   0.0061   1.0000   1.0000   0.6517   0.6249   |            0.0784   1.0000   1.0000   0.6379   0.6193   - 1.4295  \n",
      "\n",
      "Training 179    - 100    -            0.0274   0.0068   1.0000   1.0000   0.6586   0.6456   |            0.1251   1.0000   1.0000   0.6483   0.6368   - 1.4358  \n",
      "\n",
      "Training 180    - 100    -            0.0175   0.0070   1.0000   1.0000   0.6586   0.6372   |            0.0732   1.0000   1.0000   0.6517   0.6334   - 1.4308  \n",
      "\n",
      "Training 181    - 100    -            0.0338   0.0052   1.0000   1.0000   0.6690   0.6382   |            0.1013   1.0000   1.0000   0.6552   0.6331   - 1.4314  \n",
      "\n",
      "Training 182    - 100    -            0.0234   0.0051   1.0000   1.0000   0.6621   0.6440   |            0.0726   1.0000   1.0000   0.6621   0.6374   - 1.4403  \n",
      "\n",
      "Training 183    - 100    -            0.0138   0.0071   1.0000   1.0000   0.6448   0.6320   |            0.0544   1.0000   1.0000   0.6379   0.6372   - 1.4373  \n",
      "\n",
      "Training 184    - 100    -            0.0328   0.0057   1.0000   1.0000   0.6448   0.6383   |            0.1054   1.0000   1.0000   0.6448   0.6406   - 1.4307  \n",
      "\n",
      "Training 185    - 100    -            0.0205   0.0055   1.0000   1.0000   0.6517   0.6434   |            0.0694   1.0000   1.0000   0.6552   0.6458   - 1.4310  \n",
      "\n",
      "Training 186    - 100    -            0.0192   0.0050   1.0000   1.0000   0.6483   0.6345   |            0.0798   1.0000   1.0000   0.6517   0.6366   - 1.4322  \n",
      "\n",
      "Training 187    - 100    -            0.0184   0.0063   1.0000   1.0000   0.6655   0.6399   |            0.0714   1.0000   1.0000   0.6517   0.6358   - 1.4336  \n",
      "\n",
      "Training 188    - 100    -            0.0212   0.0045   1.0000   1.0000   0.6586   0.6478   |            0.0802   1.0000   1.0000   0.6621   0.6439   - 1.4336  \n",
      "\n",
      "Training 189    - 100    -            0.0618   0.0044   1.0000   0.9818   0.6414   0.6333   |            0.1551   0.9667   0.9600   0.6448   0.6295   - 1.4301  \n",
      "\n",
      "Training 190    - 100    -            0.0196   0.0057   1.0000   1.0000   0.6586   0.6376   |            0.0659   1.0000   1.0000   0.6586   0.6310   - 1.4265  \n",
      "\n",
      "Training 191    - 100    -            0.0187   0.0047   1.0000   1.0000   0.6655   0.6516   |            0.0762   1.0000   1.0000   0.6655   0.6502   - 1.4315  \n",
      "\n",
      "Training 192    - 100    -            0.0211   0.0052   1.0000   1.0000   0.6517   0.6375   |            0.0701   1.0000   1.0000   0.6552   0.6382   - 1.4277  \n",
      "\n",
      "Training 193    - 100    -            0.0160   0.0046   1.0000   1.0000   0.6621   0.6489   |            0.0590   1.0000   1.0000   0.6586   0.6457   - 1.4285  \n",
      "\n",
      "Training 194    - 100    -            0.0729   0.0047   1.0000   0.9818   0.6655   0.6333   |            0.2230   0.9667   0.9418   0.6552   0.6262   - 1.4279  \n",
      "\n",
      "Training 195    - 100    -            0.0391   0.0056   1.0000   1.0000   0.6621   0.6313   |            0.1261   0.9667   0.9667   0.6448   0.6274   - 1.4312  \n",
      "\n",
      "Training 196    - 100    -            0.0186   0.0047   1.0000   1.0000   0.6759   0.6497   |            0.0638   1.0000   1.0000   0.6621   0.6484   - 1.4280  \n",
      "\n",
      "Training 197    - 100    -            0.0153   0.0040   1.0000   1.0000   0.6483   0.6349   |            0.0504   1.0000   1.0000   0.6448   0.6366   - 1.4297  \n",
      "\n",
      "Training 198    - 100    -            0.0267   0.0047   1.0000   1.0000   0.6414   0.6323   |            0.0952   1.0000   1.0000   0.6310   0.6256   - 1.4281  \n",
      "\n",
      "Training 199    - 100    -            0.0179   0.0049   1.0000   1.0000   0.6345   0.6248   |            0.0640   1.0000   1.0000   0.6310   0.6129   - 1.4258  \n",
      "\n",
      "Training 200    - 100    -            0.0166   0.0042   1.0000   1.0000   0.6586   0.6450   |            0.0546   1.0000   1.0000   0.6621   0.6449   - 1.4722  \n"
     ]
    }
   ]
  },
  {
   "cell_type": "code",
   "execution_count": 41,
   "metadata": {},
   "outputs": [
    {
     "output_type": "execute_result",
     "data": {
      "text/plain": [
       "{'student_acc': tensor(0.7578, device='cuda:0'),\n",
       " 'teacher_acc': tensor(0.7266, device='cuda:0'),\n",
       " 'student_f1': tensor(0.7054, device='cuda:0'),\n",
       " 'teacher_f1': tensor(0.6857, device='cuda:0')}"
      ]
     },
     "metadata": {},
     "execution_count": 41
    }
   ],
   "source": [
    "trainer.maximum_tracker.max"
   ]
  },
  {
   "cell_type": "code",
   "execution_count": 42,
   "metadata": {},
   "outputs": [
    {
     "output_type": "display_data",
     "data": {
      "text/plain": "<Figure size 2160x1008 with 1 Axes>",
      "image/svg+xml": "<?xml version=\"1.0\" encoding=\"utf-8\" standalone=\"no\"?>\n<!DOCTYPE svg PUBLIC \"-//W3C//DTD SVG 1.1//EN\"\n  \"http://www.w3.org/Graphics/SVG/1.1/DTD/svg11.dtd\">\n<!-- Created with matplotlib (https://matplotlib.org/) -->\n<svg height=\"377.005398pt\" version=\"1.1\" viewBox=\"0 0 529.656066 377.005398\" width=\"529.656066pt\" xmlns=\"http://www.w3.org/2000/svg\" xmlns:xlink=\"http://www.w3.org/1999/xlink\">\n <defs>\n  <style type=\"text/css\">\n*{stroke-linecap:butt;stroke-linejoin:round;}\n  </style>\n </defs>\n <g id=\"figure_1\">\n  <g id=\"patch_1\">\n   <path d=\"M 0 377.005398 \nL 529.656066 377.005398 \nL 529.656066 -0 \nL 0 -0 \nz\n\" style=\"fill:none;\"/>\n  </g>\n  <g id=\"axes_1\">\n   <g id=\"patch_2\">\n    <path d=\"M 30.103125 353.127273 \nL 522.456066 353.127273 \nL 522.456066 7.2 \nL 30.103125 7.2 \nz\n\" style=\"fill:#ffffff;\"/>\n   </g>\n   <g id=\"matplotlib.axis_1\">\n    <g id=\"xtick_1\">\n     <g id=\"line2d_1\">\n      <defs>\n       <path d=\"M 0 0 \nL 0 3.5 \n\" id=\"m7071de4a52\" style=\"stroke:#000000;stroke-width:0.8;\"/>\n      </defs>\n      <g>\n       <use style=\"stroke:#000000;stroke-width:0.8;\" x=\"52.482804\" xlink:href=\"#m7071de4a52\" y=\"353.127273\"/>\n      </g>\n     </g>\n     <g id=\"text_1\">\n      <!-- 0 -->\n      <defs>\n       <path d=\"M 31.78125 66.40625 \nQ 24.171875 66.40625 20.328125 58.90625 \nQ 16.5 51.421875 16.5 36.375 \nQ 16.5 21.390625 20.328125 13.890625 \nQ 24.171875 6.390625 31.78125 6.390625 \nQ 39.453125 6.390625 43.28125 13.890625 \nQ 47.125 21.390625 47.125 36.375 \nQ 47.125 51.421875 43.28125 58.90625 \nQ 39.453125 66.40625 31.78125 66.40625 \nz\nM 31.78125 74.21875 \nQ 44.046875 74.21875 50.515625 64.515625 \nQ 56.984375 54.828125 56.984375 36.375 \nQ 56.984375 17.96875 50.515625 8.265625 \nQ 44.046875 -1.421875 31.78125 -1.421875 \nQ 19.53125 -1.421875 13.0625 8.265625 \nQ 6.59375 17.96875 6.59375 36.375 \nQ 6.59375 54.828125 13.0625 64.515625 \nQ 19.53125 74.21875 31.78125 74.21875 \nz\n\" id=\"DejaVuSans-48\"/>\n      </defs>\n      <g transform=\"translate(49.301554 367.72571)scale(0.1 -0.1)\">\n       <use xlink:href=\"#DejaVuSans-48\"/>\n      </g>\n     </g>\n    </g>\n    <g id=\"xtick_2\">\n     <g id=\"line2d_2\">\n      <g>\n       <use style=\"stroke:#000000;stroke-width:0.8;\" x=\"108.713154\" xlink:href=\"#m7071de4a52\" y=\"353.127273\"/>\n      </g>\n     </g>\n     <g id=\"text_2\">\n      <!-- 25 -->\n      <defs>\n       <path d=\"M 19.1875 8.296875 \nL 53.609375 8.296875 \nL 53.609375 0 \nL 7.328125 0 \nL 7.328125 8.296875 \nQ 12.9375 14.109375 22.625 23.890625 \nQ 32.328125 33.6875 34.8125 36.53125 \nQ 39.546875 41.84375 41.421875 45.53125 \nQ 43.3125 49.21875 43.3125 52.78125 \nQ 43.3125 58.59375 39.234375 62.25 \nQ 35.15625 65.921875 28.609375 65.921875 \nQ 23.96875 65.921875 18.8125 64.3125 \nQ 13.671875 62.703125 7.8125 59.421875 \nL 7.8125 69.390625 \nQ 13.765625 71.78125 18.9375 73 \nQ 24.125 74.21875 28.421875 74.21875 \nQ 39.75 74.21875 46.484375 68.546875 \nQ 53.21875 62.890625 53.21875 53.421875 \nQ 53.21875 48.921875 51.53125 44.890625 \nQ 49.859375 40.875 45.40625 35.40625 \nQ 44.1875 33.984375 37.640625 27.21875 \nQ 31.109375 20.453125 19.1875 8.296875 \nz\n\" id=\"DejaVuSans-50\"/>\n       <path d=\"M 10.796875 72.90625 \nL 49.515625 72.90625 \nL 49.515625 64.59375 \nL 19.828125 64.59375 \nL 19.828125 46.734375 \nQ 21.96875 47.46875 24.109375 47.828125 \nQ 26.265625 48.1875 28.421875 48.1875 \nQ 40.625 48.1875 47.75 41.5 \nQ 54.890625 34.8125 54.890625 23.390625 \nQ 54.890625 11.625 47.5625 5.09375 \nQ 40.234375 -1.421875 26.90625 -1.421875 \nQ 22.3125 -1.421875 17.546875 -0.640625 \nQ 12.796875 0.140625 7.71875 1.703125 \nL 7.71875 11.625 \nQ 12.109375 9.234375 16.796875 8.0625 \nQ 21.484375 6.890625 26.703125 6.890625 \nQ 35.15625 6.890625 40.078125 11.328125 \nQ 45.015625 15.765625 45.015625 23.390625 \nQ 45.015625 31 40.078125 35.4375 \nQ 35.15625 39.890625 26.703125 39.890625 \nQ 22.75 39.890625 18.8125 39.015625 \nQ 14.890625 38.140625 10.796875 36.28125 \nz\n\" id=\"DejaVuSans-53\"/>\n      </defs>\n      <g transform=\"translate(102.350654 367.72571)scale(0.1 -0.1)\">\n       <use xlink:href=\"#DejaVuSans-50\"/>\n       <use x=\"63.623047\" xlink:href=\"#DejaVuSans-53\"/>\n      </g>\n     </g>\n    </g>\n    <g id=\"xtick_3\">\n     <g id=\"line2d_3\">\n      <g>\n       <use style=\"stroke:#000000;stroke-width:0.8;\" x=\"164.943503\" xlink:href=\"#m7071de4a52\" y=\"353.127273\"/>\n      </g>\n     </g>\n     <g id=\"text_3\">\n      <!-- 50 -->\n      <g transform=\"translate(158.581003 367.72571)scale(0.1 -0.1)\">\n       <use xlink:href=\"#DejaVuSans-53\"/>\n       <use x=\"63.623047\" xlink:href=\"#DejaVuSans-48\"/>\n      </g>\n     </g>\n    </g>\n    <g id=\"xtick_4\">\n     <g id=\"line2d_4\">\n      <g>\n       <use style=\"stroke:#000000;stroke-width:0.8;\" x=\"221.173853\" xlink:href=\"#m7071de4a52\" y=\"353.127273\"/>\n      </g>\n     </g>\n     <g id=\"text_4\">\n      <!-- 75 -->\n      <defs>\n       <path d=\"M 8.203125 72.90625 \nL 55.078125 72.90625 \nL 55.078125 68.703125 \nL 28.609375 0 \nL 18.3125 0 \nL 43.21875 64.59375 \nL 8.203125 64.59375 \nz\n\" id=\"DejaVuSans-55\"/>\n      </defs>\n      <g transform=\"translate(214.811353 367.72571)scale(0.1 -0.1)\">\n       <use xlink:href=\"#DejaVuSans-55\"/>\n       <use x=\"63.623047\" xlink:href=\"#DejaVuSans-53\"/>\n      </g>\n     </g>\n    </g>\n    <g id=\"xtick_5\">\n     <g id=\"line2d_5\">\n      <g>\n       <use style=\"stroke:#000000;stroke-width:0.8;\" x=\"277.404203\" xlink:href=\"#m7071de4a52\" y=\"353.127273\"/>\n      </g>\n     </g>\n     <g id=\"text_5\">\n      <!-- 100 -->\n      <defs>\n       <path d=\"M 12.40625 8.296875 \nL 28.515625 8.296875 \nL 28.515625 63.921875 \nL 10.984375 60.40625 \nL 10.984375 69.390625 \nL 28.421875 72.90625 \nL 38.28125 72.90625 \nL 38.28125 8.296875 \nL 54.390625 8.296875 \nL 54.390625 0 \nL 12.40625 0 \nz\n\" id=\"DejaVuSans-49\"/>\n      </defs>\n      <g transform=\"translate(267.860453 367.72571)scale(0.1 -0.1)\">\n       <use xlink:href=\"#DejaVuSans-49\"/>\n       <use x=\"63.623047\" xlink:href=\"#DejaVuSans-48\"/>\n       <use x=\"127.246094\" xlink:href=\"#DejaVuSans-48\"/>\n      </g>\n     </g>\n    </g>\n    <g id=\"xtick_6\">\n     <g id=\"line2d_6\">\n      <g>\n       <use style=\"stroke:#000000;stroke-width:0.8;\" x=\"333.634552\" xlink:href=\"#m7071de4a52\" y=\"353.127273\"/>\n      </g>\n     </g>\n     <g id=\"text_6\">\n      <!-- 125 -->\n      <g transform=\"translate(324.090802 367.72571)scale(0.1 -0.1)\">\n       <use xlink:href=\"#DejaVuSans-49\"/>\n       <use x=\"63.623047\" xlink:href=\"#DejaVuSans-50\"/>\n       <use x=\"127.246094\" xlink:href=\"#DejaVuSans-53\"/>\n      </g>\n     </g>\n    </g>\n    <g id=\"xtick_7\">\n     <g id=\"line2d_7\">\n      <g>\n       <use style=\"stroke:#000000;stroke-width:0.8;\" x=\"389.864902\" xlink:href=\"#m7071de4a52\" y=\"353.127273\"/>\n      </g>\n     </g>\n     <g id=\"text_7\">\n      <!-- 150 -->\n      <g transform=\"translate(380.321152 367.72571)scale(0.1 -0.1)\">\n       <use xlink:href=\"#DejaVuSans-49\"/>\n       <use x=\"63.623047\" xlink:href=\"#DejaVuSans-53\"/>\n       <use x=\"127.246094\" xlink:href=\"#DejaVuSans-48\"/>\n      </g>\n     </g>\n    </g>\n    <g id=\"xtick_8\">\n     <g id=\"line2d_8\">\n      <g>\n       <use style=\"stroke:#000000;stroke-width:0.8;\" x=\"446.095251\" xlink:href=\"#m7071de4a52\" y=\"353.127273\"/>\n      </g>\n     </g>\n     <g id=\"text_8\">\n      <!-- 175 -->\n      <g transform=\"translate(436.551501 367.72571)scale(0.1 -0.1)\">\n       <use xlink:href=\"#DejaVuSans-49\"/>\n       <use x=\"63.623047\" xlink:href=\"#DejaVuSans-55\"/>\n       <use x=\"127.246094\" xlink:href=\"#DejaVuSans-53\"/>\n      </g>\n     </g>\n    </g>\n    <g id=\"xtick_9\">\n     <g id=\"line2d_9\">\n      <g>\n       <use style=\"stroke:#000000;stroke-width:0.8;\" x=\"502.325601\" xlink:href=\"#m7071de4a52\" y=\"353.127273\"/>\n      </g>\n     </g>\n     <g id=\"text_9\">\n      <!-- 200 -->\n      <g transform=\"translate(492.781851 367.72571)scale(0.1 -0.1)\">\n       <use xlink:href=\"#DejaVuSans-50\"/>\n       <use x=\"63.623047\" xlink:href=\"#DejaVuSans-48\"/>\n       <use x=\"127.246094\" xlink:href=\"#DejaVuSans-48\"/>\n      </g>\n     </g>\n    </g>\n   </g>\n   <g id=\"matplotlib.axis_2\">\n    <g id=\"ytick_1\">\n     <g id=\"line2d_10\">\n      <defs>\n       <path d=\"M 0 0 \nL -3.5 0 \n\" id=\"mb118424d98\" style=\"stroke:#000000;stroke-width:0.8;\"/>\n      </defs>\n      <g>\n       <use style=\"stroke:#000000;stroke-width:0.8;\" x=\"30.103125\" xlink:href=\"#mb118424d98\" y=\"330.82118\"/>\n      </g>\n     </g>\n     <g id=\"text_10\">\n      <!-- 0.1 -->\n      <defs>\n       <path d=\"M 10.6875 12.40625 \nL 21 12.40625 \nL 21 0 \nL 10.6875 0 \nz\n\" id=\"DejaVuSans-46\"/>\n      </defs>\n      <g transform=\"translate(7.2 334.620399)scale(0.1 -0.1)\">\n       <use xlink:href=\"#DejaVuSans-48\"/>\n       <use x=\"63.623047\" xlink:href=\"#DejaVuSans-46\"/>\n       <use x=\"95.410156\" xlink:href=\"#DejaVuSans-49\"/>\n      </g>\n     </g>\n    </g>\n    <g id=\"ytick_2\">\n     <g id=\"line2d_11\">\n      <g>\n       <use style=\"stroke:#000000;stroke-width:0.8;\" x=\"30.103125\" xlink:href=\"#mb118424d98\" y=\"284.014953\"/>\n      </g>\n     </g>\n     <g id=\"text_11\">\n      <!-- 0.2 -->\n      <g transform=\"translate(7.2 287.814172)scale(0.1 -0.1)\">\n       <use xlink:href=\"#DejaVuSans-48\"/>\n       <use x=\"63.623047\" xlink:href=\"#DejaVuSans-46\"/>\n       <use x=\"95.410156\" xlink:href=\"#DejaVuSans-50\"/>\n      </g>\n     </g>\n    </g>\n    <g id=\"ytick_3\">\n     <g id=\"line2d_12\">\n      <g>\n       <use style=\"stroke:#000000;stroke-width:0.8;\" x=\"30.103125\" xlink:href=\"#mb118424d98\" y=\"237.208726\"/>\n      </g>\n     </g>\n     <g id=\"text_12\">\n      <!-- 0.3 -->\n      <defs>\n       <path d=\"M 40.578125 39.3125 \nQ 47.65625 37.796875 51.625 33 \nQ 55.609375 28.21875 55.609375 21.1875 \nQ 55.609375 10.40625 48.1875 4.484375 \nQ 40.765625 -1.421875 27.09375 -1.421875 \nQ 22.515625 -1.421875 17.65625 -0.515625 \nQ 12.796875 0.390625 7.625 2.203125 \nL 7.625 11.71875 \nQ 11.71875 9.328125 16.59375 8.109375 \nQ 21.484375 6.890625 26.8125 6.890625 \nQ 36.078125 6.890625 40.9375 10.546875 \nQ 45.796875 14.203125 45.796875 21.1875 \nQ 45.796875 27.640625 41.28125 31.265625 \nQ 36.765625 34.90625 28.71875 34.90625 \nL 20.21875 34.90625 \nL 20.21875 43.015625 \nL 29.109375 43.015625 \nQ 36.375 43.015625 40.234375 45.921875 \nQ 44.09375 48.828125 44.09375 54.296875 \nQ 44.09375 59.90625 40.109375 62.90625 \nQ 36.140625 65.921875 28.71875 65.921875 \nQ 24.65625 65.921875 20.015625 65.03125 \nQ 15.375 64.15625 9.8125 62.3125 \nL 9.8125 71.09375 \nQ 15.4375 72.65625 20.34375 73.4375 \nQ 25.25 74.21875 29.59375 74.21875 \nQ 40.828125 74.21875 47.359375 69.109375 \nQ 53.90625 64.015625 53.90625 55.328125 \nQ 53.90625 49.265625 50.4375 45.09375 \nQ 46.96875 40.921875 40.578125 39.3125 \nz\n\" id=\"DejaVuSans-51\"/>\n      </defs>\n      <g transform=\"translate(7.2 241.007944)scale(0.1 -0.1)\">\n       <use xlink:href=\"#DejaVuSans-48\"/>\n       <use x=\"63.623047\" xlink:href=\"#DejaVuSans-46\"/>\n       <use x=\"95.410156\" xlink:href=\"#DejaVuSans-51\"/>\n      </g>\n     </g>\n    </g>\n    <g id=\"ytick_4\">\n     <g id=\"line2d_13\">\n      <g>\n       <use style=\"stroke:#000000;stroke-width:0.8;\" x=\"30.103125\" xlink:href=\"#mb118424d98\" y=\"190.402499\"/>\n      </g>\n     </g>\n     <g id=\"text_13\">\n      <!-- 0.4 -->\n      <defs>\n       <path d=\"M 37.796875 64.3125 \nL 12.890625 25.390625 \nL 37.796875 25.390625 \nz\nM 35.203125 72.90625 \nL 47.609375 72.90625 \nL 47.609375 25.390625 \nL 58.015625 25.390625 \nL 58.015625 17.1875 \nL 47.609375 17.1875 \nL 47.609375 0 \nL 37.796875 0 \nL 37.796875 17.1875 \nL 4.890625 17.1875 \nL 4.890625 26.703125 \nz\n\" id=\"DejaVuSans-52\"/>\n      </defs>\n      <g transform=\"translate(7.2 194.201717)scale(0.1 -0.1)\">\n       <use xlink:href=\"#DejaVuSans-48\"/>\n       <use x=\"63.623047\" xlink:href=\"#DejaVuSans-46\"/>\n       <use x=\"95.410156\" xlink:href=\"#DejaVuSans-52\"/>\n      </g>\n     </g>\n    </g>\n    <g id=\"ytick_5\">\n     <g id=\"line2d_14\">\n      <g>\n       <use style=\"stroke:#000000;stroke-width:0.8;\" x=\"30.103125\" xlink:href=\"#mb118424d98\" y=\"143.596271\"/>\n      </g>\n     </g>\n     <g id=\"text_14\">\n      <!-- 0.5 -->\n      <g transform=\"translate(7.2 147.39549)scale(0.1 -0.1)\">\n       <use xlink:href=\"#DejaVuSans-48\"/>\n       <use x=\"63.623047\" xlink:href=\"#DejaVuSans-46\"/>\n       <use x=\"95.410156\" xlink:href=\"#DejaVuSans-53\"/>\n      </g>\n     </g>\n    </g>\n    <g id=\"ytick_6\">\n     <g id=\"line2d_15\">\n      <g>\n       <use style=\"stroke:#000000;stroke-width:0.8;\" x=\"30.103125\" xlink:href=\"#mb118424d98\" y=\"96.790044\"/>\n      </g>\n     </g>\n     <g id=\"text_15\">\n      <!-- 0.6 -->\n      <defs>\n       <path d=\"M 33.015625 40.375 \nQ 26.375 40.375 22.484375 35.828125 \nQ 18.609375 31.296875 18.609375 23.390625 \nQ 18.609375 15.53125 22.484375 10.953125 \nQ 26.375 6.390625 33.015625 6.390625 \nQ 39.65625 6.390625 43.53125 10.953125 \nQ 47.40625 15.53125 47.40625 23.390625 \nQ 47.40625 31.296875 43.53125 35.828125 \nQ 39.65625 40.375 33.015625 40.375 \nz\nM 52.59375 71.296875 \nL 52.59375 62.3125 \nQ 48.875 64.0625 45.09375 64.984375 \nQ 41.3125 65.921875 37.59375 65.921875 \nQ 27.828125 65.921875 22.671875 59.328125 \nQ 17.53125 52.734375 16.796875 39.40625 \nQ 19.671875 43.65625 24.015625 45.921875 \nQ 28.375 48.1875 33.59375 48.1875 \nQ 44.578125 48.1875 50.953125 41.515625 \nQ 57.328125 34.859375 57.328125 23.390625 \nQ 57.328125 12.15625 50.6875 5.359375 \nQ 44.046875 -1.421875 33.015625 -1.421875 \nQ 20.359375 -1.421875 13.671875 8.265625 \nQ 6.984375 17.96875 6.984375 36.375 \nQ 6.984375 53.65625 15.1875 63.9375 \nQ 23.390625 74.21875 37.203125 74.21875 \nQ 40.921875 74.21875 44.703125 73.484375 \nQ 48.484375 72.75 52.59375 71.296875 \nz\n\" id=\"DejaVuSans-54\"/>\n      </defs>\n      <g transform=\"translate(7.2 100.589263)scale(0.1 -0.1)\">\n       <use xlink:href=\"#DejaVuSans-48\"/>\n       <use x=\"63.623047\" xlink:href=\"#DejaVuSans-46\"/>\n       <use x=\"95.410156\" xlink:href=\"#DejaVuSans-54\"/>\n      </g>\n     </g>\n    </g>\n    <g id=\"ytick_7\">\n     <g id=\"line2d_16\">\n      <g>\n       <use style=\"stroke:#000000;stroke-width:0.8;\" x=\"30.103125\" xlink:href=\"#mb118424d98\" y=\"49.983817\"/>\n      </g>\n     </g>\n     <g id=\"text_16\">\n      <!-- 0.7 -->\n      <g transform=\"translate(7.2 53.783036)scale(0.1 -0.1)\">\n       <use xlink:href=\"#DejaVuSans-48\"/>\n       <use x=\"63.623047\" xlink:href=\"#DejaVuSans-46\"/>\n       <use x=\"95.410156\" xlink:href=\"#DejaVuSans-55\"/>\n      </g>\n     </g>\n    </g>\n   </g>\n   <g id=\"line2d_17\">\n    <path clip-path=\"url(#pd075bea46d)\" d=\"M 52.482804 337.403306 \nL 54.732018 326.433096 \nL 56.981232 224.044474 \nL 59.230446 187.477109 \nL 61.47966 187.477109 \nL 63.728874 256.955103 \nL 65.978088 172.850163 \nL 68.227302 139.939535 \nL 70.476516 161.879954 \nL 72.72573 198.447319 \nL 74.974944 125.312589 \nL 77.224158 161.879954 \nL 79.473372 125.312589 \nL 81.722586 103.37217 \nL 83.9718 88.745224 \nL 86.221014 114.342379 \nL 88.470228 125.312589 \nL 90.719442 117.999116 \nL 92.968656 143.596271 \nL 95.21787 176.5069 \nL 97.467084 128.969325 \nL 99.716298 249.64163 \nL 101.965512 103.37217 \nL 104.214726 96.058697 \nL 106.46394 81.431751 \nL 108.713154 132.626062 \nL 110.962368 125.312589 \nL 113.211582 107.028906 \nL 115.460796 143.596271 \nL 117.71001 74.118278 \nL 119.959224 107.028906 \nL 122.208438 44.864386 \nL 124.457652 85.088487 \nL 126.706866 74.118278 \nL 128.95608 158.223217 \nL 131.205294 59.491332 \nL 133.454508 114.342379 \nL 135.703722 37.550913 \nL 137.952936 128.969325 \nL 140.20215 52.177859 \nL 142.451364 70.461541 \nL 144.700578 92.40196 \nL 146.949791 139.939535 \nL 149.199005 92.40196 \nL 151.448219 81.431751 \nL 153.697433 121.655852 \nL 155.946647 70.461541 \nL 158.195861 63.148068 \nL 160.445075 70.461541 \nL 162.694289 99.715433 \nL 164.943503 74.118278 \nL 167.192717 92.40196 \nL 169.441931 22.923967 \nL 171.691145 81.431751 \nL 173.940359 114.342379 \nL 176.189573 88.745224 \nL 178.438787 74.118278 \nL 180.688001 117.999116 \nL 182.937215 52.177859 \nL 185.186429 66.804805 \nL 187.435643 103.37217 \nL 189.684857 63.148068 \nL 191.934071 48.521122 \nL 194.183285 107.028906 \nL 196.432499 77.775014 \nL 198.681713 66.804805 \nL 200.930927 96.058697 \nL 203.180141 66.804805 \nL 205.429355 85.088487 \nL 209.927783 63.148068 \nL 212.176997 107.028906 \nL 214.426211 77.775014 \nL 216.675425 121.655852 \nL 218.924639 96.058697 \nL 221.173853 63.148068 \nL 223.423067 66.804805 \nL 225.672281 63.148068 \nL 227.921495 66.804805 \nL 230.170709 63.148068 \nL 232.419923 77.775014 \nL 234.669137 110.685643 \nL 236.918351 103.37217 \nL 239.167565 107.028906 \nL 241.416779 70.461541 \nL 243.665993 70.461541 \nL 245.915207 99.715433 \nL 248.164421 63.148068 \nL 250.413635 92.40196 \nL 254.912063 48.521122 \nL 257.161277 85.088487 \nL 259.410491 77.775014 \nL 261.659705 74.118278 \nL 263.908919 66.804805 \nL 266.158133 63.148068 \nL 268.407347 88.745224 \nL 270.656561 96.058697 \nL 272.905775 85.088487 \nL 275.154989 96.058697 \nL 277.404203 81.431751 \nL 279.653417 74.118278 \nL 281.902631 77.775014 \nL 286.401059 63.148068 \nL 288.650273 107.028906 \nL 290.899486 81.431751 \nL 293.1487 52.177859 \nL 295.397914 66.804805 \nL 297.647128 63.148068 \nL 299.896342 66.804805 \nL 302.145556 59.491332 \nL 304.39477 88.745224 \nL 306.643984 92.40196 \nL 308.893198 77.775014 \nL 311.142412 74.118278 \nL 313.391626 117.999116 \nL 315.64084 85.088487 \nL 317.890054 55.834595 \nL 320.139268 99.715433 \nL 322.388482 55.834595 \nL 324.637696 70.461541 \nL 326.88691 74.118278 \nL 329.136124 88.745224 \nL 331.385338 107.028906 \nL 333.634552 77.775014 \nL 335.883766 77.775014 \nL 338.13298 88.745224 \nL 340.382194 66.804805 \nL 342.631408 74.118278 \nL 344.880622 85.088487 \nL 347.129836 107.028906 \nL 349.37905 81.431751 \nL 351.628264 70.461541 \nL 353.877478 103.37217 \nL 356.126692 114.342379 \nL 358.375906 110.685643 \nL 360.62512 48.521122 \nL 362.874334 103.37217 \nL 365.123548 74.118278 \nL 367.372762 85.088487 \nL 369.621976 125.312589 \nL 371.87119 63.148068 \nL 374.120404 103.37217 \nL 376.369618 66.804805 \nL 378.618832 77.775014 \nL 380.868046 74.118278 \nL 383.11726 77.775014 \nL 385.366474 88.745224 \nL 387.615688 85.088487 \nL 389.864902 88.745224 \nL 392.114116 81.431751 \nL 394.36333 81.431751 \nL 396.612544 96.058697 \nL 398.861758 63.148068 \nL 401.110972 66.804805 \nL 403.360186 92.40196 \nL 405.6094 52.177859 \nL 407.858614 66.804805 \nL 410.107828 77.775014 \nL 412.357042 70.461541 \nL 414.606256 66.804805 \nL 416.85547 99.715433 \nL 419.104684 103.37217 \nL 421.353898 74.118278 \nL 423.603112 85.088487 \nL 425.852326 66.804805 \nL 428.10154 77.775014 \nL 430.350754 107.028906 \nL 432.599968 74.118278 \nL 434.849181 77.775014 \nL 437.098395 77.775014 \nL 439.347609 55.834595 \nL 441.596823 77.775014 \nL 448.344465 44.864386 \nL 450.593679 88.745224 \nL 452.842893 74.118278 \nL 455.092107 88.745224 \nL 457.341321 121.655852 \nL 459.590535 103.37217 \nL 461.839749 81.431751 \nL 464.088963 66.804805 \nL 466.338177 77.775014 \nL 468.587391 96.058697 \nL 470.836605 88.745224 \nL 473.085819 66.804805 \nL 475.335033 88.745224 \nL 477.584247 88.745224 \nL 479.833461 66.804805 \nL 482.082675 88.745224 \nL 484.331889 77.775014 \nL 488.830317 77.775014 \nL 491.079531 66.804805 \nL 493.328745 77.775014 \nL 495.577959 96.058697 \nL 497.827173 52.177859 \nL 500.076387 77.775014 \nL 500.076387 77.775014 \n\" style=\"fill:none;stroke:#1f77b4;stroke-linecap:square;stroke-width:1.5;\"/>\n   </g>\n   <g id=\"line2d_18\">\n    <path clip-path=\"url(#pd075bea46d)\" d=\"M 52.482804 275.238785 \nL 54.732018 209.417528 \nL 56.981232 245.984893 \nL 59.230446 143.596271 \nL 61.47966 183.820373 \nL 63.728874 183.820373 \nL 65.978088 143.596271 \nL 68.227302 169.193427 \nL 70.476516 132.626062 \nL 72.72573 191.133846 \nL 74.974944 136.282798 \nL 77.224158 169.193427 \nL 79.473372 117.999116 \nL 81.722586 117.999116 \nL 83.9718 125.312589 \nL 86.221014 128.969325 \nL 88.470228 139.939535 \nL 90.719442 161.879954 \nL 92.968656 99.715433 \nL 95.21787 180.163636 \nL 97.467084 81.431751 \nL 99.716298 191.133846 \nL 101.965512 147.253008 \nL 104.214726 172.850163 \nL 106.46394 132.626062 \nL 108.713154 136.282798 \nL 110.962368 150.909744 \nL 113.211582 110.685643 \nL 115.460796 150.909744 \nL 117.71001 128.969325 \nL 119.959224 132.626062 \nL 122.208438 117.999116 \nL 124.457652 121.655852 \nL 126.706866 136.282798 \nL 128.95608 110.685643 \nL 131.205294 147.253008 \nL 133.454508 96.058697 \nL 135.703722 114.342379 \nL 137.952936 88.745224 \nL 140.20215 99.715433 \nL 142.451364 103.37217 \nL 144.700578 136.282798 \nL 146.949791 154.566481 \nL 149.199005 74.118278 \nL 151.448219 103.37217 \nL 153.697433 117.999116 \nL 155.946647 107.028906 \nL 158.195861 132.626062 \nL 160.445075 103.37217 \nL 162.694289 117.999116 \nL 164.943503 81.431751 \nL 167.192717 125.312589 \nL 169.441931 66.804805 \nL 171.691145 92.40196 \nL 173.940359 81.431751 \nL 176.189573 114.342379 \nL 178.438787 81.431751 \nL 180.688001 96.058697 \nL 182.937215 114.342379 \nL 185.186429 74.118278 \nL 187.435643 128.969325 \nL 189.684857 85.088487 \nL 191.934071 81.431751 \nL 194.183285 85.088487 \nL 196.432499 99.715433 \nL 198.681713 99.715433 \nL 200.930927 139.939535 \nL 203.180141 77.775014 \nL 205.429355 96.058697 \nL 207.678569 88.745224 \nL 209.927783 107.028906 \nL 212.176997 121.655852 \nL 214.426211 88.745224 \nL 216.675425 121.655852 \nL 218.924639 74.118278 \nL 221.173853 77.775014 \nL 223.423067 99.715433 \nL 225.672281 92.40196 \nL 227.921495 48.521122 \nL 230.170709 48.521122 \nL 232.419923 52.177859 \nL 234.669137 132.626062 \nL 236.918351 70.461541 \nL 239.167565 99.715433 \nL 241.416779 59.491332 \nL 243.665993 74.118278 \nL 245.915207 125.312589 \nL 248.164421 88.745224 \nL 250.413635 121.655852 \nL 252.662849 99.715433 \nL 254.912063 52.177859 \nL 257.161277 99.715433 \nL 259.410491 70.461541 \nL 261.659705 85.088487 \nL 263.908919 85.088487 \nL 266.158133 37.550913 \nL 268.407347 92.40196 \nL 270.656561 74.118278 \nL 272.905775 85.088487 \nL 275.154989 117.999116 \nL 277.404203 103.37217 \nL 279.653417 107.028906 \nL 281.902631 99.715433 \nL 284.151845 74.118278 \nL 286.401059 96.058697 \nL 288.650273 110.685643 \nL 290.899486 92.40196 \nL 293.1487 96.058697 \nL 295.397914 117.999116 \nL 297.647128 85.088487 \nL 299.896342 59.491332 \nL 302.145556 74.118278 \nL 304.39477 103.37217 \nL 306.643984 103.37217 \nL 308.893198 114.342379 \nL 311.142412 99.715433 \nL 313.391626 114.342379 \nL 315.64084 70.461541 \nL 317.890054 81.431751 \nL 320.139268 121.655852 \nL 322.388482 59.491332 \nL 324.637696 66.804805 \nL 326.88691 70.461541 \nL 329.136124 92.40196 \nL 331.385338 103.37217 \nL 333.634552 81.431751 \nL 335.883766 70.461541 \nL 338.13298 107.028906 \nL 340.382194 59.491332 \nL 342.631408 107.028906 \nL 344.880622 107.028906 \nL 347.129836 125.312589 \nL 349.37905 107.028906 \nL 351.628264 70.461541 \nL 353.877478 88.745224 \nL 356.126692 66.804805 \nL 358.375906 103.37217 \nL 360.62512 74.118278 \nL 362.874334 114.342379 \nL 365.123548 96.058697 \nL 367.372762 114.342379 \nL 369.621976 96.058697 \nL 371.87119 66.804805 \nL 374.120404 77.775014 \nL 376.369618 77.775014 \nL 378.618832 96.058697 \nL 380.868046 41.207649 \nL 383.11726 66.804805 \nL 385.366474 85.088487 \nL 387.615688 96.058697 \nL 389.864902 125.312589 \nL 392.114116 110.685643 \nL 394.36333 81.431751 \nL 396.612544 114.342379 \nL 398.861758 96.058697 \nL 401.110972 63.148068 \nL 403.360186 110.685643 \nL 405.6094 70.461541 \nL 407.858614 55.834595 \nL 410.107828 81.431751 \nL 412.357042 96.058697 \nL 414.606256 70.461541 \nL 416.85547 96.058697 \nL 419.104684 77.775014 \nL 421.353898 77.775014 \nL 423.603112 70.461541 \nL 425.852326 99.715433 \nL 428.10154 85.088487 \nL 430.350754 99.715433 \nL 432.599968 70.461541 \nL 434.849181 88.745224 \nL 437.098395 117.999116 \nL 439.347609 70.461541 \nL 441.596823 85.088487 \nL 443.846037 121.655852 \nL 446.095251 63.148068 \nL 448.344465 92.40196 \nL 450.593679 103.37217 \nL 455.092107 110.685643 \nL 457.341321 110.685643 \nL 459.590535 74.118278 \nL 461.839749 81.431751 \nL 464.088963 85.088487 \nL 466.338177 77.775014 \nL 468.587391 103.37217 \nL 470.836605 66.804805 \nL 473.085819 81.431751 \nL 475.335033 77.775014 \nL 477.584247 88.745224 \nL 479.833461 77.775014 \nL 482.082675 85.088487 \nL 484.331889 88.745224 \nL 486.581103 66.804805 \nL 488.830317 85.088487 \nL 491.079531 99.715433 \nL 493.328745 85.088487 \nL 495.577959 107.028906 \nL 497.827173 70.461541 \nL 500.076387 96.058697 \nL 500.076387 96.058697 \n\" style=\"fill:none;stroke:#ff7f0e;stroke-linecap:square;stroke-width:1.5;\"/>\n   </g>\n   <g id=\"patch_3\">\n    <path d=\"M 30.103125 353.127273 \nL 30.103125 7.2 \n\" style=\"fill:none;stroke:#000000;stroke-linecap:square;stroke-linejoin:miter;stroke-width:0.8;\"/>\n   </g>\n   <g id=\"patch_4\">\n    <path d=\"M 522.456066 353.127273 \nL 522.456066 7.2 \n\" style=\"fill:none;stroke:#000000;stroke-linecap:square;stroke-linejoin:miter;stroke-width:0.8;\"/>\n   </g>\n   <g id=\"patch_5\">\n    <path d=\"M 30.103125 353.127273 \nL 522.456066 353.127273 \n\" style=\"fill:none;stroke:#000000;stroke-linecap:square;stroke-linejoin:miter;stroke-width:0.8;\"/>\n   </g>\n   <g id=\"patch_6\">\n    <path d=\"M 30.103125 7.2 \nL 522.456066 7.2 \n\" style=\"fill:none;stroke:#000000;stroke-linecap:square;stroke-linejoin:miter;stroke-width:0.8;\"/>\n   </g>\n   <g id=\"legend_1\">\n    <g id=\"patch_7\">\n     <path d=\"M 336.021691 348.127273 \nL 515.456066 348.127273 \nQ 517.456066 348.127273 517.456066 346.127273 \nL 517.456066 317.214773 \nQ 517.456066 315.214773 515.456066 315.214773 \nL 336.021691 315.214773 \nQ 334.021691 315.214773 334.021691 317.214773 \nL 334.021691 346.127273 \nQ 334.021691 348.127273 336.021691 348.127273 \nz\n\" style=\"fill:#ffffff;opacity:0.8;stroke:#cccccc;stroke-linejoin:miter;\"/>\n    </g>\n    <g id=\"line2d_19\">\n     <path d=\"M 338.021691 323.31321 \nL 358.021691 323.31321 \n\" style=\"fill:none;stroke:#1f77b4;stroke-linecap:square;stroke-width:1.5;\"/>\n    </g>\n    <g id=\"line2d_20\"/>\n    <g id=\"text_17\">\n     <!-- val/student_acc = 0.7578125 -->\n     <defs>\n      <path d=\"M 2.984375 54.6875 \nL 12.5 54.6875 \nL 29.59375 8.796875 \nL 46.6875 54.6875 \nL 56.203125 54.6875 \nL 35.6875 0 \nL 23.484375 0 \nz\n\" id=\"DejaVuSans-118\"/>\n      <path d=\"M 34.28125 27.484375 \nQ 23.390625 27.484375 19.1875 25 \nQ 14.984375 22.515625 14.984375 16.5 \nQ 14.984375 11.71875 18.140625 8.90625 \nQ 21.296875 6.109375 26.703125 6.109375 \nQ 34.1875 6.109375 38.703125 11.40625 \nQ 43.21875 16.703125 43.21875 25.484375 \nL 43.21875 27.484375 \nz\nM 52.203125 31.203125 \nL 52.203125 0 \nL 43.21875 0 \nL 43.21875 8.296875 \nQ 40.140625 3.328125 35.546875 0.953125 \nQ 30.953125 -1.421875 24.3125 -1.421875 \nQ 15.921875 -1.421875 10.953125 3.296875 \nQ 6 8.015625 6 15.921875 \nQ 6 25.140625 12.171875 29.828125 \nQ 18.359375 34.515625 30.609375 34.515625 \nL 43.21875 34.515625 \nL 43.21875 35.40625 \nQ 43.21875 41.609375 39.140625 45 \nQ 35.0625 48.390625 27.6875 48.390625 \nQ 23 48.390625 18.546875 47.265625 \nQ 14.109375 46.140625 10.015625 43.890625 \nL 10.015625 52.203125 \nQ 14.9375 54.109375 19.578125 55.046875 \nQ 24.21875 56 28.609375 56 \nQ 40.484375 56 46.34375 49.84375 \nQ 52.203125 43.703125 52.203125 31.203125 \nz\n\" id=\"DejaVuSans-97\"/>\n      <path d=\"M 9.421875 75.984375 \nL 18.40625 75.984375 \nL 18.40625 0 \nL 9.421875 0 \nz\n\" id=\"DejaVuSans-108\"/>\n      <path d=\"M 25.390625 72.90625 \nL 33.6875 72.90625 \nL 8.296875 -9.28125 \nL 0 -9.28125 \nz\n\" id=\"DejaVuSans-47\"/>\n      <path d=\"M 44.28125 53.078125 \nL 44.28125 44.578125 \nQ 40.484375 46.53125 36.375 47.5 \nQ 32.28125 48.484375 27.875 48.484375 \nQ 21.1875 48.484375 17.84375 46.4375 \nQ 14.5 44.390625 14.5 40.28125 \nQ 14.5 37.15625 16.890625 35.375 \nQ 19.28125 33.59375 26.515625 31.984375 \nL 29.59375 31.296875 \nQ 39.15625 29.25 43.1875 25.515625 \nQ 47.21875 21.78125 47.21875 15.09375 \nQ 47.21875 7.46875 41.1875 3.015625 \nQ 35.15625 -1.421875 24.609375 -1.421875 \nQ 20.21875 -1.421875 15.453125 -0.5625 \nQ 10.6875 0.296875 5.421875 2 \nL 5.421875 11.28125 \nQ 10.40625 8.6875 15.234375 7.390625 \nQ 20.0625 6.109375 24.8125 6.109375 \nQ 31.15625 6.109375 34.5625 8.28125 \nQ 37.984375 10.453125 37.984375 14.40625 \nQ 37.984375 18.0625 35.515625 20.015625 \nQ 33.0625 21.96875 24.703125 23.78125 \nL 21.578125 24.515625 \nQ 13.234375 26.265625 9.515625 29.90625 \nQ 5.8125 33.546875 5.8125 39.890625 \nQ 5.8125 47.609375 11.28125 51.796875 \nQ 16.75 56 26.8125 56 \nQ 31.78125 56 36.171875 55.265625 \nQ 40.578125 54.546875 44.28125 53.078125 \nz\n\" id=\"DejaVuSans-115\"/>\n      <path d=\"M 18.3125 70.21875 \nL 18.3125 54.6875 \nL 36.8125 54.6875 \nL 36.8125 47.703125 \nL 18.3125 47.703125 \nL 18.3125 18.015625 \nQ 18.3125 11.328125 20.140625 9.421875 \nQ 21.96875 7.515625 27.59375 7.515625 \nL 36.8125 7.515625 \nL 36.8125 0 \nL 27.59375 0 \nQ 17.1875 0 13.234375 3.875 \nQ 9.28125 7.765625 9.28125 18.015625 \nL 9.28125 47.703125 \nL 2.6875 47.703125 \nL 2.6875 54.6875 \nL 9.28125 54.6875 \nL 9.28125 70.21875 \nz\n\" id=\"DejaVuSans-116\"/>\n      <path d=\"M 8.5 21.578125 \nL 8.5 54.6875 \nL 17.484375 54.6875 \nL 17.484375 21.921875 \nQ 17.484375 14.15625 20.5 10.265625 \nQ 23.53125 6.390625 29.59375 6.390625 \nQ 36.859375 6.390625 41.078125 11.03125 \nQ 45.3125 15.671875 45.3125 23.6875 \nL 45.3125 54.6875 \nL 54.296875 54.6875 \nL 54.296875 0 \nL 45.3125 0 \nL 45.3125 8.40625 \nQ 42.046875 3.421875 37.71875 1 \nQ 33.40625 -1.421875 27.6875 -1.421875 \nQ 18.265625 -1.421875 13.375 4.4375 \nQ 8.5 10.296875 8.5 21.578125 \nz\nM 31.109375 56 \nz\n\" id=\"DejaVuSans-117\"/>\n      <path d=\"M 45.40625 46.390625 \nL 45.40625 75.984375 \nL 54.390625 75.984375 \nL 54.390625 0 \nL 45.40625 0 \nL 45.40625 8.203125 \nQ 42.578125 3.328125 38.25 0.953125 \nQ 33.9375 -1.421875 27.875 -1.421875 \nQ 17.96875 -1.421875 11.734375 6.484375 \nQ 5.515625 14.40625 5.515625 27.296875 \nQ 5.515625 40.1875 11.734375 48.09375 \nQ 17.96875 56 27.875 56 \nQ 33.9375 56 38.25 53.625 \nQ 42.578125 51.265625 45.40625 46.390625 \nz\nM 14.796875 27.296875 \nQ 14.796875 17.390625 18.875 11.75 \nQ 22.953125 6.109375 30.078125 6.109375 \nQ 37.203125 6.109375 41.296875 11.75 \nQ 45.40625 17.390625 45.40625 27.296875 \nQ 45.40625 37.203125 41.296875 42.84375 \nQ 37.203125 48.484375 30.078125 48.484375 \nQ 22.953125 48.484375 18.875 42.84375 \nQ 14.796875 37.203125 14.796875 27.296875 \nz\n\" id=\"DejaVuSans-100\"/>\n      <path d=\"M 56.203125 29.59375 \nL 56.203125 25.203125 \nL 14.890625 25.203125 \nQ 15.484375 15.921875 20.484375 11.0625 \nQ 25.484375 6.203125 34.421875 6.203125 \nQ 39.59375 6.203125 44.453125 7.46875 \nQ 49.3125 8.734375 54.109375 11.28125 \nL 54.109375 2.78125 \nQ 49.265625 0.734375 44.1875 -0.34375 \nQ 39.109375 -1.421875 33.890625 -1.421875 \nQ 20.796875 -1.421875 13.15625 6.1875 \nQ 5.515625 13.8125 5.515625 26.8125 \nQ 5.515625 40.234375 12.765625 48.109375 \nQ 20.015625 56 32.328125 56 \nQ 43.359375 56 49.78125 48.890625 \nQ 56.203125 41.796875 56.203125 29.59375 \nz\nM 47.21875 32.234375 \nQ 47.125 39.59375 43.09375 43.984375 \nQ 39.0625 48.390625 32.421875 48.390625 \nQ 24.90625 48.390625 20.390625 44.140625 \nQ 15.875 39.890625 15.1875 32.171875 \nz\n\" id=\"DejaVuSans-101\"/>\n      <path d=\"M 54.890625 33.015625 \nL 54.890625 0 \nL 45.90625 0 \nL 45.90625 32.71875 \nQ 45.90625 40.484375 42.875 44.328125 \nQ 39.84375 48.1875 33.796875 48.1875 \nQ 26.515625 48.1875 22.3125 43.546875 \nQ 18.109375 38.921875 18.109375 30.90625 \nL 18.109375 0 \nL 9.078125 0 \nL 9.078125 54.6875 \nL 18.109375 54.6875 \nL 18.109375 46.1875 \nQ 21.34375 51.125 25.703125 53.5625 \nQ 30.078125 56 35.796875 56 \nQ 45.21875 56 50.046875 50.171875 \nQ 54.890625 44.34375 54.890625 33.015625 \nz\n\" id=\"DejaVuSans-110\"/>\n      <path d=\"M 50.984375 -16.609375 \nL 50.984375 -23.578125 \nL -0.984375 -23.578125 \nL -0.984375 -16.609375 \nz\n\" id=\"DejaVuSans-95\"/>\n      <path d=\"M 48.78125 52.59375 \nL 48.78125 44.1875 \nQ 44.96875 46.296875 41.140625 47.34375 \nQ 37.3125 48.390625 33.40625 48.390625 \nQ 24.65625 48.390625 19.8125 42.84375 \nQ 14.984375 37.3125 14.984375 27.296875 \nQ 14.984375 17.28125 19.8125 11.734375 \nQ 24.65625 6.203125 33.40625 6.203125 \nQ 37.3125 6.203125 41.140625 7.25 \nQ 44.96875 8.296875 48.78125 10.40625 \nL 48.78125 2.09375 \nQ 45.015625 0.34375 40.984375 -0.53125 \nQ 36.96875 -1.421875 32.421875 -1.421875 \nQ 20.0625 -1.421875 12.78125 6.34375 \nQ 5.515625 14.109375 5.515625 27.296875 \nQ 5.515625 40.671875 12.859375 48.328125 \nQ 20.21875 56 33.015625 56 \nQ 37.15625 56 41.109375 55.140625 \nQ 45.0625 54.296875 48.78125 52.59375 \nz\n\" id=\"DejaVuSans-99\"/>\n      <path id=\"DejaVuSans-32\"/>\n      <path d=\"M 10.59375 45.40625 \nL 73.1875 45.40625 \nL 73.1875 37.203125 \nL 10.59375 37.203125 \nz\nM 10.59375 25.484375 \nL 73.1875 25.484375 \nL 73.1875 17.1875 \nL 10.59375 17.1875 \nz\n\" id=\"DejaVuSans-61\"/>\n      <path d=\"M 31.78125 34.625 \nQ 24.75 34.625 20.71875 30.859375 \nQ 16.703125 27.09375 16.703125 20.515625 \nQ 16.703125 13.921875 20.71875 10.15625 \nQ 24.75 6.390625 31.78125 6.390625 \nQ 38.8125 6.390625 42.859375 10.171875 \nQ 46.921875 13.96875 46.921875 20.515625 \nQ 46.921875 27.09375 42.890625 30.859375 \nQ 38.875 34.625 31.78125 34.625 \nz\nM 21.921875 38.8125 \nQ 15.578125 40.375 12.03125 44.71875 \nQ 8.5 49.078125 8.5 55.328125 \nQ 8.5 64.0625 14.71875 69.140625 \nQ 20.953125 74.21875 31.78125 74.21875 \nQ 42.671875 74.21875 48.875 69.140625 \nQ 55.078125 64.0625 55.078125 55.328125 \nQ 55.078125 49.078125 51.53125 44.71875 \nQ 48 40.375 41.703125 38.8125 \nQ 48.828125 37.15625 52.796875 32.3125 \nQ 56.78125 27.484375 56.78125 20.515625 \nQ 56.78125 9.90625 50.3125 4.234375 \nQ 43.84375 -1.421875 31.78125 -1.421875 \nQ 19.734375 -1.421875 13.25 4.234375 \nQ 6.78125 9.90625 6.78125 20.515625 \nQ 6.78125 27.484375 10.78125 32.3125 \nQ 14.796875 37.15625 21.921875 38.8125 \nz\nM 18.3125 54.390625 \nQ 18.3125 48.734375 21.84375 45.5625 \nQ 25.390625 42.390625 31.78125 42.390625 \nQ 38.140625 42.390625 41.71875 45.5625 \nQ 45.3125 48.734375 45.3125 54.390625 \nQ 45.3125 60.0625 41.71875 63.234375 \nQ 38.140625 66.40625 31.78125 66.40625 \nQ 25.390625 66.40625 21.84375 63.234375 \nQ 18.3125 60.0625 18.3125 54.390625 \nz\n\" id=\"DejaVuSans-56\"/>\n     </defs>\n     <g transform=\"translate(366.021691 326.81321)scale(0.1 -0.1)\">\n      <use xlink:href=\"#DejaVuSans-118\"/>\n      <use x=\"59.179688\" xlink:href=\"#DejaVuSans-97\"/>\n      <use x=\"120.458984\" xlink:href=\"#DejaVuSans-108\"/>\n      <use x=\"148.242188\" xlink:href=\"#DejaVuSans-47\"/>\n      <use x=\"181.933594\" xlink:href=\"#DejaVuSans-115\"/>\n      <use x=\"234.033203\" xlink:href=\"#DejaVuSans-116\"/>\n      <use x=\"273.242188\" xlink:href=\"#DejaVuSans-117\"/>\n      <use x=\"336.621094\" xlink:href=\"#DejaVuSans-100\"/>\n      <use x=\"400.097656\" xlink:href=\"#DejaVuSans-101\"/>\n      <use x=\"461.621094\" xlink:href=\"#DejaVuSans-110\"/>\n      <use x=\"525\" xlink:href=\"#DejaVuSans-116\"/>\n      <use x=\"564.208984\" xlink:href=\"#DejaVuSans-95\"/>\n      <use x=\"614.208984\" xlink:href=\"#DejaVuSans-97\"/>\n      <use x=\"675.488281\" xlink:href=\"#DejaVuSans-99\"/>\n      <use x=\"730.46875\" xlink:href=\"#DejaVuSans-99\"/>\n      <use x=\"785.449219\" xlink:href=\"#DejaVuSans-32\"/>\n      <use x=\"817.236328\" xlink:href=\"#DejaVuSans-61\"/>\n      <use x=\"901.025391\" xlink:href=\"#DejaVuSans-32\"/>\n      <use x=\"932.8125\" xlink:href=\"#DejaVuSans-48\"/>\n      <use x=\"996.435547\" xlink:href=\"#DejaVuSans-46\"/>\n      <use x=\"1028.222656\" xlink:href=\"#DejaVuSans-55\"/>\n      <use x=\"1091.845703\" xlink:href=\"#DejaVuSans-53\"/>\n      <use x=\"1155.46875\" xlink:href=\"#DejaVuSans-55\"/>\n      <use x=\"1219.091797\" xlink:href=\"#DejaVuSans-56\"/>\n      <use x=\"1282.714844\" xlink:href=\"#DejaVuSans-49\"/>\n      <use x=\"1346.337891\" xlink:href=\"#DejaVuSans-50\"/>\n      <use x=\"1409.960938\" xlink:href=\"#DejaVuSans-53\"/>\n     </g>\n    </g>\n    <g id=\"line2d_21\">\n     <path d=\"M 338.021691 338.26946 \nL 358.021691 338.26946 \n\" style=\"fill:none;stroke:#ff7f0e;stroke-linecap:square;stroke-width:1.5;\"/>\n    </g>\n    <g id=\"line2d_22\"/>\n    <g id=\"text_18\">\n     <!-- val/teacher_acc = 0.7265625 -->\n     <defs>\n      <path d=\"M 54.890625 33.015625 \nL 54.890625 0 \nL 45.90625 0 \nL 45.90625 32.71875 \nQ 45.90625 40.484375 42.875 44.328125 \nQ 39.84375 48.1875 33.796875 48.1875 \nQ 26.515625 48.1875 22.3125 43.546875 \nQ 18.109375 38.921875 18.109375 30.90625 \nL 18.109375 0 \nL 9.078125 0 \nL 9.078125 75.984375 \nL 18.109375 75.984375 \nL 18.109375 46.1875 \nQ 21.34375 51.125 25.703125 53.5625 \nQ 30.078125 56 35.796875 56 \nQ 45.21875 56 50.046875 50.171875 \nQ 54.890625 44.34375 54.890625 33.015625 \nz\n\" id=\"DejaVuSans-104\"/>\n      <path d=\"M 41.109375 46.296875 \nQ 39.59375 47.171875 37.8125 47.578125 \nQ 36.03125 48 33.890625 48 \nQ 26.265625 48 22.1875 43.046875 \nQ 18.109375 38.09375 18.109375 28.8125 \nL 18.109375 0 \nL 9.078125 0 \nL 9.078125 54.6875 \nL 18.109375 54.6875 \nL 18.109375 46.1875 \nQ 20.953125 51.171875 25.484375 53.578125 \nQ 30.03125 56 36.53125 56 \nQ 37.453125 56 38.578125 55.875 \nQ 39.703125 55.765625 41.0625 55.515625 \nz\n\" id=\"DejaVuSans-114\"/>\n     </defs>\n     <g transform=\"translate(366.021691 341.76946)scale(0.1 -0.1)\">\n      <use xlink:href=\"#DejaVuSans-118\"/>\n      <use x=\"59.179688\" xlink:href=\"#DejaVuSans-97\"/>\n      <use x=\"120.458984\" xlink:href=\"#DejaVuSans-108\"/>\n      <use x=\"148.242188\" xlink:href=\"#DejaVuSans-47\"/>\n      <use x=\"181.933594\" xlink:href=\"#DejaVuSans-116\"/>\n      <use x=\"221.142578\" xlink:href=\"#DejaVuSans-101\"/>\n      <use x=\"282.666016\" xlink:href=\"#DejaVuSans-97\"/>\n      <use x=\"343.945312\" xlink:href=\"#DejaVuSans-99\"/>\n      <use x=\"398.925781\" xlink:href=\"#DejaVuSans-104\"/>\n      <use x=\"462.304688\" xlink:href=\"#DejaVuSans-101\"/>\n      <use x=\"523.828125\" xlink:href=\"#DejaVuSans-114\"/>\n      <use x=\"564.941406\" xlink:href=\"#DejaVuSans-95\"/>\n      <use x=\"614.941406\" xlink:href=\"#DejaVuSans-97\"/>\n      <use x=\"676.220703\" xlink:href=\"#DejaVuSans-99\"/>\n      <use x=\"731.201172\" xlink:href=\"#DejaVuSans-99\"/>\n      <use x=\"786.181641\" xlink:href=\"#DejaVuSans-32\"/>\n      <use x=\"817.96875\" xlink:href=\"#DejaVuSans-61\"/>\n      <use x=\"901.757812\" xlink:href=\"#DejaVuSans-32\"/>\n      <use x=\"933.544922\" xlink:href=\"#DejaVuSans-48\"/>\n      <use x=\"997.167969\" xlink:href=\"#DejaVuSans-46\"/>\n      <use x=\"1028.955078\" xlink:href=\"#DejaVuSans-55\"/>\n      <use x=\"1092.578125\" xlink:href=\"#DejaVuSans-50\"/>\n      <use x=\"1156.201172\" xlink:href=\"#DejaVuSans-54\"/>\n      <use x=\"1219.824219\" xlink:href=\"#DejaVuSans-53\"/>\n      <use x=\"1283.447266\" xlink:href=\"#DejaVuSans-54\"/>\n      <use x=\"1347.070312\" xlink:href=\"#DejaVuSans-50\"/>\n      <use x=\"1410.693359\" xlink:href=\"#DejaVuSans-53\"/>\n     </g>\n    </g>\n   </g>\n  </g>\n </g>\n <defs>\n  <clipPath id=\"pd075bea46d\">\n   <rect height=\"345.927273\" width=\"492.352941\" x=\"30.103125\" y=\"7.2\"/>\n  </clipPath>\n </defs>\n</svg>\n",
      "image/png": "[encoded data removed]"
     },
     "metadata": {
      "needs_background": "light"
     }
    }
   ],
   "source": [
    "import matplotlib.pyplot as plt\n",
    "import numpy as np\n",
    "\n",
    "T=trainer.tensorboard.history\n",
    "\n",
    "x = list(range(trainer.checkpoint.epoch_counter))\n",
    "sm = lambda y, w: np.convolve(y, np.ones(w)/w, mode='same')\n",
    "pp = lambda k: plt.plot(x, T[k], label=f\"{k} = {max(T[k])}\")\n",
    "spp = lambda k: plt.plot(x, sm(T[k], 5), label=f\"{k} = {max(T[k])}\")\n",
    "\n",
    "\n",
    "plt.figure(0, figsize=(30, 14))\n",
    "plt.subplot(2, 3, 1)\n",
    "pp(\"val/student_acc\")\n",
    "pp(\"val/teacher_acc\")\n",
    "plt.legend()\n",
    "\n",
    "# plt.subplot(2, 3, 2)\n",
    "# pp(\"hyperparameters/learning_rate\")\n",
    "# plt.legend()\n",
    "\n",
    "# plt.subplot(2, 3, 3)\n",
    "# pp(\"max/student_acc\")\n",
    "# pp(\"max/teacher_acc\")\n",
    "# plt.legend()\n",
    "\n",
    "plt.show()"
   ]
  },
  {
   "source": [
    "# Cross validation"
   ],
   "cell_type": "markdown",
   "metadata": {}
  },
  {
   "source": [
    "training_params=DotDict(\n",
    "    dataset=args.dataset,\n",
    "\n",
    "    dataset_root = args.dataset_root,\n",
    "    supervised_ratio = args.supervised_ratio,\n",
    "    batch_size = args.batch_size,\n",
    "    train_folds = args.train_folds,\n",
    "    val_folds = args.val_folds,\n",
    "    learning_rate=args.learning_rate,\n",
    "    nb_epoch=args.nb_epoch,\n",
    "    seed=args.seed,\n",
    "\n",
    ")\n",
    "other_params = dict(\n",
    "    num_workers=0,\n",
    "    pin_memory=True,\n",
    "    verbose = 2,\n",
    ")"
   ],
   "cell_type": "code",
   "metadata": {},
   "execution_count": 43,
   "outputs": []
  },
  {
   "source": [
    "train_folds = [\n",
    "    [1, 2, 3, 4],\n",
    "    [2, 3, 4, 5],\n",
    "    [3, 4, 5, 1],\n",
    "    [4, 5, 1, 2],\n",
    "    [5, 1, 2, 3]\n",
    "]\n",
    "\n",
    "history = []\n",
    "val_folds = [[5], [1], [2], [3], [4]]\n",
    "\n",
    "for t, v in zip(train_folds, val_folds):\n",
    "    print(t, v)\n",
    "\n",
    "    training_params.train_folds = t\n",
    "    training_params.val_folds = v\n",
    "\n",
    "    trainer.init_trainer(training_params, **other_params)\n",
    "    trainer.set_printing_form()\n",
    "    trainer.fit()\n",
    "\n",
    "    history.append(((t, v), trainer.maximum_tracker))\n",
    "\n",
    "    trainer.close()"
   ],
   "cell_type": "markdown",
   "metadata": {
    "tags": [
     "outputPrepend"
    ]
   }
  },
  {
   "cell_type": "code",
   "execution_count": 44,
   "metadata": {},
   "outputs": [
    {
     "output_type": "error",
     "ename": "NameError",
     "evalue": "name 'history' is not defined",
     "traceback": [
      "\u001b[0;31m---------------------------------------------------------------------------\u001b[0m",
      "\u001b[0;31mNameError\u001b[0m                                 Traceback (most recent call last)",
      "\u001b[0;32m<ipython-input-44-10c4f578a169>\u001b[0m in \u001b[0;36m<module>\u001b[0;34m\u001b[0m\n\u001b[0;32m----> 1\u001b[0;31m \u001b[0;32mfor\u001b[0m \u001b[0mfolds\u001b[0m\u001b[0;34m,\u001b[0m \u001b[0mmaxer\u001b[0m \u001b[0;32min\u001b[0m \u001b[0mhistory\u001b[0m\u001b[0;34m:\u001b[0m\u001b[0;34m\u001b[0m\u001b[0;34m\u001b[0m\u001b[0m\n\u001b[0m\u001b[1;32m      2\u001b[0m     \u001b[0mprint\u001b[0m\u001b[0;34m(\u001b[0m\u001b[0mfolds\u001b[0m\u001b[0;34m,\u001b[0m \u001b[0mmaxer\u001b[0m\u001b[0;34m.\u001b[0m\u001b[0mmax\u001b[0m\u001b[0;34m[\u001b[0m\u001b[0;34m\"student_acc\"\u001b[0m\u001b[0;34m]\u001b[0m\u001b[0;34m.\u001b[0m\u001b[0mitem\u001b[0m\u001b[0;34m(\u001b[0m\u001b[0;34m)\u001b[0m\u001b[0;34m,\u001b[0m \u001b[0mmaxer\u001b[0m\u001b[0;34m.\u001b[0m\u001b[0mmax\u001b[0m\u001b[0;34m[\u001b[0m\u001b[0;34m\"teacher_acc\"\u001b[0m\u001b[0;34m]\u001b[0m\u001b[0;34m.\u001b[0m\u001b[0mitem\u001b[0m\u001b[0;34m(\u001b[0m\u001b[0;34m)\u001b[0m\u001b[0;34m)\u001b[0m\u001b[0;34m\u001b[0m\u001b[0;34m\u001b[0m\u001b[0m\n",
      "\u001b[0;31mNameError\u001b[0m: name 'history' is not defined"
     ]
    }
   ],
   "source": [
    "for folds, maxer in history:\n",
    "    print(folds, maxer.max[\"student_acc\"].item(), maxer.max[\"teacher_acc\"].item())"
   ]
  },
  {
   "source": [
    "import numpy as np\n",
    "    \n",
    "s_acc = lambda x: x.max[\"student_acc\"].item()\n",
    "t_acc = lambda x: x.max[\"teacher_acc\"].item()\n",
    "maxers = [i[1] for i in history]\n",
    "\n",
    "print(\"student accuracy mean + std\")\n",
    "print(np.mean(list(map(s_acc, maxers))), np.std(list(map(s_acc, maxers))))\n",
    "\n",
    "print(\"teacher accuracy mean + std\")\n",
    "print(np.mean(list(map(t_acc, maxers))), np.std(list(map(t_acc, maxers))))"
   ],
   "cell_type": "markdown",
   "metadata": {}
  },
  {
   "source": [
    "import itertools\n",
    "from SSL.trainers import MeanTeacherTrainer\n",
    "\n",
    "# learning_rate = {0.0005, 0.001, 0.003}\n",
    "# lambda_ccost = {0.5, 1, 2, 5, 10}\n",
    "# ema_alpha = {0.99, 0.999}\n",
    "\n",
    "learning_rate = {0.003}\n",
    "lambda_ccost = {1}\n",
    "ema_alpha = {0.999}\n",
    "teacher_noise_db = [0]\n",
    "\n",
    "param_list = [learning_rate, lambda_ccost, ema_alpha, teacher_noise_db]\n",
    "\n",
    "history = []\n",
    "\n",
    "for (lr, lc, ea, db) in itertools.product(*param_list):\n",
    "    trainer = MeanTeacherTrainer(\n",
    "        args.model, args.dataset,\n",
    "        lambda_ccost_max=lc,\n",
    "        ema_alpha=ea,\n",
    "        teacher_noise_db=db\n",
    "    )\n",
    "\n",
    "    training_params.learning_rate = lr\n",
    "    training_params.nb_epoch = 10\n",
    "    training_params.seed = 1234\n",
    "\n",
    "    trainer.init_trainer(training_params, **other_params)\n",
    "    trainer.set_printing_form()\n",
    "    trainer.fit()\n",
    "\n",
    "    history.append(((lr, lc, ea, db), trainer.maximum_tracker))\n",
    "\n",
    "    trainer.close()"
   ],
   "cell_type": "markdown",
   "metadata": {
    "tags": []
   }
  },
  {
   "source": [
    "with open(\".tmp.txt\", \"w\") as f:\n",
    "    f.write(\"learning_rate, lambda_ccost, ema_alpha, noise_db, acc_s, acc_t\\n\")\n",
    "    for key, value in history:\n",
    "        line = \", \".join(map(str, key)) + \\\n",
    "            \", \" + \"%s\" % value.max[\"student_acc\"].item() + \\\n",
    "            \", \" + \"%s\" % value.max[\"teacher_acc\"].item() + \\\n",
    "            \"\\n\"\n",
    "        f.write(line)\n",
    "        print(line)\n"
   ],
   "cell_type": "markdown",
   "metadata": {}
  },
  {
   "source": [
    "import matplotlib.pyplot as plt\n",
    "import numpy as np\n",
    "\n",
    "T = trainer.tensorboard.history\n",
    "x = list(range(trainer.checkpoint.epoch_counter))\n",
    "sm = lambda y, w: np.convolve(y, np.ones(w)/w, mode='same')\n",
    "pp = lambda k: plt.plot(x, T[k], label=f\"{k} = {max(T[k])}\")\n",
    "spp = lambda k: plt.plot(x, sm(T[k], 5), label=f\"{k} = {max(T[k])}\")\n",
    "\n",
    "\n",
    "plt.figure(0, figsize=(30, 14))\n",
    "plt.subplot(2, 3, 1)\n",
    "pp(\"max/student_acc\")\n",
    "pp(\"max/teacher_acc\")\n",
    "plt.legend()\n",
    "\n",
    "plt.subplot(2, 3, 3)\n",
    "pp(\"hyperparameters/learning_rate\")\n",
    "plt.legend()\n",
    "\n",
    "plt.show()"
   ],
   "cell_type": "markdown",
   "metadata": {}
  },
  {
   "cell_type": "code",
   "execution_count": null,
   "metadata": {},
   "outputs": [],
   "source": []
  }
 ],
 "metadata": {
  "kernelspec": {
   "display_name": "dct",
   "language": "python",
   "name": "dct"
  },
  "language_info": {
   "codemirror_mode": {
    "name": "ipython",
    "version": 3
   },
   "file_extension": ".py",
   "mimetype": "text/x-python",
   "name": "python",
   "nbconvert_exporter": "python",
   "pygments_lexer": "ipython3",
   "version": "3.8.0-final"
  }
 },
 "nbformat": 4,
 "nbformat_minor": 4
}