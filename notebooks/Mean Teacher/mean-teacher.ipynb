{
 "cells": [
  {
   "cell_type": "markdown",
   "metadata": {
    "jupyter": {
     "outputs_hidden": true
    }
   },
   "source": [
    "# import"
   ]
  },
  {
   "cell_type": "raw",
   "metadata": {},
   "source": [
    "https://arxiv.org/pdf/1703.01780.pdf"
   ]
  },
  {
   "cell_type": "code",
   "execution_count": 1,
   "metadata": {},
   "outputs": [],
   "source": [
    "%load_ext autoreload\n",
    "%autoreload 2"
   ]
  },
  {
   "cell_type": "code",
   "execution_count": 2,
   "metadata": {},
   "outputs": [
    {
     "output_type": "execute_result",
     "data": {
      "text/plain": [
       "'/home/lcances/.miniconda3/envs/dct/bin/python'"
      ]
     },
     "metadata": {},
     "execution_count": 2
    }
   ],
   "source": [
    "import sys\n",
    "sys.executable"
   ]
  },
  {
   "cell_type": "code",
   "execution_count": 3,
   "metadata": {},
   "outputs": [],
   "source": [
    "import os\n",
    "os.environ[\"MKL_NUM_THREADS\"] = \"2\"\n",
    "os.environ[\"NUMEXPR_NU M_THREADS\"] = \"2\"\n",
    "os.environ[\"OMP_NUM_THREADS\"] = \"2\"\n",
    "import time\n",
    "import pprint\n",
    "\n",
    "import numpy\n",
    "import torch\n",
    "import torch.nn as nn\n",
    "import torch.utils.data as data\n",
    "import torch.nn.functional as F\n",
    "import torchvision.transforms as transforms\n",
    "from torch.cuda.amp import autocast\n",
    "from torch.optim.lr_scheduler import LambdaLR\n",
    "from torch.utils.tensorboard import SummaryWriter\n",
    "from torch.utils.data import DataLoader"
   ]
  },
  {
   "cell_type": "code",
   "execution_count": 4,
   "metadata": {
    "tags": []
   },
   "outputs": [],
   "source": [
    "from SSL.util.loaders import load_dataset, load_optimizer, load_callbacks, load_preprocesser\n",
    "from SSL.util.model_loader import load_model\n",
    "from SSL.util.checkpoint import CheckPoint, mSummaryWriter\n",
    "from SSL.util.utils import reset_seed, get_datetime, track_maximum, DotDict\n",
    "from SSL.ramps import Warmup, sigmoid_rampup\n",
    "from SSL.losses import JensenShanon\n",
    "\n",
    "from metric_utils.metrics import CategoricalAccuracy, FScore, ContinueAverage"
   ]
  },
  {
   "cell_type": "markdown",
   "metadata": {
    "pycharm": {
     "name": "#%% md\n"
    }
   },
   "source": [
    "# Arguments"
   ]
  },
  {
   "cell_type": "code",
   "execution_count": 5,
   "metadata": {},
   "outputs": [],
   "source": [
    "import argparse\n",
    "parser = argparse.ArgumentParser()\n",
    "parser.add_argument(\"--from_config\", default=\"\", type=str)\n",
    "parser.add_argument(\"-d\", \"--dataset_root\", default=\"../../datasets\", type=str)\n",
    "parser.add_argument(\"-D\", \"--dataset\", default=\"ubs8k\", type=str)\n",
    "\n",
    "group_t = parser.add_argument_group(\"Commun parameters\")\n",
    "group_t.add_argument(\"-m\", \"--model\", default=\"wideresnet28_2\", type=str)\n",
    "group_t.add_argument(\"--supervised_ratio\", default=0.1, type=float)\n",
    "group_t.add_argument(\"--batch_size\", default=64, type=int)\n",
    "group_t.add_argument(\"--nb_epoch\", default=200, type=int)\n",
    "group_t.add_argument(\"--learning_rate\", default=0.001, type=float)\n",
    "group_t.add_argument(\"--resume\", action=\"store_true\", default=False)\n",
    "group_t.add_argument(\"--seed\", default=1234, type=int)\n",
    "\n",
    "group_m = parser.add_argument_group(\"Model parameters\")\n",
    "group_m.add_argument(\"--num_classes\", default=10, type=int)\n",
    "\n",
    "group_u = parser.add_argument_group(\"Datasets parameters\")\n",
    "group_u.add_argument(\"-t\", \"--train_folds\", nargs=\"+\", default=[1, 2, 3, 4, 5, 6, 7, 8, 9], type=int)\n",
    "group_u.add_argument(\"-v\", \"--val_folds\", nargs=\"+\", default=[10], type=int)\n",
    "\n",
    "group_s = parser.add_argument_group(\"Student teacher parameters\")\n",
    "group_s.add_argument(\"--ema_alpha\", default=0.999, type=float)\n",
    "group_s.add_argument(\"--warmup_length\", default=50, type=int)\n",
    "group_s.add_argument(\"--lambda_cost_max\", default=1, type=float)\n",
    "group_s.add_argument(\"--teacher_noise\", default=0, type=float)\n",
    "group_s.add_argument(\"--ccost_softmax\", action=\"store_false\", default=True)\n",
    "group_s.add_argument(\"--ccost_method\", type=str, default=\"mse\")\n",
    "\n",
    "group_l = parser.add_argument_group(\"Logs\")\n",
    "group_l.add_argument(\"--checkpoint_root\", default=\"../model_save/\", type=str)\n",
    "group_l.add_argument(\"--tensorboard_root\", default=\"../tensorboard/\", type=str)\n",
    "group_l.add_argument(\"--checkpoint_path\", default=\"mean-teacher\", type=str)\n",
    "group_l.add_argument(\"--tensorboard_path\", default=\"mean-teacher\", type=str)\n",
    "group_l.add_argument(\"--tensorboard_sufix\", default=\"\", type=str)\n",
    "\n",
    "args=parser.parse_args(\"\")\n",
    "\n",
    "tensorboard_path = os.path.join(args.tensorboard_root, args.dataset, args.tensorboard_path)\n",
    "checkpoint_path = os.path.join(args.checkpoint_root, args.dataset, args.checkpoint_path)"
   ]
  },
  {
   "source": [
    "## Basic verification"
   ],
   "cell_type": "markdown",
   "metadata": {}
  },
  {
   "cell_type": "code",
   "execution_count": 6,
   "metadata": {},
   "outputs": [],
   "source": [
    "available_datasets = [\"esc10\", \"ubs8k\", \"speechcommand\"]\n",
    "available_models = [\"cnn03\", \"wideresnet28_2\", \"wideresnet28_4\", \"wideresnet28_8\"]\n",
    "available_ccost_method = [\"mse\", \"js\"]\n",
    "\n",
    "assert args.dataset in available_datasets\n",
    "assert args.model in available_models\n",
    "assert args.ccost_method in available_ccost_method"
   ]
  },
  {
   "cell_type": "code",
   "execution_count": 7,
   "metadata": {
    "tags": [
     "re_run"
    ]
   },
   "outputs": [
    {
     "output_type": "stream",
     "name": "stdout",
     "text": [
      "{'batch_size': 64,\n 'ccost_method': 'mse',\n 'ccost_softmax': True,\n 'checkpoint_path': 'mean-teacher',\n 'checkpoint_root': '../model_save/',\n 'dataset': 'ubs8k',\n 'dataset_root': '../../datasets',\n 'ema_alpha': 0.999,\n 'from_config': '',\n 'lambda_cost_max': 1,\n 'learning_rate': 0.003,\n 'model': 'wideresnet28_2',\n 'nb_epoch': 200,\n 'num_classes': 10,\n 'resume': False,\n 'seed': 1234,\n 'supervised_ratio': 0.1,\n 'teacher_noise': 0,\n 'tensorboard_path': 'mean-teacher',\n 'tensorboard_root': '../tensorboard/',\n 'tensorboard_sufix': '',\n 'train_folds': [1, 2, 3, 4, 5, 6, 7, 8, 9],\n 'val_folds': [10],\n 'warmup_length': 50}\n"
     ]
    }
   ],
   "source": [
    "pprint.pprint(vars(args))"
   ]
  },
  {
   "cell_type": "markdown",
   "metadata": {
    "pycharm": {
     "name": "#%% md\n"
    }
   },
   "source": [
    "# initialisation"
   ]
  },
  {
   "cell_type": "code",
   "execution_count": 8,
   "metadata": {
    "collapsed": false,
    "jupyter": {
     "outputs_hidden": false
    },
    "pycharm": {
     "name": "#%%\n"
    },
    "tags": [
     "re_run"
    ]
   },
   "outputs": [],
   "source": [
    "reset_seed(args.seed)"
   ]
  },
  {
   "cell_type": "markdown",
   "metadata": {
    "pycharm": {
     "name": "#%% md\n"
    }
   },
   "source": [
    "# Prepare the dataset"
   ]
  },
  {
   "cell_type": "code",
   "execution_count": 9,
   "metadata": {},
   "outputs": [
    {
     "output_type": "stream",
     "name": "stderr",
     "text": [
      "################################################################################\n### WARNING, path does not exist: KALDI_ROOT=/mnt/matylda5/iveselyk/Tools/kaldi-trunk\n###          (please add 'export KALDI_ROOT=<your_path>' in your $HOME/.profile)\n###          (or run as: KALDI_ROOT=<your_path> python <your_script>.py)\n################################################################################\n\n"
     ]
    }
   ],
   "source": [
    "train_transform, val_transform = load_preprocesser(args.dataset, \"mean-teacher\")\n",
    "train_transform"
   ]
  },
  {
   "cell_type": "code",
   "execution_count": 10,
   "metadata": {
    "collapsed": false,
    "jupyter": {
     "outputs_hidden": false
    },
    "pycharm": {
     "name": "#%%\n"
    },
    "tags": []
   },
   "outputs": [
    {
     "output_type": "display_data",
     "data": {
      "text/plain": "HBox(children=(FloatProgress(value=0.0, max=10.0), HTML(value='')))",
      "application/vnd.jupyter.widget-view+json": {
       "version_major": 2,
       "version_minor": 0,
       "model_id": "f346e96418094d0fa8dd38706e4ef5bb"
      }
     },
     "metadata": {}
    },
    {
     "output_type": "stream",
     "name": "stdout",
     "text": [
      "\ns_batch_size:  6\nu_batch_size:  58\n"
     ]
    }
   ],
   "source": [
    "manager, train_loader, val_loader = load_dataset(\n",
    "    args.dataset,\n",
    "    \"mean-teacher\",\n",
    "    \n",
    "    dataset_root = args.dataset_root,\n",
    "    supervised_ratio = args.supervised_ratio,\n",
    "    batch_size = args.batch_size,\n",
    "    train_folds = args.train_folds,\n",
    "    val_folds = args.val_folds,\n",
    "\n",
    "    train_transform=train_transform,\n",
    "    val_transform=val_transform,\n",
    "    \n",
    "    num_workers=0,\n",
    "    pin_memory=True,\n",
    "\n",
    "    verbose = 2\n",
    ")"
   ]
  },
  {
   "cell_type": "code",
   "execution_count": 11,
   "metadata": {},
   "outputs": [
    {
     "output_type": "execute_result",
     "data": {
      "text/plain": [
       "(64, 173)"
      ]
     },
     "metadata": {},
     "execution_count": 11
    }
   ],
   "source": [
    "input_shape = tuple(train_loader._iterables[0].dataset[0][0].shape)\n",
    "input_shape"
   ]
  },
  {
   "cell_type": "markdown",
   "metadata": {},
   "source": [
    "# Prep model"
   ]
  },
  {
   "cell_type": "code",
   "execution_count": 12,
   "metadata": {
    "tags": []
   },
   "outputs": [],
   "source": [
    "torch.cuda.empty_cache()\n",
    "\n",
    "model_func = load_model(args.dataset, args.model)\n",
    "\n",
    "student = model_func(input_shape=input_shape, num_classes = args.num_classes)\n",
    "teacher = model_func(input_shape=input_shape, num_classes = args.num_classes)\n",
    "\n",
    "student = student.cuda()\n",
    "teacher = teacher.cuda()\n",
    "\n",
    "# We do not need gradient for the teacher model\n",
    "for p in teacher.parameters():\n",
    "    p.detach()"
   ]
  },
  {
   "cell_type": "code",
   "execution_count": 13,
   "metadata": {
    "scrolled": true,
    "tags": []
   },
   "outputs": [
    {
     "output_type": "stream",
     "name": "stdout",
     "text": [
      "----------------------------------------------------------------\n        Layer (type)               Output Shape         Param #\n================================================================\n            Conv2d-1          [-1, 32, 64, 173]             864\n       BatchNorm2d-2          [-1, 32, 64, 173]              64\n              ReLU-3          [-1, 32, 64, 173]               0\n         MaxPool2d-4           [-1, 32, 32, 87]               0\n            Conv2d-5           [-1, 32, 32, 87]           9,216\n       BatchNorm2d-6           [-1, 32, 32, 87]              64\n              ReLU-7           [-1, 32, 32, 87]               0\n            Conv2d-8           [-1, 32, 32, 87]           9,216\n       BatchNorm2d-9           [-1, 32, 32, 87]              64\n             ReLU-10           [-1, 32, 32, 87]               0\n       BasicBlock-11           [-1, 32, 32, 87]               0\n           Conv2d-12           [-1, 32, 32, 87]           9,216\n      BatchNorm2d-13           [-1, 32, 32, 87]              64\n             ReLU-14           [-1, 32, 32, 87]               0\n           Conv2d-15           [-1, 32, 32, 87]           9,216\n      BatchNorm2d-16           [-1, 32, 32, 87]              64\n             ReLU-17           [-1, 32, 32, 87]               0\n       BasicBlock-18           [-1, 32, 32, 87]               0\n           Conv2d-19           [-1, 32, 32, 87]           9,216\n      BatchNorm2d-20           [-1, 32, 32, 87]              64\n             ReLU-21           [-1, 32, 32, 87]               0\n           Conv2d-22           [-1, 32, 32, 87]           9,216\n      BatchNorm2d-23           [-1, 32, 32, 87]              64\n             ReLU-24           [-1, 32, 32, 87]               0\n       BasicBlock-25           [-1, 32, 32, 87]               0\n           Conv2d-26           [-1, 32, 32, 87]           9,216\n      BatchNorm2d-27           [-1, 32, 32, 87]              64\n             ReLU-28           [-1, 32, 32, 87]               0\n           Conv2d-29           [-1, 32, 32, 87]           9,216\n      BatchNorm2d-30           [-1, 32, 32, 87]              64\n             ReLU-31           [-1, 32, 32, 87]               0\n       BasicBlock-32           [-1, 32, 32, 87]               0\n           Conv2d-33           [-1, 64, 16, 44]          18,432\n      BatchNorm2d-34           [-1, 64, 16, 44]             128\n             ReLU-35           [-1, 64, 16, 44]               0\n           Conv2d-36           [-1, 64, 16, 44]          36,864\n      BatchNorm2d-37           [-1, 64, 16, 44]             128\n           Conv2d-38           [-1, 64, 16, 44]           2,048\n      BatchNorm2d-39           [-1, 64, 16, 44]             128\n             ReLU-40           [-1, 64, 16, 44]               0\n       BasicBlock-41           [-1, 64, 16, 44]               0\n           Conv2d-42           [-1, 64, 16, 44]          36,864\n      BatchNorm2d-43           [-1, 64, 16, 44]             128\n             ReLU-44           [-1, 64, 16, 44]               0\n           Conv2d-45           [-1, 64, 16, 44]          36,864\n      BatchNorm2d-46           [-1, 64, 16, 44]             128\n             ReLU-47           [-1, 64, 16, 44]               0\n       BasicBlock-48           [-1, 64, 16, 44]               0\n           Conv2d-49           [-1, 64, 16, 44]          36,864\n      BatchNorm2d-50           [-1, 64, 16, 44]             128\n             ReLU-51           [-1, 64, 16, 44]               0\n           Conv2d-52           [-1, 64, 16, 44]          36,864\n      BatchNorm2d-53           [-1, 64, 16, 44]             128\n             ReLU-54           [-1, 64, 16, 44]               0\n       BasicBlock-55           [-1, 64, 16, 44]               0\n           Conv2d-56           [-1, 64, 16, 44]          36,864\n      BatchNorm2d-57           [-1, 64, 16, 44]             128\n             ReLU-58           [-1, 64, 16, 44]               0\n           Conv2d-59           [-1, 64, 16, 44]          36,864\n      BatchNorm2d-60           [-1, 64, 16, 44]             128\n             ReLU-61           [-1, 64, 16, 44]               0\n       BasicBlock-62           [-1, 64, 16, 44]               0\n           Conv2d-63           [-1, 128, 8, 22]          73,728\n      BatchNorm2d-64           [-1, 128, 8, 22]             256\n             ReLU-65           [-1, 128, 8, 22]               0\n           Conv2d-66           [-1, 128, 8, 22]         147,456\n      BatchNorm2d-67           [-1, 128, 8, 22]             256\n           Conv2d-68           [-1, 128, 8, 22]           8,192\n      BatchNorm2d-69           [-1, 128, 8, 22]             256\n             ReLU-70           [-1, 128, 8, 22]               0\n       BasicBlock-71           [-1, 128, 8, 22]               0\n           Conv2d-72           [-1, 128, 8, 22]         147,456\n      BatchNorm2d-73           [-1, 128, 8, 22]             256\n             ReLU-74           [-1, 128, 8, 22]               0\n           Conv2d-75           [-1, 128, 8, 22]         147,456\n      BatchNorm2d-76           [-1, 128, 8, 22]             256\n             ReLU-77           [-1, 128, 8, 22]               0\n       BasicBlock-78           [-1, 128, 8, 22]               0\n           Conv2d-79           [-1, 128, 8, 22]         147,456\n      BatchNorm2d-80           [-1, 128, 8, 22]             256\n             ReLU-81           [-1, 128, 8, 22]               0\n           Conv2d-82           [-1, 128, 8, 22]         147,456\n      BatchNorm2d-83           [-1, 128, 8, 22]             256\n             ReLU-84           [-1, 128, 8, 22]               0\n       BasicBlock-85           [-1, 128, 8, 22]               0\n           Conv2d-86           [-1, 128, 8, 22]         147,456\n      BatchNorm2d-87           [-1, 128, 8, 22]             256\n             ReLU-88           [-1, 128, 8, 22]               0\n           Conv2d-89           [-1, 128, 8, 22]         147,456\n      BatchNorm2d-90           [-1, 128, 8, 22]             256\n             ReLU-91           [-1, 128, 8, 22]               0\n       BasicBlock-92           [-1, 128, 8, 22]               0\nAdaptiveAvgPool2d-93            [-1, 128, 1, 1]               0\n           Linear-94                   [-1, 10]           1,290\n================================================================\nTotal params: 1,472,554\nTrainable params: 1,472,554\nNon-trainable params: 0\n----------------------------------------------------------------\nInput size (MB): 0.04\nForward/backward pass size (MB): 43.29\nParams size (MB): 5.62\nEstimated Total Size (MB): 48.95\n----------------------------------------------------------------\n"
     ]
    }
   ],
   "source": [
    "from torchsummary import summary\n",
    "\n",
    "s = summary(student, input_shape)"
   ]
  },
  {
   "cell_type": "markdown",
   "metadata": {
    "pycharm": {
     "name": "#%% md\n"
    }
   },
   "source": [
    "# training parameters"
   ]
  },
  {
   "cell_type": "code",
   "execution_count": 14,
   "metadata": {
    "collapsed": false,
    "jupyter": {
     "outputs_hidden": false
    },
    "pycharm": {
     "name": "#%%\n"
    },
    "tags": []
   },
   "outputs": [
    {
     "output_type": "stream",
     "name": "stdout",
     "text": [
      "../tensorboard/ubs8k/mean-teacher/wideresnet28_2/0.1S/2020-12-14_16:50:36_wideresnet28_2_MSE_True-softmax_0-n\n"
     ]
    }
   ],
   "source": [
    "# tensorboard\n",
    "title_element = (args.model, args.supervised_ratio, get_datetime(), model_func.__name__,\n",
    "                 args.ccost_method.upper(), args.ccost_softmax, args.teacher_noise)\n",
    "tensorboard_title = \"%s/%sS/%s_%s_%s_%s-softmax_%s-n\" % title_element\n",
    "\n",
    "title_element = (args.model, args.supervised_ratio, get_datetime(), model_func.__name__,\n",
    "                 args.ccost_method.upper(), args.ccost_softmax, args.teacher_noise)\n",
    "checkpoint_title = \"%s/%sS/%s_%s_%s_%s-softmax_%s-n\" % title_element\n",
    "\n",
    "tensorboard = mSummaryWriter(log_dir=\"%s/%s\" % (tensorboard_path, tensorboard_title), comment=model_func.__name__)\n",
    "print(os.path.join(tensorboard_path, tensorboard_title))"
   ]
  },
  {
   "cell_type": "markdown",
   "metadata": {},
   "source": [
    "## optimizer & callbacks"
   ]
  },
  {
   "cell_type": "code",
   "execution_count": 15,
   "metadata": {},
   "outputs": [],
   "source": [
    "optimizer = load_optimizer(args.dataset, \"mean-teacher\", student=student, learning_rate=args.learning_rate)\n",
    "callbacks = load_callbacks(args.dataset, \"mean-teacher\", optimizer=optimizer, nb_epoch=args.nb_epoch)"
   ]
  },
  {
   "cell_type": "code",
   "execution_count": 16,
   "metadata": {
    "collapsed": false,
    "jupyter": {
     "outputs_hidden": false
    },
    "pycharm": {
     "name": "#%%\n"
    },
    "tags": [
     "re_run"
    ]
   },
   "outputs": [],
   "source": [
    "# losses\n",
    "loss_ce = nn.CrossEntropyLoss(reduction=\"mean\") # Supervised loss\n",
    "\n",
    "if args.ccost_method == \"mse\":\n",
    "    consistency_cost = nn.MSELoss(reduction=\"mean\") # Unsupervised loss\n",
    "elif args.ccost_method == \"js\":\n",
    "    consistency_cost = JensenShanon\n",
    "        \n",
    "lambda_cost = Warmup(args.lambda_cost_max, args.warmup_length, sigmoid_rampup)\n",
    "callbacks += [lambda_cost]\n",
    "\n",
    "# Checkpoint\n",
    "checkpoint = CheckPoint(student, optimizer, mode=\"max\", name=\"%s/%s.torch\" % (checkpoint_path, checkpoint_title))\n",
    "\n",
    "def get_lr(optimizer):\n",
    "    for param_group in optimizer.param_groups:\n",
    "        return param_group['lr']"
   ]
  },
  {
   "cell_type": "code",
   "execution_count": 17,
   "metadata": {},
   "outputs": [
    {
     "output_type": "execute_result",
     "data": {
      "text/plain": [
       "MSELoss()"
      ]
     },
     "metadata": {},
     "execution_count": 17
    }
   ],
   "source": [
    "consistency_cost"
   ]
  },
  {
   "cell_type": "markdown",
   "metadata": {},
   "source": [
    "## Metrics definition"
   ]
  },
  {
   "cell_type": "code",
   "execution_count": 18,
   "metadata": {},
   "outputs": [],
   "source": [
    "def metrics_calculator():\n",
    "    def c(logits, y):\n",
    "        with torch.no_grad():\n",
    "            y_one_hot = F.one_hot(y, num_classes=args.num_classes)\n",
    "            \n",
    "            pred = torch.softmax(logits, dim=1)\n",
    "            arg = torch.argmax(logits, dim=1)\n",
    "            \n",
    "            acc = c.fn.acc(arg, y).mean\n",
    "            f1 = c.fn.f1(pred, y_one_hot).mean\n",
    "            \n",
    "            return acc, f1,\n",
    "            \n",
    "    c.fn = DotDict(\n",
    "        acc = CategoricalAccuracy(),\n",
    "        f1 = FScore(),\n",
    "    )\n",
    "    \n",
    "    return c"
   ]
  },
  {
   "cell_type": "code",
   "execution_count": 19,
   "metadata": {},
   "outputs": [],
   "source": [
    "calc_student_s_metrics = metrics_calculator()\n",
    "calc_student_u_metrics = metrics_calculator()\n",
    "calc_teacher_s_metrics = metrics_calculator()\n",
    "calc_teacher_u_metrics = metrics_calculator()\n",
    "\n",
    "avg_Sce = ContinueAverage()\n",
    "avg_Tce = ContinueAverage()\n",
    "avg_ccost = ContinueAverage()\n",
    "\n",
    "softmax_fn = lambda x: x\n",
    "if args.ccost_softmax:\n",
    "    softmax_fn = nn.Softmax(dim=1)\n",
    "\n",
    "def reset_metrics():\n",
    "    for d in [calc_student_s_metrics.fn, calc_student_u_metrics.fn, calc_teacher_s_metrics.fn, calc_teacher_u_metrics.fn]:\n",
    "        for fn in d.values():\n",
    "            fn.reset()\n",
    "\n",
    "maximum_tracker = track_maximum()"
   ]
  },
  {
   "cell_type": "markdown",
   "metadata": {
    "pycharm": {
     "name": "#%% md\n"
    }
   },
   "source": [
    "## Can resume previous training"
   ]
  },
  {
   "cell_type": "code",
   "execution_count": 20,
   "metadata": {
    "pycharm": {
     "name": "#%%\n"
    }
   },
   "outputs": [],
   "source": [
    "if args.resume:\n",
    "    checkpoint.load_last()"
   ]
  },
  {
   "cell_type": "code",
   "execution_count": 21,
   "metadata": {},
   "outputs": [
    {
     "output_type": "execute_result",
     "data": {
      "text/plain": [
       "False"
      ]
     },
     "metadata": {},
     "execution_count": 21
    }
   ],
   "source": [
    "args.resume"
   ]
  },
  {
   "cell_type": "markdown",
   "metadata": {
    "pycharm": {
     "name": "#%% md\n"
    }
   },
   "source": [
    "## training function"
   ]
  },
  {
   "cell_type": "code",
   "execution_count": 22,
   "metadata": {
    "collapsed": false,
    "jupyter": {
     "outputs_hidden": false
    },
    "pycharm": {
     "name": "#%%\n"
    },
    "tags": []
   },
   "outputs": [
    {
     "output_type": "stream",
     "name": "stdout",
     "text": [
      ".        Epoch  - %      - Student:   ce       ccost    acc_s    f1_s     acc_u    f1_u     | Teacher:   ce       acc_s    f1_s     acc_u    f1_u     - Time    \n"
     ]
    }
   ],
   "source": [
    "UNDERLINE_SEQ = \"\\033[1;4m\"\n",
    "RESET_SEQ = \"\\033[0m\"\n",
    "\n",
    "header_form = \"{:<8.8} {:<6.6} - {:<6.6} - {:<10.8} {:<8.6} {:<8.6} {:<8.6} {:<8.6} {:<8.6} {:<8.6} | {:<10.8} {:<8.6} {:<8.6} {:<8.6} {:<8.6} {:<8.6} - {:<8.6}\"\n",
    "value_form  = \"{:<8.8} {:<6d} - {:<6d} - {:<10.8} {:<8.4f} {:<8.4f} {:<8.4f} {:<8.4f} {:<8.4f} {:<8.4f} | {:<10.8} {:<8.4f} {:<8.4f} {:<8.4f} {:<8.4f} {:<8.4f} - {:<8.4f}\"\n",
    "header = header_form.format(\".               \", \"Epoch\",  \"%\", \"Student:\", \"ce\", \"ccost\", \"acc_s\", \"f1_s\", \"acc_u\", \"f1_u\", \"Teacher:\", \"ce\", \"acc_s\", \"f1_s\", \"acc_u\", \"f1_u\" , \"Time\")\n",
    "\n",
    "train_form = value_form\n",
    "val_form = UNDERLINE_SEQ + value_form + RESET_SEQ\n",
    "\n",
    "print(header)"
   ]
  },
  {
   "cell_type": "code",
   "execution_count": 23,
   "metadata": {},
   "outputs": [],
   "source": [
    "def update_teacher_model(student_model, teacher_model, alpha, epoch):\n",
    "    \n",
    "    # Use the true average until the exponential average is more correct\n",
    "    alpha = min(1 - 1 / (epoch + 1), alpha)\n",
    "    \n",
    "    for param, ema_param in zip(student_model.parameters(), teacher_model.parameters()):\n",
    "        ema_param.data.mul_(alpha).add_(param.data,  alpha = 1-alpha)\n",
    "\n",
    "\n",
    "noise_fn = lambda x: x\n",
    "if args.teacher_noise != 0:\n",
    "    n_db = args.teacher_noise\n",
    "    noise_fn = transforms.Lambda(lambda x: x + (torch.rand(x.shape).cuda() * n_db + n_db))"
   ]
  },
  {
   "cell_type": "code",
   "execution_count": 24,
   "metadata": {
    "tags": [
     "re_run"
    ]
   },
   "outputs": [],
   "source": [
    "def train(epoch):\n",
    "    start_time = time.time()\n",
    "    print(\"\")\n",
    "    \n",
    "    nb_batch = len(train_loader)\n",
    "\n",
    "    reset_metrics()\n",
    "    student.train()\n",
    "\n",
    "    for i, (S, U) in enumerate(train_loader):        \n",
    "        x_s, y_s = S\n",
    "        x_u, y_u = U\n",
    "        \n",
    "        x_s, x_u = x_s.cuda(), x_u.cuda()\n",
    "        y_s, y_u = y_s.cuda(), y_u.cuda()\n",
    "        \n",
    "        # Predictions\n",
    "        student_s_logits = student(x_s)        \n",
    "        student_u_logits = student(x_u)\n",
    "        teacher_s_logits = teacher(noise_fn(x_s))\n",
    "        teacher_u_logits = teacher(noise_fn(x_u))\n",
    "        \n",
    "        # Calculate supervised loss (only student on S)\n",
    "        loss = loss_ce(student_s_logits, y_s)\n",
    "        \n",
    "        # Calculate consistency cost (mse(student(x), teacher(x))) x is S + U\n",
    "        student_logits = torch.cat((student_s_logits, student_u_logits), dim=0)\n",
    "        teacher_logits = torch.cat((teacher_s_logits, teacher_u_logits), dim=0)\n",
    "        ccost = consistency_cost(softmax_fn(student_logits), softmax_fn(teacher_logits))\n",
    "\n",
    "        total_loss = loss + lambda_cost() * ccost\n",
    "        \n",
    "        optimizer.zero_grad()\n",
    "        total_loss.backward()\n",
    "        optimizer.step()\n",
    "\n",
    "        with torch.set_grad_enabled(False):\n",
    "            # Teacher prediction (for metrics purpose)\n",
    "            _teacher_loss = loss_ce(teacher_s_logits, y_s)\n",
    "            \n",
    "            # Update teacher\n",
    "            update_teacher_model(student, teacher, args.ema_alpha, epoch*nb_batch + i)\n",
    "            \n",
    "            # Compute the metrics for the student\n",
    "            student_s_metrics = calc_student_s_metrics(student_s_logits, y_s)\n",
    "            student_u_metrics = calc_student_u_metrics(student_u_logits, y_u)\n",
    "            student_s_acc, student_s_f1, student_u_acc, student_u_f1 = *student_s_metrics, *student_u_metrics\n",
    "            \n",
    "            # Compute the metrics for the teacher\n",
    "            teacher_s_metrics = calc_teacher_s_metrics(teacher_s_logits, y_s)\n",
    "            teacher_u_metrics = calc_teacher_u_metrics(teacher_u_logits, y_u)\n",
    "            teacher_s_acc, teacher_s_f1, teacher_u_acc, teacher_u_f1 = *teacher_s_metrics, *teacher_u_metrics\n",
    "            \n",
    "            # Running average of the two losses\n",
    "            student_running_loss = avg_Sce(loss.item()).mean\n",
    "            teacher_running_loss = avg_Tce(_teacher_loss.item()).mean\n",
    "            running_ccost = avg_ccost(ccost.item()).mean\n",
    "\n",
    "            # logs\n",
    "            print(train_form.format(\n",
    "                \"Training: \", epoch + 1, int(100 * (i + 1) / nb_batch),\n",
    "                \"\", student_running_loss, running_ccost, *student_s_metrics, *student_u_metrics,\n",
    "                \"\", teacher_running_loss, *teacher_s_metrics, *teacher_u_metrics,\n",
    "                time.time() - start_time\n",
    "            ), end=\"\\r\")\n",
    "\n",
    "    tensorboard.add_scalar(\"train/student_acc_s\", student_s_acc, epoch)\n",
    "    tensorboard.add_scalar(\"train/student_acc_u\", student_u_acc, epoch)\n",
    "    tensorboard.add_scalar(\"train/student_f1_s\", student_s_f1, epoch)\n",
    "    tensorboard.add_scalar(\"train/student_f1_u\", student_u_f1, epoch)\n",
    "    \n",
    "    tensorboard.add_scalar(\"train/teacher_acc_s\", teacher_s_acc, epoch)\n",
    "    tensorboard.add_scalar(\"train/teacher_acc_u\", teacher_u_acc, epoch)\n",
    "    tensorboard.add_scalar(\"train/teacher_f1_s\", teacher_s_f1, epoch)\n",
    "    tensorboard.add_scalar(\"train/teacher_f1_u\", teacher_u_f1, epoch)\n",
    "    \n",
    "    tensorboard.add_scalar(\"train/student_loss\", student_running_loss, epoch)\n",
    "    tensorboard.add_scalar(\"train/teacher_loss\", teacher_running_loss, epoch)\n",
    "    tensorboard.add_scalar(\"train/consistency_cost\", running_ccost, epoch)"
   ]
  },
  {
   "cell_type": "code",
   "execution_count": 25,
   "metadata": {
    "collapsed": false,
    "jupyter": {
     "outputs_hidden": false
    },
    "pycharm": {
     "name": "#%%\n"
    },
    "tags": [
     "re_run"
    ]
   },
   "outputs": [],
   "source": [
    "def val(epoch):\n",
    "    start_time = time.time()\n",
    "    print(\"\")\n",
    "    reset_metrics()\n",
    "    student.eval()\n",
    "    \n",
    "    with torch.set_grad_enabled(False):\n",
    "        for i, (X, y) in enumerate(val_loader):\n",
    "            X = X.cuda()\n",
    "            y = y.cuda()\n",
    "\n",
    "            # Predictions\n",
    "            student_logits = student(X)        \n",
    "            teacher_logits = teacher(X)\n",
    "\n",
    "            # Calculate supervised loss (only student on S)\n",
    "            loss = loss_ce(student_logits, y)\n",
    "            _teacher_loss = loss_ce(teacher_logits, y) # for metrics only\n",
    "            ccost = consistency_cost(softmax_fn(student_logits), softmax_fn(teacher_logits))\n",
    "            \n",
    "            # Compute the metrics\n",
    "            y_one_hot = F.one_hot(y, num_classes=args.num_classes)\n",
    "            \n",
    "            # ---- student ----\n",
    "            student_metrics = calc_student_s_metrics(student_logits, y)\n",
    "            student_acc, student_f1 = student_metrics\n",
    "            \n",
    "            # ---- teacher ----\n",
    "            teacher_metrics = calc_teacher_s_metrics(teacher_logits, y)\n",
    "            teacher_acc, teacher_f1 = teacher_metrics\n",
    "\n",
    "            # Running average of the two losses\n",
    "            student_running_loss = avg_Sce(loss.item()).mean\n",
    "            teacher_running_loss = avg_Tce(_teacher_loss.item()).mean\n",
    "            running_ccost = avg_ccost(ccost.item()).mean\n",
    "\n",
    "            # logs\n",
    "            print(val_form.format(\n",
    "                \"Validation: \", epoch + 1, int(100 * (i + 1) / len(val_loader)),\n",
    "                \"\", student_running_loss, running_ccost, *student_metrics, 0.0, 0.0,\n",
    "                \"\", teacher_running_loss, *teacher_metrics, 0.0, 0.0,\n",
    "                time.time() - start_time\n",
    "            ), end=\"\\r\")\n",
    "\n",
    "    tensorboard.add_scalar(\"val/student_acc\", student_acc, epoch)\n",
    "    tensorboard.add_scalar(\"val/student_f1\", student_f1, epoch)\n",
    "    tensorboard.add_scalar(\"val/teacher_acc\", teacher_acc, epoch)\n",
    "    tensorboard.add_scalar(\"val/teacher_f1\", teacher_f1, epoch)\n",
    "    tensorboard.add_scalar(\"val/student_loss\", student_running_loss, epoch)\n",
    "    tensorboard.add_scalar(\"val/teacher_loss\", teacher_running_loss, epoch)\n",
    "    tensorboard.add_scalar(\"val/consistency_cost\", running_ccost, epoch)\n",
    "    \n",
    "    tensorboard.add_scalar(\"hyperparameters/learning_rate\", get_lr(optimizer), epoch)\n",
    "    tensorboard.add_scalar(\"hyperparameters/lambda_cost_max\", lambda_cost(), epoch)\n",
    "    \n",
    "    tensorboard.add_scalar(\"max/student_acc\", maximum_tracker(\"student_acc\", student_acc), epoch )\n",
    "    tensorboard.add_scalar(\"max/teacher_acc\", maximum_tracker(\"teacher_acc\", teacher_acc), epoch )\n",
    "    tensorboard.add_scalar(\"max/student_f1\", maximum_tracker(\"student_f1\", student_f1), epoch )\n",
    "    tensorboard.add_scalar(\"max/teacher_f1\", maximum_tracker(\"teacher_f1\", teacher_f1), epoch )\n",
    "\n",
    "    checkpoint.step(teacher_acc)\n",
    "    for c in callbacks:\n",
    "        c.step()\n"
   ]
  },
  {
   "cell_type": "markdown",
   "metadata": {},
   "source": [
    "# Training"
   ]
  },
  {
   "cell_type": "code",
   "execution_count": 26,
   "metadata": {
    "collapsed": false,
    "jupyter": {
     "outputs_hidden": false
    },
    "pycharm": {
     "name": "#%%\n"
    },
    "scrolled": true,
    "tags": [
     "outputPrepend"
    ]
   },
   "outputs": [
    {
     "output_type": "stream",
     "name": "stdout",
     "text": [
      "36   |            0.6275   1.0000   0.9993   0.8339   0.8365   - 21.7862 \n",
      "\n",
      "Training 78     - 100    -            0.6719   0.0089   0.9987   0.9974   0.8236   0.8266   |            0.6216   1.0000   1.0000   0.8374   0.8392   - 22.2147 \n",
      "\n",
      "Training 79     - 100    -            0.6658   0.0089   0.9987   0.9993   0.8286   0.8306   |            0.6160   0.9987   0.9987   0.8358   0.8371   - 21.9520 \n",
      "\n",
      "Training 80     - 100    -            0.6598   0.0088   0.9962   0.9962   0.8335   0.8345   |            0.6106   0.9987   0.9987   0.8373   0.8396   - 21.9570 \n",
      "\n",
      "Training 81     - 100    -            0.6540   0.0087   1.0000   0.9986   0.8377   0.8389   |            0.6051   1.0000   1.0000   0.8372   0.8387   - 21.9810 \n",
      "\n",
      "Training 82     - 100    -            0.6481   0.0087   0.9987   0.9987   0.8263   0.8291   |            0.5996   0.9987   0.9987   0.8349   0.8371   - 21.7058 \n",
      "\n",
      "Training 83     - 100    -            0.6425   0.0086   1.0000   1.0000   0.8372   0.8396   |            0.5943   1.0000   1.0000   0.8393   0.8423   - 22.2131 \n",
      "\n",
      "Training 84     - 100    -            0.6372   0.0085   0.9886   0.9892   0.8121   0.8143   |            0.5891   1.0000   1.0000   0.8372   0.8387   - 22.0892 \n",
      "\n",
      "Training 85     - 100    -            0.6343   0.0086   0.9356   0.9376   0.7780   0.7799   |            0.5843   0.9987   0.9987   0.8371   0.8403   - 22.2369 \n",
      "\n",
      "Training 86     - 100    -            0.6301   0.0086   0.9760   0.9751   0.8032   0.8062   |            0.5799   0.9962   0.9967   0.8383   0.8415   - 21.9603 \n",
      "\n",
      "Training 87     - 100    -            0.6255   0.0086   0.9760   0.9731   0.8121   0.8145   |            0.5751   1.0000   1.0000   0.8382   0.8407   - 21.9955 \n",
      "\n",
      "Training 88     - 100    -            0.6206   0.0086   0.9962   0.9961   0.8156   0.8210   |            0.5705   0.9987   0.9987   0.8413   0.8433   - 21.8716 \n",
      "\n",
      "Training 89     - 100    -            0.6157   0.0086   0.9949   0.9943   0.8193   0.8223   |            0.5660   1.0000   1.0000   0.8373   0.8392   - 21.7069 \n",
      "\n",
      "Training 90     - 100    -            0.6108   0.0085   1.0000   1.0000   0.8306   0.8329   |            0.5616   1.0000   1.0000   0.8394   0.8402   - 21.9961 \n",
      "\n",
      "Training 91     - 100    -            0.6061   0.0085   0.9861   0.9863   0.8123   0.8140   |            0.5572   1.0000   0.9986   0.8386   0.8400   - 22.1787 \n",
      "\n",
      "Training 92     - 100    -            0.6017   0.0085   0.9987   0.9980   0.8234   0.8261   |            0.5529   0.9987   0.9993   0.8387   0.8402   - 21.9593 \n",
      "\n",
      "Training 93     - 100    -            0.5972   0.0084   0.9987   0.9987   0.8217   0.8240   |            0.5489   0.9975   0.9975   0.8342   0.8358   - 22.1903 \n",
      "\n",
      "Training 94     - 100    -            0.5929   0.0084   0.9899   0.9899   0.8130   0.8150   |            0.5448   0.9962   0.9962   0.8356   0.8382   - 21.9565 \n",
      "\n",
      "Training 95     - 100    -            0.5886   0.0083   1.0000   0.9993   0.8265   0.8288   |            0.5407   1.0000   1.0000   0.8365   0.8387   - 21.7934 \n",
      "\n",
      "Training 96     - 100    -            0.5842   0.0083   0.9949   0.9940   0.8224   0.8256   |            0.5367   1.0000   1.0000   0.8356   0.8373   - 22.3646 \n",
      "\n",
      "Training 97     - 100    -            0.5805   0.0083   0.9912   0.9917   0.8254   0.8272   |            0.5331   0.9975   0.9979   0.8374   0.8399   - 21.9874 \n",
      "\n",
      "Training 98     - 100    -            0.5768   0.0083   0.9874   0.9878   0.8170   0.8185   |            0.5293   1.0000   1.0000   0.8387   0.8415   - 21.9866 \n",
      "\n",
      "Training 99     - 100    -            0.5735   0.0083   0.9987   0.9987   0.8137   0.8161   |            0.5256   1.0000   1.0000   0.8380   0.8399   - 21.9745 \n",
      "\n",
      "Training 100    - 100    -            0.5694   0.0082   1.0000   0.9993   0.8291   0.8302   |            0.5220   1.0000   1.0000   0.8325   0.8339   - 21.8107 \n",
      "\n",
      "Training 101    - 100    -            0.5655   0.0081   1.0000   1.0000   0.8319   0.8338   |            0.5184   1.0000   1.0000   0.8350   0.8374   - 21.9229 \n",
      "\n",
      "Training 102    - 100    -            0.5616   0.0081   1.0000   1.0000   0.8343   0.8350   |            0.5150   1.0000   1.0000   0.8364   0.8389   - 22.2255 \n",
      "\n",
      "Training 103    - 100    -            0.5579   0.0080   1.0000   1.0000   0.8303   0.8320   |            0.5116   1.0000   1.0000   0.8356   0.8372   - 22.1446 \n",
      "\n",
      "Training 104    - 100    -            0.5544   0.0080   0.9924   0.9929   0.8188   0.8212   |            0.5082   1.0000   0.9993   0.8357   0.8381   - 22.3918 \n",
      "\n",
      "Training 105    - 100    -            0.5512   0.0080   0.9962   0.9948   0.8173   0.8183   |            0.5051   1.0000   1.0000   0.8360   0.8381   - 21.9750 \n",
      "\n",
      "Training 106    - 100    -            0.5479   0.0080   0.9924   0.9924   0.8285   0.8310   |            0.5019   0.9975   0.9980   0.8359   0.8376   - 22.0323 \n",
      "\n",
      "Training 107    - 100    -            0.5449   0.0080   0.9811   0.9814   0.8073   0.8080   |            0.4988   0.9987   0.9987   0.8390   0.8397   - 21.7706 \n",
      "\n",
      "Training 108    - 100    -            0.5416   0.0080   0.9975   0.9980   0.8269   0.8305   |            0.4957   1.0000   1.0000   0.8378   0.8402   - 22.0511 \n",
      "\n",
      "Training 109    - 100    -            0.5387   0.0079   0.9987   0.9980   0.8343   0.8359   |            0.4930   1.0000   1.0000   0.8385   0.8402   - 22.2602 \n",
      "\n",
      "Training 110    - 100    -            0.5355   0.0079   1.0000   1.0000   0.8365   0.8370   |            0.4901   1.0000   1.0000   0.8386   0.8395   - 22.1631 \n",
      "\n",
      "Training 111    - 100    -            0.5323   0.0078   0.9975   0.9980   0.8330   0.8355   |            0.4872   1.0000   0.9993   0.8376   0.8400   - 22.3052 \n",
      "\n",
      "Training 112    - 100    -            0.5292   0.0078   0.9975   0.9980   0.8353   0.8378   |            0.4845   1.0000   1.0000   0.8374   0.8394   - 21.6002 \n",
      "\n",
      "Training 113    - 100    -            0.5261   0.0077   1.0000   1.0000   0.8372   0.8387   |            0.4816   1.0000   1.0000   0.8413   0.8430   - 21.8899 \n",
      "\n",
      "Training 114    - 100    -            0.5232   0.0077   1.0000   1.0000   0.8396   0.8419   |            0.4793   0.9987   0.9987   0.8439   0.8439   - 22.0660 \n",
      "\n",
      "Training 115    - 100    -            0.5204   0.0076   0.9899   0.9899   0.8231   0.8248   |            0.4766   0.9975   0.9975   0.8397   0.8425   - 22.0419 \n",
      "\n",
      "Training 116    - 100    -            0.5177   0.0076   0.9962   0.9962   0.8224   0.8243   |            0.4740   1.0000   1.0000   0.8395   0.8402   - 22.6311 \n",
      "\n",
      "Training 117    - 100    -            0.5151   0.0076   0.9848   0.9854   0.8146   0.8159   |            0.4714   1.0000   1.0000   0.8410   0.8415   - 22.3041 \n",
      "\n",
      "Training 118    - 100    -            0.5126   0.0076   0.9962   0.9955   0.8236   0.8248   |            0.4690   1.0000   0.9993   0.8421   0.8437   - 22.3667 \n",
      "\n",
      "Training 119    - 100    -            0.5100   0.0076   0.9975   0.9980   0.8257   0.8279   |            0.4668   0.9987   0.9987   0.8387   0.8409   - 22.2475 \n",
      "\n",
      "Training 120    - 100    -            0.5073   0.0076   1.0000   1.0000   0.8365   0.8384   |            0.4645   1.0000   1.0000   0.8431   0.8431   - 22.1753 \n",
      "\n",
      "Training 121    - 100    -            0.5047   0.0075   0.9987   0.9987   0.8350   0.8366   |            0.4621   0.9987   0.9987   0.8423   0.8437   - 22.3784 \n",
      "\n",
      "Training 122    - 100    -            0.5020   0.0075   1.0000   1.0000   0.8355   0.8377   |            0.4597   1.0000   1.0000   0.8396   0.8401   - 22.1392 \n",
      "\n",
      "Training 123    - 100    -            0.4993   0.0074   1.0000   1.0000   0.8391   0.8396   |            0.4573   1.0000   0.9993   0.8391   0.8410   - 22.1523 \n",
      "\n",
      "Training 124    - 100    -            0.4965   0.0074   1.0000   1.0000   0.8361   0.8383   |            0.4550   1.0000   0.9993   0.8379   0.8389   - 22.2318 \n",
      "\n",
      "Training 125    - 100    -            0.4938   0.0073   0.9987   0.9987   0.8419   0.8424   |            0.4527   1.0000   1.0000   0.8444   0.8463   - 22.1112 \n",
      "\n",
      "Training 126    - 100    -            0.4913   0.0073   0.9975   0.9975   0.8287   0.8305   |            0.4504   1.0000   0.9993   0.8426   0.8438   - 22.0841 \n",
      "\n",
      "Training 127    - 100    -            0.4891   0.0073   0.9987   0.9987   0.8293   0.8326   |            0.4481   1.0000   1.0000   0.8401   0.8407   - 22.3272 \n",
      "\n",
      "Training 128    - 100    -            0.4865   0.0072   1.0000   1.0000   0.8373   0.8384   |            0.4459   1.0000   1.0000   0.8415   0.8423   - 22.1315 \n",
      "\n",
      "Training 129    - 100    -            0.4840   0.0072   1.0000   1.0000   0.8431   0.8441   |            0.4437   1.0000   1.0000   0.8413   0.8421   - 22.1686 \n",
      "\n",
      "Training 130    - 100    -            0.4818   0.0072   1.0000   1.0000   0.8394   0.8416   |            0.4416   1.0000   1.0000   0.8404   0.8420   - 22.2073 \n",
      "\n",
      "Training 131    - 100    -            0.4794   0.0071   1.0000   1.0000   0.8417   0.8431   |            0.4395   1.0000   1.0000   0.8413   0.8425   - 22.1768 \n",
      "\n",
      "Training 132    - 100    -            0.4770   0.0071   1.0000   1.0000   0.8441   0.8453   |            0.4374   1.0000   1.0000   0.8445   0.8457   - 22.1509 \n",
      "\n",
      "Training 133    - 100    -            0.4746   0.0070   0.9987   0.9993   0.8415   0.8420   |            0.4353   1.0000   1.0000   0.8411   0.8426   - 22.1875 \n",
      "\n",
      "Training 134    - 100    -            0.4724   0.0070   0.9975   0.9980   0.8389   0.8409   |            0.4334   1.0000   1.0000   0.8427   0.8438   - 22.1525 \n",
      "\n",
      "Training 135    - 100    -            0.4702   0.0069   1.0000   1.0000   0.8321   0.8342   |            0.4314   1.0000   1.0000   0.8405   0.8408   - 22.2741 \n",
      "\n",
      "Training 136    - 100    -            0.4681   0.0069   1.0000   1.0000   0.8423   0.8446   |            0.4293   1.0000   1.0000   0.8419   0.8430   - 22.0982 \n",
      "\n",
      "Training 137    - 100    -            0.4659   0.0069   1.0000   1.0000   0.8460   0.8476   |            0.4275   1.0000   1.0000   0.8438   0.8454   - 22.3306 \n",
      "\n",
      "Training 138    - 100    -            0.4637   0.0068   1.0000   1.0000   0.8406   0.8420   |            0.4255   0.9987   0.9987   0.8412   0.8426   - 21.9494 \n",
      "\n",
      "Training 139    - 100    -            0.4617   0.0068   1.0000   1.0000   0.8436   0.8445   |            0.4236   1.0000   1.0000   0.8421   0.8438   - 22.2044 \n",
      "\n",
      "Training 140    - 100    -            0.4595   0.0067   1.0000   1.0000   0.8439   0.8451   |            0.4218   1.0000   1.0000   0.8442   0.8464   - 22.2990 \n",
      "\n",
      "Training 141    - 100    -            0.4575   0.0067   1.0000   1.0000   0.8434   0.8456   |            0.4199   1.0000   1.0000   0.8434   0.8449   - 22.0606 \n",
      "\n",
      "Training 142    - 100    -            0.4554   0.0067   1.0000   1.0000   0.8413   0.8441   |            0.4182   1.0000   1.0000   0.8428   0.8445   - 22.1896 \n",
      "\n",
      "Training 143    - 100    -            0.4534   0.0066   1.0000   1.0000   0.8451   0.8461   |            0.4164   1.0000   1.0000   0.8465   0.8473   - 22.0845 \n",
      "\n",
      "Training 144    - 100    -            0.4515   0.0066   1.0000   1.0000   0.8432   0.8442   |            0.4148   1.0000   1.0000   0.8421   0.8439   - 22.1207 \n",
      "\n",
      "Training 145    - 100    -            0.4496   0.0065   1.0000   1.0000   0.8450   0.8463   |            0.4131   1.0000   1.0000   0.8423   0.8446   - 22.2056 \n",
      "\n",
      "Training 146    - 100    -            0.4477   0.0065   0.9962   0.9967   0.8396   0.8404   |            0.4115   0.9975   0.9979   0.8414   0.8432   - 22.3018 \n",
      "\n",
      "Training 147    - 100    -            0.4460   0.0065   0.9962   0.9968   0.8269   0.8278   |            0.4098   1.0000   1.0000   0.8437   0.8448   - 22.0903 \n",
      "\n",
      "Training 148    - 100    -            0.4443   0.0065   0.9987   0.9987   0.8320   0.8349   |            0.4083   1.0000   1.0000   0.8424   0.8443   - 22.0855 \n",
      "\n",
      "Training 149    - 100    -            0.4425   0.0064   1.0000   1.0000   0.8433   0.8448   |            0.4067   1.0000   1.0000   0.8440   0.8445   - 22.2651 \n",
      "\n",
      "Training 150    - 100    -            0.4408   0.0064   1.0000   1.0000   0.8445   0.8455   |            0.4051   1.0000   1.0000   0.8458   0.8470   - 22.3445 \n",
      "\n",
      "Training 151    - 100    -            0.4392   0.0064   0.9987   0.9987   0.8434   0.8444   |            0.4037   1.0000   1.0000   0.8465   0.8481   - 22.1228 \n",
      "\n",
      "Training 152    - 100    -            0.4375   0.0064   1.0000   1.0000   0.8409   0.8426   |            0.4022   1.0000   1.0000   0.8440   0.8448   - 22.2105 \n",
      "\n",
      "Training 153    - 100    -            0.4360   0.0063   1.0000   1.0000   0.8441   0.8460   |            0.4008   1.0000   1.0000   0.8441   0.8460   - 22.2472 \n",
      "\n",
      "Training 154    - 100    -            0.4344   0.0063   1.0000   1.0000   0.8438   0.8452   |            0.3993   1.0000   1.0000   0.8462   0.8473   - 22.2272 \n",
      "\n",
      "Training 155    - 100    -            0.4329   0.0062   1.0000   1.0000   0.8441   0.8461   |            0.3980   1.0000   1.0000   0.8444   0.8458   - 22.1993 \n",
      "\n",
      "Training 156    - 100    -            0.4312   0.0062   1.0000   1.0000   0.8462   0.8486   |            0.3966   1.0000   1.0000   0.8472   0.8484   - 22.2921 \n",
      "\n",
      "Training 157    - 100    -            0.4295   0.0062   1.0000   1.0000   0.8486   0.8497   |            0.3951   1.0000   1.0000   0.8481   0.8494   - 22.3132 \n",
      "\n",
      "Training 158    - 100    -            0.4279   0.0061   1.0000   1.0000   0.8496   0.8509   |            0.3937   1.0000   1.0000   0.8496   0.8501   - 22.1587 \n",
      "\n",
      "Training 159    - 100    -            0.4264   0.0061   1.0000   1.0000   0.8445   0.8458   |            0.3923   1.0000   1.0000   0.8443   0.8449   - 22.3287 \n",
      "\n",
      "Training 160    - 100    -            0.4249   0.0061   0.9975   0.9975   0.8428   0.8438   |            0.3910   0.9987   0.9987   0.8475   0.8488   - 22.1267 \n",
      "\n",
      "Training 161    - 100    -            0.4233   0.0060   1.0000   1.0000   0.8443   0.8455   |            0.3896   1.0000   1.0000   0.8456   0.8474   - 22.0195 \n",
      "\n",
      "Training 162    - 100    -            0.4219   0.0060   1.0000   1.0000   0.8462   0.8480   |            0.3883   1.0000   1.0000   0.8481   0.8492   - 22.1468 \n",
      "\n",
      "Training 163    - 100    -            0.4205   0.0060   1.0000   1.0000   0.8445   0.8456   |            0.3871   1.0000   1.0000   0.8455   0.8472   - 22.1782 \n",
      "\n",
      "Training 164    - 100    -            0.4191   0.0059   0.9987   0.9980   0.8470   0.8475   |            0.3859   0.9987   0.9993   0.8474   0.8480   - 22.3700 \n",
      "\n",
      "Training 165    - 100    -            0.4177   0.0059   1.0000   1.0000   0.8441   0.8453   |            0.3846   1.0000   1.0000   0.8463   0.8482   - 22.1166 \n",
      "\n",
      "Training 166    - 100    -            0.4162   0.0059   1.0000   1.0000   0.8447   0.8458   |            0.3833   1.0000   1.0000   0.8452   0.8474   - 22.2041 \n",
      "\n",
      "Training 167    - 100    -            0.4147   0.0058   1.0000   1.0000   0.8449   0.8458   |            0.3820   1.0000   1.0000   0.8461   0.8475   - 22.2160 \n",
      "\n",
      "Training 168    - 100    -            0.4133   0.0058   1.0000   1.0000   0.8476   0.8487   |            0.3808   1.0000   1.0000   0.8468   0.8483   - 22.3448 \n",
      "\n",
      "Training 169    - 100    -            0.4119   0.0058   0.9987   0.9993   0.8426   0.8433   |            0.3795   0.9987   0.9993   0.8442   0.8448   - 22.2781 \n",
      "\n",
      "Training 170    - 100    -            0.4105   0.0058   1.0000   1.0000   0.8445   0.8459   |            0.3783   1.0000   1.0000   0.8471   0.8489   - 22.1681 \n",
      "\n",
      "Training 171    - 100    -            0.4092   0.0057   0.9987   0.9987   0.8432   0.8442   |            0.3771   0.9987   0.9987   0.8449   0.8458   - 22.4378 \n",
      "\n",
      "Training 172    - 100    -            0.4079   0.0057   0.9987   0.9979   0.8493   0.8501   |            0.3759   0.9987   0.9987   0.8484   0.8490   - 22.3517 \n",
      "\n",
      "Training 173    - 100    -            0.4066   0.0057   1.0000   1.0000   0.8451   0.8466   |            0.3747   1.0000   1.0000   0.8469   0.8487   - 22.4062 \n",
      "\n",
      "Training 174    - 100    -            0.4053   0.0056   0.9987   0.9987   0.8471   0.8481   |            0.3736   0.9987   0.9987   0.8480   0.8491   - 22.3317 \n",
      "\n",
      "Training 175    - 100    -            0.4040   0.0056   0.9987   0.9987   0.8476   0.8488   |            0.3724   0.9987   0.9987   0.8508   0.8515   - 22.1369 \n",
      "\n",
      "Training 176    - 100    -            0.4027   0.0056   1.0000   1.0000   0.8425   0.8445   |            0.3713   1.0000   1.0000   0.8459   0.8470   - 22.2054 \n",
      "\n",
      "Training 177    - 100    -            0.4015   0.0056   1.0000   1.0000   0.8418   0.8436   |            0.3702   1.0000   1.0000   0.8427   0.8440   - 22.1639 \n",
      "\n",
      "Training 178    - 100    -            0.4003   0.0055   1.0000   1.0000   0.8469   0.8479   |            0.3691   0.9987   0.9987   0.8478   0.8485   - 22.0841 \n",
      "\n",
      "Training 179    - 100    -            0.3991   0.0055   1.0000   1.0000   0.8476   0.8484   |            0.3680   1.0000   1.0000   0.8472   0.8482   - 22.3304 \n",
      "\n",
      "Training 180    - 100    -            0.3979   0.0055   1.0000   1.0000   0.8454   0.8470   |            0.3670   1.0000   1.0000   0.8464   0.8479   - 22.2179 \n",
      "\n",
      "Training 181    - 100    -            0.3968   0.0054   1.0000   1.0000   0.8435   0.8456   |            0.3660   1.0000   1.0000   0.8441   0.8462   - 22.3934 \n",
      "\n",
      "Training 182    - 100    -            0.3956   0.0054   1.0000   1.0000   0.8414   0.8425   |            0.3650   1.0000   1.0000   0.8409   0.8418   - 22.4822 \n",
      "\n",
      "Training 183    - 100    -            0.3944   0.0054   1.0000   1.0000   0.8452   0.8462   |            0.3640   1.0000   1.0000   0.8450   0.8470   - 22.3877 \n",
      "\n",
      "Training 184    - 100    -            0.3932   0.0054   1.0000   1.0000   0.8434   0.8457   |            0.3629   1.0000   1.0000   0.8434   0.8447   - 22.3604 \n",
      "\n",
      "Training 185    - 100    -            0.3922   0.0053   0.9987   0.9987   0.8450   0.8468   |            0.3620   0.9987   0.9987   0.8459   0.8474   - 22.2862 \n",
      "\n",
      "Training 186    - 100    -            0.3911   0.0053   1.0000   1.0000   0.8458   0.8465   |            0.3611   1.0000   1.0000   0.8461   0.8464   - 22.2484 \n",
      "\n",
      "Training 187    - 100    -            0.3899   0.0053   1.0000   1.0000   0.8445   0.8458   |            0.3601   1.0000   1.0000   0.8440   0.8455   - 22.2941 \n",
      "\n",
      "Training 188    - 100    -            0.3889   0.0053   1.0000   1.0000   0.8411   0.8421   |            0.3592   1.0000   1.0000   0.8407   0.8421   - 22.3299 \n",
      "\n",
      "Training 189    - 100    -            0.3878   0.0052   1.0000   1.0000   0.8447   0.8465   |            0.3583   1.0000   1.0000   0.8447   0.8464   - 22.4738 \n",
      "\n",
      "Training 190    - 100    -            0.3867   0.0052   1.0000   1.0000   0.8471   0.8481   |            0.3573   1.0000   1.0000   0.8473   0.8483   - 22.3602 \n",
      "\n",
      "Training 191    - 100    -            0.3857   0.0052   1.0000   1.0000   0.8444   0.8458   |            0.3565   1.0000   1.0000   0.8439   0.8456   - 22.3679 \n",
      "\n",
      "Training 192    - 100    -            0.3847   0.0051   1.0000   1.0000   0.8462   0.8477   |            0.3555   1.0000   1.0000   0.8459   0.8472   - 22.3031 \n",
      "\n",
      "Training 193    - 100    -            0.3836   0.0051   1.0000   1.0000   0.8453   0.8471   |            0.3546   1.0000   1.0000   0.8455   0.8470   - 22.3637 \n",
      "\n",
      "Training 194    - 100    -            0.3825   0.0051   1.0000   1.0000   0.8454   0.8478   |            0.3537   1.0000   1.0000   0.8452   0.8472   - 22.3853 \n",
      "\n",
      "Training 195    - 100    -            0.3815   0.0051   0.9987   0.9987   0.8451   0.8469   |            0.3528   0.9987   0.9987   0.8452   0.8468   - 22.3844 \n",
      "\n",
      "Training 196    - 100    -            0.3805   0.0051   1.0000   1.0000   0.8452   0.8466   |            0.3519   1.0000   1.0000   0.8457   0.8469   - 22.3337 \n",
      "\n",
      "Training 197    - 100    -            0.3795   0.0050   1.0000   1.0000   0.8444   0.8454   |            0.3511   1.0000   1.0000   0.8443   0.8456   - 22.1266 \n",
      "\n",
      "Training 198    - 100    -            0.3785   0.0050   1.0000   1.0000   0.8435   0.8458   |            0.3502   1.0000   1.0000   0.8430   0.8453   - 22.2753 \n",
      "\n",
      "Training 199    - 100    -            0.3777   0.0050   1.0000   1.0000   0.8453   0.8470   |            0.3495   1.0000   1.0000   0.8452   0.8472   - 22.3282 \n",
      "\n",
      "Training 200    - 100    -            0.3767   0.0050   1.0000   1.0000   0.8422   0.8443   |            0.3487   1.0000   1.0000   0.8426   0.8443   - 22.2177 \n"
     ]
    }
   ],
   "source": [
    "print(header)\n",
    "\n",
    "start_epoch = checkpoint.epoch_counter\n",
    "end_epoch = args.nb_epoch\n",
    "\n",
    "for e in range(start_epoch, args.nb_epoch):\n",
    "    train(e)\n",
    "    val(e)\n",
    "    \n",
    "    tensorboard.flush()"
   ]
  },
  {
   "cell_type": "markdown",
   "metadata": {},
   "source": [
    "## Save the hyper parameters and the metrics"
   ]
  },
  {
   "cell_type": "code",
   "execution_count": 27,
   "metadata": {},
   "outputs": [],
   "source": [
    "def save_source_as_img(sourcepath: str):\n",
    "    # Create a zip file of the current source code\n",
    "    from zipfile import ZipFile, ZIP_DEFLATED, ZIP_LZMA\n",
    "\n",
    "    with ZipFile(sourcepath + \".zip\", \"w\", compression=ZIP_DEFLATED, compresslevel=9) as myzip:\n",
    "        myzip.write(sourcepath)\n",
    "\n",
    "    # Read the just created zip file and store it into\n",
    "    # a uint8 numpy array\n",
    "    with open(sourcepath + \".zip\", \"rb\") as myzip:\n",
    "        zip_bin = myzip.read()\n",
    "\n",
    "    zip_bin_n = numpy.array(list(map(int, zip_bin)), dtype=numpy.uint8)\n",
    "\n",
    "    # Convert it into a 2d matrix\n",
    "    desired_dimension = 500\n",
    "    missing = desired_dimension - (zip_bin_n.size % desired_dimension)\n",
    "    zip_bin_p = numpy.concatenate((zip_bin_n, numpy.array([0]*missing, dtype=numpy.uint8)))\n",
    "    zip_bin_i = numpy.asarray(zip_bin_p).reshape((desired_dimension, zip_bin_p.size // desired_dimension))\n",
    "\n",
    "    return zip_bin_i, missing"
   ]
  },
  {
   "cell_type": "code",
   "execution_count": 28,
   "metadata": {},
   "outputs": [
    {
     "output_type": "error",
     "ename": "FileNotFoundError",
     "evalue": "[Errno 2] No such file or directory: 'student-teacher.ipynb'",
     "traceback": [
      "\u001b[0;31m---------------------------------------------------------------------------\u001b[0m",
      "\u001b[0;31mFileNotFoundError\u001b[0m                         Traceback (most recent call last)",
      "\u001b[0;32m<ipython-input-28-fc4c94f8885e>\u001b[0m in \u001b[0;36m<module>\u001b[0;34m\u001b[0m\n\u001b[1;32m      1\u001b[0m \u001b[0;32mimport\u001b[0m \u001b[0mmatplotlib\u001b[0m\u001b[0;34m.\u001b[0m\u001b[0mpyplot\u001b[0m \u001b[0;32mas\u001b[0m \u001b[0mplt\u001b[0m\u001b[0;34m\u001b[0m\u001b[0;34m\u001b[0m\u001b[0m\n\u001b[0;32m----> 2\u001b[0;31m \u001b[0msource_bin\u001b[0m\u001b[0;34m,\u001b[0m \u001b[0m_\u001b[0m \u001b[0;34m=\u001b[0m \u001b[0msave_source_as_img\u001b[0m\u001b[0;34m(\u001b[0m\u001b[0;34m\"student-teacher.ipynb\"\u001b[0m\u001b[0;34m)\u001b[0m\u001b[0;34m\u001b[0m\u001b[0;34m\u001b[0m\u001b[0m\n\u001b[0m\u001b[1;32m      3\u001b[0m \u001b[0mplt\u001b[0m\u001b[0;34m.\u001b[0m\u001b[0mimshow\u001b[0m\u001b[0;34m(\u001b[0m\u001b[0msource_bin\u001b[0m\u001b[0;34m)\u001b[0m\u001b[0;34m\u001b[0m\u001b[0;34m\u001b[0m\u001b[0m\n",
      "\u001b[0;32m<ipython-input-27-c5814275eb65>\u001b[0m in \u001b[0;36msave_source_as_img\u001b[0;34m(sourcepath)\u001b[0m\n\u001b[1;32m      4\u001b[0m \u001b[0;34m\u001b[0m\u001b[0m\n\u001b[1;32m      5\u001b[0m     \u001b[0;32mwith\u001b[0m \u001b[0mZipFile\u001b[0m\u001b[0;34m(\u001b[0m\u001b[0msourcepath\u001b[0m \u001b[0;34m+\u001b[0m \u001b[0;34m\".zip\"\u001b[0m\u001b[0;34m,\u001b[0m \u001b[0;34m\"w\"\u001b[0m\u001b[0;34m,\u001b[0m \u001b[0mcompression\u001b[0m\u001b[0;34m=\u001b[0m\u001b[0mZIP_DEFLATED\u001b[0m\u001b[0;34m,\u001b[0m \u001b[0mcompresslevel\u001b[0m\u001b[0;34m=\u001b[0m\u001b[0;36m9\u001b[0m\u001b[0;34m)\u001b[0m \u001b[0;32mas\u001b[0m \u001b[0mmyzip\u001b[0m\u001b[0;34m:\u001b[0m\u001b[0;34m\u001b[0m\u001b[0;34m\u001b[0m\u001b[0m\n\u001b[0;32m----> 6\u001b[0;31m         \u001b[0mmyzip\u001b[0m\u001b[0;34m.\u001b[0m\u001b[0mwrite\u001b[0m\u001b[0;34m(\u001b[0m\u001b[0msourcepath\u001b[0m\u001b[0;34m)\u001b[0m\u001b[0;34m\u001b[0m\u001b[0;34m\u001b[0m\u001b[0m\n\u001b[0m\u001b[1;32m      7\u001b[0m \u001b[0;34m\u001b[0m\u001b[0m\n\u001b[1;32m      8\u001b[0m     \u001b[0;31m# Read the just created zip file and store it into\u001b[0m\u001b[0;34m\u001b[0m\u001b[0;34m\u001b[0m\u001b[0;34m\u001b[0m\u001b[0m\n",
      "\u001b[0;32m~/.miniconda3/envs/dct/lib/python3.8/zipfile.py\u001b[0m in \u001b[0;36mwrite\u001b[0;34m(self, filename, arcname, compress_type, compresslevel)\u001b[0m\n\u001b[1;32m   1720\u001b[0m             )\n\u001b[1;32m   1721\u001b[0m \u001b[0;34m\u001b[0m\u001b[0m\n\u001b[0;32m-> 1722\u001b[0;31m         zinfo = ZipInfo.from_file(filename, arcname,\n\u001b[0m\u001b[1;32m   1723\u001b[0m                                   strict_timestamps=self._strict_timestamps)\n\u001b[1;32m   1724\u001b[0m \u001b[0;34m\u001b[0m\u001b[0m\n",
      "\u001b[0;32m~/.miniconda3/envs/dct/lib/python3.8/zipfile.py\u001b[0m in \u001b[0;36mfrom_file\u001b[0;34m(cls, filename, arcname, strict_timestamps)\u001b[0m\n\u001b[1;32m    507\u001b[0m         \u001b[0;32mif\u001b[0m \u001b[0misinstance\u001b[0m\u001b[0;34m(\u001b[0m\u001b[0mfilename\u001b[0m\u001b[0;34m,\u001b[0m \u001b[0mos\u001b[0m\u001b[0;34m.\u001b[0m\u001b[0mPathLike\u001b[0m\u001b[0;34m)\u001b[0m\u001b[0;34m:\u001b[0m\u001b[0;34m\u001b[0m\u001b[0;34m\u001b[0m\u001b[0m\n\u001b[1;32m    508\u001b[0m             \u001b[0mfilename\u001b[0m \u001b[0;34m=\u001b[0m \u001b[0mos\u001b[0m\u001b[0;34m.\u001b[0m\u001b[0mfspath\u001b[0m\u001b[0;34m(\u001b[0m\u001b[0mfilename\u001b[0m\u001b[0;34m)\u001b[0m\u001b[0;34m\u001b[0m\u001b[0;34m\u001b[0m\u001b[0m\n\u001b[0;32m--> 509\u001b[0;31m         \u001b[0mst\u001b[0m \u001b[0;34m=\u001b[0m \u001b[0mos\u001b[0m\u001b[0;34m.\u001b[0m\u001b[0mstat\u001b[0m\u001b[0;34m(\u001b[0m\u001b[0mfilename\u001b[0m\u001b[0;34m)\u001b[0m\u001b[0;34m\u001b[0m\u001b[0;34m\u001b[0m\u001b[0m\n\u001b[0m\u001b[1;32m    510\u001b[0m         \u001b[0misdir\u001b[0m \u001b[0;34m=\u001b[0m \u001b[0mstat\u001b[0m\u001b[0;34m.\u001b[0m\u001b[0mS_ISDIR\u001b[0m\u001b[0;34m(\u001b[0m\u001b[0mst\u001b[0m\u001b[0;34m.\u001b[0m\u001b[0mst_mode\u001b[0m\u001b[0;34m)\u001b[0m\u001b[0;34m\u001b[0m\u001b[0;34m\u001b[0m\u001b[0m\n\u001b[1;32m    511\u001b[0m         \u001b[0mmtime\u001b[0m \u001b[0;34m=\u001b[0m \u001b[0mtime\u001b[0m\u001b[0;34m.\u001b[0m\u001b[0mlocaltime\u001b[0m\u001b[0;34m(\u001b[0m\u001b[0mst\u001b[0m\u001b[0;34m.\u001b[0m\u001b[0mst_mtime\u001b[0m\u001b[0;34m)\u001b[0m\u001b[0;34m\u001b[0m\u001b[0;34m\u001b[0m\u001b[0m\n",
      "\u001b[0;31mFileNotFoundError\u001b[0m: [Errno 2] No such file or directory: 'student-teacher.ipynb'"
     ]
    }
   ],
   "source": [
    "import matplotlib.pyplot as plt\n",
    "source_bin, _ = save_source_as_img(\"student-teacher.ipynb\")\n",
    "plt.imshow(source_bin)"
   ]
  },
  {
   "cell_type": "code",
   "execution_count": 109,
   "metadata": {},
   "outputs": [],
   "source": [
    "hparams = {}\n",
    "for key, value in args.__dict__.items():\n",
    "    hparams[key] = str(value)\n",
    "    \n",
    "final_metrics = {\n",
    "    \"max_student_acc\": maximum_tracker.max[\"student_acc\"],\n",
    "    \"max_teacher_acc\": maximum_tracker.max[\"teacher_acc\"],\n",
    "    \"max_student_f1\": maximum_tracker.max[\"student_f1\"],\n",
    "    \"max_teacher_f1\": maximum_tracker.max[\"teacher_f1\"],\n",
    "}\n",
    "tensorboard.add_hparams(hparams, final_metrics)\n",
    "\n",
    "source_code_img, padding_size = save_source_as_img(\"student-teacher.ipynb\")\n",
    "tensorboard.add_image(\"student-teacher___%s\" % padding_size, source_code_img , 0, dataformats=\"HW\")\n",
    "tensorboard.flush()\n",
    "tensorboard.close()"
   ]
  },
  {
   "cell_type": "code",
   "execution_count": 110,
   "metadata": {},
   "outputs": [
    {
     "output_type": "execute_result",
     "data": {
      "text/plain": [
       "((500, 948), 474000)"
      ]
     },
     "metadata": {},
     "execution_count": 110
    }
   ],
   "source": [
    "source_code_img.shape, source_code_img.size"
   ]
  },
  {
   "source": [
    "from hashlib import md5\n",
    "md5(source_bin.flatten()).hexdigest(), md5(source_code_img.flatten()).hexdigest()"
   ],
   "cell_type": "markdown",
   "metadata": {}
  },
  {
   "source": [
    "from PIL import Image\n",
    "\n",
    "im = Image.open(\"tmp-232.png\")\n",
    "source_bin = numpy.asarray(im, dtype=numpy.uint8)\n",
    "source_bin = source_bin[:, :, 0]\n",
    "\n",
    "source_bin = source_bin.flatten()[:-232]\n",
    "\n",
    "with open(\"student-teacher.ipynb.zip.bak\", \"wb\") as mynewzip:\n",
    "    mynewzip.write(source_bin)\n",
    "\n",
    "# PROUT"
   ],
   "cell_type": "markdown",
   "metadata": {}
  },
  {
   "cell_type": "markdown",
   "metadata": {},
   "source": [
    "## display"
   ]
  },
  {
   "cell_type": "code",
   "execution_count": 29,
   "metadata": {},
   "outputs": [
    {
     "output_type": "display_data",
     "data": {
      "text/plain": "<Figure size 2160x1008 with 2 Axes>",
      "image/svg+xml": "<?xml version=\"1.0\" encoding=\"utf-8\" standalone=\"no\"?>\n<!DOCTYPE svg PUBLIC \"-//W3C//DTD SVG 1.1//EN\"\n  \"http://www.w3.org/Graphics/SVG/1.1/DTD/svg11.dtd\">\n<!-- Created with matplotlib (https://matplotlib.org/) -->\n<svg height=\"377.005398pt\" version=\"1.1\" viewBox=\"0 0 1711.303125 377.005398\" width=\"1711.303125pt\" xmlns=\"http://www.w3.org/2000/svg\" xmlns:xlink=\"http://www.w3.org/1999/xlink\">\n <defs>\n  <style type=\"text/css\">\n*{stroke-linecap:butt;stroke-linejoin:round;}\n  </style>\n </defs>\n <g id=\"figure_1\">\n  <g id=\"patch_1\">\n   <path d=\"M 0 377.005398 \nL 1711.303125 377.005398 \nL 1711.303125 -0 \nL 0 -0 \nz\n\" style=\"fill:none;\"/>\n  </g>\n  <g id=\"axes_1\">\n   <g id=\"patch_2\">\n    <path d=\"M 30.103125 353.127273 \nL 522.456066 353.127273 \nL 522.456066 7.2 \nL 30.103125 7.2 \nz\n\" style=\"fill:#ffffff;\"/>\n   </g>\n   <g id=\"matplotlib.axis_1\">\n    <g id=\"xtick_1\">\n     <g id=\"line2d_1\">\n      <defs>\n       <path d=\"M 0 0 \nL 0 3.5 \n\" id=\"m3ef3fd7c31\" style=\"stroke:#000000;stroke-width:0.8;\"/>\n      </defs>\n      <g>\n       <use style=\"stroke:#000000;stroke-width:0.8;\" x=\"52.482804\" xlink:href=\"#m3ef3fd7c31\" y=\"353.127273\"/>\n      </g>\n     </g>\n     <g id=\"text_1\">\n      <!-- 0 -->\n      <defs>\n       <path d=\"M 31.78125 66.40625 \nQ 24.171875 66.40625 20.328125 58.90625 \nQ 16.5 51.421875 16.5 36.375 \nQ 16.5 21.390625 20.328125 13.890625 \nQ 24.171875 6.390625 31.78125 6.390625 \nQ 39.453125 6.390625 43.28125 13.890625 \nQ 47.125 21.390625 47.125 36.375 \nQ 47.125 51.421875 43.28125 58.90625 \nQ 39.453125 66.40625 31.78125 66.40625 \nz\nM 31.78125 74.21875 \nQ 44.046875 74.21875 50.515625 64.515625 \nQ 56.984375 54.828125 56.984375 36.375 \nQ 56.984375 17.96875 50.515625 8.265625 \nQ 44.046875 -1.421875 31.78125 -1.421875 \nQ 19.53125 -1.421875 13.0625 8.265625 \nQ 6.59375 17.96875 6.59375 36.375 \nQ 6.59375 54.828125 13.0625 64.515625 \nQ 19.53125 74.21875 31.78125 74.21875 \nz\n\" id=\"DejaVuSans-48\"/>\n      </defs>\n      <g transform=\"translate(49.301554 367.72571)scale(0.1 -0.1)\">\n       <use xlink:href=\"#DejaVuSans-48\"/>\n      </g>\n     </g>\n    </g>\n    <g id=\"xtick_2\">\n     <g id=\"line2d_2\">\n      <g>\n       <use style=\"stroke:#000000;stroke-width:0.8;\" x=\"108.713154\" xlink:href=\"#m3ef3fd7c31\" y=\"353.127273\"/>\n      </g>\n     </g>\n     <g id=\"text_2\">\n      <!-- 25 -->\n      <defs>\n       <path d=\"M 19.1875 8.296875 \nL 53.609375 8.296875 \nL 53.609375 0 \nL 7.328125 0 \nL 7.328125 8.296875 \nQ 12.9375 14.109375 22.625 23.890625 \nQ 32.328125 33.6875 34.8125 36.53125 \nQ 39.546875 41.84375 41.421875 45.53125 \nQ 43.3125 49.21875 43.3125 52.78125 \nQ 43.3125 58.59375 39.234375 62.25 \nQ 35.15625 65.921875 28.609375 65.921875 \nQ 23.96875 65.921875 18.8125 64.3125 \nQ 13.671875 62.703125 7.8125 59.421875 \nL 7.8125 69.390625 \nQ 13.765625 71.78125 18.9375 73 \nQ 24.125 74.21875 28.421875 74.21875 \nQ 39.75 74.21875 46.484375 68.546875 \nQ 53.21875 62.890625 53.21875 53.421875 \nQ 53.21875 48.921875 51.53125 44.890625 \nQ 49.859375 40.875 45.40625 35.40625 \nQ 44.1875 33.984375 37.640625 27.21875 \nQ 31.109375 20.453125 19.1875 8.296875 \nz\n\" id=\"DejaVuSans-50\"/>\n       <path d=\"M 10.796875 72.90625 \nL 49.515625 72.90625 \nL 49.515625 64.59375 \nL 19.828125 64.59375 \nL 19.828125 46.734375 \nQ 21.96875 47.46875 24.109375 47.828125 \nQ 26.265625 48.1875 28.421875 48.1875 \nQ 40.625 48.1875 47.75 41.5 \nQ 54.890625 34.8125 54.890625 23.390625 \nQ 54.890625 11.625 47.5625 5.09375 \nQ 40.234375 -1.421875 26.90625 -1.421875 \nQ 22.3125 -1.421875 17.546875 -0.640625 \nQ 12.796875 0.140625 7.71875 1.703125 \nL 7.71875 11.625 \nQ 12.109375 9.234375 16.796875 8.0625 \nQ 21.484375 6.890625 26.703125 6.890625 \nQ 35.15625 6.890625 40.078125 11.328125 \nQ 45.015625 15.765625 45.015625 23.390625 \nQ 45.015625 31 40.078125 35.4375 \nQ 35.15625 39.890625 26.703125 39.890625 \nQ 22.75 39.890625 18.8125 39.015625 \nQ 14.890625 38.140625 10.796875 36.28125 \nz\n\" id=\"DejaVuSans-53\"/>\n      </defs>\n      <g transform=\"translate(102.350654 367.72571)scale(0.1 -0.1)\">\n       <use xlink:href=\"#DejaVuSans-50\"/>\n       <use x=\"63.623047\" xlink:href=\"#DejaVuSans-53\"/>\n      </g>\n     </g>\n    </g>\n    <g id=\"xtick_3\">\n     <g id=\"line2d_3\">\n      <g>\n       <use style=\"stroke:#000000;stroke-width:0.8;\" x=\"164.943503\" xlink:href=\"#m3ef3fd7c31\" y=\"353.127273\"/>\n      </g>\n     </g>\n     <g id=\"text_3\">\n      <!-- 50 -->\n      <g transform=\"translate(158.581003 367.72571)scale(0.1 -0.1)\">\n       <use xlink:href=\"#DejaVuSans-53\"/>\n       <use x=\"63.623047\" xlink:href=\"#DejaVuSans-48\"/>\n      </g>\n     </g>\n    </g>\n    <g id=\"xtick_4\">\n     <g id=\"line2d_4\">\n      <g>\n       <use style=\"stroke:#000000;stroke-width:0.8;\" x=\"221.173853\" xlink:href=\"#m3ef3fd7c31\" y=\"353.127273\"/>\n      </g>\n     </g>\n     <g id=\"text_4\">\n      <!-- 75 -->\n      <defs>\n       <path d=\"M 8.203125 72.90625 \nL 55.078125 72.90625 \nL 55.078125 68.703125 \nL 28.609375 0 \nL 18.3125 0 \nL 43.21875 64.59375 \nL 8.203125 64.59375 \nz\n\" id=\"DejaVuSans-55\"/>\n      </defs>\n      <g transform=\"translate(214.811353 367.72571)scale(0.1 -0.1)\">\n       <use xlink:href=\"#DejaVuSans-55\"/>\n       <use x=\"63.623047\" xlink:href=\"#DejaVuSans-53\"/>\n      </g>\n     </g>\n    </g>\n    <g id=\"xtick_5\">\n     <g id=\"line2d_5\">\n      <g>\n       <use style=\"stroke:#000000;stroke-width:0.8;\" x=\"277.404203\" xlink:href=\"#m3ef3fd7c31\" y=\"353.127273\"/>\n      </g>\n     </g>\n     <g id=\"text_5\">\n      <!-- 100 -->\n      <defs>\n       <path d=\"M 12.40625 8.296875 \nL 28.515625 8.296875 \nL 28.515625 63.921875 \nL 10.984375 60.40625 \nL 10.984375 69.390625 \nL 28.421875 72.90625 \nL 38.28125 72.90625 \nL 38.28125 8.296875 \nL 54.390625 8.296875 \nL 54.390625 0 \nL 12.40625 0 \nz\n\" id=\"DejaVuSans-49\"/>\n      </defs>\n      <g transform=\"translate(267.860453 367.72571)scale(0.1 -0.1)\">\n       <use xlink:href=\"#DejaVuSans-49\"/>\n       <use x=\"63.623047\" xlink:href=\"#DejaVuSans-48\"/>\n       <use x=\"127.246094\" xlink:href=\"#DejaVuSans-48\"/>\n      </g>\n     </g>\n    </g>\n    <g id=\"xtick_6\">\n     <g id=\"line2d_6\">\n      <g>\n       <use style=\"stroke:#000000;stroke-width:0.8;\" x=\"333.634552\" xlink:href=\"#m3ef3fd7c31\" y=\"353.127273\"/>\n      </g>\n     </g>\n     <g id=\"text_6\">\n      <!-- 125 -->\n      <g transform=\"translate(324.090802 367.72571)scale(0.1 -0.1)\">\n       <use xlink:href=\"#DejaVuSans-49\"/>\n       <use x=\"63.623047\" xlink:href=\"#DejaVuSans-50\"/>\n       <use x=\"127.246094\" xlink:href=\"#DejaVuSans-53\"/>\n      </g>\n     </g>\n    </g>\n    <g id=\"xtick_7\">\n     <g id=\"line2d_7\">\n      <g>\n       <use style=\"stroke:#000000;stroke-width:0.8;\" x=\"389.864902\" xlink:href=\"#m3ef3fd7c31\" y=\"353.127273\"/>\n      </g>\n     </g>\n     <g id=\"text_7\">\n      <!-- 150 -->\n      <g transform=\"translate(380.321152 367.72571)scale(0.1 -0.1)\">\n       <use xlink:href=\"#DejaVuSans-49\"/>\n       <use x=\"63.623047\" xlink:href=\"#DejaVuSans-53\"/>\n       <use x=\"127.246094\" xlink:href=\"#DejaVuSans-48\"/>\n      </g>\n     </g>\n    </g>\n    <g id=\"xtick_8\">\n     <g id=\"line2d_8\">\n      <g>\n       <use style=\"stroke:#000000;stroke-width:0.8;\" x=\"446.095251\" xlink:href=\"#m3ef3fd7c31\" y=\"353.127273\"/>\n      </g>\n     </g>\n     <g id=\"text_8\">\n      <!-- 175 -->\n      <g transform=\"translate(436.551501 367.72571)scale(0.1 -0.1)\">\n       <use xlink:href=\"#DejaVuSans-49\"/>\n       <use x=\"63.623047\" xlink:href=\"#DejaVuSans-55\"/>\n       <use x=\"127.246094\" xlink:href=\"#DejaVuSans-53\"/>\n      </g>\n     </g>\n    </g>\n    <g id=\"xtick_9\">\n     <g id=\"line2d_9\">\n      <g>\n       <use style=\"stroke:#000000;stroke-width:0.8;\" x=\"502.325601\" xlink:href=\"#m3ef3fd7c31\" y=\"353.127273\"/>\n      </g>\n     </g>\n     <g id=\"text_9\">\n      <!-- 200 -->\n      <g transform=\"translate(492.781851 367.72571)scale(0.1 -0.1)\">\n       <use xlink:href=\"#DejaVuSans-50\"/>\n       <use x=\"63.623047\" xlink:href=\"#DejaVuSans-48\"/>\n       <use x=\"127.246094\" xlink:href=\"#DejaVuSans-48\"/>\n      </g>\n     </g>\n    </g>\n   </g>\n   <g id=\"matplotlib.axis_2\">\n    <g id=\"ytick_1\">\n     <g id=\"line2d_10\">\n      <defs>\n       <path d=\"M 0 0 \nL -3.5 0 \n\" id=\"m2d49fa9480\" style=\"stroke:#000000;stroke-width:0.8;\"/>\n      </defs>\n      <g>\n       <use style=\"stroke:#000000;stroke-width:0.8;\" x=\"30.103125\" xlink:href=\"#m2d49fa9480\" y=\"327.092517\"/>\n      </g>\n     </g>\n     <g id=\"text_10\">\n      <!-- 0.2 -->\n      <defs>\n       <path d=\"M 10.6875 12.40625 \nL 21 12.40625 \nL 21 0 \nL 10.6875 0 \nz\n\" id=\"DejaVuSans-46\"/>\n      </defs>\n      <g transform=\"translate(7.2 330.891736)scale(0.1 -0.1)\">\n       <use xlink:href=\"#DejaVuSans-48\"/>\n       <use x=\"63.623047\" xlink:href=\"#DejaVuSans-46\"/>\n       <use x=\"95.410156\" xlink:href=\"#DejaVuSans-50\"/>\n      </g>\n     </g>\n    </g>\n    <g id=\"ytick_2\">\n     <g id=\"line2d_11\">\n      <g>\n       <use style=\"stroke:#000000;stroke-width:0.8;\" x=\"30.103125\" xlink:href=\"#m2d49fa9480\" y=\"270.760351\"/>\n      </g>\n     </g>\n     <g id=\"text_11\">\n      <!-- 0.3 -->\n      <defs>\n       <path d=\"M 40.578125 39.3125 \nQ 47.65625 37.796875 51.625 33 \nQ 55.609375 28.21875 55.609375 21.1875 \nQ 55.609375 10.40625 48.1875 4.484375 \nQ 40.765625 -1.421875 27.09375 -1.421875 \nQ 22.515625 -1.421875 17.65625 -0.515625 \nQ 12.796875 0.390625 7.625 2.203125 \nL 7.625 11.71875 \nQ 11.71875 9.328125 16.59375 8.109375 \nQ 21.484375 6.890625 26.8125 6.890625 \nQ 36.078125 6.890625 40.9375 10.546875 \nQ 45.796875 14.203125 45.796875 21.1875 \nQ 45.796875 27.640625 41.28125 31.265625 \nQ 36.765625 34.90625 28.71875 34.90625 \nL 20.21875 34.90625 \nL 20.21875 43.015625 \nL 29.109375 43.015625 \nQ 36.375 43.015625 40.234375 45.921875 \nQ 44.09375 48.828125 44.09375 54.296875 \nQ 44.09375 59.90625 40.109375 62.90625 \nQ 36.140625 65.921875 28.71875 65.921875 \nQ 24.65625 65.921875 20.015625 65.03125 \nQ 15.375 64.15625 9.8125 62.3125 \nL 9.8125 71.09375 \nQ 15.4375 72.65625 20.34375 73.4375 \nQ 25.25 74.21875 29.59375 74.21875 \nQ 40.828125 74.21875 47.359375 69.109375 \nQ 53.90625 64.015625 53.90625 55.328125 \nQ 53.90625 49.265625 50.4375 45.09375 \nQ 46.96875 40.921875 40.578125 39.3125 \nz\n\" id=\"DejaVuSans-51\"/>\n      </defs>\n      <g transform=\"translate(7.2 274.55957)scale(0.1 -0.1)\">\n       <use xlink:href=\"#DejaVuSans-48\"/>\n       <use x=\"63.623047\" xlink:href=\"#DejaVuSans-46\"/>\n       <use x=\"95.410156\" xlink:href=\"#DejaVuSans-51\"/>\n      </g>\n     </g>\n    </g>\n    <g id=\"ytick_3\">\n     <g id=\"line2d_12\">\n      <g>\n       <use style=\"stroke:#000000;stroke-width:0.8;\" x=\"30.103125\" xlink:href=\"#m2d49fa9480\" y=\"214.428186\"/>\n      </g>\n     </g>\n     <g id=\"text_12\">\n      <!-- 0.4 -->\n      <defs>\n       <path d=\"M 37.796875 64.3125 \nL 12.890625 25.390625 \nL 37.796875 25.390625 \nz\nM 35.203125 72.90625 \nL 47.609375 72.90625 \nL 47.609375 25.390625 \nL 58.015625 25.390625 \nL 58.015625 17.1875 \nL 47.609375 17.1875 \nL 47.609375 0 \nL 37.796875 0 \nL 37.796875 17.1875 \nL 4.890625 17.1875 \nL 4.890625 26.703125 \nz\n\" id=\"DejaVuSans-52\"/>\n      </defs>\n      <g transform=\"translate(7.2 218.227405)scale(0.1 -0.1)\">\n       <use xlink:href=\"#DejaVuSans-48\"/>\n       <use x=\"63.623047\" xlink:href=\"#DejaVuSans-46\"/>\n       <use x=\"95.410156\" xlink:href=\"#DejaVuSans-52\"/>\n      </g>\n     </g>\n    </g>\n    <g id=\"ytick_4\">\n     <g id=\"line2d_13\">\n      <g>\n       <use style=\"stroke:#000000;stroke-width:0.8;\" x=\"30.103125\" xlink:href=\"#m2d49fa9480\" y=\"158.09602\"/>\n      </g>\n     </g>\n     <g id=\"text_13\">\n      <!-- 0.5 -->\n      <g transform=\"translate(7.2 161.895239)scale(0.1 -0.1)\">\n       <use xlink:href=\"#DejaVuSans-48\"/>\n       <use x=\"63.623047\" xlink:href=\"#DejaVuSans-46\"/>\n       <use x=\"95.410156\" xlink:href=\"#DejaVuSans-53\"/>\n      </g>\n     </g>\n    </g>\n    <g id=\"ytick_5\">\n     <g id=\"line2d_14\">\n      <g>\n       <use style=\"stroke:#000000;stroke-width:0.8;\" x=\"30.103125\" xlink:href=\"#m2d49fa9480\" y=\"101.763855\"/>\n      </g>\n     </g>\n     <g id=\"text_14\">\n      <!-- 0.6 -->\n      <defs>\n       <path d=\"M 33.015625 40.375 \nQ 26.375 40.375 22.484375 35.828125 \nQ 18.609375 31.296875 18.609375 23.390625 \nQ 18.609375 15.53125 22.484375 10.953125 \nQ 26.375 6.390625 33.015625 6.390625 \nQ 39.65625 6.390625 43.53125 10.953125 \nQ 47.40625 15.53125 47.40625 23.390625 \nQ 47.40625 31.296875 43.53125 35.828125 \nQ 39.65625 40.375 33.015625 40.375 \nz\nM 52.59375 71.296875 \nL 52.59375 62.3125 \nQ 48.875 64.0625 45.09375 64.984375 \nQ 41.3125 65.921875 37.59375 65.921875 \nQ 27.828125 65.921875 22.671875 59.328125 \nQ 17.53125 52.734375 16.796875 39.40625 \nQ 19.671875 43.65625 24.015625 45.921875 \nQ 28.375 48.1875 33.59375 48.1875 \nQ 44.578125 48.1875 50.953125 41.515625 \nQ 57.328125 34.859375 57.328125 23.390625 \nQ 57.328125 12.15625 50.6875 5.359375 \nQ 44.046875 -1.421875 33.015625 -1.421875 \nQ 20.359375 -1.421875 13.671875 8.265625 \nQ 6.984375 17.96875 6.984375 36.375 \nQ 6.984375 53.65625 15.1875 63.9375 \nQ 23.390625 74.21875 37.203125 74.21875 \nQ 40.921875 74.21875 44.703125 73.484375 \nQ 48.484375 72.75 52.59375 71.296875 \nz\n\" id=\"DejaVuSans-54\"/>\n      </defs>\n      <g transform=\"translate(7.2 105.563074)scale(0.1 -0.1)\">\n       <use xlink:href=\"#DejaVuSans-48\"/>\n       <use x=\"63.623047\" xlink:href=\"#DejaVuSans-46\"/>\n       <use x=\"95.410156\" xlink:href=\"#DejaVuSans-54\"/>\n      </g>\n     </g>\n    </g>\n    <g id=\"ytick_6\">\n     <g id=\"line2d_15\">\n      <g>\n       <use style=\"stroke:#000000;stroke-width:0.8;\" x=\"30.103125\" xlink:href=\"#m2d49fa9480\" y=\"45.43169\"/>\n      </g>\n     </g>\n     <g id=\"text_15\">\n      <!-- 0.7 -->\n      <g transform=\"translate(7.2 49.230908)scale(0.1 -0.1)\">\n       <use xlink:href=\"#DejaVuSans-48\"/>\n       <use x=\"63.623047\" xlink:href=\"#DejaVuSans-46\"/>\n       <use x=\"95.410156\" xlink:href=\"#DejaVuSans-55\"/>\n      </g>\n     </g>\n    </g>\n   </g>\n   <g id=\"line2d_16\">\n    <path clip-path=\"url(#p4b0301d8fd)\" d=\"M 52.482804 337.403306 \nL 54.732018 326.715282 \nL 56.981232 252.024861 \nL 59.230446 252.024861 \nL 61.47966 233.037922 \nL 63.728874 142.252572 \nL 81.722586 142.252572 \nL 83.9718 123.265616 \nL 86.221014 123.265616 \nL 88.470228 112.577584 \nL 92.968656 112.577584 \nL 95.21787 81.896676 \nL 106.46394 81.896676 \nL 108.713154 75.10665 \nL 126.706866 75.10665 \nL 128.95608 71.58591 \nL 131.205294 51.593 \nL 133.454508 40.527769 \nL 146.949791 40.527769 \nL 149.199005 34.240687 \nL 176.189573 34.240687 \nL 178.438787 34.114943 \nL 194.183285 34.114943 \nL 196.432499 28.456583 \nL 324.637696 28.456583 \nL 326.88691 26.067474 \nL 333.634552 26.067474 \nL 335.883766 22.923967 \nL 500.076387 22.923967 \nL 500.076387 22.923967 \n\" style=\"fill:none;stroke:#1f77b4;stroke-linecap:square;stroke-width:1.5;\"/>\n   </g>\n   <g id=\"line2d_17\">\n    <path clip-path=\"url(#p4b0301d8fd)\" d=\"M 52.482804 272.269243 \nL 54.732018 272.269243 \nL 56.981232 269.377191 \nL 59.230446 255.797106 \nL 61.47966 245.109091 \nL 63.728874 224.487493 \nL 65.978088 213.799478 \nL 68.227302 213.799478 \nL 70.476516 188.651185 \nL 72.72573 180.980949 \nL 74.974944 154.198014 \nL 81.722586 154.198014 \nL 83.9718 132.696239 \nL 86.221014 132.696239 \nL 88.470228 130.810108 \nL 92.968656 130.810108 \nL 95.21787 107.67369 \nL 99.716298 107.67369 \nL 101.965512 103.146996 \nL 104.214726 102.518274 \nL 106.46394 102.518274 \nL 108.713154 92.458963 \nL 110.962368 83.154085 \nL 113.211582 83.154085 \nL 115.460796 83.028341 \nL 117.71001 71.334422 \nL 119.959224 71.334422 \nL 122.208438 71.208677 \nL 124.457652 71.208677 \nL 126.706866 64.16713 \nL 128.95608 59.766179 \nL 131.205294 59.766179 \nL 133.454508 36.755506 \nL 144.700578 36.755506 \nL 146.949791 34.743631 \nL 149.199005 31.725868 \nL 162.694289 31.725868 \nL 164.943503 28.582327 \nL 180.688001 28.582327 \nL 182.937215 26.067474 \nL 344.880622 26.067474 \nL 347.129836 24.181377 \nL 500.076387 24.181377 \nL 500.076387 24.181377 \n\" style=\"fill:none;stroke:#ff7f0e;stroke-linecap:square;stroke-width:1.5;\"/>\n   </g>\n   <g id=\"patch_3\">\n    <path d=\"M 30.103125 353.127273 \nL 30.103125 7.2 \n\" style=\"fill:none;stroke:#000000;stroke-linecap:square;stroke-linejoin:miter;stroke-width:0.8;\"/>\n   </g>\n   <g id=\"patch_4\">\n    <path d=\"M 522.456066 353.127273 \nL 522.456066 7.2 \n\" style=\"fill:none;stroke:#000000;stroke-linecap:square;stroke-linejoin:miter;stroke-width:0.8;\"/>\n   </g>\n   <g id=\"patch_5\">\n    <path d=\"M 30.103125 353.127273 \nL 522.456066 353.127273 \n\" style=\"fill:none;stroke:#000000;stroke-linecap:square;stroke-linejoin:miter;stroke-width:0.8;\"/>\n   </g>\n   <g id=\"patch_6\">\n    <path d=\"M 30.103125 7.2 \nL 522.456066 7.2 \n\" style=\"fill:none;stroke:#000000;stroke-linecap:square;stroke-linejoin:miter;stroke-width:0.8;\"/>\n   </g>\n   <g id=\"legend_1\">\n    <g id=\"patch_7\">\n     <path d=\"M 271.796691 348.127273 \nL 515.456066 348.127273 \nQ 517.456066 348.127273 517.456066 346.127273 \nL 517.456066 317.214773 \nQ 517.456066 315.214773 515.456066 315.214773 \nL 271.796691 315.214773 \nQ 269.796691 315.214773 269.796691 317.214773 \nL 269.796691 346.127273 \nQ 269.796691 348.127273 271.796691 348.127273 \nz\n\" style=\"fill:#ffffff;opacity:0.8;stroke:#cccccc;stroke-linejoin:miter;\"/>\n    </g>\n    <g id=\"line2d_18\">\n     <path d=\"M 273.796691 323.31321 \nL 293.796691 323.31321 \n\" style=\"fill:none;stroke:#1f77b4;stroke-linecap:square;stroke-width:1.5;\"/>\n    </g>\n    <g id=\"line2d_19\"/>\n    <g id=\"text_16\">\n     <!-- max/student_acc = 0.7399553656578064 -->\n     <defs>\n      <path d=\"M 52 44.1875 \nQ 55.375 50.25 60.0625 53.125 \nQ 64.75 56 71.09375 56 \nQ 79.640625 56 84.28125 50.015625 \nQ 88.921875 44.046875 88.921875 33.015625 \nL 88.921875 0 \nL 79.890625 0 \nL 79.890625 32.71875 \nQ 79.890625 40.578125 77.09375 44.375 \nQ 74.3125 48.1875 68.609375 48.1875 \nQ 61.625 48.1875 57.5625 43.546875 \nQ 53.515625 38.921875 53.515625 30.90625 \nL 53.515625 0 \nL 44.484375 0 \nL 44.484375 32.71875 \nQ 44.484375 40.625 41.703125 44.40625 \nQ 38.921875 48.1875 33.109375 48.1875 \nQ 26.21875 48.1875 22.15625 43.53125 \nQ 18.109375 38.875 18.109375 30.90625 \nL 18.109375 0 \nL 9.078125 0 \nL 9.078125 54.6875 \nL 18.109375 54.6875 \nL 18.109375 46.1875 \nQ 21.1875 51.21875 25.484375 53.609375 \nQ 29.78125 56 35.6875 56 \nQ 41.65625 56 45.828125 52.96875 \nQ 50 49.953125 52 44.1875 \nz\n\" id=\"DejaVuSans-109\"/>\n      <path d=\"M 34.28125 27.484375 \nQ 23.390625 27.484375 19.1875 25 \nQ 14.984375 22.515625 14.984375 16.5 \nQ 14.984375 11.71875 18.140625 8.90625 \nQ 21.296875 6.109375 26.703125 6.109375 \nQ 34.1875 6.109375 38.703125 11.40625 \nQ 43.21875 16.703125 43.21875 25.484375 \nL 43.21875 27.484375 \nz\nM 52.203125 31.203125 \nL 52.203125 0 \nL 43.21875 0 \nL 43.21875 8.296875 \nQ 40.140625 3.328125 35.546875 0.953125 \nQ 30.953125 -1.421875 24.3125 -1.421875 \nQ 15.921875 -1.421875 10.953125 3.296875 \nQ 6 8.015625 6 15.921875 \nQ 6 25.140625 12.171875 29.828125 \nQ 18.359375 34.515625 30.609375 34.515625 \nL 43.21875 34.515625 \nL 43.21875 35.40625 \nQ 43.21875 41.609375 39.140625 45 \nQ 35.0625 48.390625 27.6875 48.390625 \nQ 23 48.390625 18.546875 47.265625 \nQ 14.109375 46.140625 10.015625 43.890625 \nL 10.015625 52.203125 \nQ 14.9375 54.109375 19.578125 55.046875 \nQ 24.21875 56 28.609375 56 \nQ 40.484375 56 46.34375 49.84375 \nQ 52.203125 43.703125 52.203125 31.203125 \nz\n\" id=\"DejaVuSans-97\"/>\n      <path d=\"M 54.890625 54.6875 \nL 35.109375 28.078125 \nL 55.90625 0 \nL 45.3125 0 \nL 29.390625 21.484375 \nL 13.484375 0 \nL 2.875 0 \nL 24.125 28.609375 \nL 4.6875 54.6875 \nL 15.28125 54.6875 \nL 29.78125 35.203125 \nL 44.28125 54.6875 \nz\n\" id=\"DejaVuSans-120\"/>\n      <path d=\"M 25.390625 72.90625 \nL 33.6875 72.90625 \nL 8.296875 -9.28125 \nL 0 -9.28125 \nz\n\" id=\"DejaVuSans-47\"/>\n      <path d=\"M 44.28125 53.078125 \nL 44.28125 44.578125 \nQ 40.484375 46.53125 36.375 47.5 \nQ 32.28125 48.484375 27.875 48.484375 \nQ 21.1875 48.484375 17.84375 46.4375 \nQ 14.5 44.390625 14.5 40.28125 \nQ 14.5 37.15625 16.890625 35.375 \nQ 19.28125 33.59375 26.515625 31.984375 \nL 29.59375 31.296875 \nQ 39.15625 29.25 43.1875 25.515625 \nQ 47.21875 21.78125 47.21875 15.09375 \nQ 47.21875 7.46875 41.1875 3.015625 \nQ 35.15625 -1.421875 24.609375 -1.421875 \nQ 20.21875 -1.421875 15.453125 -0.5625 \nQ 10.6875 0.296875 5.421875 2 \nL 5.421875 11.28125 \nQ 10.40625 8.6875 15.234375 7.390625 \nQ 20.0625 6.109375 24.8125 6.109375 \nQ 31.15625 6.109375 34.5625 8.28125 \nQ 37.984375 10.453125 37.984375 14.40625 \nQ 37.984375 18.0625 35.515625 20.015625 \nQ 33.0625 21.96875 24.703125 23.78125 \nL 21.578125 24.515625 \nQ 13.234375 26.265625 9.515625 29.90625 \nQ 5.8125 33.546875 5.8125 39.890625 \nQ 5.8125 47.609375 11.28125 51.796875 \nQ 16.75 56 26.8125 56 \nQ 31.78125 56 36.171875 55.265625 \nQ 40.578125 54.546875 44.28125 53.078125 \nz\n\" id=\"DejaVuSans-115\"/>\n      <path d=\"M 18.3125 70.21875 \nL 18.3125 54.6875 \nL 36.8125 54.6875 \nL 36.8125 47.703125 \nL 18.3125 47.703125 \nL 18.3125 18.015625 \nQ 18.3125 11.328125 20.140625 9.421875 \nQ 21.96875 7.515625 27.59375 7.515625 \nL 36.8125 7.515625 \nL 36.8125 0 \nL 27.59375 0 \nQ 17.1875 0 13.234375 3.875 \nQ 9.28125 7.765625 9.28125 18.015625 \nL 9.28125 47.703125 \nL 2.6875 47.703125 \nL 2.6875 54.6875 \nL 9.28125 54.6875 \nL 9.28125 70.21875 \nz\n\" id=\"DejaVuSans-116\"/>\n      <path d=\"M 8.5 21.578125 \nL 8.5 54.6875 \nL 17.484375 54.6875 \nL 17.484375 21.921875 \nQ 17.484375 14.15625 20.5 10.265625 \nQ 23.53125 6.390625 29.59375 6.390625 \nQ 36.859375 6.390625 41.078125 11.03125 \nQ 45.3125 15.671875 45.3125 23.6875 \nL 45.3125 54.6875 \nL 54.296875 54.6875 \nL 54.296875 0 \nL 45.3125 0 \nL 45.3125 8.40625 \nQ 42.046875 3.421875 37.71875 1 \nQ 33.40625 -1.421875 27.6875 -1.421875 \nQ 18.265625 -1.421875 13.375 4.4375 \nQ 8.5 10.296875 8.5 21.578125 \nz\nM 31.109375 56 \nz\n\" id=\"DejaVuSans-117\"/>\n      <path d=\"M 45.40625 46.390625 \nL 45.40625 75.984375 \nL 54.390625 75.984375 \nL 54.390625 0 \nL 45.40625 0 \nL 45.40625 8.203125 \nQ 42.578125 3.328125 38.25 0.953125 \nQ 33.9375 -1.421875 27.875 -1.421875 \nQ 17.96875 -1.421875 11.734375 6.484375 \nQ 5.515625 14.40625 5.515625 27.296875 \nQ 5.515625 40.1875 11.734375 48.09375 \nQ 17.96875 56 27.875 56 \nQ 33.9375 56 38.25 53.625 \nQ 42.578125 51.265625 45.40625 46.390625 \nz\nM 14.796875 27.296875 \nQ 14.796875 17.390625 18.875 11.75 \nQ 22.953125 6.109375 30.078125 6.109375 \nQ 37.203125 6.109375 41.296875 11.75 \nQ 45.40625 17.390625 45.40625 27.296875 \nQ 45.40625 37.203125 41.296875 42.84375 \nQ 37.203125 48.484375 30.078125 48.484375 \nQ 22.953125 48.484375 18.875 42.84375 \nQ 14.796875 37.203125 14.796875 27.296875 \nz\n\" id=\"DejaVuSans-100\"/>\n      <path d=\"M 56.203125 29.59375 \nL 56.203125 25.203125 \nL 14.890625 25.203125 \nQ 15.484375 15.921875 20.484375 11.0625 \nQ 25.484375 6.203125 34.421875 6.203125 \nQ 39.59375 6.203125 44.453125 7.46875 \nQ 49.3125 8.734375 54.109375 11.28125 \nL 54.109375 2.78125 \nQ 49.265625 0.734375 44.1875 -0.34375 \nQ 39.109375 -1.421875 33.890625 -1.421875 \nQ 20.796875 -1.421875 13.15625 6.1875 \nQ 5.515625 13.8125 5.515625 26.8125 \nQ 5.515625 40.234375 12.765625 48.109375 \nQ 20.015625 56 32.328125 56 \nQ 43.359375 56 49.78125 48.890625 \nQ 56.203125 41.796875 56.203125 29.59375 \nz\nM 47.21875 32.234375 \nQ 47.125 39.59375 43.09375 43.984375 \nQ 39.0625 48.390625 32.421875 48.390625 \nQ 24.90625 48.390625 20.390625 44.140625 \nQ 15.875 39.890625 15.1875 32.171875 \nz\n\" id=\"DejaVuSans-101\"/>\n      <path d=\"M 54.890625 33.015625 \nL 54.890625 0 \nL 45.90625 0 \nL 45.90625 32.71875 \nQ 45.90625 40.484375 42.875 44.328125 \nQ 39.84375 48.1875 33.796875 48.1875 \nQ 26.515625 48.1875 22.3125 43.546875 \nQ 18.109375 38.921875 18.109375 30.90625 \nL 18.109375 0 \nL 9.078125 0 \nL 9.078125 54.6875 \nL 18.109375 54.6875 \nL 18.109375 46.1875 \nQ 21.34375 51.125 25.703125 53.5625 \nQ 30.078125 56 35.796875 56 \nQ 45.21875 56 50.046875 50.171875 \nQ 54.890625 44.34375 54.890625 33.015625 \nz\n\" id=\"DejaVuSans-110\"/>\n      <path d=\"M 50.984375 -16.609375 \nL 50.984375 -23.578125 \nL -0.984375 -23.578125 \nL -0.984375 -16.609375 \nz\n\" id=\"DejaVuSans-95\"/>\n      <path d=\"M 48.78125 52.59375 \nL 48.78125 44.1875 \nQ 44.96875 46.296875 41.140625 47.34375 \nQ 37.3125 48.390625 33.40625 48.390625 \nQ 24.65625 48.390625 19.8125 42.84375 \nQ 14.984375 37.3125 14.984375 27.296875 \nQ 14.984375 17.28125 19.8125 11.734375 \nQ 24.65625 6.203125 33.40625 6.203125 \nQ 37.3125 6.203125 41.140625 7.25 \nQ 44.96875 8.296875 48.78125 10.40625 \nL 48.78125 2.09375 \nQ 45.015625 0.34375 40.984375 -0.53125 \nQ 36.96875 -1.421875 32.421875 -1.421875 \nQ 20.0625 -1.421875 12.78125 6.34375 \nQ 5.515625 14.109375 5.515625 27.296875 \nQ 5.515625 40.671875 12.859375 48.328125 \nQ 20.21875 56 33.015625 56 \nQ 37.15625 56 41.109375 55.140625 \nQ 45.0625 54.296875 48.78125 52.59375 \nz\n\" id=\"DejaVuSans-99\"/>\n      <path id=\"DejaVuSans-32\"/>\n      <path d=\"M 10.59375 45.40625 \nL 73.1875 45.40625 \nL 73.1875 37.203125 \nL 10.59375 37.203125 \nz\nM 10.59375 25.484375 \nL 73.1875 25.484375 \nL 73.1875 17.1875 \nL 10.59375 17.1875 \nz\n\" id=\"DejaVuSans-61\"/>\n      <path d=\"M 10.984375 1.515625 \nL 10.984375 10.5 \nQ 14.703125 8.734375 18.5 7.8125 \nQ 22.3125 6.890625 25.984375 6.890625 \nQ 35.75 6.890625 40.890625 13.453125 \nQ 46.046875 20.015625 46.78125 33.40625 \nQ 43.953125 29.203125 39.59375 26.953125 \nQ 35.25 24.703125 29.984375 24.703125 \nQ 19.046875 24.703125 12.671875 31.3125 \nQ 6.296875 37.9375 6.296875 49.421875 \nQ 6.296875 60.640625 12.9375 67.421875 \nQ 19.578125 74.21875 30.609375 74.21875 \nQ 43.265625 74.21875 49.921875 64.515625 \nQ 56.59375 54.828125 56.59375 36.375 \nQ 56.59375 19.140625 48.40625 8.859375 \nQ 40.234375 -1.421875 26.421875 -1.421875 \nQ 22.703125 -1.421875 18.890625 -0.6875 \nQ 15.09375 0.046875 10.984375 1.515625 \nz\nM 30.609375 32.421875 \nQ 37.25 32.421875 41.125 36.953125 \nQ 45.015625 41.5 45.015625 49.421875 \nQ 45.015625 57.28125 41.125 61.84375 \nQ 37.25 66.40625 30.609375 66.40625 \nQ 23.96875 66.40625 20.09375 61.84375 \nQ 16.21875 57.28125 16.21875 49.421875 \nQ 16.21875 41.5 20.09375 36.953125 \nQ 23.96875 32.421875 30.609375 32.421875 \nz\n\" id=\"DejaVuSans-57\"/>\n      <path d=\"M 31.78125 34.625 \nQ 24.75 34.625 20.71875 30.859375 \nQ 16.703125 27.09375 16.703125 20.515625 \nQ 16.703125 13.921875 20.71875 10.15625 \nQ 24.75 6.390625 31.78125 6.390625 \nQ 38.8125 6.390625 42.859375 10.171875 \nQ 46.921875 13.96875 46.921875 20.515625 \nQ 46.921875 27.09375 42.890625 30.859375 \nQ 38.875 34.625 31.78125 34.625 \nz\nM 21.921875 38.8125 \nQ 15.578125 40.375 12.03125 44.71875 \nQ 8.5 49.078125 8.5 55.328125 \nQ 8.5 64.0625 14.71875 69.140625 \nQ 20.953125 74.21875 31.78125 74.21875 \nQ 42.671875 74.21875 48.875 69.140625 \nQ 55.078125 64.0625 55.078125 55.328125 \nQ 55.078125 49.078125 51.53125 44.71875 \nQ 48 40.375 41.703125 38.8125 \nQ 48.828125 37.15625 52.796875 32.3125 \nQ 56.78125 27.484375 56.78125 20.515625 \nQ 56.78125 9.90625 50.3125 4.234375 \nQ 43.84375 -1.421875 31.78125 -1.421875 \nQ 19.734375 -1.421875 13.25 4.234375 \nQ 6.78125 9.90625 6.78125 20.515625 \nQ 6.78125 27.484375 10.78125 32.3125 \nQ 14.796875 37.15625 21.921875 38.8125 \nz\nM 18.3125 54.390625 \nQ 18.3125 48.734375 21.84375 45.5625 \nQ 25.390625 42.390625 31.78125 42.390625 \nQ 38.140625 42.390625 41.71875 45.5625 \nQ 45.3125 48.734375 45.3125 54.390625 \nQ 45.3125 60.0625 41.71875 63.234375 \nQ 38.140625 66.40625 31.78125 66.40625 \nQ 25.390625 66.40625 21.84375 63.234375 \nQ 18.3125 60.0625 18.3125 54.390625 \nz\n\" id=\"DejaVuSans-56\"/>\n     </defs>\n     <g transform=\"translate(301.796691 326.81321)scale(0.1 -0.1)\">\n      <use xlink:href=\"#DejaVuSans-109\"/>\n      <use x=\"97.412109\" xlink:href=\"#DejaVuSans-97\"/>\n      <use x=\"158.691406\" xlink:href=\"#DejaVuSans-120\"/>\n      <use x=\"217.871094\" xlink:href=\"#DejaVuSans-47\"/>\n      <use x=\"251.5625\" xlink:href=\"#DejaVuSans-115\"/>\n      <use x=\"303.662109\" xlink:href=\"#DejaVuSans-116\"/>\n      <use x=\"342.871094\" xlink:href=\"#DejaVuSans-117\"/>\n      <use x=\"406.25\" xlink:href=\"#DejaVuSans-100\"/>\n      <use x=\"469.726562\" xlink:href=\"#DejaVuSans-101\"/>\n      <use x=\"531.25\" xlink:href=\"#DejaVuSans-110\"/>\n      <use x=\"594.628906\" xlink:href=\"#DejaVuSans-116\"/>\n      <use x=\"633.837891\" xlink:href=\"#DejaVuSans-95\"/>\n      <use x=\"683.837891\" xlink:href=\"#DejaVuSans-97\"/>\n      <use x=\"745.117188\" xlink:href=\"#DejaVuSans-99\"/>\n      <use x=\"800.097656\" xlink:href=\"#DejaVuSans-99\"/>\n      <use x=\"855.078125\" xlink:href=\"#DejaVuSans-32\"/>\n      <use x=\"886.865234\" xlink:href=\"#DejaVuSans-61\"/>\n      <use x=\"970.654297\" xlink:href=\"#DejaVuSans-32\"/>\n      <use x=\"1002.441406\" xlink:href=\"#DejaVuSans-48\"/>\n      <use x=\"1066.064453\" xlink:href=\"#DejaVuSans-46\"/>\n      <use x=\"1097.851562\" xlink:href=\"#DejaVuSans-55\"/>\n      <use x=\"1161.474609\" xlink:href=\"#DejaVuSans-51\"/>\n      <use x=\"1225.097656\" xlink:href=\"#DejaVuSans-57\"/>\n      <use x=\"1288.720703\" xlink:href=\"#DejaVuSans-57\"/>\n      <use x=\"1352.34375\" xlink:href=\"#DejaVuSans-53\"/>\n      <use x=\"1415.966797\" xlink:href=\"#DejaVuSans-53\"/>\n      <use x=\"1479.589844\" xlink:href=\"#DejaVuSans-51\"/>\n      <use x=\"1543.212891\" xlink:href=\"#DejaVuSans-54\"/>\n      <use x=\"1606.835938\" xlink:href=\"#DejaVuSans-53\"/>\n      <use x=\"1670.458984\" xlink:href=\"#DejaVuSans-54\"/>\n      <use x=\"1734.082031\" xlink:href=\"#DejaVuSans-53\"/>\n      <use x=\"1797.705078\" xlink:href=\"#DejaVuSans-55\"/>\n      <use x=\"1861.328125\" xlink:href=\"#DejaVuSans-56\"/>\n      <use x=\"1924.951172\" xlink:href=\"#DejaVuSans-48\"/>\n      <use x=\"1988.574219\" xlink:href=\"#DejaVuSans-54\"/>\n      <use x=\"2052.197266\" xlink:href=\"#DejaVuSans-52\"/>\n     </g>\n    </g>\n    <g id=\"line2d_20\">\n     <path d=\"M 273.796691 338.26946 \nL 293.796691 338.26946 \n\" style=\"fill:none;stroke:#ff7f0e;stroke-linecap:square;stroke-width:1.5;\"/>\n    </g>\n    <g id=\"line2d_21\"/>\n    <g id=\"text_17\">\n     <!-- max/teacher_acc = 0.7377232313156128 -->\n     <defs>\n      <path d=\"M 54.890625 33.015625 \nL 54.890625 0 \nL 45.90625 0 \nL 45.90625 32.71875 \nQ 45.90625 40.484375 42.875 44.328125 \nQ 39.84375 48.1875 33.796875 48.1875 \nQ 26.515625 48.1875 22.3125 43.546875 \nQ 18.109375 38.921875 18.109375 30.90625 \nL 18.109375 0 \nL 9.078125 0 \nL 9.078125 75.984375 \nL 18.109375 75.984375 \nL 18.109375 46.1875 \nQ 21.34375 51.125 25.703125 53.5625 \nQ 30.078125 56 35.796875 56 \nQ 45.21875 56 50.046875 50.171875 \nQ 54.890625 44.34375 54.890625 33.015625 \nz\n\" id=\"DejaVuSans-104\"/>\n      <path d=\"M 41.109375 46.296875 \nQ 39.59375 47.171875 37.8125 47.578125 \nQ 36.03125 48 33.890625 48 \nQ 26.265625 48 22.1875 43.046875 \nQ 18.109375 38.09375 18.109375 28.8125 \nL 18.109375 0 \nL 9.078125 0 \nL 9.078125 54.6875 \nL 18.109375 54.6875 \nL 18.109375 46.1875 \nQ 20.953125 51.171875 25.484375 53.578125 \nQ 30.03125 56 36.53125 56 \nQ 37.453125 56 38.578125 55.875 \nQ 39.703125 55.765625 41.0625 55.515625 \nz\n\" id=\"DejaVuSans-114\"/>\n     </defs>\n     <g transform=\"translate(301.796691 341.76946)scale(0.1 -0.1)\">\n      <use xlink:href=\"#DejaVuSans-109\"/>\n      <use x=\"97.412109\" xlink:href=\"#DejaVuSans-97\"/>\n      <use x=\"158.691406\" xlink:href=\"#DejaVuSans-120\"/>\n      <use x=\"217.871094\" xlink:href=\"#DejaVuSans-47\"/>\n      <use x=\"251.5625\" xlink:href=\"#DejaVuSans-116\"/>\n      <use x=\"290.771484\" xlink:href=\"#DejaVuSans-101\"/>\n      <use x=\"352.294922\" xlink:href=\"#DejaVuSans-97\"/>\n      <use x=\"413.574219\" xlink:href=\"#DejaVuSans-99\"/>\n      <use x=\"468.554688\" xlink:href=\"#DejaVuSans-104\"/>\n      <use x=\"531.933594\" xlink:href=\"#DejaVuSans-101\"/>\n      <use x=\"593.457031\" xlink:href=\"#DejaVuSans-114\"/>\n      <use x=\"634.570312\" xlink:href=\"#DejaVuSans-95\"/>\n      <use x=\"684.570312\" xlink:href=\"#DejaVuSans-97\"/>\n      <use x=\"745.849609\" xlink:href=\"#DejaVuSans-99\"/>\n      <use x=\"800.830078\" xlink:href=\"#DejaVuSans-99\"/>\n      <use x=\"855.810547\" xlink:href=\"#DejaVuSans-32\"/>\n      <use x=\"887.597656\" xlink:href=\"#DejaVuSans-61\"/>\n      <use x=\"971.386719\" xlink:href=\"#DejaVuSans-32\"/>\n      <use x=\"1003.173828\" xlink:href=\"#DejaVuSans-48\"/>\n      <use x=\"1066.796875\" xlink:href=\"#DejaVuSans-46\"/>\n      <use x=\"1098.583984\" xlink:href=\"#DejaVuSans-55\"/>\n      <use x=\"1162.207031\" xlink:href=\"#DejaVuSans-51\"/>\n      <use x=\"1225.830078\" xlink:href=\"#DejaVuSans-55\"/>\n      <use x=\"1289.453125\" xlink:href=\"#DejaVuSans-55\"/>\n      <use x=\"1353.076172\" xlink:href=\"#DejaVuSans-50\"/>\n      <use x=\"1416.699219\" xlink:href=\"#DejaVuSans-51\"/>\n      <use x=\"1480.322266\" xlink:href=\"#DejaVuSans-50\"/>\n      <use x=\"1543.945312\" xlink:href=\"#DejaVuSans-51\"/>\n      <use x=\"1607.568359\" xlink:href=\"#DejaVuSans-49\"/>\n      <use x=\"1671.191406\" xlink:href=\"#DejaVuSans-51\"/>\n      <use x=\"1734.814453\" xlink:href=\"#DejaVuSans-49\"/>\n      <use x=\"1798.4375\" xlink:href=\"#DejaVuSans-53\"/>\n      <use x=\"1862.060547\" xlink:href=\"#DejaVuSans-54\"/>\n      <use x=\"1925.683594\" xlink:href=\"#DejaVuSans-49\"/>\n      <use x=\"1989.306641\" xlink:href=\"#DejaVuSans-50\"/>\n      <use x=\"2052.929688\" xlink:href=\"#DejaVuSans-56\"/>\n     </g>\n    </g>\n   </g>\n  </g>\n  <g id=\"axes_2\">\n   <g id=\"patch_8\">\n    <path d=\"M 1211.750184 353.127273 \nL 1704.103125 353.127273 \nL 1704.103125 7.2 \nL 1211.750184 7.2 \nz\n\" style=\"fill:#ffffff;\"/>\n   </g>\n   <g id=\"matplotlib.axis_3\">\n    <g id=\"xtick_10\">\n     <g id=\"line2d_22\">\n      <g>\n       <use style=\"stroke:#000000;stroke-width:0.8;\" x=\"1234.129863\" xlink:href=\"#m3ef3fd7c31\" y=\"353.127273\"/>\n      </g>\n     </g>\n     <g id=\"text_18\">\n      <!-- 0 -->\n      <g transform=\"translate(1230.948613 367.72571)scale(0.1 -0.1)\">\n       <use xlink:href=\"#DejaVuSans-48\"/>\n      </g>\n     </g>\n    </g>\n    <g id=\"xtick_11\">\n     <g id=\"line2d_23\">\n      <g>\n       <use style=\"stroke:#000000;stroke-width:0.8;\" x=\"1290.360213\" xlink:href=\"#m3ef3fd7c31\" y=\"353.127273\"/>\n      </g>\n     </g>\n     <g id=\"text_19\">\n      <!-- 25 -->\n      <g transform=\"translate(1283.997713 367.72571)scale(0.1 -0.1)\">\n       <use xlink:href=\"#DejaVuSans-50\"/>\n       <use x=\"63.623047\" xlink:href=\"#DejaVuSans-53\"/>\n      </g>\n     </g>\n    </g>\n    <g id=\"xtick_12\">\n     <g id=\"line2d_24\">\n      <g>\n       <use style=\"stroke:#000000;stroke-width:0.8;\" x=\"1346.590562\" xlink:href=\"#m3ef3fd7c31\" y=\"353.127273\"/>\n      </g>\n     </g>\n     <g id=\"text_20\">\n      <!-- 50 -->\n      <g transform=\"translate(1340.228062 367.72571)scale(0.1 -0.1)\">\n       <use xlink:href=\"#DejaVuSans-53\"/>\n       <use x=\"63.623047\" xlink:href=\"#DejaVuSans-48\"/>\n      </g>\n     </g>\n    </g>\n    <g id=\"xtick_13\">\n     <g id=\"line2d_25\">\n      <g>\n       <use style=\"stroke:#000000;stroke-width:0.8;\" x=\"1402.820912\" xlink:href=\"#m3ef3fd7c31\" y=\"353.127273\"/>\n      </g>\n     </g>\n     <g id=\"text_21\">\n      <!-- 75 -->\n      <g transform=\"translate(1396.458412 367.72571)scale(0.1 -0.1)\">\n       <use xlink:href=\"#DejaVuSans-55\"/>\n       <use x=\"63.623047\" xlink:href=\"#DejaVuSans-53\"/>\n      </g>\n     </g>\n    </g>\n    <g id=\"xtick_14\">\n     <g id=\"line2d_26\">\n      <g>\n       <use style=\"stroke:#000000;stroke-width:0.8;\" x=\"1459.051261\" xlink:href=\"#m3ef3fd7c31\" y=\"353.127273\"/>\n      </g>\n     </g>\n     <g id=\"text_22\">\n      <!-- 100 -->\n      <g transform=\"translate(1449.507511 367.72571)scale(0.1 -0.1)\">\n       <use xlink:href=\"#DejaVuSans-49\"/>\n       <use x=\"63.623047\" xlink:href=\"#DejaVuSans-48\"/>\n       <use x=\"127.246094\" xlink:href=\"#DejaVuSans-48\"/>\n      </g>\n     </g>\n    </g>\n    <g id=\"xtick_15\">\n     <g id=\"line2d_27\">\n      <g>\n       <use style=\"stroke:#000000;stroke-width:0.8;\" x=\"1515.281611\" xlink:href=\"#m3ef3fd7c31\" y=\"353.127273\"/>\n      </g>\n     </g>\n     <g id=\"text_23\">\n      <!-- 125 -->\n      <g transform=\"translate(1505.737861 367.72571)scale(0.1 -0.1)\">\n       <use xlink:href=\"#DejaVuSans-49\"/>\n       <use x=\"63.623047\" xlink:href=\"#DejaVuSans-50\"/>\n       <use x=\"127.246094\" xlink:href=\"#DejaVuSans-53\"/>\n      </g>\n     </g>\n    </g>\n    <g id=\"xtick_16\">\n     <g id=\"line2d_28\">\n      <g>\n       <use style=\"stroke:#000000;stroke-width:0.8;\" x=\"1571.511961\" xlink:href=\"#m3ef3fd7c31\" y=\"353.127273\"/>\n      </g>\n     </g>\n     <g id=\"text_24\">\n      <!-- 150 -->\n      <g transform=\"translate(1561.968211 367.72571)scale(0.1 -0.1)\">\n       <use xlink:href=\"#DejaVuSans-49\"/>\n       <use x=\"63.623047\" xlink:href=\"#DejaVuSans-53\"/>\n       <use x=\"127.246094\" xlink:href=\"#DejaVuSans-48\"/>\n      </g>\n     </g>\n    </g>\n    <g id=\"xtick_17\">\n     <g id=\"line2d_29\">\n      <g>\n       <use style=\"stroke:#000000;stroke-width:0.8;\" x=\"1627.74231\" xlink:href=\"#m3ef3fd7c31\" y=\"353.127273\"/>\n      </g>\n     </g>\n     <g id=\"text_25\">\n      <!-- 175 -->\n      <g transform=\"translate(1618.19856 367.72571)scale(0.1 -0.1)\">\n       <use xlink:href=\"#DejaVuSans-49\"/>\n       <use x=\"63.623047\" xlink:href=\"#DejaVuSans-55\"/>\n       <use x=\"127.246094\" xlink:href=\"#DejaVuSans-53\"/>\n      </g>\n     </g>\n    </g>\n    <g id=\"xtick_18\">\n     <g id=\"line2d_30\">\n      <g>\n       <use style=\"stroke:#000000;stroke-width:0.8;\" x=\"1683.97266\" xlink:href=\"#m3ef3fd7c31\" y=\"353.127273\"/>\n      </g>\n     </g>\n     <g id=\"text_26\">\n      <!-- 200 -->\n      <g transform=\"translate(1674.42891 367.72571)scale(0.1 -0.1)\">\n       <use xlink:href=\"#DejaVuSans-50\"/>\n       <use x=\"63.623047\" xlink:href=\"#DejaVuSans-48\"/>\n       <use x=\"127.246094\" xlink:href=\"#DejaVuSans-48\"/>\n      </g>\n     </g>\n    </g>\n   </g>\n   <g id=\"matplotlib.axis_4\">\n    <g id=\"ytick_7\">\n     <g id=\"line2d_31\">\n      <g>\n       <use style=\"stroke:#000000;stroke-width:0.8;\" x=\"1211.750184\" xlink:href=\"#m2d49fa9480\" y=\"337.480913\"/>\n      </g>\n     </g>\n     <g id=\"text_27\">\n      <!-- 0.0000 -->\n      <g transform=\"translate(1169.759559 341.280132)scale(0.1 -0.1)\">\n       <use xlink:href=\"#DejaVuSans-48\"/>\n       <use x=\"63.623047\" xlink:href=\"#DejaVuSans-46\"/>\n       <use x=\"95.410156\" xlink:href=\"#DejaVuSans-48\"/>\n       <use x=\"159.033203\" xlink:href=\"#DejaVuSans-48\"/>\n       <use x=\"222.65625\" xlink:href=\"#DejaVuSans-48\"/>\n       <use x=\"286.279297\" xlink:href=\"#DejaVuSans-48\"/>\n      </g>\n     </g>\n    </g>\n    <g id=\"ytick_8\">\n     <g id=\"line2d_32\">\n      <g>\n       <use style=\"stroke:#000000;stroke-width:0.8;\" x=\"1211.750184\" xlink:href=\"#m2d49fa9480\" y=\"285.054756\"/>\n      </g>\n     </g>\n     <g id=\"text_28\">\n      <!-- 0.0005 -->\n      <g transform=\"translate(1169.759559 288.853974)scale(0.1 -0.1)\">\n       <use xlink:href=\"#DejaVuSans-48\"/>\n       <use x=\"63.623047\" xlink:href=\"#DejaVuSans-46\"/>\n       <use x=\"95.410156\" xlink:href=\"#DejaVuSans-48\"/>\n       <use x=\"159.033203\" xlink:href=\"#DejaVuSans-48\"/>\n       <use x=\"222.65625\" xlink:href=\"#DejaVuSans-48\"/>\n       <use x=\"286.279297\" xlink:href=\"#DejaVuSans-53\"/>\n      </g>\n     </g>\n    </g>\n    <g id=\"ytick_9\">\n     <g id=\"line2d_33\">\n      <g>\n       <use style=\"stroke:#000000;stroke-width:0.8;\" x=\"1211.750184\" xlink:href=\"#m2d49fa9480\" y=\"232.628598\"/>\n      </g>\n     </g>\n     <g id=\"text_29\">\n      <!-- 0.0010 -->\n      <g transform=\"translate(1169.759559 236.427817)scale(0.1 -0.1)\">\n       <use xlink:href=\"#DejaVuSans-48\"/>\n       <use x=\"63.623047\" xlink:href=\"#DejaVuSans-46\"/>\n       <use x=\"95.410156\" xlink:href=\"#DejaVuSans-48\"/>\n       <use x=\"159.033203\" xlink:href=\"#DejaVuSans-48\"/>\n       <use x=\"222.65625\" xlink:href=\"#DejaVuSans-49\"/>\n       <use x=\"286.279297\" xlink:href=\"#DejaVuSans-48\"/>\n      </g>\n     </g>\n    </g>\n    <g id=\"ytick_10\">\n     <g id=\"line2d_34\">\n      <g>\n       <use style=\"stroke:#000000;stroke-width:0.8;\" x=\"1211.750184\" xlink:href=\"#m2d49fa9480\" y=\"180.20244\"/>\n      </g>\n     </g>\n     <g id=\"text_30\">\n      <!-- 0.0015 -->\n      <g transform=\"translate(1169.759559 184.001659)scale(0.1 -0.1)\">\n       <use xlink:href=\"#DejaVuSans-48\"/>\n       <use x=\"63.623047\" xlink:href=\"#DejaVuSans-46\"/>\n       <use x=\"95.410156\" xlink:href=\"#DejaVuSans-48\"/>\n       <use x=\"159.033203\" xlink:href=\"#DejaVuSans-48\"/>\n       <use x=\"222.65625\" xlink:href=\"#DejaVuSans-49\"/>\n       <use x=\"286.279297\" xlink:href=\"#DejaVuSans-53\"/>\n      </g>\n     </g>\n    </g>\n    <g id=\"ytick_11\">\n     <g id=\"line2d_35\">\n      <g>\n       <use style=\"stroke:#000000;stroke-width:0.8;\" x=\"1211.750184\" xlink:href=\"#m2d49fa9480\" y=\"127.776282\"/>\n      </g>\n     </g>\n     <g id=\"text_31\">\n      <!-- 0.0020 -->\n      <g transform=\"translate(1169.759559 131.575501)scale(0.1 -0.1)\">\n       <use xlink:href=\"#DejaVuSans-48\"/>\n       <use x=\"63.623047\" xlink:href=\"#DejaVuSans-46\"/>\n       <use x=\"95.410156\" xlink:href=\"#DejaVuSans-48\"/>\n       <use x=\"159.033203\" xlink:href=\"#DejaVuSans-48\"/>\n       <use x=\"222.65625\" xlink:href=\"#DejaVuSans-50\"/>\n       <use x=\"286.279297\" xlink:href=\"#DejaVuSans-48\"/>\n      </g>\n     </g>\n    </g>\n    <g id=\"ytick_12\">\n     <g id=\"line2d_36\">\n      <g>\n       <use style=\"stroke:#000000;stroke-width:0.8;\" x=\"1211.750184\" xlink:href=\"#m2d49fa9480\" y=\"75.350125\"/>\n      </g>\n     </g>\n     <g id=\"text_32\">\n      <!-- 0.0025 -->\n      <g transform=\"translate(1169.759559 79.149343)scale(0.1 -0.1)\">\n       <use xlink:href=\"#DejaVuSans-48\"/>\n       <use x=\"63.623047\" xlink:href=\"#DejaVuSans-46\"/>\n       <use x=\"95.410156\" xlink:href=\"#DejaVuSans-48\"/>\n       <use x=\"159.033203\" xlink:href=\"#DejaVuSans-48\"/>\n       <use x=\"222.65625\" xlink:href=\"#DejaVuSans-50\"/>\n       <use x=\"286.279297\" xlink:href=\"#DejaVuSans-53\"/>\n      </g>\n     </g>\n    </g>\n    <g id=\"ytick_13\">\n     <g id=\"line2d_37\">\n      <g>\n       <use style=\"stroke:#000000;stroke-width:0.8;\" x=\"1211.750184\" xlink:href=\"#m2d49fa9480\" y=\"22.923967\"/>\n      </g>\n     </g>\n     <g id=\"text_33\">\n      <!-- 0.0030 -->\n      <g transform=\"translate(1169.759559 26.723186)scale(0.1 -0.1)\">\n       <use xlink:href=\"#DejaVuSans-48\"/>\n       <use x=\"63.623047\" xlink:href=\"#DejaVuSans-46\"/>\n       <use x=\"95.410156\" xlink:href=\"#DejaVuSans-48\"/>\n       <use x=\"159.033203\" xlink:href=\"#DejaVuSans-48\"/>\n       <use x=\"222.65625\" xlink:href=\"#DejaVuSans-51\"/>\n       <use x=\"286.279297\" xlink:href=\"#DejaVuSans-48\"/>\n      </g>\n     </g>\n    </g>\n   </g>\n   <g id=\"line2d_38\">\n    <path clip-path=\"url(#p10b6c5596c)\" d=\"M 1234.129863 22.94337 \nL 1238.628291 22.94337 \nL 1243.126719 23.098566 \nL 1247.625147 23.408804 \nL 1252.123575 23.873779 \nL 1256.622003 24.493031 \nL 1261.120431 25.265949 \nL 1265.618859 26.191772 \nL 1272.366501 27.865159 \nL 1279.114143 29.876774 \nL 1285.861785 32.222149 \nL 1292.609427 34.896078 \nL 1299.357069 37.892623 \nL 1306.10471 41.205131 \nL 1312.852352 44.826248 \nL 1319.599994 48.747934 \nL 1326.347636 52.961482 \nL 1333.095278 57.457537 \nL 1339.84292 62.226116 \nL 1346.590562 67.256632 \nL 1353.338204 72.537916 \nL 1360.085846 78.058243 \nL 1366.833488 83.805355 \nL 1375.830344 91.798825 \nL 1384.8272 100.141183 \nL 1393.824056 108.799507 \nL 1402.820912 117.739626 \nL 1414.066982 129.257203 \nL 1425.313052 141.088874 \nL 1438.808336 155.598666 \nL 1459.051261 177.732017 \nL 1486.041829 207.243186 \nL 1499.537113 221.70399 \nL 1510.783183 233.478623 \nL 1522.029253 244.92479 \nL 1531.026109 253.797727 \nL 1540.022965 262.380217 \nL 1549.019821 270.638388 \nL 1558.016677 278.53965 \nL 1564.764319 284.212561 \nL 1571.511961 289.654542 \nL 1578.259603 294.853513 \nL 1585.007245 299.797929 \nL 1591.754886 304.476814 \nL 1598.502528 308.879778 \nL 1605.25017 312.997047 \nL 1611.997812 316.819478 \nL 1618.745454 320.338586 \nL 1625.493096 323.546556 \nL 1632.240738 326.436266 \nL 1638.98838 329.001301 \nL 1645.736022 331.235965 \nL 1652.483664 333.135296 \nL 1659.231306 334.695079 \nL 1663.729734 335.544554 \nL 1668.228162 336.240725 \nL 1672.72659 336.782906 \nL 1677.225018 337.17056 \nL 1681.723446 337.403306 \nL 1681.723446 337.403306 \n\" style=\"fill:none;stroke:#1f77b4;stroke-linecap:square;stroke-width:1.5;\"/>\n   </g>\n   <g id=\"patch_9\">\n    <path d=\"M 1211.750184 353.127273 \nL 1211.750184 7.2 \n\" style=\"fill:none;stroke:#000000;stroke-linecap:square;stroke-linejoin:miter;stroke-width:0.8;\"/>\n   </g>\n   <g id=\"patch_10\">\n    <path d=\"M 1704.103125 353.127273 \nL 1704.103125 7.2 \n\" style=\"fill:none;stroke:#000000;stroke-linecap:square;stroke-linejoin:miter;stroke-width:0.8;\"/>\n   </g>\n   <g id=\"patch_11\">\n    <path d=\"M 1211.750184 353.127273 \nL 1704.103125 353.127273 \n\" style=\"fill:none;stroke:#000000;stroke-linecap:square;stroke-linejoin:miter;stroke-width:0.8;\"/>\n   </g>\n   <g id=\"patch_12\">\n    <path d=\"M 1211.750184 7.2 \nL 1704.103125 7.2 \n\" style=\"fill:none;stroke:#000000;stroke-linecap:square;stroke-linejoin:miter;stroke-width:0.8;\"/>\n   </g>\n   <g id=\"legend_2\">\n    <g id=\"patch_13\">\n     <path d=\"M 1465.215625 30.15625 \nL 1697.103125 30.15625 \nQ 1699.103125 30.15625 1699.103125 28.15625 \nL 1699.103125 14.2 \nQ 1699.103125 12.2 1697.103125 12.2 \nL 1465.215625 12.2 \nQ 1463.215625 12.2 1463.215625 14.2 \nL 1463.215625 28.15625 \nQ 1463.215625 30.15625 1465.215625 30.15625 \nz\n\" style=\"fill:#ffffff;opacity:0.8;stroke:#cccccc;stroke-linejoin:miter;\"/>\n    </g>\n    <g id=\"line2d_39\">\n     <path d=\"M 1467.215625 20.298437 \nL 1487.215625 20.298437 \n\" style=\"fill:none;stroke:#1f77b4;stroke-linecap:square;stroke-width:1.5;\"/>\n    </g>\n    <g id=\"line2d_40\"/>\n    <g id=\"text_34\">\n     <!-- hyperparameters/learning_rate = 0.003 -->\n     <defs>\n      <path d=\"M 32.171875 -5.078125 \nQ 28.375 -14.84375 24.75 -17.8125 \nQ 21.140625 -20.796875 15.09375 -20.796875 \nL 7.90625 -20.796875 \nL 7.90625 -13.28125 \nL 13.1875 -13.28125 \nQ 16.890625 -13.28125 18.9375 -11.515625 \nQ 21 -9.765625 23.484375 -3.21875 \nL 25.09375 0.875 \nL 2.984375 54.6875 \nL 12.5 54.6875 \nL 29.59375 11.921875 \nL 46.6875 54.6875 \nL 56.203125 54.6875 \nz\n\" id=\"DejaVuSans-121\"/>\n      <path d=\"M 18.109375 8.203125 \nL 18.109375 -20.796875 \nL 9.078125 -20.796875 \nL 9.078125 54.6875 \nL 18.109375 54.6875 \nL 18.109375 46.390625 \nQ 20.953125 51.265625 25.265625 53.625 \nQ 29.59375 56 35.59375 56 \nQ 45.5625 56 51.78125 48.09375 \nQ 58.015625 40.1875 58.015625 27.296875 \nQ 58.015625 14.40625 51.78125 6.484375 \nQ 45.5625 -1.421875 35.59375 -1.421875 \nQ 29.59375 -1.421875 25.265625 0.953125 \nQ 20.953125 3.328125 18.109375 8.203125 \nz\nM 48.6875 27.296875 \nQ 48.6875 37.203125 44.609375 42.84375 \nQ 40.53125 48.484375 33.40625 48.484375 \nQ 26.265625 48.484375 22.1875 42.84375 \nQ 18.109375 37.203125 18.109375 27.296875 \nQ 18.109375 17.390625 22.1875 11.75 \nQ 26.265625 6.109375 33.40625 6.109375 \nQ 40.53125 6.109375 44.609375 11.75 \nQ 48.6875 17.390625 48.6875 27.296875 \nz\n\" id=\"DejaVuSans-112\"/>\n      <path d=\"M 9.421875 75.984375 \nL 18.40625 75.984375 \nL 18.40625 0 \nL 9.421875 0 \nz\n\" id=\"DejaVuSans-108\"/>\n      <path d=\"M 9.421875 54.6875 \nL 18.40625 54.6875 \nL 18.40625 0 \nL 9.421875 0 \nz\nM 9.421875 75.984375 \nL 18.40625 75.984375 \nL 18.40625 64.59375 \nL 9.421875 64.59375 \nz\n\" id=\"DejaVuSans-105\"/>\n      <path d=\"M 45.40625 27.984375 \nQ 45.40625 37.75 41.375 43.109375 \nQ 37.359375 48.484375 30.078125 48.484375 \nQ 22.859375 48.484375 18.828125 43.109375 \nQ 14.796875 37.75 14.796875 27.984375 \nQ 14.796875 18.265625 18.828125 12.890625 \nQ 22.859375 7.515625 30.078125 7.515625 \nQ 37.359375 7.515625 41.375 12.890625 \nQ 45.40625 18.265625 45.40625 27.984375 \nz\nM 54.390625 6.78125 \nQ 54.390625 -7.171875 48.1875 -13.984375 \nQ 42 -20.796875 29.203125 -20.796875 \nQ 24.46875 -20.796875 20.265625 -20.09375 \nQ 16.0625 -19.390625 12.109375 -17.921875 \nL 12.109375 -9.1875 \nQ 16.0625 -11.328125 19.921875 -12.34375 \nQ 23.78125 -13.375 27.78125 -13.375 \nQ 36.625 -13.375 41.015625 -8.765625 \nQ 45.40625 -4.15625 45.40625 5.171875 \nL 45.40625 9.625 \nQ 42.625 4.78125 38.28125 2.390625 \nQ 33.9375 0 27.875 0 \nQ 17.828125 0 11.671875 7.65625 \nQ 5.515625 15.328125 5.515625 27.984375 \nQ 5.515625 40.671875 11.671875 48.328125 \nQ 17.828125 56 27.875 56 \nQ 33.9375 56 38.28125 53.609375 \nQ 42.625 51.21875 45.40625 46.390625 \nL 45.40625 54.6875 \nL 54.390625 54.6875 \nz\n\" id=\"DejaVuSans-103\"/>\n     </defs>\n     <g transform=\"translate(1495.215625 23.798437)scale(0.1 -0.1)\">\n      <use xlink:href=\"#DejaVuSans-104\"/>\n      <use x=\"63.378906\" xlink:href=\"#DejaVuSans-121\"/>\n      <use x=\"122.558594\" xlink:href=\"#DejaVuSans-112\"/>\n      <use x=\"186.035156\" xlink:href=\"#DejaVuSans-101\"/>\n      <use x=\"247.558594\" xlink:href=\"#DejaVuSans-114\"/>\n      <use x=\"288.671875\" xlink:href=\"#DejaVuSans-112\"/>\n      <use x=\"352.148438\" xlink:href=\"#DejaVuSans-97\"/>\n      <use x=\"413.427734\" xlink:href=\"#DejaVuSans-114\"/>\n      <use x=\"454.541016\" xlink:href=\"#DejaVuSans-97\"/>\n      <use x=\"515.820312\" xlink:href=\"#DejaVuSans-109\"/>\n      <use x=\"613.232422\" xlink:href=\"#DejaVuSans-101\"/>\n      <use x=\"674.755859\" xlink:href=\"#DejaVuSans-116\"/>\n      <use x=\"713.964844\" xlink:href=\"#DejaVuSans-101\"/>\n      <use x=\"775.488281\" xlink:href=\"#DejaVuSans-114\"/>\n      <use x=\"816.601562\" xlink:href=\"#DejaVuSans-115\"/>\n      <use x=\"868.701172\" xlink:href=\"#DejaVuSans-47\"/>\n      <use x=\"902.392578\" xlink:href=\"#DejaVuSans-108\"/>\n      <use x=\"930.175781\" xlink:href=\"#DejaVuSans-101\"/>\n      <use x=\"991.699219\" xlink:href=\"#DejaVuSans-97\"/>\n      <use x=\"1052.978516\" xlink:href=\"#DejaVuSans-114\"/>\n      <use x=\"1094.076172\" xlink:href=\"#DejaVuSans-110\"/>\n      <use x=\"1157.455078\" xlink:href=\"#DejaVuSans-105\"/>\n      <use x=\"1185.238281\" xlink:href=\"#DejaVuSans-110\"/>\n      <use x=\"1248.617188\" xlink:href=\"#DejaVuSans-103\"/>\n      <use x=\"1312.09375\" xlink:href=\"#DejaVuSans-95\"/>\n      <use x=\"1362.09375\" xlink:href=\"#DejaVuSans-114\"/>\n      <use x=\"1403.207031\" xlink:href=\"#DejaVuSans-97\"/>\n      <use x=\"1464.486328\" xlink:href=\"#DejaVuSans-116\"/>\n      <use x=\"1503.695312\" xlink:href=\"#DejaVuSans-101\"/>\n      <use x=\"1565.21875\" xlink:href=\"#DejaVuSans-32\"/>\n      <use x=\"1597.005859\" xlink:href=\"#DejaVuSans-61\"/>\n      <use x=\"1680.794922\" xlink:href=\"#DejaVuSans-32\"/>\n      <use x=\"1712.582031\" xlink:href=\"#DejaVuSans-48\"/>\n      <use x=\"1776.205078\" xlink:href=\"#DejaVuSans-46\"/>\n      <use x=\"1807.992188\" xlink:href=\"#DejaVuSans-48\"/>\n      <use x=\"1871.615234\" xlink:href=\"#DejaVuSans-48\"/>\n      <use x=\"1935.238281\" xlink:href=\"#DejaVuSans-51\"/>\n     </g>\n    </g>\n   </g>\n  </g>\n </g>\n <defs>\n  <clipPath id=\"p4b0301d8fd\">\n   <rect height=\"345.927273\" width=\"492.352941\" x=\"30.103125\" y=\"7.2\"/>\n  </clipPath>\n  <clipPath id=\"p10b6c5596c\">\n   <rect height=\"345.927273\" width=\"492.352941\" x=\"1211.750184\" y=\"7.2\"/>\n  </clipPath>\n </defs>\n</svg>\n",
      "image/png": "[encoded data removed]"
     },
     "metadata": {
      "needs_background": "light"
     }
    }
   ],
   "source": [
    "import matplotlib.pyplot as plt\n",
    "import numpy as np\n",
    "\n",
    "x = list(range(checkpoint.epoch_counter))\n",
    "sm = lambda y, w: np.convolve(y, np.ones(w)/w, mode='same')\n",
    "pp = lambda k: plt.plot(x, tensorboard.history[k], label=f\"{k} = {max(tensorboard.history[k])}\")\n",
    "spp = lambda k: plt.plot(x, sm(tensorboard.history[k], 5), label=f\"{k} = {max(tensorboard.history[k])}\")\n",
    "\n",
    "\n",
    "plt.figure(0, figsize=(30, 14))\n",
    "plt.subplot(2, 3, 1)\n",
    "pp(\"max/student_acc\")\n",
    "pp(\"max/teacher_acc\")\n",
    "plt.legend()\n",
    "\n",
    "plt.subplot(2, 3, 3)\n",
    "pp(\"hyperparameters/learning_rate\")\n",
    "plt.legend()\n",
    "\n",
    "plt.show()"
   ]
  },
  {
   "cell_type": "code",
   "execution_count": null,
   "metadata": {},
   "outputs": [],
   "source": []
  }
 ],
 "metadata": {
  "kernelspec": {
   "display_name": "dct",
   "language": "python",
   "name": "dct"
  },
  "language_info": {
   "codemirror_mode": {
    "name": "ipython",
    "version": 3
   },
   "file_extension": ".py",
   "mimetype": "text/x-python",
   "name": "python",
   "nbconvert_exporter": "python",
   "pygments_lexer": "ipython3",
   "version": "3.8.0-final"
  }
 },
 "nbformat": 4,
 "nbformat_minor": 4
}