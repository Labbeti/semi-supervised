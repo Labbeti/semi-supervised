{
 "cells": [
  {
   "cell_type": "markdown",
   "metadata": {
    "jupyter": {
     "outputs_hidden": true
    }
   },
   "source": [
    "# import"
   ]
  },
  {
   "cell_type": "raw",
   "metadata": {},
   "source": [
    "https://arxiv.org/pdf/1703.01780.pdf"
   ]
  },
  {
   "cell_type": "code",
   "execution_count": 1,
   "metadata": {},
   "outputs": [],
   "source": [
    "%load_ext autoreload\n",
    "%autoreload 2"
   ]
  },
  {
   "source": [
    "import sys\n",
    "sys.executable"
   ],
   "cell_type": "markdown",
   "metadata": {}
  },
  {
   "cell_type": "code",
   "execution_count": 2,
   "metadata": {},
   "outputs": [],
   "source": [
    "import os\n",
    "os.environ[\"MKL_NUM_THREADS\"] = \"2\"\n",
    "os.environ[\"NUMEXPR_NU M_THREADS\"] = \"2\"\n",
    "os.environ[\"OMP_NUM_THREADS\"] = \"2\"\n",
    "import time\n",
    "import pprint\n",
    "from typing import Union\n",
    "\n",
    "import numpy\n",
    "from torchsummary import summary\n",
    "\n",
    "import torch\n",
    "from torch.cuda import empty_cache\n",
    "import torch.nn as nn\n",
    "import torch.utils.data as data\n",
    "import torch.nn.functional as F\n",
    "import torchvision.transforms as transforms\n",
    "from torch.cuda.amp import autocast\n",
    "from torch.optim.lr_scheduler import LambdaLR\n",
    "from torch.utils.tensorboard import SummaryWriter\n",
    "from torch.utils.data import DataLoader"
   ]
  },
  {
   "cell_type": "code",
   "execution_count": 3,
   "metadata": {
    "tags": []
   },
   "outputs": [],
   "source": [
    "from SSL.util.loaders import load_dataset, load_optimizer, load_callbacks, load_preprocesser\n",
    "from SSL.util.model_loader import load_model\n",
    "from SSL.util.checkpoint import CheckPoint, mSummaryWriter\n",
    "from SSL.util.utils import reset_seed, get_datetime, track_maximum, DotDict\n",
    "from SSL.ramps import Warmup, sigmoid_rampup\n",
    "from SSL.losses import JensenShanon\n",
    "\n",
    "from metric_utils.metrics import CategoricalAccuracy, FScore, ContinueAverage"
   ]
  },
  {
   "cell_type": "code",
   "execution_count": 4,
   "metadata": {},
   "outputs": [],
   "source": [
    "import augmentation_utils.spec_augmentations as sa"
   ]
  },
  {
   "cell_type": "code",
   "execution_count": 5,
   "metadata": {},
   "outputs": [],
   "source": [
    "import argparse\n",
    "parser = argparse.ArgumentParser()\n",
    "parser.add_argument(\"--from_config\", default=\"\", type=str)\n",
    "parser.add_argument(\"-d\", \"--dataset_root\", default=\"../../datasets\", type=str)\n",
    "parser.add_argument(\"-D\", \"--dataset\", default=\"ubs8k\", type=str)\n",
    "\n",
    "group_t = parser.add_argument_group(\"Commun parameters\")\n",
    "group_t.add_argument(\"-m\", \"--model\", default=\"wideresnet28_2\", type=str)\n",
    "group_t.add_argument(\"--supervised_ratio\", default=0.1, type=float)\n",
    "group_t.add_argument(\"--batch_size\", default=64, type=int)\n",
    "group_t.add_argument(\"--nb_epoch\", default=150, type=int)\n",
    "group_t.add_argument(\"--learning_rate\", default=0.001, type=float)\n",
    "group_t.add_argument(\"--resume\", action=\"store_true\", default=False)\n",
    "group_t.add_argument(\"--seed\", default=1235, type=int)\n",
    "\n",
    "group_m = parser.add_argument_group(\"Model parameters\")\n",
    "# group_m.add_argument(\"--num_classes\", default=10, type=int)\n",
    "\n",
    "group_u = parser.add_argument_group(\"Datasets parameters\")\n",
    "group_u.add_argument(\"-t\", \"--train_folds\", nargs=\"+\", default=[1, 2, 3, 4], type=int)\n",
    "group_u.add_argument(\"-v\", \"--val_folds\", nargs=\"+\", default=[5], type=int)\n",
    "\n",
    "group_s = parser.add_argument_group(\"Student teacher parameters\")\n",
    "group_s.add_argument(\"--ema_alpha\", default=0.999, type=float)\n",
    "group_s.add_argument(\"--warmup_length\", default=50, type=int)\n",
    "group_s.add_argument(\"--lambda_cost_max\", default=1, type=float)\n",
    "group_s.add_argument(\"--teacher_perturb_fn\", default=\"identity\", type=str)\n",
    "group_s.add_argument(\"--ccost_softmax\", action=\"store_false\", default=True)\n",
    "group_s.add_argument(\"--ccost_method\", type=str, default=\"mse\")\n",
    "group_s.add_argument(\"--mixup_alpha\", default=0.0, type=float)\n",
    "\n",
    "group_l = parser.add_argument_group(\"Logs\")\n",
    "group_l.add_argument(\"--checkpoint_root\", default=\"../model_save/\", type=str)\n",
    "group_l.add_argument(\"--tensorboard_root\", default=\"../tensorboard/\", type=str)\n",
    "group_l.add_argument(\"--checkpoint_path\", default=\"mean-teacher_mixup\", type=str)\n",
    "group_l.add_argument(\"--tensorboard_path\", default=\"mean-teacher_mixup\", type=str)\n",
    "group_l.add_argument(\"--tensorboard_sufix\", default=\"\", type=str)\n",
    "\n",
    "args=parser.parse_args(\"\")\n",
    "\n",
    "tensorboard_path = os.path.join(args.tensorboard_root, args.dataset, args.tensorboard_path)\n",
    "checkpoint_path = os.path.join(args.checkpoint_root, args.dataset, args.checkpoint_path)"
   ]
  },
  {
   "source": [
    "## Basic verification"
   ],
   "cell_type": "markdown",
   "metadata": {}
  },
  {
   "cell_type": "code",
   "execution_count": 6,
   "metadata": {},
   "outputs": [],
   "source": [
    "available_datasets = [\"esc10\", \"ubs8k\", \"speechcommand\", \"speechcommand10\"]\n",
    "available_models = [\"cnn03\", \"wideresnet28_2\", \"wideresnet28_4\", \"wideresnet28_8\"]\n",
    "available_ccost_method = [\"mse\", \"js\"]\n",
    "\n",
    "assert args.dataset.lower() in available_datasets\n",
    "assert args.model.lower() in available_models\n",
    "assert args.ccost_method.lower() in available_ccost_method"
   ]
  },
  {
   "cell_type": "code",
   "execution_count": 7,
   "metadata": {
    "tags": [
     "re_run"
    ]
   },
   "outputs": [
    {
     "output_type": "stream",
     "name": "stdout",
     "text": [
      "{'batch_size': 64,\n 'ccost_method': 'mse',\n 'ccost_softmax': True,\n 'checkpoint_path': 'mean-teacher_mixup',\n 'checkpoint_root': '../model_save/',\n 'dataset': 'ubs8k',\n 'dataset_root': '../../datasets',\n 'ema_alpha': 0.999,\n 'from_config': '',\n 'lambda_cost_max': 1,\n 'learning_rate': 0.001,\n 'mixup_alpha': 0.0,\n 'model': 'wideresnet28_2',\n 'nb_epoch': 150,\n 'resume': False,\n 'seed': 1235,\n 'supervised_ratio': 0.1,\n 'teacher_perturb_fn': 'identity',\n 'tensorboard_path': 'mean-teacher_mixup',\n 'tensorboard_root': '../tensorboard/',\n 'tensorboard_sufix': '',\n 'train_folds': [1, 2, 3, 4],\n 'val_folds': [5],\n 'warmup_length': 50}\n"
     ]
    }
   ],
   "source": [
    "pprint.pprint(vars(args))"
   ]
  },
  {
   "cell_type": "markdown",
   "metadata": {
    "pycharm": {
     "name": "#%% md\n"
    }
   },
   "source": [
    "# initialisation"
   ]
  },
  {
   "cell_type": "code",
   "execution_count": 8,
   "metadata": {
    "collapsed": false,
    "jupyter": {
     "outputs_hidden": false
    },
    "pycharm": {
     "name": "#%%\n"
    },
    "tags": [
     "re_run"
    ]
   },
   "outputs": [],
   "source": [
    "reset_seed(args.seed)"
   ]
  },
  {
   "cell_type": "code",
   "execution_count": 9,
   "metadata": {},
   "outputs": [],
   "source": [
    "from SSL.trainers.trainers import Trainer\n",
    "\n",
    "class MeanTeacherTrainer(Trainer):\n",
    "    def __init__(self, model: str, dataset: str,\n",
    "                 ema_alpha: float = 0.999,\n",
    "                 teacher_noise_db: int = 0,\n",
    "                 warmup_length: int = 50,\n",
    "                 lambda_ccost_max: float = 1,\n",
    "                 use_softmax: bool = False,\n",
    "                 ccost_method: str = \"mse\"):\n",
    "\n",
    "        super().__init__(model, \"mean-teacher\", dataset)\n",
    "\n",
    "        self.ema_alpha = ema_alpha\n",
    "        self.teacher_noise_db = teacher_noise_db\n",
    "        self.warmup_length = warmup_length\n",
    "        self.lambda_ccost_max = lambda_ccost_max\n",
    "        self.use_softmax = use_softmax\n",
    "        self.ccost_method = ccost_method\n",
    "\n",
    "        self.extra_hparams = dict(\n",
    "            ema_alpha=self.ema_alpha,\n",
    "            teacher_noise_db=self.teacher_noise_db,\n",
    "            warmup_length=self.warmup_length,\n",
    "            lambda_ccost_max=self.lambda_ccost_max,\n",
    "            use_softmax=self.use_softmax,\n",
    "            ccost_method=self.use_softmax,\n",
    "        )\n",
    "\n",
    "        self.softmax_fn = lambda x: x\n",
    "        if self.use_softmax:\n",
    "            self.softmax_fn = nn.Softmax(dim=1)\n",
    "\n",
    "trainer = MeanTeacherTrainer(args.model, args.dataset, use_softmax=True)"
   ]
  },
  {
   "cell_type": "markdown",
   "metadata": {
    "pycharm": {
     "name": "#%% md\n"
    }
   },
   "source": [
    "# Prepare the dataset"
   ]
  },
  {
   "cell_type": "code",
   "execution_count": 10,
   "metadata": {},
   "outputs": [
    {
     "output_type": "stream",
     "name": "stdout",
     "text": [
      "Load the transformation\n",
      "################################################################################\n",
      "### WARNING, path does not exist: KALDI_ROOT=/mnt/matylda5/iveselyk/Tools/kaldi-trunk\n",
      "###          (please add 'export KALDI_ROOT=<your_path>' in your $HOME/.profile)\n",
      "###          (or run as: KALDI_ROOT=<your_path> python <your_script>.py)\n",
      "################################################################################\n",
      "\n"
     ]
    }
   ],
   "source": [
    "trainer.load_transforms()"
   ]
  },
  {
   "cell_type": "code",
   "execution_count": 11,
   "metadata": {},
   "outputs": [],
   "source": [
    "from types import MethodType\n",
    "\n",
    "def _get_input_shape(self):\n",
    "    return tuple(self.train_loader._iterables[0].dataset[0][0].shape)\n",
    "\n",
    "trainer._get_input_shape = MethodType(_get_input_shape, trainer)"
   ]
  },
  {
   "cell_type": "code",
   "execution_count": 12,
   "metadata": {},
   "outputs": [
    {
     "output_type": "stream",
     "name": "stdout",
     "text": [
      "Load the dataset\n"
     ]
    },
    {
     "output_type": "display_data",
     "data": {
      "text/plain": "HBox(children=(FloatProgress(value=0.0, max=5.0), HTML(value='')))",
      "application/vnd.jupyter.widget-view+json": {
       "version_major": 2,
       "version_minor": 0,
       "model_id": "2bd2bd86b32642919520d8de0b6a39da"
      }
     },
     "metadata": {}
    },
    {
     "output_type": "stream",
     "name": "stdout",
     "text": [
      "\ns_batch_size:  6\nu_batch_size:  58\n"
     ]
    }
   ],
   "source": [
    "parameters = dict(\n",
    "    dataset=args.dataset,\n",
    "\n",
    "    dataset_root = args.dataset_root,\n",
    "    supervised_ratio = args.supervised_ratio,\n",
    "    batch_size = args.batch_size,\n",
    "    nb_epoch=args.nb_epoch,\n",
    "    train_folds = args.train_folds,\n",
    "    val_folds = args.val_folds,\n",
    "    \n",
    "    num_workers=0,\n",
    "    pin_memory=True,\n",
    "\n",
    "    verbose = 2,\n",
    ")\n",
    "\n",
    "trainer.load_dataset(parameters)"
   ]
  },
  {
   "cell_type": "code",
   "execution_count": 13,
   "metadata": {},
   "outputs": [
    {
     "output_type": "stream",
     "name": "stdout",
     "text": [
      "torch.Size([6, 64, 173])\ntorch.Size([6])\ntensor(9)\n"
     ]
    }
   ],
   "source": [
    "for S, U in trainer.train_loader:\n",
    "    x, y = S\n",
    "    print(x.shape)\n",
    "    print(y.shape)\n",
    "    print(y.max())\n",
    "    break"
   ]
  },
  {
   "cell_type": "markdown",
   "metadata": {},
   "source": [
    "# Prep model"
   ]
  },
  {
   "cell_type": "code",
   "execution_count": 14,
   "metadata": {
    "tags": []
   },
   "outputs": [],
   "source": [
    "def create_model(self):\n",
    "    print(\"Creating teacher and student model ...\")\n",
    "    empty_cache()\n",
    "\n",
    "    model_func = load_model(self.dataset, self.model_str)\n",
    "    model_params = dict(\n",
    "        input_shape=self.input_shape,\n",
    "        num_classes=self.num_classes,\n",
    "    )\n",
    "\n",
    "    self.student = model_func(**model_params)\n",
    "    self.teacher = model_func(**model_params)\n",
    "\n",
    "    self.student = self.student.cuda()\n",
    "    self.teacher = self.teacher.cuda()\n",
    "\n",
    "    # We do not need gradient for the teacher model\n",
    "    for p in self.teacher.parameters():\n",
    "        p.detach()\n",
    "\n",
    "    summary(self.student, self.input_shape)\n",
    "\n",
    "trainer.create_model = MethodType(create_model, trainer)"
   ]
  },
  {
   "cell_type": "code",
   "execution_count": 15,
   "metadata": {},
   "outputs": [
    {
     "output_type": "stream",
     "name": "stdout",
     "text": [
      "Creating teacher and student model ...\n",
      "----------------------------------------------------------------\n",
      "        Layer (type)               Output Shape         Param #\n",
      "================================================================\n",
      "            Conv2d-1          [-1, 32, 64, 173]             864\n",
      "       BatchNorm2d-2          [-1, 32, 64, 173]              64\n",
      "              ReLU-3          [-1, 32, 64, 173]               0\n",
      "         MaxPool2d-4           [-1, 32, 32, 87]               0\n",
      "            Conv2d-5           [-1, 32, 32, 87]           9,216\n",
      "       BatchNorm2d-6           [-1, 32, 32, 87]              64\n",
      "              ReLU-7           [-1, 32, 32, 87]               0\n",
      "            Conv2d-8           [-1, 32, 32, 87]           9,216\n",
      "       BatchNorm2d-9           [-1, 32, 32, 87]              64\n",
      "             ReLU-10           [-1, 32, 32, 87]               0\n",
      "       BasicBlock-11           [-1, 32, 32, 87]               0\n",
      "           Conv2d-12           [-1, 32, 32, 87]           9,216\n",
      "      BatchNorm2d-13           [-1, 32, 32, 87]              64\n",
      "             ReLU-14           [-1, 32, 32, 87]               0\n",
      "           Conv2d-15           [-1, 32, 32, 87]           9,216\n",
      "      BatchNorm2d-16           [-1, 32, 32, 87]              64\n",
      "             ReLU-17           [-1, 32, 32, 87]               0\n",
      "       BasicBlock-18           [-1, 32, 32, 87]               0\n",
      "           Conv2d-19           [-1, 32, 32, 87]           9,216\n",
      "      BatchNorm2d-20           [-1, 32, 32, 87]              64\n",
      "             ReLU-21           [-1, 32, 32, 87]               0\n",
      "           Conv2d-22           [-1, 32, 32, 87]           9,216\n",
      "      BatchNorm2d-23           [-1, 32, 32, 87]              64\n",
      "             ReLU-24           [-1, 32, 32, 87]               0\n",
      "       BasicBlock-25           [-1, 32, 32, 87]               0\n",
      "           Conv2d-26           [-1, 32, 32, 87]           9,216\n",
      "      BatchNorm2d-27           [-1, 32, 32, 87]              64\n",
      "             ReLU-28           [-1, 32, 32, 87]               0\n",
      "           Conv2d-29           [-1, 32, 32, 87]           9,216\n",
      "      BatchNorm2d-30           [-1, 32, 32, 87]              64\n",
      "             ReLU-31           [-1, 32, 32, 87]               0\n",
      "       BasicBlock-32           [-1, 32, 32, 87]               0\n",
      "           Conv2d-33           [-1, 64, 16, 44]          18,432\n",
      "      BatchNorm2d-34           [-1, 64, 16, 44]             128\n",
      "             ReLU-35           [-1, 64, 16, 44]               0\n",
      "           Conv2d-36           [-1, 64, 16, 44]          36,864\n",
      "      BatchNorm2d-37           [-1, 64, 16, 44]             128\n",
      "           Conv2d-38           [-1, 64, 16, 44]           2,048\n",
      "      BatchNorm2d-39           [-1, 64, 16, 44]             128\n",
      "             ReLU-40           [-1, 64, 16, 44]               0\n",
      "       BasicBlock-41           [-1, 64, 16, 44]               0\n",
      "           Conv2d-42           [-1, 64, 16, 44]          36,864\n",
      "      BatchNorm2d-43           [-1, 64, 16, 44]             128\n",
      "             ReLU-44           [-1, 64, 16, 44]               0\n",
      "           Conv2d-45           [-1, 64, 16, 44]          36,864\n",
      "      BatchNorm2d-46           [-1, 64, 16, 44]             128\n",
      "             ReLU-47           [-1, 64, 16, 44]               0\n",
      "       BasicBlock-48           [-1, 64, 16, 44]               0\n",
      "           Conv2d-49           [-1, 64, 16, 44]          36,864\n",
      "      BatchNorm2d-50           [-1, 64, 16, 44]             128\n",
      "             ReLU-51           [-1, 64, 16, 44]               0\n",
      "           Conv2d-52           [-1, 64, 16, 44]          36,864\n",
      "      BatchNorm2d-53           [-1, 64, 16, 44]             128\n",
      "             ReLU-54           [-1, 64, 16, 44]               0\n",
      "       BasicBlock-55           [-1, 64, 16, 44]               0\n",
      "           Conv2d-56           [-1, 64, 16, 44]          36,864\n",
      "      BatchNorm2d-57           [-1, 64, 16, 44]             128\n",
      "             ReLU-58           [-1, 64, 16, 44]               0\n",
      "           Conv2d-59           [-1, 64, 16, 44]          36,864\n",
      "      BatchNorm2d-60           [-1, 64, 16, 44]             128\n",
      "             ReLU-61           [-1, 64, 16, 44]               0\n",
      "       BasicBlock-62           [-1, 64, 16, 44]               0\n",
      "           Conv2d-63           [-1, 128, 8, 22]          73,728\n",
      "      BatchNorm2d-64           [-1, 128, 8, 22]             256\n",
      "             ReLU-65           [-1, 128, 8, 22]               0\n",
      "           Conv2d-66           [-1, 128, 8, 22]         147,456\n",
      "      BatchNorm2d-67           [-1, 128, 8, 22]             256\n",
      "           Conv2d-68           [-1, 128, 8, 22]           8,192\n",
      "      BatchNorm2d-69           [-1, 128, 8, 22]             256\n",
      "             ReLU-70           [-1, 128, 8, 22]               0\n",
      "       BasicBlock-71           [-1, 128, 8, 22]               0\n",
      "           Conv2d-72           [-1, 128, 8, 22]         147,456\n",
      "      BatchNorm2d-73           [-1, 128, 8, 22]             256\n",
      "             ReLU-74           [-1, 128, 8, 22]               0\n",
      "           Conv2d-75           [-1, 128, 8, 22]         147,456\n",
      "      BatchNorm2d-76           [-1, 128, 8, 22]             256\n",
      "             ReLU-77           [-1, 128, 8, 22]               0\n",
      "       BasicBlock-78           [-1, 128, 8, 22]               0\n",
      "           Conv2d-79           [-1, 128, 8, 22]         147,456\n",
      "      BatchNorm2d-80           [-1, 128, 8, 22]             256\n",
      "             ReLU-81           [-1, 128, 8, 22]               0\n",
      "           Conv2d-82           [-1, 128, 8, 22]         147,456\n",
      "      BatchNorm2d-83           [-1, 128, 8, 22]             256\n",
      "             ReLU-84           [-1, 128, 8, 22]               0\n",
      "       BasicBlock-85           [-1, 128, 8, 22]               0\n",
      "           Conv2d-86           [-1, 128, 8, 22]         147,456\n",
      "      BatchNorm2d-87           [-1, 128, 8, 22]             256\n",
      "             ReLU-88           [-1, 128, 8, 22]               0\n",
      "           Conv2d-89           [-1, 128, 8, 22]         147,456\n",
      "      BatchNorm2d-90           [-1, 128, 8, 22]             256\n",
      "             ReLU-91           [-1, 128, 8, 22]               0\n",
      "       BasicBlock-92           [-1, 128, 8, 22]               0\n",
      "AdaptiveAvgPool2d-93            [-1, 128, 1, 1]               0\n",
      "           Linear-94                   [-1, 10]           1,290\n",
      "================================================================\n",
      "Total params: 1,472,554\n",
      "Trainable params: 1,472,554\n",
      "Non-trainable params: 0\n",
      "----------------------------------------------------------------\n",
      "Input size (MB): 0.04\n",
      "Forward/backward pass size (MB): 43.29\n",
      "Params size (MB): 5.62\n",
      "Estimated Total Size (MB): 48.95\n",
      "----------------------------------------------------------------\n"
     ]
    }
   ],
   "source": [
    "trainer.create_model()"
   ]
  },
  {
   "cell_type": "markdown",
   "metadata": {
    "pycharm": {
     "name": "#%% md\n"
    }
   },
   "source": [
    "# Training initalization\n",
    "## Losses"
   ]
  },
  {
   "cell_type": "code",
   "execution_count": 16,
   "metadata": {},
   "outputs": [],
   "source": [
    "def init_loss(self, parameters: DotDict):\n",
    "    self.loss_ce = nn.CrossEntropyLoss(reduction=\"mean\")\n",
    "\n",
    "    if self.ccost_method.lower() == \"mse\":\n",
    "        self.loss_cc = nn.MSELoss(reduction=\"mean\")\n",
    "    elif self.ccost_method.lower() == \"js\":\n",
    "        self.loss_cc = JensenShanon\n",
    "\n",
    "trainer.init_loss = MethodType(init_loss, trainer)"
   ]
  },
  {
   "cell_type": "code",
   "execution_count": 17,
   "metadata": {},
   "outputs": [],
   "source": [
    "trainer.init_loss(DotDict())"
   ]
  },
  {
   "source": [
    "## Optimizer"
   ],
   "cell_type": "markdown",
   "metadata": {}
  },
  {
   "cell_type": "code",
   "execution_count": 18,
   "metadata": {},
   "outputs": [],
   "source": [
    "def init_optimizer(self, parameters: DotDict):\n",
    "    print(\"Initialize optimizer\")\n",
    "    self.optimizer = load_optimizer(\n",
    "        self.dataset,\n",
    "        self.framework,\n",
    "        learning_rate=parameters.learning_rate,\n",
    "        student=self.student,\n",
    "    )\n",
    "\n",
    "trainer.init_optimizer = MethodType(init_optimizer, trainer)"
   ]
  },
  {
   "cell_type": "code",
   "execution_count": 19,
   "metadata": {},
   "outputs": [
    {
     "output_type": "stream",
     "name": "stdout",
     "text": [
      "Initialize optimizer\n"
     ]
    }
   ],
   "source": [
    "parameters = DotDict(\n",
    "    learning_rate=args.learning_rate\n",
    ")\n",
    "\n",
    "trainer.init_optimizer(parameters)"
   ]
  },
  {
   "source": [
    "## Callbacks"
   ],
   "cell_type": "markdown",
   "metadata": {}
  },
  {
   "cell_type": "code",
   "execution_count": 20,
   "metadata": {},
   "outputs": [],
   "source": [
    "def init_callbacks(self, parameters: DotDict):\n",
    "    print(\"Initialize callbacks\")\n",
    "    self.callbacks = load_callbacks(\n",
    "        self.dataset,\n",
    "        self.framework,\n",
    "        optimizer=self.optimizer,\n",
    "        nb_epoch=parameters.nb_epoch,\n",
    "    )\n",
    "\n",
    "    self.lambda_ccost = Warmup(self.lambda_ccost_max, self.warmup_length, sigmoid_rampup)\n",
    "    self.callbacks += [self.lambda_ccost]\n",
    "\n",
    "trainer.init_callbacks = MethodType(init_callbacks, trainer)"
   ]
  },
  {
   "cell_type": "code",
   "execution_count": 21,
   "metadata": {},
   "outputs": [
    {
     "output_type": "stream",
     "name": "stdout",
     "text": [
      "Initialize callbacks\n"
     ]
    }
   ],
   "source": [
    "parameters=DotDict(\n",
    "    nb_epoch=args.nb_epoch,\n",
    "    optimizer=trainer.optimizer,\n",
    ")\n",
    "trainer.init_callbacks(parameters)"
   ]
  },
  {
   "source": [
    "## Logs"
   ],
   "cell_type": "markdown",
   "metadata": {}
  },
  {
   "cell_type": "code",
   "execution_count": 22,
   "metadata": {},
   "outputs": [],
   "source": [
    "def init_logs(self, parameters: DotDict):\n",
    "    print(\"Prepare the log system\")\n",
    "    title_element = (\n",
    "        self.model_str, parameters.supervised_ratio,\n",
    "        get_datetime(), self.model_str,\n",
    "        self.ccost_method.upper(), self.use_softmax, self.teacher_noise_db\n",
    "    )\n",
    "\n",
    "    tensorboard_title = \"%s/%sS/%s_%s_%s_%s-softmax_%s-n\" % title_element\n",
    "    print(\"tensorboard saved at: \", os.path.join(self.tensorboard_path, tensorboard_title))\n",
    "\n",
    "    self.tensorboard = mSummaryWriter(log_dir=\"%s/%s\" % (self.tensorboard_path, tensorboard_title))\n",
    "\n",
    "trainer.init_logs = MethodType(init_logs, trainer)"
   ]
  },
  {
   "cell_type": "code",
   "execution_count": 23,
   "metadata": {},
   "outputs": [
    {
     "output_type": "stream",
     "name": "stdout",
     "text": [
      "Prepare the log system\ntensorboard saved at:  /home/lcances/sync/Documents_sync/Projet/Semi-Supervised/SSL/trainers/../../tensorboard/ubs8k/mean-teacher/wideresnet28_2/0.1S/2020-12-14_21:47:01_wideresnet28_2_MSE_True-softmax_0-n\n"
     ]
    }
   ],
   "source": [
    "parameters=DotDict(\n",
    "    supervised_ratio=args.supervised_ratio\n",
    ")\n",
    "trainer.init_logs(parameters)"
   ]
  },
  {
   "source": [
    "## Checkpoint"
   ],
   "cell_type": "markdown",
   "metadata": {}
  },
  {
   "cell_type": "code",
   "execution_count": 24,
   "metadata": {},
   "outputs": [],
   "source": [
    "def init_checkpoint(self, parameters: DotDict):\n",
    "    print(\"Prepare the checkpoint system\")\n",
    "    title_element = (\n",
    "        self.model_str, parameters.supervised_ratio,\n",
    "        get_datetime(), self.model_str,\n",
    "        self.ccost_method.upper(), self.use_softmax, self.teacher_noise_db\n",
    "    )\n",
    "    \n",
    "    checkpoint_title = \"%s/%sS/%s_%s_%s_%s-softmax_%s-n\" % title_element\n",
    "\n",
    "    self.checkpoint = CheckPoint(\n",
    "        [self.student, self.teacher], self.optimizer, mode=\"max\",\n",
    "        name=f\"{self.checkpoint_path}/{checkpoint_title}\")\n",
    "\n",
    "trainer.init_checkpoint = MethodType(init_checkpoint, trainer)"
   ]
  },
  {
   "cell_type": "code",
   "execution_count": 25,
   "metadata": {},
   "outputs": [
    {
     "output_type": "stream",
     "name": "stdout",
     "text": [
      "Prepare the checkpoint system\n"
     ]
    }
   ],
   "source": [
    "# Checkpoint\n",
    "parameters=DotDict(\n",
    "    supervised_ratio=args.supervised_ratio\n",
    ")\n",
    "trainer.init_checkpoint(parameters)"
   ]
  },
  {
   "source": [
    "## Metrics"
   ],
   "cell_type": "markdown",
   "metadata": {}
  },
  {
   "cell_type": "code",
   "execution_count": 26,
   "metadata": {},
   "outputs": [],
   "source": [
    "def init_metrics(self, parameters: DotDict):\n",
    "    self.metrics = DotDict(\n",
    "        fscore_ss=FScore(),\n",
    "        fscore_su=FScore(),\n",
    "        fscore_ts=FScore(),\n",
    "        fscore_tu=FScore(),\n",
    "        acc_ss=CategoricalAccuracy(),\n",
    "        acc_su=CategoricalAccuracy(),\n",
    "        acc_ts=CategoricalAccuracy(),\n",
    "        acc_tu=CategoricalAccuracy(),\n",
    "        avg_Sce=ContinueAverage(),\n",
    "        avg_Tce=ContinueAverage(),\n",
    "        avg_ccost=ContinueAverage(),\n",
    "    )\n",
    "    self.maximum_tracker = track_maximum()\n",
    "\n",
    "    self.scores = DotDict()\n",
    "    for key in self.metrics:\n",
    "        self.scores[key] = []\n",
    "\n",
    "trainer.init_metrics = MethodType(init_metrics, trainer)"
   ]
  },
  {
   "cell_type": "code",
   "execution_count": 27,
   "metadata": {},
   "outputs": [],
   "source": [
    "trainer.init_metrics(DotDict())"
   ]
  },
  {
   "cell_type": "markdown",
   "metadata": {
    "pycharm": {
     "name": "#%% md\n"
    }
   },
   "source": [
    "## training function"
   ]
  },
  {
   "cell_type": "code",
   "execution_count": 28,
   "metadata": {
    "collapsed": false,
    "jupyter": {
     "outputs_hidden": false
    },
    "pycharm": {
     "name": "#%%\n"
    },
    "tags": []
   },
   "outputs": [],
   "source": [
    "def set_printing_form(self):\n",
    "    UNDERLINE_SEQ = \"\\033[1;4m\"\n",
    "    RESET_SEQ = \"\\033[0m\"\n",
    "\n",
    "    header_form = \"{:<8.8} {:<6.6} - {:<6.6} - {:<10.8} {:<8.6} {:<8.6} {:<8.6} {:<8.6} {:<8.6} {:<8.6} | {:<10.8} {:<8.6} {:<8.6} {:<8.6} {:<8.6} {:<8.6} - {:<8.6}\"\n",
    "    value_form  = \"{:<8.8} {:<6d} - {:<6d} - {:<10.8} {:<8.4f} {:<8.4f} {:<8.4f} {:<8.4f} {:<8.4f} {:<8.4f} | {:<10.8} {:<8.4f} {:<8.4f} {:<8.4f} {:<8.4f} {:<8.4f} - {:<8.4f}\"\n",
    "    self.header = header_form.format(\".               \", \"Epoch\",  \"%\", \"Student:\", \"ce\", \"ccost\", \"acc_s\", \"f1_s\", \"acc_u\", \"f1_u\", \"Teacher:\", \"ce\", \"acc_s\", \"f1_s\", \"acc_u\", \"f1_u\" , \"Time\")\n",
    "\n",
    "    self.train_form = value_form\n",
    "    self.val_form = UNDERLINE_SEQ + value_form + RESET_SEQ\n",
    "\n",
    "trainer.set_printing_form = MethodType(set_printing_form, trainer)"
   ]
  },
  {
   "cell_type": "code",
   "execution_count": 29,
   "metadata": {},
   "outputs": [
    {
     "output_type": "execute_result",
     "data": {
      "text/plain": [
       "0.98"
      ]
     },
     "metadata": {},
     "execution_count": 29
    }
   ],
   "source": [
    "1-1/50"
   ]
  },
  {
   "cell_type": "code",
   "execution_count": 30,
   "metadata": {},
   "outputs": [],
   "source": [
    "def _update_teacher_model(self, iteration):\n",
    "    \n",
    "    # Use the true average until the exponential average is more correct\n",
    "    alpha = min(1 - 1 / (iteration + 1), self.ema_alpha)\n",
    "    \n",
    "    for param, ema_param in zip(self.student.parameters(), self.teacher.parameters()):\n",
    "        ema_param.data.mul_(alpha).add_(param.data,  alpha = 1-alpha)\n",
    "\n",
    "trainer._update_teacher_model = MethodType(_update_teacher_model, trainer)"
   ]
  },
  {
   "cell_type": "code",
   "execution_count": 31,
   "metadata": {},
   "outputs": [],
   "source": [
    "def get_mixup_fn(alpha: float = 0.4):\n",
    "    def mixup(self, x, y, batch_generator):\n",
    "        from torch.distributions.beta import Beta\n",
    "\n",
    "        if alpha == 0.0:\n",
    "            return x, y\n",
    "\n",
    "        # get a new batch of sample to perform the mixup\n",
    "        generator = iter(batch_generator)\n",
    "        x_, y_ = generator.next()\n",
    "\n",
    "        # Toward the end of the epoch, the last batch can be incomplete,\n",
    "        # but the newly fetch batch will not be, so we need to trim\n",
    "        if x.size()[0] != x_.size()[0]:\n",
    "            return x, y\n",
    "            # trunc = x.size()[0]\n",
    "            # x_ = x_[:trunc]\n",
    "            # y_ = y_[:trunc]\n",
    "\n",
    "        beta = Beta(alpha, alpha)\n",
    "        lambda_ = beta.sample().item() if alpha > 0.0 else 1.0\n",
    "        lambda_ = max((lambda_, 1 - lambda_))\n",
    "        mixup.lambda_history.append(lambda_)\n",
    "\n",
    "        batch_mix = x * lambda_ + x_ * (1.0 - lambda_)\n",
    "        # labels_mix = y * lambda_ + y_ * (1.0 - lambda_)\n",
    "        labels_mix = y\n",
    "\n",
    "        return batch_mix, labels_mix\n",
    "\n",
    "    mixup.lambda_history = []\n",
    "    return mixup"
   ]
  },
  {
   "cell_type": "code",
   "execution_count": 32,
   "metadata": {},
   "outputs": [],
   "source": [
    "# aug1 = sa.FractalTimeDropout(ratio=1.0, min_chunk_size=20, min_chunk=1, max_chunk=1, void=True, cut=True)\n",
    "# aug2 = sa.FractalTimeStretch(ratio=1.0, min_chunk_size=20, )\n",
    "# aug3 = sa.FractalTimeStretch(ratio=1.0, min_chunk_size=20, max_chunk_size=40)\n",
    "# aug4 = sa.FractalDropout(1.0, freq_min_chunk_size=1, freq_max_chunk_size=3, freq_max_chunk=1, time_max_chunk=1)\n",
    "# # _noise_fn = sa.UniformSignNoise(1.0, 0.1, mini=-100, maxi=0)\n",
    "# # _noise_fn = sa.Noise(1.0, 5, mini=-100, maxi=0)\n",
    "# _noise_fn = sa.FractalStretch(1.0, freq_min_chunk_size=4, freq_max_chunk_size=8, time_min_chunk_size=16, time_max_chunk_size=48)\n",
    "_noise_fn = lambda x: x\n",
    "\n",
    "# if args.teacher_perturb_fn == \"identity\":\n",
    "#     _noise_fn = lambda x: x\n",
    "\n",
    "# else:\n",
    "#     _noise_fn = eval(args.teacher_perturb_fn)\n",
    "\n",
    "trainer.extra_hparams[\"_noise_fn\"] = str(_noise_fn)"
   ]
  },
  {
   "cell_type": "code",
   "execution_count": 33,
   "metadata": {},
   "outputs": [
    {
     "output_type": "execute_result",
     "data": {
      "text/plain": [
       "'<function <lambda> at 0x7f2d88fa2700>'"
      ]
     },
     "metadata": {},
     "execution_count": 33
    }
   ],
   "source": [
    "trainer.extra_hparams[\"_noise_fn\"]"
   ]
  },
  {
   "cell_type": "code",
   "execution_count": 79,
   "metadata": {},
   "outputs": [],
   "source": []
  },
  {
   "cell_type": "code",
   "execution_count": 34,
   "metadata": {},
   "outputs": [],
   "source": [
    "def _calc_metrics(self,\n",
    "                  ss_logits, su_logits, ts_logits, tu_logits,\n",
    "                  y_s, y_u) -> Union[DotDict, DotDict]:\n",
    "\n",
    "    with torch.set_grad_enabled(False):\n",
    "        S = nn.Softmax(dim=1)\n",
    "        A = lambda x: torch.argmax(x, dim=1)\n",
    "        M = self.metrics\n",
    "\n",
    "        one_hot_s = F.one_hot(y_s, self.num_classes)\n",
    "        one_hot_u = F.one_hot(y_u, self.num_classes)\n",
    "\n",
    "        fscores = DotDict(\n",
    "            ss=M.fscore_ss(S(ss_logits), one_hot_s).mean,\n",
    "            su=M.fscore_su(S(su_logits), one_hot_u).mean,\n",
    "            ts=M.fscore_ts(S(ts_logits), one_hot_s).mean,\n",
    "            tu=M.fscore_tu(S(tu_logits), one_hot_u).mean,\n",
    "        )\n",
    "\n",
    "        accs = DotDict(\n",
    "            ss=M.acc_ss(A(ss_logits), y_s).mean,\n",
    "            su=M.acc_su(A(su_logits), y_u).mean,\n",
    "            ts=M.acc_ts(A(ts_logits), y_s).mean,\n",
    "            tu=M.acc_tu(A(tu_logits), y_u).mean,\n",
    "        )\n",
    "\n",
    "        return fscores, accs\n",
    "\n",
    "trainer._calc_metrics = MethodType(_calc_metrics, trainer)"
   ]
  },
  {
   "cell_type": "code",
   "execution_count": 35,
   "metadata": {},
   "outputs": [
    {
     "output_type": "stream",
     "name": "stdout",
     "text": [
      "torch.Size([6, 64, 173])\ntorch.Size([25, 64, 173])\n"
     ]
    }
   ],
   "source": [
    "for i, (S, U) in enumerate(trainer.train_loader):\n",
    "    x_s, y_s = S\n",
    "    x_u, y_u = U\n",
    "\n",
    "    print(x_s.shape)\n",
    "    print(x_u[:25,:].shape)\n",
    "    break"
   ]
  },
  {
   "cell_type": "code",
   "execution_count": 36,
   "metadata": {
    "tags": [
     "re_run"
    ]
   },
   "outputs": [],
   "source": [
    "def train_fn(self, epoch: int):\n",
    "    # aliases\n",
    "    M = self.metrics\n",
    "    T = self.tensorboard.add_scalar\n",
    "    nb_batch = len(self.train_loader)\n",
    "\n",
    "    start_time = time.time()\n",
    "    print(\"\")\n",
    "\n",
    "    self.reset_metrics()\n",
    "    self.student.train()\n",
    "\n",
    "    for i, (S, U) in enumerate(self.train_loader):\n",
    "        x_s, y_s = S\n",
    "        x_u, y_u = U\n",
    "\n",
    "        # Apply mixup\n",
    "        n_x_s, n_y_s = self.mixup_fn(x_s, y_s, self.train_loader._iterables[0])\n",
    "        n_x_u, n_y_u = self.mixup_fn(x_u, y_u, self.train_loader._iterables[1])\n",
    "\n",
    "        x_s, x_u = x_s.cuda(), x_u.cuda()\n",
    "        y_s = y_s.cuda()\n",
    "        n_x_s, n_x_u = n_x_s.cuda(), n_x_u.cuda()\n",
    "        n_y_s, n_y_u = n_y_s.cuda(), n_y_u.cuda()\n",
    "\n",
    "        # Predictions\n",
    "        with autocast(enabled=False):\n",
    "            ss_logits = self.student(x_s)\n",
    "            su_logits = self.student(x_u)\n",
    "\n",
    "            ts_logits = self.teacher(x_s)\n",
    "            tu_logits = self.teacher(n_x_u)\n",
    "\n",
    "            # Calculate supervised loss (only student on S)\n",
    "            loss = self.loss_ce(ss_logits, y_s)\n",
    "\n",
    "            # Calculate consistency cost (mse(student(x), teacher(x)))\n",
    "            # x is S + U\n",
    "            student_logits = torch.cat((ss_logits, su_logits), dim=0)\n",
    "            teacher_logits = torch.cat((ts_logits, tu_logits), dim=0)\n",
    "            ccost = self.loss_cc(\n",
    "                self.softmax_fn(su_logits),\n",
    "                self.softmax_fn(tu_logits),\n",
    "            )\n",
    "\n",
    "            total_loss = loss + self.lambda_ccost() * ccost\n",
    "\n",
    "            # If loss contain is Nan, stop training there\n",
    "            if torch.isnan(total_loss).any():\n",
    "                print(\"=== Loss is Nan ===\")\n",
    "                # print(\"last ss_logits\")\n",
    "                # print(ss_logits)\n",
    "                # print(\"last ts_logits\")\n",
    "                # print(ts_logits)\n",
    "                # print(\"last su_logits\")\n",
    "                # print(su_logits)\n",
    "                # print(\"softmax su logits\")\n",
    "                # print(self.softmax_fn(su_logits))\n",
    "                # print(\"x_u\")\n",
    "                # print(x_u)\n",
    "                # print(\"repredict\")\n",
    "                # print('--------')\n",
    "                # for u in x_u:\n",
    "                #     u_ = self.student(u.view(1, *u.shape))\n",
    "                #     print(u_)\n",
    "                #     if torch.isnan(u_).any():\n",
    "                #         print(\"NaN was found in u input\")\n",
    "                #         print(u)\n",
    "                #         print(\"----\")\n",
    "                #         print(u_)\n",
    "                #         raise ValueError(\"Nan found in prediction\")\n",
    "                # # print(\"last tu_logits\")\n",
    "                # # print(tu_logits)\n",
    "                # print(\"ccost\")\n",
    "                # print(ccost)\n",
    "                # print(\"ce loss\")\n",
    "                # print(loss)\n",
    "                # print(\"total loss\")\n",
    "                # print(total_loss)\n",
    "                raise ValueError(\"Loss is NaN\")\n",
    "\n",
    "        for p in self.student.parameters():\n",
    "            p.grad = None\n",
    "        total_loss.backward()\n",
    "        self.optimizer.step()\n",
    "\n",
    "        with torch.set_grad_enabled(False):\n",
    "            # Teacher prediction (for metrics purpose)\n",
    "            _teacher_loss = self.loss_ce(ts_logits, y_s)\n",
    "\n",
    "            # Update teacher\n",
    "            self._update_teacher_model(epoch*nb_batch + i)\n",
    "\n",
    "            # Compute the metrics for the student\n",
    "            fscores, accs = self._calc_metrics(\n",
    "                ss_logits, su_logits,\n",
    "                ts_logits, tu_logits,\n",
    "                y_s, n_y_u,\n",
    "            )\n",
    "\n",
    "            # Running average of the two losses\n",
    "            student_running_loss = M.avg_Sce(loss.item()).mean\n",
    "            teacher_running_loss = M.avg_Tce(_teacher_loss.item()).mean\n",
    "            running_ccost = M.avg_ccost(ccost.item()).mean\n",
    "\n",
    "            # logs\n",
    "            print(self.train_form.format(\n",
    "                \"Training: \", epoch + 1, int(100 * (i + 1) / nb_batch),\n",
    "                \"\", student_running_loss, running_ccost,\n",
    "                accs.ss, fscores.ss, accs.su, fscores.su,\n",
    "                \"\", teacher_running_loss,\n",
    "                accs.ts, fscores.ts, accs.tu, fscores.tu,\n",
    "                time.time() - start_time\n",
    "            ), end=\"\\r\")\n",
    "\n",
    "    T(\"train/student_acc_s\", accs.ss, epoch)\n",
    "    T(\"train/student_acc_u\", accs.su, epoch)\n",
    "    T(\"train/student_f1_s\", fscores.ss, epoch)\n",
    "    T(\"train/student_f1_u\", fscores.su, epoch)\n",
    "\n",
    "    T(\"train/teacher_acc_s\", accs.ts, epoch)\n",
    "    T(\"train/teacher_acc_u\", accs.tu, epoch)\n",
    "    T(\"train/teacher_f1_s\", fscores.ts, epoch)\n",
    "    T(\"train/teacher_f1_u\", fscores.tu, epoch)\n",
    "\n",
    "    T(\"train/student_loss\", student_running_loss, epoch)\n",
    "    T(\"train/teacher_loss\", teacher_running_loss, epoch)\n",
    "    T(\"train/consistency_cost\", running_ccost, epoch)\n",
    "\n",
    "trainer.train_fn = MethodType(train_fn, trainer)\n"
   ]
  },
  {
   "cell_type": "code",
   "execution_count": 37,
   "metadata": {
    "collapsed": false,
    "jupyter": {
     "outputs_hidden": false
    },
    "pycharm": {
     "name": "#%%\n"
    },
    "tags": [
     "re_run"
    ]
   },
   "outputs": [],
   "source": [
    "    def val_fn(self, epoch: int):\n",
    "        # aliases\n",
    "        M = self.metrics\n",
    "        T = self.tensorboard.add_scalar\n",
    "        nb_batch = len(self.val_loader)\n",
    "\n",
    "        start_time = time.time()\n",
    "        print(\"\")\n",
    "\n",
    "        self.reset_metrics()\n",
    "        self.student.eval()\n",
    "\n",
    "        with torch.set_grad_enabled(False):\n",
    "            for i, (X, y) in enumerate(self.val_loader):\n",
    "                X = X.cuda()\n",
    "                y = y.cuda()\n",
    "\n",
    "                # Predictions\n",
    "                with autocast(enabled=False):\n",
    "                    student_logits = self.student(X)\n",
    "                    teacher_logits = self.teacher(X)\n",
    "\n",
    "                    # Calculate supervised loss (only student on S)\n",
    "                    loss = self.loss_ce(student_logits, y)\n",
    "                    _teacher_loss = self.loss_ce(teacher_logits, y)  # for metrics only\n",
    "                    ccost = self.loss_cc(\n",
    "                        self.softmax_fn(student_logits),\n",
    "                        self.softmax_fn(teacher_logits))\n",
    "\n",
    "                # Compute the metrics\n",
    "                fscores, accs = self._calc_metrics(\n",
    "                    student_logits, student_logits, \n",
    "                    teacher_logits, teacher_logits,\n",
    "                    y, y\n",
    "                )\n",
    "\n",
    "                # Running average of the two losses\n",
    "                student_running_loss = M.avg_Sce(loss.item()).mean\n",
    "                teacher_running_loss = M.avg_Tce(_teacher_loss.item()).mean\n",
    "                running_ccost = M.avg_ccost(ccost.item()).mean\n",
    "\n",
    "                # logs\n",
    "                print(self.val_form.format(\n",
    "                    \"Validation: \", epoch + 1, int(100 * (i + 1) / nb_batch),\n",
    "                    \"\", student_running_loss, running_ccost, accs.ss, fscores.ss, 0.0, 0.0,\n",
    "                    \"\", teacher_running_loss, accs.ts, fscores.ts, 0.0, 0.0,\n",
    "                    time.time() - start_time\n",
    "                ), end=\"\\r\")\n",
    "\n",
    "        self.checkpoint.step(accs.ss)\n",
    "        for c in self.callbacks:\n",
    "            c.step()\n",
    "            pass\n",
    "\n",
    "        T(\"val/student_acc\", accs.ss, epoch)\n",
    "        T(\"val/student_f1\", fscores.ss, epoch)\n",
    "        T(\"val/teacher_acc\", accs.ts, epoch)\n",
    "        T(\"val/teacher_f1\", fscores.ts, epoch)\n",
    "        T(\"val/student_loss\", student_running_loss, epoch)\n",
    "        T(\"val/teacher_loss\", teacher_running_loss, epoch)\n",
    "        T(\"val/consistency_cost\", running_ccost, epoch)\n",
    "\n",
    "        T(\"hyperparameters/learning_rate\", self._get_lr(), epoch)\n",
    "        T(\"hyperparameters/lambda_cost_max\", self.lambda_ccost(), epoch)\n",
    "\n",
    "        T(\"max/student_acc\", self.maximum_tracker(\"student_acc\", accs.ss), epoch)\n",
    "        T(\"max/teacher_acc\", self.maximum_tracker(\"teacher_acc\", accs.ts), epoch)\n",
    "        T(\"max/student_f1\", self.maximum_tracker(\"student_f1\", fscores.ss), epoch)\n",
    "        T(\"max/teacher_f1\", self.maximum_tracker(\"teacher_f1\", fscores.ts), epoch)\n",
    "        print(\"Max student / teacher accuracy are %.2f / %.2f\" % (self.maximum_tracker.max[\"student_acc\"], self.maximum_tracker.max[\"teacher_acc\"]))\n",
    "\n",
    "trainer.val_fn = MethodType(val_fn, trainer)\n"
   ]
  },
  {
   "cell_type": "code",
   "execution_count": 38,
   "metadata": {},
   "outputs": [],
   "source": [
    "def test_fn(self):\n",
    "    pass\n",
    "\n",
    "trainer.test_fn = MethodType(test_fn, trainer)\n"
   ]
  },
  {
   "cell_type": "code",
   "execution_count": 39,
   "metadata": {},
   "outputs": [],
   "source": [
    "trainer.set_printing_form = MethodType(set_printing_form, trainer)\n",
    "trainer.set_printing_form()"
   ]
  },
  {
   "cell_type": "markdown",
   "metadata": {},
   "source": [
    "# Training"
   ]
  },
  {
   "cell_type": "code",
   "execution_count": 40,
   "metadata": {},
   "outputs": [],
   "source": [
    "mixup_fn = get_mixup_fn(alpha=args.mixup_alpha)\n",
    "trainer.mixup_fn = MethodType(mixup_fn, trainer)"
   ]
  },
  {
   "source": [
    "trainer.parameters = DotDict(\n",
    "    nb_epoch=args.nb_epoch\n",
    ")\n",
    "\n",
    "def fit(self, resume: bool = False):\n",
    "    start_epoch = 0\n",
    "\n",
    "    self.set_printing_form()\n",
    "    print(self.header)\n",
    "\n",
    "    if resume:\n",
    "        start_epoch = self.checkpoint.epoch_counter\n",
    "\n",
    "    for e in range(start_epoch, self.parameters.nb_epoch):\n",
    "        try:\n",
    "            self.train_fn(e)\n",
    "            self.val_fn(e)\n",
    "\n",
    "        except ValueError as err:\n",
    "            print(\"NaN value detected during training.\")\n",
    "            raise err\n",
    "\n",
    "\n",
    "        self.tensorboard.flush()\n",
    "\n",
    "    self.test_fn()\n",
    "\n",
    "    self.save_hparams(self.parameters)\n",
    "\n",
    "trainer.fit = MethodType(fit, trainer)\n",
    "trainer.fit()"
   ],
   "cell_type": "code",
   "metadata": {
    "collapsed": false,
    "jupyter": {
     "outputs_hidden": false
    },
    "pycharm": {
     "name": "#%%\n"
    },
    "scrolled": true,
    "tags": [
     "outputPrepend"
    ]
   },
   "execution_count": 41,
   "outputs": [
    {
     "output_type": "stream",
     "name": "stdout",
     "text": [
      "  0.9655   0.7606   0.7636   |            0.0692   0.9919   0.9888   0.7800   0.7843   - 9.3919  \n",
      "Max student / teacher accuracy are 0.60 / 0.61\n",
      "\n",
      "Training 56     - 100    -            0.0661   0.0060   0.9785   0.9778   0.7928   0.7785   |            0.0731   0.9839   0.9807   0.7842   0.7905   - 9.3552  \n",
      "Max student / teacher accuracy are 0.60 / 0.61\n",
      "\n",
      "Training 57     - 100    -            0.0349   0.0056   1.0000   0.9953   0.7811   0.7871   |            0.0459   0.9973   0.9938   0.7864   0.7894   - 9.3176  \n",
      "Max student / teacher accuracy are 0.60 / 0.61\n",
      "\n",
      "Training 58     - 100    -            0.0409   0.0056   0.9892   0.9878   0.7848   0.7889   |            0.0605   0.9892   0.9828   0.7892   0.7943   - 9.3801  \n",
      "Max student / teacher accuracy are 0.60 / 0.61\n",
      "\n",
      "Training 59     - 100    -            0.0264   0.0053   0.9946   0.9958   0.7817   0.7855   |            0.0419   0.9973   0.9929   0.7864   0.7915   - 9.3114  \n",
      "Max student / teacher accuracy are 0.60 / 0.61\n",
      "\n",
      "Training 60     - 100    -            0.0759   0.0073   0.9812   0.9780   0.7639   0.7642   |            0.0477   0.9919   0.9926   0.7914   0.7943   - 9.2639  \n",
      "Max student / teacher accuracy are 0.60 / 0.61\n",
      "\n",
      "Training 61     - 100    -            0.0496   0.0071   0.9892   0.9892   0.7709   0.7755   |            0.0402   0.9919   0.9905   0.7898   0.7939   - 9.2336  \n",
      "Max student / teacher accuracy are 0.60 / 0.61\n",
      "\n",
      "Training 62     - 100    -            0.0353   0.0052   0.9919   0.9905   0.8017   0.7893   |            0.0362   0.9973   0.9958   0.8090   0.7975   - 9.2501  \n",
      "Max student / teacher accuracy are 0.60 / 0.61\n",
      "\n",
      "Training 63     - 100    -            0.0307   0.0058   0.9973   0.9973   0.7664   0.7716   |            0.0301   0.9973   0.9973   0.7939   0.7987   - 9.2545  \n",
      "Max student / teacher accuracy are 0.60 / 0.61\n",
      "\n",
      "Training 64     - 100    -            0.0203   0.0039   0.9973   0.9973   0.7875   0.7898   |            0.0259   0.9973   0.9958   0.7962   0.7995   - 9.2862  \n",
      "Max student / teacher accuracy are 0.60 / 0.61\n",
      "\n",
      "Training 65     - 100    -            0.0188   0.0039   1.0000   1.0000   0.7937   0.7955   |            0.0257   0.9973   0.9958   0.7945   0.7992   - 9.2148  \n",
      "Max student / teacher accuracy are 0.60 / 0.61\n",
      "\n",
      "Training 66     - 100    -            0.0334   0.0039   0.9946   0.9941   0.7870   0.7898   |            0.0379   0.9946   0.9946   0.7917   0.7963   - 9.5987  \n",
      "Max student / teacher accuracy are 0.60 / 0.61\n",
      "\n",
      "Training 67     - 100    -            0.0173   0.0038   1.0000   1.0000   0.8028   0.8054   |            0.0211   0.9973   0.9973   0.8078   0.8115   - 9.2632  \n",
      "Max student / teacher accuracy are 0.60 / 0.61\n",
      "\n",
      "Training 68     - 100    -            0.0475   0.0046   0.9839   0.9817   0.7828   0.7860   |            0.0268   0.9946   0.9938   0.7959   0.7981   - 9.3089  \n",
      "Max student / teacher accuracy are 0.60 / 0.61\n",
      "\n",
      "Training 69     - 100    -            0.0676   0.0044   0.9758   0.9743   0.7920   0.7949   |            0.0579   0.9946   0.9839   0.8003   0.8048   - 9.2795  \n",
      "Max student / teacher accuracy are 0.60 / 0.61\n",
      "\n",
      "Training 70     - 100    -            0.1328   0.0099   0.9624   0.9604   0.7750   0.7596   |            0.0223   0.9973   0.9973   0.7923   0.7987   - 9.2537  \n",
      "Max student / teacher accuracy are 0.60 / 0.61\n",
      "\n",
      "Training 71     - 100    -            0.0558   0.0082   0.9812   0.9819   0.7820   0.7879   |            0.0236   1.0000   0.9985   0.7948   0.8006   - 9.3339  \n",
      "Max student / teacher accuracy are 0.60 / 0.61\n",
      "\n",
      "Training 72     - 100    -            0.0447   0.0066   0.9866   0.9848   0.7811   0.7840   |            0.0203   1.0000   0.9985   0.7998   0.8042   - 9.2361  \n",
      "Max student / teacher accuracy are 0.60 / 0.61\n",
      "\n",
      "Training 73     - 100    -            0.0267   0.0064   0.9973   0.9956   0.7889   0.7788   |            0.0161   1.0000   0.9971   0.8131   0.8014   - 9.2739  \n",
      "Max student / teacher accuracy are 0.60 / 0.61\n",
      "\n",
      "Training 74     - 100    -            0.0405   0.0056   0.9946   0.9956   0.7823   0.7886   |            0.0162   1.0000   1.0000   0.8009   0.8036   - 9.2457  \n",
      "Max student / teacher accuracy are 0.60 / 0.61\n",
      "\n",
      "Training 75     - 100    -            0.0172   0.0038   0.9973   0.9985   0.8053   0.7933   |            0.0148   0.9973   0.9973   0.8156   0.8032   - 9.2353  \n",
      "Max student / teacher accuracy are 0.60 / 0.61\n",
      "\n",
      "Training 76     - 100    -            0.0095   0.0027   1.0000   1.0000   0.7912   0.7943   |            0.0149   1.0000   0.9985   0.7964   0.8019   - 9.2301  \n",
      "Max student / teacher accuracy are 0.60 / 0.61\n",
      "\n",
      "Training 77     - 100    -            0.0115   0.0023   1.0000   0.9985   0.7906   0.7932   |            0.0168   0.9973   0.9973   0.7973   0.8027   - 9.2458  \n",
      "Max student / teacher accuracy are 0.60 / 0.61\n",
      "\n",
      "Training 78     - 100    -            0.0124   0.0024   1.0000   1.0000   0.7914   0.7967   |            0.0132   1.0000   0.9985   0.8003   0.8071   - 9.2228  \n",
      "Max student / teacher accuracy are 0.60 / 0.61\n",
      "\n",
      "Training 79     - 100    -            0.0181   0.0027   0.9973   0.9973   0.7953   0.7984   |            0.0140   1.0000   1.0000   0.8009   0.8059   - 9.2691  \n",
      "Max student / teacher accuracy are 0.60 / 0.61\n",
      "\n",
      "Training 80     - 100    -            0.0072   0.0029   1.0000   1.0000   0.8065   0.7923   |            0.0082   1.0000   1.0000   0.8192   0.8217   - 9.2234  \n",
      "Max student / teacher accuracy are 0.60 / 0.61\n",
      "\n",
      "Training 81     - 100    -            0.0120   0.0020   1.0000   0.9968   0.7950   0.7978   |            0.0143   1.0000   1.0000   0.8162   0.8032   - 9.2241  \n",
      "Max student / teacher accuracy are 0.60 / 0.61\n",
      "\n",
      "Training 82     - 100    -            0.0076   0.0018   1.0000   1.0000   0.7984   0.8008   |            0.0099   1.0000   1.0000   0.8026   0.8076   - 9.2094  \n",
      "Max student / teacher accuracy are 0.60 / 0.61\n",
      "\n",
      "Training 83     - 100    -            0.0060   0.0014   1.0000   1.0000   0.8084   0.8137   |            0.0104   1.0000   1.0000   0.8159   0.8042   - 9.2136  \n",
      "Max student / teacher accuracy are 0.60 / 0.61\n",
      "\n",
      "Training 84     - 100    -            0.0046   0.0014   1.0000   1.0000   0.8087   0.7982   |            0.0073   1.0000   1.0000   0.7984   0.8045   - 9.2280  \n",
      "Max student / teacher accuracy are 0.60 / 0.61\n",
      "\n",
      "Training 85     - 100    -            0.0123   0.0010   0.9946   0.9968   0.8154   0.8033   |            0.0138   1.0000   0.9968   0.8001   0.8056   - 9.1864  \n",
      "Max student / teacher accuracy are 0.60 / 0.61\n",
      "\n",
      "Training 86     - 100    -            0.0146   0.0031   0.9973   0.9958   0.7864   0.7903   |            0.0080   1.0000   1.0000   0.8028   0.8068   - 9.2125  \n",
      "Max student / teacher accuracy are 0.60 / 0.61\n",
      "\n",
      "Training 87     - 100    -            0.0131   0.0023   1.0000   1.0000   0.7998   0.7885   |            0.0113   1.0000   1.0000   0.8084   0.7975   - 9.2237  \n",
      "Max student / teacher accuracy are 0.60 / 0.61\n",
      "\n",
      "Training 88     - 100    -            0.0174   0.0029   0.9973   0.9973   0.7906   0.7953   |            0.0085   1.0000   1.0000   0.7981   0.8042   - 9.2299  \n",
      "Max student / teacher accuracy are 0.60 / 0.61\n",
      "\n",
      "Training 89     - 100    -            0.0086   0.0030   1.0000   1.0000   0.8087   0.7998   |            0.0096   0.9973   0.9985   0.8176   0.8066   - 9.2033  \n",
      "Max student / teacher accuracy are 0.60 / 0.61\n",
      "\n",
      "Training 90     - 100    -            0.0058   0.0016   1.0000   1.0000   0.7998   0.8029   |            0.0061   1.0000   1.0000   0.8156   0.8050   - 9.2225  \n",
      "Max student / teacher accuracy are 0.60 / 0.61\n",
      "\n",
      "Training 91     - 100    -            0.0083   0.0014   1.0000   1.0000   0.7989   0.8029   |            0.0086   1.0000   1.0000   0.8014   0.8043   - 9.2437  \n",
      "Max student / teacher accuracy are 0.60 / 0.61\n",
      "\n",
      "Training 92     - 100    -            0.0044   0.0014   1.0000   1.0000   0.8101   0.7981   |            0.0048   1.0000   1.0000   0.8026   0.8066   - 9.2412  \n",
      "Max student / teacher accuracy are 0.60 / 0.61\n",
      "\n",
      "Training 93     - 100    -            0.0113   0.0021   0.9946   0.9958   0.7928   0.7961   |            0.0070   1.0000   1.0000   0.7942   0.8011   - 9.2325  \n",
      "Max student / teacher accuracy are 0.60 / 0.61\n",
      "\n",
      "Training 94     - 100    -            0.0388   0.0072   0.9892   0.9905   0.7811   0.7835   |            0.0088   0.9973   0.9973   0.8009   0.8034   - 9.2056  \n",
      "Max student / teacher accuracy are 0.60 / 0.61\n",
      "\n",
      "Training 95     - 100    -            0.0497   0.0077   0.9892   0.9892   0.7809   0.7809   |            0.0115   1.0000   1.0000   0.8017   0.8061   - 9.4064  \n",
      "Max student / teacher accuracy are 0.60 / 0.61\n",
      "\n",
      "Training 96     - 100    -            0.0351   0.0073   0.9946   0.9932   0.7867   0.7877   |            0.0059   1.0000   1.0000   0.8034   0.8073   - 9.2486  \n",
      "Max student / teacher accuracy are 0.60 / 0.61\n",
      "\n",
      "Training 97     - 100    -            0.0213   0.0038   0.9919   0.9938   0.7964   0.8011   |            0.0081   1.0000   1.0000   0.8023   0.8084   - 9.2886  \n",
      "Max student / teacher accuracy are 0.60 / 0.61\n",
      "\n",
      "Training 98     - 100    -            0.0161   0.0042   1.0000   1.0000   0.7945   0.8008   |            0.0090   1.0000   1.0000   0.8045   0.8082   - 9.2410  \n",
      "Max student / teacher accuracy are 0.60 / 0.61\n",
      "\n",
      "Training 99     - 100    -            0.0144   0.0030   1.0000   1.0000   0.7917   0.7962   |            0.0094   0.9973   0.9973   0.7962   0.7998   - 9.3443  \n",
      "Max student / teacher accuracy are 0.60 / 0.61\n",
      "\n",
      "Training 100    - 100    -            0.0058   0.0021   1.0000   1.0000   0.7951   0.8003   |            0.0046   1.0000   1.0000   0.8009   0.8037   - 9.2902  \n",
      "Max student / teacher accuracy are 0.60 / 0.61\n",
      "\n",
      "Training 101    - 100    -            0.0225   0.0027   0.9946   0.9929   0.8026   0.8058   |            0.0108   0.9973   0.9985   0.8012   0.8047   - 9.2424  \n",
      "Max student / teacher accuracy are 0.60 / 0.61\n",
      "\n",
      "Training 102    - 100    -            0.0054   0.0023   1.0000   1.0000   0.8026   0.8039   |            0.0046   1.0000   1.0000   0.8009   0.8063   - 9.2708  \n",
      "Max student / teacher accuracy are 0.60 / 0.61\n",
      "\n",
      "Training 103    - 100    -            0.0395   0.0014   0.9946   0.9968   0.8023   0.8046   |            0.0379   0.9892   0.9919   0.8034   0.8037   - 9.2357  \n",
      "Max student / teacher accuracy are 0.60 / 0.61\n",
      "\n",
      "Training 104    - 100    -            0.0110   0.0032   0.9973   0.9973   0.8073   0.7947   |            0.0063   1.0000   1.0000   0.8176   0.8207   - 9.2762  \n",
      "Max student / teacher accuracy are 0.60 / 0.61\n",
      "\n",
      "Training 105    - 100    -            0.0062   0.0024   1.0000   1.0000   0.8192   0.8053   |            0.0034   1.0000   1.0000   0.8195   0.8078   - 9.2183  \n",
      "Max student / teacher accuracy are 0.60 / 0.61\n",
      "\n",
      "Training 106    - 100    -            0.0062   0.0013   1.0000   0.9985   0.8003   0.8038   |            0.0036   1.0000   1.0000   0.7995   0.8044   - 9.2284  \n",
      "Max student / teacher accuracy are 0.60 / 0.61\n",
      "\n",
      "Training 107    - 100    -            0.0036   0.0010   1.0000   1.0000   0.8195   0.8215   |            0.0038   1.0000   1.0000   0.8151   0.8184   - 9.2337  \n",
      "Max student / teacher accuracy are 0.60 / 0.61\n",
      "\n",
      "Training 108    - 100    -            0.0038   0.0007   1.0000   1.0000   0.8001   0.8052   |            0.0039   1.0000   1.0000   0.7992   0.8047   - 9.2086  \n",
      "Max student / teacher accuracy are 0.60 / 0.61\n",
      "\n",
      "Training 109    - 100    -            0.0027   0.0010   1.0000   1.0000   0.7984   0.8015   |            0.0029   1.0000   1.0000   0.8017   0.8067   - 9.2310  \n",
      "Max student / teacher accuracy are 0.60 / 0.61\n",
      "\n",
      "Training 110    - 100    -            0.0087   0.0010   1.0000   0.9985   0.8026   0.8068   |            0.0067   1.0000   1.0000   0.8181   0.8061   - 9.1975  \n",
      "Max student / teacher accuracy are 0.60 / 0.61\n",
      "\n",
      "Training 111    - 100    -            0.0052   0.0009   1.0000   0.9985   0.8020   0.8065   |            0.0049   1.0000   0.9985   0.8192   0.8053   - 9.2634  \n",
      "Max student / teacher accuracy are 0.60 / 0.61\n",
      "\n",
      "Training 112    - 100    -            0.0122   0.0022   0.9973   0.9973   0.8115   0.7983   |            0.0078   1.0000   0.9985   0.8201   0.8067   - 9.2438  \n",
      "Max student / teacher accuracy are 0.60 / 0.61\n",
      "\n",
      "Training 113    - 100    -            0.0091   0.0017   0.9973   0.9973   0.8090   0.8111   |            0.0061   1.0000   1.0000   0.8112   0.8156   - 9.2558  \n",
      "Max student / teacher accuracy are 0.60 / 0.61\n",
      "\n",
      "Training 114    - 100    -            0.0153   0.0019   0.9946   0.9946   0.8098   0.8149   |            0.0066   1.0000   1.0000   0.8220   0.8103   - 9.2379  \n",
      "Max student / teacher accuracy are 0.60 / 0.61\n",
      "\n",
      "Training 115    - 100    -            0.0061   0.0017   1.0000   1.0000   0.8181   0.8205   |            0.0054   1.0000   0.9985   0.8198   0.8219   - 9.2510  \n",
      "Max student / teacher accuracy are 0.60 / 0.61\n",
      "\n",
      "Training 116    - 100    -            0.0030   0.0010   1.0000   1.0000   0.8165   0.8022   |            0.0023   1.0000   1.0000   0.8176   0.8046   - 9.2445  \n",
      "Max student / teacher accuracy are 0.60 / 0.61\n",
      "\n",
      "Training 117    - 100    -            0.0057   0.0012   0.9973   0.9985   0.8195   0.8231   |            0.0037   1.0000   1.0000   0.8204   0.8252   - 9.2189  \n",
      "Max student / teacher accuracy are 0.60 / 0.61\n",
      "\n",
      "Training 118    - 100    -            0.0037   0.0008   1.0000   1.0000   0.8014   0.8061   |            0.0033   1.0000   1.0000   0.8034   0.8081   - 9.3362  \n",
      "Max student / teacher accuracy are 0.60 / 0.61\n",
      "\n",
      "Training 119    - 100    -            0.0029   0.0005   1.0000   1.0000   0.8173   0.8009   |            0.0028   1.0000   1.0000   0.8123   0.8009   - 9.2501  \n",
      "Max student / teacher accuracy are 0.60 / 0.61\n",
      "\n",
      "Training 120    - 100    -            0.0013   0.0004   1.0000   1.0000   0.8017   0.8021   |            0.0016   1.0000   1.0000   0.7962   0.7999   - 9.2747  \n",
      "Max student / teacher accuracy are 0.60 / 0.61\n",
      "\n",
      "Training 121    - 100    -            0.0021   0.0003   1.0000   1.0000   0.8053   0.8084   |            0.0019   1.0000   1.0000   0.8048   0.8069   - 9.2026  \n",
      "Max student / teacher accuracy are 0.60 / 0.61\n",
      "\n",
      "Training 122    - 100    -            0.0034   0.0003   1.0000   1.0000   0.8162   0.8027   |            0.0041   1.0000   1.0000   0.8156   0.8021   - 9.2400  \n",
      "Max student / teacher accuracy are 0.60 / 0.61\n",
      "\n",
      "Training 123    - 100    -            0.0037   0.0002   1.0000   1.0000   0.8048   0.8069   |            0.0039   1.0000   1.0000   0.8037   0.8075   - 9.1970  \n",
      "Max student / teacher accuracy are 0.60 / 0.61\n",
      "\n",
      "Training 124    - 100    -            0.0025   0.0004   1.0000   1.0000   0.8198   0.8224   |            0.0032   1.0000   1.0000   0.8187   0.8201   - 9.2797  \n",
      "Max student / teacher accuracy are 0.60 / 0.61\n",
      "\n",
      "Training 125    - 100    -            0.0024   0.0003   1.0000   1.0000   0.8048   0.8086   |            0.0027   1.0000   1.0000   0.8056   0.8090   - 9.3653  \n",
      "Max student / teacher accuracy are 0.60 / 0.61\n",
      "\n",
      "Training 126    - 100    -            0.0036   0.0002   1.0000   1.0000   0.8051   0.8060   |            0.0038   1.0000   1.0000   0.8037   0.8056   - 9.3901  \n",
      "Max student / teacher accuracy are 0.60 / 0.61\n",
      "\n",
      "Training 127    - 100    -            0.0023   0.0003   1.0000   1.0000   0.8048   0.8078   |            0.0022   1.0000   1.0000   0.8037   0.8079   - 9.4387  \n",
      "Max student / teacher accuracy are 0.60 / 0.61\n",
      "\n",
      "Training 128    - 100    -            0.0013   0.0002   1.0000   1.0000   0.8229   0.8098   |            0.0016   1.0000   1.0000   0.8192   0.8054   - 9.2617  \n",
      "Max student / teacher accuracy are 0.60 / 0.61\n",
      "\n",
      "Training 129    - 100    -            0.0038   0.0001   1.0000   1.0000   0.8034   0.8099   |            0.0040   1.0000   1.0000   0.8012   0.8071   - 9.2651  \n",
      "Max student / teacher accuracy are 0.60 / 0.61\n",
      "\n",
      "Training 130    - 100    -            0.0063   0.0006   0.9973   0.9973   0.8012   0.8041   |            0.0065   0.9973   0.9973   0.8026   0.8049   - 9.3192  \n",
      "Max student / teacher accuracy are 0.60 / 0.61\n",
      "\n",
      "Training 131    - 100    -            0.0108   0.0007   0.9973   0.9985   0.8020   0.8073   |            0.0072   0.9973   0.9985   0.8042   0.8073   - 9.2780  \n",
      "Max student / teacher accuracy are 0.60 / 0.61\n",
      "\n",
      "Training 132    - 100    -            0.0017   0.0003   1.0000   1.0000   0.8031   0.8073   |            0.0018   1.0000   1.0000   0.8028   0.8043   - 9.2771  \n",
      "Max student / teacher accuracy are 0.60 / 0.61\n",
      "\n",
      "Training 133    - 100    -            0.0019   0.0002   1.0000   1.0000   0.8078   0.8108   |            0.0019   1.0000   1.0000   0.8067   0.8098   - 9.2340  \n",
      "Max student / teacher accuracy are 0.60 / 0.61\n",
      "\n",
      "Training 134    - 100    -            0.0015   0.0001   1.0000   1.0000   0.8037   0.8049   |            0.0018   1.0000   1.0000   0.8014   0.8049   - 9.2154  \n",
      "Max student / teacher accuracy are 0.60 / 0.61\n",
      "\n",
      "Training 135    - 100    -            0.0023   0.0001   1.0000   1.0000   0.8220   0.8060   |            0.0032   1.0000   1.0000   0.8187   0.8052   - 9.2212  \n",
      "Max student / teacher accuracy are 0.60 / 0.61\n",
      "\n",
      "Training 136    - 100    -            0.0092   0.0002   1.0000   0.9968   0.8076   0.8118   |            0.0101   1.0000   0.9968   0.8065   0.8109   - 9.2465  \n",
      "Max student / teacher accuracy are 0.60 / 0.61\n",
      "\n",
      "Training 137    - 100    -            0.0025   0.0002   1.0000   1.0000   0.8201   0.8223   |            0.0032   1.0000   1.0000   0.8201   0.8236   - 9.2622  \n",
      "Max student / teacher accuracy are 0.60 / 0.61\n",
      "\n",
      "Training 138    - 100    -            0.0021   0.0002   1.0000   1.0000   0.8251   0.8137   |            0.0020   1.0000   1.0000   0.8242   0.8281   - 9.3822  \n",
      "Max student / teacher accuracy are 0.60 / 0.61\n",
      "\n",
      "Training 139    - 100    -            0.0054   0.0001   1.0000   1.0000   0.8234   0.8092   |            0.0056   1.0000   1.0000   0.8220   0.8075   - 9.3044  \n",
      "Max student / teacher accuracy are 0.60 / 0.61\n",
      "\n",
      "Training 140    - 100    -            0.0026   0.0001   1.0000   1.0000   0.8248   0.8118   |            0.0030   1.0000   1.0000   0.8231   0.8109   - 9.2938  \n",
      "Max student / teacher accuracy are 0.60 / 0.61\n",
      "\n",
      "Training 141    - 100    -            0.0012   0.0001   1.0000   1.0000   0.8090   0.8103   |            0.0014   1.0000   1.0000   0.8076   0.8091   - 9.2382  \n",
      "Max student / teacher accuracy are 0.60 / 0.61\n",
      "\n",
      "Training 142    - 100    -            0.0037   0.0001   0.9973   0.9985   0.8045   0.8060   |            0.0045   0.9973   0.9973   0.8039   0.8065   - 9.1976  \n",
      "Max student / teacher accuracy are 0.60 / 0.61\n",
      "\n",
      "Training 143    - 100    -            0.0055   0.0001   1.0000   0.9985   0.8042   0.8054   |            0.0064   1.0000   0.9968   0.8051   0.8083   - 9.2719  \n",
      "Max student / teacher accuracy are 0.60 / 0.61\n",
      "\n",
      "Training 144    - 100    -            0.0036   0.0001   1.0000   1.0000   0.8014   0.8063   |            0.0042   1.0000   1.0000   0.8014   0.8049   - 9.2333  \n",
      "Max student / teacher accuracy are 0.60 / 0.61\n",
      "\n",
      "Training 145    - 100    -            0.0028   0.0001   1.0000   1.0000   0.8184   0.8037   |            0.0031   1.0000   1.0000   0.8179   0.8038   - 9.3405  \n",
      "Max student / teacher accuracy are 0.60 / 0.61\n",
      "\n",
      "Training 146    - 100    -            0.0014   0.0001   1.0000   1.0000   0.8059   0.8065   |            0.0015   1.0000   1.0000   0.8045   0.8064   - 9.1907  \n",
      "Max student / teacher accuracy are 0.60 / 0.61\n",
      "\n",
      "Training 147    - 100    -            0.0027   0.0001   1.0000   1.0000   0.8048   0.8077   |            0.0030   1.0000   1.0000   0.8048   0.8080   - 9.2763  \n",
      "Max student / teacher accuracy are 0.60 / 0.61\n",
      "\n",
      "Training 148    - 100    -            0.0014   0.0000   1.0000   1.0000   0.8059   0.8072   |            0.0016   1.0000   1.0000   0.8051   0.8070   - 9.1937  \n",
      "Max student / teacher accuracy are 0.60 / 0.61\n",
      "\n",
      "Training 149    - 100    -            0.0033   0.0000   1.0000   1.0000   0.8204   0.8077   |            0.0035   1.0000   1.0000   0.8209   0.8089   - 9.2466  \n",
      "Max student / teacher accuracy are 0.60 / 0.61\n",
      "\n",
      "Training 150    - 100    -            0.0016   0.0000   1.0000   1.0000   0.8045   0.8066   |            0.0016   1.0000   1.0000   0.8045   0.8073   - 9.2591  \n",
      "Max student / teacher accuracy are 0.60 / 0.61\n"
     ]
    }
   ]
  },
  {
   "cell_type": "code",
   "execution_count": 42,
   "metadata": {},
   "outputs": [
    {
     "output_type": "execute_result",
     "data": {
      "text/plain": [
       "'.        Epoch  - %      - Student:   ce       ccost    acc_s    f1_s     acc_u    f1_u     | Teacher:   ce       acc_s    f1_s     acc_u    f1_u     - Time    '"
      ]
     },
     "metadata": {},
     "execution_count": 42
    }
   ],
   "source": [
    "trainer.header"
   ]
  },
  {
   "cell_type": "code",
   "execution_count": 43,
   "metadata": {},
   "outputs": [
    {
     "output_type": "execute_result",
     "data": {
      "text/plain": [
       "62"
      ]
     },
     "metadata": {},
     "execution_count": 43
    }
   ],
   "source": [
    "len(trainer.train_loader)"
   ]
  },
  {
   "cell_type": "code",
   "execution_count": 44,
   "metadata": {},
   "outputs": [
    {
     "output_type": "stream",
     "name": "stdout",
     "text": [
      "0\n4\n1\n16\n32\n"
     ]
    }
   ],
   "source": [
    "bs = 16\n",
    "cs = 64\n",
    "bn = 5\n",
    "\n",
    "chunk_idx = (bs // cs) * bn\n",
    "chunk_nb_split = (cs // bs)\n",
    "split_number = (bn % chunk_nb_split)\n",
    "start_offset = split_number * bs\n",
    "end_offset = start_offset + bs\n",
    "\n",
    "print(chunk_idx)\n",
    "print(chunk_nb_split)\n",
    "print(split_number)\n",
    "print(start_offset)\n",
    "print(end_offset)"
   ]
  },
  {
   "cell_type": "code",
   "execution_count": 45,
   "metadata": {},
   "outputs": [
    {
     "output_type": "display_data",
     "data": {
      "text/plain": "<Figure size 2160x1008 with 2 Axes>",
      "image/svg+xml": "<?xml version=\"1.0\" encoding=\"utf-8\" standalone=\"no\"?>\n<!DOCTYPE svg PUBLIC \"-//W3C//DTD SVG 1.1//EN\"\n  \"http://www.w3.org/Graphics/SVG/1.1/DTD/svg11.dtd\">\n<!-- Created with matplotlib (https://matplotlib.org/) -->\n<svg height=\"377.005398pt\" version=\"1.1\" viewBox=\"0 0 1717.665625 377.005398\" width=\"1717.665625pt\" xmlns=\"http://www.w3.org/2000/svg\" xmlns:xlink=\"http://www.w3.org/1999/xlink\">\n <defs>\n  <style type=\"text/css\">\n*{stroke-linecap:butt;stroke-linejoin:round;}\n  </style>\n </defs>\n <g id=\"figure_1\">\n  <g id=\"patch_1\">\n   <path d=\"M 0 377.005398 \nL 1717.665625 377.005398 \nL 1717.665625 -0 \nL 0 -0 \nz\n\" style=\"fill:none;\"/>\n  </g>\n  <g id=\"axes_1\">\n   <g id=\"patch_2\">\n    <path d=\"M 36.465625 353.127273 \nL 528.818566 353.127273 \nL 528.818566 7.2 \nL 36.465625 7.2 \nz\n\" style=\"fill:#ffffff;\"/>\n   </g>\n   <g id=\"matplotlib.axis_1\">\n    <g id=\"xtick_1\">\n     <g id=\"line2d_1\">\n      <defs>\n       <path d=\"M 0 0 \nL 0 3.5 \n\" id=\"m4a9157c81d\" style=\"stroke:#000000;stroke-width:0.8;\"/>\n      </defs>\n      <g>\n       <use style=\"stroke:#000000;stroke-width:0.8;\" x=\"58.845304\" xlink:href=\"#m4a9157c81d\" y=\"353.127273\"/>\n      </g>\n     </g>\n     <g id=\"text_1\">\n      <!-- 0 -->\n      <defs>\n       <path d=\"M 31.78125 66.40625 \nQ 24.171875 66.40625 20.328125 58.90625 \nQ 16.5 51.421875 16.5 36.375 \nQ 16.5 21.390625 20.328125 13.890625 \nQ 24.171875 6.390625 31.78125 6.390625 \nQ 39.453125 6.390625 43.28125 13.890625 \nQ 47.125 21.390625 47.125 36.375 \nQ 47.125 51.421875 43.28125 58.90625 \nQ 39.453125 66.40625 31.78125 66.40625 \nz\nM 31.78125 74.21875 \nQ 44.046875 74.21875 50.515625 64.515625 \nQ 56.984375 54.828125 56.984375 36.375 \nQ 56.984375 17.96875 50.515625 8.265625 \nQ 44.046875 -1.421875 31.78125 -1.421875 \nQ 19.53125 -1.421875 13.0625 8.265625 \nQ 6.59375 17.96875 6.59375 36.375 \nQ 6.59375 54.828125 13.0625 64.515625 \nQ 19.53125 74.21875 31.78125 74.21875 \nz\n\" id=\"DejaVuSans-48\"/>\n      </defs>\n      <g transform=\"translate(55.664054 367.72571)scale(0.1 -0.1)\">\n       <use xlink:href=\"#DejaVuSans-48\"/>\n      </g>\n     </g>\n    </g>\n    <g id=\"xtick_2\">\n     <g id=\"line2d_2\">\n      <g>\n       <use style=\"stroke:#000000;stroke-width:0.8;\" x=\"118.92498\" xlink:href=\"#m4a9157c81d\" y=\"353.127273\"/>\n      </g>\n     </g>\n     <g id=\"text_2\">\n      <!-- 20 -->\n      <defs>\n       <path d=\"M 19.1875 8.296875 \nL 53.609375 8.296875 \nL 53.609375 0 \nL 7.328125 0 \nL 7.328125 8.296875 \nQ 12.9375 14.109375 22.625 23.890625 \nQ 32.328125 33.6875 34.8125 36.53125 \nQ 39.546875 41.84375 41.421875 45.53125 \nQ 43.3125 49.21875 43.3125 52.78125 \nQ 43.3125 58.59375 39.234375 62.25 \nQ 35.15625 65.921875 28.609375 65.921875 \nQ 23.96875 65.921875 18.8125 64.3125 \nQ 13.671875 62.703125 7.8125 59.421875 \nL 7.8125 69.390625 \nQ 13.765625 71.78125 18.9375 73 \nQ 24.125 74.21875 28.421875 74.21875 \nQ 39.75 74.21875 46.484375 68.546875 \nQ 53.21875 62.890625 53.21875 53.421875 \nQ 53.21875 48.921875 51.53125 44.890625 \nQ 49.859375 40.875 45.40625 35.40625 \nQ 44.1875 33.984375 37.640625 27.21875 \nQ 31.109375 20.453125 19.1875 8.296875 \nz\n\" id=\"DejaVuSans-50\"/>\n      </defs>\n      <g transform=\"translate(112.56248 367.72571)scale(0.1 -0.1)\">\n       <use xlink:href=\"#DejaVuSans-50\"/>\n       <use x=\"63.623047\" xlink:href=\"#DejaVuSans-48\"/>\n      </g>\n     </g>\n    </g>\n    <g id=\"xtick_3\">\n     <g id=\"line2d_3\">\n      <g>\n       <use style=\"stroke:#000000;stroke-width:0.8;\" x=\"179.004655\" xlink:href=\"#m4a9157c81d\" y=\"353.127273\"/>\n      </g>\n     </g>\n     <g id=\"text_3\">\n      <!-- 40 -->\n      <defs>\n       <path d=\"M 37.796875 64.3125 \nL 12.890625 25.390625 \nL 37.796875 25.390625 \nz\nM 35.203125 72.90625 \nL 47.609375 72.90625 \nL 47.609375 25.390625 \nL 58.015625 25.390625 \nL 58.015625 17.1875 \nL 47.609375 17.1875 \nL 47.609375 0 \nL 37.796875 0 \nL 37.796875 17.1875 \nL 4.890625 17.1875 \nL 4.890625 26.703125 \nz\n\" id=\"DejaVuSans-52\"/>\n      </defs>\n      <g transform=\"translate(172.642155 367.72571)scale(0.1 -0.1)\">\n       <use xlink:href=\"#DejaVuSans-52\"/>\n       <use x=\"63.623047\" xlink:href=\"#DejaVuSans-48\"/>\n      </g>\n     </g>\n    </g>\n    <g id=\"xtick_4\">\n     <g id=\"line2d_4\">\n      <g>\n       <use style=\"stroke:#000000;stroke-width:0.8;\" x=\"239.084331\" xlink:href=\"#m4a9157c81d\" y=\"353.127273\"/>\n      </g>\n     </g>\n     <g id=\"text_4\">\n      <!-- 60 -->\n      <defs>\n       <path d=\"M 33.015625 40.375 \nQ 26.375 40.375 22.484375 35.828125 \nQ 18.609375 31.296875 18.609375 23.390625 \nQ 18.609375 15.53125 22.484375 10.953125 \nQ 26.375 6.390625 33.015625 6.390625 \nQ 39.65625 6.390625 43.53125 10.953125 \nQ 47.40625 15.53125 47.40625 23.390625 \nQ 47.40625 31.296875 43.53125 35.828125 \nQ 39.65625 40.375 33.015625 40.375 \nz\nM 52.59375 71.296875 \nL 52.59375 62.3125 \nQ 48.875 64.0625 45.09375 64.984375 \nQ 41.3125 65.921875 37.59375 65.921875 \nQ 27.828125 65.921875 22.671875 59.328125 \nQ 17.53125 52.734375 16.796875 39.40625 \nQ 19.671875 43.65625 24.015625 45.921875 \nQ 28.375 48.1875 33.59375 48.1875 \nQ 44.578125 48.1875 50.953125 41.515625 \nQ 57.328125 34.859375 57.328125 23.390625 \nQ 57.328125 12.15625 50.6875 5.359375 \nQ 44.046875 -1.421875 33.015625 -1.421875 \nQ 20.359375 -1.421875 13.671875 8.265625 \nQ 6.984375 17.96875 6.984375 36.375 \nQ 6.984375 53.65625 15.1875 63.9375 \nQ 23.390625 74.21875 37.203125 74.21875 \nQ 40.921875 74.21875 44.703125 73.484375 \nQ 48.484375 72.75 52.59375 71.296875 \nz\n\" id=\"DejaVuSans-54\"/>\n      </defs>\n      <g transform=\"translate(232.721831 367.72571)scale(0.1 -0.1)\">\n       <use xlink:href=\"#DejaVuSans-54\"/>\n       <use x=\"63.623047\" xlink:href=\"#DejaVuSans-48\"/>\n      </g>\n     </g>\n    </g>\n    <g id=\"xtick_5\">\n     <g id=\"line2d_5\">\n      <g>\n       <use style=\"stroke:#000000;stroke-width:0.8;\" x=\"299.164006\" xlink:href=\"#m4a9157c81d\" y=\"353.127273\"/>\n      </g>\n     </g>\n     <g id=\"text_5\">\n      <!-- 80 -->\n      <defs>\n       <path d=\"M 31.78125 34.625 \nQ 24.75 34.625 20.71875 30.859375 \nQ 16.703125 27.09375 16.703125 20.515625 \nQ 16.703125 13.921875 20.71875 10.15625 \nQ 24.75 6.390625 31.78125 6.390625 \nQ 38.8125 6.390625 42.859375 10.171875 \nQ 46.921875 13.96875 46.921875 20.515625 \nQ 46.921875 27.09375 42.890625 30.859375 \nQ 38.875 34.625 31.78125 34.625 \nz\nM 21.921875 38.8125 \nQ 15.578125 40.375 12.03125 44.71875 \nQ 8.5 49.078125 8.5 55.328125 \nQ 8.5 64.0625 14.71875 69.140625 \nQ 20.953125 74.21875 31.78125 74.21875 \nQ 42.671875 74.21875 48.875 69.140625 \nQ 55.078125 64.0625 55.078125 55.328125 \nQ 55.078125 49.078125 51.53125 44.71875 \nQ 48 40.375 41.703125 38.8125 \nQ 48.828125 37.15625 52.796875 32.3125 \nQ 56.78125 27.484375 56.78125 20.515625 \nQ 56.78125 9.90625 50.3125 4.234375 \nQ 43.84375 -1.421875 31.78125 -1.421875 \nQ 19.734375 -1.421875 13.25 4.234375 \nQ 6.78125 9.90625 6.78125 20.515625 \nQ 6.78125 27.484375 10.78125 32.3125 \nQ 14.796875 37.15625 21.921875 38.8125 \nz\nM 18.3125 54.390625 \nQ 18.3125 48.734375 21.84375 45.5625 \nQ 25.390625 42.390625 31.78125 42.390625 \nQ 38.140625 42.390625 41.71875 45.5625 \nQ 45.3125 48.734375 45.3125 54.390625 \nQ 45.3125 60.0625 41.71875 63.234375 \nQ 38.140625 66.40625 31.78125 66.40625 \nQ 25.390625 66.40625 21.84375 63.234375 \nQ 18.3125 60.0625 18.3125 54.390625 \nz\n\" id=\"DejaVuSans-56\"/>\n      </defs>\n      <g transform=\"translate(292.801506 367.72571)scale(0.1 -0.1)\">\n       <use xlink:href=\"#DejaVuSans-56\"/>\n       <use x=\"63.623047\" xlink:href=\"#DejaVuSans-48\"/>\n      </g>\n     </g>\n    </g>\n    <g id=\"xtick_6\">\n     <g id=\"line2d_6\">\n      <g>\n       <use style=\"stroke:#000000;stroke-width:0.8;\" x=\"359.243682\" xlink:href=\"#m4a9157c81d\" y=\"353.127273\"/>\n      </g>\n     </g>\n     <g id=\"text_6\">\n      <!-- 100 -->\n      <defs>\n       <path d=\"M 12.40625 8.296875 \nL 28.515625 8.296875 \nL 28.515625 63.921875 \nL 10.984375 60.40625 \nL 10.984375 69.390625 \nL 28.421875 72.90625 \nL 38.28125 72.90625 \nL 38.28125 8.296875 \nL 54.390625 8.296875 \nL 54.390625 0 \nL 12.40625 0 \nz\n\" id=\"DejaVuSans-49\"/>\n      </defs>\n      <g transform=\"translate(349.699932 367.72571)scale(0.1 -0.1)\">\n       <use xlink:href=\"#DejaVuSans-49\"/>\n       <use x=\"63.623047\" xlink:href=\"#DejaVuSans-48\"/>\n       <use x=\"127.246094\" xlink:href=\"#DejaVuSans-48\"/>\n      </g>\n     </g>\n    </g>\n    <g id=\"xtick_7\">\n     <g id=\"line2d_7\">\n      <g>\n       <use style=\"stroke:#000000;stroke-width:0.8;\" x=\"419.323357\" xlink:href=\"#m4a9157c81d\" y=\"353.127273\"/>\n      </g>\n     </g>\n     <g id=\"text_7\">\n      <!-- 120 -->\n      <g transform=\"translate(409.779607 367.72571)scale(0.1 -0.1)\">\n       <use xlink:href=\"#DejaVuSans-49\"/>\n       <use x=\"63.623047\" xlink:href=\"#DejaVuSans-50\"/>\n       <use x=\"127.246094\" xlink:href=\"#DejaVuSans-48\"/>\n      </g>\n     </g>\n    </g>\n    <g id=\"xtick_8\">\n     <g id=\"line2d_8\">\n      <g>\n       <use style=\"stroke:#000000;stroke-width:0.8;\" x=\"479.403033\" xlink:href=\"#m4a9157c81d\" y=\"353.127273\"/>\n      </g>\n     </g>\n     <g id=\"text_8\">\n      <!-- 140 -->\n      <g transform=\"translate(469.859283 367.72571)scale(0.1 -0.1)\">\n       <use xlink:href=\"#DejaVuSans-49\"/>\n       <use x=\"63.623047\" xlink:href=\"#DejaVuSans-52\"/>\n       <use x=\"127.246094\" xlink:href=\"#DejaVuSans-48\"/>\n      </g>\n     </g>\n    </g>\n   </g>\n   <g id=\"matplotlib.axis_2\">\n    <g id=\"ytick_1\">\n     <g id=\"line2d_9\">\n      <defs>\n       <path d=\"M 0 0 \nL -3.5 0 \n\" id=\"m8da1292695\" style=\"stroke:#000000;stroke-width:0.8;\"/>\n      </defs>\n      <g>\n       <use style=\"stroke:#000000;stroke-width:0.8;\" x=\"36.465625\" xlink:href=\"#m8da1292695\" y=\"341.773625\"/>\n      </g>\n     </g>\n     <g id=\"text_9\">\n      <!-- 0.25 -->\n      <defs>\n       <path d=\"M 10.6875 12.40625 \nL 21 12.40625 \nL 21 0 \nL 10.6875 0 \nz\n\" id=\"DejaVuSans-46\"/>\n       <path d=\"M 10.796875 72.90625 \nL 49.515625 72.90625 \nL 49.515625 64.59375 \nL 19.828125 64.59375 \nL 19.828125 46.734375 \nQ 21.96875 47.46875 24.109375 47.828125 \nQ 26.265625 48.1875 28.421875 48.1875 \nQ 40.625 48.1875 47.75 41.5 \nQ 54.890625 34.8125 54.890625 23.390625 \nQ 54.890625 11.625 47.5625 5.09375 \nQ 40.234375 -1.421875 26.90625 -1.421875 \nQ 22.3125 -1.421875 17.546875 -0.640625 \nQ 12.796875 0.140625 7.71875 1.703125 \nL 7.71875 11.625 \nQ 12.109375 9.234375 16.796875 8.0625 \nQ 21.484375 6.890625 26.703125 6.890625 \nQ 35.15625 6.890625 40.078125 11.328125 \nQ 45.015625 15.765625 45.015625 23.390625 \nQ 45.015625 31 40.078125 35.4375 \nQ 35.15625 39.890625 26.703125 39.890625 \nQ 22.75 39.890625 18.8125 39.015625 \nQ 14.890625 38.140625 10.796875 36.28125 \nz\n\" id=\"DejaVuSans-53\"/>\n      </defs>\n      <g transform=\"translate(7.2 345.572844)scale(0.1 -0.1)\">\n       <use xlink:href=\"#DejaVuSans-48\"/>\n       <use x=\"63.623047\" xlink:href=\"#DejaVuSans-46\"/>\n       <use x=\"95.410156\" xlink:href=\"#DejaVuSans-50\"/>\n       <use x=\"159.033203\" xlink:href=\"#DejaVuSans-53\"/>\n      </g>\n     </g>\n    </g>\n    <g id=\"ytick_2\">\n     <g id=\"line2d_10\">\n      <g>\n       <use style=\"stroke:#000000;stroke-width:0.8;\" x=\"36.465625\" xlink:href=\"#m8da1292695\" y=\"298.070648\"/>\n      </g>\n     </g>\n     <g id=\"text_10\">\n      <!-- 0.30 -->\n      <defs>\n       <path d=\"M 40.578125 39.3125 \nQ 47.65625 37.796875 51.625 33 \nQ 55.609375 28.21875 55.609375 21.1875 \nQ 55.609375 10.40625 48.1875 4.484375 \nQ 40.765625 -1.421875 27.09375 -1.421875 \nQ 22.515625 -1.421875 17.65625 -0.515625 \nQ 12.796875 0.390625 7.625 2.203125 \nL 7.625 11.71875 \nQ 11.71875 9.328125 16.59375 8.109375 \nQ 21.484375 6.890625 26.8125 6.890625 \nQ 36.078125 6.890625 40.9375 10.546875 \nQ 45.796875 14.203125 45.796875 21.1875 \nQ 45.796875 27.640625 41.28125 31.265625 \nQ 36.765625 34.90625 28.71875 34.90625 \nL 20.21875 34.90625 \nL 20.21875 43.015625 \nL 29.109375 43.015625 \nQ 36.375 43.015625 40.234375 45.921875 \nQ 44.09375 48.828125 44.09375 54.296875 \nQ 44.09375 59.90625 40.109375 62.90625 \nQ 36.140625 65.921875 28.71875 65.921875 \nQ 24.65625 65.921875 20.015625 65.03125 \nQ 15.375 64.15625 9.8125 62.3125 \nL 9.8125 71.09375 \nQ 15.4375 72.65625 20.34375 73.4375 \nQ 25.25 74.21875 29.59375 74.21875 \nQ 40.828125 74.21875 47.359375 69.109375 \nQ 53.90625 64.015625 53.90625 55.328125 \nQ 53.90625 49.265625 50.4375 45.09375 \nQ 46.96875 40.921875 40.578125 39.3125 \nz\n\" id=\"DejaVuSans-51\"/>\n      </defs>\n      <g transform=\"translate(7.2 301.869867)scale(0.1 -0.1)\">\n       <use xlink:href=\"#DejaVuSans-48\"/>\n       <use x=\"63.623047\" xlink:href=\"#DejaVuSans-46\"/>\n       <use x=\"95.410156\" xlink:href=\"#DejaVuSans-51\"/>\n       <use x=\"159.033203\" xlink:href=\"#DejaVuSans-48\"/>\n      </g>\n     </g>\n    </g>\n    <g id=\"ytick_3\">\n     <g id=\"line2d_11\">\n      <g>\n       <use style=\"stroke:#000000;stroke-width:0.8;\" x=\"36.465625\" xlink:href=\"#m8da1292695\" y=\"254.367671\"/>\n      </g>\n     </g>\n     <g id=\"text_11\">\n      <!-- 0.35 -->\n      <g transform=\"translate(7.2 258.16689)scale(0.1 -0.1)\">\n       <use xlink:href=\"#DejaVuSans-48\"/>\n       <use x=\"63.623047\" xlink:href=\"#DejaVuSans-46\"/>\n       <use x=\"95.410156\" xlink:href=\"#DejaVuSans-51\"/>\n       <use x=\"159.033203\" xlink:href=\"#DejaVuSans-53\"/>\n      </g>\n     </g>\n    </g>\n    <g id=\"ytick_4\">\n     <g id=\"line2d_12\">\n      <g>\n       <use style=\"stroke:#000000;stroke-width:0.8;\" x=\"36.465625\" xlink:href=\"#m8da1292695\" y=\"210.664694\"/>\n      </g>\n     </g>\n     <g id=\"text_12\">\n      <!-- 0.40 -->\n      <g transform=\"translate(7.2 214.463913)scale(0.1 -0.1)\">\n       <use xlink:href=\"#DejaVuSans-48\"/>\n       <use x=\"63.623047\" xlink:href=\"#DejaVuSans-46\"/>\n       <use x=\"95.410156\" xlink:href=\"#DejaVuSans-52\"/>\n       <use x=\"159.033203\" xlink:href=\"#DejaVuSans-48\"/>\n      </g>\n     </g>\n    </g>\n    <g id=\"ytick_5\">\n     <g id=\"line2d_13\">\n      <g>\n       <use style=\"stroke:#000000;stroke-width:0.8;\" x=\"36.465625\" xlink:href=\"#m8da1292695\" y=\"166.961717\"/>\n      </g>\n     </g>\n     <g id=\"text_13\">\n      <!-- 0.45 -->\n      <g transform=\"translate(7.2 170.760936)scale(0.1 -0.1)\">\n       <use xlink:href=\"#DejaVuSans-48\"/>\n       <use x=\"63.623047\" xlink:href=\"#DejaVuSans-46\"/>\n       <use x=\"95.410156\" xlink:href=\"#DejaVuSans-52\"/>\n       <use x=\"159.033203\" xlink:href=\"#DejaVuSans-53\"/>\n      </g>\n     </g>\n    </g>\n    <g id=\"ytick_6\">\n     <g id=\"line2d_14\">\n      <g>\n       <use style=\"stroke:#000000;stroke-width:0.8;\" x=\"36.465625\" xlink:href=\"#m8da1292695\" y=\"123.25874\"/>\n      </g>\n     </g>\n     <g id=\"text_14\">\n      <!-- 0.50 -->\n      <g transform=\"translate(7.2 127.057959)scale(0.1 -0.1)\">\n       <use xlink:href=\"#DejaVuSans-48\"/>\n       <use x=\"63.623047\" xlink:href=\"#DejaVuSans-46\"/>\n       <use x=\"95.410156\" xlink:href=\"#DejaVuSans-53\"/>\n       <use x=\"159.033203\" xlink:href=\"#DejaVuSans-48\"/>\n      </g>\n     </g>\n    </g>\n    <g id=\"ytick_7\">\n     <g id=\"line2d_15\">\n      <g>\n       <use style=\"stroke:#000000;stroke-width:0.8;\" x=\"36.465625\" xlink:href=\"#m8da1292695\" y=\"79.555763\"/>\n      </g>\n     </g>\n     <g id=\"text_15\">\n      <!-- 0.55 -->\n      <g transform=\"translate(7.2 83.354982)scale(0.1 -0.1)\">\n       <use xlink:href=\"#DejaVuSans-48\"/>\n       <use x=\"63.623047\" xlink:href=\"#DejaVuSans-46\"/>\n       <use x=\"95.410156\" xlink:href=\"#DejaVuSans-53\"/>\n       <use x=\"159.033203\" xlink:href=\"#DejaVuSans-53\"/>\n      </g>\n     </g>\n    </g>\n    <g id=\"ytick_8\">\n     <g id=\"line2d_16\">\n      <g>\n       <use style=\"stroke:#000000;stroke-width:0.8;\" x=\"36.465625\" xlink:href=\"#m8da1292695\" y=\"35.852786\"/>\n      </g>\n     </g>\n     <g id=\"text_16\">\n      <!-- 0.60 -->\n      <g transform=\"translate(7.2 39.652005)scale(0.1 -0.1)\">\n       <use xlink:href=\"#DejaVuSans-48\"/>\n       <use x=\"63.623047\" xlink:href=\"#DejaVuSans-46\"/>\n       <use x=\"95.410156\" xlink:href=\"#DejaVuSans-54\"/>\n       <use x=\"159.033203\" xlink:href=\"#DejaVuSans-48\"/>\n      </g>\n     </g>\n    </g>\n   </g>\n   <g id=\"line2d_17\">\n    <path clip-path=\"url(#p630259ba19)\" d=\"M 58.845304 337.403306 \nL 61.849288 326.841763 \nL 64.853272 243.806108 \nL 67.857255 228.510054 \nL 70.861239 317.919067 \nL 73.865223 216.127556 \nL 76.869207 222.136723 \nL 79.873191 209.57209 \nL 82.877174 173.335059 \nL 85.881158 218.858976 \nL 88.885142 192.637215 \nL 91.889126 182.257729 \nL 94.893109 260.376817 \nL 97.897093 103.774502 \nL 100.901077 259.102161 \nL 103.905061 131.817218 \nL 106.909045 99.039991 \nL 109.913028 93.030798 \nL 112.917012 156.21805 \nL 115.920996 171.331995 \nL 118.92498 96.490627 \nL 121.928963 193.729762 \nL 124.932947 137.826385 \nL 127.936931 113.243471 \nL 130.940915 127.082734 \nL 133.944899 73.910777 \nL 136.948882 151.665674 \nL 139.952866 107.234278 \nL 142.95685 92.666633 \nL 145.960834 146.749055 \nL 148.964817 143.835552 \nL 151.968801 142.925061 \nL 154.972785 143.289252 \nL 157.976769 96.854844 \nL 160.980753 41.497741 \nL 163.984736 139.829449 \nL 166.98872 88.114257 \nL 169.992704 43.136588 \nL 172.996688 47.324746 \nL 176.000671 86.65744 \nL 179.004655 139.829449 \nL 182.008639 109.783642 \nL 185.012623 104.502832 \nL 188.016607 75.913841 \nL 191.02059 151.665674 \nL 194.024574 123.076605 \nL 197.028558 106.323813 \nL 200.032542 52.241392 \nL 203.036525 122.166141 \nL 206.040509 93.212933 \nL 209.044493 113.971801 \nL 212.048477 42.043988 \nL 215.052461 93.57715 \nL 218.056444 99.404156 \nL 221.060428 37.309477 \nL 224.064412 80.6483 \nL 227.068396 84.290263 \nL 230.072379 113.607636 \nL 233.076363 115.974865 \nL 236.080347 99.222073 \nL 239.084331 135.641238 \nL 242.088315 94.123398 \nL 245.092298 86.111193 \nL 248.096282 59.34308 \nL 251.100266 67.537419 \nL 254.10425 95.215997 \nL 257.108233 54.972786 \nL 260.112217 73.182395 \nL 263.116201 135.641238 \nL 266.120185 121.619841 \nL 269.124169 75.913841 \nL 272.128152 95.033862 \nL 275.132136 71.179331 \nL 278.13612 90.299352 \nL 281.140104 83.561881 \nL 284.144087 83.926046 \nL 287.148071 71.907713 \nL 290.152055 73.182395 \nL 293.156039 80.830434 \nL 296.160023 35.67063 \nL 299.164006 43.682835 \nL 302.16799 81.740899 \nL 305.171974 79.737835 \nL 308.175958 78.098988 \nL 311.179941 78.82737 \nL 314.183925 66.99112 \nL 317.187909 98.311609 \nL 320.191893 96.490627 \nL 323.195877 76.095924 \nL 326.19986 99.039991 \nL 329.203844 85.564893 \nL 332.207828 69.904701 \nL 335.211812 68.265801 \nL 338.215795 111.422489 \nL 341.219779 99.586291 \nL 344.223763 73.182395 \nL 347.227747 71.907713 \nL 350.231731 66.809037 \nL 353.235714 86.475358 \nL 356.239698 76.824306 \nL 359.243682 35.67063 \nL 362.247666 76.278058 \nL 365.251649 85.92911 \nL 368.255633 52.241392 \nL 371.259617 71.907713 \nL 374.263601 79.373618 \nL 377.267585 79.009453 \nL 380.271568 60.617814 \nL 383.275552 59.525214 \nL 386.279536 48.963698 \nL 389.28352 68.630019 \nL 392.287503 61.346144 \nL 395.291487 66.44482 \nL 398.295471 80.102 \nL 401.299455 74.274994 \nL 404.303439 74.09286 \nL 407.307422 78.82737 \nL 410.311406 70.450948 \nL 413.31539 88.660505 \nL 416.319374 68.265801 \nL 419.323357 71.361413 \nL 422.327341 79.191535 \nL 425.331325 67.173254 \nL 428.335309 74.639107 \nL 431.339293 65.534355 \nL 434.343276 79.373618 \nL 437.34726 76.095924 \nL 440.351244 43.500805 \nL 443.355228 83.015529 \nL 446.359211 73.00026 \nL 449.363195 66.809037 \nL 452.367179 61.164061 \nL 455.371163 67.719502 \nL 458.375147 56.429551 \nL 461.37913 74.639107 \nL 464.383114 69.358349 \nL 467.387098 85.564893 \nL 470.391082 70.450948 \nL 473.395065 60.981927 \nL 476.399049 62.438743 \nL 479.403033 74.821242 \nL 482.407017 69.540483 \nL 485.411001 68.994184 \nL 488.414984 77.006389 \nL 491.418968 50.784627 \nL 494.422952 63.713373 \nL 497.426936 74.457077 \nL 500.430919 67.901636 \nL 503.434903 59.34308 \nL 506.438887 67.173254 \nL 506.438887 67.173254 \n\" style=\"fill:none;stroke:#1f77b4;stroke-linecap:square;stroke-width:1.5;\"/>\n   </g>\n   <g id=\"line2d_18\">\n    <path clip-path=\"url(#p630259ba19)\" d=\"M 58.845304 327.752254 \nL 61.849288 263.108264 \nL 64.853272 255.824415 \nL 67.857255 228.145889 \nL 70.861239 227.417481 \nL 73.865223 210.48258 \nL 76.869207 205.383905 \nL 79.873191 192.637215 \nL 82.877174 176.06648 \nL 85.881158 178.251626 \nL 88.885142 171.149912 \nL 91.889126 156.21805 \nL 94.893109 157.492732 \nL 97.897093 148.57001 \nL 100.901077 144.928099 \nL 103.905061 124.351313 \nL 106.909045 111.968789 \nL 109.913028 114.518101 \nL 112.917012 112.697171 \nL 115.920996 111.604624 \nL 118.92498 114.518101 \nL 121.928963 95.944379 \nL 124.932947 99.404156 \nL 127.936931 112.879254 \nL 133.944899 84.654376 \nL 136.948882 89.388887 \nL 139.952866 85.018593 \nL 142.95685 89.388887 \nL 145.960834 80.830434 \nL 148.964817 77.006389 \nL 151.968801 89.753104 \nL 154.972785 66.626954 \nL 157.976769 69.904701 \nL 160.980753 65.898572 \nL 163.984736 60.435679 \nL 166.98872 56.793768 \nL 169.992704 51.877175 \nL 172.996688 42.77237 \nL 176.000671 34.396001 \nL 179.004655 49.692028 \nL 182.008639 43.500805 \nL 185.012623 35.306517 \nL 188.016607 46.232251 \nL 191.02059 40.405141 \nL 194.024574 51.148792 \nL 197.028558 41.497741 \nL 200.032542 22.923967 \nL 203.036525 42.043988 \nL 206.040509 41.315606 \nL 209.044493 42.59034 \nL 212.048477 30.936172 \nL 215.052461 33.303453 \nL 218.056444 42.77237 \nL 221.060428 34.031783 \nL 224.064412 44.047052 \nL 227.068396 37.309477 \nL 230.072379 37.673695 \nL 233.076363 46.596416 \nL 236.080347 43.86497 \nL 239.084331 44.047052 \nL 242.088315 49.692028 \nL 245.092298 53.333939 \nL 248.096282 49.692028 \nL 251.100266 53.516074 \nL 254.10425 61.710361 \nL 257.108233 52.605609 \nL 260.112217 50.602545 \nL 263.116201 43.682835 \nL 266.120185 52.969722 \nL 269.124169 51.51301 \nL 272.128152 56.793768 \nL 275.132136 58.06845 \nL 278.13612 50.42041 \nL 281.140104 62.620878 \nL 284.144087 67.901636 \nL 287.148071 57.340016 \nL 290.152055 47.688964 \nL 293.156039 53.151857 \nL 296.160023 45.321734 \nL 299.164006 53.880239 \nL 302.16799 54.062321 \nL 305.171974 51.51301 \nL 308.175958 55.883303 \nL 311.179941 50.238328 \nL 314.183925 50.238328 \nL 317.187909 54.426539 \nL 320.191893 55.337003 \nL 323.195877 58.432615 \nL 326.19986 54.244456 \nL 329.203844 50.42041 \nL 332.207828 56.065386 \nL 338.215795 55.701168 \nL 341.219779 63.531343 \nL 344.223763 58.796832 \nL 347.227747 67.173254 \nL 350.231731 64.441808 \nL 353.235714 59.707297 \nL 356.239698 56.611685 \nL 359.243682 67.355285 \nL 362.247666 68.994184 \nL 365.251649 64.441808 \nL 368.255633 58.796832 \nL 371.259617 59.707297 \nL 374.263601 61.892444 \nL 377.267585 51.330875 \nL 380.271568 61.346144 \nL 383.275552 51.695092 \nL 386.279536 68.083719 \nL 389.28352 56.793768 \nL 392.287503 49.145728 \nL 395.291487 57.157985 \nL 398.295471 56.429551 \nL 401.299455 53.151857 \nL 404.303439 61.528279 \nL 407.307422 58.432615 \nL 410.311406 60.617814 \nL 413.31539 59.160997 \nL 416.319374 68.265801 \nL 419.323357 58.250532 \nL 422.327341 60.799896 \nL 425.331325 57.704233 \nL 428.335309 59.34308 \nL 431.339293 64.62389 \nL 434.343276 52.605609 \nL 437.34726 65.534355 \nL 440.351244 55.883303 \nL 443.355228 62.438743 \nL 446.359211 69.904701 \nL 449.363195 54.790704 \nL 452.367179 57.52215 \nL 455.371163 58.06845 \nL 458.375147 57.52215 \nL 461.37913 62.984991 \nL 464.383114 63.713373 \nL 467.387098 73.182395 \nL 470.391082 60.435679 \nL 473.395065 61.528279 \nL 476.399049 55.519086 \nL 479.403033 63.713373 \nL 482.407017 54.790704 \nL 485.411001 58.61475 \nL 488.414984 67.173254 \nL 491.418968 60.253597 \nL 494.422952 50.784627 \nL 497.426936 57.52215 \nL 500.430919 60.617814 \nL 503.434903 64.441808 \nL 506.438887 63.349208 \nL 506.438887 63.349208 \n\" style=\"fill:none;stroke:#ff7f0e;stroke-linecap:square;stroke-width:1.5;\"/>\n   </g>\n   <g id=\"patch_3\">\n    <path d=\"M 36.465625 353.127273 \nL 36.465625 7.2 \n\" style=\"fill:none;stroke:#000000;stroke-linecap:square;stroke-linejoin:miter;stroke-width:0.8;\"/>\n   </g>\n   <g id=\"patch_4\">\n    <path d=\"M 528.818566 353.127273 \nL 528.818566 7.2 \n\" style=\"fill:none;stroke:#000000;stroke-linecap:square;stroke-linejoin:miter;stroke-width:0.8;\"/>\n   </g>\n   <g id=\"patch_5\">\n    <path d=\"M 36.465625 353.127273 \nL 528.818566 353.127273 \n\" style=\"fill:none;stroke:#000000;stroke-linecap:square;stroke-linejoin:miter;stroke-width:0.8;\"/>\n   </g>\n   <g id=\"patch_6\">\n    <path d=\"M 36.465625 7.2 \nL 528.818566 7.2 \n\" style=\"fill:none;stroke:#000000;stroke-linecap:square;stroke-linejoin:miter;stroke-width:0.8;\"/>\n   </g>\n   <g id=\"legend_1\">\n    <g id=\"patch_7\">\n     <path d=\"M 285.121691 348.127273 \nL 521.818566 348.127273 \nQ 523.818566 348.127273 523.818566 346.127273 \nL 523.818566 317.214773 \nQ 523.818566 315.214773 521.818566 315.214773 \nL 285.121691 315.214773 \nQ 283.121691 315.214773 283.121691 317.214773 \nL 283.121691 346.127273 \nQ 283.121691 348.127273 285.121691 348.127273 \nz\n\" style=\"fill:#ffffff;opacity:0.8;stroke:#cccccc;stroke-linejoin:miter;\"/>\n    </g>\n    <g id=\"line2d_19\">\n     <path d=\"M 287.121691 323.31321 \nL 307.121691 323.31321 \n\" style=\"fill:none;stroke:#1f77b4;stroke-linecap:square;stroke-width:1.5;\"/>\n    </g>\n    <g id=\"line2d_20\"/>\n    <g id=\"text_17\">\n     <!-- val/student_acc = 0.6002084016799927 -->\n     <defs>\n      <path d=\"M 2.984375 54.6875 \nL 12.5 54.6875 \nL 29.59375 8.796875 \nL 46.6875 54.6875 \nL 56.203125 54.6875 \nL 35.6875 0 \nL 23.484375 0 \nz\n\" id=\"DejaVuSans-118\"/>\n      <path d=\"M 34.28125 27.484375 \nQ 23.390625 27.484375 19.1875 25 \nQ 14.984375 22.515625 14.984375 16.5 \nQ 14.984375 11.71875 18.140625 8.90625 \nQ 21.296875 6.109375 26.703125 6.109375 \nQ 34.1875 6.109375 38.703125 11.40625 \nQ 43.21875 16.703125 43.21875 25.484375 \nL 43.21875 27.484375 \nz\nM 52.203125 31.203125 \nL 52.203125 0 \nL 43.21875 0 \nL 43.21875 8.296875 \nQ 40.140625 3.328125 35.546875 0.953125 \nQ 30.953125 -1.421875 24.3125 -1.421875 \nQ 15.921875 -1.421875 10.953125 3.296875 \nQ 6 8.015625 6 15.921875 \nQ 6 25.140625 12.171875 29.828125 \nQ 18.359375 34.515625 30.609375 34.515625 \nL 43.21875 34.515625 \nL 43.21875 35.40625 \nQ 43.21875 41.609375 39.140625 45 \nQ 35.0625 48.390625 27.6875 48.390625 \nQ 23 48.390625 18.546875 47.265625 \nQ 14.109375 46.140625 10.015625 43.890625 \nL 10.015625 52.203125 \nQ 14.9375 54.109375 19.578125 55.046875 \nQ 24.21875 56 28.609375 56 \nQ 40.484375 56 46.34375 49.84375 \nQ 52.203125 43.703125 52.203125 31.203125 \nz\n\" id=\"DejaVuSans-97\"/>\n      <path d=\"M 9.421875 75.984375 \nL 18.40625 75.984375 \nL 18.40625 0 \nL 9.421875 0 \nz\n\" id=\"DejaVuSans-108\"/>\n      <path d=\"M 25.390625 72.90625 \nL 33.6875 72.90625 \nL 8.296875 -9.28125 \nL 0 -9.28125 \nz\n\" id=\"DejaVuSans-47\"/>\n      <path d=\"M 44.28125 53.078125 \nL 44.28125 44.578125 \nQ 40.484375 46.53125 36.375 47.5 \nQ 32.28125 48.484375 27.875 48.484375 \nQ 21.1875 48.484375 17.84375 46.4375 \nQ 14.5 44.390625 14.5 40.28125 \nQ 14.5 37.15625 16.890625 35.375 \nQ 19.28125 33.59375 26.515625 31.984375 \nL 29.59375 31.296875 \nQ 39.15625 29.25 43.1875 25.515625 \nQ 47.21875 21.78125 47.21875 15.09375 \nQ 47.21875 7.46875 41.1875 3.015625 \nQ 35.15625 -1.421875 24.609375 -1.421875 \nQ 20.21875 -1.421875 15.453125 -0.5625 \nQ 10.6875 0.296875 5.421875 2 \nL 5.421875 11.28125 \nQ 10.40625 8.6875 15.234375 7.390625 \nQ 20.0625 6.109375 24.8125 6.109375 \nQ 31.15625 6.109375 34.5625 8.28125 \nQ 37.984375 10.453125 37.984375 14.40625 \nQ 37.984375 18.0625 35.515625 20.015625 \nQ 33.0625 21.96875 24.703125 23.78125 \nL 21.578125 24.515625 \nQ 13.234375 26.265625 9.515625 29.90625 \nQ 5.8125 33.546875 5.8125 39.890625 \nQ 5.8125 47.609375 11.28125 51.796875 \nQ 16.75 56 26.8125 56 \nQ 31.78125 56 36.171875 55.265625 \nQ 40.578125 54.546875 44.28125 53.078125 \nz\n\" id=\"DejaVuSans-115\"/>\n      <path d=\"M 18.3125 70.21875 \nL 18.3125 54.6875 \nL 36.8125 54.6875 \nL 36.8125 47.703125 \nL 18.3125 47.703125 \nL 18.3125 18.015625 \nQ 18.3125 11.328125 20.140625 9.421875 \nQ 21.96875 7.515625 27.59375 7.515625 \nL 36.8125 7.515625 \nL 36.8125 0 \nL 27.59375 0 \nQ 17.1875 0 13.234375 3.875 \nQ 9.28125 7.765625 9.28125 18.015625 \nL 9.28125 47.703125 \nL 2.6875 47.703125 \nL 2.6875 54.6875 \nL 9.28125 54.6875 \nL 9.28125 70.21875 \nz\n\" id=\"DejaVuSans-116\"/>\n      <path d=\"M 8.5 21.578125 \nL 8.5 54.6875 \nL 17.484375 54.6875 \nL 17.484375 21.921875 \nQ 17.484375 14.15625 20.5 10.265625 \nQ 23.53125 6.390625 29.59375 6.390625 \nQ 36.859375 6.390625 41.078125 11.03125 \nQ 45.3125 15.671875 45.3125 23.6875 \nL 45.3125 54.6875 \nL 54.296875 54.6875 \nL 54.296875 0 \nL 45.3125 0 \nL 45.3125 8.40625 \nQ 42.046875 3.421875 37.71875 1 \nQ 33.40625 -1.421875 27.6875 -1.421875 \nQ 18.265625 -1.421875 13.375 4.4375 \nQ 8.5 10.296875 8.5 21.578125 \nz\nM 31.109375 56 \nz\n\" id=\"DejaVuSans-117\"/>\n      <path d=\"M 45.40625 46.390625 \nL 45.40625 75.984375 \nL 54.390625 75.984375 \nL 54.390625 0 \nL 45.40625 0 \nL 45.40625 8.203125 \nQ 42.578125 3.328125 38.25 0.953125 \nQ 33.9375 -1.421875 27.875 -1.421875 \nQ 17.96875 -1.421875 11.734375 6.484375 \nQ 5.515625 14.40625 5.515625 27.296875 \nQ 5.515625 40.1875 11.734375 48.09375 \nQ 17.96875 56 27.875 56 \nQ 33.9375 56 38.25 53.625 \nQ 42.578125 51.265625 45.40625 46.390625 \nz\nM 14.796875 27.296875 \nQ 14.796875 17.390625 18.875 11.75 \nQ 22.953125 6.109375 30.078125 6.109375 \nQ 37.203125 6.109375 41.296875 11.75 \nQ 45.40625 17.390625 45.40625 27.296875 \nQ 45.40625 37.203125 41.296875 42.84375 \nQ 37.203125 48.484375 30.078125 48.484375 \nQ 22.953125 48.484375 18.875 42.84375 \nQ 14.796875 37.203125 14.796875 27.296875 \nz\n\" id=\"DejaVuSans-100\"/>\n      <path d=\"M 56.203125 29.59375 \nL 56.203125 25.203125 \nL 14.890625 25.203125 \nQ 15.484375 15.921875 20.484375 11.0625 \nQ 25.484375 6.203125 34.421875 6.203125 \nQ 39.59375 6.203125 44.453125 7.46875 \nQ 49.3125 8.734375 54.109375 11.28125 \nL 54.109375 2.78125 \nQ 49.265625 0.734375 44.1875 -0.34375 \nQ 39.109375 -1.421875 33.890625 -1.421875 \nQ 20.796875 -1.421875 13.15625 6.1875 \nQ 5.515625 13.8125 5.515625 26.8125 \nQ 5.515625 40.234375 12.765625 48.109375 \nQ 20.015625 56 32.328125 56 \nQ 43.359375 56 49.78125 48.890625 \nQ 56.203125 41.796875 56.203125 29.59375 \nz\nM 47.21875 32.234375 \nQ 47.125 39.59375 43.09375 43.984375 \nQ 39.0625 48.390625 32.421875 48.390625 \nQ 24.90625 48.390625 20.390625 44.140625 \nQ 15.875 39.890625 15.1875 32.171875 \nz\n\" id=\"DejaVuSans-101\"/>\n      <path d=\"M 54.890625 33.015625 \nL 54.890625 0 \nL 45.90625 0 \nL 45.90625 32.71875 \nQ 45.90625 40.484375 42.875 44.328125 \nQ 39.84375 48.1875 33.796875 48.1875 \nQ 26.515625 48.1875 22.3125 43.546875 \nQ 18.109375 38.921875 18.109375 30.90625 \nL 18.109375 0 \nL 9.078125 0 \nL 9.078125 54.6875 \nL 18.109375 54.6875 \nL 18.109375 46.1875 \nQ 21.34375 51.125 25.703125 53.5625 \nQ 30.078125 56 35.796875 56 \nQ 45.21875 56 50.046875 50.171875 \nQ 54.890625 44.34375 54.890625 33.015625 \nz\n\" id=\"DejaVuSans-110\"/>\n      <path d=\"M 50.984375 -16.609375 \nL 50.984375 -23.578125 \nL -0.984375 -23.578125 \nL -0.984375 -16.609375 \nz\n\" id=\"DejaVuSans-95\"/>\n      <path d=\"M 48.78125 52.59375 \nL 48.78125 44.1875 \nQ 44.96875 46.296875 41.140625 47.34375 \nQ 37.3125 48.390625 33.40625 48.390625 \nQ 24.65625 48.390625 19.8125 42.84375 \nQ 14.984375 37.3125 14.984375 27.296875 \nQ 14.984375 17.28125 19.8125 11.734375 \nQ 24.65625 6.203125 33.40625 6.203125 \nQ 37.3125 6.203125 41.140625 7.25 \nQ 44.96875 8.296875 48.78125 10.40625 \nL 48.78125 2.09375 \nQ 45.015625 0.34375 40.984375 -0.53125 \nQ 36.96875 -1.421875 32.421875 -1.421875 \nQ 20.0625 -1.421875 12.78125 6.34375 \nQ 5.515625 14.109375 5.515625 27.296875 \nQ 5.515625 40.671875 12.859375 48.328125 \nQ 20.21875 56 33.015625 56 \nQ 37.15625 56 41.109375 55.140625 \nQ 45.0625 54.296875 48.78125 52.59375 \nz\n\" id=\"DejaVuSans-99\"/>\n      <path id=\"DejaVuSans-32\"/>\n      <path d=\"M 10.59375 45.40625 \nL 73.1875 45.40625 \nL 73.1875 37.203125 \nL 10.59375 37.203125 \nz\nM 10.59375 25.484375 \nL 73.1875 25.484375 \nL 73.1875 17.1875 \nL 10.59375 17.1875 \nz\n\" id=\"DejaVuSans-61\"/>\n      <path d=\"M 8.203125 72.90625 \nL 55.078125 72.90625 \nL 55.078125 68.703125 \nL 28.609375 0 \nL 18.3125 0 \nL 43.21875 64.59375 \nL 8.203125 64.59375 \nz\n\" id=\"DejaVuSans-55\"/>\n      <path d=\"M 10.984375 1.515625 \nL 10.984375 10.5 \nQ 14.703125 8.734375 18.5 7.8125 \nQ 22.3125 6.890625 25.984375 6.890625 \nQ 35.75 6.890625 40.890625 13.453125 \nQ 46.046875 20.015625 46.78125 33.40625 \nQ 43.953125 29.203125 39.59375 26.953125 \nQ 35.25 24.703125 29.984375 24.703125 \nQ 19.046875 24.703125 12.671875 31.3125 \nQ 6.296875 37.9375 6.296875 49.421875 \nQ 6.296875 60.640625 12.9375 67.421875 \nQ 19.578125 74.21875 30.609375 74.21875 \nQ 43.265625 74.21875 49.921875 64.515625 \nQ 56.59375 54.828125 56.59375 36.375 \nQ 56.59375 19.140625 48.40625 8.859375 \nQ 40.234375 -1.421875 26.421875 -1.421875 \nQ 22.703125 -1.421875 18.890625 -0.6875 \nQ 15.09375 0.046875 10.984375 1.515625 \nz\nM 30.609375 32.421875 \nQ 37.25 32.421875 41.125 36.953125 \nQ 45.015625 41.5 45.015625 49.421875 \nQ 45.015625 57.28125 41.125 61.84375 \nQ 37.25 66.40625 30.609375 66.40625 \nQ 23.96875 66.40625 20.09375 61.84375 \nQ 16.21875 57.28125 16.21875 49.421875 \nQ 16.21875 41.5 20.09375 36.953125 \nQ 23.96875 32.421875 30.609375 32.421875 \nz\n\" id=\"DejaVuSans-57\"/>\n     </defs>\n     <g transform=\"translate(315.121691 326.81321)scale(0.1 -0.1)\">\n      <use xlink:href=\"#DejaVuSans-118\"/>\n      <use x=\"59.179688\" xlink:href=\"#DejaVuSans-97\"/>\n      <use x=\"120.458984\" xlink:href=\"#DejaVuSans-108\"/>\n      <use x=\"148.242188\" xlink:href=\"#DejaVuSans-47\"/>\n      <use x=\"181.933594\" xlink:href=\"#DejaVuSans-115\"/>\n      <use x=\"234.033203\" xlink:href=\"#DejaVuSans-116\"/>\n      <use x=\"273.242188\" xlink:href=\"#DejaVuSans-117\"/>\n      <use x=\"336.621094\" xlink:href=\"#DejaVuSans-100\"/>\n      <use x=\"400.097656\" xlink:href=\"#DejaVuSans-101\"/>\n      <use x=\"461.621094\" xlink:href=\"#DejaVuSans-110\"/>\n      <use x=\"525\" xlink:href=\"#DejaVuSans-116\"/>\n      <use x=\"564.208984\" xlink:href=\"#DejaVuSans-95\"/>\n      <use x=\"614.208984\" xlink:href=\"#DejaVuSans-97\"/>\n      <use x=\"675.488281\" xlink:href=\"#DejaVuSans-99\"/>\n      <use x=\"730.46875\" xlink:href=\"#DejaVuSans-99\"/>\n      <use x=\"785.449219\" xlink:href=\"#DejaVuSans-32\"/>\n      <use x=\"817.236328\" xlink:href=\"#DejaVuSans-61\"/>\n      <use x=\"901.025391\" xlink:href=\"#DejaVuSans-32\"/>\n      <use x=\"932.8125\" xlink:href=\"#DejaVuSans-48\"/>\n      <use x=\"996.435547\" xlink:href=\"#DejaVuSans-46\"/>\n      <use x=\"1028.222656\" xlink:href=\"#DejaVuSans-54\"/>\n      <use x=\"1091.845703\" xlink:href=\"#DejaVuSans-48\"/>\n      <use x=\"1155.46875\" xlink:href=\"#DejaVuSans-48\"/>\n      <use x=\"1219.091797\" xlink:href=\"#DejaVuSans-50\"/>\n      <use x=\"1282.714844\" xlink:href=\"#DejaVuSans-48\"/>\n      <use x=\"1346.337891\" xlink:href=\"#DejaVuSans-56\"/>\n      <use x=\"1409.960938\" xlink:href=\"#DejaVuSans-52\"/>\n      <use x=\"1473.583984\" xlink:href=\"#DejaVuSans-48\"/>\n      <use x=\"1537.207031\" xlink:href=\"#DejaVuSans-49\"/>\n      <use x=\"1600.830078\" xlink:href=\"#DejaVuSans-54\"/>\n      <use x=\"1664.453125\" xlink:href=\"#DejaVuSans-55\"/>\n      <use x=\"1728.076172\" xlink:href=\"#DejaVuSans-57\"/>\n      <use x=\"1791.699219\" xlink:href=\"#DejaVuSans-57\"/>\n      <use x=\"1855.322266\" xlink:href=\"#DejaVuSans-57\"/>\n      <use x=\"1918.945312\" xlink:href=\"#DejaVuSans-50\"/>\n      <use x=\"1982.568359\" xlink:href=\"#DejaVuSans-55\"/>\n     </g>\n    </g>\n    <g id=\"line2d_21\">\n     <path d=\"M 287.121691 338.26946 \nL 307.121691 338.26946 \n\" style=\"fill:none;stroke:#ff7f0e;stroke-linecap:square;stroke-width:1.5;\"/>\n    </g>\n    <g id=\"line2d_22\"/>\n    <g id=\"text_18\">\n     <!-- val/teacher_acc = 0.6147916913032532 -->\n     <defs>\n      <path d=\"M 54.890625 33.015625 \nL 54.890625 0 \nL 45.90625 0 \nL 45.90625 32.71875 \nQ 45.90625 40.484375 42.875 44.328125 \nQ 39.84375 48.1875 33.796875 48.1875 \nQ 26.515625 48.1875 22.3125 43.546875 \nQ 18.109375 38.921875 18.109375 30.90625 \nL 18.109375 0 \nL 9.078125 0 \nL 9.078125 75.984375 \nL 18.109375 75.984375 \nL 18.109375 46.1875 \nQ 21.34375 51.125 25.703125 53.5625 \nQ 30.078125 56 35.796875 56 \nQ 45.21875 56 50.046875 50.171875 \nQ 54.890625 44.34375 54.890625 33.015625 \nz\n\" id=\"DejaVuSans-104\"/>\n      <path d=\"M 41.109375 46.296875 \nQ 39.59375 47.171875 37.8125 47.578125 \nQ 36.03125 48 33.890625 48 \nQ 26.265625 48 22.1875 43.046875 \nQ 18.109375 38.09375 18.109375 28.8125 \nL 18.109375 0 \nL 9.078125 0 \nL 9.078125 54.6875 \nL 18.109375 54.6875 \nL 18.109375 46.1875 \nQ 20.953125 51.171875 25.484375 53.578125 \nQ 30.03125 56 36.53125 56 \nQ 37.453125 56 38.578125 55.875 \nQ 39.703125 55.765625 41.0625 55.515625 \nz\n\" id=\"DejaVuSans-114\"/>\n     </defs>\n     <g transform=\"translate(315.121691 341.76946)scale(0.1 -0.1)\">\n      <use xlink:href=\"#DejaVuSans-118\"/>\n      <use x=\"59.179688\" xlink:href=\"#DejaVuSans-97\"/>\n      <use x=\"120.458984\" xlink:href=\"#DejaVuSans-108\"/>\n      <use x=\"148.242188\" xlink:href=\"#DejaVuSans-47\"/>\n      <use x=\"181.933594\" xlink:href=\"#DejaVuSans-116\"/>\n      <use x=\"221.142578\" xlink:href=\"#DejaVuSans-101\"/>\n      <use x=\"282.666016\" xlink:href=\"#DejaVuSans-97\"/>\n      <use x=\"343.945312\" xlink:href=\"#DejaVuSans-99\"/>\n      <use x=\"398.925781\" xlink:href=\"#DejaVuSans-104\"/>\n      <use x=\"462.304688\" xlink:href=\"#DejaVuSans-101\"/>\n      <use x=\"523.828125\" xlink:href=\"#DejaVuSans-114\"/>\n      <use x=\"564.941406\" xlink:href=\"#DejaVuSans-95\"/>\n      <use x=\"614.941406\" xlink:href=\"#DejaVuSans-97\"/>\n      <use x=\"676.220703\" xlink:href=\"#DejaVuSans-99\"/>\n      <use x=\"731.201172\" xlink:href=\"#DejaVuSans-99\"/>\n      <use x=\"786.181641\" xlink:href=\"#DejaVuSans-32\"/>\n      <use x=\"817.96875\" xlink:href=\"#DejaVuSans-61\"/>\n      <use x=\"901.757812\" xlink:href=\"#DejaVuSans-32\"/>\n      <use x=\"933.544922\" xlink:href=\"#DejaVuSans-48\"/>\n      <use x=\"997.167969\" xlink:href=\"#DejaVuSans-46\"/>\n      <use x=\"1028.955078\" xlink:href=\"#DejaVuSans-54\"/>\n      <use x=\"1092.578125\" xlink:href=\"#DejaVuSans-49\"/>\n      <use x=\"1156.201172\" xlink:href=\"#DejaVuSans-52\"/>\n      <use x=\"1219.824219\" xlink:href=\"#DejaVuSans-55\"/>\n      <use x=\"1283.447266\" xlink:href=\"#DejaVuSans-57\"/>\n      <use x=\"1347.070312\" xlink:href=\"#DejaVuSans-49\"/>\n      <use x=\"1410.693359\" xlink:href=\"#DejaVuSans-54\"/>\n      <use x=\"1474.316406\" xlink:href=\"#DejaVuSans-57\"/>\n      <use x=\"1537.939453\" xlink:href=\"#DejaVuSans-49\"/>\n      <use x=\"1601.5625\" xlink:href=\"#DejaVuSans-51\"/>\n      <use x=\"1665.185547\" xlink:href=\"#DejaVuSans-48\"/>\n      <use x=\"1728.808594\" xlink:href=\"#DejaVuSans-51\"/>\n      <use x=\"1792.431641\" xlink:href=\"#DejaVuSans-50\"/>\n      <use x=\"1856.054688\" xlink:href=\"#DejaVuSans-53\"/>\n      <use x=\"1919.677734\" xlink:href=\"#DejaVuSans-51\"/>\n      <use x=\"1983.300781\" xlink:href=\"#DejaVuSans-50\"/>\n     </g>\n    </g>\n   </g>\n  </g>\n  <g id=\"axes_2\">\n   <g id=\"patch_8\">\n    <path d=\"M 1218.112684 353.127273 \nL 1710.465625 353.127273 \nL 1710.465625 7.2 \nL 1218.112684 7.2 \nz\n\" style=\"fill:#ffffff;\"/>\n   </g>\n   <g id=\"matplotlib.axis_3\">\n    <g id=\"xtick_9\">\n     <g id=\"line2d_23\">\n      <g>\n       <use style=\"stroke:#000000;stroke-width:0.8;\" x=\"1240.492363\" xlink:href=\"#m4a9157c81d\" y=\"353.127273\"/>\n      </g>\n     </g>\n     <g id=\"text_19\">\n      <!-- 0 -->\n      <g transform=\"translate(1237.311113 367.72571)scale(0.1 -0.1)\">\n       <use xlink:href=\"#DejaVuSans-48\"/>\n      </g>\n     </g>\n    </g>\n    <g id=\"xtick_10\">\n     <g id=\"line2d_24\">\n      <g>\n       <use style=\"stroke:#000000;stroke-width:0.8;\" x=\"1300.572039\" xlink:href=\"#m4a9157c81d\" y=\"353.127273\"/>\n      </g>\n     </g>\n     <g id=\"text_20\">\n      <!-- 20 -->\n      <g transform=\"translate(1294.209539 367.72571)scale(0.1 -0.1)\">\n       <use xlink:href=\"#DejaVuSans-50\"/>\n       <use x=\"63.623047\" xlink:href=\"#DejaVuSans-48\"/>\n      </g>\n     </g>\n    </g>\n    <g id=\"xtick_11\">\n     <g id=\"line2d_25\">\n      <g>\n       <use style=\"stroke:#000000;stroke-width:0.8;\" x=\"1360.651714\" xlink:href=\"#m4a9157c81d\" y=\"353.127273\"/>\n      </g>\n     </g>\n     <g id=\"text_21\">\n      <!-- 40 -->\n      <g transform=\"translate(1354.289214 367.72571)scale(0.1 -0.1)\">\n       <use xlink:href=\"#DejaVuSans-52\"/>\n       <use x=\"63.623047\" xlink:href=\"#DejaVuSans-48\"/>\n      </g>\n     </g>\n    </g>\n    <g id=\"xtick_12\">\n     <g id=\"line2d_26\">\n      <g>\n       <use style=\"stroke:#000000;stroke-width:0.8;\" x=\"1420.73139\" xlink:href=\"#m4a9157c81d\" y=\"353.127273\"/>\n      </g>\n     </g>\n     <g id=\"text_22\">\n      <!-- 60 -->\n      <g transform=\"translate(1414.36889 367.72571)scale(0.1 -0.1)\">\n       <use xlink:href=\"#DejaVuSans-54\"/>\n       <use x=\"63.623047\" xlink:href=\"#DejaVuSans-48\"/>\n      </g>\n     </g>\n    </g>\n    <g id=\"xtick_13\">\n     <g id=\"line2d_27\">\n      <g>\n       <use style=\"stroke:#000000;stroke-width:0.8;\" x=\"1480.811065\" xlink:href=\"#m4a9157c81d\" y=\"353.127273\"/>\n      </g>\n     </g>\n     <g id=\"text_23\">\n      <!-- 80 -->\n      <g transform=\"translate(1474.448565 367.72571)scale(0.1 -0.1)\">\n       <use xlink:href=\"#DejaVuSans-56\"/>\n       <use x=\"63.623047\" xlink:href=\"#DejaVuSans-48\"/>\n      </g>\n     </g>\n    </g>\n    <g id=\"xtick_14\">\n     <g id=\"line2d_28\">\n      <g>\n       <use style=\"stroke:#000000;stroke-width:0.8;\" x=\"1540.890741\" xlink:href=\"#m4a9157c81d\" y=\"353.127273\"/>\n      </g>\n     </g>\n     <g id=\"text_24\">\n      <!-- 100 -->\n      <g transform=\"translate(1531.346991 367.72571)scale(0.1 -0.1)\">\n       <use xlink:href=\"#DejaVuSans-49\"/>\n       <use x=\"63.623047\" xlink:href=\"#DejaVuSans-48\"/>\n       <use x=\"127.246094\" xlink:href=\"#DejaVuSans-48\"/>\n      </g>\n     </g>\n    </g>\n    <g id=\"xtick_15\">\n     <g id=\"line2d_29\">\n      <g>\n       <use style=\"stroke:#000000;stroke-width:0.8;\" x=\"1600.970416\" xlink:href=\"#m4a9157c81d\" y=\"353.127273\"/>\n      </g>\n     </g>\n     <g id=\"text_25\">\n      <!-- 120 -->\n      <g transform=\"translate(1591.426666 367.72571)scale(0.1 -0.1)\">\n       <use xlink:href=\"#DejaVuSans-49\"/>\n       <use x=\"63.623047\" xlink:href=\"#DejaVuSans-50\"/>\n       <use x=\"127.246094\" xlink:href=\"#DejaVuSans-48\"/>\n      </g>\n     </g>\n    </g>\n    <g id=\"xtick_16\">\n     <g id=\"line2d_30\">\n      <g>\n       <use style=\"stroke:#000000;stroke-width:0.8;\" x=\"1661.050092\" xlink:href=\"#m4a9157c81d\" y=\"353.127273\"/>\n      </g>\n     </g>\n     <g id=\"text_26\">\n      <!-- 140 -->\n      <g transform=\"translate(1651.506342 367.72571)scale(0.1 -0.1)\">\n       <use xlink:href=\"#DejaVuSans-49\"/>\n       <use x=\"63.623047\" xlink:href=\"#DejaVuSans-52\"/>\n       <use x=\"127.246094\" xlink:href=\"#DejaVuSans-48\"/>\n      </g>\n     </g>\n    </g>\n   </g>\n   <g id=\"matplotlib.axis_4\">\n    <g id=\"ytick_9\">\n     <g id=\"line2d_31\">\n      <g>\n       <use style=\"stroke:#000000;stroke-width:0.8;\" x=\"1218.112684\" xlink:href=\"#m8da1292695\" y=\"341.773625\"/>\n      </g>\n     </g>\n     <g id=\"text_27\">\n      <!-- 0.25 -->\n      <g transform=\"translate(1188.847059 345.572844)scale(0.1 -0.1)\">\n       <use xlink:href=\"#DejaVuSans-48\"/>\n       <use x=\"63.623047\" xlink:href=\"#DejaVuSans-46\"/>\n       <use x=\"95.410156\" xlink:href=\"#DejaVuSans-50\"/>\n       <use x=\"159.033203\" xlink:href=\"#DejaVuSans-53\"/>\n      </g>\n     </g>\n    </g>\n    <g id=\"ytick_10\">\n     <g id=\"line2d_32\">\n      <g>\n       <use style=\"stroke:#000000;stroke-width:0.8;\" x=\"1218.112684\" xlink:href=\"#m8da1292695\" y=\"298.070648\"/>\n      </g>\n     </g>\n     <g id=\"text_28\">\n      <!-- 0.30 -->\n      <g transform=\"translate(1188.847059 301.869867)scale(0.1 -0.1)\">\n       <use xlink:href=\"#DejaVuSans-48\"/>\n       <use x=\"63.623047\" xlink:href=\"#DejaVuSans-46\"/>\n       <use x=\"95.410156\" xlink:href=\"#DejaVuSans-51\"/>\n       <use x=\"159.033203\" xlink:href=\"#DejaVuSans-48\"/>\n      </g>\n     </g>\n    </g>\n    <g id=\"ytick_11\">\n     <g id=\"line2d_33\">\n      <g>\n       <use style=\"stroke:#000000;stroke-width:0.8;\" x=\"1218.112684\" xlink:href=\"#m8da1292695\" y=\"254.367671\"/>\n      </g>\n     </g>\n     <g id=\"text_29\">\n      <!-- 0.35 -->\n      <g transform=\"translate(1188.847059 258.16689)scale(0.1 -0.1)\">\n       <use xlink:href=\"#DejaVuSans-48\"/>\n       <use x=\"63.623047\" xlink:href=\"#DejaVuSans-46\"/>\n       <use x=\"95.410156\" xlink:href=\"#DejaVuSans-51\"/>\n       <use x=\"159.033203\" xlink:href=\"#DejaVuSans-53\"/>\n      </g>\n     </g>\n    </g>\n    <g id=\"ytick_12\">\n     <g id=\"line2d_34\">\n      <g>\n       <use style=\"stroke:#000000;stroke-width:0.8;\" x=\"1218.112684\" xlink:href=\"#m8da1292695\" y=\"210.664694\"/>\n      </g>\n     </g>\n     <g id=\"text_30\">\n      <!-- 0.40 -->\n      <g transform=\"translate(1188.847059 214.463913)scale(0.1 -0.1)\">\n       <use xlink:href=\"#DejaVuSans-48\"/>\n       <use x=\"63.623047\" xlink:href=\"#DejaVuSans-46\"/>\n       <use x=\"95.410156\" xlink:href=\"#DejaVuSans-52\"/>\n       <use x=\"159.033203\" xlink:href=\"#DejaVuSans-48\"/>\n      </g>\n     </g>\n    </g>\n    <g id=\"ytick_13\">\n     <g id=\"line2d_35\">\n      <g>\n       <use style=\"stroke:#000000;stroke-width:0.8;\" x=\"1218.112684\" xlink:href=\"#m8da1292695\" y=\"166.961717\"/>\n      </g>\n     </g>\n     <g id=\"text_31\">\n      <!-- 0.45 -->\n      <g transform=\"translate(1188.847059 170.760936)scale(0.1 -0.1)\">\n       <use xlink:href=\"#DejaVuSans-48\"/>\n       <use x=\"63.623047\" xlink:href=\"#DejaVuSans-46\"/>\n       <use x=\"95.410156\" xlink:href=\"#DejaVuSans-52\"/>\n       <use x=\"159.033203\" xlink:href=\"#DejaVuSans-53\"/>\n      </g>\n     </g>\n    </g>\n    <g id=\"ytick_14\">\n     <g id=\"line2d_36\">\n      <g>\n       <use style=\"stroke:#000000;stroke-width:0.8;\" x=\"1218.112684\" xlink:href=\"#m8da1292695\" y=\"123.25874\"/>\n      </g>\n     </g>\n     <g id=\"text_32\">\n      <!-- 0.50 -->\n      <g transform=\"translate(1188.847059 127.057959)scale(0.1 -0.1)\">\n       <use xlink:href=\"#DejaVuSans-48\"/>\n       <use x=\"63.623047\" xlink:href=\"#DejaVuSans-46\"/>\n       <use x=\"95.410156\" xlink:href=\"#DejaVuSans-53\"/>\n       <use x=\"159.033203\" xlink:href=\"#DejaVuSans-48\"/>\n      </g>\n     </g>\n    </g>\n    <g id=\"ytick_15\">\n     <g id=\"line2d_37\">\n      <g>\n       <use style=\"stroke:#000000;stroke-width:0.8;\" x=\"1218.112684\" xlink:href=\"#m8da1292695\" y=\"79.555763\"/>\n      </g>\n     </g>\n     <g id=\"text_33\">\n      <!-- 0.55 -->\n      <g transform=\"translate(1188.847059 83.354982)scale(0.1 -0.1)\">\n       <use xlink:href=\"#DejaVuSans-48\"/>\n       <use x=\"63.623047\" xlink:href=\"#DejaVuSans-46\"/>\n       <use x=\"95.410156\" xlink:href=\"#DejaVuSans-53\"/>\n       <use x=\"159.033203\" xlink:href=\"#DejaVuSans-53\"/>\n      </g>\n     </g>\n    </g>\n    <g id=\"ytick_16\">\n     <g id=\"line2d_38\">\n      <g>\n       <use style=\"stroke:#000000;stroke-width:0.8;\" x=\"1218.112684\" xlink:href=\"#m8da1292695\" y=\"35.852786\"/>\n      </g>\n     </g>\n     <g id=\"text_34\">\n      <!-- 0.60 -->\n      <g transform=\"translate(1188.847059 39.652005)scale(0.1 -0.1)\">\n       <use xlink:href=\"#DejaVuSans-48\"/>\n       <use x=\"63.623047\" xlink:href=\"#DejaVuSans-46\"/>\n       <use x=\"95.410156\" xlink:href=\"#DejaVuSans-54\"/>\n       <use x=\"159.033203\" xlink:href=\"#DejaVuSans-48\"/>\n      </g>\n     </g>\n    </g>\n   </g>\n   <g id=\"line2d_39\">\n    <path clip-path=\"url(#p7dfdbe660c)\" d=\"M 1240.492363 337.403306 \nL 1243.496347 326.841763 \nL 1246.500331 243.806108 \nL 1249.504314 228.510054 \nL 1252.508298 228.510054 \nL 1255.512282 216.127556 \nL 1258.516266 216.127556 \nL 1261.520249 209.57209 \nL 1264.524233 173.335059 \nL 1276.540168 173.335059 \nL 1279.544152 103.774502 \nL 1285.55212 103.774502 \nL 1288.556103 99.039991 \nL 1291.560087 93.030798 \nL 1312.587974 93.030798 \nL 1315.591957 73.910777 \nL 1339.623828 73.910777 \nL 1342.627811 41.497741 \nL 1399.703503 41.497741 \nL 1402.707487 37.309477 \nL 1474.803098 37.309477 \nL 1477.807081 35.67063 \nL 1688.085946 35.67063 \nL 1688.085946 35.67063 \n\" style=\"fill:none;stroke:#1f77b4;stroke-linecap:square;stroke-width:1.5;\"/>\n   </g>\n   <g id=\"line2d_40\">\n    <path clip-path=\"url(#p7dfdbe660c)\" d=\"M 1240.492363 327.752254 \nL 1243.496347 263.108264 \nL 1246.500331 255.824415 \nL 1249.504314 228.145889 \nL 1252.508298 227.417481 \nL 1255.512282 210.48258 \nL 1258.516266 205.383905 \nL 1261.520249 192.637215 \nL 1264.524233 176.06648 \nL 1267.528217 176.06648 \nL 1270.532201 171.149912 \nL 1273.536185 156.21805 \nL 1276.540168 156.21805 \nL 1279.544152 148.57001 \nL 1282.548136 144.928099 \nL 1285.55212 124.351313 \nL 1288.556103 111.968789 \nL 1294.564071 111.968789 \nL 1297.568055 111.604624 \nL 1300.572039 111.604624 \nL 1303.576022 95.944379 \nL 1312.587974 95.944379 \nL 1315.591957 84.654376 \nL 1324.603909 84.654376 \nL 1330.611876 77.006389 \nL 1333.61586 77.006389 \nL 1336.619844 66.626954 \nL 1339.623828 66.626954 \nL 1342.627811 65.898572 \nL 1345.631795 60.435679 \nL 1348.635779 56.793768 \nL 1351.639763 51.877175 \nL 1354.643747 42.77237 \nL 1357.64773 34.396001 \nL 1378.675617 34.396001 \nL 1381.679601 22.923967 \nL 1688.085946 22.923967 \nL 1688.085946 22.923967 \n\" style=\"fill:none;stroke:#ff7f0e;stroke-linecap:square;stroke-width:1.5;\"/>\n   </g>\n   <g id=\"patch_9\">\n    <path d=\"M 1218.112684 353.127273 \nL 1218.112684 7.2 \n\" style=\"fill:none;stroke:#000000;stroke-linecap:square;stroke-linejoin:miter;stroke-width:0.8;\"/>\n   </g>\n   <g id=\"patch_10\">\n    <path d=\"M 1710.465625 353.127273 \nL 1710.465625 7.2 \n\" style=\"fill:none;stroke:#000000;stroke-linecap:square;stroke-linejoin:miter;stroke-width:0.8;\"/>\n   </g>\n   <g id=\"patch_11\">\n    <path d=\"M 1218.112684 353.127273 \nL 1710.465625 353.127273 \n\" style=\"fill:none;stroke:#000000;stroke-linecap:square;stroke-linejoin:miter;stroke-width:0.8;\"/>\n   </g>\n   <g id=\"patch_12\">\n    <path d=\"M 1218.112684 7.2 \nL 1710.465625 7.2 \n\" style=\"fill:none;stroke:#000000;stroke-linecap:square;stroke-linejoin:miter;stroke-width:0.8;\"/>\n   </g>\n   <g id=\"legend_2\">\n    <g id=\"patch_13\">\n     <path d=\"M 1459.80625 348.127273 \nL 1703.465625 348.127273 \nQ 1705.465625 348.127273 1705.465625 346.127273 \nL 1705.465625 317.214773 \nQ 1705.465625 315.214773 1703.465625 315.214773 \nL 1459.80625 315.214773 \nQ 1457.80625 315.214773 1457.80625 317.214773 \nL 1457.80625 346.127273 \nQ 1457.80625 348.127273 1459.80625 348.127273 \nz\n\" style=\"fill:#ffffff;opacity:0.8;stroke:#cccccc;stroke-linejoin:miter;\"/>\n    </g>\n    <g id=\"line2d_41\">\n     <path d=\"M 1461.80625 323.31321 \nL 1481.80625 323.31321 \n\" style=\"fill:none;stroke:#1f77b4;stroke-linecap:square;stroke-width:1.5;\"/>\n    </g>\n    <g id=\"line2d_42\"/>\n    <g id=\"text_35\">\n     <!-- max/student_acc = 0.6002084016799927 -->\n     <defs>\n      <path d=\"M 52 44.1875 \nQ 55.375 50.25 60.0625 53.125 \nQ 64.75 56 71.09375 56 \nQ 79.640625 56 84.28125 50.015625 \nQ 88.921875 44.046875 88.921875 33.015625 \nL 88.921875 0 \nL 79.890625 0 \nL 79.890625 32.71875 \nQ 79.890625 40.578125 77.09375 44.375 \nQ 74.3125 48.1875 68.609375 48.1875 \nQ 61.625 48.1875 57.5625 43.546875 \nQ 53.515625 38.921875 53.515625 30.90625 \nL 53.515625 0 \nL 44.484375 0 \nL 44.484375 32.71875 \nQ 44.484375 40.625 41.703125 44.40625 \nQ 38.921875 48.1875 33.109375 48.1875 \nQ 26.21875 48.1875 22.15625 43.53125 \nQ 18.109375 38.875 18.109375 30.90625 \nL 18.109375 0 \nL 9.078125 0 \nL 9.078125 54.6875 \nL 18.109375 54.6875 \nL 18.109375 46.1875 \nQ 21.1875 51.21875 25.484375 53.609375 \nQ 29.78125 56 35.6875 56 \nQ 41.65625 56 45.828125 52.96875 \nQ 50 49.953125 52 44.1875 \nz\n\" id=\"DejaVuSans-109\"/>\n      <path d=\"M 54.890625 54.6875 \nL 35.109375 28.078125 \nL 55.90625 0 \nL 45.3125 0 \nL 29.390625 21.484375 \nL 13.484375 0 \nL 2.875 0 \nL 24.125 28.609375 \nL 4.6875 54.6875 \nL 15.28125 54.6875 \nL 29.78125 35.203125 \nL 44.28125 54.6875 \nz\n\" id=\"DejaVuSans-120\"/>\n     </defs>\n     <g transform=\"translate(1489.80625 326.81321)scale(0.1 -0.1)\">\n      <use xlink:href=\"#DejaVuSans-109\"/>\n      <use x=\"97.412109\" xlink:href=\"#DejaVuSans-97\"/>\n      <use x=\"158.691406\" xlink:href=\"#DejaVuSans-120\"/>\n      <use x=\"217.871094\" xlink:href=\"#DejaVuSans-47\"/>\n      <use x=\"251.5625\" xlink:href=\"#DejaVuSans-115\"/>\n      <use x=\"303.662109\" xlink:href=\"#DejaVuSans-116\"/>\n      <use x=\"342.871094\" xlink:href=\"#DejaVuSans-117\"/>\n      <use x=\"406.25\" xlink:href=\"#DejaVuSans-100\"/>\n      <use x=\"469.726562\" xlink:href=\"#DejaVuSans-101\"/>\n      <use x=\"531.25\" xlink:href=\"#DejaVuSans-110\"/>\n      <use x=\"594.628906\" xlink:href=\"#DejaVuSans-116\"/>\n      <use x=\"633.837891\" xlink:href=\"#DejaVuSans-95\"/>\n      <use x=\"683.837891\" xlink:href=\"#DejaVuSans-97\"/>\n      <use x=\"745.117188\" xlink:href=\"#DejaVuSans-99\"/>\n      <use x=\"800.097656\" xlink:href=\"#DejaVuSans-99\"/>\n      <use x=\"855.078125\" xlink:href=\"#DejaVuSans-32\"/>\n      <use x=\"886.865234\" xlink:href=\"#DejaVuSans-61\"/>\n      <use x=\"970.654297\" xlink:href=\"#DejaVuSans-32\"/>\n      <use x=\"1002.441406\" xlink:href=\"#DejaVuSans-48\"/>\n      <use x=\"1066.064453\" xlink:href=\"#DejaVuSans-46\"/>\n      <use x=\"1097.851562\" xlink:href=\"#DejaVuSans-54\"/>\n      <use x=\"1161.474609\" xlink:href=\"#DejaVuSans-48\"/>\n      <use x=\"1225.097656\" xlink:href=\"#DejaVuSans-48\"/>\n      <use x=\"1288.720703\" xlink:href=\"#DejaVuSans-50\"/>\n      <use x=\"1352.34375\" xlink:href=\"#DejaVuSans-48\"/>\n      <use x=\"1415.966797\" xlink:href=\"#DejaVuSans-56\"/>\n      <use x=\"1479.589844\" xlink:href=\"#DejaVuSans-52\"/>\n      <use x=\"1543.212891\" xlink:href=\"#DejaVuSans-48\"/>\n      <use x=\"1606.835938\" xlink:href=\"#DejaVuSans-49\"/>\n      <use x=\"1670.458984\" xlink:href=\"#DejaVuSans-54\"/>\n      <use x=\"1734.082031\" xlink:href=\"#DejaVuSans-55\"/>\n      <use x=\"1797.705078\" xlink:href=\"#DejaVuSans-57\"/>\n      <use x=\"1861.328125\" xlink:href=\"#DejaVuSans-57\"/>\n      <use x=\"1924.951172\" xlink:href=\"#DejaVuSans-57\"/>\n      <use x=\"1988.574219\" xlink:href=\"#DejaVuSans-50\"/>\n      <use x=\"2052.197266\" xlink:href=\"#DejaVuSans-55\"/>\n     </g>\n    </g>\n    <g id=\"line2d_43\">\n     <path d=\"M 1461.80625 338.26946 \nL 1481.80625 338.26946 \n\" style=\"fill:none;stroke:#ff7f0e;stroke-linecap:square;stroke-width:1.5;\"/>\n    </g>\n    <g id=\"line2d_44\"/>\n    <g id=\"text_36\">\n     <!-- max/teacher_acc = 0.6147916913032532 -->\n     <g transform=\"translate(1489.80625 341.76946)scale(0.1 -0.1)\">\n      <use xlink:href=\"#DejaVuSans-109\"/>\n      <use x=\"97.412109\" xlink:href=\"#DejaVuSans-97\"/>\n      <use x=\"158.691406\" xlink:href=\"#DejaVuSans-120\"/>\n      <use x=\"217.871094\" xlink:href=\"#DejaVuSans-47\"/>\n      <use x=\"251.5625\" xlink:href=\"#DejaVuSans-116\"/>\n      <use x=\"290.771484\" xlink:href=\"#DejaVuSans-101\"/>\n      <use x=\"352.294922\" xlink:href=\"#DejaVuSans-97\"/>\n      <use x=\"413.574219\" xlink:href=\"#DejaVuSans-99\"/>\n      <use x=\"468.554688\" xlink:href=\"#DejaVuSans-104\"/>\n      <use x=\"531.933594\" xlink:href=\"#DejaVuSans-101\"/>\n      <use x=\"593.457031\" xlink:href=\"#DejaVuSans-114\"/>\n      <use x=\"634.570312\" xlink:href=\"#DejaVuSans-95\"/>\n      <use x=\"684.570312\" xlink:href=\"#DejaVuSans-97\"/>\n      <use x=\"745.849609\" xlink:href=\"#DejaVuSans-99\"/>\n      <use x=\"800.830078\" xlink:href=\"#DejaVuSans-99\"/>\n      <use x=\"855.810547\" xlink:href=\"#DejaVuSans-32\"/>\n      <use x=\"887.597656\" xlink:href=\"#DejaVuSans-61\"/>\n      <use x=\"971.386719\" xlink:href=\"#DejaVuSans-32\"/>\n      <use x=\"1003.173828\" xlink:href=\"#DejaVuSans-48\"/>\n      <use x=\"1066.796875\" xlink:href=\"#DejaVuSans-46\"/>\n      <use x=\"1098.583984\" xlink:href=\"#DejaVuSans-54\"/>\n      <use x=\"1162.207031\" xlink:href=\"#DejaVuSans-49\"/>\n      <use x=\"1225.830078\" xlink:href=\"#DejaVuSans-52\"/>\n      <use x=\"1289.453125\" xlink:href=\"#DejaVuSans-55\"/>\n      <use x=\"1353.076172\" xlink:href=\"#DejaVuSans-57\"/>\n      <use x=\"1416.699219\" xlink:href=\"#DejaVuSans-49\"/>\n      <use x=\"1480.322266\" xlink:href=\"#DejaVuSans-54\"/>\n      <use x=\"1543.945312\" xlink:href=\"#DejaVuSans-57\"/>\n      <use x=\"1607.568359\" xlink:href=\"#DejaVuSans-49\"/>\n      <use x=\"1671.191406\" xlink:href=\"#DejaVuSans-51\"/>\n      <use x=\"1734.814453\" xlink:href=\"#DejaVuSans-48\"/>\n      <use x=\"1798.4375\" xlink:href=\"#DejaVuSans-51\"/>\n      <use x=\"1862.060547\" xlink:href=\"#DejaVuSans-50\"/>\n      <use x=\"1925.683594\" xlink:href=\"#DejaVuSans-53\"/>\n      <use x=\"1989.306641\" xlink:href=\"#DejaVuSans-51\"/>\n      <use x=\"2052.929688\" xlink:href=\"#DejaVuSans-50\"/>\n     </g>\n    </g>\n   </g>\n  </g>\n </g>\n <defs>\n  <clipPath id=\"p630259ba19\">\n   <rect height=\"345.927273\" width=\"492.352941\" x=\"36.465625\" y=\"7.2\"/>\n  </clipPath>\n  <clipPath id=\"p7dfdbe660c\">\n   <rect height=\"345.927273\" width=\"492.352941\" x=\"1218.112684\" y=\"7.2\"/>\n  </clipPath>\n </defs>\n</svg>\n",
      "image/png": "[encoded data removed]"
     },
     "metadata": {
      "needs_background": "light"
     }
    }
   ],
   "source": [
    "import matplotlib.pyplot as plt\n",
    "import numpy as np\n",
    "\n",
    "T=trainer.tensorboard.history\n",
    "\n",
    "x = list(range(trainer.checkpoint.epoch_counter))\n",
    "sm = lambda y, w: np.convolve(y, np.ones(w)/w, mode='same')\n",
    "pp = lambda k: plt.plot(x, T[k], label=f\"{k} = {max(T[k])}\")\n",
    "spp = lambda k: plt.plot(x, sm(T[k], 5), label=f\"{k} = {max(T[k])}\")\n",
    "\n",
    "\n",
    "plt.figure(0, figsize=(30, 14))\n",
    "plt.subplot(2, 3, 1)\n",
    "pp(\"val/student_acc\")\n",
    "pp(\"val/teacher_acc\")\n",
    "plt.legend()\n",
    "\n",
    "# plt.subplot(2, 3, 2)\n",
    "# pp(\"hyperparameters/learning_rate\")\n",
    "# plt.legend()\n",
    "\n",
    "plt.subplot(2, 3, 3)\n",
    "pp(\"max/student_acc\")\n",
    "pp(\"max/teacher_acc\")\n",
    "plt.legend()\n",
    "\n",
    "plt.show()"
   ]
  },
  {
   "cell_type": "code",
   "execution_count": 46,
   "metadata": {},
   "outputs": [
    {
     "output_type": "display_data",
     "data": {
      "text/plain": "<Figure size 720x360 with 1 Axes>",
      "image/svg+xml": "<?xml version=\"1.0\" encoding=\"utf-8\" standalone=\"no\"?>\n<!DOCTYPE svg PUBLIC \"-//W3C//DTD SVG 1.1//EN\"\n  \"http://www.w3.org/Graphics/SVG/1.1/DTD/svg11.dtd\">\n<!-- Created with matplotlib (https://matplotlib.org/) -->\n<svg height=\"331.674375pt\" version=\"1.1\" viewBox=\"0 0 623.723438 331.674375\" width=\"623.723438pt\" xmlns=\"http://www.w3.org/2000/svg\" xmlns:xlink=\"http://www.w3.org/1999/xlink\">\n <defs>\n  <style type=\"text/css\">\n*{stroke-linecap:butt;stroke-linejoin:round;}\n  </style>\n </defs>\n <g id=\"figure_1\">\n  <g id=\"patch_1\">\n   <path d=\"M -0 331.674375 \nL 623.723438 331.674375 \nL 623.723438 0 \nL -0 0 \nz\n\" style=\"fill:none;\"/>\n  </g>\n  <g id=\"axes_1\">\n   <g id=\"patch_2\">\n    <path d=\"M 58.523438 294.118125 \nL 616.523438 294.118125 \nL 616.523438 22.318125 \nL 58.523438 22.318125 \nz\n\" style=\"fill:#ffffff;\"/>\n   </g>\n   <g id=\"patch_3\">\n    <path clip-path=\"url(#p9b3b0149ec)\" d=\"M 83.887074 158.218125 \nL 109.25071 158.218125 \nL 109.25071 158.218125 \nL 83.887074 158.218125 \nz\n\" style=\"fill:#1f77b4;\"/>\n   </g>\n   <g id=\"patch_4\">\n    <path clip-path=\"url(#p9b3b0149ec)\" d=\"M 109.25071 158.218125 \nL 134.614347 158.218125 \nL 134.614347 158.218125 \nL 109.25071 158.218125 \nz\n\" style=\"fill:#1f77b4;\"/>\n   </g>\n   <g id=\"patch_5\">\n    <path clip-path=\"url(#p9b3b0149ec)\" d=\"M 134.614347 158.218125 \nL 159.977983 158.218125 \nL 159.977983 158.218125 \nL 134.614347 158.218125 \nz\n\" style=\"fill:#1f77b4;\"/>\n   </g>\n   <g id=\"patch_6\">\n    <path clip-path=\"url(#p9b3b0149ec)\" d=\"M 159.977983 158.218125 \nL 185.341619 158.218125 \nL 185.341619 158.218125 \nL 159.977983 158.218125 \nz\n\" style=\"fill:#1f77b4;\"/>\n   </g>\n   <g id=\"patch_7\">\n    <path clip-path=\"url(#p9b3b0149ec)\" d=\"M 185.341619 158.218125 \nL 210.705256 158.218125 \nL 210.705256 158.218125 \nL 185.341619 158.218125 \nz\n\" style=\"fill:#1f77b4;\"/>\n   </g>\n   <g id=\"patch_8\">\n    <path clip-path=\"url(#p9b3b0149ec)\" d=\"M 210.705256 158.218125 \nL 236.068892 158.218125 \nL 236.068892 158.218125 \nL 210.705256 158.218125 \nz\n\" style=\"fill:#1f77b4;\"/>\n   </g>\n   <g id=\"patch_9\">\n    <path clip-path=\"url(#p9b3b0149ec)\" d=\"M 236.068892 158.218125 \nL 261.432528 158.218125 \nL 261.432528 158.218125 \nL 236.068892 158.218125 \nz\n\" style=\"fill:#1f77b4;\"/>\n   </g>\n   <g id=\"patch_10\">\n    <path clip-path=\"url(#p9b3b0149ec)\" d=\"M 261.432528 158.218125 \nL 286.796165 158.218125 \nL 286.796165 158.218125 \nL 261.432528 158.218125 \nz\n\" style=\"fill:#1f77b4;\"/>\n   </g>\n   <g id=\"patch_11\">\n    <path clip-path=\"url(#p9b3b0149ec)\" d=\"M 286.796165 158.218125 \nL 312.159801 158.218125 \nL 312.159801 158.218125 \nL 286.796165 158.218125 \nz\n\" style=\"fill:#1f77b4;\"/>\n   </g>\n   <g id=\"patch_12\">\n    <path clip-path=\"url(#p9b3b0149ec)\" d=\"M 312.159801 158.218125 \nL 337.523438 158.218125 \nL 337.523438 158.218125 \nL 312.159801 158.218125 \nz\n\" style=\"fill:#1f77b4;\"/>\n   </g>\n   <g id=\"patch_13\">\n    <path clip-path=\"url(#p9b3b0149ec)\" d=\"M 337.523438 158.218125 \nL 362.887074 158.218125 \nL 362.887074 158.218125 \nL 337.523438 158.218125 \nz\n\" style=\"fill:#1f77b4;\"/>\n   </g>\n   <g id=\"patch_14\">\n    <path clip-path=\"url(#p9b3b0149ec)\" d=\"M 362.887074 158.218125 \nL 388.25071 158.218125 \nL 388.25071 158.218125 \nL 362.887074 158.218125 \nz\n\" style=\"fill:#1f77b4;\"/>\n   </g>\n   <g id=\"patch_15\">\n    <path clip-path=\"url(#p9b3b0149ec)\" d=\"M 388.25071 158.218125 \nL 413.614347 158.218125 \nL 413.614347 158.218125 \nL 388.25071 158.218125 \nz\n\" style=\"fill:#1f77b4;\"/>\n   </g>\n   <g id=\"patch_16\">\n    <path clip-path=\"url(#p9b3b0149ec)\" d=\"M 413.614347 158.218125 \nL 438.977983 158.218125 \nL 438.977983 158.218125 \nL 413.614347 158.218125 \nz\n\" style=\"fill:#1f77b4;\"/>\n   </g>\n   <g id=\"patch_17\">\n    <path clip-path=\"url(#p9b3b0149ec)\" d=\"M 438.977983 158.218125 \nL 464.341619 158.218125 \nL 464.341619 158.218125 \nL 438.977983 158.218125 \nz\n\" style=\"fill:#1f77b4;\"/>\n   </g>\n   <g id=\"patch_18\">\n    <path clip-path=\"url(#p9b3b0149ec)\" d=\"M 464.341619 158.218125 \nL 489.705256 158.218125 \nL 489.705256 158.218125 \nL 464.341619 158.218125 \nz\n\" style=\"fill:#1f77b4;\"/>\n   </g>\n   <g id=\"patch_19\">\n    <path clip-path=\"url(#p9b3b0149ec)\" d=\"M 489.705256 158.218125 \nL 515.068892 158.218125 \nL 515.068892 158.218125 \nL 489.705256 158.218125 \nz\n\" style=\"fill:#1f77b4;\"/>\n   </g>\n   <g id=\"patch_20\">\n    <path clip-path=\"url(#p9b3b0149ec)\" d=\"M 515.068892 158.218125 \nL 540.432528 158.218125 \nL 540.432528 158.218125 \nL 515.068892 158.218125 \nz\n\" style=\"fill:#1f77b4;\"/>\n   </g>\n   <g id=\"patch_21\">\n    <path clip-path=\"url(#p9b3b0149ec)\" d=\"M 540.432528 158.218125 \nL 565.796165 158.218125 \nL 565.796165 158.218125 \nL 540.432528 158.218125 \nz\n\" style=\"fill:#1f77b4;\"/>\n   </g>\n   <g id=\"patch_22\">\n    <path clip-path=\"url(#p9b3b0149ec)\" d=\"M 565.796165 158.218125 \nL 591.159801 158.218125 \nL 591.159801 158.218125 \nL 565.796165 158.218125 \nz\n\" style=\"fill:#1f77b4;\"/>\n   </g>\n   <g id=\"matplotlib.axis_1\">\n    <g id=\"xtick_1\">\n     <g id=\"line2d_1\">\n      <defs>\n       <path d=\"M 0 0 \nL 0 3.5 \n\" id=\"m0d477b3d97\" style=\"stroke:#000000;stroke-width:0.8;\"/>\n      </defs>\n      <g>\n       <use style=\"stroke:#000000;stroke-width:0.8;\" x=\"83.887074\" xlink:href=\"#m0d477b3d97\" y=\"294.118125\"/>\n      </g>\n     </g>\n     <g id=\"text_1\">\n      <!-- 0.0 -->\n      <defs>\n       <path d=\"M 31.78125 66.40625 \nQ 24.171875 66.40625 20.328125 58.90625 \nQ 16.5 51.421875 16.5 36.375 \nQ 16.5 21.390625 20.328125 13.890625 \nQ 24.171875 6.390625 31.78125 6.390625 \nQ 39.453125 6.390625 43.28125 13.890625 \nQ 47.125 21.390625 47.125 36.375 \nQ 47.125 51.421875 43.28125 58.90625 \nQ 39.453125 66.40625 31.78125 66.40625 \nz\nM 31.78125 74.21875 \nQ 44.046875 74.21875 50.515625 64.515625 \nQ 56.984375 54.828125 56.984375 36.375 \nQ 56.984375 17.96875 50.515625 8.265625 \nQ 44.046875 -1.421875 31.78125 -1.421875 \nQ 19.53125 -1.421875 13.0625 8.265625 \nQ 6.59375 17.96875 6.59375 36.375 \nQ 6.59375 54.828125 13.0625 64.515625 \nQ 19.53125 74.21875 31.78125 74.21875 \nz\n\" id=\"DejaVuSans-48\"/>\n       <path d=\"M 10.6875 12.40625 \nL 21 12.40625 \nL 21 0 \nL 10.6875 0 \nz\n\" id=\"DejaVuSans-46\"/>\n      </defs>\n      <g transform=\"translate(75.935511 308.716563)scale(0.1 -0.1)\">\n       <use xlink:href=\"#DejaVuSans-48\"/>\n       <use x=\"63.623047\" xlink:href=\"#DejaVuSans-46\"/>\n       <use x=\"95.410156\" xlink:href=\"#DejaVuSans-48\"/>\n      </g>\n     </g>\n    </g>\n    <g id=\"xtick_2\">\n     <g id=\"line2d_2\">\n      <g>\n       <use style=\"stroke:#000000;stroke-width:0.8;\" x=\"185.341619\" xlink:href=\"#m0d477b3d97\" y=\"294.118125\"/>\n      </g>\n     </g>\n     <g id=\"text_2\">\n      <!-- 0.2 -->\n      <defs>\n       <path d=\"M 19.1875 8.296875 \nL 53.609375 8.296875 \nL 53.609375 0 \nL 7.328125 0 \nL 7.328125 8.296875 \nQ 12.9375 14.109375 22.625 23.890625 \nQ 32.328125 33.6875 34.8125 36.53125 \nQ 39.546875 41.84375 41.421875 45.53125 \nQ 43.3125 49.21875 43.3125 52.78125 \nQ 43.3125 58.59375 39.234375 62.25 \nQ 35.15625 65.921875 28.609375 65.921875 \nQ 23.96875 65.921875 18.8125 64.3125 \nQ 13.671875 62.703125 7.8125 59.421875 \nL 7.8125 69.390625 \nQ 13.765625 71.78125 18.9375 73 \nQ 24.125 74.21875 28.421875 74.21875 \nQ 39.75 74.21875 46.484375 68.546875 \nQ 53.21875 62.890625 53.21875 53.421875 \nQ 53.21875 48.921875 51.53125 44.890625 \nQ 49.859375 40.875 45.40625 35.40625 \nQ 44.1875 33.984375 37.640625 27.21875 \nQ 31.109375 20.453125 19.1875 8.296875 \nz\n\" id=\"DejaVuSans-50\"/>\n      </defs>\n      <g transform=\"translate(177.390057 308.716563)scale(0.1 -0.1)\">\n       <use xlink:href=\"#DejaVuSans-48\"/>\n       <use x=\"63.623047\" xlink:href=\"#DejaVuSans-46\"/>\n       <use x=\"95.410156\" xlink:href=\"#DejaVuSans-50\"/>\n      </g>\n     </g>\n    </g>\n    <g id=\"xtick_3\">\n     <g id=\"line2d_3\">\n      <g>\n       <use style=\"stroke:#000000;stroke-width:0.8;\" x=\"286.796165\" xlink:href=\"#m0d477b3d97\" y=\"294.118125\"/>\n      </g>\n     </g>\n     <g id=\"text_3\">\n      <!-- 0.4 -->\n      <defs>\n       <path d=\"M 37.796875 64.3125 \nL 12.890625 25.390625 \nL 37.796875 25.390625 \nz\nM 35.203125 72.90625 \nL 47.609375 72.90625 \nL 47.609375 25.390625 \nL 58.015625 25.390625 \nL 58.015625 17.1875 \nL 47.609375 17.1875 \nL 47.609375 0 \nL 37.796875 0 \nL 37.796875 17.1875 \nL 4.890625 17.1875 \nL 4.890625 26.703125 \nz\n\" id=\"DejaVuSans-52\"/>\n      </defs>\n      <g transform=\"translate(278.844602 308.716563)scale(0.1 -0.1)\">\n       <use xlink:href=\"#DejaVuSans-48\"/>\n       <use x=\"63.623047\" xlink:href=\"#DejaVuSans-46\"/>\n       <use x=\"95.410156\" xlink:href=\"#DejaVuSans-52\"/>\n      </g>\n     </g>\n    </g>\n    <g id=\"xtick_4\">\n     <g id=\"line2d_4\">\n      <g>\n       <use style=\"stroke:#000000;stroke-width:0.8;\" x=\"388.25071\" xlink:href=\"#m0d477b3d97\" y=\"294.118125\"/>\n      </g>\n     </g>\n     <g id=\"text_4\">\n      <!-- 0.6 -->\n      <defs>\n       <path d=\"M 33.015625 40.375 \nQ 26.375 40.375 22.484375 35.828125 \nQ 18.609375 31.296875 18.609375 23.390625 \nQ 18.609375 15.53125 22.484375 10.953125 \nQ 26.375 6.390625 33.015625 6.390625 \nQ 39.65625 6.390625 43.53125 10.953125 \nQ 47.40625 15.53125 47.40625 23.390625 \nQ 47.40625 31.296875 43.53125 35.828125 \nQ 39.65625 40.375 33.015625 40.375 \nz\nM 52.59375 71.296875 \nL 52.59375 62.3125 \nQ 48.875 64.0625 45.09375 64.984375 \nQ 41.3125 65.921875 37.59375 65.921875 \nQ 27.828125 65.921875 22.671875 59.328125 \nQ 17.53125 52.734375 16.796875 39.40625 \nQ 19.671875 43.65625 24.015625 45.921875 \nQ 28.375 48.1875 33.59375 48.1875 \nQ 44.578125 48.1875 50.953125 41.515625 \nQ 57.328125 34.859375 57.328125 23.390625 \nQ 57.328125 12.15625 50.6875 5.359375 \nQ 44.046875 -1.421875 33.015625 -1.421875 \nQ 20.359375 -1.421875 13.671875 8.265625 \nQ 6.984375 17.96875 6.984375 36.375 \nQ 6.984375 53.65625 15.1875 63.9375 \nQ 23.390625 74.21875 37.203125 74.21875 \nQ 40.921875 74.21875 44.703125 73.484375 \nQ 48.484375 72.75 52.59375 71.296875 \nz\n\" id=\"DejaVuSans-54\"/>\n      </defs>\n      <g transform=\"translate(380.299148 308.716563)scale(0.1 -0.1)\">\n       <use xlink:href=\"#DejaVuSans-48\"/>\n       <use x=\"63.623047\" xlink:href=\"#DejaVuSans-46\"/>\n       <use x=\"95.410156\" xlink:href=\"#DejaVuSans-54\"/>\n      </g>\n     </g>\n    </g>\n    <g id=\"xtick_5\">\n     <g id=\"line2d_5\">\n      <g>\n       <use style=\"stroke:#000000;stroke-width:0.8;\" x=\"489.705256\" xlink:href=\"#m0d477b3d97\" y=\"294.118125\"/>\n      </g>\n     </g>\n     <g id=\"text_5\">\n      <!-- 0.8 -->\n      <defs>\n       <path d=\"M 31.78125 34.625 \nQ 24.75 34.625 20.71875 30.859375 \nQ 16.703125 27.09375 16.703125 20.515625 \nQ 16.703125 13.921875 20.71875 10.15625 \nQ 24.75 6.390625 31.78125 6.390625 \nQ 38.8125 6.390625 42.859375 10.171875 \nQ 46.921875 13.96875 46.921875 20.515625 \nQ 46.921875 27.09375 42.890625 30.859375 \nQ 38.875 34.625 31.78125 34.625 \nz\nM 21.921875 38.8125 \nQ 15.578125 40.375 12.03125 44.71875 \nQ 8.5 49.078125 8.5 55.328125 \nQ 8.5 64.0625 14.71875 69.140625 \nQ 20.953125 74.21875 31.78125 74.21875 \nQ 42.671875 74.21875 48.875 69.140625 \nQ 55.078125 64.0625 55.078125 55.328125 \nQ 55.078125 49.078125 51.53125 44.71875 \nQ 48 40.375 41.703125 38.8125 \nQ 48.828125 37.15625 52.796875 32.3125 \nQ 56.78125 27.484375 56.78125 20.515625 \nQ 56.78125 9.90625 50.3125 4.234375 \nQ 43.84375 -1.421875 31.78125 -1.421875 \nQ 19.734375 -1.421875 13.25 4.234375 \nQ 6.78125 9.90625 6.78125 20.515625 \nQ 6.78125 27.484375 10.78125 32.3125 \nQ 14.796875 37.15625 21.921875 38.8125 \nz\nM 18.3125 54.390625 \nQ 18.3125 48.734375 21.84375 45.5625 \nQ 25.390625 42.390625 31.78125 42.390625 \nQ 38.140625 42.390625 41.71875 45.5625 \nQ 45.3125 48.734375 45.3125 54.390625 \nQ 45.3125 60.0625 41.71875 63.234375 \nQ 38.140625 66.40625 31.78125 66.40625 \nQ 25.390625 66.40625 21.84375 63.234375 \nQ 18.3125 60.0625 18.3125 54.390625 \nz\n\" id=\"DejaVuSans-56\"/>\n      </defs>\n      <g transform=\"translate(481.753693 308.716563)scale(0.1 -0.1)\">\n       <use xlink:href=\"#DejaVuSans-48\"/>\n       <use x=\"63.623047\" xlink:href=\"#DejaVuSans-46\"/>\n       <use x=\"95.410156\" xlink:href=\"#DejaVuSans-56\"/>\n      </g>\n     </g>\n    </g>\n    <g id=\"xtick_6\">\n     <g id=\"line2d_6\">\n      <g>\n       <use style=\"stroke:#000000;stroke-width:0.8;\" x=\"591.159801\" xlink:href=\"#m0d477b3d97\" y=\"294.118125\"/>\n      </g>\n     </g>\n     <g id=\"text_6\">\n      <!-- 1.0 -->\n      <defs>\n       <path d=\"M 12.40625 8.296875 \nL 28.515625 8.296875 \nL 28.515625 63.921875 \nL 10.984375 60.40625 \nL 10.984375 69.390625 \nL 28.421875 72.90625 \nL 38.28125 72.90625 \nL 38.28125 8.296875 \nL 54.390625 8.296875 \nL 54.390625 0 \nL 12.40625 0 \nz\n\" id=\"DejaVuSans-49\"/>\n      </defs>\n      <g transform=\"translate(583.208239 308.716563)scale(0.1 -0.1)\">\n       <use xlink:href=\"#DejaVuSans-49\"/>\n       <use x=\"63.623047\" xlink:href=\"#DejaVuSans-46\"/>\n       <use x=\"95.410156\" xlink:href=\"#DejaVuSans-48\"/>\n      </g>\n     </g>\n    </g>\n    <g id=\"text_7\">\n     <!-- lambda -->\n     <defs>\n      <path d=\"M 9.421875 75.984375 \nL 18.40625 75.984375 \nL 18.40625 0 \nL 9.421875 0 \nz\n\" id=\"DejaVuSans-108\"/>\n      <path d=\"M 34.28125 27.484375 \nQ 23.390625 27.484375 19.1875 25 \nQ 14.984375 22.515625 14.984375 16.5 \nQ 14.984375 11.71875 18.140625 8.90625 \nQ 21.296875 6.109375 26.703125 6.109375 \nQ 34.1875 6.109375 38.703125 11.40625 \nQ 43.21875 16.703125 43.21875 25.484375 \nL 43.21875 27.484375 \nz\nM 52.203125 31.203125 \nL 52.203125 0 \nL 43.21875 0 \nL 43.21875 8.296875 \nQ 40.140625 3.328125 35.546875 0.953125 \nQ 30.953125 -1.421875 24.3125 -1.421875 \nQ 15.921875 -1.421875 10.953125 3.296875 \nQ 6 8.015625 6 15.921875 \nQ 6 25.140625 12.171875 29.828125 \nQ 18.359375 34.515625 30.609375 34.515625 \nL 43.21875 34.515625 \nL 43.21875 35.40625 \nQ 43.21875 41.609375 39.140625 45 \nQ 35.0625 48.390625 27.6875 48.390625 \nQ 23 48.390625 18.546875 47.265625 \nQ 14.109375 46.140625 10.015625 43.890625 \nL 10.015625 52.203125 \nQ 14.9375 54.109375 19.578125 55.046875 \nQ 24.21875 56 28.609375 56 \nQ 40.484375 56 46.34375 49.84375 \nQ 52.203125 43.703125 52.203125 31.203125 \nz\n\" id=\"DejaVuSans-97\"/>\n      <path d=\"M 52 44.1875 \nQ 55.375 50.25 60.0625 53.125 \nQ 64.75 56 71.09375 56 \nQ 79.640625 56 84.28125 50.015625 \nQ 88.921875 44.046875 88.921875 33.015625 \nL 88.921875 0 \nL 79.890625 0 \nL 79.890625 32.71875 \nQ 79.890625 40.578125 77.09375 44.375 \nQ 74.3125 48.1875 68.609375 48.1875 \nQ 61.625 48.1875 57.5625 43.546875 \nQ 53.515625 38.921875 53.515625 30.90625 \nL 53.515625 0 \nL 44.484375 0 \nL 44.484375 32.71875 \nQ 44.484375 40.625 41.703125 44.40625 \nQ 38.921875 48.1875 33.109375 48.1875 \nQ 26.21875 48.1875 22.15625 43.53125 \nQ 18.109375 38.875 18.109375 30.90625 \nL 18.109375 0 \nL 9.078125 0 \nL 9.078125 54.6875 \nL 18.109375 54.6875 \nL 18.109375 46.1875 \nQ 21.1875 51.21875 25.484375 53.609375 \nQ 29.78125 56 35.6875 56 \nQ 41.65625 56 45.828125 52.96875 \nQ 50 49.953125 52 44.1875 \nz\n\" id=\"DejaVuSans-109\"/>\n      <path d=\"M 48.6875 27.296875 \nQ 48.6875 37.203125 44.609375 42.84375 \nQ 40.53125 48.484375 33.40625 48.484375 \nQ 26.265625 48.484375 22.1875 42.84375 \nQ 18.109375 37.203125 18.109375 27.296875 \nQ 18.109375 17.390625 22.1875 11.75 \nQ 26.265625 6.109375 33.40625 6.109375 \nQ 40.53125 6.109375 44.609375 11.75 \nQ 48.6875 17.390625 48.6875 27.296875 \nz\nM 18.109375 46.390625 \nQ 20.953125 51.265625 25.265625 53.625 \nQ 29.59375 56 35.59375 56 \nQ 45.5625 56 51.78125 48.09375 \nQ 58.015625 40.1875 58.015625 27.296875 \nQ 58.015625 14.40625 51.78125 6.484375 \nQ 45.5625 -1.421875 35.59375 -1.421875 \nQ 29.59375 -1.421875 25.265625 0.953125 \nQ 20.953125 3.328125 18.109375 8.203125 \nL 18.109375 0 \nL 9.078125 0 \nL 9.078125 75.984375 \nL 18.109375 75.984375 \nz\n\" id=\"DejaVuSans-98\"/>\n      <path d=\"M 45.40625 46.390625 \nL 45.40625 75.984375 \nL 54.390625 75.984375 \nL 54.390625 0 \nL 45.40625 0 \nL 45.40625 8.203125 \nQ 42.578125 3.328125 38.25 0.953125 \nQ 33.9375 -1.421875 27.875 -1.421875 \nQ 17.96875 -1.421875 11.734375 6.484375 \nQ 5.515625 14.40625 5.515625 27.296875 \nQ 5.515625 40.1875 11.734375 48.09375 \nQ 17.96875 56 27.875 56 \nQ 33.9375 56 38.25 53.625 \nQ 42.578125 51.265625 45.40625 46.390625 \nz\nM 14.796875 27.296875 \nQ 14.796875 17.390625 18.875 11.75 \nQ 22.953125 6.109375 30.078125 6.109375 \nQ 37.203125 6.109375 41.296875 11.75 \nQ 45.40625 17.390625 45.40625 27.296875 \nQ 45.40625 37.203125 41.296875 42.84375 \nQ 37.203125 48.484375 30.078125 48.484375 \nQ 22.953125 48.484375 18.875 42.84375 \nQ 14.796875 37.203125 14.796875 27.296875 \nz\n\" id=\"DejaVuSans-100\"/>\n     </defs>\n     <g transform=\"translate(318.7875 322.394687)scale(0.1 -0.1)\">\n      <use xlink:href=\"#DejaVuSans-108\"/>\n      <use x=\"27.783203\" xlink:href=\"#DejaVuSans-97\"/>\n      <use x=\"89.0625\" xlink:href=\"#DejaVuSans-109\"/>\n      <use x=\"186.474609\" xlink:href=\"#DejaVuSans-98\"/>\n      <use x=\"249.951172\" xlink:href=\"#DejaVuSans-100\"/>\n      <use x=\"313.427734\" xlink:href=\"#DejaVuSans-97\"/>\n     </g>\n    </g>\n   </g>\n   <g id=\"matplotlib.axis_2\">\n    <g id=\"ytick_1\">\n     <g id=\"line2d_7\">\n      <defs>\n       <path d=\"M 0 0 \nL -3.5 0 \n\" id=\"m4dc7748cb2\" style=\"stroke:#000000;stroke-width:0.8;\"/>\n      </defs>\n      <g>\n       <use style=\"stroke:#000000;stroke-width:0.8;\" x=\"58.523438\" xlink:href=\"#m4dc7748cb2\" y=\"257.054489\"/>\n      </g>\n     </g>\n     <g id=\"text_8\">\n      <!-- −0.04 -->\n      <defs>\n       <path d=\"M 10.59375 35.5 \nL 73.1875 35.5 \nL 73.1875 27.203125 \nL 10.59375 27.203125 \nz\n\" id=\"DejaVuSans-8722\"/>\n      </defs>\n      <g transform=\"translate(20.878125 260.853707)scale(0.1 -0.1)\">\n       <use xlink:href=\"#DejaVuSans-8722\"/>\n       <use x=\"83.789062\" xlink:href=\"#DejaVuSans-48\"/>\n       <use x=\"147.412109\" xlink:href=\"#DejaVuSans-46\"/>\n       <use x=\"179.199219\" xlink:href=\"#DejaVuSans-48\"/>\n       <use x=\"242.822266\" xlink:href=\"#DejaVuSans-52\"/>\n      </g>\n     </g>\n    </g>\n    <g id=\"ytick_2\">\n     <g id=\"line2d_8\">\n      <g>\n       <use style=\"stroke:#000000;stroke-width:0.8;\" x=\"58.523438\" xlink:href=\"#m4dc7748cb2\" y=\"207.636307\"/>\n      </g>\n     </g>\n     <g id=\"text_9\">\n      <!-- −0.02 -->\n      <g transform=\"translate(20.878125 211.435526)scale(0.1 -0.1)\">\n       <use xlink:href=\"#DejaVuSans-8722\"/>\n       <use x=\"83.789062\" xlink:href=\"#DejaVuSans-48\"/>\n       <use x=\"147.412109\" xlink:href=\"#DejaVuSans-46\"/>\n       <use x=\"179.199219\" xlink:href=\"#DejaVuSans-48\"/>\n       <use x=\"242.822266\" xlink:href=\"#DejaVuSans-50\"/>\n      </g>\n     </g>\n    </g>\n    <g id=\"ytick_3\">\n     <g id=\"line2d_9\">\n      <g>\n       <use style=\"stroke:#000000;stroke-width:0.8;\" x=\"58.523438\" xlink:href=\"#m4dc7748cb2\" y=\"158.218125\"/>\n      </g>\n     </g>\n     <g id=\"text_10\">\n      <!-- 0.00 -->\n      <g transform=\"translate(29.257812 162.017344)scale(0.1 -0.1)\">\n       <use xlink:href=\"#DejaVuSans-48\"/>\n       <use x=\"63.623047\" xlink:href=\"#DejaVuSans-46\"/>\n       <use x=\"95.410156\" xlink:href=\"#DejaVuSans-48\"/>\n       <use x=\"159.033203\" xlink:href=\"#DejaVuSans-48\"/>\n      </g>\n     </g>\n    </g>\n    <g id=\"ytick_4\">\n     <g id=\"line2d_10\">\n      <g>\n       <use style=\"stroke:#000000;stroke-width:0.8;\" x=\"58.523438\" xlink:href=\"#m4dc7748cb2\" y=\"108.799943\"/>\n      </g>\n     </g>\n     <g id=\"text_11\">\n      <!-- 0.02 -->\n      <g transform=\"translate(29.257812 112.599162)scale(0.1 -0.1)\">\n       <use xlink:href=\"#DejaVuSans-48\"/>\n       <use x=\"63.623047\" xlink:href=\"#DejaVuSans-46\"/>\n       <use x=\"95.410156\" xlink:href=\"#DejaVuSans-48\"/>\n       <use x=\"159.033203\" xlink:href=\"#DejaVuSans-50\"/>\n      </g>\n     </g>\n    </g>\n    <g id=\"ytick_5\">\n     <g id=\"line2d_11\">\n      <g>\n       <use style=\"stroke:#000000;stroke-width:0.8;\" x=\"58.523438\" xlink:href=\"#m4dc7748cb2\" y=\"59.381761\"/>\n      </g>\n     </g>\n     <g id=\"text_12\">\n      <!-- 0.04 -->\n      <g transform=\"translate(29.257812 63.18098)scale(0.1 -0.1)\">\n       <use xlink:href=\"#DejaVuSans-48\"/>\n       <use x=\"63.623047\" xlink:href=\"#DejaVuSans-46\"/>\n       <use x=\"95.410156\" xlink:href=\"#DejaVuSans-48\"/>\n       <use x=\"159.033203\" xlink:href=\"#DejaVuSans-52\"/>\n      </g>\n     </g>\n    </g>\n    <g id=\"text_13\">\n     <!-- nb occurence -->\n     <defs>\n      <path d=\"M 54.890625 33.015625 \nL 54.890625 0 \nL 45.90625 0 \nL 45.90625 32.71875 \nQ 45.90625 40.484375 42.875 44.328125 \nQ 39.84375 48.1875 33.796875 48.1875 \nQ 26.515625 48.1875 22.3125 43.546875 \nQ 18.109375 38.921875 18.109375 30.90625 \nL 18.109375 0 \nL 9.078125 0 \nL 9.078125 54.6875 \nL 18.109375 54.6875 \nL 18.109375 46.1875 \nQ 21.34375 51.125 25.703125 53.5625 \nQ 30.078125 56 35.796875 56 \nQ 45.21875 56 50.046875 50.171875 \nQ 54.890625 44.34375 54.890625 33.015625 \nz\n\" id=\"DejaVuSans-110\"/>\n      <path id=\"DejaVuSans-32\"/>\n      <path d=\"M 30.609375 48.390625 \nQ 23.390625 48.390625 19.1875 42.75 \nQ 14.984375 37.109375 14.984375 27.296875 \nQ 14.984375 17.484375 19.15625 11.84375 \nQ 23.34375 6.203125 30.609375 6.203125 \nQ 37.796875 6.203125 41.984375 11.859375 \nQ 46.1875 17.53125 46.1875 27.296875 \nQ 46.1875 37.015625 41.984375 42.703125 \nQ 37.796875 48.390625 30.609375 48.390625 \nz\nM 30.609375 56 \nQ 42.328125 56 49.015625 48.375 \nQ 55.71875 40.765625 55.71875 27.296875 \nQ 55.71875 13.875 49.015625 6.21875 \nQ 42.328125 -1.421875 30.609375 -1.421875 \nQ 18.84375 -1.421875 12.171875 6.21875 \nQ 5.515625 13.875 5.515625 27.296875 \nQ 5.515625 40.765625 12.171875 48.375 \nQ 18.84375 56 30.609375 56 \nz\n\" id=\"DejaVuSans-111\"/>\n      <path d=\"M 48.78125 52.59375 \nL 48.78125 44.1875 \nQ 44.96875 46.296875 41.140625 47.34375 \nQ 37.3125 48.390625 33.40625 48.390625 \nQ 24.65625 48.390625 19.8125 42.84375 \nQ 14.984375 37.3125 14.984375 27.296875 \nQ 14.984375 17.28125 19.8125 11.734375 \nQ 24.65625 6.203125 33.40625 6.203125 \nQ 37.3125 6.203125 41.140625 7.25 \nQ 44.96875 8.296875 48.78125 10.40625 \nL 48.78125 2.09375 \nQ 45.015625 0.34375 40.984375 -0.53125 \nQ 36.96875 -1.421875 32.421875 -1.421875 \nQ 20.0625 -1.421875 12.78125 6.34375 \nQ 5.515625 14.109375 5.515625 27.296875 \nQ 5.515625 40.671875 12.859375 48.328125 \nQ 20.21875 56 33.015625 56 \nQ 37.15625 56 41.109375 55.140625 \nQ 45.0625 54.296875 48.78125 52.59375 \nz\n\" id=\"DejaVuSans-99\"/>\n      <path d=\"M 8.5 21.578125 \nL 8.5 54.6875 \nL 17.484375 54.6875 \nL 17.484375 21.921875 \nQ 17.484375 14.15625 20.5 10.265625 \nQ 23.53125 6.390625 29.59375 6.390625 \nQ 36.859375 6.390625 41.078125 11.03125 \nQ 45.3125 15.671875 45.3125 23.6875 \nL 45.3125 54.6875 \nL 54.296875 54.6875 \nL 54.296875 0 \nL 45.3125 0 \nL 45.3125 8.40625 \nQ 42.046875 3.421875 37.71875 1 \nQ 33.40625 -1.421875 27.6875 -1.421875 \nQ 18.265625 -1.421875 13.375 4.4375 \nQ 8.5 10.296875 8.5 21.578125 \nz\nM 31.109375 56 \nz\n\" id=\"DejaVuSans-117\"/>\n      <path d=\"M 41.109375 46.296875 \nQ 39.59375 47.171875 37.8125 47.578125 \nQ 36.03125 48 33.890625 48 \nQ 26.265625 48 22.1875 43.046875 \nQ 18.109375 38.09375 18.109375 28.8125 \nL 18.109375 0 \nL 9.078125 0 \nL 9.078125 54.6875 \nL 18.109375 54.6875 \nL 18.109375 46.1875 \nQ 20.953125 51.171875 25.484375 53.578125 \nQ 30.03125 56 36.53125 56 \nQ 37.453125 56 38.578125 55.875 \nQ 39.703125 55.765625 41.0625 55.515625 \nz\n\" id=\"DejaVuSans-114\"/>\n      <path d=\"M 56.203125 29.59375 \nL 56.203125 25.203125 \nL 14.890625 25.203125 \nQ 15.484375 15.921875 20.484375 11.0625 \nQ 25.484375 6.203125 34.421875 6.203125 \nQ 39.59375 6.203125 44.453125 7.46875 \nQ 49.3125 8.734375 54.109375 11.28125 \nL 54.109375 2.78125 \nQ 49.265625 0.734375 44.1875 -0.34375 \nQ 39.109375 -1.421875 33.890625 -1.421875 \nQ 20.796875 -1.421875 13.15625 6.1875 \nQ 5.515625 13.8125 5.515625 26.8125 \nQ 5.515625 40.234375 12.765625 48.109375 \nQ 20.015625 56 32.328125 56 \nQ 43.359375 56 49.78125 48.890625 \nQ 56.203125 41.796875 56.203125 29.59375 \nz\nM 47.21875 32.234375 \nQ 47.125 39.59375 43.09375 43.984375 \nQ 39.0625 48.390625 32.421875 48.390625 \nQ 24.90625 48.390625 20.390625 44.140625 \nQ 15.875 39.890625 15.1875 32.171875 \nz\n\" id=\"DejaVuSans-101\"/>\n     </defs>\n     <g transform=\"translate(14.798437 192.001719)rotate(-90)scale(0.1 -0.1)\">\n      <use xlink:href=\"#DejaVuSans-110\"/>\n      <use x=\"63.378906\" xlink:href=\"#DejaVuSans-98\"/>\n      <use x=\"126.855469\" xlink:href=\"#DejaVuSans-32\"/>\n      <use x=\"158.642578\" xlink:href=\"#DejaVuSans-111\"/>\n      <use x=\"219.824219\" xlink:href=\"#DejaVuSans-99\"/>\n      <use x=\"274.804688\" xlink:href=\"#DejaVuSans-99\"/>\n      <use x=\"329.785156\" xlink:href=\"#DejaVuSans-117\"/>\n      <use x=\"393.164062\" xlink:href=\"#DejaVuSans-114\"/>\n      <use x=\"434.246094\" xlink:href=\"#DejaVuSans-101\"/>\n      <use x=\"495.769531\" xlink:href=\"#DejaVuSans-110\"/>\n      <use x=\"559.148438\" xlink:href=\"#DejaVuSans-99\"/>\n      <use x=\"614.128906\" xlink:href=\"#DejaVuSans-101\"/>\n     </g>\n    </g>\n   </g>\n   <g id=\"patch_23\">\n    <path d=\"M 58.523438 294.118125 \nL 58.523438 22.318125 \n\" style=\"fill:none;stroke:#000000;stroke-linecap:square;stroke-linejoin:miter;stroke-width:0.8;\"/>\n   </g>\n   <g id=\"patch_24\">\n    <path d=\"M 616.523438 294.118125 \nL 616.523438 22.318125 \n\" style=\"fill:none;stroke:#000000;stroke-linecap:square;stroke-linejoin:miter;stroke-width:0.8;\"/>\n   </g>\n   <g id=\"patch_25\">\n    <path d=\"M 58.523438 294.118125 \nL 616.523438 294.118125 \n\" style=\"fill:none;stroke:#000000;stroke-linecap:square;stroke-linejoin:miter;stroke-width:0.8;\"/>\n   </g>\n   <g id=\"patch_26\">\n    <path d=\"M 58.523438 22.318125 \nL 616.523438 22.318125 \n\" style=\"fill:none;stroke:#000000;stroke-linecap:square;stroke-linejoin:miter;stroke-width:0.8;\"/>\n   </g>\n   <g id=\"text_14\">\n    <!-- lambda distribution: alpha=0.4 -->\n    <defs>\n     <path d=\"M 9.421875 54.6875 \nL 18.40625 54.6875 \nL 18.40625 0 \nL 9.421875 0 \nz\nM 9.421875 75.984375 \nL 18.40625 75.984375 \nL 18.40625 64.59375 \nL 9.421875 64.59375 \nz\n\" id=\"DejaVuSans-105\"/>\n     <path d=\"M 44.28125 53.078125 \nL 44.28125 44.578125 \nQ 40.484375 46.53125 36.375 47.5 \nQ 32.28125 48.484375 27.875 48.484375 \nQ 21.1875 48.484375 17.84375 46.4375 \nQ 14.5 44.390625 14.5 40.28125 \nQ 14.5 37.15625 16.890625 35.375 \nQ 19.28125 33.59375 26.515625 31.984375 \nL 29.59375 31.296875 \nQ 39.15625 29.25 43.1875 25.515625 \nQ 47.21875 21.78125 47.21875 15.09375 \nQ 47.21875 7.46875 41.1875 3.015625 \nQ 35.15625 -1.421875 24.609375 -1.421875 \nQ 20.21875 -1.421875 15.453125 -0.5625 \nQ 10.6875 0.296875 5.421875 2 \nL 5.421875 11.28125 \nQ 10.40625 8.6875 15.234375 7.390625 \nQ 20.0625 6.109375 24.8125 6.109375 \nQ 31.15625 6.109375 34.5625 8.28125 \nQ 37.984375 10.453125 37.984375 14.40625 \nQ 37.984375 18.0625 35.515625 20.015625 \nQ 33.0625 21.96875 24.703125 23.78125 \nL 21.578125 24.515625 \nQ 13.234375 26.265625 9.515625 29.90625 \nQ 5.8125 33.546875 5.8125 39.890625 \nQ 5.8125 47.609375 11.28125 51.796875 \nQ 16.75 56 26.8125 56 \nQ 31.78125 56 36.171875 55.265625 \nQ 40.578125 54.546875 44.28125 53.078125 \nz\n\" id=\"DejaVuSans-115\"/>\n     <path d=\"M 18.3125 70.21875 \nL 18.3125 54.6875 \nL 36.8125 54.6875 \nL 36.8125 47.703125 \nL 18.3125 47.703125 \nL 18.3125 18.015625 \nQ 18.3125 11.328125 20.140625 9.421875 \nQ 21.96875 7.515625 27.59375 7.515625 \nL 36.8125 7.515625 \nL 36.8125 0 \nL 27.59375 0 \nQ 17.1875 0 13.234375 3.875 \nQ 9.28125 7.765625 9.28125 18.015625 \nL 9.28125 47.703125 \nL 2.6875 47.703125 \nL 2.6875 54.6875 \nL 9.28125 54.6875 \nL 9.28125 70.21875 \nz\n\" id=\"DejaVuSans-116\"/>\n     <path d=\"M 11.71875 12.40625 \nL 22.015625 12.40625 \nL 22.015625 0 \nL 11.71875 0 \nz\nM 11.71875 51.703125 \nL 22.015625 51.703125 \nL 22.015625 39.3125 \nL 11.71875 39.3125 \nz\n\" id=\"DejaVuSans-58\"/>\n     <path d=\"M 18.109375 8.203125 \nL 18.109375 -20.796875 \nL 9.078125 -20.796875 \nL 9.078125 54.6875 \nL 18.109375 54.6875 \nL 18.109375 46.390625 \nQ 20.953125 51.265625 25.265625 53.625 \nQ 29.59375 56 35.59375 56 \nQ 45.5625 56 51.78125 48.09375 \nQ 58.015625 40.1875 58.015625 27.296875 \nQ 58.015625 14.40625 51.78125 6.484375 \nQ 45.5625 -1.421875 35.59375 -1.421875 \nQ 29.59375 -1.421875 25.265625 0.953125 \nQ 20.953125 3.328125 18.109375 8.203125 \nz\nM 48.6875 27.296875 \nQ 48.6875 37.203125 44.609375 42.84375 \nQ 40.53125 48.484375 33.40625 48.484375 \nQ 26.265625 48.484375 22.1875 42.84375 \nQ 18.109375 37.203125 18.109375 27.296875 \nQ 18.109375 17.390625 22.1875 11.75 \nQ 26.265625 6.109375 33.40625 6.109375 \nQ 40.53125 6.109375 44.609375 11.75 \nQ 48.6875 17.390625 48.6875 27.296875 \nz\n\" id=\"DejaVuSans-112\"/>\n     <path d=\"M 54.890625 33.015625 \nL 54.890625 0 \nL 45.90625 0 \nL 45.90625 32.71875 \nQ 45.90625 40.484375 42.875 44.328125 \nQ 39.84375 48.1875 33.796875 48.1875 \nQ 26.515625 48.1875 22.3125 43.546875 \nQ 18.109375 38.921875 18.109375 30.90625 \nL 18.109375 0 \nL 9.078125 0 \nL 9.078125 75.984375 \nL 18.109375 75.984375 \nL 18.109375 46.1875 \nQ 21.34375 51.125 25.703125 53.5625 \nQ 30.078125 56 35.796875 56 \nQ 45.21875 56 50.046875 50.171875 \nQ 54.890625 44.34375 54.890625 33.015625 \nz\n\" id=\"DejaVuSans-104\"/>\n     <path d=\"M 10.59375 45.40625 \nL 73.1875 45.40625 \nL 73.1875 37.203125 \nL 10.59375 37.203125 \nz\nM 10.59375 25.484375 \nL 73.1875 25.484375 \nL 73.1875 17.1875 \nL 10.59375 17.1875 \nz\n\" id=\"DejaVuSans-61\"/>\n    </defs>\n    <g transform=\"translate(243.811875 16.318125)scale(0.12 -0.12)\">\n     <use xlink:href=\"#DejaVuSans-108\"/>\n     <use x=\"27.783203\" xlink:href=\"#DejaVuSans-97\"/>\n     <use x=\"89.0625\" xlink:href=\"#DejaVuSans-109\"/>\n     <use x=\"186.474609\" xlink:href=\"#DejaVuSans-98\"/>\n     <use x=\"249.951172\" xlink:href=\"#DejaVuSans-100\"/>\n     <use x=\"313.427734\" xlink:href=\"#DejaVuSans-97\"/>\n     <use x=\"374.707031\" xlink:href=\"#DejaVuSans-32\"/>\n     <use x=\"406.494141\" xlink:href=\"#DejaVuSans-100\"/>\n     <use x=\"469.970703\" xlink:href=\"#DejaVuSans-105\"/>\n     <use x=\"497.753906\" xlink:href=\"#DejaVuSans-115\"/>\n     <use x=\"549.853516\" xlink:href=\"#DejaVuSans-116\"/>\n     <use x=\"589.0625\" xlink:href=\"#DejaVuSans-114\"/>\n     <use x=\"630.175781\" xlink:href=\"#DejaVuSans-105\"/>\n     <use x=\"657.958984\" xlink:href=\"#DejaVuSans-98\"/>\n     <use x=\"721.435547\" xlink:href=\"#DejaVuSans-117\"/>\n     <use x=\"784.814453\" xlink:href=\"#DejaVuSans-116\"/>\n     <use x=\"824.023438\" xlink:href=\"#DejaVuSans-105\"/>\n     <use x=\"851.806641\" xlink:href=\"#DejaVuSans-111\"/>\n     <use x=\"912.988281\" xlink:href=\"#DejaVuSans-110\"/>\n     <use x=\"976.367188\" xlink:href=\"#DejaVuSans-58\"/>\n     <use x=\"1010.058594\" xlink:href=\"#DejaVuSans-32\"/>\n     <use x=\"1041.845703\" xlink:href=\"#DejaVuSans-97\"/>\n     <use x=\"1103.125\" xlink:href=\"#DejaVuSans-108\"/>\n     <use x=\"1130.908203\" xlink:href=\"#DejaVuSans-112\"/>\n     <use x=\"1194.384766\" xlink:href=\"#DejaVuSans-104\"/>\n     <use x=\"1257.763672\" xlink:href=\"#DejaVuSans-97\"/>\n     <use x=\"1319.042969\" xlink:href=\"#DejaVuSans-61\"/>\n     <use x=\"1402.832031\" xlink:href=\"#DejaVuSans-48\"/>\n     <use x=\"1466.455078\" xlink:href=\"#DejaVuSans-46\"/>\n     <use x=\"1498.242188\" xlink:href=\"#DejaVuSans-52\"/>\n    </g>\n   </g>\n  </g>\n </g>\n <defs>\n  <clipPath id=\"p9b3b0149ec\">\n   <rect height=\"271.8\" width=\"558\" x=\"58.523438\" y=\"22.318125\"/>\n  </clipPath>\n </defs>\n</svg>\n",
      "image/png": "[encoded data removed]"
     },
     "metadata": {
      "needs_background": "light"
     }
    }
   ],
   "source": [
    "plt.figure(0, figsize=(10, 5))\n",
    "plt.hist(trainer.mixup_fn.lambda_history, bins=20)\n",
    "plt.ylabel(\"nb occurence\")\n",
    "plt.xlabel(\"lambda\")\n",
    "plt.title(\"lambda distribution: alpha=0.4\")\n",
    "plt.show()"
   ]
  },
  {
   "source": [
    "# Test"
   ],
   "cell_type": "markdown",
   "metadata": {}
  },
  {
   "cell_type": "code",
   "execution_count": 47,
   "metadata": {},
   "outputs": [
    {
     "output_type": "error",
     "ename": "NameError",
     "evalue": "name 'self' is not defined",
     "traceback": [
      "\u001b[0;31m---------------------------------------------------------------------------\u001b[0m",
      "\u001b[0;31mNameError\u001b[0m                                 Traceback (most recent call last)",
      "\u001b[0;32m<ipython-input-47-d91d5b058f8d>\u001b[0m in \u001b[0;36m<module>\u001b[0;34m\u001b[0m\n\u001b[1;32m      2\u001b[0m \u001b[0;34m\u001b[0m\u001b[0m\n\u001b[1;32m      3\u001b[0m \u001b[0;31m# aliases\u001b[0m\u001b[0;34m\u001b[0m\u001b[0;34m\u001b[0m\u001b[0;34m\u001b[0m\u001b[0m\n\u001b[0;32m----> 4\u001b[0;31m \u001b[0mM\u001b[0m \u001b[0;34m=\u001b[0m \u001b[0mself\u001b[0m\u001b[0;34m.\u001b[0m\u001b[0mmetrics\u001b[0m\u001b[0;34m\u001b[0m\u001b[0;34m\u001b[0m\u001b[0m\n\u001b[0m\u001b[1;32m      5\u001b[0m \u001b[0mT\u001b[0m \u001b[0;34m=\u001b[0m \u001b[0mself\u001b[0m\u001b[0;34m.\u001b[0m\u001b[0mtensorboard\u001b[0m\u001b[0;34m.\u001b[0m\u001b[0madd_scalar\u001b[0m\u001b[0;34m\u001b[0m\u001b[0;34m\u001b[0m\u001b[0m\n\u001b[1;32m      6\u001b[0m \u001b[0mnb_batch\u001b[0m \u001b[0;34m=\u001b[0m \u001b[0mlen\u001b[0m\u001b[0;34m(\u001b[0m\u001b[0mself\u001b[0m\u001b[0;34m.\u001b[0m\u001b[0mval_loader\u001b[0m\u001b[0;34m)\u001b[0m\u001b[0;34m\u001b[0m\u001b[0;34m\u001b[0m\u001b[0m\n",
      "\u001b[0;31mNameError\u001b[0m: name 'self' is not defined"
     ]
    }
   ],
   "source": [
    "trainer.checkpoint.load_best()\n",
    "\n",
    "# aliases\n",
    "M = self.metrics\n",
    "T = self.tensorboard.add_scalar\n",
    "nb_batch = len(self.val_loader)\n",
    "\n",
    "start_time = time.time()\n",
    "print(\"\")\n",
    "\n",
    "self.reset_metrics()\n",
    "self.student.eval()\n",
    "\n",
    "with torch.set_grad_enabled(False):\n",
    "    for i, (X, y) in enumerate(self.test_loader):\n",
    "        X = X.cuda()\n",
    "        y = y.cuda()\n",
    "\n",
    "        # Predictions\n",
    "        with autocast(enabled=False):\n",
    "            student_logits = self.student(X)\n",
    "            teacher_logits = self.teacher(X)\n",
    "\n",
    "            # Calculate supervised loss (only student on S)\n",
    "            loss = self.loss_ce(student_logits, y)\n",
    "            _teacher_loss = self.loss_ce(teacher_logits, y)  # for metrics only\n",
    "            ccost = self.loss_cc(\n",
    "                self.softmax_fn(student_logits),\n",
    "                self.softmax_fn(teacher_logits))\n",
    "\n",
    "        # Compute the metrics\n",
    "        fscores, accs = self._calc_metrics(\n",
    "            student_logits, student_logits, \n",
    "            teacher_logits, teacher_logits,\n",
    "            y, y\n",
    "        )\n",
    "\n",
    "        # Running average of the two losses\n",
    "        student_running_loss = M.avg_Sce(loss.item()).mean\n",
    "        teacher_running_loss = M.avg_Tce(_teacher_loss.item()).mean\n",
    "        running_ccost = M.avg_ccost(ccost.item()).mean\n",
    "\n",
    "        # logs\n",
    "        print(self.val_form.format(\n",
    "            \"Validation: \", epoch + 1, int(100 * (i + 1) / nb_batch),\n",
    "            \"\", student_running_loss, running_ccost, accs.ss, fscores.ss, 0.0, 0.0,\n",
    "            \"\", teacher_running_loss, accs.ts, fscores.ts, 0.0, 0.0,\n",
    "            time.time() - start_time\n",
    "        ), end=\"\\r\")"
   ]
  },
  {
   "source": [
    "# Cross validation"
   ],
   "cell_type": "markdown",
   "metadata": {}
  },
  {
   "source": [
    "training_params=DotDict(\n",
    "    dataset=args.dataset,\n",
    "\n",
    "    dataset_root = args.dataset_root,\n",
    "    supervised_ratio = args.supervised_ratio,\n",
    "    batch_size = args.batch_size,\n",
    "    train_folds = args.train_folds,\n",
    "    val_folds = args.val_folds,\n",
    "    learning_rate=args.learning_rate,\n",
    "    nb_epoch=args.nb_epoch,\n",
    "    seed=args.seed,\n",
    "\n",
    ")\n",
    "other_params = dict(\n",
    "    num_workers=0,\n",
    "    pin_memory=True,\n",
    "    verbose = 2,\n",
    ")"
   ],
   "cell_type": "markdown",
   "metadata": {}
  },
  {
   "source": [
    "train_folds = [\n",
    "    [1, 2, 3, 4],\n",
    "    [2, 3, 4, 5],\n",
    "    [3, 4, 5, 1],\n",
    "    [4, 5, 1, 2],\n",
    "    [5, 1, 2, 3]\n",
    "]\n",
    "\n",
    "history = []\n",
    "val_folds = [[5], [1], [2], [3], [4]]\n",
    "\n",
    "for t, v in zip(train_folds, val_folds):\n",
    "    print(t, v)\n",
    "\n",
    "    mixup_fn = get_mixup_fn(alpha=1.5)\n",
    "    trainer.mixup_fn = MethodType(mixup_fn, trainer)\n",
    "\n",
    "    training_params.train_folds = t\n",
    "    training_params.val_folds = v\n",
    "\n",
    "    trainer.init_trainer(training_params, **other_params)\n",
    "    trainer.set_printing_form()\n",
    "    trainer.fit()\n",
    "\n",
    "    history.append(((t, v), trainer.maximum_tracker))\n",
    "\n",
    "    trainer.close()"
   ],
   "cell_type": "markdown",
   "metadata": {
    "tags": []
   }
  },
  {
   "source": [
    "for folds, maxer in history:\n",
    "    print(folds, maxer.max[\"student_acc\"].item(), maxer.max[\"teacher_acc\"].item())"
   ],
   "cell_type": "markdown",
   "metadata": {}
  },
  {
   "source": [
    "import numpy as np\n",
    "    \n",
    "s_acc = lambda x: x.max[\"student_acc\"].item()\n",
    "t_acc = lambda x: x.max[\"teacher_acc\"].item()\n",
    "maxers = [i[1] for i in history]\n",
    "\n",
    "print(\"student accuracy mean + std\")\n",
    "print(np.mean(list(map(s_acc, maxers))), np.std(list(map(s_acc, maxers))))\n",
    "\n",
    "print(\"teacher accuracy mean + std\")\n",
    "print(np.mean(list(map(t_acc, maxers))), np.std(list(map(t_acc, maxers))))"
   ],
   "cell_type": "markdown",
   "metadata": {}
  },
  {
   "source": [
    "# Grid search"
   ],
   "cell_type": "markdown",
   "metadata": {}
  },
  {
   "source": [
    "train_folds = [1, 2, 3, 4]\n",
    "val_folds = [5]\n",
    "alpha=(0.1, 0.2, 0.3, 0.4, 0.5, 0.75, 1.0, 1.5, 2)\n",
    "history = []\n",
    "\n",
    "for a in alpha:\n",
    "    print(a)\n",
    "\n",
    "    mixup_fn = get_mixup_fn(alpha=a)\n",
    "    trainer.mixup_fn = MethodType(mixup_fn, trainer)\n",
    "\n",
    "    training_params.train_folds = train_folds\n",
    "    training_params.val_folds = val_folds\n",
    "\n",
    "    trainer.init_trainer(training_params, **other_params)\n",
    "    trainer.set_printing_form()\n",
    "    trainer.fit()\n",
    "\n",
    "    history.append((a, trainer.maximum_tracker))\n",
    "\n",
    "    trainer.close()"
   ],
   "cell_type": "markdown",
   "metadata": {
    "tags": []
   }
  },
  {
   "source": [
    "for i, h in enumerate(history):\n",
    "    print(alpha[i], s_acc(h[1]), t_acc(h[1]))"
   ],
   "cell_type": "markdown",
   "metadata": {}
  },
  {
   "source": [
    "with open(\".tmp.txt\", \"w\") as f:\n",
    "    f.write(\"learning_rate, lambda_ccost, ema_alpha, noise_db, acc_s, acc_t\\n\")\n",
    "    for key, value in history:\n",
    "        line = \", \".join(map(str, key)) + \\\n",
    "            \", \" + \"%s\" % value.max[\"student_acc\"].item() + \\\n",
    "            \", \" + \"%s\" % value.max[\"teacher_acc\"].item() + \\\n",
    "            \"\\n\"\n",
    "        f.write(line)\n",
    "        print(line)\n"
   ],
   "cell_type": "markdown",
   "metadata": {}
  },
  {
   "source": [
    "import matplotlib.pyplot as plt\n",
    "import numpy as np\n",
    "\n",
    "T = trainer.tensorboard.history\n",
    "x = list(range(trainer.checkpoint.epoch_counter))\n",
    "sm = lambda y, w: np.convolve(y, np.ones(w)/w, mode='same')\n",
    "pp = lambda k: plt.plot(x, T[k], label=f\"{k} = {max(T[k])}\")\n",
    "spp = lambda k: plt.plot(x, sm(T[k], 5), label=f\"{k} = {max(T[k])}\")\n",
    "\n",
    "\n",
    "plt.figure(0, figsize=(30, 14))\n",
    "plt.subplot(2, 3, 1)\n",
    "pp(\"max/student_acc\")\n",
    "pp(\"max/teacher_acc\")\n",
    "plt.legend()\n",
    "\n",
    "plt.subplot(2, 3, 3)\n",
    "pp(\"hyperparameters/learning_rate\")\n",
    "plt.legend()\n",
    "\n",
    "plt.show()"
   ],
   "cell_type": "markdown",
   "metadata": {}
  },
  {
   "cell_type": "code",
   "execution_count": null,
   "metadata": {},
   "outputs": [],
   "source": []
  }
 ],
 "metadata": {
  "kernelspec": {
   "display_name": "dct",
   "language": "python",
   "name": "dct"
  },
  "language_info": {
   "codemirror_mode": {
    "name": "ipython",
    "version": 3
   },
   "file_extension": ".py",
   "mimetype": "text/x-python",
   "name": "python",
   "nbconvert_exporter": "python",
   "pygments_lexer": "ipython3",
   "version": "3.8.0-final"
  }
 },
 "nbformat": 4,
 "nbformat_minor": 4
}