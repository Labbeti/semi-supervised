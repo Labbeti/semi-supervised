{
 "cells": [
  {
   "cell_type": "markdown",
   "metadata": {
    "jupyter": {
     "outputs_hidden": true
    }
   },
   "source": [
    "# import"
   ]
  },
  {
   "cell_type": "raw",
   "metadata": {},
   "source": [
    "https://arxiv.org/pdf/1703.01780.pdf"
   ]
  },
  {
   "cell_type": "code",
   "execution_count": 24,
   "metadata": {},
   "outputs": [
    {
     "output_type": "stream",
     "name": "stdout",
     "text": [
      "The autoreload extension is already loaded. To reload it, use:\n  %reload_ext autoreload\n"
     ]
    }
   ],
   "source": [
    "%load_ext autoreload\n",
    "%autoreload 2"
   ]
  },
  {
   "source": [
    "import sys\n",
    "sys.executable"
   ],
   "cell_type": "markdown",
   "metadata": {}
  },
  {
   "cell_type": "code",
   "execution_count": 25,
   "metadata": {},
   "outputs": [],
   "source": [
    "import os\n",
    "os.environ[\"MKL_NUM_THREADS\"] = \"2\"\n",
    "os.environ[\"NUMEXPR_NU M_THREADS\"] = \"2\"\n",
    "os.environ[\"OMP_NUM_THREADS\"] = \"2\"\n",
    "import time\n",
    "import pprint\n",
    "from typing import Union\n",
    "\n",
    "import numpy\n",
    "from torchsummary import summary\n",
    "\n",
    "import torch\n",
    "from torch.cuda import empty_cache\n",
    "import torch.nn as nn\n",
    "import torch.utils.data as data\n",
    "import torch.nn.functional as F\n",
    "import torchvision.transforms as transforms\n",
    "from torch.cuda.amp import autocast\n",
    "from torch.optim.lr_scheduler import LambdaLR\n",
    "from torch.utils.tensorboard import SummaryWriter\n",
    "from torch.utils.data import DataLoader"
   ]
  },
  {
   "cell_type": "code",
   "execution_count": 1,
   "metadata": {
    "tags": []
   },
   "outputs": [],
   "source": [
    "from SSL.util.loaders import load_dataset, load_optimizer, load_callbacks, load_preprocesser\n",
    "from SSL.util.model_loader import load_model\n",
    "from SSL.util.checkpoint import CheckPoint, mSummaryWriter\n",
    "from SSL.util.utils import reset_seed, get_datetime, track_maximum, DotDict\n",
    "from SSL.ramps import Warmup, sigmoid_rampup\n",
    "from SSL.losses import JensenShanon\n",
    "\n",
    "from metric_utils.metrics import BinaryAccuracy, FScore, ContinueAverage"
   ]
  },
  {
   "cell_type": "code",
   "execution_count": 27,
   "metadata": {},
   "outputs": [],
   "source": [
    "import augmentation_utils.spec_augmentations as sa"
   ]
  },
  {
   "cell_type": "code",
   "execution_count": 34,
   "metadata": {},
   "outputs": [],
   "source": [
    "import argparse\n",
    "parser = argparse.ArgumentParser()\n",
    "parser.add_argument(\"--from_config\", default=\"\", type=str)\n",
    "parser.add_argument(\"-d\", \"--dataset_root\", default=\"../../datasets\", type=str)\n",
    "parser.add_argument(\"-D\", \"--dataset\", default=\"esc10\", type=str)\n",
    "\n",
    "group_t = parser.add_argument_group(\"Commun parameters\")\n",
    "group_t.add_argument(\"-m\", \"--model\", default=\"wideresnet28_2\", type=str)\n",
    "group_t.add_argument(\"--supervised_ratio\", default=0.1, type=float)\n",
    "group_t.add_argument(\"--batch_size\", default=64, type=int)\n",
    "group_t.add_argument(\"--nb_epoch\", default=150, type=int)\n",
    "group_t.add_argument(\"--learning_rate\", default=0.001, type=float)\n",
    "group_t.add_argument(\"--resume\", action=\"store_true\", default=False)\n",
    "group_t.add_argument(\"--seed\", default=1235, type=int)\n",
    "\n",
    "group_m = parser.add_argument_group(\"Model parameters\")\n",
    "# group_m.add_argument(\"--num_classes\", default=10, type=int)\n",
    "\n",
    "group_u = parser.add_argument_group(\"Datasets parameters\")\n",
    "group_u.add_argument(\"-t\", \"--train_folds\", nargs=\"+\", default=[1, 2, 3, 4], type=int)\n",
    "group_u.add_argument(\"-v\", \"--val_folds\", nargs=\"+\", default=[5], type=int)\n",
    "\n",
    "group_s = parser.add_argument_group(\"Student teacher parameters\")\n",
    "group_s.add_argument(\"--ema_alpha\", default=0.999, type=float)\n",
    "group_s.add_argument(\"--warmup_length\", default=50, type=int)\n",
    "group_s.add_argument(\"--lambda_cost_max\", default=1, type=float)\n",
    "group_s.add_argument(\"--teacher_perturb_fn\", default=\"identity\", type=str)\n",
    "group_s.add_argument(\"--ccost_softmax\", action=\"store_false\", default=True)\n",
    "group_s.add_argument(\"--ccost_method\", type=str, default=\"mse\")\n",
    "group_s.add_argument(\"--mixup_alpha\", default=0.4, type=float)\n",
    "\n",
    "group_l = parser.add_argument_group(\"Logs\")\n",
    "group_l.add_argument(\"--checkpoint_root\", default=\"../model_save/\", type=str)\n",
    "group_l.add_argument(\"--tensorboard_root\", default=\"../tensorboard/\", type=str)\n",
    "group_l.add_argument(\"--checkpoint_path\", default=\"mean-teacher_mixup\", type=str)\n",
    "group_l.add_argument(\"--tensorboard_path\", default=\"mean-teacher_mixup\", type=str)\n",
    "group_l.add_argument(\"--tensorboard_sufix\", default=\"\", type=str)\n",
    "\n",
    "args=parser.parse_args(\"\")\n",
    "\n",
    "tensorboard_path = os.path.join(args.tensorboard_root, args.dataset, args.tensorboard_path)\n",
    "checkpoint_path = os.path.join(args.checkpoint_root, args.dataset, args.checkpoint_path)"
   ]
  },
  {
   "source": [
    "## Basic verification"
   ],
   "cell_type": "markdown",
   "metadata": {}
  },
  {
   "cell_type": "code",
   "execution_count": 35,
   "metadata": {},
   "outputs": [],
   "source": [
    "available_datasets = [\"esc10\", \"ubs8k\", \"speechcommand\", \"speechcommand10\"]\n",
    "available_models = [\"cnn03\", \"wideresnet28_2\", \"wideresnet28_4\", \"wideresnet28_8\"]\n",
    "available_ccost_method = [\"mse\", \"js\"]\n",
    "\n",
    "assert args.dataset.lower() in available_datasets\n",
    "assert args.model.lower() in available_models\n",
    "assert args.ccost_method.lower() in available_ccost_method"
   ]
  },
  {
   "cell_type": "code",
   "execution_count": 36,
   "metadata": {
    "tags": [
     "re_run"
    ]
   },
   "outputs": [
    {
     "output_type": "stream",
     "name": "stdout",
     "text": [
      "{'batch_size': 256,\n 'ccost_method': 'mse',\n 'ccost_softmax': True,\n 'checkpoint_path': 'mean-teacher_mixup',\n 'checkpoint_root': '../model_save/',\n 'dataset': 'SpeechCommand10',\n 'dataset_root': '../../datasets',\n 'ema_alpha': 0.999,\n 'from_config': '',\n 'lambda_cost_max': 1,\n 'learning_rate': 0.001,\n 'mixup_alpha': 0.4,\n 'model': 'wideresnet28_2',\n 'nb_epoch': 150,\n 'num_classes': 10,\n 'resume': False,\n 'seed': 1235,\n 'supervised_ratio': 0.1,\n 'teacher_perturb_fn': 'identity',\n 'tensorboard_path': 'mean-teacher_mixup',\n 'tensorboard_root': '../tensorboard/',\n 'tensorboard_sufix': '',\n 'train_folds': [1, 2, 3, 4],\n 'val_folds': [5],\n 'warmup_length': 50}\n"
     ]
    }
   ],
   "source": [
    "pprint.pprint(vars(args))"
   ]
  },
  {
   "cell_type": "markdown",
   "metadata": {
    "pycharm": {
     "name": "#%% md\n"
    }
   },
   "source": [
    "# initialisation"
   ]
  },
  {
   "cell_type": "code",
   "execution_count": 37,
   "metadata": {
    "collapsed": false,
    "jupyter": {
     "outputs_hidden": false
    },
    "pycharm": {
     "name": "#%%\n"
    },
    "tags": [
     "re_run"
    ]
   },
   "outputs": [],
   "source": [
    "reset_seed(args.seed)"
   ]
  },
  {
   "cell_type": "code",
   "execution_count": 39,
   "metadata": {},
   "outputs": [],
   "source": [
    "from SSL.trainers.trainers import Trainer\n",
    "\n",
    "class MeanTeacherTrainer(Trainer):\n",
    "    def __init__(self, model: str, dataset: str,\n",
    "                 ema_alpha: float = 0.999,\n",
    "                 teacher_noise_db: int = 0,\n",
    "                 warmup_length: int = 50,\n",
    "                 lambda_ccost_max: float = 1,\n",
    "                 use_softmax: bool = False,\n",
    "                 ccost_method: str = \"mse\"):\n",
    "\n",
    "        super().__init__(model, \"mean-teacher\", dataset)\n",
    "\n",
    "        self.ema_alpha = ema_alpha\n",
    "        self.teacher_noise_db = teacher_noise_db\n",
    "        self.warmup_length = warmup_length\n",
    "        self.lambda_ccost_max = lambda_ccost_max\n",
    "        self.use_softmax = use_softmax\n",
    "        self.ccost_method = ccost_method\n",
    "\n",
    "        self.extra_hparams = dict(\n",
    "            ema_alpha=self.ema_alpha,\n",
    "            teacher_noise_db=self.teacher_noise_db,\n",
    "            warmup_length=self.warmup_length,\n",
    "            lambda_ccost_max=self.lambda_ccost_max,\n",
    "            use_softmax=self.use_softmax,\n",
    "            ccost_method=self.use_softmax,\n",
    "        )\n",
    "\n",
    "        self.activation_fn = lambda x: x\n",
    "        if self.use_softmax:\n",
    "            self.activation_fn = nn.Sigmoid()\n",
    "\n",
    "trainer = MeanTeacherTrainer(args.model, args.dataset, use_softmax=True)"
   ]
  },
  {
   "cell_type": "markdown",
   "metadata": {
    "pycharm": {
     "name": "#%% md\n"
    }
   },
   "source": [
    "# Prepare the dataset"
   ]
  },
  {
   "cell_type": "code",
   "execution_count": 40,
   "metadata": {},
   "outputs": [
    {
     "output_type": "stream",
     "name": "stdout",
     "text": [
      "Load the transformation\n"
     ]
    }
   ],
   "source": [
    "trainer.load_transforms()"
   ]
  },
  {
   "cell_type": "code",
   "execution_count": 41,
   "metadata": {},
   "outputs": [],
   "source": [
    "from types import MethodType\n",
    "\n",
    "def _get_input_shape(self):\n",
    "    return tuple(self.train_loader._iterables[0].dataset[0][0].shape)\n",
    "\n",
    "trainer._get_input_shape = MethodType(_get_input_shape, trainer)"
   ]
  },
  {
   "cell_type": "code",
   "execution_count": 42,
   "metadata": {},
   "outputs": [
    {
     "output_type": "stream",
     "name": "stdout",
     "text": [
      "Load the dataset\n",
      "../../datasets/SpeechCommands/speech_commands_v0.02\n",
      "Dataset already download and verified\n",
      "0 out of 6278 junk files were drop.\n",
      "Silence class already processed\n",
      "2400 samples present\n",
      "../../datasets/SpeechCommands/speech_commands_v0.02\n",
      "Dataset already download and verified\n",
      "50288 out of 54074 junk files were drop.\n",
      "Silence class already processed\n",
      "2400 samples present\n",
      "../../datasets/SpeechCommands/speech_commands_v0.02\n",
      "100%|██████████| 34555/34555 [00:00<00:00, 36202.91it/s]\n",
      "100%|██████████| 35/35 [00:00<00:00, 1781.52it/s]\n"
     ]
    }
   ],
   "source": [
    "parameters = dict(\n",
    "    dataset=args.dataset,\n",
    "\n",
    "    dataset_root = args.dataset_root,\n",
    "    supervised_ratio = args.supervised_ratio,\n",
    "    batch_size = args.batch_size,\n",
    "    nb_epoch=args.nb_epoch,\n",
    "    train_folds = args.train_folds,\n",
    "    val_folds = args.val_folds,\n",
    "    \n",
    "    num_workers=0,\n",
    "    pin_memory=True,\n",
    "\n",
    "    verbose = 2,\n",
    ")\n",
    "\n",
    "trainer.load_dataset(parameters)"
   ]
  },
  {
   "cell_type": "code",
   "execution_count": 43,
   "metadata": {},
   "outputs": [
    {
     "output_type": "stream",
     "name": "stdout",
     "text": [
      "torch.Size([25, 64, 32])\ntorch.Size([25])\ntensor(11)\n"
     ]
    }
   ],
   "source": [
    "for S, U in trainer.train_loader:\n",
    "    x, y = S\n",
    "    print(x.shape)\n",
    "    print(y.shape)\n",
    "    print(y.max())\n",
    "    break"
   ]
  },
  {
   "cell_type": "markdown",
   "metadata": {},
   "source": [
    "# Prep model"
   ]
  },
  {
   "cell_type": "code",
   "execution_count": 48,
   "metadata": {
    "tags": []
   },
   "outputs": [],
   "source": [
    "def create_model(self):\n",
    "    print(\"Creating teacher and student model ...\")\n",
    "    empty_cache()\n",
    "\n",
    "    model_func = load_model(self.dataset, self.model_str)\n",
    "    model_params = dict(\n",
    "        input_shape=self.input_shape,\n",
    "        num_classes=self.num_classes,\n",
    "    )\n",
    "\n",
    "    self.student = model_func(**model_params)\n",
    "    self.teacher = model_func(**model_params)\n",
    "\n",
    "    self.student = self.student.cuda()\n",
    "    self.teacher = self.teacher.cuda()\n",
    "\n",
    "    # We do not need gradient for the teacher model\n",
    "    for p in teacher.parameters():\n",
    "        p.detach()\n",
    "\n",
    "    summary(self.student, self.input_shape)\n",
    "\n",
    "trainer.create_model = MethodType(create_model, trainer)"
   ]
  },
  {
   "cell_type": "code",
   "execution_count": 49,
   "metadata": {},
   "outputs": [
    {
     "output_type": "stream",
     "name": "stdout",
     "text": [
      "Creating teacher and student model ...\n",
      "----------------------------------------------------------------\n",
      "        Layer (type)               Output Shape         Param #\n",
      "================================================================\n",
      "            Conv2d-1           [-1, 32, 64, 32]             864\n",
      "       BatchNorm2d-2           [-1, 32, 64, 32]              64\n",
      "              ReLU-3           [-1, 32, 64, 32]               0\n",
      "         MaxPool2d-4           [-1, 32, 32, 16]               0\n",
      "            Conv2d-5           [-1, 32, 32, 16]           9,216\n",
      "       BatchNorm2d-6           [-1, 32, 32, 16]              64\n",
      "              ReLU-7           [-1, 32, 32, 16]               0\n",
      "            Conv2d-8           [-1, 32, 32, 16]           9,216\n",
      "       BatchNorm2d-9           [-1, 32, 32, 16]              64\n",
      "             ReLU-10           [-1, 32, 32, 16]               0\n",
      "       BasicBlock-11           [-1, 32, 32, 16]               0\n",
      "           Conv2d-12           [-1, 32, 32, 16]           9,216\n",
      "      BatchNorm2d-13           [-1, 32, 32, 16]              64\n",
      "             ReLU-14           [-1, 32, 32, 16]               0\n",
      "           Conv2d-15           [-1, 32, 32, 16]           9,216\n",
      "      BatchNorm2d-16           [-1, 32, 32, 16]              64\n",
      "             ReLU-17           [-1, 32, 32, 16]               0\n",
      "       BasicBlock-18           [-1, 32, 32, 16]               0\n",
      "           Conv2d-19           [-1, 32, 32, 16]           9,216\n",
      "      BatchNorm2d-20           [-1, 32, 32, 16]              64\n",
      "             ReLU-21           [-1, 32, 32, 16]               0\n",
      "           Conv2d-22           [-1, 32, 32, 16]           9,216\n",
      "      BatchNorm2d-23           [-1, 32, 32, 16]              64\n",
      "             ReLU-24           [-1, 32, 32, 16]               0\n",
      "       BasicBlock-25           [-1, 32, 32, 16]               0\n",
      "           Conv2d-26           [-1, 32, 32, 16]           9,216\n",
      "      BatchNorm2d-27           [-1, 32, 32, 16]              64\n",
      "             ReLU-28           [-1, 32, 32, 16]               0\n",
      "           Conv2d-29           [-1, 32, 32, 16]           9,216\n",
      "      BatchNorm2d-30           [-1, 32, 32, 16]              64\n",
      "             ReLU-31           [-1, 32, 32, 16]               0\n",
      "       BasicBlock-32           [-1, 32, 32, 16]               0\n",
      "           Conv2d-33            [-1, 64, 16, 8]          18,432\n",
      "      BatchNorm2d-34            [-1, 64, 16, 8]             128\n",
      "             ReLU-35            [-1, 64, 16, 8]               0\n",
      "           Conv2d-36            [-1, 64, 16, 8]          36,864\n",
      "      BatchNorm2d-37            [-1, 64, 16, 8]             128\n",
      "           Conv2d-38            [-1, 64, 16, 8]           2,048\n",
      "      BatchNorm2d-39            [-1, 64, 16, 8]             128\n",
      "             ReLU-40            [-1, 64, 16, 8]               0\n",
      "       BasicBlock-41            [-1, 64, 16, 8]               0\n",
      "           Conv2d-42            [-1, 64, 16, 8]          36,864\n",
      "      BatchNorm2d-43            [-1, 64, 16, 8]             128\n",
      "             ReLU-44            [-1, 64, 16, 8]               0\n",
      "           Conv2d-45            [-1, 64, 16, 8]          36,864\n",
      "      BatchNorm2d-46            [-1, 64, 16, 8]             128\n",
      "             ReLU-47            [-1, 64, 16, 8]               0\n",
      "       BasicBlock-48            [-1, 64, 16, 8]               0\n",
      "           Conv2d-49            [-1, 64, 16, 8]          36,864\n",
      "      BatchNorm2d-50            [-1, 64, 16, 8]             128\n",
      "             ReLU-51            [-1, 64, 16, 8]               0\n",
      "           Conv2d-52            [-1, 64, 16, 8]          36,864\n",
      "      BatchNorm2d-53            [-1, 64, 16, 8]             128\n",
      "             ReLU-54            [-1, 64, 16, 8]               0\n",
      "       BasicBlock-55            [-1, 64, 16, 8]               0\n",
      "           Conv2d-56            [-1, 64, 16, 8]          36,864\n",
      "      BatchNorm2d-57            [-1, 64, 16, 8]             128\n",
      "             ReLU-58            [-1, 64, 16, 8]               0\n",
      "           Conv2d-59            [-1, 64, 16, 8]          36,864\n",
      "      BatchNorm2d-60            [-1, 64, 16, 8]             128\n",
      "             ReLU-61            [-1, 64, 16, 8]               0\n",
      "       BasicBlock-62            [-1, 64, 16, 8]               0\n",
      "           Conv2d-63            [-1, 128, 8, 4]          73,728\n",
      "      BatchNorm2d-64            [-1, 128, 8, 4]             256\n",
      "             ReLU-65            [-1, 128, 8, 4]               0\n",
      "           Conv2d-66            [-1, 128, 8, 4]         147,456\n",
      "      BatchNorm2d-67            [-1, 128, 8, 4]             256\n",
      "           Conv2d-68            [-1, 128, 8, 4]           8,192\n",
      "      BatchNorm2d-69            [-1, 128, 8, 4]             256\n",
      "             ReLU-70            [-1, 128, 8, 4]               0\n",
      "       BasicBlock-71            [-1, 128, 8, 4]               0\n",
      "           Conv2d-72            [-1, 128, 8, 4]         147,456\n",
      "      BatchNorm2d-73            [-1, 128, 8, 4]             256\n",
      "             ReLU-74            [-1, 128, 8, 4]               0\n",
      "           Conv2d-75            [-1, 128, 8, 4]         147,456\n",
      "      BatchNorm2d-76            [-1, 128, 8, 4]             256\n",
      "             ReLU-77            [-1, 128, 8, 4]               0\n",
      "       BasicBlock-78            [-1, 128, 8, 4]               0\n",
      "           Conv2d-79            [-1, 128, 8, 4]         147,456\n",
      "      BatchNorm2d-80            [-1, 128, 8, 4]             256\n",
      "             ReLU-81            [-1, 128, 8, 4]               0\n",
      "           Conv2d-82            [-1, 128, 8, 4]         147,456\n",
      "      BatchNorm2d-83            [-1, 128, 8, 4]             256\n",
      "             ReLU-84            [-1, 128, 8, 4]               0\n",
      "       BasicBlock-85            [-1, 128, 8, 4]               0\n",
      "           Conv2d-86            [-1, 128, 8, 4]         147,456\n",
      "      BatchNorm2d-87            [-1, 128, 8, 4]             256\n",
      "             ReLU-88            [-1, 128, 8, 4]               0\n",
      "           Conv2d-89            [-1, 128, 8, 4]         147,456\n",
      "      BatchNorm2d-90            [-1, 128, 8, 4]             256\n",
      "             ReLU-91            [-1, 128, 8, 4]               0\n",
      "       BasicBlock-92            [-1, 128, 8, 4]               0\n",
      "AdaptiveAvgPool2d-93            [-1, 128, 1, 1]               0\n",
      "           Linear-94                   [-1, 12]           1,548\n",
      "================================================================\n",
      "Total params: 1,472,812\n",
      "Trainable params: 1,472,812\n",
      "Non-trainable params: 0\n",
      "----------------------------------------------------------------\n",
      "Input size (MB): 0.01\n",
      "Forward/backward pass size (MB): 7.94\n",
      "Params size (MB): 5.62\n",
      "Estimated Total Size (MB): 13.56\n",
      "----------------------------------------------------------------\n"
     ]
    }
   ],
   "source": [
    "trainer.create_model()"
   ]
  },
  {
   "cell_type": "markdown",
   "metadata": {
    "pycharm": {
     "name": "#%% md\n"
    }
   },
   "source": [
    "# Training initalization\n",
    "## Losses"
   ]
  },
  {
   "cell_type": "code",
   "execution_count": 50,
   "metadata": {},
   "outputs": [],
   "source": [
    "def init_loss(self, parameters: DotDict):\n",
    "    self.loss_ce = nn.CrossEntropyLoss(reduction=\"mean\")\n",
    "    self.loss_ce = nn.BCEWithLogitsLoss(reduction=\"mean\")\n",
    "\n",
    "    if self.ccost_method.lower() == \"mse\":\n",
    "        self.loss_cc = nn.MSELoss(reduction=\"mean\")\n",
    "    elif self.ccost_method.lower() == \"js\":\n",
    "        self.loss_cc = JensenShanon\n",
    "\n",
    "trainer.init_loss = MethodType(init_loss, trainer)"
   ]
  },
  {
   "cell_type": "code",
   "execution_count": 51,
   "metadata": {},
   "outputs": [],
   "source": [
    "trainer.init_loss(DotDict())"
   ]
  },
  {
   "source": [
    "## Optimizer"
   ],
   "cell_type": "markdown",
   "metadata": {}
  },
  {
   "cell_type": "code",
   "execution_count": 52,
   "metadata": {},
   "outputs": [],
   "source": [
    "def init_optimizer(self, parameters: DotDict):\n",
    "    print(\"Initialize optimizer\")\n",
    "    self.optimizer = load_optimizer(\n",
    "        self.dataset,\n",
    "        self.framework,\n",
    "        learning_rate=parameters.learning_rate,\n",
    "        student=self.student,\n",
    "    )\n",
    "\n",
    "trainer.init_optimizer = MethodType(init_optimizer, trainer)"
   ]
  },
  {
   "cell_type": "code",
   "execution_count": 53,
   "metadata": {},
   "outputs": [
    {
     "output_type": "stream",
     "name": "stdout",
     "text": [
      "Initialize optimizer\n"
     ]
    }
   ],
   "source": [
    "parameters = DotDict(\n",
    "    learning_rate=args.learning_rate\n",
    ")\n",
    "\n",
    "trainer.init_optimizer(parameters)"
   ]
  },
  {
   "source": [
    "## Callbacks"
   ],
   "cell_type": "markdown",
   "metadata": {}
  },
  {
   "cell_type": "code",
   "execution_count": 54,
   "metadata": {},
   "outputs": [],
   "source": [
    "def init_callbacks(self, parameters: DotDict):\n",
    "    print(\"Initialize callbacks\")\n",
    "    self.callbacks = load_callbacks(\n",
    "        self.dataset,\n",
    "        self.framework,\n",
    "        optimizer=self.optimizer,\n",
    "        nb_epoch=parameters.nb_epoch,\n",
    "    )\n",
    "\n",
    "    self.lambda_ccost = Warmup(self.lambda_ccost_max, self.warmup_length, sigmoid_rampup)\n",
    "    self.callbacks += [self.lambda_ccost]\n",
    "\n",
    "trainer.init_callbacks = MethodType(init_callbacks, trainer)"
   ]
  },
  {
   "cell_type": "code",
   "execution_count": 55,
   "metadata": {},
   "outputs": [
    {
     "output_type": "stream",
     "name": "stdout",
     "text": [
      "Initialize callbacks\n"
     ]
    }
   ],
   "source": [
    "parameters=DotDict(\n",
    "    nb_epoch=args.nb_epoch,\n",
    "    optimizer=trainer.optimizer,\n",
    ")\n",
    "trainer.init_callbacks(parameters)"
   ]
  },
  {
   "source": [
    "## Logs"
   ],
   "cell_type": "markdown",
   "metadata": {}
  },
  {
   "cell_type": "code",
   "execution_count": 56,
   "metadata": {},
   "outputs": [],
   "source": [
    "def init_logs(self, parameters: DotDict):\n",
    "    print(\"Prepare the log system\")\n",
    "    title_element = (\n",
    "        self.model_str, parameters.supervised_ratio,\n",
    "        get_datetime(), self.model_str,\n",
    "        self.ccost_method.upper(), self.use_softmax, self.teacher_noise_db\n",
    "    )\n",
    "\n",
    "    tensorboard_title = \"%s/%sS/%s_%s_%s_%s-softmax_%s-n\" % title_element\n",
    "    print(\"tensorboard saved at: \", os.path.join(self.tensorboard_path, tensorboard_title))\n",
    "\n",
    "    self.tensorboard = mSummaryWriter(log_dir=\"%s/%s\" % (self.tensorboard_path, tensorboard_title))\n",
    "\n",
    "trainer.init_logs = MethodType(init_logs, trainer)"
   ]
  },
  {
   "cell_type": "code",
   "execution_count": 57,
   "metadata": {},
   "outputs": [
    {
     "output_type": "stream",
     "name": "stdout",
     "text": [
      "Prepare the log system\ntensorboard saved at:  /home/lcances/sync/Documents_sync/Projet/Semi-Supervised/SSL/trainers/../../tensorboard/SpeechCommand10/mean-teacher/wideresnet28_2/0.1S/2020-12-09_10:35:38_wideresnet28_2_MSE_False-softmax_0-n\n"
     ]
    }
   ],
   "source": [
    "parameters=DotDict(\n",
    "    supervised_ratio=args.supervised_ratio\n",
    ")\n",
    "trainer.init_logs(parameters)"
   ]
  },
  {
   "source": [
    "## Checkpoint"
   ],
   "cell_type": "markdown",
   "metadata": {}
  },
  {
   "cell_type": "code",
   "execution_count": 58,
   "metadata": {},
   "outputs": [],
   "source": [
    "def init_checkpoint(self, parameters: DotDict):\n",
    "    print(\"Prepare the checkpoint system\")\n",
    "    title_element = (\n",
    "        self.model_str, parameters.supervised_ratio,\n",
    "        get_datetime(), self.model_str,\n",
    "        self.ccost_method.upper(), self.use_softmax, self.teacher_noise_db\n",
    "    )\n",
    "    \n",
    "    checkpoint_title = \"%s/%sS/%s_%s_%s_%s-softmax_%s-n\" % title_element\n",
    "\n",
    "    self.checkpoint = CheckPoint(\n",
    "        [self.student, self.teacher], self.optimizer, mode=\"max\",\n",
    "        name=f\"{self.checkpoint_path}/{checkpoint_title}\")\n",
    "\n",
    "trainer.init_checkpoint = MethodType(init_checkpoint, trainer)"
   ]
  },
  {
   "cell_type": "code",
   "execution_count": 59,
   "metadata": {},
   "outputs": [
    {
     "output_type": "stream",
     "name": "stdout",
     "text": [
      "Prepare the checkpoint system\n"
     ]
    }
   ],
   "source": [
    "# Checkpoint\n",
    "parameters=DotDict(\n",
    "    supervised_ratio=args.supervised_ratio\n",
    ")\n",
    "trainer.init_checkpoint(parameters)"
   ]
  },
  {
   "source": [
    "## Metrics"
   ],
   "cell_type": "markdown",
   "metadata": {}
  },
  {
   "cell_type": "code",
   "execution_count": 60,
   "metadata": {},
   "outputs": [],
   "source": [
    "def init_metrics(self, parameters: DotDict):\n",
    "    self.metrics = DotDict(\n",
    "        fscore_ss=FScore(),\n",
    "        fscore_su=FScore(),\n",
    "        fscore_ts=FScore(),\n",
    "        fscore_tu=FScore(),\n",
    "        acc_ss=(),\n",
    "        acc_su=BinaryAccuracy(),\n",
    "        acc_ts=BinaryAccuracy(),\n",
    "        acc_tu=BinaryAccuracy(),\n",
    "        avg_Sce=ContinueAverage(),\n",
    "        avg_Tce=ContinueAverage(),\n",
    "        avg_ccost=ContinueAverage(),\n",
    "    )\n",
    "    self.maximum_tracker = track_maximum()\n",
    "\n",
    "    self.scores = DotDict()\n",
    "    for key in self.metrics:\n",
    "        self.scores[key] = []\n",
    "\n",
    "trainer.init_metrics = MethodType(init_metrics, trainer)"
   ]
  },
  {
   "cell_type": "code",
   "execution_count": 61,
   "metadata": {},
   "outputs": [],
   "source": [
    "trainer.init_metrics(DotDict())"
   ]
  },
  {
   "cell_type": "markdown",
   "metadata": {
    "pycharm": {
     "name": "#%% md\n"
    }
   },
   "source": [
    "## training function"
   ]
  },
  {
   "cell_type": "code",
   "execution_count": 62,
   "metadata": {
    "collapsed": false,
    "jupyter": {
     "outputs_hidden": false
    },
    "pycharm": {
     "name": "#%%\n"
    },
    "tags": []
   },
   "outputs": [],
   "source": [
    "def set_printing_form(self):\n",
    "    UNDERLINE_SEQ = \"\\033[1;4m\"\n",
    "    RESET_SEQ = \"\\033[0m\"\n",
    "\n",
    "    header_form = \"{:<8.8} {:<6.6} - {:<6.6} - {:<10.8} {:<8.6} {:<8.6} {:<8.6} {:<8.6} {:<8.6} {:<8.6} | {:<10.8} {:<8.6} {:<8.6} {:<8.6} {:<8.6} {:<8.6} - {:<8.6}\"\n",
    "    value_form  = \"{:<8.8} {:<6d} - {:<6d} - {:<10.8} {:<8.4f} {:<8.4f} {:<8.4f} {:<8.4f} {:<8.4f} {:<8.4f} | {:<10.8} {:<8.4f} {:<8.4f} {:<8.4f} {:<8.4f} {:<8.4f} - {:<8.4f}\"\n",
    "    self.header = header_form.format(\".               \", \"Epoch\",  \"%\", \"Student:\", \"ce\", \"ccost\", \"acc_s\", \"f1_s\", \"acc_u\", \"f1_u\", \"Teacher:\", \"ce\", \"acc_s\", \"f1_s\", \"acc_u\", \"f1_u\" , \"Time\")\n",
    "\n",
    "    self.train_form = value_form\n",
    "    self.val_form = UNDERLINE_SEQ + value_form + RESET_SEQ\n",
    "\n",
    "trainer.set_printing_form = MethodType(set_printing_form, trainer)"
   ]
  },
  {
   "cell_type": "code",
   "execution_count": 63,
   "metadata": {},
   "outputs": [],
   "source": [
    "def _update_teacher_model(self, iteration):\n",
    "    \n",
    "    # Use the true average until the exponential average is more correct\n",
    "    alpha = min(1 - 1 / (iteration + 1), self.ema_alpha)\n",
    "    \n",
    "    for param, ema_param in zip(self.student.parameters(), self.teacher.parameters()):\n",
    "        ema_param.data.mul_(alpha).add_(param.data,  alpha = 1-alpha)"
   ]
  },
  {
   "cell_type": "code",
   "execution_count": 64,
   "metadata": {},
   "outputs": [],
   "source": [
    "def get_mixup_fn(alpha: float = 0.4):\n",
    "    def mixup(self, x, y, batch_generator):\n",
    "        from torch.distributions.beta import Beta\n",
    "\n",
    "        if alpha == 0.0:\n",
    "            return x, y\n",
    "\n",
    "        # get a new batch of sample to perform the mixup\n",
    "        generator = iter(batch_generator)\n",
    "        x_, y_ = generator.next()\n",
    "\n",
    "        # Toward the end of the epoch, the last batch can be incomplete,\n",
    "        # but the newly fetch batch will not be, so we need to trim\n",
    "        if x.size()[0] != x_.size()[0]:\n",
    "            return x, y\n",
    "            # trunc = x.size()[0]\n",
    "            # x_ = x_[:trunc]\n",
    "            # y_ = y_[:trunc]\n",
    "\n",
    "        beta = Beta(alpha, alpha)\n",
    "        lambda_ = beta.sample().item() if alpha > 0.0 else 1.0\n",
    "        lambda_ = max((lambda_, 1 - lambda_))\n",
    "        mixup.lambda_history.append(lambda_)\n",
    "\n",
    "        batch_mix = x * lambda_ + x_ * (1.0 - lambda_)\n",
    "        labels_mix = y * lambda_ + y_ * (1.0 - lambda_)\n",
    "\n",
    "        return batch_mix, labels_mix\n",
    "\n",
    "    mixup.lambda_history = []\n",
    "    return mixup"
   ]
  },
  {
   "cell_type": "code",
   "execution_count": 65,
   "metadata": {},
   "outputs": [],
   "source": [
    "# aug1 = sa.FractalTimeDropout(ratio=1.0, min_chunk_size=20, min_chunk=1, max_chunk=1, void=True, cut=True)\n",
    "# aug2 = sa.FractalTimeStretch(ratio=1.0, min_chunk_size=20, )\n",
    "# aug3 = sa.FractalTimeStretch(ratio=1.0, min_chunk_size=20, max_chunk_size=40)\n",
    "# aug4 = sa.FractalDropout(1.0, freq_min_chunk_size=1, freq_max_chunk_size=3, freq_max_chunk=1, time_max_chunk=1)\n",
    "# # _noise_fn = sa.UniformSignNoise(1.0, 0.1, mini=-100, maxi=0)\n",
    "# # _noise_fn = sa.Noise(1.0, 5, mini=-100, maxi=0)\n",
    "# _noise_fn = sa.FractalStretch(1.0, freq_min_chunk_size=4, freq_max_chunk_size=8, time_min_chunk_size=16, time_max_chunk_size=48)\n",
    "_noise_fn = lambda x: x\n",
    "\n",
    "# if args.teacher_perturb_fn == \"identity\":\n",
    "#     _noise_fn = lambda x: x\n",
    "\n",
    "# else:\n",
    "#     _noise_fn = eval(args.teacher_perturb_fn)\n",
    "\n",
    "trainer.extra_hparams[\"_noise_fn\"] = str(_noise_fn)"
   ]
  },
  {
   "cell_type": "code",
   "execution_count": 66,
   "metadata": {},
   "outputs": [
    {
     "output_type": "execute_result",
     "data": {
      "text/plain": [
       "'<function <lambda> at 0x7f5822a149d0>'"
      ]
     },
     "metadata": {},
     "execution_count": 66
    }
   ],
   "source": [
    "trainer.extra_hparams[\"_noise_fn\"]"
   ]
  },
  {
   "cell_type": "code",
   "execution_count": 67,
   "metadata": {},
   "outputs": [],
   "source": [
    "trainer._update_teacher_model = MethodType(_update_teacher_model, trainer)"
   ]
  },
  {
   "cell_type": "code",
   "execution_count": 68,
   "metadata": {},
   "outputs": [],
   "source": [
    "def _calc_metrics(self,\n",
    "                  ss_logits, su_logits, ts_logits, tu_logits,\n",
    "                  y_s, y_u) -> Union[DotDict, DotDict]:\n",
    "\n",
    "    with torch.set_grad_enabled(False):\n",
    "        S = nn.Softmax(dim=1)\n",
    "        A = lambda x: torch.argmax(x, dim=1)\n",
    "        M = self.metrics\n",
    "\n",
    "        fscores = DotDict(\n",
    "            ss=M.fscore_ss(S(ss_logits), one_hot_s).mean,\n",
    "            su=M.fscore_su(S(su_logits), one_hot_u).mean,\n",
    "            ts=M.fscore_ts(S(ts_logits), one_hot_s).mean,\n",
    "            tu=M.fscore_tu(S(tu_logits), one_hot_u).mean,\n",
    "        )\n",
    "\n",
    "        accs = DotDict(\n",
    "            ss=M.acc_ss(A(ss_logits), y_s).mean,\n",
    "            su=M.acc_su(A(su_logits), y_u).mean,\n",
    "            ts=M.acc_ts(A(ts_logits), y_s).mean,\n",
    "            tu=M.acc_tu(A(tu_logits), y_u).mean,\n",
    "        )\n",
    "\n",
    "        return fscores, accs\n",
    "\n",
    "trainer._calc_metrics = MethodType(_calc_metrics, trainer)"
   ]
  },
  {
   "cell_type": "code",
   "execution_count": 69,
   "metadata": {},
   "outputs": [
    {
     "output_type": "stream",
     "name": "stdout",
     "text": [
      "torch.Size([25, 64, 32])\ntorch.Size([25, 64, 32])\n"
     ]
    }
   ],
   "source": [
    "for i, (S, U) in enumerate(trainer.train_loader):\n",
    "    x_s, y_s = S\n",
    "    x_u, y_u = U\n",
    "\n",
    "    print(x_s.shape)\n",
    "    print(x_u[:25,:].shape)\n",
    "    break"
   ]
  },
  {
   "cell_type": "code",
   "execution_count": 70,
   "metadata": {
    "tags": [
     "re_run"
    ]
   },
   "outputs": [],
   "source": [
    "def train_fn(self, epoch: int):\n",
    "    # aliases\n",
    "    M = self.metrics\n",
    "    T = self.tensorboard.add_scalar\n",
    "    nb_batch = len(self.train_loader)\n",
    "\n",
    "    start_time = time.time()\n",
    "    print(\"\")\n",
    "\n",
    "    self.reset_metrics()\n",
    "    self.student.train()\n",
    "\n",
    "    for i, (S, U) in enumerate(self.train_loader):\n",
    "        x_s, y_s = S\n",
    "        x_u, y_u = U\n",
    "\n",
    "        # transform ground truth to one hot\n",
    "        y_s = F.one_hot(y_s, self.num_classes)\n",
    "        y_u = F.one_hot(y_u, self.num_classes)\n",
    "\n",
    "        # Apply mixup\n",
    "        n_x_s, n_y_s = self.mixup_fn(x_s, y_s, self.train_loader._iterables[0])\n",
    "        n_x_u, n_y_u = self.mixup_fn(x_u, y_u, self.train_loader._iterables[1])\n",
    "\n",
    "        x_s = x_s.cuda()\n",
    "        y_s = y_s.cuda()\n",
    "        n_x_s, n_x_u = n_x_s.cuda(), n_x_u.cuda()\n",
    "        n_y_s, n_y_u = n_y_s.cuda(), n_y_u.cuda()\n",
    "\n",
    "        # Predictions\n",
    "        with autocast(enabled=False):\n",
    "            ss_logits = self.student(x_s)\n",
    "            su_logits = self.student(x_u)\n",
    "\n",
    "            ts_logits = self.teacher(x_s)\n",
    "            tu_logits = self.teacher(n_x_u)\n",
    "\n",
    "            # Calculate supervised loss (only student on S)\n",
    "            loss = self.loss_ce(ss_logits, y_s)\n",
    "\n",
    "            # Calculate consistency cost (mse(student(x), teacher(x)))\n",
    "            # x is S + U\n",
    "            student_logits = torch.cat((ss_logits, su_logits), dim=0)\n",
    "            teacher_logits = torch.cat((ts_logits, tu_logits), dim=0)\n",
    "            ccost = self.loss_cc(\n",
    "                self.activation(su_logits),\n",
    "                self.activation(tu_logits),\n",
    "            )\n",
    "\n",
    "            total_loss = loss + self.lambda_ccost() * ccost\n",
    "\n",
    "            # If loss contain is Nan, stop training there\n",
    "            if torch.isnan(total_loss).any():\n",
    "                raise ValueError(\"Loss is NaN\")\n",
    "\n",
    "        for p in self.student.parameters():\n",
    "            p.grad = None\n",
    "        total_loss.backward()\n",
    "        self.optimizer.step()\n",
    "\n",
    "        with torch.set_grad_enabled(False):\n",
    "            # Teacher prediction (for metrics purpose)\n",
    "            _teacher_loss = self.loss_ce(ts_logits, y_s)\n",
    "\n",
    "            # Update teacher\n",
    "            self._update_teacher_model(epoch*nb_batch + i)\n",
    "\n",
    "            # Compute the metrics for the student\n",
    "            fscores, accs = self._calc_metrics(\n",
    "                ss_logits, su_logits,\n",
    "                ts_logits, tu_logits,\n",
    "                y_s, n_y_u,\n",
    "            )\n",
    "\n",
    "            # Running average of the two losses\n",
    "            student_running_loss = M.avg_Sce(loss.item()).mean\n",
    "            teacher_running_loss = M.avg_Tce(_teacher_loss.item()).mean\n",
    "            running_ccost = M.avg_ccost(ccost.item()).mean\n",
    "\n",
    "            # logs\n",
    "            print(self.train_form.format(\n",
    "                \"Training: \", epoch + 1, int(100 * (i + 1) / nb_batch),\n",
    "                \"\", student_running_loss, running_ccost,\n",
    "                accs.ss, fscores.ss, accs.su, fscores.su,\n",
    "                \"\", teacher_running_loss,\n",
    "                accs.ts, fscores.ts, accs.tu, fscores.tu,\n",
    "                time.time() - start_time\n",
    "            ), end=\"\\r\")\n",
    "\n",
    "    T(\"train/student_acc_s\", accs.ss, epoch)\n",
    "    T(\"train/student_acc_u\", accs.su, epoch)\n",
    "    T(\"train/student_f1_s\", fscores.ss, epoch)\n",
    "    T(\"train/student_f1_u\", fscores.su, epoch)\n",
    "\n",
    "    T(\"train/teacher_acc_s\", accs.ts, epoch)\n",
    "    T(\"train/teacher_acc_u\", accs.tu, epoch)\n",
    "    T(\"train/teacher_f1_s\", fscores.ts, epoch)\n",
    "    T(\"train/teacher_f1_u\", fscores.tu, epoch)\n",
    "\n",
    "    T(\"train/student_loss\", student_running_loss, epoch)\n",
    "    T(\"train/teacher_loss\", teacher_running_loss, epoch)\n",
    "    T(\"train/consistency_cost\", running_ccost, epoch)\n",
    "\n",
    "trainer.train_fn = MethodType(train_fn, trainer)\n"
   ]
  },
  {
   "cell_type": "code",
   "execution_count": 71,
   "metadata": {
    "collapsed": false,
    "jupyter": {
     "outputs_hidden": false
    },
    "pycharm": {
     "name": "#%%\n"
    },
    "tags": [
     "re_run"
    ]
   },
   "outputs": [],
   "source": [
    "    def val_fn(self, epoch: int):\n",
    "        # aliases\n",
    "        M = self.metrics\n",
    "        T = self.tensorboard.add_scalar\n",
    "        nb_batch = len(self.val_loader)\n",
    "\n",
    "        start_time = time.time()\n",
    "        print(\"\")\n",
    "\n",
    "        self.reset_metrics()\n",
    "        self.student.eval()\n",
    "\n",
    "        with torch.set_grad_enabled(False):\n",
    "            for i, (X, y) in enumerate(self.val_loader):\n",
    "                X = X.cuda()\n",
    "                y = y.cuda()\n",
    "\n",
    "                # Predictions\n",
    "                with autocast(enabled=False):\n",
    "                    student_logits = self.student(X)\n",
    "                    teacher_logits = self.teacher(X)\n",
    "\n",
    "                    # Calculate supervised loss (only student on S)\n",
    "                    loss = self.loss_ce(student_logits, y)\n",
    "                    _teacher_loss = self.loss_ce(teacher_logits, y)  # for metrics only\n",
    "                    ccost = self.loss_cc(\n",
    "                        self.softmax_fn(student_logits),\n",
    "                        self.softmax_fn(teacher_logits))\n",
    "\n",
    "                # Compute the metrics\n",
    "                fscores, accs = self._calc_metrics(\n",
    "                    student_logits, student_logits, \n",
    "                    teacher_logits, teacher_logits,\n",
    "                    y, y\n",
    "                )\n",
    "\n",
    "                # Running average of the two losses\n",
    "                student_running_loss = M.avg_Sce(loss.item()).mean\n",
    "                teacher_running_loss = M.avg_Tce(_teacher_loss.item()).mean\n",
    "                running_ccost = M.avg_ccost(ccost.item()).mean\n",
    "\n",
    "                # logs\n",
    "                print(self.val_form.format(\n",
    "                    \"Validation: \", epoch + 1, int(100 * (i + 1) / nb_batch),\n",
    "                    \"\", student_running_loss, running_ccost, accs.ss, fscores.ss, 0.0, 0.0,\n",
    "                    \"\", teacher_running_loss, accs.ts, fscores.ts, 0.0, 0.0,\n",
    "                    time.time() - start_time\n",
    "                ), end=\"\\r\")\n",
    "\n",
    "        self.checkpoint.step(accs.ss)\n",
    "        for c in self.callbacks:\n",
    "            c.step()\n",
    "            pass\n",
    "\n",
    "        T(\"val/student_acc\", accs.ss, epoch)\n",
    "        T(\"val/student_f1\", fscores.ss, epoch)\n",
    "        T(\"val/teacher_acc\", accs.ts, epoch)\n",
    "        T(\"val/teacher_f1\", fscores.ts, epoch)\n",
    "        T(\"val/student_loss\", student_running_loss, epoch)\n",
    "        T(\"val/teacher_loss\", teacher_running_loss, epoch)\n",
    "        T(\"val/consistency_cost\", running_ccost, epoch)\n",
    "\n",
    "        T(\"hyperparameters/learning_rate\", self._get_lr(), epoch)\n",
    "        T(\"hyperparameters/lambda_cost_max\", self.lambda_ccost(), epoch)\n",
    "\n",
    "        T(\"max/student_acc\", self.maximum_tracker(\"student_acc\", accs.ss), epoch)\n",
    "        T(\"max/teacher_acc\", self.maximum_tracker(\"teacher_acc\", accs.ts), epoch)\n",
    "        T(\"max/student_f1\", self.maximum_tracker(\"student_f1\", fscores.ss), epoch)\n",
    "        T(\"max/teacher_f1\", self.maximum_tracker(\"teacher_f1\", fscores.ts), epoch)\n",
    "        print(\"Max student / teacher accuracy are %.2f / %.2f\" % (self.maximum_tracker.max[\"student_acc\"], self.maximum_tracker.max[\"teacher_acc\"]))\n",
    "\n",
    "trainer.val_fn = MethodType(val_fn, trainer)\n"
   ]
  },
  {
   "cell_type": "code",
   "execution_count": 72,
   "metadata": {},
   "outputs": [],
   "source": [
    "def test_fn(self):\n",
    "    pass\n",
    "\n",
    "trainer.test_fn = MethodType(test_fn, trainer)\n"
   ]
  },
  {
   "cell_type": "code",
   "execution_count": 73,
   "metadata": {},
   "outputs": [],
   "source": [
    "trainer.set_printing_form = MethodType(set_printing_form, trainer)\n",
    "trainer.set_printing_form()"
   ]
  },
  {
   "cell_type": "markdown",
   "metadata": {},
   "source": [
    "# Training"
   ]
  },
  {
   "cell_type": "code",
   "execution_count": 74,
   "metadata": {},
   "outputs": [],
   "source": [
    "mixup_fn = get_mixup_fn(alpha=args.mixup_alpha)\n",
    "trainer.mixup_fn = MethodType(mixup_fn, trainer)"
   ]
  },
  {
   "source": [
    "trainer.parameters = DotDict(\n",
    "    nb_epoch=args.nb_epoch\n",
    ")\n",
    "\n",
    "def fit(self, resume: bool = False):\n",
    "    start_epoch = 0\n",
    "\n",
    "    self.set_printing_form()\n",
    "    print(self.header)\n",
    "\n",
    "    if resume:\n",
    "        start_epoch = self.checkpoint.epoch_counter\n",
    "\n",
    "    for e in range(start_epoch, self.parameters.nb_epoch):\n",
    "        try:\n",
    "            self.train_fn(e)\n",
    "            self.val_fn(e)\n",
    "\n",
    "        except ValueError as err:\n",
    "            print(\"NaN value detected during training.\")\n",
    "            print(err)\n",
    "\n",
    "\n",
    "        self.tensorboard.flush()\n",
    "\n",
    "    self.test_fn()\n",
    "\n",
    "    self.save_hparams(self.parameters)\n",
    "\n",
    "trainer.fit = MethodType(fit, trainer)\n",
    "trainer.fit()"
   ],
   "cell_type": "code",
   "metadata": {
    "collapsed": false,
    "jupyter": {
     "outputs_hidden": false
    },
    "pycharm": {
     "name": "#%%\n"
    },
    "scrolled": true,
    "tags": [
     "outputPrepend"
    ]
   },
   "execution_count": 75,
   "outputs": [
    {
     "output_type": "stream",
     "name": "stdout",
     "text": [
      "  1.0000   0.5302   0.5263   |            0.0007   1.0000   1.0000   0.5308   0.5271   - 18.8470 \n",
      "Max student / teacher accuracy are 0.90 / 0.91\n",
      "\n",
      "Training 56     - 100    -            0.0004   0.0024   1.0000   1.0000   0.5308   0.5264   |            0.0006   1.0000   1.0000   0.5308   0.5272   - 18.3755 \n",
      "Max student / teacher accuracy are 0.90 / 0.91\n",
      "\n",
      "Training 57     - 100    -            0.0004   0.0016   1.0000   1.0000   0.5432   0.5390   |            0.0006   1.0000   1.0000   0.5435   0.5387   - 18.6271 \n",
      "Max student / teacher accuracy are 0.90 / 0.91\n",
      "\n",
      "Training 58     - 100    -            0.0004   0.0057   1.0000   1.0000   0.5288   0.5242   |            0.0005   1.0000   1.0000   0.5288   0.5241   - 18.4134 \n",
      "Max student / teacher accuracy are 0.90 / 0.91\n",
      "\n",
      "Training 59     - 100    -            0.0004   0.0048   1.0000   1.0000   0.5213   0.5174   |            0.0005   1.0000   1.0000   0.5212   0.5163   - 18.6318 \n",
      "Max student / teacher accuracy are 0.90 / 0.91\n",
      "\n",
      "Training 60     - 100    -            0.0006   0.0071   1.0000   1.0000   0.5415   0.5373   |            0.0006   1.0000   1.0000   0.5405   0.5363   - 18.0229 \n",
      "Max student / teacher accuracy are 0.90 / 0.91\n",
      "\n",
      "Training 61     - 100    -            0.0005   0.0029   1.0000   1.0000   0.5291   0.5245   |            0.0005   1.0000   1.0000   0.5284   0.5238   - 18.0449 \n",
      "Max student / teacher accuracy are 0.90 / 0.91\n",
      "\n",
      "Training 62     - 100    -            0.0004   0.0022   1.0000   1.0000   0.5359   0.5312   |            0.0005   1.0000   1.0000   0.5357   0.5311   - 18.3852 \n",
      "Max student / teacher accuracy are 0.90 / 0.91\n",
      "\n",
      "Training 63     - 100    -            0.0005   0.0042   1.0000   1.0000   0.5247   0.5199   |            0.0006   1.0000   1.0000   0.5268   0.5210   - 18.4809 \n",
      "Max student / teacher accuracy are 0.90 / 0.91\n",
      "\n",
      "Training 64     - 100    -            0.0004   0.0031   1.0000   1.0000   0.5432   0.5383   |            0.0004   1.0000   1.0000   0.5421   0.5374   - 18.4529 \n",
      "Max student / teacher accuracy are 0.90 / 0.91\n",
      "\n",
      "Training 65     - 100    -            0.0005   0.0036   1.0000   1.0000   0.5239   0.5189   |            0.0005   1.0000   1.0000   0.5240   0.5194   - 18.3702 \n",
      "Max student / teacher accuracy are 0.90 / 0.91\n",
      "\n",
      "Training 66     - 100    -            0.0004   0.0029   1.0000   1.0000   0.5319   0.5277   |            0.0004   1.0000   1.0000   0.5318   0.5278   - 18.1461 \n",
      "Max student / teacher accuracy are 0.90 / 0.91\n",
      "\n",
      "Training 67     - 100    -            0.0003   0.0023   1.0000   1.0000   0.5339   0.5278   |            0.0004   1.0000   1.0000   0.5329   0.5276   - 18.2949 \n",
      "Max student / teacher accuracy are 0.90 / 0.91\n",
      "\n",
      "Training 68     - 100    -            0.0005   0.0029   1.0000   1.0000   0.5463   0.5412   |            0.0006   1.0000   1.0000   0.5463   0.5417   - 18.5654 \n",
      "Max student / teacher accuracy are 0.90 / 0.91\n",
      "\n",
      "Training 69     - 100    -            0.0003   0.0011   1.0000   1.0000   0.5356   0.5300   |            0.0004   1.0000   1.0000   0.5362   0.5311   - 18.6926 \n",
      "Max student / teacher accuracy are 0.90 / 0.91\n",
      "\n",
      "Training 70     - 100    -            0.0019   0.0255   0.9997   0.9997   0.5271   0.5221   |            0.0011   0.9997   0.9997   0.5277   0.5222   - 18.5391 \n",
      "Max student / teacher accuracy are 0.90 / 0.91\n",
      "\n",
      "Training 71     - 100    -            0.0005   0.0050   1.0000   1.0000   0.5361   0.5317   |            0.0004   1.0000   1.0000   0.5360   0.5308   - 19.2441 \n",
      "Max student / teacher accuracy are 0.90 / 0.91\n",
      "\n",
      "Training 72     - 100    -            0.0004   0.0017   1.0000   1.0000   0.5260   0.5219   |            0.0005   1.0000   1.0000   0.5259   0.5214   - 18.2444 \n",
      "Max student / teacher accuracy are 0.90 / 0.91\n",
      "\n",
      "Training 73     - 100    -            0.0003   0.0010   1.0000   1.0000   0.5271   0.5224   |            0.0003   1.0000   1.0000   0.5276   0.5223   - 18.7363 \n",
      "Max student / teacher accuracy are 0.90 / 0.91\n",
      "\n",
      "Training 74     - 100    -            0.0003   0.0009   1.0000   1.0000   0.5284   0.5235   |            0.0004   1.0000   1.0000   0.5286   0.5239   - 17.8843 \n",
      "Max student / teacher accuracy are 0.90 / 0.91\n",
      "\n",
      "Training 75     - 100    -            0.0004   0.0010   1.0000   1.0000   0.5431   0.5371   |            0.0005   1.0000   1.0000   0.5420   0.5365   - 18.3055 \n",
      "Max student / teacher accuracy are 0.90 / 0.91\n",
      "\n",
      "Training 76     - 100    -            0.0003   0.0006   1.0000   1.0000   0.5372   0.5312   |            0.0004   1.0000   1.0000   0.5372   0.5311   - 18.3140 \n",
      "Max student / teacher accuracy are 0.90 / 0.91\n",
      "\n",
      "Training 77     - 100    -            0.0002   0.0004   1.0000   1.0000   0.5398   0.5355   |            0.0003   1.0000   1.0000   0.5398   0.5356   - 18.3018 \n",
      "Max student / teacher accuracy are 0.90 / 0.91\n",
      "\n",
      "Training 78     - 100    -            0.0003   0.0006   1.0000   1.0000   0.5430   0.5384   |            0.0003   1.0000   1.0000   0.5431   0.5391   - 18.5734 \n",
      "Max student / teacher accuracy are 0.90 / 0.91\n",
      "\n",
      "Training 79     - 100    -            0.0002   0.0003   1.0000   1.0000   0.5218   0.5172   |            0.0003   1.0000   1.0000   0.5219   0.5174   - 18.7156 \n",
      "Max student / teacher accuracy are 0.90 / 0.91\n",
      "\n",
      "Training 80     - 100    -            0.0002   0.0004   1.0000   1.0000   0.5311   0.5273   |            0.0003   1.0000   1.0000   0.5321   0.5274   - 18.3265 \n",
      "Max student / teacher accuracy are 0.90 / 0.91\n",
      "\n",
      "Training 81     - 100    -            0.0003   0.0007   1.0000   1.0000   0.5295   0.5247   |            0.0003   1.0000   1.0000   0.5293   0.5247   - 18.3517 \n",
      "Max student / teacher accuracy are 0.90 / 0.91\n",
      "\n",
      "Training 82     - 100    -            0.0002   0.0006   1.0000   1.0000   0.5283   0.5242   |            0.0002   1.0000   1.0000   0.5280   0.5238   - 18.2273 \n",
      "Max student / teacher accuracy are 0.90 / 0.91\n",
      "\n",
      "Training 83     - 100    -            0.0002   0.0002   1.0000   1.0000   0.5532   0.5492   |            0.0003   1.0000   1.0000   0.5531   0.5491   - 19.0291 \n",
      "Max student / teacher accuracy are 0.90 / 0.91\n",
      "\n",
      "Training 84     - 100    -            0.0001   0.0003   1.0000   1.0000   0.5356   0.5316   |            0.0002   1.0000   1.0000   0.5360   0.5317   - 17.9950 \n",
      "Max student / teacher accuracy are 0.90 / 0.91\n",
      "\n",
      "Training 85     - 100    -            0.0001   0.0007   1.0000   1.0000   0.5336   0.5289   |            0.0002   1.0000   1.0000   0.5342   0.5292   - 18.3050 \n",
      "Max student / teacher accuracy are 0.90 / 0.91\n",
      "\n",
      "Training 86     - 100    -            0.0002   0.0056   1.0000   1.0000   0.5344   0.5306   |            0.0002   1.0000   1.0000   0.5349   0.5309   - 18.2677 \n",
      "Max student / teacher accuracy are 0.90 / 0.91\n",
      "\n",
      "Training 87     - 100    -            0.0002   0.0007   1.0000   1.0000   0.5478   0.5422   |            0.0002   1.0000   1.0000   0.5476   0.5419   - 18.3081 \n",
      "Max student / teacher accuracy are 0.90 / 0.91\n",
      "\n",
      "Training 88     - 100    -            0.0003   0.0010   1.0000   1.0000   0.5489   0.5454   |            0.0003   1.0000   1.0000   0.5497   0.5458   - 19.2654 \n",
      "Max student / teacher accuracy are 0.90 / 0.91\n",
      "\n",
      "Training 89     - 100    -            0.0002   0.0014   1.0000   1.0000   0.5232   0.5191   |            0.0002   1.0000   1.0000   0.5233   0.5201   - 18.6909 \n",
      "Max student / teacher accuracy are 0.90 / 0.91\n",
      "\n",
      "Training 90     - 100    -            0.0002   0.0003   1.0000   1.0000   0.5318   0.5271   |            0.0002   1.0000   1.0000   0.5319   0.5274   - 18.2939 \n",
      "Max student / teacher accuracy are 0.91 / 0.91\n",
      "\n",
      "Training 91     - 100    -            0.0027   0.0051   0.9988   0.9993   0.5384   0.5326   |            0.0023   0.9988   0.9993   0.5389   0.5334   - 19.0952 \n",
      "Max student / teacher accuracy are 0.91 / 0.91\n",
      "\n",
      "Training 92     - 100    -            0.0014   0.0238   0.9997   0.9996   0.5214   0.5153   |            0.0002   1.0000   1.0000   0.5236   0.5177   - 18.4344 \n",
      "Max student / teacher accuracy are 0.91 / 0.91\n",
      "\n",
      "Training 93     - 100    -            0.0003   0.0017   1.0000   1.0000   0.5512   0.5468   |            0.0002   1.0000   1.0000   0.5514   0.5468   - 18.5276 \n",
      "Max student / teacher accuracy are 0.91 / 0.91\n",
      "\n",
      "Training 94     - 100    -            0.0002   0.0008   1.0000   1.0000   0.5401   0.5353   |            0.0002   1.0000   1.0000   0.5400   0.5351   - 18.4920 \n",
      "Max student / teacher accuracy are 0.91 / 0.91\n",
      "\n",
      "Training 95     - 100    -            0.0005   0.0005   1.0000   1.0000   0.5155   0.5107   |            0.0005   1.0000   1.0000   0.5156   0.5113   - 18.2429 \n",
      "Max student / teacher accuracy are 0.91 / 0.91\n",
      "\n",
      "Training 96     - 100    -            0.0002   0.0012   1.0000   1.0000   0.5162   0.5121   |            0.0002   1.0000   1.0000   0.5160   0.5114   - 18.4014 \n",
      "Max student / teacher accuracy are 0.91 / 0.91\n",
      "\n",
      "Training 97     - 100    -            0.0003   0.0003   1.0000   1.0000   0.5529   0.5469   |            0.0003   1.0000   1.0000   0.5530   0.5472   - 18.0830 \n",
      "Max student / teacher accuracy are 0.91 / 0.91\n",
      "\n",
      "Training 98     - 100    -            0.0002   0.0002   1.0000   1.0000   0.5421   0.5380   |            0.0003   1.0000   1.0000   0.5421   0.5378   - 18.1982 \n",
      "Max student / teacher accuracy are 0.91 / 0.91\n",
      "\n",
      "Training 99     - 100    -            0.0002   0.0001   1.0000   1.0000   0.5390   0.5343   |            0.0002   1.0000   1.0000   0.5393   0.5343   - 18.9978 \n",
      "Max student / teacher accuracy are 0.91 / 0.91\n",
      "\n",
      "Training 100    - 100    -            0.0002   0.0001   1.0000   1.0000   0.5490   0.5443   |            0.0002   1.0000   1.0000   0.5488   0.5441   - 18.3478 \n",
      "Max student / teacher accuracy are 0.91 / 0.91\n",
      "\n",
      "Training 101    - 100    -            0.0003   0.0002   1.0000   1.0000   0.5424   0.5373   |            0.0004   1.0000   1.0000   0.5426   0.5374   - 18.1516 \n",
      "Max student / teacher accuracy are 0.91 / 0.91\n",
      "\n",
      "Training 102    - 100    -            0.0002   0.0005   1.0000   1.0000   0.5392   0.5346   |            0.0002   1.0000   1.0000   0.5390   0.5347   - 17.4055 \n",
      "Max student / teacher accuracy are 0.91 / 0.91\n",
      "\n",
      "Training 103    - 100    -            0.0002   0.0001   1.0000   1.0000   0.5507   0.5457   |            0.0002   1.0000   1.0000   0.5506   0.5455   - 17.5670 \n",
      "Max student / teacher accuracy are 0.91 / 0.91\n",
      "\n",
      "Training 104    - 100    -            0.0002   0.0001   1.0000   1.0000   0.5464   0.5422   |            0.0002   1.0000   1.0000   0.5465   0.5423   - 18.6204 \n",
      "Max student / teacher accuracy are 0.91 / 0.91\n",
      "\n",
      "Training 105    - 100    -            0.0003   0.0016   1.0000   1.0000   0.5273   0.5227   |            0.0004   1.0000   1.0000   0.5273   0.5228   - 19.3100 \n",
      "Max student / teacher accuracy are 0.91 / 0.91\n",
      "\n",
      "Training 106    - 100    -            0.0002   0.0003   1.0000   1.0000   0.5457   0.5398   |            0.0002   1.0000   1.0000   0.5457   0.5395   - 18.3294 \n",
      "Max student / teacher accuracy are 0.91 / 0.91\n",
      "\n",
      "Training 107    - 100    -            0.0001   0.0001   1.0000   1.0000   0.5423   0.5370   |            0.0002   1.0000   1.0000   0.5421   0.5371   - 17.6987 \n",
      "Max student / teacher accuracy are 0.91 / 0.91\n",
      "\n",
      "Training 108    - 100    -            0.0002   0.0002   1.0000   1.0000   0.5428   0.5391   |            0.0002   1.0000   1.0000   0.5424   0.5391   - 18.7028 \n",
      "Max student / teacher accuracy are 0.91 / 0.91\n",
      "\n",
      "Training 109    - 100    -            0.0001   0.0003   1.0000   1.0000   0.5470   0.5426   |            0.0002   1.0000   1.0000   0.5471   0.5424   - 18.0487 \n",
      "Max student / teacher accuracy are 0.91 / 0.91\n",
      "\n",
      "Training 110    - 100    -            0.0001   0.0001   1.0000   1.0000   0.5411   0.5366   |            0.0001   1.0000   1.0000   0.5408   0.5367   - 18.1045 \n",
      "Max student / teacher accuracy are 0.91 / 0.91\n",
      "\n",
      "Training 111    - 100    -            0.0001   0.0000   1.0000   1.0000   0.5428   0.5379   |            0.0001   1.0000   1.0000   0.5428   0.5378   - 18.5916 \n",
      "Max student / teacher accuracy are 0.91 / 0.91\n",
      "\n",
      "Training 112    - 100    -            0.0001   0.0000   1.0000   1.0000   0.5423   0.5366   |            0.0001   1.0000   1.0000   0.5425   0.5365   - 17.9611 \n",
      "Max student / teacher accuracy are 0.91 / 0.91\n",
      "\n",
      "Training 113    - 100    -            0.0002   0.0001   1.0000   1.0000   0.5466   0.5430   |            0.0002   1.0000   1.0000   0.5463   0.5428   - 17.7044 \n",
      "Max student / teacher accuracy are 0.91 / 0.91\n",
      "\n",
      "Training 114    - 100    -            0.0001   0.0001   1.0000   1.0000   0.5520   0.5477   |            0.0001   1.0000   1.0000   0.5518   0.5476   - 17.4623 \n",
      "Max student / teacher accuracy are 0.91 / 0.91\n",
      "\n",
      "Training 115    - 100    -            0.0001   0.0001   1.0000   1.0000   0.5561   0.5515   |            0.0001   1.0000   1.0000   0.5561   0.5511   - 17.2239 \n",
      "Max student / teacher accuracy are 0.91 / 0.91\n",
      "\n",
      "Training 116    - 100    -            0.0001   0.0000   1.0000   1.0000   0.5342   0.5296   |            0.0001   1.0000   1.0000   0.5345   0.5298   - 17.1989 \n",
      "Max student / teacher accuracy are 0.91 / 0.91\n",
      "\n",
      "Training 117    - 100    -            0.0001   0.0000   1.0000   1.0000   0.5402   0.5355   |            0.0001   1.0000   1.0000   0.5405   0.5354   - 17.3643 \n",
      "Max student / teacher accuracy are 0.91 / 0.91\n",
      "\n",
      "Training 118    - 100    -            0.0002   0.0002   1.0000   1.0000   0.5458   0.5403   |            0.0002   1.0000   1.0000   0.5453   0.5401   - 18.6267 \n",
      "Max student / teacher accuracy are 0.91 / 0.91\n",
      "\n",
      "Training 119    - 100    -            0.0001   0.0000   1.0000   1.0000   0.5332   0.5289   |            0.0002   1.0000   1.0000   0.5331   0.5287   - 17.6277 \n",
      "Max student / teacher accuracy are 0.91 / 0.91\n",
      "\n",
      "Training 120    - 100    -            0.0001   0.0005   1.0000   1.0000   0.5473   0.5433   |            0.0001   1.0000   1.0000   0.5470   0.5434   - 17.5939 \n",
      "Max student / teacher accuracy are 0.91 / 0.91\n",
      "\n",
      "Training 121    - 100    -            0.0003   0.0002   1.0000   1.0000   0.5333   0.5283   |            0.0003   1.0000   1.0000   0.5331   0.5283   - 17.7992 \n",
      "Max student / teacher accuracy are 0.91 / 0.91\n",
      "\n",
      "Training 122    - 100    -            0.0001   0.0003   1.0000   1.0000   0.5486   0.5445   |            0.0001   1.0000   1.0000   0.5491   0.5446   - 18.1422 \n",
      "Max student / teacher accuracy are 0.91 / 0.91\n",
      "\n",
      "Training 123    - 100    -            0.0001   0.0000   1.0000   1.0000   0.5260   0.5223   |            0.0001   1.0000   1.0000   0.5261   0.5226   - 17.7391 \n",
      "Max student / teacher accuracy are 0.91 / 0.91\n",
      "\n",
      "Training 124    - 100    -            0.0001   0.0001   1.0000   1.0000   0.5521   0.5470   |            0.0001   1.0000   1.0000   0.5522   0.5472   - 17.8481 \n",
      "Max student / teacher accuracy are 0.91 / 0.91\n",
      "\n",
      "Training 125    - 100    -            0.0001   0.0001   1.0000   1.0000   0.5502   0.5459   |            0.0002   1.0000   1.0000   0.5506   0.5459   - 17.8513 \n",
      "Max student / teacher accuracy are 0.91 / 0.91\n",
      "\n",
      "Training 126    - 100    -            0.0001   0.0001   1.0000   1.0000   0.5360   0.5314   |            0.0001   1.0000   1.0000   0.5362   0.5314   - 17.8781 \n",
      "Max student / teacher accuracy are 0.91 / 0.91\n",
      "\n",
      "Training 127    - 100    -            0.0001   0.0001   1.0000   1.0000   0.5529   0.5493   |            0.0001   1.0000   1.0000   0.5528   0.5493   - 18.0051 \n",
      "Max student / teacher accuracy are 0.91 / 0.91\n",
      "\n",
      "Training 128    - 100    -            0.0001   0.0001   1.0000   1.0000   0.5486   0.5446   |            0.0002   1.0000   1.0000   0.5485   0.5443   - 18.3308 \n",
      "Max student / teacher accuracy are 0.91 / 0.91\n",
      "\n",
      "Training 129    - 100    -            0.0001   0.0002   1.0000   1.0000   0.5384   0.5339   |            0.0001   1.0000   1.0000   0.5383   0.5337   - 18.2844 \n",
      "Max student / teacher accuracy are 0.91 / 0.91\n",
      "\n",
      "Training 130    - 100    -            0.0001   0.0002   1.0000   1.0000   0.5470   0.5433   |            0.0001   1.0000   1.0000   0.5469   0.5432   - 18.3366 \n",
      "Max student / teacher accuracy are 0.91 / 0.91\n",
      "\n",
      "Training 131    - 100    -            0.0001   0.0000   1.0000   1.0000   0.5310   0.5261   |            0.0001   1.0000   1.0000   0.5311   0.5263   - 18.4940 \n",
      "Max student / teacher accuracy are 0.91 / 0.91\n",
      "\n",
      "Training 132    - 100    -            0.0002   0.0000   1.0000   1.0000   0.5403   0.5357   |            0.0002   1.0000   1.0000   0.5404   0.5359   - 18.4051 \n",
      "Max student / teacher accuracy are 0.91 / 0.91\n",
      "\n",
      "Training 133    - 100    -            0.0001   0.0000   1.0000   1.0000   0.5440   0.5400   |            0.0001   1.0000   1.0000   0.5439   0.5399   - 18.2584 \n",
      "Max student / teacher accuracy are 0.91 / 0.91\n",
      "\n",
      "Training 134    - 100    -            0.0001   0.0000   1.0000   1.0000   0.5412   0.5359   |            0.0001   1.0000   1.0000   0.5412   0.5361   - 18.1890 \n",
      "Max student / teacher accuracy are 0.91 / 0.91\n",
      "\n",
      "Training 135    - 100    -            0.0001   0.0000   1.0000   1.0000   0.5524   0.5474   |            0.0001   1.0000   1.0000   0.5525   0.5474   - 17.9834 \n",
      "Max student / teacher accuracy are 0.91 / 0.91\n",
      "\n",
      "Training 136    - 100    -            0.0001   0.0000   1.0000   1.0000   0.5450   0.5409   |            0.0001   1.0000   1.0000   0.5450   0.5410   - 18.0097 \n",
      "Max student / teacher accuracy are 0.91 / 0.91\n",
      "\n",
      "Training 137    - 100    -            0.0001   0.0000   1.0000   1.0000   0.5337   0.5295   |            0.0001   1.0000   1.0000   0.5336   0.5295   - 18.0842 \n",
      "Max student / teacher accuracy are 0.91 / 0.91\n",
      "\n",
      "Training 138    - 100    -            0.0001   0.0000   1.0000   1.0000   0.5598   0.5553   |            0.0001   1.0000   1.0000   0.5601   0.5553   - 18.1387 \n",
      "Max student / teacher accuracy are 0.91 / 0.91\n",
      "\n",
      "Training 139    - 100    -            0.0001   0.0000   1.0000   1.0000   0.5409   0.5362   |            0.0001   1.0000   1.0000   0.5409   0.5362   - 18.6195 \n",
      "Max student / teacher accuracy are 0.91 / 0.91\n",
      "\n",
      "Training 140    - 100    -            0.0001   0.0000   1.0000   1.0000   0.5475   0.5430   |            0.0001   1.0000   1.0000   0.5475   0.5430   - 18.6157 \n",
      "Max student / teacher accuracy are 0.91 / 0.91\n",
      "\n",
      "Training 141    - 100    -            0.0001   0.0000   1.0000   1.0000   0.5333   0.5286   |            0.0001   1.0000   1.0000   0.5333   0.5285   - 18.5390 \n",
      "Max student / teacher accuracy are 0.91 / 0.91\n",
      "\n",
      "Training 142    - 100    -            0.0001   0.0000   1.0000   1.0000   0.5462   0.5409   |            0.0001   1.0000   1.0000   0.5463   0.5410   - 18.6455 \n",
      "Max student / teacher accuracy are 0.91 / 0.91\n",
      "\n",
      "Training 143    - 100    -            0.0001   0.0000   1.0000   1.0000   0.5371   0.5328   |            0.0001   1.0000   1.0000   0.5370   0.5330   - 17.6467 \n",
      "Max student / teacher accuracy are 0.91 / 0.91\n",
      "\n",
      "Training 144    - 100    -            0.0001   0.0000   1.0000   1.0000   0.5452   0.5411   |            0.0001   1.0000   1.0000   0.5454   0.5411   - 17.3040 \n",
      "Max student / teacher accuracy are 0.91 / 0.91\n",
      "\n",
      "Training 145    - 100    -            0.0001   0.0000   1.0000   1.0000   0.5374   0.5332   |            0.0001   1.0000   1.0000   0.5372   0.5331   - 17.4649 \n",
      "Max student / teacher accuracy are 0.91 / 0.91\n",
      "\n",
      "Training 146    - 100    -            0.0001   0.0000   1.0000   1.0000   0.5314   0.5267   |            0.0001   1.0000   1.0000   0.5315   0.5266   - 17.5359 \n",
      "Max student / teacher accuracy are 0.91 / 0.91\n",
      "\n",
      "Training 147    - 100    -            0.0005   0.0000   1.0000   1.0000   0.5511   0.5464   |            0.0005   1.0000   1.0000   0.5510   0.5464   - 17.5278 \n",
      "Max student / teacher accuracy are 0.91 / 0.91\n",
      "\n",
      "Training 148    - 100    -            0.0001   0.0000   1.0000   1.0000   0.5362   0.5307   |            0.0001   1.0000   1.0000   0.5359   0.5305   - 17.7730 \n",
      "Max student / teacher accuracy are 0.91 / 0.91\n",
      "\n",
      "Training 149    - 100    -            0.0001   0.0000   1.0000   1.0000   0.5483   0.5441   |            0.0001   1.0000   1.0000   0.5484   0.5441   - 17.6034 \n",
      "Max student / teacher accuracy are 0.91 / 0.91\n",
      "\n",
      "Training 150    - 100    -            0.0001   0.0000   1.0000   1.0000   0.5338   0.5290   |            0.0001   1.0000   1.0000   0.5339   0.5291   - 18.7128 \n",
      "Max student / teacher accuracy are 0.91 / 0.91\n"
     ]
    }
   ]
  },
  {
   "cell_type": "code",
   "execution_count": 76,
   "metadata": {},
   "outputs": [
    {
     "output_type": "execute_result",
     "data": {
      "text/plain": [
       "'.        Epoch  - %      - Student:   ce       ccost    acc_s    f1_s     acc_u    f1_u     | Teacher:   ce       acc_s    f1_s     acc_u    f1_u     - Time    '"
      ]
     },
     "metadata": {},
     "execution_count": 76
    }
   ],
   "source": [
    "trainer.header"
   ]
  },
  {
   "cell_type": "code",
   "execution_count": 79,
   "metadata": {},
   "outputs": [
    {
     "output_type": "display_data",
     "data": {
      "text/plain": "<Figure size 2160x1008 with 1 Axes>",
      "image/svg+xml": "<?xml version=\"1.0\" encoding=\"utf-8\" standalone=\"no\"?>\n<!DOCTYPE svg PUBLIC \"-//W3C//DTD SVG 1.1//EN\"\n  \"http://www.w3.org/Graphics/SVG/1.1/DTD/svg11.dtd\">\n<!-- Created with matplotlib (https://matplotlib.org/) -->\n<svg height=\"377.005398pt\" version=\"1.1\" viewBox=\"0 0 536.018566 377.005398\" width=\"536.018566pt\" xmlns=\"http://www.w3.org/2000/svg\" xmlns:xlink=\"http://www.w3.org/1999/xlink\">\n <defs>\n  <style type=\"text/css\">\n*{stroke-linecap:butt;stroke-linejoin:round;}\n  </style>\n </defs>\n <g id=\"figure_1\">\n  <g id=\"patch_1\">\n   <path d=\"M 0 377.005398 \nL 536.018566 377.005398 \nL 536.018566 -0 \nL 0 -0 \nz\n\" style=\"fill:none;\"/>\n  </g>\n  <g id=\"axes_1\">\n   <g id=\"patch_2\">\n    <path d=\"M 36.465625 353.127273 \nL 528.818566 353.127273 \nL 528.818566 7.2 \nL 36.465625 7.2 \nz\n\" style=\"fill:#ffffff;\"/>\n   </g>\n   <g id=\"matplotlib.axis_1\">\n    <g id=\"xtick_1\">\n     <g id=\"line2d_1\">\n      <defs>\n       <path d=\"M 0 0 \nL 0 3.5 \n\" id=\"ma1a4ea8710\" style=\"stroke:#000000;stroke-width:0.8;\"/>\n      </defs>\n      <g>\n       <use style=\"stroke:#000000;stroke-width:0.8;\" x=\"58.845304\" xlink:href=\"#ma1a4ea8710\" y=\"353.127273\"/>\n      </g>\n     </g>\n     <g id=\"text_1\">\n      <!-- 0 -->\n      <defs>\n       <path d=\"M 31.78125 66.40625 \nQ 24.171875 66.40625 20.328125 58.90625 \nQ 16.5 51.421875 16.5 36.375 \nQ 16.5 21.390625 20.328125 13.890625 \nQ 24.171875 6.390625 31.78125 6.390625 \nQ 39.453125 6.390625 43.28125 13.890625 \nQ 47.125 21.390625 47.125 36.375 \nQ 47.125 51.421875 43.28125 58.90625 \nQ 39.453125 66.40625 31.78125 66.40625 \nz\nM 31.78125 74.21875 \nQ 44.046875 74.21875 50.515625 64.515625 \nQ 56.984375 54.828125 56.984375 36.375 \nQ 56.984375 17.96875 50.515625 8.265625 \nQ 44.046875 -1.421875 31.78125 -1.421875 \nQ 19.53125 -1.421875 13.0625 8.265625 \nQ 6.59375 17.96875 6.59375 36.375 \nQ 6.59375 54.828125 13.0625 64.515625 \nQ 19.53125 74.21875 31.78125 74.21875 \nz\n\" id=\"DejaVuSans-48\"/>\n      </defs>\n      <g transform=\"translate(55.664054 367.72571)scale(0.1 -0.1)\">\n       <use xlink:href=\"#DejaVuSans-48\"/>\n      </g>\n     </g>\n    </g>\n    <g id=\"xtick_2\">\n     <g id=\"line2d_2\">\n      <g>\n       <use style=\"stroke:#000000;stroke-width:0.8;\" x=\"118.92498\" xlink:href=\"#ma1a4ea8710\" y=\"353.127273\"/>\n      </g>\n     </g>\n     <g id=\"text_2\">\n      <!-- 20 -->\n      <defs>\n       <path d=\"M 19.1875 8.296875 \nL 53.609375 8.296875 \nL 53.609375 0 \nL 7.328125 0 \nL 7.328125 8.296875 \nQ 12.9375 14.109375 22.625 23.890625 \nQ 32.328125 33.6875 34.8125 36.53125 \nQ 39.546875 41.84375 41.421875 45.53125 \nQ 43.3125 49.21875 43.3125 52.78125 \nQ 43.3125 58.59375 39.234375 62.25 \nQ 35.15625 65.921875 28.609375 65.921875 \nQ 23.96875 65.921875 18.8125 64.3125 \nQ 13.671875 62.703125 7.8125 59.421875 \nL 7.8125 69.390625 \nQ 13.765625 71.78125 18.9375 73 \nQ 24.125 74.21875 28.421875 74.21875 \nQ 39.75 74.21875 46.484375 68.546875 \nQ 53.21875 62.890625 53.21875 53.421875 \nQ 53.21875 48.921875 51.53125 44.890625 \nQ 49.859375 40.875 45.40625 35.40625 \nQ 44.1875 33.984375 37.640625 27.21875 \nQ 31.109375 20.453125 19.1875 8.296875 \nz\n\" id=\"DejaVuSans-50\"/>\n      </defs>\n      <g transform=\"translate(112.56248 367.72571)scale(0.1 -0.1)\">\n       <use xlink:href=\"#DejaVuSans-50\"/>\n       <use x=\"63.623047\" xlink:href=\"#DejaVuSans-48\"/>\n      </g>\n     </g>\n    </g>\n    <g id=\"xtick_3\">\n     <g id=\"line2d_3\">\n      <g>\n       <use style=\"stroke:#000000;stroke-width:0.8;\" x=\"179.004655\" xlink:href=\"#ma1a4ea8710\" y=\"353.127273\"/>\n      </g>\n     </g>\n     <g id=\"text_3\">\n      <!-- 40 -->\n      <defs>\n       <path d=\"M 37.796875 64.3125 \nL 12.890625 25.390625 \nL 37.796875 25.390625 \nz\nM 35.203125 72.90625 \nL 47.609375 72.90625 \nL 47.609375 25.390625 \nL 58.015625 25.390625 \nL 58.015625 17.1875 \nL 47.609375 17.1875 \nL 47.609375 0 \nL 37.796875 0 \nL 37.796875 17.1875 \nL 4.890625 17.1875 \nL 4.890625 26.703125 \nz\n\" id=\"DejaVuSans-52\"/>\n      </defs>\n      <g transform=\"translate(172.642155 367.72571)scale(0.1 -0.1)\">\n       <use xlink:href=\"#DejaVuSans-52\"/>\n       <use x=\"63.623047\" xlink:href=\"#DejaVuSans-48\"/>\n      </g>\n     </g>\n    </g>\n    <g id=\"xtick_4\">\n     <g id=\"line2d_4\">\n      <g>\n       <use style=\"stroke:#000000;stroke-width:0.8;\" x=\"239.084331\" xlink:href=\"#ma1a4ea8710\" y=\"353.127273\"/>\n      </g>\n     </g>\n     <g id=\"text_4\">\n      <!-- 60 -->\n      <defs>\n       <path d=\"M 33.015625 40.375 \nQ 26.375 40.375 22.484375 35.828125 \nQ 18.609375 31.296875 18.609375 23.390625 \nQ 18.609375 15.53125 22.484375 10.953125 \nQ 26.375 6.390625 33.015625 6.390625 \nQ 39.65625 6.390625 43.53125 10.953125 \nQ 47.40625 15.53125 47.40625 23.390625 \nQ 47.40625 31.296875 43.53125 35.828125 \nQ 39.65625 40.375 33.015625 40.375 \nz\nM 52.59375 71.296875 \nL 52.59375 62.3125 \nQ 48.875 64.0625 45.09375 64.984375 \nQ 41.3125 65.921875 37.59375 65.921875 \nQ 27.828125 65.921875 22.671875 59.328125 \nQ 17.53125 52.734375 16.796875 39.40625 \nQ 19.671875 43.65625 24.015625 45.921875 \nQ 28.375 48.1875 33.59375 48.1875 \nQ 44.578125 48.1875 50.953125 41.515625 \nQ 57.328125 34.859375 57.328125 23.390625 \nQ 57.328125 12.15625 50.6875 5.359375 \nQ 44.046875 -1.421875 33.015625 -1.421875 \nQ 20.359375 -1.421875 13.671875 8.265625 \nQ 6.984375 17.96875 6.984375 36.375 \nQ 6.984375 53.65625 15.1875 63.9375 \nQ 23.390625 74.21875 37.203125 74.21875 \nQ 40.921875 74.21875 44.703125 73.484375 \nQ 48.484375 72.75 52.59375 71.296875 \nz\n\" id=\"DejaVuSans-54\"/>\n      </defs>\n      <g transform=\"translate(232.721831 367.72571)scale(0.1 -0.1)\">\n       <use xlink:href=\"#DejaVuSans-54\"/>\n       <use x=\"63.623047\" xlink:href=\"#DejaVuSans-48\"/>\n      </g>\n     </g>\n    </g>\n    <g id=\"xtick_5\">\n     <g id=\"line2d_5\">\n      <g>\n       <use style=\"stroke:#000000;stroke-width:0.8;\" x=\"299.164006\" xlink:href=\"#ma1a4ea8710\" y=\"353.127273\"/>\n      </g>\n     </g>\n     <g id=\"text_5\">\n      <!-- 80 -->\n      <defs>\n       <path d=\"M 31.78125 34.625 \nQ 24.75 34.625 20.71875 30.859375 \nQ 16.703125 27.09375 16.703125 20.515625 \nQ 16.703125 13.921875 20.71875 10.15625 \nQ 24.75 6.390625 31.78125 6.390625 \nQ 38.8125 6.390625 42.859375 10.171875 \nQ 46.921875 13.96875 46.921875 20.515625 \nQ 46.921875 27.09375 42.890625 30.859375 \nQ 38.875 34.625 31.78125 34.625 \nz\nM 21.921875 38.8125 \nQ 15.578125 40.375 12.03125 44.71875 \nQ 8.5 49.078125 8.5 55.328125 \nQ 8.5 64.0625 14.71875 69.140625 \nQ 20.953125 74.21875 31.78125 74.21875 \nQ 42.671875 74.21875 48.875 69.140625 \nQ 55.078125 64.0625 55.078125 55.328125 \nQ 55.078125 49.078125 51.53125 44.71875 \nQ 48 40.375 41.703125 38.8125 \nQ 48.828125 37.15625 52.796875 32.3125 \nQ 56.78125 27.484375 56.78125 20.515625 \nQ 56.78125 9.90625 50.3125 4.234375 \nQ 43.84375 -1.421875 31.78125 -1.421875 \nQ 19.734375 -1.421875 13.25 4.234375 \nQ 6.78125 9.90625 6.78125 20.515625 \nQ 6.78125 27.484375 10.78125 32.3125 \nQ 14.796875 37.15625 21.921875 38.8125 \nz\nM 18.3125 54.390625 \nQ 18.3125 48.734375 21.84375 45.5625 \nQ 25.390625 42.390625 31.78125 42.390625 \nQ 38.140625 42.390625 41.71875 45.5625 \nQ 45.3125 48.734375 45.3125 54.390625 \nQ 45.3125 60.0625 41.71875 63.234375 \nQ 38.140625 66.40625 31.78125 66.40625 \nQ 25.390625 66.40625 21.84375 63.234375 \nQ 18.3125 60.0625 18.3125 54.390625 \nz\n\" id=\"DejaVuSans-56\"/>\n      </defs>\n      <g transform=\"translate(292.801506 367.72571)scale(0.1 -0.1)\">\n       <use xlink:href=\"#DejaVuSans-56\"/>\n       <use x=\"63.623047\" xlink:href=\"#DejaVuSans-48\"/>\n      </g>\n     </g>\n    </g>\n    <g id=\"xtick_6\">\n     <g id=\"line2d_6\">\n      <g>\n       <use style=\"stroke:#000000;stroke-width:0.8;\" x=\"359.243682\" xlink:href=\"#ma1a4ea8710\" y=\"353.127273\"/>\n      </g>\n     </g>\n     <g id=\"text_6\">\n      <!-- 100 -->\n      <defs>\n       <path d=\"M 12.40625 8.296875 \nL 28.515625 8.296875 \nL 28.515625 63.921875 \nL 10.984375 60.40625 \nL 10.984375 69.390625 \nL 28.421875 72.90625 \nL 38.28125 72.90625 \nL 38.28125 8.296875 \nL 54.390625 8.296875 \nL 54.390625 0 \nL 12.40625 0 \nz\n\" id=\"DejaVuSans-49\"/>\n      </defs>\n      <g transform=\"translate(349.699932 367.72571)scale(0.1 -0.1)\">\n       <use xlink:href=\"#DejaVuSans-49\"/>\n       <use x=\"63.623047\" xlink:href=\"#DejaVuSans-48\"/>\n       <use x=\"127.246094\" xlink:href=\"#DejaVuSans-48\"/>\n      </g>\n     </g>\n    </g>\n    <g id=\"xtick_7\">\n     <g id=\"line2d_7\">\n      <g>\n       <use style=\"stroke:#000000;stroke-width:0.8;\" x=\"419.323357\" xlink:href=\"#ma1a4ea8710\" y=\"353.127273\"/>\n      </g>\n     </g>\n     <g id=\"text_7\">\n      <!-- 120 -->\n      <g transform=\"translate(409.779607 367.72571)scale(0.1 -0.1)\">\n       <use xlink:href=\"#DejaVuSans-49\"/>\n       <use x=\"63.623047\" xlink:href=\"#DejaVuSans-50\"/>\n       <use x=\"127.246094\" xlink:href=\"#DejaVuSans-48\"/>\n      </g>\n     </g>\n    </g>\n    <g id=\"xtick_8\">\n     <g id=\"line2d_8\">\n      <g>\n       <use style=\"stroke:#000000;stroke-width:0.8;\" x=\"479.403033\" xlink:href=\"#ma1a4ea8710\" y=\"353.127273\"/>\n      </g>\n     </g>\n     <g id=\"text_8\">\n      <!-- 140 -->\n      <g transform=\"translate(469.859283 367.72571)scale(0.1 -0.1)\">\n       <use xlink:href=\"#DejaVuSans-49\"/>\n       <use x=\"63.623047\" xlink:href=\"#DejaVuSans-52\"/>\n       <use x=\"127.246094\" xlink:href=\"#DejaVuSans-48\"/>\n      </g>\n     </g>\n    </g>\n   </g>\n   <g id=\"matplotlib.axis_2\">\n    <g id=\"ytick_1\">\n     <g id=\"line2d_9\">\n      <defs>\n       <path d=\"M 0 0 \nL -3.5 0 \n\" id=\"m9895d22ddf\" style=\"stroke:#000000;stroke-width:0.8;\"/>\n      </defs>\n      <g>\n       <use style=\"stroke:#000000;stroke-width:0.8;\" x=\"36.465625\" xlink:href=\"#m9895d22ddf\" y=\"314.114172\"/>\n      </g>\n     </g>\n     <g id=\"text_9\">\n      <!-- 0.65 -->\n      <defs>\n       <path d=\"M 10.6875 12.40625 \nL 21 12.40625 \nL 21 0 \nL 10.6875 0 \nz\n\" id=\"DejaVuSans-46\"/>\n       <path d=\"M 10.796875 72.90625 \nL 49.515625 72.90625 \nL 49.515625 64.59375 \nL 19.828125 64.59375 \nL 19.828125 46.734375 \nQ 21.96875 47.46875 24.109375 47.828125 \nQ 26.265625 48.1875 28.421875 48.1875 \nQ 40.625 48.1875 47.75 41.5 \nQ 54.890625 34.8125 54.890625 23.390625 \nQ 54.890625 11.625 47.5625 5.09375 \nQ 40.234375 -1.421875 26.90625 -1.421875 \nQ 22.3125 -1.421875 17.546875 -0.640625 \nQ 12.796875 0.140625 7.71875 1.703125 \nL 7.71875 11.625 \nQ 12.109375 9.234375 16.796875 8.0625 \nQ 21.484375 6.890625 26.703125 6.890625 \nQ 35.15625 6.890625 40.078125 11.328125 \nQ 45.015625 15.765625 45.015625 23.390625 \nQ 45.015625 31 40.078125 35.4375 \nQ 35.15625 39.890625 26.703125 39.890625 \nQ 22.75 39.890625 18.8125 39.015625 \nQ 14.890625 38.140625 10.796875 36.28125 \nz\n\" id=\"DejaVuSans-53\"/>\n      </defs>\n      <g transform=\"translate(7.2 317.913391)scale(0.1 -0.1)\">\n       <use xlink:href=\"#DejaVuSans-48\"/>\n       <use x=\"63.623047\" xlink:href=\"#DejaVuSans-46\"/>\n       <use x=\"95.410156\" xlink:href=\"#DejaVuSans-54\"/>\n       <use x=\"159.033203\" xlink:href=\"#DejaVuSans-53\"/>\n      </g>\n     </g>\n    </g>\n    <g id=\"ytick_2\">\n     <g id=\"line2d_10\">\n      <g>\n       <use style=\"stroke:#000000;stroke-width:0.8;\" x=\"36.465625\" xlink:href=\"#m9895d22ddf\" y=\"258.677208\"/>\n      </g>\n     </g>\n     <g id=\"text_10\">\n      <!-- 0.70 -->\n      <defs>\n       <path d=\"M 8.203125 72.90625 \nL 55.078125 72.90625 \nL 55.078125 68.703125 \nL 28.609375 0 \nL 18.3125 0 \nL 43.21875 64.59375 \nL 8.203125 64.59375 \nz\n\" id=\"DejaVuSans-55\"/>\n      </defs>\n      <g transform=\"translate(7.2 262.476427)scale(0.1 -0.1)\">\n       <use xlink:href=\"#DejaVuSans-48\"/>\n       <use x=\"63.623047\" xlink:href=\"#DejaVuSans-46\"/>\n       <use x=\"95.410156\" xlink:href=\"#DejaVuSans-55\"/>\n       <use x=\"159.033203\" xlink:href=\"#DejaVuSans-48\"/>\n      </g>\n     </g>\n    </g>\n    <g id=\"ytick_3\">\n     <g id=\"line2d_11\">\n      <g>\n       <use style=\"stroke:#000000;stroke-width:0.8;\" x=\"36.465625\" xlink:href=\"#m9895d22ddf\" y=\"203.240244\"/>\n      </g>\n     </g>\n     <g id=\"text_11\">\n      <!-- 0.75 -->\n      <g transform=\"translate(7.2 207.039462)scale(0.1 -0.1)\">\n       <use xlink:href=\"#DejaVuSans-48\"/>\n       <use x=\"63.623047\" xlink:href=\"#DejaVuSans-46\"/>\n       <use x=\"95.410156\" xlink:href=\"#DejaVuSans-55\"/>\n       <use x=\"159.033203\" xlink:href=\"#DejaVuSans-53\"/>\n      </g>\n     </g>\n    </g>\n    <g id=\"ytick_4\">\n     <g id=\"line2d_12\">\n      <g>\n       <use style=\"stroke:#000000;stroke-width:0.8;\" x=\"36.465625\" xlink:href=\"#m9895d22ddf\" y=\"147.803279\"/>\n      </g>\n     </g>\n     <g id=\"text_12\">\n      <!-- 0.80 -->\n      <g transform=\"translate(7.2 151.602498)scale(0.1 -0.1)\">\n       <use xlink:href=\"#DejaVuSans-48\"/>\n       <use x=\"63.623047\" xlink:href=\"#DejaVuSans-46\"/>\n       <use x=\"95.410156\" xlink:href=\"#DejaVuSans-56\"/>\n       <use x=\"159.033203\" xlink:href=\"#DejaVuSans-48\"/>\n      </g>\n     </g>\n    </g>\n    <g id=\"ytick_5\">\n     <g id=\"line2d_13\">\n      <g>\n       <use style=\"stroke:#000000;stroke-width:0.8;\" x=\"36.465625\" xlink:href=\"#m9895d22ddf\" y=\"92.366315\"/>\n      </g>\n     </g>\n     <g id=\"text_13\">\n      <!-- 0.85 -->\n      <g transform=\"translate(7.2 96.165534)scale(0.1 -0.1)\">\n       <use xlink:href=\"#DejaVuSans-48\"/>\n       <use x=\"63.623047\" xlink:href=\"#DejaVuSans-46\"/>\n       <use x=\"95.410156\" xlink:href=\"#DejaVuSans-56\"/>\n       <use x=\"159.033203\" xlink:href=\"#DejaVuSans-53\"/>\n      </g>\n     </g>\n    </g>\n    <g id=\"ytick_6\">\n     <g id=\"line2d_14\">\n      <g>\n       <use style=\"stroke:#000000;stroke-width:0.8;\" x=\"36.465625\" xlink:href=\"#m9895d22ddf\" y=\"36.929351\"/>\n      </g>\n     </g>\n     <g id=\"text_14\">\n      <!-- 0.90 -->\n      <defs>\n       <path d=\"M 10.984375 1.515625 \nL 10.984375 10.5 \nQ 14.703125 8.734375 18.5 7.8125 \nQ 22.3125 6.890625 25.984375 6.890625 \nQ 35.75 6.890625 40.890625 13.453125 \nQ 46.046875 20.015625 46.78125 33.40625 \nQ 43.953125 29.203125 39.59375 26.953125 \nQ 35.25 24.703125 29.984375 24.703125 \nQ 19.046875 24.703125 12.671875 31.3125 \nQ 6.296875 37.9375 6.296875 49.421875 \nQ 6.296875 60.640625 12.9375 67.421875 \nQ 19.578125 74.21875 30.609375 74.21875 \nQ 43.265625 74.21875 49.921875 64.515625 \nQ 56.59375 54.828125 56.59375 36.375 \nQ 56.59375 19.140625 48.40625 8.859375 \nQ 40.234375 -1.421875 26.421875 -1.421875 \nQ 22.703125 -1.421875 18.890625 -0.6875 \nQ 15.09375 0.046875 10.984375 1.515625 \nz\nM 30.609375 32.421875 \nQ 37.25 32.421875 41.125 36.953125 \nQ 45.015625 41.5 45.015625 49.421875 \nQ 45.015625 57.28125 41.125 61.84375 \nQ 37.25 66.40625 30.609375 66.40625 \nQ 23.96875 66.40625 20.09375 61.84375 \nQ 16.21875 57.28125 16.21875 49.421875 \nQ 16.21875 41.5 20.09375 36.953125 \nQ 23.96875 32.421875 30.609375 32.421875 \nz\n\" id=\"DejaVuSans-57\"/>\n      </defs>\n      <g transform=\"translate(7.2 40.728569)scale(0.1 -0.1)\">\n       <use xlink:href=\"#DejaVuSans-48\"/>\n       <use x=\"63.623047\" xlink:href=\"#DejaVuSans-46\"/>\n       <use x=\"95.410156\" xlink:href=\"#DejaVuSans-57\"/>\n       <use x=\"159.033203\" xlink:href=\"#DejaVuSans-48\"/>\n      </g>\n     </g>\n    </g>\n   </g>\n   <g id=\"line2d_15\">\n    <path clip-path=\"url(#p32ed3c626f)\" d=\"M 58.845304 337.403306 \nL 61.849288 314.526708 \nL 64.853272 260.866387 \nL 67.857255 191.765928 \nL 70.861239 149.555801 \nL 73.865223 158.999096 \nL 76.869207 93.008182 \nL 79.873191 169.333494 \nL 82.877174 84.343447 \nL 85.881158 72.031226 \nL 88.885142 113.334521 \nL 91.889126 58.363978 \nL 94.893109 106.350089 \nL 97.897093 63.690511 \nL 100.901077 57.371102 \nL 103.905061 39.366233 \nL 106.909045 47.379095 \nL 109.913028 45.020618 \nL 112.917012 37.700469 \nL 115.920996 62.137093 \nL 118.92498 42.368652 \nL 121.928963 46.141701 \nL 124.932947 46.36375 \nL 127.936931 42.027582 \nL 130.940915 49.801148 \nL 133.944899 50.47007 \nL 136.948882 42.142506 \nL 139.952866 49.475939 \nL 142.95685 44.145441 \nL 145.960834 47.372487 \nL 148.964817 44.809077 \nL 151.968801 38.580933 \nL 154.972785 45.685641 \nL 157.976769 43.353532 \nL 160.980753 37.359399 \nL 163.984736 34.698181 \nL 166.98872 38.255723 \nL 169.992704 42.705691 \nL 172.996688 44.035738 \nL 176.000671 42.68983 \nL 179.004655 35.692313 \nL 182.008639 38.922002 \nL 185.012623 38.922002 \nL 188.016607 44.019877 \nL 191.02059 37.811493 \nL 194.024574 40.587766 \nL 197.028558 43.692025 \nL 200.032542 45.136995 \nL 203.036525 36.137799 \nL 206.040509 41.477482 \nL 209.044493 43.591508 \nL 212.048477 32.036831 \nL 215.052461 43.243829 \nL 218.056444 36.252855 \nL 221.060428 38.144633 \nL 224.064412 32.145279 \nL 227.068396 34.252629 \nL 230.072379 38.037639 \nL 233.076363 38.142055 \nL 236.080347 37.471745 \nL 239.084331 44.356916 \nL 242.088315 39.353082 \nL 245.092298 38.142055 \nL 248.096282 40.249406 \nL 251.100266 36.694375 \nL 254.10425 34.253951 \nL 257.108233 43.149921 \nL 260.112217 37.582769 \nL 263.116201 38.808335 \nL 266.120185 36.47497 \nL 269.124169 38.813555 \nL 272.128152 36.58606 \nL 275.132136 36.144407 \nL 278.13612 34.472035 \nL 281.140104 38.584964 \nL 284.144087 37.25756 \nL 287.148071 41.584674 \nL 290.152055 42.257562 \nL 293.156039 38.922002 \nL 296.160023 33.698696 \nL 299.164006 39.912235 \nL 302.16799 36.698406 \nL 305.171974 39.476002 \nL 308.175958 32.359463 \nL 311.179941 41.810688 \nL 314.183925 35.796729 \nL 317.187909 37.573584 \nL 320.191893 40.687028 \nL 323.195877 43.476452 \nL 326.19986 30.486123 \nL 329.203844 45.705401 \nL 332.207828 33.590249 \nL 335.211812 39.136187 \nL 338.215795 37.024937 \nL 341.219779 38.148664 \nL 344.223763 40.019427 \nL 347.227747 42.47439 \nL 350.231731 35.69489 \nL 353.235714 35.466299 \nL 356.239698 37.363364 \nL 359.243682 39.01862 \nL 362.247666 39.37674 \nL 365.251649 39.026484 \nL 368.255633 33.029642 \nL 371.259617 32.690026 \nL 374.263601 40.025903 \nL 377.267585 41.704951 \nL 380.271568 36.362623 \nL 383.275552 41.469618 \nL 386.279536 38.923324 \nL 389.28352 38.370779 \nL 392.287503 41.250213 \nL 395.291487 33.809721 \nL 398.295471 34.794667 \nL 401.299455 35.029999 \nL 404.303439 41.021489 \nL 407.307422 34.806496 \nL 410.311406 35.36446 \nL 413.31539 39.251243 \nL 416.319374 44.58564 \nL 419.323357 37.245731 \nL 422.327341 37.688639 \nL 425.331325 32.804949 \nL 428.335309 36.57813 \nL 431.339293 39.470649 \nL 434.343276 31.686509 \nL 437.34726 40.689605 \nL 440.351244 38.929933 \nL 443.355228 30.6898 \nL 446.359211 35.47152 \nL 449.363195 35.019359 \nL 452.367179 37.469102 \nL 455.371163 37.134706 \nL 458.375147 32.35682 \nL 461.37913 37.362108 \nL 464.383114 40.905112 \nL 467.387098 38.920747 \nL 470.391082 39.581739 \nL 473.395065 38.468586 \nL 476.399049 42.257562 \nL 479.403033 38.469908 \nL 482.407017 37.592022 \nL 485.411001 38.372101 \nL 488.414984 37.133385 \nL 491.418968 42.248376 \nL 494.422952 41.693121 \nL 497.426936 43.024292 \nL 500.430919 41.147052 \nL 503.434903 43.241186 \nL 506.438887 36.024131 \nL 506.438887 36.024131 \n\" style=\"fill:none;stroke:#1f77b4;stroke-linecap:square;stroke-width:1.5;\"/>\n   </g>\n   <g id=\"line2d_16\">\n    <path clip-path=\"url(#p32ed3c626f)\" d=\"M 58.845304 337.403306 \nL 61.849288 331.525484 \nL 64.853272 303.306493 \nL 70.861239 170.335622 \nL 73.865223 118.680813 \nL 76.869207 91.45602 \nL 79.873191 75.020429 \nL 82.877174 62.909176 \nL 85.881158 54.711074 \nL 88.885142 47.574842 \nL 91.889126 44.033029 \nL 94.893109 39.81304 \nL 97.897093 36.8054 \nL 100.901077 34.144182 \nL 103.905061 32.032932 \nL 106.909045 30.4887 \nL 112.917012 30.811332 \nL 118.92498 28.480545 \nL 121.928963 27.473196 \nL 124.932947 29.039699 \nL 127.936931 28.809719 \nL 130.940915 30.028676 \nL 133.944899 28.473936 \nL 136.948882 28.254465 \nL 139.952866 28.698629 \nL 142.95685 28.703982 \nL 145.960834 29.596275 \nL 148.964817 29.696792 \nL 151.968801 29.135061 \nL 154.972785 28.362912 \nL 157.976769 29.577837 \nL 160.980753 29.359753 \nL 163.984736 27.810234 \nL 166.98872 28.031028 \nL 169.992704 28.366943 \nL 172.996688 28.590314 \nL 176.000671 27.810234 \nL 179.004655 27.363427 \nL 182.008639 28.804498 \nL 185.012623 26.699725 \nL 188.016607 27.693989 \nL 191.02059 27.363427 \nL 194.024574 27.252402 \nL 197.028558 27.926612 \nL 200.032542 27.808913 \nL 203.036525 26.915298 \nL 206.040509 26.813459 \nL 209.044493 28.151304 \nL 212.048477 27.14792 \nL 215.052461 26.915298 \nL 218.056444 27.69921 \nL 221.060428 27.149242 \nL 224.064412 27.69921 \nL 227.068396 25.811331 \nL 230.072379 27.14792 \nL 233.076363 27.14792 \nL 236.080347 27.359528 \nL 239.084331 28.800467 \nL 242.088315 26.136672 \nL 245.092298 26.81075 \nL 248.096282 28.031028 \nL 251.100266 27.473196 \nL 254.10425 26.365264 \nL 257.108233 27.153141 \nL 260.112217 26.698403 \nL 263.116201 26.367973 \nL 266.120185 26.366586 \nL 269.124169 26.038733 \nL 275.132136 27.483703 \nL 278.13612 25.479579 \nL 281.140104 25.027419 \nL 284.144087 26.48032 \nL 287.148071 25.47687 \nL 290.152055 24.806625 \nL 293.156039 25.149017 \nL 296.160023 27.364749 \nL 299.164006 26.256949 \nL 305.171974 26.587379 \nL 308.175958 27.138734 \nL 311.179941 26.366586 \nL 314.183925 26.024194 \nL 320.191893 25.688411 \nL 323.195877 27.58422 \nL 326.19986 28.483188 \nL 329.203844 25.70024 \nL 332.207828 27.259011 \nL 335.211812 27.022357 \nL 338.215795 27.58422 \nL 341.219779 26.256949 \nL 344.223763 28.249244 \nL 347.227747 25.147695 \nL 350.231731 26.032124 \nL 353.235714 25.917135 \nL 356.239698 26.365264 \nL 359.243682 27.692667 \nL 362.247666 25.26394 \nL 365.251649 26.254239 \nL 368.255633 25.70024 \nL 371.259617 25.80611 \nL 377.267585 25.373709 \nL 380.271568 26.363942 \nL 383.275552 24.915072 \nL 386.279536 26.256949 \nL 389.28352 26.48032 \nL 392.287503 26.140571 \nL 395.291487 26.148502 \nL 398.295471 26.910011 \nL 401.299455 22.923967 \nL 404.303439 26.58348 \nL 407.307422 26.917941 \nL 410.311406 26.363942 \nL 413.31539 24.591185 \nL 416.319374 25.808687 \nL 419.323357 28.246666 \nL 425.331325 25.803533 \nL 428.335309 26.802951 \nL 431.339293 27.253658 \nL 434.343276 26.024194 \nL 437.34726 28.025807 \nL 440.351244 26.596565 \nL 443.355228 27.469297 \nL 446.359211 26.032124 \nL 449.363195 26.579449 \nL 452.367179 26.473711 \nL 455.371163 27.133382 \nL 458.375147 26.579449 \nL 461.37913 26.92455 \nL 464.383114 26.130064 \nL 467.387098 27.478483 \nL 470.391082 25.467618 \nL 473.395065 26.693249 \nL 476.399049 24.6995 \nL 479.403033 28.808398 \nL 482.407017 26.040055 \nL 485.411001 26.705012 \nL 488.414984 27.802436 \nL 491.418968 26.919197 \nL 494.422952 27.257689 \nL 497.426936 27.137413 \nL 500.430919 26.48032 \nL 503.434903 26.580836 \nL 506.438887 26.805595 \nL 506.438887 26.805595 \n\" style=\"fill:none;stroke:#ff7f0e;stroke-linecap:square;stroke-width:1.5;\"/>\n   </g>\n   <g id=\"patch_3\">\n    <path d=\"M 36.465625 353.127273 \nL 36.465625 7.2 \n\" style=\"fill:none;stroke:#000000;stroke-linecap:square;stroke-linejoin:miter;stroke-width:0.8;\"/>\n   </g>\n   <g id=\"patch_4\">\n    <path d=\"M 528.818566 353.127273 \nL 528.818566 7.2 \n\" style=\"fill:none;stroke:#000000;stroke-linecap:square;stroke-linejoin:miter;stroke-width:0.8;\"/>\n   </g>\n   <g id=\"patch_5\">\n    <path d=\"M 36.465625 353.127273 \nL 528.818566 353.127273 \n\" style=\"fill:none;stroke:#000000;stroke-linecap:square;stroke-linejoin:miter;stroke-width:0.8;\"/>\n   </g>\n   <g id=\"patch_6\">\n    <path d=\"M 36.465625 7.2 \nL 528.818566 7.2 \n\" style=\"fill:none;stroke:#000000;stroke-linecap:square;stroke-linejoin:miter;stroke-width:0.8;\"/>\n   </g>\n   <g id=\"legend_1\">\n    <g id=\"patch_7\">\n     <path d=\"M 285.121691 348.127273 \nL 521.818566 348.127273 \nQ 523.818566 348.127273 523.818566 346.127273 \nL 523.818566 317.214773 \nQ 523.818566 315.214773 521.818566 315.214773 \nL 285.121691 315.214773 \nQ 283.121691 315.214773 283.121691 317.214773 \nL 283.121691 346.127273 \nQ 283.121691 348.127273 285.121691 348.127273 \nz\n\" style=\"fill:#ffffff;opacity:0.8;stroke:#cccccc;stroke-linejoin:miter;\"/>\n    </g>\n    <g id=\"line2d_17\">\n     <path d=\"M 287.121691 323.31321 \nL 307.121691 323.31321 \n\" style=\"fill:none;stroke:#1f77b4;stroke-linecap:square;stroke-width:1.5;\"/>\n    </g>\n    <g id=\"line2d_18\"/>\n    <g id=\"text_15\">\n     <!-- val/student_acc = 0.9058113098144531 -->\n     <defs>\n      <path d=\"M 2.984375 54.6875 \nL 12.5 54.6875 \nL 29.59375 8.796875 \nL 46.6875 54.6875 \nL 56.203125 54.6875 \nL 35.6875 0 \nL 23.484375 0 \nz\n\" id=\"DejaVuSans-118\"/>\n      <path d=\"M 34.28125 27.484375 \nQ 23.390625 27.484375 19.1875 25 \nQ 14.984375 22.515625 14.984375 16.5 \nQ 14.984375 11.71875 18.140625 8.90625 \nQ 21.296875 6.109375 26.703125 6.109375 \nQ 34.1875 6.109375 38.703125 11.40625 \nQ 43.21875 16.703125 43.21875 25.484375 \nL 43.21875 27.484375 \nz\nM 52.203125 31.203125 \nL 52.203125 0 \nL 43.21875 0 \nL 43.21875 8.296875 \nQ 40.140625 3.328125 35.546875 0.953125 \nQ 30.953125 -1.421875 24.3125 -1.421875 \nQ 15.921875 -1.421875 10.953125 3.296875 \nQ 6 8.015625 6 15.921875 \nQ 6 25.140625 12.171875 29.828125 \nQ 18.359375 34.515625 30.609375 34.515625 \nL 43.21875 34.515625 \nL 43.21875 35.40625 \nQ 43.21875 41.609375 39.140625 45 \nQ 35.0625 48.390625 27.6875 48.390625 \nQ 23 48.390625 18.546875 47.265625 \nQ 14.109375 46.140625 10.015625 43.890625 \nL 10.015625 52.203125 \nQ 14.9375 54.109375 19.578125 55.046875 \nQ 24.21875 56 28.609375 56 \nQ 40.484375 56 46.34375 49.84375 \nQ 52.203125 43.703125 52.203125 31.203125 \nz\n\" id=\"DejaVuSans-97\"/>\n      <path d=\"M 9.421875 75.984375 \nL 18.40625 75.984375 \nL 18.40625 0 \nL 9.421875 0 \nz\n\" id=\"DejaVuSans-108\"/>\n      <path d=\"M 25.390625 72.90625 \nL 33.6875 72.90625 \nL 8.296875 -9.28125 \nL 0 -9.28125 \nz\n\" id=\"DejaVuSans-47\"/>\n      <path d=\"M 44.28125 53.078125 \nL 44.28125 44.578125 \nQ 40.484375 46.53125 36.375 47.5 \nQ 32.28125 48.484375 27.875 48.484375 \nQ 21.1875 48.484375 17.84375 46.4375 \nQ 14.5 44.390625 14.5 40.28125 \nQ 14.5 37.15625 16.890625 35.375 \nQ 19.28125 33.59375 26.515625 31.984375 \nL 29.59375 31.296875 \nQ 39.15625 29.25 43.1875 25.515625 \nQ 47.21875 21.78125 47.21875 15.09375 \nQ 47.21875 7.46875 41.1875 3.015625 \nQ 35.15625 -1.421875 24.609375 -1.421875 \nQ 20.21875 -1.421875 15.453125 -0.5625 \nQ 10.6875 0.296875 5.421875 2 \nL 5.421875 11.28125 \nQ 10.40625 8.6875 15.234375 7.390625 \nQ 20.0625 6.109375 24.8125 6.109375 \nQ 31.15625 6.109375 34.5625 8.28125 \nQ 37.984375 10.453125 37.984375 14.40625 \nQ 37.984375 18.0625 35.515625 20.015625 \nQ 33.0625 21.96875 24.703125 23.78125 \nL 21.578125 24.515625 \nQ 13.234375 26.265625 9.515625 29.90625 \nQ 5.8125 33.546875 5.8125 39.890625 \nQ 5.8125 47.609375 11.28125 51.796875 \nQ 16.75 56 26.8125 56 \nQ 31.78125 56 36.171875 55.265625 \nQ 40.578125 54.546875 44.28125 53.078125 \nz\n\" id=\"DejaVuSans-115\"/>\n      <path d=\"M 18.3125 70.21875 \nL 18.3125 54.6875 \nL 36.8125 54.6875 \nL 36.8125 47.703125 \nL 18.3125 47.703125 \nL 18.3125 18.015625 \nQ 18.3125 11.328125 20.140625 9.421875 \nQ 21.96875 7.515625 27.59375 7.515625 \nL 36.8125 7.515625 \nL 36.8125 0 \nL 27.59375 0 \nQ 17.1875 0 13.234375 3.875 \nQ 9.28125 7.765625 9.28125 18.015625 \nL 9.28125 47.703125 \nL 2.6875 47.703125 \nL 2.6875 54.6875 \nL 9.28125 54.6875 \nL 9.28125 70.21875 \nz\n\" id=\"DejaVuSans-116\"/>\n      <path d=\"M 8.5 21.578125 \nL 8.5 54.6875 \nL 17.484375 54.6875 \nL 17.484375 21.921875 \nQ 17.484375 14.15625 20.5 10.265625 \nQ 23.53125 6.390625 29.59375 6.390625 \nQ 36.859375 6.390625 41.078125 11.03125 \nQ 45.3125 15.671875 45.3125 23.6875 \nL 45.3125 54.6875 \nL 54.296875 54.6875 \nL 54.296875 0 \nL 45.3125 0 \nL 45.3125 8.40625 \nQ 42.046875 3.421875 37.71875 1 \nQ 33.40625 -1.421875 27.6875 -1.421875 \nQ 18.265625 -1.421875 13.375 4.4375 \nQ 8.5 10.296875 8.5 21.578125 \nz\nM 31.109375 56 \nz\n\" id=\"DejaVuSans-117\"/>\n      <path d=\"M 45.40625 46.390625 \nL 45.40625 75.984375 \nL 54.390625 75.984375 \nL 54.390625 0 \nL 45.40625 0 \nL 45.40625 8.203125 \nQ 42.578125 3.328125 38.25 0.953125 \nQ 33.9375 -1.421875 27.875 -1.421875 \nQ 17.96875 -1.421875 11.734375 6.484375 \nQ 5.515625 14.40625 5.515625 27.296875 \nQ 5.515625 40.1875 11.734375 48.09375 \nQ 17.96875 56 27.875 56 \nQ 33.9375 56 38.25 53.625 \nQ 42.578125 51.265625 45.40625 46.390625 \nz\nM 14.796875 27.296875 \nQ 14.796875 17.390625 18.875 11.75 \nQ 22.953125 6.109375 30.078125 6.109375 \nQ 37.203125 6.109375 41.296875 11.75 \nQ 45.40625 17.390625 45.40625 27.296875 \nQ 45.40625 37.203125 41.296875 42.84375 \nQ 37.203125 48.484375 30.078125 48.484375 \nQ 22.953125 48.484375 18.875 42.84375 \nQ 14.796875 37.203125 14.796875 27.296875 \nz\n\" id=\"DejaVuSans-100\"/>\n      <path d=\"M 56.203125 29.59375 \nL 56.203125 25.203125 \nL 14.890625 25.203125 \nQ 15.484375 15.921875 20.484375 11.0625 \nQ 25.484375 6.203125 34.421875 6.203125 \nQ 39.59375 6.203125 44.453125 7.46875 \nQ 49.3125 8.734375 54.109375 11.28125 \nL 54.109375 2.78125 \nQ 49.265625 0.734375 44.1875 -0.34375 \nQ 39.109375 -1.421875 33.890625 -1.421875 \nQ 20.796875 -1.421875 13.15625 6.1875 \nQ 5.515625 13.8125 5.515625 26.8125 \nQ 5.515625 40.234375 12.765625 48.109375 \nQ 20.015625 56 32.328125 56 \nQ 43.359375 56 49.78125 48.890625 \nQ 56.203125 41.796875 56.203125 29.59375 \nz\nM 47.21875 32.234375 \nQ 47.125 39.59375 43.09375 43.984375 \nQ 39.0625 48.390625 32.421875 48.390625 \nQ 24.90625 48.390625 20.390625 44.140625 \nQ 15.875 39.890625 15.1875 32.171875 \nz\n\" id=\"DejaVuSans-101\"/>\n      <path d=\"M 54.890625 33.015625 \nL 54.890625 0 \nL 45.90625 0 \nL 45.90625 32.71875 \nQ 45.90625 40.484375 42.875 44.328125 \nQ 39.84375 48.1875 33.796875 48.1875 \nQ 26.515625 48.1875 22.3125 43.546875 \nQ 18.109375 38.921875 18.109375 30.90625 \nL 18.109375 0 \nL 9.078125 0 \nL 9.078125 54.6875 \nL 18.109375 54.6875 \nL 18.109375 46.1875 \nQ 21.34375 51.125 25.703125 53.5625 \nQ 30.078125 56 35.796875 56 \nQ 45.21875 56 50.046875 50.171875 \nQ 54.890625 44.34375 54.890625 33.015625 \nz\n\" id=\"DejaVuSans-110\"/>\n      <path d=\"M 50.984375 -16.609375 \nL 50.984375 -23.578125 \nL -0.984375 -23.578125 \nL -0.984375 -16.609375 \nz\n\" id=\"DejaVuSans-95\"/>\n      <path d=\"M 48.78125 52.59375 \nL 48.78125 44.1875 \nQ 44.96875 46.296875 41.140625 47.34375 \nQ 37.3125 48.390625 33.40625 48.390625 \nQ 24.65625 48.390625 19.8125 42.84375 \nQ 14.984375 37.3125 14.984375 27.296875 \nQ 14.984375 17.28125 19.8125 11.734375 \nQ 24.65625 6.203125 33.40625 6.203125 \nQ 37.3125 6.203125 41.140625 7.25 \nQ 44.96875 8.296875 48.78125 10.40625 \nL 48.78125 2.09375 \nQ 45.015625 0.34375 40.984375 -0.53125 \nQ 36.96875 -1.421875 32.421875 -1.421875 \nQ 20.0625 -1.421875 12.78125 6.34375 \nQ 5.515625 14.109375 5.515625 27.296875 \nQ 5.515625 40.671875 12.859375 48.328125 \nQ 20.21875 56 33.015625 56 \nQ 37.15625 56 41.109375 55.140625 \nQ 45.0625 54.296875 48.78125 52.59375 \nz\n\" id=\"DejaVuSans-99\"/>\n      <path id=\"DejaVuSans-32\"/>\n      <path d=\"M 10.59375 45.40625 \nL 73.1875 45.40625 \nL 73.1875 37.203125 \nL 10.59375 37.203125 \nz\nM 10.59375 25.484375 \nL 73.1875 25.484375 \nL 73.1875 17.1875 \nL 10.59375 17.1875 \nz\n\" id=\"DejaVuSans-61\"/>\n      <path d=\"M 40.578125 39.3125 \nQ 47.65625 37.796875 51.625 33 \nQ 55.609375 28.21875 55.609375 21.1875 \nQ 55.609375 10.40625 48.1875 4.484375 \nQ 40.765625 -1.421875 27.09375 -1.421875 \nQ 22.515625 -1.421875 17.65625 -0.515625 \nQ 12.796875 0.390625 7.625 2.203125 \nL 7.625 11.71875 \nQ 11.71875 9.328125 16.59375 8.109375 \nQ 21.484375 6.890625 26.8125 6.890625 \nQ 36.078125 6.890625 40.9375 10.546875 \nQ 45.796875 14.203125 45.796875 21.1875 \nQ 45.796875 27.640625 41.28125 31.265625 \nQ 36.765625 34.90625 28.71875 34.90625 \nL 20.21875 34.90625 \nL 20.21875 43.015625 \nL 29.109375 43.015625 \nQ 36.375 43.015625 40.234375 45.921875 \nQ 44.09375 48.828125 44.09375 54.296875 \nQ 44.09375 59.90625 40.109375 62.90625 \nQ 36.140625 65.921875 28.71875 65.921875 \nQ 24.65625 65.921875 20.015625 65.03125 \nQ 15.375 64.15625 9.8125 62.3125 \nL 9.8125 71.09375 \nQ 15.4375 72.65625 20.34375 73.4375 \nQ 25.25 74.21875 29.59375 74.21875 \nQ 40.828125 74.21875 47.359375 69.109375 \nQ 53.90625 64.015625 53.90625 55.328125 \nQ 53.90625 49.265625 50.4375 45.09375 \nQ 46.96875 40.921875 40.578125 39.3125 \nz\n\" id=\"DejaVuSans-51\"/>\n     </defs>\n     <g transform=\"translate(315.121691 326.81321)scale(0.1 -0.1)\">\n      <use xlink:href=\"#DejaVuSans-118\"/>\n      <use x=\"59.179688\" xlink:href=\"#DejaVuSans-97\"/>\n      <use x=\"120.458984\" xlink:href=\"#DejaVuSans-108\"/>\n      <use x=\"148.242188\" xlink:href=\"#DejaVuSans-47\"/>\n      <use x=\"181.933594\" xlink:href=\"#DejaVuSans-115\"/>\n      <use x=\"234.033203\" xlink:href=\"#DejaVuSans-116\"/>\n      <use x=\"273.242188\" xlink:href=\"#DejaVuSans-117\"/>\n      <use x=\"336.621094\" xlink:href=\"#DejaVuSans-100\"/>\n      <use x=\"400.097656\" xlink:href=\"#DejaVuSans-101\"/>\n      <use x=\"461.621094\" xlink:href=\"#DejaVuSans-110\"/>\n      <use x=\"525\" xlink:href=\"#DejaVuSans-116\"/>\n      <use x=\"564.208984\" xlink:href=\"#DejaVuSans-95\"/>\n      <use x=\"614.208984\" xlink:href=\"#DejaVuSans-97\"/>\n      <use x=\"675.488281\" xlink:href=\"#DejaVuSans-99\"/>\n      <use x=\"730.46875\" xlink:href=\"#DejaVuSans-99\"/>\n      <use x=\"785.449219\" xlink:href=\"#DejaVuSans-32\"/>\n      <use x=\"817.236328\" xlink:href=\"#DejaVuSans-61\"/>\n      <use x=\"901.025391\" xlink:href=\"#DejaVuSans-32\"/>\n      <use x=\"932.8125\" xlink:href=\"#DejaVuSans-48\"/>\n      <use x=\"996.435547\" xlink:href=\"#DejaVuSans-46\"/>\n      <use x=\"1028.222656\" xlink:href=\"#DejaVuSans-57\"/>\n      <use x=\"1091.845703\" xlink:href=\"#DejaVuSans-48\"/>\n      <use x=\"1155.46875\" xlink:href=\"#DejaVuSans-53\"/>\n      <use x=\"1219.091797\" xlink:href=\"#DejaVuSans-56\"/>\n      <use x=\"1282.714844\" xlink:href=\"#DejaVuSans-49\"/>\n      <use x=\"1346.337891\" xlink:href=\"#DejaVuSans-49\"/>\n      <use x=\"1409.960938\" xlink:href=\"#DejaVuSans-51\"/>\n      <use x=\"1473.583984\" xlink:href=\"#DejaVuSans-48\"/>\n      <use x=\"1537.207031\" xlink:href=\"#DejaVuSans-57\"/>\n      <use x=\"1600.830078\" xlink:href=\"#DejaVuSans-56\"/>\n      <use x=\"1664.453125\" xlink:href=\"#DejaVuSans-49\"/>\n      <use x=\"1728.076172\" xlink:href=\"#DejaVuSans-52\"/>\n      <use x=\"1791.699219\" xlink:href=\"#DejaVuSans-52\"/>\n      <use x=\"1855.322266\" xlink:href=\"#DejaVuSans-53\"/>\n      <use x=\"1918.945312\" xlink:href=\"#DejaVuSans-51\"/>\n      <use x=\"1982.568359\" xlink:href=\"#DejaVuSans-49\"/>\n     </g>\n    </g>\n    <g id=\"line2d_19\">\n     <path d=\"M 287.121691 338.26946 \nL 307.121691 338.26946 \n\" style=\"fill:none;stroke:#ff7f0e;stroke-linecap:square;stroke-width:1.5;\"/>\n    </g>\n    <g id=\"line2d_20\"/>\n    <g id=\"text_16\">\n     <!-- val/teacher_acc = 0.9126318097114563 -->\n     <defs>\n      <path d=\"M 54.890625 33.015625 \nL 54.890625 0 \nL 45.90625 0 \nL 45.90625 32.71875 \nQ 45.90625 40.484375 42.875 44.328125 \nQ 39.84375 48.1875 33.796875 48.1875 \nQ 26.515625 48.1875 22.3125 43.546875 \nQ 18.109375 38.921875 18.109375 30.90625 \nL 18.109375 0 \nL 9.078125 0 \nL 9.078125 75.984375 \nL 18.109375 75.984375 \nL 18.109375 46.1875 \nQ 21.34375 51.125 25.703125 53.5625 \nQ 30.078125 56 35.796875 56 \nQ 45.21875 56 50.046875 50.171875 \nQ 54.890625 44.34375 54.890625 33.015625 \nz\n\" id=\"DejaVuSans-104\"/>\n      <path d=\"M 41.109375 46.296875 \nQ 39.59375 47.171875 37.8125 47.578125 \nQ 36.03125 48 33.890625 48 \nQ 26.265625 48 22.1875 43.046875 \nQ 18.109375 38.09375 18.109375 28.8125 \nL 18.109375 0 \nL 9.078125 0 \nL 9.078125 54.6875 \nL 18.109375 54.6875 \nL 18.109375 46.1875 \nQ 20.953125 51.171875 25.484375 53.578125 \nQ 30.03125 56 36.53125 56 \nQ 37.453125 56 38.578125 55.875 \nQ 39.703125 55.765625 41.0625 55.515625 \nz\n\" id=\"DejaVuSans-114\"/>\n     </defs>\n     <g transform=\"translate(315.121691 341.76946)scale(0.1 -0.1)\">\n      <use xlink:href=\"#DejaVuSans-118\"/>\n      <use x=\"59.179688\" xlink:href=\"#DejaVuSans-97\"/>\n      <use x=\"120.458984\" xlink:href=\"#DejaVuSans-108\"/>\n      <use x=\"148.242188\" xlink:href=\"#DejaVuSans-47\"/>\n      <use x=\"181.933594\" xlink:href=\"#DejaVuSans-116\"/>\n      <use x=\"221.142578\" xlink:href=\"#DejaVuSans-101\"/>\n      <use x=\"282.666016\" xlink:href=\"#DejaVuSans-97\"/>\n      <use x=\"343.945312\" xlink:href=\"#DejaVuSans-99\"/>\n      <use x=\"398.925781\" xlink:href=\"#DejaVuSans-104\"/>\n      <use x=\"462.304688\" xlink:href=\"#DejaVuSans-101\"/>\n      <use x=\"523.828125\" xlink:href=\"#DejaVuSans-114\"/>\n      <use x=\"564.941406\" xlink:href=\"#DejaVuSans-95\"/>\n      <use x=\"614.941406\" xlink:href=\"#DejaVuSans-97\"/>\n      <use x=\"676.220703\" xlink:href=\"#DejaVuSans-99\"/>\n      <use x=\"731.201172\" xlink:href=\"#DejaVuSans-99\"/>\n      <use x=\"786.181641\" xlink:href=\"#DejaVuSans-32\"/>\n      <use x=\"817.96875\" xlink:href=\"#DejaVuSans-61\"/>\n      <use x=\"901.757812\" xlink:href=\"#DejaVuSans-32\"/>\n      <use x=\"933.544922\" xlink:href=\"#DejaVuSans-48\"/>\n      <use x=\"997.167969\" xlink:href=\"#DejaVuSans-46\"/>\n      <use x=\"1028.955078\" xlink:href=\"#DejaVuSans-57\"/>\n      <use x=\"1092.578125\" xlink:href=\"#DejaVuSans-49\"/>\n      <use x=\"1156.201172\" xlink:href=\"#DejaVuSans-50\"/>\n      <use x=\"1219.824219\" xlink:href=\"#DejaVuSans-54\"/>\n      <use x=\"1283.447266\" xlink:href=\"#DejaVuSans-51\"/>\n      <use x=\"1347.070312\" xlink:href=\"#DejaVuSans-49\"/>\n      <use x=\"1410.693359\" xlink:href=\"#DejaVuSans-56\"/>\n      <use x=\"1474.316406\" xlink:href=\"#DejaVuSans-48\"/>\n      <use x=\"1537.939453\" xlink:href=\"#DejaVuSans-57\"/>\n      <use x=\"1601.5625\" xlink:href=\"#DejaVuSans-55\"/>\n      <use x=\"1665.185547\" xlink:href=\"#DejaVuSans-49\"/>\n      <use x=\"1728.808594\" xlink:href=\"#DejaVuSans-49\"/>\n      <use x=\"1792.431641\" xlink:href=\"#DejaVuSans-52\"/>\n      <use x=\"1856.054688\" xlink:href=\"#DejaVuSans-53\"/>\n      <use x=\"1919.677734\" xlink:href=\"#DejaVuSans-54\"/>\n      <use x=\"1983.300781\" xlink:href=\"#DejaVuSans-51\"/>\n     </g>\n    </g>\n   </g>\n  </g>\n </g>\n <defs>\n  <clipPath id=\"p32ed3c626f\">\n   <rect height=\"345.927273\" width=\"492.352941\" x=\"36.465625\" y=\"7.2\"/>\n  </clipPath>\n </defs>\n</svg>\n",
      "image/png": "[encoded data removed]"
     },
     "metadata": {
      "needs_background": "light"
     }
    }
   ],
   "source": [
    "import matplotlib.pyplot as plt\n",
    "import numpy as np\n",
    "\n",
    "T=trainer.tensorboard.history\n",
    "\n",
    "x = list(range(trainer.checkpoint.epoch_counter))\n",
    "sm = lambda y, w: np.convolve(y, np.ones(w)/w, mode='same')\n",
    "pp = lambda k: plt.plot(x, T[k], label=f\"{k} = {max(T[k])}\")\n",
    "spp = lambda k: plt.plot(x, sm(T[k], 5), label=f\"{k} = {max(T[k])}\")\n",
    "\n",
    "\n",
    "plt.figure(0, figsize=(30, 14))\n",
    "plt.subplot(2, 3, 1)\n",
    "pp(\"val/student_acc\")\n",
    "pp(\"val/teacher_acc\")\n",
    "plt.legend()\n",
    "\n",
    "# plt.subplot(2, 3, 2)\n",
    "# pp(\"hyperparameters/learning_rate\")\n",
    "# plt.legend()\n",
    "\n",
    "# plt.subplot(2, 3, 3)\n",
    "# pp(\"max/student_acc\")\n",
    "# pp(\"max/teacher_acc\")\n",
    "# plt.legend()\n",
    "\n",
    "plt.show()"
   ]
  },
  {
   "cell_type": "code",
   "execution_count": 81,
   "metadata": {},
   "outputs": [
    {
     "output_type": "display_data",
     "data": {
      "text/plain": "<Figure size 720x360 with 1 Axes>",
      "image/svg+xml": "<?xml version=\"1.0\" encoding=\"utf-8\" standalone=\"no\"?>\n<!DOCTYPE svg PUBLIC \"-//W3C//DTD SVG 1.1//EN\"\n  \"http://www.w3.org/Graphics/SVG/1.1/DTD/svg11.dtd\">\n<!-- Created with matplotlib (https://matplotlib.org/) -->\n<svg height=\"331.674375pt\" version=\"1.1\" viewBox=\"0 0 624.890625 331.674375\" width=\"624.890625pt\" xmlns=\"http://www.w3.org/2000/svg\" xmlns:xlink=\"http://www.w3.org/1999/xlink\">\n <defs>\n  <style type=\"text/css\">\n*{stroke-linecap:butt;stroke-linejoin:round;}\n  </style>\n </defs>\n <g id=\"figure_1\">\n  <g id=\"patch_1\">\n   <path d=\"M 0 331.674375 \nL 624.890625 331.674375 \nL 624.890625 0 \nL 0 0 \nz\n\" style=\"fill:none;\"/>\n  </g>\n  <g id=\"axes_1\">\n   <g id=\"patch_2\">\n    <path d=\"M 59.690625 294.118125 \nL 617.690625 294.118125 \nL 617.690625 22.318125 \nL 59.690625 22.318125 \nz\n\" style=\"fill:#ffffff;\"/>\n   </g>\n   <g id=\"patch_3\">\n    <path clip-path=\"url(#pd26f9ccbbb)\" d=\"M 85.054261 294.118125 \nL 110.417898 294.118125 \nL 110.417898 267.442277 \nL 85.054261 267.442277 \nz\n\" style=\"fill:#1f77b4;\"/>\n   </g>\n   <g id=\"patch_4\">\n    <path clip-path=\"url(#pd26f9ccbbb)\" d=\"M 110.417898 294.118125 \nL 135.781534 294.118125 \nL 135.781534 267.72531 \nL 110.417898 267.72531 \nz\n\" style=\"fill:#1f77b4;\"/>\n   </g>\n   <g id=\"patch_5\">\n    <path clip-path=\"url(#pd26f9ccbbb)\" d=\"M 135.781534 294.118125 \nL 161.14517 294.118125 \nL 161.14517 268.338548 \nL 135.781534 268.338548 \nz\n\" style=\"fill:#1f77b4;\"/>\n   </g>\n   <g id=\"patch_6\">\n    <path clip-path=\"url(#pd26f9ccbbb)\" d=\"M 161.14517 294.118125 \nL 186.508807 294.118125 \nL 186.508807 267.796068 \nL 161.14517 267.796068 \nz\n\" style=\"fill:#1f77b4;\"/>\n   </g>\n   <g id=\"patch_7\">\n    <path clip-path=\"url(#pd26f9ccbbb)\" d=\"M 186.508807 294.118125 \nL 211.872443 294.118125 \nL 211.872443 267.890413 \nL 186.508807 267.890413 \nz\n\" style=\"fill:#1f77b4;\"/>\n   </g>\n   <g id=\"patch_8\">\n    <path clip-path=\"url(#pd26f9ccbbb)\" d=\"M 211.872443 294.118125 \nL 237.23608 294.118125 \nL 237.23608 267.371519 \nL 211.872443 267.371519 \nz\n\" style=\"fill:#1f77b4;\"/>\n   </g>\n   <g id=\"patch_9\">\n    <path clip-path=\"url(#pd26f9ccbbb)\" d=\"M 237.23608 294.118125 \nL 262.599716 294.118125 \nL 262.599716 266.616765 \nL 237.23608 266.616765 \nz\n\" style=\"fill:#1f77b4;\"/>\n   </g>\n   <g id=\"patch_10\">\n    <path clip-path=\"url(#pd26f9ccbbb)\" d=\"M 262.599716 294.118125 \nL 287.963352 294.118125 \nL 287.963352 264.96574 \nL 262.599716 264.96574 \nz\n\" style=\"fill:#1f77b4;\"/>\n   </g>\n   <g id=\"patch_11\">\n    <path clip-path=\"url(#pd26f9ccbbb)\" d=\"M 287.963352 294.118125 \nL 313.326989 294.118125 \nL 313.326989 265.178014 \nL 287.963352 265.178014 \nz\n\" style=\"fill:#1f77b4;\"/>\n   </g>\n   <g id=\"patch_12\">\n    <path clip-path=\"url(#pd26f9ccbbb)\" d=\"M 313.326989 294.118125 \nL 338.690625 294.118125 \nL 338.690625 261.78162 \nL 313.326989 261.78162 \nz\n\" style=\"fill:#1f77b4;\"/>\n   </g>\n   <g id=\"patch_13\">\n    <path clip-path=\"url(#pd26f9ccbbb)\" d=\"M 338.690625 294.118125 \nL 364.054261 294.118125 \nL 364.054261 262.701477 \nL 338.690625 262.701477 \nz\n\" style=\"fill:#1f77b4;\"/>\n   </g>\n   <g id=\"patch_14\">\n    <path clip-path=\"url(#pd26f9ccbbb)\" d=\"M 364.054261 294.118125 \nL 389.417898 294.118125 \nL 389.417898 258.691844 \nL 364.054261 258.691844 \nz\n\" style=\"fill:#1f77b4;\"/>\n   </g>\n   <g id=\"patch_15\">\n    <path clip-path=\"url(#pd26f9ccbbb)\" d=\"M 389.417898 294.118125 \nL 414.781534 294.118125 \nL 414.781534 257.842746 \nL 389.417898 257.842746 \nz\n\" style=\"fill:#1f77b4;\"/>\n   </g>\n   <g id=\"patch_16\">\n    <path clip-path=\"url(#pd26f9ccbbb)\" d=\"M 414.781534 294.118125 \nL 440.14517 294.118125 \nL 440.14517 257.111578 \nL 414.781534 257.111578 \nz\n\" style=\"fill:#1f77b4;\"/>\n   </g>\n   <g id=\"patch_17\">\n    <path clip-path=\"url(#pd26f9ccbbb)\" d=\"M 440.14517 294.118125 \nL 465.508807 294.118125 \nL 465.508807 253.573667 \nL 440.14517 253.573667 \nz\n\" style=\"fill:#1f77b4;\"/>\n   </g>\n   <g id=\"patch_18\">\n    <path clip-path=\"url(#pd26f9ccbbb)\" d=\"M 465.508807 294.118125 \nL 490.872443 294.118125 \nL 490.872443 249.210243 \nL 465.508807 249.210243 \nz\n\" style=\"fill:#1f77b4;\"/>\n   </g>\n   <g id=\"patch_19\">\n    <path clip-path=\"url(#pd26f9ccbbb)\" d=\"M 490.872443 294.118125 \nL 516.23608 294.118125 \nL 516.23608 242.417455 \nL 490.872443 242.417455 \nz\n\" style=\"fill:#1f77b4;\"/>\n   </g>\n   <g id=\"patch_20\">\n    <path clip-path=\"url(#pd26f9ccbbb)\" d=\"M 516.23608 294.118125 \nL 541.599716 294.118125 \nL 541.599716 233.525505 \nL 516.23608 233.525505 \nz\n\" style=\"fill:#1f77b4;\"/>\n   </g>\n   <g id=\"patch_21\">\n    <path clip-path=\"url(#pd26f9ccbbb)\" d=\"M 541.599716 294.118125 \nL 566.963352 294.118125 \nL 566.963352 211.684803 \nL 541.599716 211.684803 \nz\n\" style=\"fill:#1f77b4;\"/>\n   </g>\n   <g id=\"patch_22\">\n    <path clip-path=\"url(#pd26f9ccbbb)\" d=\"M 566.963352 294.118125 \nL 592.326989 294.118125 \nL 592.326989 35.260982 \nL 566.963352 35.260982 \nz\n\" style=\"fill:#1f77b4;\"/>\n   </g>\n   <g id=\"matplotlib.axis_1\">\n    <g id=\"xtick_1\">\n     <g id=\"line2d_1\">\n      <defs>\n       <path d=\"M 0 0 \nL 0 3.5 \n\" id=\"m7fe1977a99\" style=\"stroke:#000000;stroke-width:0.8;\"/>\n      </defs>\n      <g>\n       <use style=\"stroke:#000000;stroke-width:0.8;\" x=\"85.042197\" xlink:href=\"#m7fe1977a99\" y=\"294.118125\"/>\n      </g>\n     </g>\n     <g id=\"text_1\">\n      <!-- 0.5 -->\n      <defs>\n       <path d=\"M 31.78125 66.40625 \nQ 24.171875 66.40625 20.328125 58.90625 \nQ 16.5 51.421875 16.5 36.375 \nQ 16.5 21.390625 20.328125 13.890625 \nQ 24.171875 6.390625 31.78125 6.390625 \nQ 39.453125 6.390625 43.28125 13.890625 \nQ 47.125 21.390625 47.125 36.375 \nQ 47.125 51.421875 43.28125 58.90625 \nQ 39.453125 66.40625 31.78125 66.40625 \nz\nM 31.78125 74.21875 \nQ 44.046875 74.21875 50.515625 64.515625 \nQ 56.984375 54.828125 56.984375 36.375 \nQ 56.984375 17.96875 50.515625 8.265625 \nQ 44.046875 -1.421875 31.78125 -1.421875 \nQ 19.53125 -1.421875 13.0625 8.265625 \nQ 6.59375 17.96875 6.59375 36.375 \nQ 6.59375 54.828125 13.0625 64.515625 \nQ 19.53125 74.21875 31.78125 74.21875 \nz\n\" id=\"DejaVuSans-48\"/>\n       <path d=\"M 10.6875 12.40625 \nL 21 12.40625 \nL 21 0 \nL 10.6875 0 \nz\n\" id=\"DejaVuSans-46\"/>\n       <path d=\"M 10.796875 72.90625 \nL 49.515625 72.90625 \nL 49.515625 64.59375 \nL 19.828125 64.59375 \nL 19.828125 46.734375 \nQ 21.96875 47.46875 24.109375 47.828125 \nQ 26.265625 48.1875 28.421875 48.1875 \nQ 40.625 48.1875 47.75 41.5 \nQ 54.890625 34.8125 54.890625 23.390625 \nQ 54.890625 11.625 47.5625 5.09375 \nQ 40.234375 -1.421875 26.90625 -1.421875 \nQ 22.3125 -1.421875 17.546875 -0.640625 \nQ 12.796875 0.140625 7.71875 1.703125 \nL 7.71875 11.625 \nQ 12.109375 9.234375 16.796875 8.0625 \nQ 21.484375 6.890625 26.703125 6.890625 \nQ 35.15625 6.890625 40.078125 11.328125 \nQ 45.015625 15.765625 45.015625 23.390625 \nQ 45.015625 31 40.078125 35.4375 \nQ 35.15625 39.890625 26.703125 39.890625 \nQ 22.75 39.890625 18.8125 39.015625 \nQ 14.890625 38.140625 10.796875 36.28125 \nz\n\" id=\"DejaVuSans-53\"/>\n      </defs>\n      <g transform=\"translate(77.090634 308.716563)scale(0.1 -0.1)\">\n       <use xlink:href=\"#DejaVuSans-48\"/>\n       <use x=\"63.623047\" xlink:href=\"#DejaVuSans-46\"/>\n       <use x=\"95.410156\" xlink:href=\"#DejaVuSans-53\"/>\n      </g>\n     </g>\n    </g>\n    <g id=\"xtick_2\">\n     <g id=\"line2d_2\">\n      <g>\n       <use style=\"stroke:#000000;stroke-width:0.8;\" x=\"186.499155\" xlink:href=\"#m7fe1977a99\" y=\"294.118125\"/>\n      </g>\n     </g>\n     <g id=\"text_2\">\n      <!-- 0.6 -->\n      <defs>\n       <path d=\"M 33.015625 40.375 \nQ 26.375 40.375 22.484375 35.828125 \nQ 18.609375 31.296875 18.609375 23.390625 \nQ 18.609375 15.53125 22.484375 10.953125 \nQ 26.375 6.390625 33.015625 6.390625 \nQ 39.65625 6.390625 43.53125 10.953125 \nQ 47.40625 15.53125 47.40625 23.390625 \nQ 47.40625 31.296875 43.53125 35.828125 \nQ 39.65625 40.375 33.015625 40.375 \nz\nM 52.59375 71.296875 \nL 52.59375 62.3125 \nQ 48.875 64.0625 45.09375 64.984375 \nQ 41.3125 65.921875 37.59375 65.921875 \nQ 27.828125 65.921875 22.671875 59.328125 \nQ 17.53125 52.734375 16.796875 39.40625 \nQ 19.671875 43.65625 24.015625 45.921875 \nQ 28.375 48.1875 33.59375 48.1875 \nQ 44.578125 48.1875 50.953125 41.515625 \nQ 57.328125 34.859375 57.328125 23.390625 \nQ 57.328125 12.15625 50.6875 5.359375 \nQ 44.046875 -1.421875 33.015625 -1.421875 \nQ 20.359375 -1.421875 13.671875 8.265625 \nQ 6.984375 17.96875 6.984375 36.375 \nQ 6.984375 53.65625 15.1875 63.9375 \nQ 23.390625 74.21875 37.203125 74.21875 \nQ 40.921875 74.21875 44.703125 73.484375 \nQ 48.484375 72.75 52.59375 71.296875 \nz\n\" id=\"DejaVuSans-54\"/>\n      </defs>\n      <g transform=\"translate(178.547593 308.716563)scale(0.1 -0.1)\">\n       <use xlink:href=\"#DejaVuSans-48\"/>\n       <use x=\"63.623047\" xlink:href=\"#DejaVuSans-46\"/>\n       <use x=\"95.410156\" xlink:href=\"#DejaVuSans-54\"/>\n      </g>\n     </g>\n    </g>\n    <g id=\"xtick_3\">\n     <g id=\"line2d_3\">\n      <g>\n       <use style=\"stroke:#000000;stroke-width:0.8;\" x=\"287.956114\" xlink:href=\"#m7fe1977a99\" y=\"294.118125\"/>\n      </g>\n     </g>\n     <g id=\"text_3\">\n      <!-- 0.7 -->\n      <defs>\n       <path d=\"M 8.203125 72.90625 \nL 55.078125 72.90625 \nL 55.078125 68.703125 \nL 28.609375 0 \nL 18.3125 0 \nL 43.21875 64.59375 \nL 8.203125 64.59375 \nz\n\" id=\"DejaVuSans-55\"/>\n      </defs>\n      <g transform=\"translate(280.004551 308.716563)scale(0.1 -0.1)\">\n       <use xlink:href=\"#DejaVuSans-48\"/>\n       <use x=\"63.623047\" xlink:href=\"#DejaVuSans-46\"/>\n       <use x=\"95.410156\" xlink:href=\"#DejaVuSans-55\"/>\n      </g>\n     </g>\n    </g>\n    <g id=\"xtick_4\">\n     <g id=\"line2d_4\">\n      <g>\n       <use style=\"stroke:#000000;stroke-width:0.8;\" x=\"389.413072\" xlink:href=\"#m7fe1977a99\" y=\"294.118125\"/>\n      </g>\n     </g>\n     <g id=\"text_4\">\n      <!-- 0.8 -->\n      <defs>\n       <path d=\"M 31.78125 34.625 \nQ 24.75 34.625 20.71875 30.859375 \nQ 16.703125 27.09375 16.703125 20.515625 \nQ 16.703125 13.921875 20.71875 10.15625 \nQ 24.75 6.390625 31.78125 6.390625 \nQ 38.8125 6.390625 42.859375 10.171875 \nQ 46.921875 13.96875 46.921875 20.515625 \nQ 46.921875 27.09375 42.890625 30.859375 \nQ 38.875 34.625 31.78125 34.625 \nz\nM 21.921875 38.8125 \nQ 15.578125 40.375 12.03125 44.71875 \nQ 8.5 49.078125 8.5 55.328125 \nQ 8.5 64.0625 14.71875 69.140625 \nQ 20.953125 74.21875 31.78125 74.21875 \nQ 42.671875 74.21875 48.875 69.140625 \nQ 55.078125 64.0625 55.078125 55.328125 \nQ 55.078125 49.078125 51.53125 44.71875 \nQ 48 40.375 41.703125 38.8125 \nQ 48.828125 37.15625 52.796875 32.3125 \nQ 56.78125 27.484375 56.78125 20.515625 \nQ 56.78125 9.90625 50.3125 4.234375 \nQ 43.84375 -1.421875 31.78125 -1.421875 \nQ 19.734375 -1.421875 13.25 4.234375 \nQ 6.78125 9.90625 6.78125 20.515625 \nQ 6.78125 27.484375 10.78125 32.3125 \nQ 14.796875 37.15625 21.921875 38.8125 \nz\nM 18.3125 54.390625 \nQ 18.3125 48.734375 21.84375 45.5625 \nQ 25.390625 42.390625 31.78125 42.390625 \nQ 38.140625 42.390625 41.71875 45.5625 \nQ 45.3125 48.734375 45.3125 54.390625 \nQ 45.3125 60.0625 41.71875 63.234375 \nQ 38.140625 66.40625 31.78125 66.40625 \nQ 25.390625 66.40625 21.84375 63.234375 \nQ 18.3125 60.0625 18.3125 54.390625 \nz\n\" id=\"DejaVuSans-56\"/>\n      </defs>\n      <g transform=\"translate(381.461509 308.716563)scale(0.1 -0.1)\">\n       <use xlink:href=\"#DejaVuSans-48\"/>\n       <use x=\"63.623047\" xlink:href=\"#DejaVuSans-46\"/>\n       <use x=\"95.410156\" xlink:href=\"#DejaVuSans-56\"/>\n      </g>\n     </g>\n    </g>\n    <g id=\"xtick_5\">\n     <g id=\"line2d_5\">\n      <g>\n       <use style=\"stroke:#000000;stroke-width:0.8;\" x=\"490.87003\" xlink:href=\"#m7fe1977a99\" y=\"294.118125\"/>\n      </g>\n     </g>\n     <g id=\"text_5\">\n      <!-- 0.9 -->\n      <defs>\n       <path d=\"M 10.984375 1.515625 \nL 10.984375 10.5 \nQ 14.703125 8.734375 18.5 7.8125 \nQ 22.3125 6.890625 25.984375 6.890625 \nQ 35.75 6.890625 40.890625 13.453125 \nQ 46.046875 20.015625 46.78125 33.40625 \nQ 43.953125 29.203125 39.59375 26.953125 \nQ 35.25 24.703125 29.984375 24.703125 \nQ 19.046875 24.703125 12.671875 31.3125 \nQ 6.296875 37.9375 6.296875 49.421875 \nQ 6.296875 60.640625 12.9375 67.421875 \nQ 19.578125 74.21875 30.609375 74.21875 \nQ 43.265625 74.21875 49.921875 64.515625 \nQ 56.59375 54.828125 56.59375 36.375 \nQ 56.59375 19.140625 48.40625 8.859375 \nQ 40.234375 -1.421875 26.421875 -1.421875 \nQ 22.703125 -1.421875 18.890625 -0.6875 \nQ 15.09375 0.046875 10.984375 1.515625 \nz\nM 30.609375 32.421875 \nQ 37.25 32.421875 41.125 36.953125 \nQ 45.015625 41.5 45.015625 49.421875 \nQ 45.015625 57.28125 41.125 61.84375 \nQ 37.25 66.40625 30.609375 66.40625 \nQ 23.96875 66.40625 20.09375 61.84375 \nQ 16.21875 57.28125 16.21875 49.421875 \nQ 16.21875 41.5 20.09375 36.953125 \nQ 23.96875 32.421875 30.609375 32.421875 \nz\n\" id=\"DejaVuSans-57\"/>\n      </defs>\n      <g transform=\"translate(482.918468 308.716563)scale(0.1 -0.1)\">\n       <use xlink:href=\"#DejaVuSans-48\"/>\n       <use x=\"63.623047\" xlink:href=\"#DejaVuSans-46\"/>\n       <use x=\"95.410156\" xlink:href=\"#DejaVuSans-57\"/>\n      </g>\n     </g>\n    </g>\n    <g id=\"xtick_6\">\n     <g id=\"line2d_6\">\n      <g>\n       <use style=\"stroke:#000000;stroke-width:0.8;\" x=\"592.326989\" xlink:href=\"#m7fe1977a99\" y=\"294.118125\"/>\n      </g>\n     </g>\n     <g id=\"text_6\">\n      <!-- 1.0 -->\n      <defs>\n       <path d=\"M 12.40625 8.296875 \nL 28.515625 8.296875 \nL 28.515625 63.921875 \nL 10.984375 60.40625 \nL 10.984375 69.390625 \nL 28.421875 72.90625 \nL 38.28125 72.90625 \nL 38.28125 8.296875 \nL 54.390625 8.296875 \nL 54.390625 0 \nL 12.40625 0 \nz\n\" id=\"DejaVuSans-49\"/>\n      </defs>\n      <g transform=\"translate(584.375426 308.716563)scale(0.1 -0.1)\">\n       <use xlink:href=\"#DejaVuSans-49\"/>\n       <use x=\"63.623047\" xlink:href=\"#DejaVuSans-46\"/>\n       <use x=\"95.410156\" xlink:href=\"#DejaVuSans-48\"/>\n      </g>\n     </g>\n    </g>\n    <g id=\"text_7\">\n     <!-- lambda -->\n     <defs>\n      <path d=\"M 9.421875 75.984375 \nL 18.40625 75.984375 \nL 18.40625 0 \nL 9.421875 0 \nz\n\" id=\"DejaVuSans-108\"/>\n      <path d=\"M 34.28125 27.484375 \nQ 23.390625 27.484375 19.1875 25 \nQ 14.984375 22.515625 14.984375 16.5 \nQ 14.984375 11.71875 18.140625 8.90625 \nQ 21.296875 6.109375 26.703125 6.109375 \nQ 34.1875 6.109375 38.703125 11.40625 \nQ 43.21875 16.703125 43.21875 25.484375 \nL 43.21875 27.484375 \nz\nM 52.203125 31.203125 \nL 52.203125 0 \nL 43.21875 0 \nL 43.21875 8.296875 \nQ 40.140625 3.328125 35.546875 0.953125 \nQ 30.953125 -1.421875 24.3125 -1.421875 \nQ 15.921875 -1.421875 10.953125 3.296875 \nQ 6 8.015625 6 15.921875 \nQ 6 25.140625 12.171875 29.828125 \nQ 18.359375 34.515625 30.609375 34.515625 \nL 43.21875 34.515625 \nL 43.21875 35.40625 \nQ 43.21875 41.609375 39.140625 45 \nQ 35.0625 48.390625 27.6875 48.390625 \nQ 23 48.390625 18.546875 47.265625 \nQ 14.109375 46.140625 10.015625 43.890625 \nL 10.015625 52.203125 \nQ 14.9375 54.109375 19.578125 55.046875 \nQ 24.21875 56 28.609375 56 \nQ 40.484375 56 46.34375 49.84375 \nQ 52.203125 43.703125 52.203125 31.203125 \nz\n\" id=\"DejaVuSans-97\"/>\n      <path d=\"M 52 44.1875 \nQ 55.375 50.25 60.0625 53.125 \nQ 64.75 56 71.09375 56 \nQ 79.640625 56 84.28125 50.015625 \nQ 88.921875 44.046875 88.921875 33.015625 \nL 88.921875 0 \nL 79.890625 0 \nL 79.890625 32.71875 \nQ 79.890625 40.578125 77.09375 44.375 \nQ 74.3125 48.1875 68.609375 48.1875 \nQ 61.625 48.1875 57.5625 43.546875 \nQ 53.515625 38.921875 53.515625 30.90625 \nL 53.515625 0 \nL 44.484375 0 \nL 44.484375 32.71875 \nQ 44.484375 40.625 41.703125 44.40625 \nQ 38.921875 48.1875 33.109375 48.1875 \nQ 26.21875 48.1875 22.15625 43.53125 \nQ 18.109375 38.875 18.109375 30.90625 \nL 18.109375 0 \nL 9.078125 0 \nL 9.078125 54.6875 \nL 18.109375 54.6875 \nL 18.109375 46.1875 \nQ 21.1875 51.21875 25.484375 53.609375 \nQ 29.78125 56 35.6875 56 \nQ 41.65625 56 45.828125 52.96875 \nQ 50 49.953125 52 44.1875 \nz\n\" id=\"DejaVuSans-109\"/>\n      <path d=\"M 48.6875 27.296875 \nQ 48.6875 37.203125 44.609375 42.84375 \nQ 40.53125 48.484375 33.40625 48.484375 \nQ 26.265625 48.484375 22.1875 42.84375 \nQ 18.109375 37.203125 18.109375 27.296875 \nQ 18.109375 17.390625 22.1875 11.75 \nQ 26.265625 6.109375 33.40625 6.109375 \nQ 40.53125 6.109375 44.609375 11.75 \nQ 48.6875 17.390625 48.6875 27.296875 \nz\nM 18.109375 46.390625 \nQ 20.953125 51.265625 25.265625 53.625 \nQ 29.59375 56 35.59375 56 \nQ 45.5625 56 51.78125 48.09375 \nQ 58.015625 40.1875 58.015625 27.296875 \nQ 58.015625 14.40625 51.78125 6.484375 \nQ 45.5625 -1.421875 35.59375 -1.421875 \nQ 29.59375 -1.421875 25.265625 0.953125 \nQ 20.953125 3.328125 18.109375 8.203125 \nL 18.109375 0 \nL 9.078125 0 \nL 9.078125 75.984375 \nL 18.109375 75.984375 \nz\n\" id=\"DejaVuSans-98\"/>\n      <path d=\"M 45.40625 46.390625 \nL 45.40625 75.984375 \nL 54.390625 75.984375 \nL 54.390625 0 \nL 45.40625 0 \nL 45.40625 8.203125 \nQ 42.578125 3.328125 38.25 0.953125 \nQ 33.9375 -1.421875 27.875 -1.421875 \nQ 17.96875 -1.421875 11.734375 6.484375 \nQ 5.515625 14.40625 5.515625 27.296875 \nQ 5.515625 40.1875 11.734375 48.09375 \nQ 17.96875 56 27.875 56 \nQ 33.9375 56 38.25 53.625 \nQ 42.578125 51.265625 45.40625 46.390625 \nz\nM 14.796875 27.296875 \nQ 14.796875 17.390625 18.875 11.75 \nQ 22.953125 6.109375 30.078125 6.109375 \nQ 37.203125 6.109375 41.296875 11.75 \nQ 45.40625 17.390625 45.40625 27.296875 \nQ 45.40625 37.203125 41.296875 42.84375 \nQ 37.203125 48.484375 30.078125 48.484375 \nQ 22.953125 48.484375 18.875 42.84375 \nQ 14.796875 37.203125 14.796875 27.296875 \nz\n\" id=\"DejaVuSans-100\"/>\n     </defs>\n     <g transform=\"translate(319.954688 322.394687)scale(0.1 -0.1)\">\n      <use xlink:href=\"#DejaVuSans-108\"/>\n      <use x=\"27.783203\" xlink:href=\"#DejaVuSans-97\"/>\n      <use x=\"89.0625\" xlink:href=\"#DejaVuSans-109\"/>\n      <use x=\"186.474609\" xlink:href=\"#DejaVuSans-98\"/>\n      <use x=\"249.951172\" xlink:href=\"#DejaVuSans-100\"/>\n      <use x=\"313.427734\" xlink:href=\"#DejaVuSans-97\"/>\n     </g>\n    </g>\n   </g>\n   <g id=\"matplotlib.axis_2\">\n    <g id=\"ytick_1\">\n     <g id=\"line2d_7\">\n      <defs>\n       <path d=\"M 0 0 \nL -3.5 0 \n\" id=\"m4bb8950d3b\" style=\"stroke:#000000;stroke-width:0.8;\"/>\n      </defs>\n      <g>\n       <use style=\"stroke:#000000;stroke-width:0.8;\" x=\"59.690625\" xlink:href=\"#m4bb8950d3b\" y=\"294.118125\"/>\n      </g>\n     </g>\n     <g id=\"text_8\">\n      <!-- 0 -->\n      <g transform=\"translate(46.328125 297.917344)scale(0.1 -0.1)\">\n       <use xlink:href=\"#DejaVuSans-48\"/>\n      </g>\n     </g>\n    </g>\n    <g id=\"ytick_2\">\n     <g id=\"line2d_8\">\n      <g>\n       <use style=\"stroke:#000000;stroke-width:0.8;\" x=\"59.690625\" xlink:href=\"#m4bb8950d3b\" y=\"246.945981\"/>\n      </g>\n     </g>\n     <g id=\"text_9\">\n      <!-- 2000 -->\n      <defs>\n       <path d=\"M 19.1875 8.296875 \nL 53.609375 8.296875 \nL 53.609375 0 \nL 7.328125 0 \nL 7.328125 8.296875 \nQ 12.9375 14.109375 22.625 23.890625 \nQ 32.328125 33.6875 34.8125 36.53125 \nQ 39.546875 41.84375 41.421875 45.53125 \nQ 43.3125 49.21875 43.3125 52.78125 \nQ 43.3125 58.59375 39.234375 62.25 \nQ 35.15625 65.921875 28.609375 65.921875 \nQ 23.96875 65.921875 18.8125 64.3125 \nQ 13.671875 62.703125 7.8125 59.421875 \nL 7.8125 69.390625 \nQ 13.765625 71.78125 18.9375 73 \nQ 24.125 74.21875 28.421875 74.21875 \nQ 39.75 74.21875 46.484375 68.546875 \nQ 53.21875 62.890625 53.21875 53.421875 \nQ 53.21875 48.921875 51.53125 44.890625 \nQ 49.859375 40.875 45.40625 35.40625 \nQ 44.1875 33.984375 37.640625 27.21875 \nQ 31.109375 20.453125 19.1875 8.296875 \nz\n\" id=\"DejaVuSans-50\"/>\n      </defs>\n      <g transform=\"translate(27.240625 250.745199)scale(0.1 -0.1)\">\n       <use xlink:href=\"#DejaVuSans-50\"/>\n       <use x=\"63.623047\" xlink:href=\"#DejaVuSans-48\"/>\n       <use x=\"127.246094\" xlink:href=\"#DejaVuSans-48\"/>\n       <use x=\"190.869141\" xlink:href=\"#DejaVuSans-48\"/>\n      </g>\n     </g>\n    </g>\n    <g id=\"ytick_3\">\n     <g id=\"line2d_9\">\n      <g>\n       <use style=\"stroke:#000000;stroke-width:0.8;\" x=\"59.690625\" xlink:href=\"#m4bb8950d3b\" y=\"199.773836\"/>\n      </g>\n     </g>\n     <g id=\"text_10\">\n      <!-- 4000 -->\n      <defs>\n       <path d=\"M 37.796875 64.3125 \nL 12.890625 25.390625 \nL 37.796875 25.390625 \nz\nM 35.203125 72.90625 \nL 47.609375 72.90625 \nL 47.609375 25.390625 \nL 58.015625 25.390625 \nL 58.015625 17.1875 \nL 47.609375 17.1875 \nL 47.609375 0 \nL 37.796875 0 \nL 37.796875 17.1875 \nL 4.890625 17.1875 \nL 4.890625 26.703125 \nz\n\" id=\"DejaVuSans-52\"/>\n      </defs>\n      <g transform=\"translate(27.240625 203.573055)scale(0.1 -0.1)\">\n       <use xlink:href=\"#DejaVuSans-52\"/>\n       <use x=\"63.623047\" xlink:href=\"#DejaVuSans-48\"/>\n       <use x=\"127.246094\" xlink:href=\"#DejaVuSans-48\"/>\n       <use x=\"190.869141\" xlink:href=\"#DejaVuSans-48\"/>\n      </g>\n     </g>\n    </g>\n    <g id=\"ytick_4\">\n     <g id=\"line2d_10\">\n      <g>\n       <use style=\"stroke:#000000;stroke-width:0.8;\" x=\"59.690625\" xlink:href=\"#m4bb8950d3b\" y=\"152.601692\"/>\n      </g>\n     </g>\n     <g id=\"text_11\">\n      <!-- 6000 -->\n      <g transform=\"translate(27.240625 156.40091)scale(0.1 -0.1)\">\n       <use xlink:href=\"#DejaVuSans-54\"/>\n       <use x=\"63.623047\" xlink:href=\"#DejaVuSans-48\"/>\n       <use x=\"127.246094\" xlink:href=\"#DejaVuSans-48\"/>\n       <use x=\"190.869141\" xlink:href=\"#DejaVuSans-48\"/>\n      </g>\n     </g>\n    </g>\n    <g id=\"ytick_5\">\n     <g id=\"line2d_11\">\n      <g>\n       <use style=\"stroke:#000000;stroke-width:0.8;\" x=\"59.690625\" xlink:href=\"#m4bb8950d3b\" y=\"105.429547\"/>\n      </g>\n     </g>\n     <g id=\"text_12\">\n      <!-- 8000 -->\n      <g transform=\"translate(27.240625 109.228766)scale(0.1 -0.1)\">\n       <use xlink:href=\"#DejaVuSans-56\"/>\n       <use x=\"63.623047\" xlink:href=\"#DejaVuSans-48\"/>\n       <use x=\"127.246094\" xlink:href=\"#DejaVuSans-48\"/>\n       <use x=\"190.869141\" xlink:href=\"#DejaVuSans-48\"/>\n      </g>\n     </g>\n    </g>\n    <g id=\"ytick_6\">\n     <g id=\"line2d_12\">\n      <g>\n       <use style=\"stroke:#000000;stroke-width:0.8;\" x=\"59.690625\" xlink:href=\"#m4bb8950d3b\" y=\"58.257403\"/>\n      </g>\n     </g>\n     <g id=\"text_13\">\n      <!-- 10000 -->\n      <g transform=\"translate(20.878125 62.056621)scale(0.1 -0.1)\">\n       <use xlink:href=\"#DejaVuSans-49\"/>\n       <use x=\"63.623047\" xlink:href=\"#DejaVuSans-48\"/>\n       <use x=\"127.246094\" xlink:href=\"#DejaVuSans-48\"/>\n       <use x=\"190.869141\" xlink:href=\"#DejaVuSans-48\"/>\n       <use x=\"254.492188\" xlink:href=\"#DejaVuSans-48\"/>\n      </g>\n     </g>\n    </g>\n    <g id=\"text_14\">\n     <!-- nb occurence -->\n     <defs>\n      <path d=\"M 54.890625 33.015625 \nL 54.890625 0 \nL 45.90625 0 \nL 45.90625 32.71875 \nQ 45.90625 40.484375 42.875 44.328125 \nQ 39.84375 48.1875 33.796875 48.1875 \nQ 26.515625 48.1875 22.3125 43.546875 \nQ 18.109375 38.921875 18.109375 30.90625 \nL 18.109375 0 \nL 9.078125 0 \nL 9.078125 54.6875 \nL 18.109375 54.6875 \nL 18.109375 46.1875 \nQ 21.34375 51.125 25.703125 53.5625 \nQ 30.078125 56 35.796875 56 \nQ 45.21875 56 50.046875 50.171875 \nQ 54.890625 44.34375 54.890625 33.015625 \nz\n\" id=\"DejaVuSans-110\"/>\n      <path id=\"DejaVuSans-32\"/>\n      <path d=\"M 30.609375 48.390625 \nQ 23.390625 48.390625 19.1875 42.75 \nQ 14.984375 37.109375 14.984375 27.296875 \nQ 14.984375 17.484375 19.15625 11.84375 \nQ 23.34375 6.203125 30.609375 6.203125 \nQ 37.796875 6.203125 41.984375 11.859375 \nQ 46.1875 17.53125 46.1875 27.296875 \nQ 46.1875 37.015625 41.984375 42.703125 \nQ 37.796875 48.390625 30.609375 48.390625 \nz\nM 30.609375 56 \nQ 42.328125 56 49.015625 48.375 \nQ 55.71875 40.765625 55.71875 27.296875 \nQ 55.71875 13.875 49.015625 6.21875 \nQ 42.328125 -1.421875 30.609375 -1.421875 \nQ 18.84375 -1.421875 12.171875 6.21875 \nQ 5.515625 13.875 5.515625 27.296875 \nQ 5.515625 40.765625 12.171875 48.375 \nQ 18.84375 56 30.609375 56 \nz\n\" id=\"DejaVuSans-111\"/>\n      <path d=\"M 48.78125 52.59375 \nL 48.78125 44.1875 \nQ 44.96875 46.296875 41.140625 47.34375 \nQ 37.3125 48.390625 33.40625 48.390625 \nQ 24.65625 48.390625 19.8125 42.84375 \nQ 14.984375 37.3125 14.984375 27.296875 \nQ 14.984375 17.28125 19.8125 11.734375 \nQ 24.65625 6.203125 33.40625 6.203125 \nQ 37.3125 6.203125 41.140625 7.25 \nQ 44.96875 8.296875 48.78125 10.40625 \nL 48.78125 2.09375 \nQ 45.015625 0.34375 40.984375 -0.53125 \nQ 36.96875 -1.421875 32.421875 -1.421875 \nQ 20.0625 -1.421875 12.78125 6.34375 \nQ 5.515625 14.109375 5.515625 27.296875 \nQ 5.515625 40.671875 12.859375 48.328125 \nQ 20.21875 56 33.015625 56 \nQ 37.15625 56 41.109375 55.140625 \nQ 45.0625 54.296875 48.78125 52.59375 \nz\n\" id=\"DejaVuSans-99\"/>\n      <path d=\"M 8.5 21.578125 \nL 8.5 54.6875 \nL 17.484375 54.6875 \nL 17.484375 21.921875 \nQ 17.484375 14.15625 20.5 10.265625 \nQ 23.53125 6.390625 29.59375 6.390625 \nQ 36.859375 6.390625 41.078125 11.03125 \nQ 45.3125 15.671875 45.3125 23.6875 \nL 45.3125 54.6875 \nL 54.296875 54.6875 \nL 54.296875 0 \nL 45.3125 0 \nL 45.3125 8.40625 \nQ 42.046875 3.421875 37.71875 1 \nQ 33.40625 -1.421875 27.6875 -1.421875 \nQ 18.265625 -1.421875 13.375 4.4375 \nQ 8.5 10.296875 8.5 21.578125 \nz\nM 31.109375 56 \nz\n\" id=\"DejaVuSans-117\"/>\n      <path d=\"M 41.109375 46.296875 \nQ 39.59375 47.171875 37.8125 47.578125 \nQ 36.03125 48 33.890625 48 \nQ 26.265625 48 22.1875 43.046875 \nQ 18.109375 38.09375 18.109375 28.8125 \nL 18.109375 0 \nL 9.078125 0 \nL 9.078125 54.6875 \nL 18.109375 54.6875 \nL 18.109375 46.1875 \nQ 20.953125 51.171875 25.484375 53.578125 \nQ 30.03125 56 36.53125 56 \nQ 37.453125 56 38.578125 55.875 \nQ 39.703125 55.765625 41.0625 55.515625 \nz\n\" id=\"DejaVuSans-114\"/>\n      <path d=\"M 56.203125 29.59375 \nL 56.203125 25.203125 \nL 14.890625 25.203125 \nQ 15.484375 15.921875 20.484375 11.0625 \nQ 25.484375 6.203125 34.421875 6.203125 \nQ 39.59375 6.203125 44.453125 7.46875 \nQ 49.3125 8.734375 54.109375 11.28125 \nL 54.109375 2.78125 \nQ 49.265625 0.734375 44.1875 -0.34375 \nQ 39.109375 -1.421875 33.890625 -1.421875 \nQ 20.796875 -1.421875 13.15625 6.1875 \nQ 5.515625 13.8125 5.515625 26.8125 \nQ 5.515625 40.234375 12.765625 48.109375 \nQ 20.015625 56 32.328125 56 \nQ 43.359375 56 49.78125 48.890625 \nQ 56.203125 41.796875 56.203125 29.59375 \nz\nM 47.21875 32.234375 \nQ 47.125 39.59375 43.09375 43.984375 \nQ 39.0625 48.390625 32.421875 48.390625 \nQ 24.90625 48.390625 20.390625 44.140625 \nQ 15.875 39.890625 15.1875 32.171875 \nz\n\" id=\"DejaVuSans-101\"/>\n     </defs>\n     <g transform=\"translate(14.798438 192.001719)rotate(-90)scale(0.1 -0.1)\">\n      <use xlink:href=\"#DejaVuSans-110\"/>\n      <use x=\"63.378906\" xlink:href=\"#DejaVuSans-98\"/>\n      <use x=\"126.855469\" xlink:href=\"#DejaVuSans-32\"/>\n      <use x=\"158.642578\" xlink:href=\"#DejaVuSans-111\"/>\n      <use x=\"219.824219\" xlink:href=\"#DejaVuSans-99\"/>\n      <use x=\"274.804688\" xlink:href=\"#DejaVuSans-99\"/>\n      <use x=\"329.785156\" xlink:href=\"#DejaVuSans-117\"/>\n      <use x=\"393.164062\" xlink:href=\"#DejaVuSans-114\"/>\n      <use x=\"434.246094\" xlink:href=\"#DejaVuSans-101\"/>\n      <use x=\"495.769531\" xlink:href=\"#DejaVuSans-110\"/>\n      <use x=\"559.148438\" xlink:href=\"#DejaVuSans-99\"/>\n      <use x=\"614.128906\" xlink:href=\"#DejaVuSans-101\"/>\n     </g>\n    </g>\n   </g>\n   <g id=\"patch_23\">\n    <path d=\"M 59.690625 294.118125 \nL 59.690625 22.318125 \n\" style=\"fill:none;stroke:#000000;stroke-linecap:square;stroke-linejoin:miter;stroke-width:0.8;\"/>\n   </g>\n   <g id=\"patch_24\">\n    <path d=\"M 617.690625 294.118125 \nL 617.690625 22.318125 \n\" style=\"fill:none;stroke:#000000;stroke-linecap:square;stroke-linejoin:miter;stroke-width:0.8;\"/>\n   </g>\n   <g id=\"patch_25\">\n    <path d=\"M 59.690625 294.118125 \nL 617.690625 294.118125 \n\" style=\"fill:none;stroke:#000000;stroke-linecap:square;stroke-linejoin:miter;stroke-width:0.8;\"/>\n   </g>\n   <g id=\"patch_26\">\n    <path d=\"M 59.690625 22.318125 \nL 617.690625 22.318125 \n\" style=\"fill:none;stroke:#000000;stroke-linecap:square;stroke-linejoin:miter;stroke-width:0.8;\"/>\n   </g>\n   <g id=\"text_15\">\n    <!-- lambda distribution: alpha=0.4 -->\n    <defs>\n     <path d=\"M 9.421875 54.6875 \nL 18.40625 54.6875 \nL 18.40625 0 \nL 9.421875 0 \nz\nM 9.421875 75.984375 \nL 18.40625 75.984375 \nL 18.40625 64.59375 \nL 9.421875 64.59375 \nz\n\" id=\"DejaVuSans-105\"/>\n     <path d=\"M 44.28125 53.078125 \nL 44.28125 44.578125 \nQ 40.484375 46.53125 36.375 47.5 \nQ 32.28125 48.484375 27.875 48.484375 \nQ 21.1875 48.484375 17.84375 46.4375 \nQ 14.5 44.390625 14.5 40.28125 \nQ 14.5 37.15625 16.890625 35.375 \nQ 19.28125 33.59375 26.515625 31.984375 \nL 29.59375 31.296875 \nQ 39.15625 29.25 43.1875 25.515625 \nQ 47.21875 21.78125 47.21875 15.09375 \nQ 47.21875 7.46875 41.1875 3.015625 \nQ 35.15625 -1.421875 24.609375 -1.421875 \nQ 20.21875 -1.421875 15.453125 -0.5625 \nQ 10.6875 0.296875 5.421875 2 \nL 5.421875 11.28125 \nQ 10.40625 8.6875 15.234375 7.390625 \nQ 20.0625 6.109375 24.8125 6.109375 \nQ 31.15625 6.109375 34.5625 8.28125 \nQ 37.984375 10.453125 37.984375 14.40625 \nQ 37.984375 18.0625 35.515625 20.015625 \nQ 33.0625 21.96875 24.703125 23.78125 \nL 21.578125 24.515625 \nQ 13.234375 26.265625 9.515625 29.90625 \nQ 5.8125 33.546875 5.8125 39.890625 \nQ 5.8125 47.609375 11.28125 51.796875 \nQ 16.75 56 26.8125 56 \nQ 31.78125 56 36.171875 55.265625 \nQ 40.578125 54.546875 44.28125 53.078125 \nz\n\" id=\"DejaVuSans-115\"/>\n     <path d=\"M 18.3125 70.21875 \nL 18.3125 54.6875 \nL 36.8125 54.6875 \nL 36.8125 47.703125 \nL 18.3125 47.703125 \nL 18.3125 18.015625 \nQ 18.3125 11.328125 20.140625 9.421875 \nQ 21.96875 7.515625 27.59375 7.515625 \nL 36.8125 7.515625 \nL 36.8125 0 \nL 27.59375 0 \nQ 17.1875 0 13.234375 3.875 \nQ 9.28125 7.765625 9.28125 18.015625 \nL 9.28125 47.703125 \nL 2.6875 47.703125 \nL 2.6875 54.6875 \nL 9.28125 54.6875 \nL 9.28125 70.21875 \nz\n\" id=\"DejaVuSans-116\"/>\n     <path d=\"M 11.71875 12.40625 \nL 22.015625 12.40625 \nL 22.015625 0 \nL 11.71875 0 \nz\nM 11.71875 51.703125 \nL 22.015625 51.703125 \nL 22.015625 39.3125 \nL 11.71875 39.3125 \nz\n\" id=\"DejaVuSans-58\"/>\n     <path d=\"M 18.109375 8.203125 \nL 18.109375 -20.796875 \nL 9.078125 -20.796875 \nL 9.078125 54.6875 \nL 18.109375 54.6875 \nL 18.109375 46.390625 \nQ 20.953125 51.265625 25.265625 53.625 \nQ 29.59375 56 35.59375 56 \nQ 45.5625 56 51.78125 48.09375 \nQ 58.015625 40.1875 58.015625 27.296875 \nQ 58.015625 14.40625 51.78125 6.484375 \nQ 45.5625 -1.421875 35.59375 -1.421875 \nQ 29.59375 -1.421875 25.265625 0.953125 \nQ 20.953125 3.328125 18.109375 8.203125 \nz\nM 48.6875 27.296875 \nQ 48.6875 37.203125 44.609375 42.84375 \nQ 40.53125 48.484375 33.40625 48.484375 \nQ 26.265625 48.484375 22.1875 42.84375 \nQ 18.109375 37.203125 18.109375 27.296875 \nQ 18.109375 17.390625 22.1875 11.75 \nQ 26.265625 6.109375 33.40625 6.109375 \nQ 40.53125 6.109375 44.609375 11.75 \nQ 48.6875 17.390625 48.6875 27.296875 \nz\n\" id=\"DejaVuSans-112\"/>\n     <path d=\"M 54.890625 33.015625 \nL 54.890625 0 \nL 45.90625 0 \nL 45.90625 32.71875 \nQ 45.90625 40.484375 42.875 44.328125 \nQ 39.84375 48.1875 33.796875 48.1875 \nQ 26.515625 48.1875 22.3125 43.546875 \nQ 18.109375 38.921875 18.109375 30.90625 \nL 18.109375 0 \nL 9.078125 0 \nL 9.078125 75.984375 \nL 18.109375 75.984375 \nL 18.109375 46.1875 \nQ 21.34375 51.125 25.703125 53.5625 \nQ 30.078125 56 35.796875 56 \nQ 45.21875 56 50.046875 50.171875 \nQ 54.890625 44.34375 54.890625 33.015625 \nz\n\" id=\"DejaVuSans-104\"/>\n     <path d=\"M 10.59375 45.40625 \nL 73.1875 45.40625 \nL 73.1875 37.203125 \nL 10.59375 37.203125 \nz\nM 10.59375 25.484375 \nL 73.1875 25.484375 \nL 73.1875 17.1875 \nL 10.59375 17.1875 \nz\n\" id=\"DejaVuSans-61\"/>\n    </defs>\n    <g transform=\"translate(244.979062 16.318125)scale(0.12 -0.12)\">\n     <use xlink:href=\"#DejaVuSans-108\"/>\n     <use x=\"27.783203\" xlink:href=\"#DejaVuSans-97\"/>\n     <use x=\"89.0625\" xlink:href=\"#DejaVuSans-109\"/>\n     <use x=\"186.474609\" xlink:href=\"#DejaVuSans-98\"/>\n     <use x=\"249.951172\" xlink:href=\"#DejaVuSans-100\"/>\n     <use x=\"313.427734\" xlink:href=\"#DejaVuSans-97\"/>\n     <use x=\"374.707031\" xlink:href=\"#DejaVuSans-32\"/>\n     <use x=\"406.494141\" xlink:href=\"#DejaVuSans-100\"/>\n     <use x=\"469.970703\" xlink:href=\"#DejaVuSans-105\"/>\n     <use x=\"497.753906\" xlink:href=\"#DejaVuSans-115\"/>\n     <use x=\"549.853516\" xlink:href=\"#DejaVuSans-116\"/>\n     <use x=\"589.0625\" xlink:href=\"#DejaVuSans-114\"/>\n     <use x=\"630.175781\" xlink:href=\"#DejaVuSans-105\"/>\n     <use x=\"657.958984\" xlink:href=\"#DejaVuSans-98\"/>\n     <use x=\"721.435547\" xlink:href=\"#DejaVuSans-117\"/>\n     <use x=\"784.814453\" xlink:href=\"#DejaVuSans-116\"/>\n     <use x=\"824.023438\" xlink:href=\"#DejaVuSans-105\"/>\n     <use x=\"851.806641\" xlink:href=\"#DejaVuSans-111\"/>\n     <use x=\"912.988281\" xlink:href=\"#DejaVuSans-110\"/>\n     <use x=\"976.367188\" xlink:href=\"#DejaVuSans-58\"/>\n     <use x=\"1010.058594\" xlink:href=\"#DejaVuSans-32\"/>\n     <use x=\"1041.845703\" xlink:href=\"#DejaVuSans-97\"/>\n     <use x=\"1103.125\" xlink:href=\"#DejaVuSans-108\"/>\n     <use x=\"1130.908203\" xlink:href=\"#DejaVuSans-112\"/>\n     <use x=\"1194.384766\" xlink:href=\"#DejaVuSans-104\"/>\n     <use x=\"1257.763672\" xlink:href=\"#DejaVuSans-97\"/>\n     <use x=\"1319.042969\" xlink:href=\"#DejaVuSans-61\"/>\n     <use x=\"1402.832031\" xlink:href=\"#DejaVuSans-48\"/>\n     <use x=\"1466.455078\" xlink:href=\"#DejaVuSans-46\"/>\n     <use x=\"1498.242188\" xlink:href=\"#DejaVuSans-52\"/>\n    </g>\n   </g>\n  </g>\n </g>\n <defs>\n  <clipPath id=\"pd26f9ccbbb\">\n   <rect height=\"271.8\" width=\"558\" x=\"59.690625\" y=\"22.318125\"/>\n  </clipPath>\n </defs>\n</svg>\n",
      "image/png": "[encoded data removed]"
     },
     "metadata": {
      "needs_background": "light"
     }
    }
   ],
   "source": [
    "plt.figure(0, figsize=(10, 5))\n",
    "plt.hist(trainer.mixup_fn.lambda_history, bins=20)\n",
    "plt.ylabel(\"nb occurence\")\n",
    "plt.xlabel(\"lambda\")\n",
    "plt.title(\"lambda distribution: alpha=0.4\")\n",
    "plt.show()"
   ]
  },
  {
   "source": [
    "# Test"
   ],
   "cell_type": "markdown",
   "metadata": {}
  },
  {
   "cell_type": "code",
   "execution_count": 45,
   "metadata": {},
   "outputs": [
    {
     "output_type": "error",
     "ename": "NameError",
     "evalue": "name 'self' is not defined",
     "traceback": [
      "\u001b[0;31m---------------------------------------------------------------------------\u001b[0m",
      "\u001b[0;31mNameError\u001b[0m                                 Traceback (most recent call last)",
      "\u001b[0;32m<ipython-input-45-d91d5b058f8d>\u001b[0m in \u001b[0;36m<module>\u001b[0;34m\u001b[0m\n\u001b[1;32m      2\u001b[0m \u001b[0;34m\u001b[0m\u001b[0m\n\u001b[1;32m      3\u001b[0m \u001b[0;31m# aliases\u001b[0m\u001b[0;34m\u001b[0m\u001b[0;34m\u001b[0m\u001b[0;34m\u001b[0m\u001b[0m\n\u001b[0;32m----> 4\u001b[0;31m \u001b[0mM\u001b[0m \u001b[0;34m=\u001b[0m \u001b[0mself\u001b[0m\u001b[0;34m.\u001b[0m\u001b[0mmetrics\u001b[0m\u001b[0;34m\u001b[0m\u001b[0;34m\u001b[0m\u001b[0m\n\u001b[0m\u001b[1;32m      5\u001b[0m \u001b[0mT\u001b[0m \u001b[0;34m=\u001b[0m \u001b[0mself\u001b[0m\u001b[0;34m.\u001b[0m\u001b[0mtensorboard\u001b[0m\u001b[0;34m.\u001b[0m\u001b[0madd_scalar\u001b[0m\u001b[0;34m\u001b[0m\u001b[0;34m\u001b[0m\u001b[0m\n\u001b[1;32m      6\u001b[0m \u001b[0mnb_batch\u001b[0m \u001b[0;34m=\u001b[0m \u001b[0mlen\u001b[0m\u001b[0;34m(\u001b[0m\u001b[0mself\u001b[0m\u001b[0;34m.\u001b[0m\u001b[0mval_loader\u001b[0m\u001b[0;34m)\u001b[0m\u001b[0;34m\u001b[0m\u001b[0;34m\u001b[0m\u001b[0m\n",
      "\u001b[0;31mNameError\u001b[0m: name 'self' is not defined"
     ]
    }
   ],
   "source": [
    "trainer.checkpoint.load_best()\n",
    "\n",
    "# aliases\n",
    "M = self.metrics\n",
    "T = self.tensorboard.add_scalar\n",
    "nb_batch = len(self.val_loader)\n",
    "\n",
    "start_time = time.time()\n",
    "print(\"\")\n",
    "\n",
    "self.reset_metrics()\n",
    "self.student.eval()\n",
    "\n",
    "with torch.set_grad_enabled(False):\n",
    "    for i, (X, y) in enumerate(self.test_loader):\n",
    "        X = X.cuda()\n",
    "        y = y.cuda()\n",
    "\n",
    "        # Predictions\n",
    "        with autocast(enabled=False):\n",
    "            student_logits = self.student(X)\n",
    "            teacher_logits = self.teacher(X)\n",
    "\n",
    "            # Calculate supervised loss (only student on S)\n",
    "            loss = self.loss_ce(student_logits, y)\n",
    "            _teacher_loss = self.loss_ce(teacher_logits, y)  # for metrics only\n",
    "            ccost = self.loss_cc(\n",
    "                self.softmax_fn(student_logits),\n",
    "                self.softmax_fn(teacher_logits))\n",
    "\n",
    "        # Compute the metrics\n",
    "        fscores, accs = self._calc_metrics(\n",
    "            student_logits, student_logits, \n",
    "            teacher_logits, teacher_logits,\n",
    "            y, y\n",
    "        )\n",
    "\n",
    "        # Running average of the two losses\n",
    "        student_running_loss = M.avg_Sce(loss.item()).mean\n",
    "        teacher_running_loss = M.avg_Tce(_teacher_loss.item()).mean\n",
    "        running_ccost = M.avg_ccost(ccost.item()).mean\n",
    "\n",
    "        # logs\n",
    "        print(self.val_form.format(\n",
    "            \"Validation: \", epoch + 1, int(100 * (i + 1) / nb_batch),\n",
    "            \"\", student_running_loss, running_ccost, accs.ss, fscores.ss, 0.0, 0.0,\n",
    "            \"\", teacher_running_loss, accs.ts, fscores.ts, 0.0, 0.0,\n",
    "            time.time() - start_time\n",
    "        ), end=\"\\r\")"
   ]
  },
  {
   "source": [
    "# Cross validation"
   ],
   "cell_type": "markdown",
   "metadata": {}
  },
  {
   "source": [
    "training_params=DotDict(\n",
    "    dataset=args.dataset,\n",
    "\n",
    "    dataset_root = args.dataset_root,\n",
    "    supervised_ratio = args.supervised_ratio,\n",
    "    batch_size = args.batch_size,\n",
    "    train_folds = args.train_folds,\n",
    "    val_folds = args.val_folds,\n",
    "    learning_rate=args.learning_rate,\n",
    "    nb_epoch=args.nb_epoch,\n",
    "    seed=args.seed,\n",
    "\n",
    ")\n",
    "other_params = dict(\n",
    "    num_workers=0,\n",
    "    pin_memory=True,\n",
    "    verbose = 2,\n",
    ")"
   ],
   "cell_type": "markdown",
   "metadata": {}
  },
  {
   "source": [
    "train_folds = [\n",
    "    [1, 2, 3, 4],\n",
    "    [2, 3, 4, 5],\n",
    "    [3, 4, 5, 1],\n",
    "    [4, 5, 1, 2],\n",
    "    [5, 1, 2, 3]\n",
    "]\n",
    "\n",
    "history = []\n",
    "val_folds = [[5], [1], [2], [3], [4]]\n",
    "\n",
    "for t, v in zip(train_folds, val_folds):\n",
    "    print(t, v)\n",
    "\n",
    "    mixup_fn = get_mixup_fn(alpha=1.5)\n",
    "    trainer.mixup_fn = MethodType(mixup_fn, trainer)\n",
    "\n",
    "    training_params.train_folds = t\n",
    "    training_params.val_folds = v\n",
    "\n",
    "    trainer.init_trainer(training_params, **other_params)\n",
    "    trainer.set_printing_form()\n",
    "    trainer.fit()\n",
    "\n",
    "    history.append(((t, v), trainer.maximum_tracker))\n",
    "\n",
    "    trainer.close()"
   ],
   "cell_type": "markdown",
   "metadata": {
    "tags": []
   }
  },
  {
   "source": [
    "for folds, maxer in history:\n",
    "    print(folds, maxer.max[\"student_acc\"].item(), maxer.max[\"teacher_acc\"].item())"
   ],
   "cell_type": "markdown",
   "metadata": {}
  },
  {
   "source": [
    "import numpy as np\n",
    "    \n",
    "s_acc = lambda x: x.max[\"student_acc\"].item()\n",
    "t_acc = lambda x: x.max[\"teacher_acc\"].item()\n",
    "maxers = [i[1] for i in history]\n",
    "\n",
    "print(\"student accuracy mean + std\")\n",
    "print(np.mean(list(map(s_acc, maxers))), np.std(list(map(s_acc, maxers))))\n",
    "\n",
    "print(\"teacher accuracy mean + std\")\n",
    "print(np.mean(list(map(t_acc, maxers))), np.std(list(map(t_acc, maxers))))"
   ],
   "cell_type": "markdown",
   "metadata": {}
  },
  {
   "source": [
    "# Grid search"
   ],
   "cell_type": "markdown",
   "metadata": {}
  },
  {
   "source": [
    "train_folds = [1, 2, 3, 4]\n",
    "val_folds = [5]\n",
    "alpha=(0.1, 0.2, 0.3, 0.4, 0.5, 0.75, 1.0, 1.5, 2)\n",
    "history = []\n",
    "\n",
    "for a in alpha:\n",
    "    print(a)\n",
    "\n",
    "    mixup_fn = get_mixup_fn(alpha=a)\n",
    "    trainer.mixup_fn = MethodType(mixup_fn, trainer)\n",
    "\n",
    "    training_params.train_folds = train_folds\n",
    "    training_params.val_folds = val_folds\n",
    "\n",
    "    trainer.init_trainer(training_params, **other_params)\n",
    "    trainer.set_printing_form()\n",
    "    trainer.fit()\n",
    "\n",
    "    history.append((a, trainer.maximum_tracker))\n",
    "\n",
    "    trainer.close()"
   ],
   "cell_type": "markdown",
   "metadata": {
    "tags": []
   }
  },
  {
   "source": [
    "for i, h in enumerate(history):\n",
    "    print(alpha[i], s_acc(h[1]), t_acc(h[1]))"
   ],
   "cell_type": "markdown",
   "metadata": {}
  },
  {
   "source": [
    "with open(\".tmp.txt\", \"w\") as f:\n",
    "    f.write(\"learning_rate, lambda_ccost, ema_alpha, noise_db, acc_s, acc_t\\n\")\n",
    "    for key, value in history:\n",
    "        line = \", \".join(map(str, key)) + \\\n",
    "            \", \" + \"%s\" % value.max[\"student_acc\"].item() + \\\n",
    "            \", \" + \"%s\" % value.max[\"teacher_acc\"].item() + \\\n",
    "            \"\\n\"\n",
    "        f.write(line)\n",
    "        print(line)\n"
   ],
   "cell_type": "markdown",
   "metadata": {}
  },
  {
   "source": [
    "import matplotlib.pyplot as plt\n",
    "import numpy as np\n",
    "\n",
    "T = trainer.tensorboard.history\n",
    "x = list(range(trainer.checkpoint.epoch_counter))\n",
    "sm = lambda y, w: np.convolve(y, np.ones(w)/w, mode='same')\n",
    "pp = lambda k: plt.plot(x, T[k], label=f\"{k} = {max(T[k])}\")\n",
    "spp = lambda k: plt.plot(x, sm(T[k], 5), label=f\"{k} = {max(T[k])}\")\n",
    "\n",
    "\n",
    "plt.figure(0, figsize=(30, 14))\n",
    "plt.subplot(2, 3, 1)\n",
    "pp(\"max/student_acc\")\n",
    "pp(\"max/teacher_acc\")\n",
    "plt.legend()\n",
    "\n",
    "plt.subplot(2, 3, 3)\n",
    "pp(\"hyperparameters/learning_rate\")\n",
    "plt.legend()\n",
    "\n",
    "plt.show()"
   ],
   "cell_type": "markdown",
   "metadata": {}
  },
  {
   "cell_type": "code",
   "execution_count": null,
   "metadata": {},
   "outputs": [],
   "source": []
  }
 ],
 "metadata": {
  "kernelspec": {
   "display_name": "dct",
   "language": "python",
   "name": "dct"
  },
  "language_info": {
   "codemirror_mode": {
    "name": "ipython",
    "version": 3
   },
   "file_extension": ".py",
   "mimetype": "text/x-python",
   "name": "python",
   "nbconvert_exporter": "python",
   "pygments_lexer": "ipython3",
   "version": "3.8.0-final"
  }
 },
 "nbformat": 4,
 "nbformat_minor": 4
}