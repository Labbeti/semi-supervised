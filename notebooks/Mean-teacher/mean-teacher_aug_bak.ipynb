{
 "cells": [
  {
   "cell_type": "markdown",
   "metadata": {
    "jupyter": {
     "outputs_hidden": true
    }
   },
   "source": [
    "# import"
   ]
  },
  {
   "cell_type": "raw",
   "metadata": {},
   "source": [
    "https://arxiv.org/pdf/1703.01780.pdf"
   ]
  },
  {
   "cell_type": "code",
   "execution_count": 178,
   "metadata": {},
   "outputs": [
    {
     "output_type": "stream",
     "name": "stdout",
     "text": [
      "The autoreload extension is already loaded. To reload it, use:\n  %reload_ext autoreload\n"
     ]
    }
   ],
   "source": [
    "%load_ext autoreload\n",
    "%autoreload 2"
   ]
  },
  {
   "cell_type": "code",
   "execution_count": 179,
   "metadata": {},
   "outputs": [
    {
     "output_type": "execute_result",
     "data": {
      "text/plain": [
       "'/home/lcances/.miniconda3/envs/dct/bin/python'"
      ]
     },
     "metadata": {},
     "execution_count": 179
    }
   ],
   "source": [
    "import sys\n",
    "sys.executable"
   ]
  },
  {
   "cell_type": "code",
   "execution_count": 180,
   "metadata": {},
   "outputs": [],
   "source": [
    "import os\n",
    "os.environ[\"MKL_NUM_THREADS\"] = \"2\"\n",
    "os.environ[\"NUMEXPR_NU M_THREADS\"] = \"2\"\n",
    "os.environ[\"OMP_NUM_THREADS\"] = \"2\"\n",
    "import time\n",
    "import pprint\n",
    "\n",
    "import numpy\n",
    "import torch\n",
    "import torch.nn as nn\n",
    "import torch.utils.data as data\n",
    "import torch.nn.functional as F\n",
    "import torchvision.transforms as transforms\n",
    "from torch.optim.lr_scheduler import LambdaLR\n",
    "from torch.utils.tensorboard import SummaryWriter\n",
    "from torch.utils.data import DataLoader"
   ]
  },
  {
   "cell_type": "code",
   "execution_count": 181,
   "metadata": {
    "tags": []
   },
   "outputs": [],
   "source": [
    "from SSL.util.loaders import load_dataset, load_optimizer, load_callbacks, load_preprocesser\n",
    "from SSL.util.model_loader import load_model\n",
    "from SSL.util.checkpoint import CheckPoint, mSummaryWriter\n",
    "from SSL.util.utils import reset_seed, get_datetime, track_maximum, DotDict\n",
    "from SSL.ramps import Warmup, sigmoid_rampup\n",
    "from SSL.losses import JensenShanon\n",
    "\n",
    "from mlu.transforms.waveform import StretchPadCrop\n",
    "\n",
    "from metric_utils.metrics import CategoricalAccuracy, FScore, ContinueAverage"
   ]
  },
  {
   "cell_type": "code",
   "execution_count": 182,
   "metadata": {},
   "outputs": [],
   "source": [
    "from augmentation_utils.signal_augmentations import Occlusion, SignalAugmentation\n",
    "from augmentation_utils.spec_augmentations import SpecAugmentation\n",
    "from mlu.transforms.waveform import StretchPadCrop\n",
    "from mlu.transforms.base import WaveformTransform, SpectrogramTransform\n",
    "from mlu.transforms.spectrogram import CutOutSpec\n",
    "\n",
    "from augmentation_utils.augmentations import ComposeAugmentation"
   ]
  },
  {
   "cell_type": "markdown",
   "metadata": {
    "pycharm": {
     "name": "#%% md\n"
    }
   },
   "source": [
    "# Arguments"
   ]
  },
  {
   "cell_type": "code",
   "execution_count": 183,
   "metadata": {},
   "outputs": [],
   "source": [
    "import argparse\n",
    "parser = argparse.ArgumentParser()\n",
    "parser.add_argument(\"--from_config\", default=\"\", type=str)\n",
    "parser.add_argument(\"-d\", \"--dataset_root\", default=\"../../datasets\", type=str)\n",
    "parser.add_argument(\"-D\", \"--dataset\", default=\"speechcommand\", type=str)\n",
    "\n",
    "group_t = parser.add_argument_group(\"Commun parameters\")\n",
    "group_t.add_argument(\"-m\", \"--model\", default=\"wideresnet28_2\", type=str)\n",
    "group_t.add_argument(\"--supervised_ratio\", default=0.1, type=float)\n",
    "group_t.add_argument(\"--batch_size\", default=64, type=int)\n",
    "group_t.add_argument(\"--nb_epoch\", default=200, type=int)\n",
    "group_t.add_argument(\"--learning_rate\", default=0.003, type=float)\n",
    "group_t.add_argument(\"--resume\", action=\"store_true\", default=False)\n",
    "group_t.add_argument(\"--seed\", default=1234, type=int)\n",
    "\n",
    "group_m = parser.add_argument_group(\"Model parameters\")\n",
    "group_m.add_argument(\"--num_classes\", default=35, type=int)\n",
    "\n",
    "group_u = parser.add_argument_group(\"Datasets parameters\")\n",
    "group_u.add_argument(\"-t\", \"--train_folds\", nargs=\"+\", default=[1, 2, 3, 4, 5, 6, 7, 8, 9], type=int)\n",
    "group_u.add_argument(\"-v\", \"--val_folds\", nargs=\"+\", default=[10], type=int)\n",
    "\n",
    "group_s = parser.add_argument_group(\"Student teacher parameters\")\n",
    "group_s.add_argument(\"--ema_alpha\", default=0.999, type=float)\n",
    "group_s.add_argument(\"--warmup_length\", default=50, type=int)\n",
    "group_s.add_argument(\"--lambda_cost_max\", default=1, type=float)\n",
    "group_s.add_argument(\"--teacher_noise\", default=0, type=float)\n",
    "group_s.add_argument(\"--ccost_softmax\", action=\"store_false\", default=True)\n",
    "group_s.add_argument(\"--ccost_method\", type=str, default=\"mse\")\n",
    "\n",
    "group_a = parser.add_argument_group('augmentations')\n",
    "group_a.add_argument('--use_augmentation', action='store_true', default=False)\n",
    "group_a.add_argument('--augmentation_method', type=str, default='pick-one')\n",
    "\n",
    "group_l = parser.add_argument_group(\"Logs\")\n",
    "group_l.add_argument(\"--checkpoint_root\", default=\"../../model_save/\", type=str)\n",
    "group_l.add_argument(\"--tensorboard_root\", default=\"../../tensorboard/\", type=str)\n",
    "group_l.add_argument(\"--checkpoint_path\", default=\"mean-teacher\", type=str)\n",
    "group_l.add_argument(\"--tensorboard_path\", default=\"mean-teacher\", type=str)\n",
    "group_l.add_argument(\"--tensorboard_sufix\", default=\"\", type=str)\n",
    "\n",
    "args=parser.parse_args(['--use_augmentation'])\n",
    "\n",
    "tensorboard_path = os.path.join(args.tensorboard_root, args.dataset, args.tensorboard_path)\n",
    "checkpoint_path = os.path.join(args.checkpoint_root, args.dataset, args.checkpoint_path)"
   ]
  },
  {
   "cell_type": "markdown",
   "metadata": {},
   "source": [
    "## Basic verification"
   ]
  },
  {
   "cell_type": "code",
   "execution_count": 184,
   "metadata": {},
   "outputs": [],
   "source": [
    "available_datasets = [\"esc10\", \"ubs8k\", \"speechcommand\"]\n",
    "available_models = [\"cnn03\", \"wideresnet28_2\", \"wideresnet28_4\", \"wideresnet28_8\"]\n",
    "available_ccost_method = [\"mse\", \"js\"]\n",
    "\n",
    "assert args.dataset in available_datasets\n",
    "assert args.model in available_models\n",
    "assert args.ccost_method in available_ccost_method"
   ]
  },
  {
   "cell_type": "code",
   "execution_count": 185,
   "metadata": {
    "tags": [
     "re_run"
    ]
   },
   "outputs": [
    {
     "output_type": "stream",
     "name": "stdout",
     "text": [
      "{'augmentation_method': 'pick-one',\n 'batch_size': 64,\n 'ccost_method': 'mse',\n 'ccost_softmax': True,\n 'checkpoint_path': 'mean-teacher',\n 'checkpoint_root': '../model_save/',\n 'dataset': 'speechcommand',\n 'dataset_root': '../../datasets',\n 'ema_alpha': 0.999,\n 'from_config': '',\n 'lambda_cost_max': 1,\n 'learning_rate': 0.003,\n 'model': 'wideresnet28_2',\n 'nb_epoch': 200,\n 'num_classes': 35,\n 'resume': False,\n 'seed': 1234,\n 'supervised_ratio': 0.1,\n 'teacher_noise': 0,\n 'tensorboard_path': 'mean-teacher',\n 'tensorboard_root': '../tensorboard/',\n 'tensorboard_sufix': '',\n 'train_folds': [1, 2, 3, 4, 5, 6, 7, 8, 9],\n 'use_augmentation': True,\n 'val_folds': [10],\n 'warmup_length': 50}\n"
     ]
    }
   ],
   "source": [
    "pprint.pprint(vars(args))"
   ]
  },
  {
   "cell_type": "markdown",
   "metadata": {
    "pycharm": {
     "name": "#%% md\n"
    }
   },
   "source": [
    "# initialisation"
   ]
  },
  {
   "cell_type": "code",
   "execution_count": 186,
   "metadata": {
    "collapsed": false,
    "jupyter": {
     "outputs_hidden": false
    },
    "pycharm": {
     "name": "#%%\n"
    },
    "tags": [
     "re_run"
    ]
   },
   "outputs": [],
   "source": [
    "reset_seed(args.seed)"
   ]
  },
  {
   "cell_type": "markdown",
   "metadata": {
    "pycharm": {
     "name": "#%% md\n"
    }
   },
   "source": [
    "# Prepare the dataset"
   ]
  },
  {
   "cell_type": "code",
   "execution_count": 187,
   "metadata": {},
   "outputs": [
    {
     "output_type": "execute_result",
     "data": {
      "text/plain": [
       "Sequential(\n",
       "  (0): PadUpTo()\n",
       "  (1): MelSpectrogram(\n",
       "    (spectrogram): Spectrogram()\n",
       "    (mel_scale): MelScale()\n",
       "  )\n",
       "  (2): AmplitudeToDB()\n",
       ")"
      ]
     },
     "metadata": {},
     "execution_count": 187
    }
   ],
   "source": [
    "train_transform, val_transform = load_preprocesser(args.dataset, \"mean-teacher\")\n",
    "train_transform"
   ]
  },
  {
   "cell_type": "code",
   "execution_count": 188,
   "metadata": {},
   "outputs": [],
   "source": [
    "# add transformation for apply augmentation\n",
    "ratio = 0.5\n",
    "weak_pool = [\n",
    "    Occlusion(ratio, sampling_rate=16000, max_size=0.25),\n",
    "    CutOutSpec(width_scale_range=(0.1, 0.5), height_scale_range=(0.1, 0.5), fill_value=-80.0, p=ratio),\n",
    "    StretchPadCrop(rate=(0.5, 1.5), align=\"random\", p=ratio),\n",
    "]"
   ]
  },
  {
   "cell_type": "code",
   "execution_count": 189,
   "metadata": {},
   "outputs": [],
   "source": [
    "# Create the augmentation composer\n",
    "composer = ComposeAugmentation(\n",
    "    pre_process_rule=lambda x: isinstance(x, (SignalAugmentation, WaveformTransform)),\n",
    "    post_process_rule=lambda x: isinstance(x, (SpecAugmentation, SpectrogramTransform)),\n",
    ")\n",
    "composer.set_augmentation_pool(weak_pool)\n",
    "composer.set_process(train_transform)"
   ]
  },
  {
   "cell_type": "code",
   "execution_count": 190,
   "metadata": {
    "collapsed": false,
    "jupyter": {
     "outputs_hidden": false
    },
    "pycharm": {
     "name": "#%%\n"
    },
    "tags": []
   },
   "outputs": [
    {
     "output_type": "stream",
     "name": "stdout",
     "text": [
      "../../datasets/SpeechCommands/speech_commands_v0.02\n",
      "Dataset already download and verified\n",
      "../../datasets/SpeechCommands/speech_commands_v0.02\n",
      "Dataset already download and verified\n",
      "../../datasets/SpeechCommands/speech_commands_v0.02\n",
      "100%|██████████| 84843/84843 [00:02<00:00, 39072.91it/s]\n",
      "100%|██████████| 35/35 [00:00<00:00, 813.90it/s]\n"
     ]
    }
   ],
   "source": [
    "manager, train_loader, val_loader = load_dataset(\n",
    "    args.dataset,\n",
    "    \"mean-teacher\",\n",
    "    \n",
    "    dataset_root = args.dataset_root,\n",
    "    supervised_ratio = args.supervised_ratio,\n",
    "    batch_size = args.batch_size,\n",
    "    train_folds = args.train_folds,\n",
    "    val_folds = args.val_folds,\n",
    "\n",
    "    train_transform=composer,\n",
    "    val_transform=val_transform,\n",
    "    \n",
    "    enable_cache=not args.use_augmentation,  # if we use augmentation, don't cache the mel-spectrogram\n",
    "    \n",
    "    num_workers=0,\n",
    "    pin_memory=True,\n",
    "\n",
    "    verbose = 2\n",
    ")"
   ]
  },
  {
   "cell_type": "code",
   "execution_count": 191,
   "metadata": {},
   "outputs": [
    {
     "output_type": "stream",
     "name": "stdout",
     "text": [
      "(64, 32)\n"
     ]
    }
   ],
   "source": [
    "input_shape = tuple(train_loader._iterables[0].dataset[0][0].shape)\n",
    "print(input_shape)"
   ]
  },
  {
   "cell_type": "markdown",
   "metadata": {},
   "source": [
    "# Prep model"
   ]
  },
  {
   "cell_type": "code",
   "execution_count": 192,
   "metadata": {
    "tags": []
   },
   "outputs": [],
   "source": [
    "torch.cuda.empty_cache()\n",
    "\n",
    "model_func = load_model(args.dataset, args.model)\n",
    "\n",
    "student = model_func(input_shape=input_shape, num_classes = args.num_classes)\n",
    "teacher = model_func(input_shape=input_shape, num_classes = args.num_classes)\n",
    "\n",
    "student = student.cuda()\n",
    "teacher = teacher.cuda()\n",
    "\n",
    "# We do not need gradient for the teacher model\n",
    "for p in teacher.parameters():\n",
    "    p.detach()"
   ]
  },
  {
   "cell_type": "code",
   "execution_count": 193,
   "metadata": {
    "scrolled": true,
    "tags": []
   },
   "outputs": [
    {
     "output_type": "stream",
     "name": "stdout",
     "text": [
      "----------------------------------------------------------------\n        Layer (type)               Output Shape         Param #\n================================================================\n            Conv2d-1           [-1, 32, 64, 32]             288\n       BatchNorm2d-2           [-1, 32, 64, 32]              64\n              ReLU-3           [-1, 32, 64, 32]               0\n         MaxPool2d-4           [-1, 32, 32, 16]               0\n            Conv2d-5           [-1, 32, 32, 16]           9,216\n       BatchNorm2d-6           [-1, 32, 32, 16]              64\n              ReLU-7           [-1, 32, 32, 16]               0\n            Conv2d-8           [-1, 32, 32, 16]           9,216\n       BatchNorm2d-9           [-1, 32, 32, 16]              64\n             ReLU-10           [-1, 32, 32, 16]               0\n       BasicBlock-11           [-1, 32, 32, 16]               0\n           Conv2d-12           [-1, 32, 32, 16]           9,216\n      BatchNorm2d-13           [-1, 32, 32, 16]              64\n             ReLU-14           [-1, 32, 32, 16]               0\n           Conv2d-15           [-1, 32, 32, 16]           9,216\n      BatchNorm2d-16           [-1, 32, 32, 16]              64\n             ReLU-17           [-1, 32, 32, 16]               0\n       BasicBlock-18           [-1, 32, 32, 16]               0\n           Conv2d-19           [-1, 32, 32, 16]           9,216\n      BatchNorm2d-20           [-1, 32, 32, 16]              64\n             ReLU-21           [-1, 32, 32, 16]               0\n           Conv2d-22           [-1, 32, 32, 16]           9,216\n      BatchNorm2d-23           [-1, 32, 32, 16]              64\n             ReLU-24           [-1, 32, 32, 16]               0\n       BasicBlock-25           [-1, 32, 32, 16]               0\n           Conv2d-26           [-1, 32, 32, 16]           9,216\n      BatchNorm2d-27           [-1, 32, 32, 16]              64\n             ReLU-28           [-1, 32, 32, 16]               0\n           Conv2d-29           [-1, 32, 32, 16]           9,216\n      BatchNorm2d-30           [-1, 32, 32, 16]              64\n             ReLU-31           [-1, 32, 32, 16]               0\n       BasicBlock-32           [-1, 32, 32, 16]               0\n           Conv2d-33            [-1, 64, 16, 8]          18,432\n      BatchNorm2d-34            [-1, 64, 16, 8]             128\n             ReLU-35            [-1, 64, 16, 8]               0\n           Conv2d-36            [-1, 64, 16, 8]          36,864\n      BatchNorm2d-37            [-1, 64, 16, 8]             128\n           Conv2d-38            [-1, 64, 16, 8]           2,048\n      BatchNorm2d-39            [-1, 64, 16, 8]             128\n             ReLU-40            [-1, 64, 16, 8]               0\n       BasicBlock-41            [-1, 64, 16, 8]               0\n           Conv2d-42            [-1, 64, 16, 8]          36,864\n      BatchNorm2d-43            [-1, 64, 16, 8]             128\n             ReLU-44            [-1, 64, 16, 8]               0\n           Conv2d-45            [-1, 64, 16, 8]          36,864\n      BatchNorm2d-46            [-1, 64, 16, 8]             128\n             ReLU-47            [-1, 64, 16, 8]               0\n       BasicBlock-48            [-1, 64, 16, 8]               0\n           Conv2d-49            [-1, 64, 16, 8]          36,864\n      BatchNorm2d-50            [-1, 64, 16, 8]             128\n             ReLU-51            [-1, 64, 16, 8]               0\n           Conv2d-52            [-1, 64, 16, 8]          36,864\n      BatchNorm2d-53            [-1, 64, 16, 8]             128\n             ReLU-54            [-1, 64, 16, 8]               0\n       BasicBlock-55            [-1, 64, 16, 8]               0\n           Conv2d-56            [-1, 64, 16, 8]          36,864\n      BatchNorm2d-57            [-1, 64, 16, 8]             128\n             ReLU-58            [-1, 64, 16, 8]               0\n           Conv2d-59            [-1, 64, 16, 8]          36,864\n      BatchNorm2d-60            [-1, 64, 16, 8]             128\n             ReLU-61            [-1, 64, 16, 8]               0\n       BasicBlock-62            [-1, 64, 16, 8]               0\n           Conv2d-63            [-1, 128, 8, 4]          73,728\n      BatchNorm2d-64            [-1, 128, 8, 4]             256\n             ReLU-65            [-1, 128, 8, 4]               0\n           Conv2d-66            [-1, 128, 8, 4]         147,456\n      BatchNorm2d-67            [-1, 128, 8, 4]             256\n           Conv2d-68            [-1, 128, 8, 4]           8,192\n      BatchNorm2d-69            [-1, 128, 8, 4]             256\n             ReLU-70            [-1, 128, 8, 4]               0\n       BasicBlock-71            [-1, 128, 8, 4]               0\n           Conv2d-72            [-1, 128, 8, 4]         147,456\n      BatchNorm2d-73            [-1, 128, 8, 4]             256\n             ReLU-74            [-1, 128, 8, 4]               0\n           Conv2d-75            [-1, 128, 8, 4]         147,456\n      BatchNorm2d-76            [-1, 128, 8, 4]             256\n             ReLU-77            [-1, 128, 8, 4]               0\n       BasicBlock-78            [-1, 128, 8, 4]               0\n           Conv2d-79            [-1, 128, 8, 4]         147,456\n      BatchNorm2d-80            [-1, 128, 8, 4]             256\n             ReLU-81            [-1, 128, 8, 4]               0\n           Conv2d-82            [-1, 128, 8, 4]         147,456\n      BatchNorm2d-83            [-1, 128, 8, 4]             256\n             ReLU-84            [-1, 128, 8, 4]               0\n       BasicBlock-85            [-1, 128, 8, 4]               0\n           Conv2d-86            [-1, 128, 8, 4]         147,456\n      BatchNorm2d-87            [-1, 128, 8, 4]             256\n             ReLU-88            [-1, 128, 8, 4]               0\n           Conv2d-89            [-1, 128, 8, 4]         147,456\n      BatchNorm2d-90            [-1, 128, 8, 4]             256\n             ReLU-91            [-1, 128, 8, 4]               0\n       BasicBlock-92            [-1, 128, 8, 4]               0\nAdaptiveAvgPool2d-93            [-1, 128, 1, 1]               0\n           Linear-94                   [-1, 35]           4,515\n================================================================\nTotal params: 1,475,203\nTrainable params: 1,475,203\nNon-trainable params: 0\n----------------------------------------------------------------\nInput size (MB): 0.01\nForward/backward pass size (MB): 7.94\nParams size (MB): 5.63\nEstimated Total Size (MB): 13.57\n----------------------------------------------------------------\n"
     ]
    }
   ],
   "source": [
    "from torchsummary import summary\n",
    "\n",
    "s = summary(student, input_shape)"
   ]
  },
  {
   "cell_type": "markdown",
   "metadata": {
    "pycharm": {
     "name": "#%% md\n"
    }
   },
   "source": [
    "# training parameters"
   ]
  },
  {
   "cell_type": "code",
   "execution_count": 194,
   "metadata": {
    "collapsed": false,
    "jupyter": {
     "outputs_hidden": false
    },
    "pycharm": {
     "name": "#%%\n"
    },
    "tags": []
   },
   "outputs": [
    {
     "output_type": "stream",
     "name": "stdout",
     "text": [
      "../tensorboard/speechcommand/mean-teacher/wideresnet28_2/0.1S/2021-02-19_16:18:15_wideresnet28_2_MSE_True-softmax_0-n\n"
     ]
    }
   ],
   "source": [
    "# tensorboard\n",
    "title_element = (args.model, args.supervised_ratio, get_datetime(), model_func.__name__,\n",
    "                 args.ccost_method.upper(), args.ccost_softmax, args.teacher_noise)\n",
    "tensorboard_title = \"%s/%sS/%s_%s_%s_%s-softmax_%s-n\" % title_element\n",
    "\n",
    "title_element = (args.model, args.supervised_ratio, get_datetime(), model_func.__name__,\n",
    "                 args.ccost_method.upper(), args.ccost_softmax, args.teacher_noise)\n",
    "checkpoint_title = \"%s/%sS/%s_%s_%s_%s-softmax_%s-n\" % title_element\n",
    "\n",
    "tensorboard = mSummaryWriter(log_dir=\"%s/%s\" % (tensorboard_path, tensorboard_title), comment=model_func.__name__)\n",
    "print(os.path.join(tensorboard_path, tensorboard_title))"
   ]
  },
  {
   "cell_type": "markdown",
   "metadata": {},
   "source": [
    "## optimizer & callbacks"
   ]
  },
  {
   "cell_type": "code",
   "execution_count": 195,
   "metadata": {},
   "outputs": [],
   "source": [
    "optimizer = load_optimizer(args.dataset, \"mean-teacher\", student=student, learning_rate=args.learning_rate)\n",
    "callbacks = load_callbacks(args.dataset, \"mean-teacher\", optimizer=optimizer, nb_epoch=args.nb_epoch)"
   ]
  },
  {
   "cell_type": "code",
   "execution_count": 196,
   "metadata": {
    "collapsed": false,
    "jupyter": {
     "outputs_hidden": false
    },
    "pycharm": {
     "name": "#%%\n"
    },
    "tags": [
     "re_run"
    ]
   },
   "outputs": [
    {
     "output_type": "stream",
     "name": "stdout",
     "text": [
      "checkpoint initialise at:  /home/lcances/sync/Documents_sync/Projet/semi-supervised/notebooks/model_save/speechcommand/mean-teacher/wideresnet28_2/0.1S/2021-02-19_16:18:15_wideresnet28_2_MSE_True-softmax_0-n.torch\nname:  2021-02-19_16:18:15_wideresnet28_2_MSE_True-softmax_0-n.torch\nmode:  max\n"
     ]
    }
   ],
   "source": [
    "# losses\n",
    "loss_ce = nn.CrossEntropyLoss(reduction=\"mean\") # Supervised loss\n",
    "\n",
    "if args.ccost_method == \"mse\":\n",
    "    consistency_cost = nn.MSELoss(reduction=\"mean\") # Unsupervised loss\n",
    "elif args.ccost_method == \"js\":\n",
    "    consistency_cost = JensenShanon\n",
    "        \n",
    "lambda_cost = Warmup(args.lambda_cost_max, args.warmup_length, sigmoid_rampup)\n",
    "callbacks += [lambda_cost]\n",
    "\n",
    "# Checkpoint\n",
    "checkpoint = CheckPoint(student, optimizer, mode=\"max\", name=\"%s/%s.torch\" % (checkpoint_path, checkpoint_title))\n",
    "\n",
    "def get_lr(optimizer):\n",
    "    for param_group in optimizer.param_groups:\n",
    "        return param_group['lr']"
   ]
  },
  {
   "cell_type": "code",
   "execution_count": 197,
   "metadata": {},
   "outputs": [
    {
     "output_type": "execute_result",
     "data": {
      "text/plain": [
       "MSELoss()"
      ]
     },
     "metadata": {},
     "execution_count": 197
    }
   ],
   "source": [
    "consistency_cost"
   ]
  },
  {
   "cell_type": "markdown",
   "metadata": {},
   "source": [
    "## Metrics definition"
   ]
  },
  {
   "cell_type": "code",
   "execution_count": 198,
   "metadata": {},
   "outputs": [],
   "source": [
    "def metrics_calculator():\n",
    "    def c(logits, y):\n",
    "        with torch.no_grad():\n",
    "            y_one_hot = F.one_hot(y, num_classes=args.num_classes)\n",
    "            \n",
    "            pred = torch.softmax(logits, dim=1)\n",
    "            arg = torch.argmax(logits, dim=1)\n",
    "            \n",
    "            acc = c.fn.acc(arg, y).mean\n",
    "            f1 = c.fn.f1(pred, y_one_hot).mean\n",
    "            \n",
    "            return acc, f1,\n",
    "            \n",
    "    c.fn = DotDict(\n",
    "        acc = CategoricalAccuracy(),\n",
    "        f1 = FScore(),\n",
    "    )\n",
    "    \n",
    "    return c"
   ]
  },
  {
   "cell_type": "code",
   "execution_count": 199,
   "metadata": {},
   "outputs": [],
   "source": [
    "calc_student_s_metrics = metrics_calculator()\n",
    "calc_student_u_metrics = metrics_calculator()\n",
    "calc_teacher_s_metrics = metrics_calculator()\n",
    "calc_teacher_u_metrics = metrics_calculator()\n",
    "\n",
    "avg_Sce = ContinueAverage()\n",
    "avg_Tce = ContinueAverage()\n",
    "avg_ccost = ContinueAverage()\n",
    "\n",
    "softmax_fn = lambda x: x\n",
    "if args.ccost_softmax:\n",
    "    softmax_fn = nn.Softmax(dim=1)\n",
    "\n",
    "def reset_metrics():\n",
    "    for d in [calc_student_s_metrics.fn, calc_student_u_metrics.fn, calc_teacher_s_metrics.fn, calc_teacher_u_metrics.fn]:\n",
    "        for fn in d.values():\n",
    "            fn.reset()\n",
    "\n",
    "maximum_tracker = track_maximum()"
   ]
  },
  {
   "cell_type": "markdown",
   "metadata": {
    "pycharm": {
     "name": "#%% md\n"
    }
   },
   "source": [
    "## Can resume previous training"
   ]
  },
  {
   "cell_type": "code",
   "execution_count": 200,
   "metadata": {
    "pycharm": {
     "name": "#%%\n"
    }
   },
   "outputs": [],
   "source": [
    "if args.resume:\n",
    "    checkpoint.load_last()"
   ]
  },
  {
   "cell_type": "code",
   "execution_count": 201,
   "metadata": {},
   "outputs": [
    {
     "output_type": "execute_result",
     "data": {
      "text/plain": [
       "False"
      ]
     },
     "metadata": {},
     "execution_count": 201
    }
   ],
   "source": [
    "args.resume"
   ]
  },
  {
   "cell_type": "markdown",
   "metadata": {
    "pycharm": {
     "name": "#%% md\n"
    }
   },
   "source": [
    "## training function"
   ]
  },
  {
   "cell_type": "code",
   "execution_count": 202,
   "metadata": {
    "collapsed": false,
    "jupyter": {
     "outputs_hidden": false
    },
    "pycharm": {
     "name": "#%%\n"
    },
    "tags": []
   },
   "outputs": [
    {
     "output_type": "stream",
     "name": "stdout",
     "text": [
      ".        Epoch  - %      - Student:   ce       ccost    acc_s    f1_s     acc_u    f1_u     | Teacher:   ce       acc_s    f1_s     acc_u    f1_u     - Time    \n"
     ]
    }
   ],
   "source": [
    "UNDERLINE_SEQ = \"\\033[1;4m\"\n",
    "RESET_SEQ = \"\\033[0m\"\n",
    "\n",
    "header_form = \"{:<8.8} {:<6.6} - {:<6.6} - {:<10.8} {:<8.6} {:<8.6} {:<8.6} {:<8.6} {:<8.6} {:<8.6} | {:<10.8} {:<8.6} {:<8.6} {:<8.6} {:<8.6} {:<8.6} - {:<8.6}\"\n",
    "value_form  = \"{:<8.8} {:<6d} - {:<6d} - {:<10.8} {:<8.4f} {:<8.4f} {:<8.4f} {:<8.4f} {:<8.4f} {:<8.4f} | {:<10.8} {:<8.4f} {:<8.4f} {:<8.4f} {:<8.4f} {:<8.4f} - {:<8.4f}\"\n",
    "header = header_form.format(\".               \", \"Epoch\",  \"%\", \"Student:\", \"ce\", \"ccost\", \"acc_s\", \"f1_s\", \"acc_u\", \"f1_u\", \"Teacher:\", \"ce\", \"acc_s\", \"f1_s\", \"acc_u\", \"f1_u\" , \"Time\")\n",
    "\n",
    "train_form = value_form\n",
    "val_form = UNDERLINE_SEQ + value_form + RESET_SEQ\n",
    "\n",
    "print(header)"
   ]
  },
  {
   "cell_type": "code",
   "execution_count": 203,
   "metadata": {},
   "outputs": [],
   "source": [
    "def update_teacher_model(student_model, teacher_model, alpha, epoch):\n",
    "    \n",
    "    # Use the true average until the exponential average is more correct\n",
    "    alpha = min(1 - 1 / (epoch + 1), alpha)\n",
    "    \n",
    "    for param, ema_param in zip(student_model.parameters(), teacher_model.parameters()):\n",
    "        ema_param.data.mul_(alpha).add_(param.data,  alpha = 1-alpha)\n",
    "\n",
    "\n",
    "noise_fn = lambda x: x\n",
    "if args.teacher_noise != 0:\n",
    "    n_db = args.teacher_noise\n",
    "    noise_fn = transforms.Lambda(lambda x: x + (torch.rand(x.shape).cuda() * n_db + n_db))"
   ]
  },
  {
   "cell_type": "code",
   "execution_count": 204,
   "metadata": {
    "tags": [
     "re_run"
    ]
   },
   "outputs": [],
   "source": [
    "def train(epoch):\n",
    "    start_time = time.time()\n",
    "    print(\"\")\n",
    "    \n",
    "    nb_batch = len(train_loader)\n",
    "\n",
    "    reset_metrics()\n",
    "    student.train()\n",
    "\n",
    "    for i, (S, U) in enumerate(train_loader):        \n",
    "        x_s, y_s = S\n",
    "        x_u, y_u = U\n",
    "        \n",
    "        x_s, x_u = x_s.cuda(), x_u.cuda()\n",
    "        y_s, y_u = y_s.cuda(), y_u.cuda()\n",
    "        \n",
    "        # Predictions\n",
    "        student_s_logits = student(x_s)        \n",
    "        student_u_logits = student(x_u)\n",
    "        teacher_s_logits = teacher(noise_fn(x_s))\n",
    "        teacher_u_logits = teacher(noise_fn(x_u))\n",
    "        \n",
    "        # Calculate supervised loss (only student on S)\n",
    "        loss = loss_ce(student_s_logits, y_s)\n",
    "        \n",
    "        # Calculate consistency cost (mse(student(x), teacher(x))) x is S + U\n",
    "        student_logits = torch.cat((student_s_logits, student_u_logits), dim=0)\n",
    "        teacher_logits = torch.cat((teacher_s_logits, teacher_u_logits), dim=0)\n",
    "        ccost = consistency_cost(softmax_fn(student_logits), softmax_fn(teacher_logits))\n",
    "\n",
    "        total_loss = loss + lambda_cost() * ccost\n",
    "        \n",
    "        optimizer.zero_grad()\n",
    "        total_loss.backward()\n",
    "        optimizer.step()\n",
    "\n",
    "        with torch.set_grad_enabled(False):\n",
    "            # Teacher prediction (for metrics purpose)\n",
    "            _teacher_loss = loss_ce(teacher_s_logits, y_s)\n",
    "            \n",
    "            # Update teacher\n",
    "            update_teacher_model(student, teacher, args.ema_alpha, epoch*nb_batch + i)\n",
    "            \n",
    "            # Compute the metrics for the student\n",
    "            student_s_metrics = calc_student_s_metrics(student_s_logits, y_s)\n",
    "            student_u_metrics = calc_student_u_metrics(student_u_logits, y_u)\n",
    "            student_s_acc, student_s_f1, student_u_acc, student_u_f1 = *student_s_metrics, *student_u_metrics\n",
    "            \n",
    "            # Compute the metrics for the teacher\n",
    "            teacher_s_metrics = calc_teacher_s_metrics(teacher_s_logits, y_s)\n",
    "            teacher_u_metrics = calc_teacher_u_metrics(teacher_u_logits, y_u)\n",
    "            teacher_s_acc, teacher_s_f1, teacher_u_acc, teacher_u_f1 = *teacher_s_metrics, *teacher_u_metrics\n",
    "            \n",
    "            # Running average of the two losses\n",
    "            student_running_loss = avg_Sce(loss.item()).mean\n",
    "            teacher_running_loss = avg_Tce(_teacher_loss.item()).mean\n",
    "            running_ccost = avg_ccost(ccost.item()).mean\n",
    "\n",
    "            # logs\n",
    "            print(train_form.format(\n",
    "                \"Training: \", epoch + 1, int(100 * (i + 1) / nb_batch),\n",
    "                \"\", student_running_loss, running_ccost, *student_s_metrics, *student_u_metrics,\n",
    "                \"\", teacher_running_loss, *teacher_s_metrics, *teacher_u_metrics,\n",
    "                time.time() - start_time\n",
    "            ), end=\"\\r\")\n",
    "\n",
    "    tensorboard.add_scalar(\"train/student_acc_s\", student_s_acc, epoch)\n",
    "    tensorboard.add_scalar(\"train/student_acc_u\", student_u_acc, epoch)\n",
    "    tensorboard.add_scalar(\"train/student_f1_s\", student_s_f1, epoch)\n",
    "    tensorboard.add_scalar(\"train/student_f1_u\", student_u_f1, epoch)\n",
    "    \n",
    "    tensorboard.add_scalar(\"train/teacher_acc_s\", teacher_s_acc, epoch)\n",
    "    tensorboard.add_scalar(\"train/teacher_acc_u\", teacher_u_acc, epoch)\n",
    "    tensorboard.add_scalar(\"train/teacher_f1_s\", teacher_s_f1, epoch)\n",
    "    tensorboard.add_scalar(\"train/teacher_f1_u\", teacher_u_f1, epoch)\n",
    "    \n",
    "    tensorboard.add_scalar(\"train/student_loss\", student_running_loss, epoch)\n",
    "    tensorboard.add_scalar(\"train/teacher_loss\", teacher_running_loss, epoch)\n",
    "    tensorboard.add_scalar(\"train/consistency_cost\", running_ccost, epoch)"
   ]
  },
  {
   "cell_type": "code",
   "execution_count": 205,
   "metadata": {
    "collapsed": false,
    "jupyter": {
     "outputs_hidden": false
    },
    "pycharm": {
     "name": "#%%\n"
    },
    "tags": [
     "re_run"
    ]
   },
   "outputs": [],
   "source": [
    "def val(epoch):\n",
    "    start_time = time.time()\n",
    "    print(\"\")\n",
    "    reset_metrics()\n",
    "    student.eval()\n",
    "    \n",
    "    with torch.set_grad_enabled(False):\n",
    "        for i, (X, y) in enumerate(val_loader):\n",
    "            X = X.cuda()\n",
    "            y = y.cuda()\n",
    "\n",
    "            # Predictions\n",
    "            student_logits = student(X)        \n",
    "            teacher_logits = teacher(X)\n",
    "\n",
    "            # Calculate supervised loss (only student on S)\n",
    "            loss = loss_ce(student_logits, y)\n",
    "            _teacher_loss = loss_ce(teacher_logits, y) # for metrics only\n",
    "            ccost = consistency_cost(softmax_fn(student_logits), softmax_fn(teacher_logits))\n",
    "            \n",
    "            # Compute the metrics\n",
    "            y_one_hot = F.one_hot(y, num_classes=args.num_classes)\n",
    "            \n",
    "            # ---- student ----\n",
    "            student_metrics = calc_student_s_metrics(student_logits, y)\n",
    "            student_acc, student_f1 = student_metrics\n",
    "            \n",
    "            # ---- teacher ----\n",
    "            teacher_metrics = calc_teacher_s_metrics(teacher_logits, y)\n",
    "            teacher_acc, teacher_f1 = teacher_metrics\n",
    "\n",
    "            # Running average of the two losses\n",
    "            student_running_loss = avg_Sce(loss.item()).mean\n",
    "            teacher_running_loss = avg_Tce(_teacher_loss.item()).mean\n",
    "            running_ccost = avg_ccost(ccost.item()).mean\n",
    "\n",
    "            # logs\n",
    "            print(val_form.format(\n",
    "                \"Validation: \", epoch + 1, int(100 * (i + 1) / len(val_loader)),\n",
    "                \"\", student_running_loss, running_ccost, *student_metrics, 0.0, 0.0,\n",
    "                \"\", teacher_running_loss, *teacher_metrics, 0.0, 0.0,\n",
    "                time.time() - start_time\n",
    "            ), end=\"\\r\")\n",
    "\n",
    "    tensorboard.add_scalar(\"val/student_acc\", student_acc, epoch)\n",
    "    tensorboard.add_scalar(\"val/student_f1\", student_f1, epoch)\n",
    "    tensorboard.add_scalar(\"val/teacher_acc\", teacher_acc, epoch)\n",
    "    tensorboard.add_scalar(\"val/teacher_f1\", teacher_f1, epoch)\n",
    "    tensorboard.add_scalar(\"val/student_loss\", student_running_loss, epoch)\n",
    "    tensorboard.add_scalar(\"val/teacher_loss\", teacher_running_loss, epoch)\n",
    "    tensorboard.add_scalar(\"val/consistency_cost\", running_ccost, epoch)\n",
    "    \n",
    "    tensorboard.add_scalar(\"hyperparameters/learning_rate\", get_lr(optimizer), epoch)\n",
    "    tensorboard.add_scalar(\"hyperparameters/lambda_cost_max\", lambda_cost(), epoch)\n",
    "    \n",
    "    tensorboard.add_scalar(\"max/student_acc\", maximum_tracker(\"student_acc\", student_acc), epoch )\n",
    "    tensorboard.add_scalar(\"max/teacher_acc\", maximum_tracker(\"teacher_acc\", teacher_acc), epoch )\n",
    "    tensorboard.add_scalar(\"max/student_f1\", maximum_tracker(\"student_f1\", student_f1), epoch )\n",
    "    tensorboard.add_scalar(\"max/teacher_f1\", maximum_tracker(\"teacher_f1\", teacher_f1), epoch )\n",
    "\n",
    "    checkpoint.step(teacher_acc)\n",
    "    for c in callbacks:\n",
    "        c.step()\n"
   ]
  },
  {
   "cell_type": "markdown",
   "metadata": {},
   "source": [
    "# Training"
   ]
  },
  {
   "cell_type": "code",
   "execution_count": 206,
   "metadata": {
    "collapsed": false,
    "jupyter": {
     "outputs_hidden": false
    },
    "pycharm": {
     "name": "#%%\n"
    },
    "scrolled": true,
    "tags": [
     "outputPrepend"
    ]
   },
   "outputs": [
    {
     "output_type": "stream",
     "name": "stdout",
     "text": [
      "8   0.0000   0.0000   |            0.3408   0.7171   0.7297   0.0000   0.0000   - 6.3436  \u001b[0m\n",
      "Training 133    - 100    -            0.3750   0.0014   0.9688   0.9759   0.8021   0.8137   |            0.3389   0.9711   0.9777   0.8030   0.8149   - 214.9454\n",
      "\n",
      "Training 134    - 100    -            0.3745   0.0014   0.9685   0.9753   0.8018   0.8132   |            0.3387   0.9697   0.9759   0.8023   0.8137   - 215.2097\n",
      "\u001b[1;4mValidati 134    - 100    -            0.3760   0.0014   0.7163   0.7314   0.0000   0.0000   |            0.3404   0.7214   0.7332   0.0000   0.0000   - 6.4468  \u001b[0m\n",
      "Training 135    - 100    -            0.3739   0.0014   0.9684   0.9756   0.8013   0.8125   |            0.3385   0.9708   0.9767   0.8032   0.8145   - 215.2604\n",
      "\u001b[1;4mValidati 135    - 100    -            0.3755   0.0014   0.7070   0.7227   0.0000   0.0000   |            0.3402   0.7192   0.7318   0.0000   0.0000   - 6.4571  \u001b[0m\n",
      "Training 136    - 100    -            0.3734   0.0014   0.9665   0.9746   0.8015   0.8130   |            0.3383   0.9699   0.9775   0.8033   0.8146   - 226.5000\n",
      "\u001b[1;4mValidati 136    - 100    -            0.3750   0.0014   0.7101   0.7258   0.0000   0.0000   |            0.3400   0.7166   0.7300   0.0000   0.0000   - 6.4667  \u001b[0m\n",
      "Training 137    - 100    -            0.3730   0.0014   0.9677   0.9750   0.8028   0.8136   |            0.3382   0.9704   0.9776   0.8032   0.8141   - 224.5985\n",
      "\u001b[1;4mValidati 137    - 100    -            0.3745   0.0014   0.7105   0.7257   0.0000   0.0000   |            0.3398   0.7186   0.7304   0.0000   0.0000   - 6.5221  \u001b[0m\n",
      "\n",
      "\u001b[1;4mValidati 138    - 100    -            0.3739   0.0014   0.7141   0.7286   0.0000   0.0000   |            0.3396   0.7164   0.7291   0.0000   0.0000   - 6.4964  \u001b[0m\n",
      "Training 139    - 100    -            0.3719   0.0014   0.9668   0.9742   0.8022   0.8135   |            0.3378   0.9679   0.9756   0.8027   0.8142   - 240.2484\n",
      "\u001b[1;4mValidati 139    - 100    -            0.3735   0.0014   0.7141   0.7281   0.0000   0.0000   |            0.3395   0.7154   0.7276   0.0000   0.0000   - 6.5904  \u001b[0m\n",
      "Training 140    - 100    -            0.3715   0.0014   0.9679   0.9747   0.8001   0.8117   |            0.3377   0.9692   0.9758   0.8017   0.8133   - 228.1421\n",
      "\u001b[1;4mValidati 140    - 100    -            0.3730   0.0014   0.7120   0.7289   0.0000   0.0000   |            0.3393   0.7174   0.7296   0.0000   0.0000   - 6.5051  \u001b[0m\n",
      "Training 141    - 100    -            0.3710   0.0014   0.9684   0.9754   0.8023   0.8134   |            0.3375   0.9718   0.9781   0.8022   0.8135   - 216.9479\n",
      "\u001b[1;4mValidati 141    - 100    -            0.3726   0.0014   0.7058   0.7206   0.0000   0.0000   |            0.3391   0.7189   0.7307   0.0000   0.0000   - 6.6306  \u001b[0m\n",
      "Training 142    - 100    -            0.3706   0.0014   0.9678   0.9750   0.8020   0.8133   |            0.3374   0.9704   0.9773   0.8030   0.8144   - 223.4272\n",
      "\u001b[1;4mValidati 142    - 100    -            0.3721   0.0014   0.7106   0.7251   0.0000   0.0000   |            0.3390   0.7179   0.7288   0.0000   0.0000   - 6.5779  \u001b[0m\n",
      "Training 143    - 100    -            0.3702   0.0014   0.9688   0.9761   0.8021   0.8130   |            0.3373   0.9714   0.9779   0.8023   0.8136   - 228.6335\n",
      "\u001b[1;4mValidati 143    - 100    -            0.3718   0.0014   0.7118   0.7265   0.0000   0.0000   |            0.3389   0.7198   0.7319   0.0000   0.0000   - 6.6561  \u001b[0m\n",
      "Training 144    - 100    -            0.3698   0.0014   0.9678   0.9752   0.8020   0.8132   |            0.3371   0.9717   0.9775   0.8026   0.8137   - 242.8816\n",
      "\u001b[1;4mValidati 144    - 100    -            0.3713   0.0014   0.7115   0.7274   0.0000   0.0000   |            0.3388   0.7171   0.7288   0.0000   0.0000   - 6.7161  \u001b[0m\n",
      "Training 145    - 100    -            0.3694   0.0013   0.9680   0.9751   0.8019   0.8128   |            0.3370   0.9706   0.9766   0.8025   0.8133   - 214.9192\n",
      "\u001b[1;4mValidati 145    - 100    -            0.3709   0.0013   0.7101   0.7252   0.0000   0.0000   |            0.3386   0.7194   0.7314   0.0000   0.0000   - 6.6386  \u001b[0m\n",
      "Training 146    - 100    -            0.3690   0.0013   0.9687   0.9763   0.8029   0.8138   |            0.3369   0.9719   0.9779   0.8035   0.8146   - 216.1472\n",
      "\u001b[1;4mValidati 146    - 100    -            0.3705   0.0013   0.7093   0.7246   0.0000   0.0000   |            0.3385   0.7203   0.7307   0.0000   0.0000   - 6.6664  \u001b[0m\n",
      "\n",
      "\u001b[1;4mValidati 147    - 100    -            0.3701   0.0013   0.7137   0.7276   0.0000   0.0000   |            0.3384   0.7190   0.7308   0.0000   0.0000   - 6.6590  \u001b[0m\n",
      "\n",
      "\u001b[1;4mValidati 148    - 100    -            0.3697   0.0013   0.7129   0.7276   0.0000   0.0000   |            0.3383   0.7203   0.7305   0.0000   0.0000   - 6.6973  \u001b[0m\n",
      "Training 149    - 100    -            0.3678   0.0013   0.9686   0.9758   0.8031   0.8141   |            0.3367   0.9713   0.9778   0.8036   0.8144   - 223.4004\n",
      "\u001b[1;4mValidati 149    - 100    -            0.3693   0.0013   0.7077   0.7231   0.0000   0.0000   |            0.3382   0.7200   0.7314   0.0000   0.0000   - 6.8093  \u001b[0m\n",
      "Training 150    - 100    -            0.3675   0.0013   0.9688   0.9761   0.8026   0.8135   |            0.3366   0.9712   0.9774   0.8032   0.8141   - 226.6680\n",
      "\u001b[1;4mValidati 150    - 100    -            0.3690   0.0013   0.7130   0.7270   0.0000   0.0000   |            0.3382   0.7177   0.7288   0.0000   0.0000   - 6.7269  \u001b[0m\n",
      "Training 151    - 100    -            0.3671   0.0013   0.9698   0.9770   0.8041   0.8149   |            0.3365   0.9715   0.9783   0.8040   0.8153   - 223.4622\n",
      "\u001b[1;4mValidati 151    - 100    -            0.3686   0.0013   0.7096   0.7242   0.0000   0.0000   |            0.3381   0.7180   0.7285   0.0000   0.0000   - 6.8192  \u001b[0m\n",
      "Training 152    - 100    -            0.3668   0.0013   0.9685   0.9760   0.8042   0.8151   |            0.3364   0.9718   0.9783   0.8046   0.8156   - 235.7336\n",
      "\u001b[1;4mValidati 152    - 100    -            0.3683   0.0013   0.7124   0.7265   0.0000   0.0000   |            0.3380   0.7207   0.7308   0.0000   0.0000   - 6.8085  \u001b[0m\n",
      "Training 153    - 100    -            0.3665   0.0013   0.9678   0.9756   0.8034   0.8141   |            0.3364   0.9712   0.9774   0.8043   0.8150   - 281.9205\n",
      "\u001b[1;4mValidati 153    - 100    -            0.3680   0.0013   0.7071   0.7204   0.0000   0.0000   |            0.3379   0.7186   0.7297   0.0000   0.0000   - 8.3208  \u001b[0m\n",
      "Training 154    - 100    -            0.3662   0.0013   0.9690   0.9763   0.8034   0.8142   |            0.3363   0.9713   0.9776   0.8036   0.8145   - 241.1346\n",
      "\u001b[1;4mValidati 154    - 100    -            0.3676   0.0013   0.7111   0.7238   0.0000   0.0000   |            0.3379   0.7192   0.7307   0.0000   0.0000   - 6.8509  \u001b[0m\n",
      "Training 155    - 100    -            0.3659   0.0013   0.9687   0.9759   0.8033   0.8142   |            0.3363   0.9724   0.9782   0.8036   0.8144   - 216.8924\n",
      "\u001b[1;4mValidati 155    - 100    -            0.3673   0.0013   0.7127   0.7267   0.0000   0.0000   |            0.3378   0.7211   0.7316   0.0000   0.0000   - 6.9030  \u001b[0m\n",
      "Training 156    - 100    -            0.3655   0.0013   0.9695   0.9762   0.8026   0.8137   |            0.3362   0.9717   0.9780   0.8038   0.8146   - 209.6642\n",
      "\u001b[1;4mValidati 156    - 100    -            0.3670   0.0013   0.7116   0.7254   0.0000   0.0000   |            0.3378   0.7182   0.7300   0.0000   0.0000   - 6.8897  \u001b[0m\n",
      "Training 157    - 100    -            0.3652   0.0013   0.9673   0.9748   0.8033   0.8145   |            0.3362   0.9726   0.9789   0.8034   0.8145   - 222.1296\n",
      "\u001b[1;4mValidati 157    - 100    -            0.3667   0.0013   0.7111   0.7253   0.0000   0.0000   |            0.3377   0.7188   0.7295   0.0000   0.0000   - 6.9278  \u001b[0m\n",
      "Training 158    - 100    -            0.3650   0.0013   0.9691   0.9767   0.8038   0.8143   |            0.3361   0.9716   0.9781   0.8042   0.8146   - 221.6183\n",
      "\u001b[1;4mValidati 158    - 100    -            0.3665   0.0013   0.7160   0.7287   0.0000   0.0000   |            0.3376   0.7211   0.7313   0.0000   0.0000   - 6.9504  \u001b[0m\n",
      "Training 159    - 100    -            0.3647   0.0012   0.9682   0.9756   0.8031   0.8140   |            0.3361   0.9718   0.9782   0.8037   0.8145   - 239.9765\n",
      "\u001b[1;4mValidati 159    - 100    -            0.3663   0.0012   0.7114   0.7241   0.0000   0.0000   |            0.3376   0.7203   0.7309   0.0000   0.0000   - 6.8443  \u001b[0m\n",
      "Training 160    - 100    -            0.3646   0.0012   0.9693   0.9759   0.8028   0.8136   |            0.3360   0.9717   0.9772   0.8031   0.8142   - 222.0337\n",
      "\u001b[1;4mValidati 160    - 100    -            0.3661   0.0012   0.7127   0.7256   0.0000   0.0000   |            0.3375   0.7212   0.7319   0.0000   0.0000   - 6.8715  \u001b[0m\n",
      "Training 161    - 100    -            0.3644   0.0012   0.9693   0.9756   0.8032   0.8139   |            0.3360   0.9718   0.9773   0.8032   0.8141   - 262.7929\n",
      "\u001b[1;4mValidati 161    - 100    -            0.3658   0.0012   0.7087   0.7224   0.0000   0.0000   |            0.3375   0.7192   0.7303   0.0000   0.0000   - 8.3898  \u001b[0m\n",
      "Training 162    - 100    -            0.3641   0.0012   0.9685   0.9760   0.8025   0.8133   |            0.3360   0.9723   0.9785   0.8027   0.8136   - 222.9301\n",
      "\u001b[1;4mValidati 162    - 100    -            0.3655   0.0012   0.7103   0.7228   0.0000   0.0000   |            0.3375   0.7210   0.7300   0.0000   0.0000   - 6.9516  \u001b[0m\n",
      "Training 163    - 100    -            0.3638   0.0012   0.9710   0.9776   0.8031   0.8139   |            0.3359   0.9721   0.9787   0.8030   0.8138   - 218.8489\n",
      "\u001b[1;4mValidati 163    - 100    -            0.3652   0.0012   0.7087   0.7238   0.0000   0.0000   |            0.3374   0.7193   0.7283   0.0000   0.0000   - 7.0163  \u001b[0m\n",
      "Training 164    - 100    -            0.3636   0.0012   0.9688   0.9753   0.8023   0.8131   |            0.3359   0.9726   0.9774   0.8023   0.8132   - 230.7200\n",
      "\n",
      "Training 165    - 100    -            0.3634   0.0012   0.9692   0.9765   0.8036   0.8141   |            0.3359   0.9706   0.9777   0.8036   0.8144   - 219.2189\n",
      "\u001b[1;4mValidati 165    - 100    -            0.3648   0.0012   0.7120   0.7254   0.0000   0.0000   |            0.3374   0.7197   0.7296   0.0000   0.0000   - 6.9898  \u001b[0m\n",
      "Training 166    - 100    -            0.3631   0.0012   0.9691   0.9764   0.8031   0.8137   |            0.3359   0.9732   0.9790   0.8030   0.8137   - 218.4214\n",
      "\u001b[1;4mValidati 166    - 100    -            0.3645   0.0012   0.7120   0.7249   0.0000   0.0000   |            0.3374   0.7225   0.7325   0.0000   0.0000   - 6.9903  \u001b[0m\n",
      "Training 167    - 100    -            0.3629   0.0012   0.9690   0.9758   0.8042   0.8147   |            0.3359   0.9726   0.9774   0.8040   0.8148   - 219.3489\n",
      "\u001b[1;4mValidati 167    - 100    -            0.3643   0.0012   0.7136   0.7259   0.0000   0.0000   |            0.3373   0.7216   0.7314   0.0000   0.0000   - 7.0266  \u001b[0m\n",
      "Training 168    - 100    -            0.3627   0.0012   0.9707   0.9772   0.8043   0.8151   |            0.3359   0.9726   0.9786   0.8045   0.8152   - 230.6509\n",
      "\n",
      "Training 169    - 100    -            0.3625   0.0012   0.9711   0.9772   0.8042   0.8150   |            0.3358   0.9729   0.9784   0.8040   0.8147   - 224.3124\n",
      "\u001b[1;4mValidati 169    - 100    -            0.3639   0.0012   0.7131   0.7259   0.0000   0.0000   |            0.3373   0.7238   0.7322   0.0000   0.0000   - 7.1111  \u001b[0m\n",
      "Training 170    - 100    -            0.3623   0.0012   0.9711   0.9778   0.8034   0.8142   |            0.3358   0.9734   0.9790   0.8035   0.8142   - 221.5256\n",
      "\u001b[1;4mValidati 170    - 100    -            0.3637   0.0012   0.7167   0.7275   0.0000   0.0000   |            0.3373   0.7235   0.7330   0.0000   0.0000   - 7.1594  \u001b[0m\n",
      "\n",
      "\u001b[1;4mValidati 171    - 100    -            0.3635   0.0012   0.7132   0.7262   0.0000   0.0000   |            0.3373   0.7237   0.7331   0.0000   0.0000   - 7.0870  \u001b[0m\n",
      "Training 172    - 100    -            0.3619   0.0012   0.9701   0.9770   0.8035   0.8141   |            0.3358   0.9733   0.9793   0.8037   0.8143   - 219.3330\n",
      "\u001b[1;4mValidati 172    - 100    -            0.3633   0.0012   0.7098   0.7227   0.0000   0.0000   |            0.3373   0.7211   0.7303   0.0000   0.0000   - 7.0868  \u001b[0m\n",
      "Training 173    - 100    -            0.3618   0.0012   0.9720   0.9785   0.8035   0.8142   |            0.3358   0.9747   0.9797   0.8032   0.8141   - 209.7294\n",
      "\u001b[1;4mValidati 173    - 100    -            0.3632   0.0012   0.7139   0.7248   0.0000   0.0000   |            0.3373   0.7216   0.7306   0.0000   0.0000   - 8.6880  \u001b[0m\n",
      "Training 174    - 100    -            0.3616   0.0012   0.9704   0.9763   0.8035   0.8140   |            0.3359   0.9723   0.9777   0.8037   0.8143   - 244.4411\n",
      "\u001b[1;4mValidati 174    - 100    -            0.3631   0.0012   0.7146   0.7256   0.0000   0.0000   |            0.3373   0.7225   0.7319   0.0000   0.0000   - 7.1527  \u001b[0m\n",
      "Training 175    - 100    -            0.3615   0.0011   0.9707   0.9768   0.8043   0.8148   |            0.3359   0.9733   0.9785   0.8043   0.8148   - 221.1644\n",
      "\n",
      "Training 176    - 100    -            0.3613   0.0011   0.9705   0.9766   0.8031   0.8137   |            0.3359   0.9721   0.9779   0.8038   0.8140   - 223.2796\n",
      "\u001b[1;4mValidati 176    - 100    -            0.3627   0.0011   0.7151   0.7263   0.0000   0.0000   |            0.3373   0.7221   0.7311   0.0000   0.0000   - 7.2883  \u001b[0m\n",
      "Training 177    - 100    -            0.3611   0.0011   0.9699   0.9773   0.8042   0.8148   |            0.3359   0.9712   0.9783   0.8040   0.8149   - 221.8681\n",
      "\u001b[1;4mValidati 177    - 100    -            0.3625   0.0011   0.7158   0.7280   0.0000   0.0000   |            0.3373   0.7225   0.7317   0.0000   0.0000   - 7.2637  \u001b[0m\n",
      "Training 178    - 100    -            0.3610   0.0011   0.9706   0.9771   0.8044   0.8150   |            0.3359   0.9720   0.9781   0.8044   0.8151   - 224.4870\n",
      "\n",
      "Training 179    - 100    -            0.3608   0.0011   0.9720   0.9775   0.8033   0.8138   |            0.3359   0.9733   0.9784   0.8034   0.8136   - 252.2295\n",
      "\u001b[1;4mValidati 179    - 100    -            0.3622   0.0011   0.7168   0.7279   0.0000   0.0000   |            0.3373   0.7223   0.7330   0.0000   0.0000   - 7.2960  \u001b[0m\n",
      "\n",
      "\u001b[1;4mValidati 180    - 100    -            0.3620   0.0011   0.7173   0.7276   0.0000   0.0000   |            0.3373   0.7221   0.7303   0.0000   0.0000   - 7.1897  \u001b[0m\n",
      "Training 181    - 100    -            0.3605   0.0011   0.9715   0.9770   0.8036   0.8142   |            0.3359   0.9727   0.9778   0.8038   0.8144   - 219.3273\n",
      "\u001b[1;4mValidati 181    - 100    -            0.3619   0.0011   0.7164   0.7287   0.0000   0.0000   |            0.3373   0.7201   0.7298   0.0000   0.0000   - 7.2416  \u001b[0m\n",
      "Training 182    - 100    -            0.3604   0.0011   0.9716   0.9780   0.8042   0.8146   |            0.3360   0.9726   0.9786   0.8041   0.8144   - 225.9766\n",
      "\u001b[1;4mValidati 182    - 100    -            0.3617   0.0011   0.7138   0.7261   0.0000   0.0000   |            0.3373   0.7237   0.7323   0.0000   0.0000   - 8.7987  \u001b[0m\n",
      "Training 183    - 100    -            0.3602   0.0011   0.9721   0.9783   0.8046   0.8150   |            0.3360   0.9726   0.9786   0.8046   0.8150   - 255.6180\n",
      "\u001b[1;4mValidati 183    - 100    -            0.3616   0.0011   0.7115   0.7248   0.0000   0.0000   |            0.3373   0.7231   0.7303   0.0000   0.0000   - 7.3059  \u001b[0m\n",
      "Training 184    - 100    -            0.3601   0.0011   0.9733   0.9788   0.8039   0.8147   |            0.3360   0.9739   0.9792   0.8040   0.8147   - 227.0402\n",
      "\u001b[1;4mValidati 184    - 100    -            0.3614   0.0011   0.7111   0.7243   0.0000   0.0000   |            0.3373   0.7209   0.7302   0.0000   0.0000   - 7.3424  \u001b[0m\n",
      "Training 185    - 100    -            0.3599   0.0011   0.9716   0.9781   0.8045   0.8152   |            0.3360   0.9725   0.9784   0.8046   0.8153   - 222.7902\n",
      "\u001b[1;4mValidati 185    - 100    -            0.3613   0.0011   0.7163   0.7268   0.0000   0.0000   |            0.3373   0.7227   0.7327   0.0000   0.0000   - 7.3923  \u001b[0m\n",
      "Training 186    - 100    -            0.3598   0.0011   0.9714   0.9774   0.8045   0.8151   |            0.3360   0.9721   0.9778   0.8047   0.8154   - 223.1041\n",
      "\u001b[1;4mValidati 186    - 100    -            0.3611   0.0011   0.7125   0.7243   0.0000   0.0000   |            0.3374   0.7237   0.7330   0.0000   0.0000   - 7.3749  \u001b[0m\n",
      "Training 187    - 100    -            0.3597   0.0011   0.9729   0.9790   0.8052   0.8154   |            0.3360   0.9732   0.9794   0.8052   0.8154   - 222.8619\n",
      "\n",
      "Training 188    - 100    -            0.3595   0.0011   0.9718   0.9791   0.8045   0.8150   |            0.3360   0.9724   0.9795   0.8043   0.8149   - 223.0064\n",
      "\n",
      "Training 189    - 100    -            0.3594   0.0011   0.9753   0.9803   0.8047   0.8150   |            0.3360   0.9759   0.9804   0.8046   0.8149   - 223.3403\n",
      "\u001b[1;4mValidati 189    - 100    -            0.3607   0.0011   0.7161   0.7272   0.0000   0.0000   |            0.3374   0.7210   0.7298   0.0000   0.0000   - 7.4199  \u001b[0m\n",
      "Training 190    - 100    -            0.3593   0.0011   0.9739   0.9791   0.8046   0.8150   |            0.3361   0.9747   0.9797   0.8046   0.8150   - 224.8652\n",
      "\n",
      "Training 191    - 100    -            0.3592   0.0011   0.9723   0.9787   0.8046   0.8151   |            0.3361   0.9724   0.9788   0.8046   0.8150   - 232.4600\n",
      "\n",
      "Training 192    - 100    -            0.3590   0.0011   0.9717   0.9785   0.8052   0.8155   |            0.3361   0.9721   0.9786   0.8051   0.8154   - 269.5823\n",
      "\u001b[1;4mValidati 192    - 100    -            0.3603   0.0011   0.7126   0.7251   0.0000   0.0000   |            0.3374   0.7226   0.7310   0.0000   0.0000   - 9.0405  \u001b[0m\n",
      "Training 193    - 100    -            0.3589   0.0011   0.9738   0.9791   0.8048   0.8152   |            0.3361   0.9744   0.9793   0.8047   0.8152   - 234.7462\n",
      "\u001b[1;4mValidati 193    - 100    -            0.3601   0.0011   0.7153   0.7271   0.0000   0.0000   |            0.3374   0.7224   0.7309   0.0000   0.0000   - 7.4664  \u001b[0m\n",
      "Training 194    - 100    -            0.3587   0.0010   0.9727   0.9782   0.8042   0.8146   |            0.3361   0.9730   0.9785   0.8042   0.8146   - 226.5322\n",
      "\u001b[1;4mValidati 194    - 100    -            0.3600   0.0010   0.7166   0.7274   0.0000   0.0000   |            0.3374   0.7208   0.7312   0.0000   0.0000   - 7.6805  \u001b[0m\n",
      "Training 195    - 100    -            0.3586   0.0010   0.9743   0.9799   0.8046   0.8150   |            0.3361   0.9744   0.9799   0.8046   0.8150   - 224.7844\n",
      "\n",
      "Training 196    - 100    -            0.3585   0.0010   0.9730   0.9793   0.8044   0.8149   |            0.3362   0.9732   0.9793   0.8045   0.8150   - 241.1817\n",
      "\u001b[1;4mValidati 196    - 100    -            0.3598   0.0010   0.7139   0.7266   0.0000   0.0000   |            0.3374   0.7241   0.7334   0.0000   0.0000   - 7.4950  \u001b[0m\n",
      "Training 197    - 100    -            0.3584   0.0010   0.9727   0.9783   0.8042   0.8145   |            0.3362   0.9728   0.9785   0.8042   0.8145   - 224.4557\n",
      "\u001b[1;4mValidati 197    - 100    -            0.3597   0.0010   0.7143   0.7256   0.0000   0.0000   |            0.3374   0.7249   0.7346   0.0000   0.0000   - 7.4834  \u001b[0m\n",
      "Training 198    - 100    -            0.3583   0.0010   0.9721   0.9780   0.8053   0.8157   |            0.3362   0.9721   0.9781   0.8053   0.8157   - 226.2730\n",
      "\u001b[1;4mValidati 198    - 100    -            0.3596   0.0010   0.7163   0.7272   0.0000   0.0000   |            0.3374   0.7229   0.7323   0.0000   0.0000   - 7.6485  \u001b[0m\n",
      "Training 199    - 100    -            0.3582   0.0010   0.9740   0.9800   0.8039   0.8147   |            0.3362   0.9740   0.9800   0.8039   0.8147   - 206.4833\n",
      "\u001b[1;4mValidati 199    - 100    -            0.3594   0.0010   0.7140   0.7268   0.0000   0.0000   |            0.3375   0.7215   0.7307   0.0000   0.0000   - 7.6304  \u001b[0m\n",
      "Training 200    - 100    -            0.3581   0.0010   0.9713   0.9780   0.8046   0.8154   |            0.3362   0.9713   0.9780   0.8046   0.8154   - 224.3874\n"
     ]
    }
   ],
   "source": [
    "print(header)\n",
    "\n",
    "start_epoch = checkpoint.epoch_counter\n",
    "end_epoch = args.nb_epoch\n",
    "\n",
    "for e in range(start_epoch, args.nb_epoch):\n",
    "    train(e)\n",
    "    val(e)\n",
    "    \n",
    "    tensorboard.flush()"
   ]
  },
  {
   "cell_type": "markdown",
   "metadata": {},
   "source": [
    "## Save the hyper parameters and the metrics"
   ]
  },
  {
   "cell_type": "code",
   "execution_count": null,
   "metadata": {},
   "outputs": [],
   "source": [
    "hparams = {}\n",
    "for key, value in args.__dict__.items():\n",
    "    hparams[key] = str(value)\n",
    "    \n",
    "final_metrics = {\n",
    "    \"max_student_acc\": maximum_tracker.max[\"student_acc\"],\n",
    "    \"max_teacher_acc\": maximum_tracker.max[\"teacher_acc\"],\n",
    "    \"max_student_f1\": maximum_tracker.max[\"student_f1\"],\n",
    "    \"max_teacher_f1\": maximum_tracker.max[\"teacher_f1\"],\n",
    "}\n",
    "tensorboard.add_hparams(hparams, final_metrics)\n",
    "\n",
    "source_code_img, padding_size = save_source_as_img(\"student-teacher.ipynb\")\n",
    "tensorboard.add_image(\"student-teacher___%s\" % padding_size, source_code_img , 0, dataformats=\"HW\")\n",
    "tensorboard.flush()\n",
    "tensorboard.close()"
   ]
  },
  {
   "cell_type": "markdown",
   "metadata": {},
   "source": [
    "## display"
   ]
  },
  {
   "cell_type": "code",
   "execution_count": null,
   "metadata": {},
   "outputs": [],
   "source": [
    "import matplotlib.pyplot as plt\n",
    "import numpy as np\n",
    "\n",
    "x = list(range(checkpoint.epoch_counter))\n",
    "sm = lambda y, w: np.convolve(y, np.ones(w)/w, mode='same')\n",
    "pp = lambda k: plt.plot(x, tensorboard.history[k], label=f\"{k} = {max(tensorboard.history[k])}\")\n",
    "spp = lambda k: plt.plot(x, sm(tensorboard.history[k], 5), label=f\"{k} = {max(tensorboard.history[k])}\")\n",
    "\n",
    "\n",
    "plt.figure(0, figsize=(30, 14))\n",
    "plt.subplot(2, 3, 1)\n",
    "pp(\"max/student_acc\")\n",
    "pp(\"max/teacher_acc\")\n",
    "plt.legend()\n",
    "\n",
    "plt.subplot(2, 3, 3)\n",
    "pp(\"hyperparameters/learning_rate\")\n",
    "plt.legend()\n",
    "\n",
    "plt.show()"
   ]
  }
 ],
 "metadata": {
  "kernelspec": {
   "name": "dct",
   "display_name": "dct",
   "language": "python"
  },
  "language_info": {
   "codemirror_mode": {
    "name": "ipython",
    "version": 3
   },
   "file_extension": ".py",
   "mimetype": "text/x-python",
   "name": "python",
   "nbconvert_exporter": "python",
   "pygments_lexer": "ipython3",
   "version": "3.8.0"
  }
 },
 "nbformat": 4,
 "nbformat_minor": 4
}